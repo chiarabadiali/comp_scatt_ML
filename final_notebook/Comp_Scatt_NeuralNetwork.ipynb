{
 "cells": [
  {
   "cell_type": "code",
   "execution_count": 1,
   "metadata": {},
   "outputs": [],
   "source": [
    "import pandas as pd \n",
    "import numpy as np\n",
    "import math\n",
    "import keras\n",
    "import tensorflow as tf\n",
    "import progressbar\n",
    "import os\n",
    "from os import listdir\n",
    "from matplotlib import pyplot"
   ]
  },
  {
   "cell_type": "markdown",
   "metadata": {},
   "source": [
    "## Print Dependencies\n",
    "\n",
    "\n",
    "Dependences are fundamental to record the computational environment."
   ]
  },
  {
   "cell_type": "code",
   "execution_count": 2,
   "metadata": {},
   "outputs": [
    {
     "name": "stdout",
     "output_type": "stream",
     "text": [
      "Python implementation: CPython\n",
      "Python version       : 3.9.6\n",
      "IPython version      : 7.23.1\n",
      "\n",
      "pandas    : 1.2.3\n",
      "keras     : 2.4.3\n",
      "numpy     : 1.19.5\n",
      "math      : unknown\n",
      "tensorflow: 2.5.0\n",
      "matplotlib: 3.4.2\n",
      "h5py      : 3.1.0\n",
      "\n",
      "Compiler    : Clang 12.0.0 (clang-1200.0.32.29)\n",
      "OS          : Darwin\n",
      "Release     : 19.6.0\n",
      "Machine     : x86_64\n",
      "Processor   : i386\n",
      "CPU cores   : 8\n",
      "Architecture: 64bit\n",
      "\n",
      " \n",
      "Last updated: Fri Jul 23 2021 16:40:39WEST\n",
      "\n"
     ]
    }
   ],
   "source": [
    "%load_ext watermark\n",
    "\n",
    "# python, ipython, packages, and machine characteristics\n",
    "%watermark -v -m -p pandas,keras,numpy,math,tensorflow,matplotlib,h5py\n",
    "\n",
    "# date\n",
    "print (\" \")\n",
    "%watermark -u -n -t -z"
   ]
  },
  {
   "cell_type": "markdown",
   "metadata": {},
   "source": [
    "## Some useful functions"
   ]
  },
  {
   "cell_type": "code",
   "execution_count": 3,
   "metadata": {},
   "outputs": [],
   "source": [
    "def prepare_data(class_data): \n",
    "    np.random.shuffle(class_data)\n",
    "    y = class_data_low[:,0]\n",
    "    x = class_data_low[:,1:10]\n",
    "    train_split = 0.85\n",
    "    train_limit = int(len(y)*train_split)\n",
    "    print(\"Training sample of: {0} \\nValuation sample: {1}\".format(train_limit, len(y)-train_limit))\n",
    "    x_train = x[:train_limit]\n",
    "    x_val = x[train_limit:]\n",
    "    y_train = y[:train_limit]\n",
    "    y_val = y[train_limit:]\n",
    "    if np.isnan(np.min(y)) == False:\n",
    "        return x_train, y_train, x_val, y_val"
   ]
  },
  {
   "cell_type": "code",
   "execution_count": 4,
   "metadata": {},
   "outputs": [],
   "source": [
    "def plot_histo(x, y, bins,logscale):\n",
    "    y = np.array(y)\n",
    "    pyplot.hist(y, bins, color = 'indianred', alpha=0.5, label='Osiris')\n",
    "    pyplot.legend(loc='upper right')\n",
    "    pyplot.xlabel('Probability')\n",
    "    if logscale == 1:\n",
    "        pyplot.yscale('log')\n",
    "    pyplot.title('Trained on ($p_e$, $p_{\\gamma}$, $\\omega_e$, $\\omega_{\\gamma}$, n)')\n",
    "    pyplot.show()"
   ]
  },
  {
   "cell_type": "code",
   "execution_count": 5,
   "metadata": {},
   "outputs": [],
   "source": [
    "def loaddata(name):\n",
    "     return np.loadtxt(name, delimiter=',')"
   ]
  },
  {
   "cell_type": "code",
   "execution_count": 6,
   "metadata": {},
   "outputs": [],
   "source": [
    "def balance_data(class_data, nbins):\n",
    "\n",
    "    from matplotlib import pyplot as plt\n",
    "    y = class_data[:,0]\n",
    "    n, edges, _ = plt.hist(y, nbins, color = 'indianred', alpha=0.5, label='Osiris')\n",
    "    n_max = int(n.max())\n",
    "    data = []\n",
    "    bar = progressbar.ProgressBar(maxval=len(class_data), \n",
    "                              widgets=[progressbar.Bar('=', '[', ']'), ' ', \n",
    "                                       progressbar.Percentage(), \n",
    "                                       \" of {0}\".format(len(class_data))])\n",
    "    bar.start()\n",
    "    for k, class_ in enumerate(class_data):\n",
    "        for i in range(len(n)):\n",
    "            edges_min = edges[i]\n",
    "            edges_max = edges[i+1]\n",
    "            if class_[0] > edges_min and class_[0] < edges_max:\n",
    "                for j in range(int(n_max/(n[i]))):\n",
    "                    data.append(class_)\n",
    "                break\n",
    "        bar.update(k+1)\n",
    "    bar.finish()\n",
    "\n",
    "    return np.array(data)"
   ]
  },
  {
   "cell_type": "code",
   "execution_count": 7,
   "metadata": {},
   "outputs": [],
   "source": [
    "def plot_history(history):\n",
    "    loss = history.history['loss']\n",
    "    val_loss = history.history['val_loss']\n",
    "\n",
    "    accuracy = history.history['mape']\n",
    "    val_accuracy = history.history['val_mape']\n",
    "\n",
    "\n",
    "    epochs = range(1, len(loss) + 1)\n",
    "    fig, ax1 = plt.subplots()\n",
    "\n",
    "    l1 = ax1.plot(epochs, loss, 'bo', label='Training loss')\n",
    "    vl1 = ax1.plot(epochs, val_loss, 'b', label='Validation loss')\n",
    "    ax1.set_title('Training and validation loss')\n",
    "    ax1.set_xlabel('Epochs')\n",
    "    ax1.set_ylabel('Loss (mae))')\n",
    "\n",
    "    ax2 = ax1.twinx()\n",
    "    ac2= ax2.plot(epochs, accuracy, 'o', c=\"red\", label='Training acc')\n",
    "    vac2= ax2.plot(epochs, val_accuracy, 'r', label='Validation acc')\n",
    "    ax2.set_ylabel('mape')\n",
    "\n",
    "    lns = l1 + vl1 + ac2 + vac2\n",
    "    labs = [l.get_label() for l in lns]\n",
    "    ax2.legend(lns, labs, loc=\"center right\")\n",
    "    fig.tight_layout()\n",
    "    fig.show()"
   ]
  },
  {
   "cell_type": "markdown",
   "metadata": {},
   "source": [
    "## Data-set loading"
   ]
  },
  {
   "cell_type": "code",
   "execution_count": 8,
   "metadata": {},
   "outputs": [],
   "source": [
    "class_data_low = loaddata(\"../final_data/{}.csv\".format('0-10'))\n",
    "class_data_high = loaddata(\"../final_data/{}.csv\".format('0-50'))\n",
    "class_data_shigh = loaddata(\"../final_data/{}.csv\".format('0-100'))"
   ]
  },
  {
   "cell_type": "markdown",
   "metadata": {},
   "source": [
    "## Our beautiful probability distributions (non balanced)"
   ]
  },
  {
   "cell_type": "code",
   "execution_count": 9,
   "metadata": {},
   "outputs": [
    {
     "name": "stdout",
     "output_type": "stream",
     "text": [
      "Training sample of: 2099605 \n",
      "Valuation sample: 370519\n",
      "Training sample of: 2099605 \n",
      "Valuation sample: 370519\n",
      "Training sample of: 2099605 \n",
      "Valuation sample: 370519\n"
     ]
    }
   ],
   "source": [
    "x0_train, y0_train, x0_val, y0_val = prepare_data(class_data_low)\n",
    "x1_train, y1_train, x1_val, y1_val = prepare_data(class_data_high)\n",
    "x2_train, y2_train, x2_val, y2_val = prepare_data(class_data_shigh)"
   ]
  },
  {
   "cell_type": "code",
   "execution_count": 10,
   "metadata": {},
   "outputs": [
    {
     "data": {
      "image/png": "[encoded data removed]",
      "text/plain": [
       "<Figure size 432x288 with 1 Axes>"
      ]
     },
     "metadata": {
      "needs_background": "light"
     },
     "output_type": "display_data"
    }
   ],
   "source": [
    "bins = np.linspace(0.0001, 0.015, 100)\n",
    "plot_histo(x0_train,y0_train,bins,0)"
   ]
  },
  {
   "cell_type": "code",
   "execution_count": 11,
   "metadata": {},
   "outputs": [
    {
     "data": {
      "image/png": "[encoded data removed]",
      "text/plain": [
       "<Figure size 432x288 with 1 Axes>"
      ]
     },
     "metadata": {
      "needs_background": "light"
     },
     "output_type": "display_data"
    }
   ],
   "source": [
    "bins = np.linspace(0.0001, 0.015, 100)\n",
    "plot_histo(x1_train,y1_train,bins,0)"
   ]
  },
  {
   "cell_type": "code",
   "execution_count": 12,
   "metadata": {},
   "outputs": [
    {
     "data": {
      "image/png": "[encoded data removed]",
      "text/plain": [
       "<Figure size 432x288 with 1 Axes>"
      ]
     },
     "metadata": {
      "needs_background": "light"
     },
     "output_type": "display_data"
    }
   ],
   "source": [
    "bins = np.linspace(0.0001, 0.015, 100)\n",
    "plot_histo(x2_train,y2_train,bins,0)"
   ]
  },
  {
   "cell_type": "markdown",
   "metadata": {},
   "source": [
    "## Balancing of the data"
   ]
  },
  {
   "cell_type": "code",
   "execution_count": 13,
   "metadata": {},
   "outputs": [
    {
     "name": "stderr",
     "output_type": "stream",
     "text": [
      "[=============================================================] 100% of 2470124\n"
     ]
    },
    {
     "data": {
      "image/png": "[encoded data removed]",
      "text/plain": [
       "<Figure size 432x288 with 1 Axes>"
      ]
     },
     "metadata": {
      "needs_background": "light"
     },
     "output_type": "display_data"
    }
   ],
   "source": [
    "class_data_low_b = balance_data(class_data_low, 100)"
   ]
  },
  {
   "cell_type": "code",
   "execution_count": 14,
   "metadata": {},
   "outputs": [
    {
     "name": "stderr",
     "output_type": "stream",
     "text": [
      "[=============================================================] 100% of 2469926\n"
     ]
    },
    {
     "data": {
      "image/png": "[encoded data removed]",
      "text/plain": [
       "<Figure size 432x288 with 1 Axes>"
      ]
     },
     "metadata": {
      "needs_background": "light"
     },
     "output_type": "display_data"
    }
   ],
   "source": [
    "class_data_high_b = balance_data(class_data_high, 100)"
   ]
  },
  {
   "cell_type": "code",
   "execution_count": null,
   "metadata": {},
   "outputs": [
    {
     "name": "stderr",
     "output_type": "stream",
     "text": [
      "[==========================================                   ]  69% of 2470117\r"
     ]
    }
   ],
   "source": [
    "class_data_shigh_b = balance_data(class_data_shigh, 100)"
   ]
  },
  {
   "cell_type": "code",
   "execution_count": null,
   "metadata": {},
   "outputs": [],
   "source": [
    "x0_train, y0_train, x0_val, y0_val = prepare_data(class_data_low_b)\n",
    "x1_train, y1_train, x1_val, y1_val = prepare_data(class_data_high_b)\n",
    "x2_train, y2_train, x2_val, y2_val = prepare_data(class_data_shigh_b)"
   ]
  },
  {
   "cell_type": "markdown",
   "metadata": {},
   "source": [
    "## Model Build\n",
    "\n",
    "__1)__ This is the first step in our chaing of Transfer Learning. We have to buil the model that we're going to reuse also in the next trainings. "
   ]
  },
  {
   "cell_type": "code",
   "execution_count": null,
   "metadata": {},
   "outputs": [],
   "source": [
    "from keras.models import Sequential\n",
    "from keras.layers.core import Dense\n",
    "import keras.backend as K\n",
    "from keras import optimizers\n",
    "from keras import models\n",
    "from keras import layers\n",
    "from keras.layers.normalization import BatchNormalization"
   ]
  },
  {
   "cell_type": "code",
   "execution_count": null,
   "metadata": {},
   "outputs": [],
   "source": [
    "def build_model() :\n",
    "    model = models.Sequential()\n",
    "    model.add (BatchNormalization(input_dim = 9))\n",
    "    model.add (layers.Dense (12 , activation = \"sigmoid\"))\n",
    "    model.add (layers.Dense (9 , activation = \"relu\"))\n",
    "    model.add (layers.Dense (1 , activation = \"sigmoid\"))\n",
    "    model.compile(optimizer = \"adam\" , loss = 'mae' , metrics = [\"mape\", tf.keras.metrics.KLDivergence()])\n",
    "    return model"
   ]
  },
  {
   "cell_type": "code",
   "execution_count": null,
   "metadata": {},
   "outputs": [],
   "source": [
    "model = build_model ()\n",
    "history0 = model.fit ( x_train0, y_train0, epochs = 5000, batch_size = 1000 , validation_data = (x_val0, y_val0) )\n",
    "model.save(\"../models/{}.h5\".format('transferlearning1'))"
   ]
  },
  {
   "cell_type": "code",
   "execution_count": null,
   "metadata": {},
   "outputs": [],
   "source": [
    "model.summary()"
   ]
  },
  {
   "cell_type": "code",
   "execution_count": null,
   "metadata": {},
   "outputs": [],
   "source": [
    "plot_history(history0)"
   ]
  },
  {
   "cell_type": "code",
   "execution_count": null,
   "metadata": {},
   "outputs": [],
   "source": [
    "history1 = model.fit ( x_train1, y_train1, epochs = 1000, batch_size = 1000, validation_data = (x_val1, y_val1) )"
   ]
  },
  {
   "cell_type": "code",
   "execution_count": null,
   "metadata": {},
   "outputs": [],
   "source": [
    "model.save(\"../models/{}.h5\".format('transferlearning2'))"
   ]
  },
  {
   "cell_type": "code",
   "execution_count": null,
   "metadata": {},
   "outputs": [],
   "source": [
    "plot_history(history1)"
   ]
  },
  {
   "cell_type": "code",
   "execution_count": null,
   "metadata": {},
   "outputs": [],
   "source": [
    "history2 = model.fit ( x_train2, y_train2, epochs = 1000, batch_size = 1000, validation_data = (x_val2, y_val2) )"
   ]
  },
  {
   "cell_type": "code",
   "execution_count": null,
   "metadata": {},
   "outputs": [],
   "source": [
    "model.save(\"../models/{}.h5\".format('transferlearning3'))"
   ]
  },
  {
   "cell_type": "code",
   "execution_count": null,
   "metadata": {},
   "outputs": [],
   "source": [
    "plot_history(history2)"
   ]
  },
  {
   "cell_type": "markdown",
   "metadata": {},
   "source": [
    "## Probability density distribution"
   ]
  },
  {
   "cell_type": "code",
   "execution_count": null,
   "metadata": {},
   "outputs": [],
   "source": [
    "x0_train, y0_train, x0_val, y0_val = prepare_data(class_data_low)\n",
    "x1_train, y1_train, x1_val, y1_val = prepare_data(class_data_high)\n",
    "x2_train, y2_train, x2_val, y2_val = prepare_data(class_data_shigh)"
   ]
  },
  {
   "cell_type": "code",
   "execution_count": null,
   "metadata": {},
   "outputs": [],
   "source": [
    "x_train = np.vstack((x0_train,x1_train,x2_train))\n",
    "x_val = np.vstack((x0_val,x1_val,x2_val))\n",
    "y_train = np.vstack((y0_train,y1_train,y2_train))\n",
    "y_val = np.vstack((y0_val,y1_val,y2_val))"
   ]
  },
  {
   "cell_type": "code",
   "execution_count": null,
   "metadata": {},
   "outputs": [],
   "source": [
    "y_pred0 = model.predict(x0_val)"
   ]
  },
  {
   "cell_type": "code",
   "execution_count": null,
   "metadata": {},
   "outputs": [],
   "source": [
    "from matplotlib import pyplot\n",
    "y0_val = np.array(y0_val)\n",
    "bins = np.linspace(0.0004, 0.6, 60)\n",
    "pyplot.hist(y0_val, bins, color = 'indianred', alpha=0.5, label='Osiris')\n",
    "pyplot.hist(y_pred0, bins, color = 'mediumslateblue', alpha=0.5, label='NN')\n",
    "#pyplot.yscale('log')\n",
    "pyplot.legend(loc='upper right')\n",
    "pyplot.xlabel('Probability')\n",
    "pyplot.title('Trained on ($p_e$, $p_{\\gamma}$, $\\omega_e$, $\\omega_{\\gamma}$, n)')\n",
    "pyplot.show()"
   ]
  },
  {
   "cell_type": "code",
   "execution_count": null,
   "metadata": {},
   "outputs": [],
   "source": [
    "y_pred1 = model.predict(x1_val)"
   ]
  },
  {
   "cell_type": "code",
   "execution_count": null,
   "metadata": {},
   "outputs": [],
   "source": [
    "from matplotlib import pyplot\n",
    "y1_val = np.array(y1_val)\n",
    "bins = np.linspace(0.001, 0.013, 100)\n",
    "pyplot.hist(y1_val, bins, color = 'indianred', alpha=0.5, label='Osiris')\n",
    "pyplot.hist(y_pred1, bins, color = 'mediumslateblue', alpha=0.5, label='NN')\n",
    "#pyplot.yscale('log')\n",
    "pyplot.legend(loc='upper right')\n",
    "pyplot.xlabel('Probability')\n",
    "pyplot.title('Trained on ($p_e$, $p_{\\gamma}$, $\\omega_e$, $\\omega_{\\gamma}$, n)')\n",
    "pyplot.show()"
   ]
  },
  {
   "cell_type": "code",
   "execution_count": null,
   "metadata": {},
   "outputs": [],
   "source": [
    "y_pred2 = model.predict(x2_val)"
   ]
  },
  {
   "cell_type": "code",
   "execution_count": null,
   "metadata": {},
   "outputs": [],
   "source": [
    "from matplotlib import pyplot\n",
    "y2_val = np.array(y2_val)\n",
    "bins = np.linspace(0.0004, 0.6, 60)\n",
    "pyplot.hist(y2_val, bins, color = 'indianred', alpha=0.5, label='Osiris')\n",
    "pyplot.hist(y_pred2, bins, color = 'mediumslateblue', alpha=0.5, label='NN')\n",
    "#pyplot.yscale('log')\n",
    "pyplot.legend(loc='upper right')\n",
    "pyplot.xlabel('Probability')\n",
    "pyplot.title('Trained on ($p_e$, $p_{\\gamma}$, $\\omega_e$, $\\omega_{\\gamma}$, n)')\n",
    "pyplot.show()"
   ]
  },
  {
   "cell_type": "code",
   "execution_count": null,
   "metadata": {},
   "outputs": [],
   "source": []
  }
 ],
 "metadata": {
  "kernelspec": {
   "display_name": "Python 3",
   "language": "python",
   "name": "python3"
  },
  "language_info": {
   "codemirror_mode": {
    "name": "ipython",
    "version": 3
   },
   "file_extension": ".py",
   "mimetype": "text/x-python",
   "name": "python",
   "nbconvert_exporter": "python",
   "pygments_lexer": "ipython3",
   "version": "3.9.6"
  }
 },
 "nbformat": 4,
 "nbformat_minor": 4
}
