{
 "cells": [
  {
   "cell_type": "code",
   "execution_count": 1,
   "metadata": {},
   "outputs": [],
   "source": [
    "import pandas as pd \n",
    "import numpy as np\n",
    "import math\n",
    "import keras\n",
    "import tensorflow as tf\n",
    "import progressbar\n",
    "import os\n",
    "from os import listdir\n",
    "from matplotlib import pyplot"
   ]
  },
  {
   "cell_type": "markdown",
   "metadata": {},
   "source": [
    "## Some useful functions"
   ]
  },
  {
   "cell_type": "code",
   "execution_count": 2,
   "metadata": {},
   "outputs": [],
   "source": [
    "def prepare_data(class_data): \n",
    "    np.random.shuffle(class_data)\n",
    "    y = class_data_low[:,0]\n",
    "    x = class_data_low[:,1:10]\n",
    "    train_split = 0.85\n",
    "    train_limit = int(len(y)*train_split)\n",
    "    print(\"Training sample of: {0} \\nValuation sample: {1}\".format(train_limit, len(y)-train_limit))\n",
    "    x_train = x[:train_limit]\n",
    "    x_val = x[train_limit:]\n",
    "    y_train = y[:train_limit]\n",
    "    y_val = y[train_limit:]\n",
    "    if np.isnan(np.min(y)) == False:\n",
    "        return x_train, y_train, x_val, y_val"
   ]
  },
  {
   "cell_type": "code",
   "execution_count": 3,
   "metadata": {},
   "outputs": [],
   "source": [
    "def plot_histo(x, y, bins,logscale):\n",
    "    y = np.array(y)\n",
    "    pyplot.hist(y, bins, color = 'indianred', alpha=0.5, label='Osiris')\n",
    "    pyplot.legend(loc='upper right')\n",
    "    pyplot.xlabel('Probability')\n",
    "    if logscale == 1:\n",
    "        pyplot.yscale('log')\n",
    "    pyplot.title('Trained on ($p_e$, $p_{\\gamma}$, $\\omega_e$, $\\omega_{\\gamma}$, n)')\n",
    "    pyplot.show()"
   ]
  },
  {
   "cell_type": "markdown",
   "metadata": {},
   "source": [
    "## Load of the data\n",
    "\n",
    "   You can also load all of them! Writing \"all_data\""
   ]
  },
  {
   "cell_type": "code",
   "execution_count": 4,
   "metadata": {},
   "outputs": [],
   "source": [
    "def loaddata(name):\n",
    "     return np.loadtxt(name, delimiter=',')"
   ]
  },
  {
   "cell_type": "markdown",
   "metadata": {},
   "source": [
    "## Data-set loading for low energy"
   ]
  },
  {
   "cell_type": "code",
   "execution_count": null,
   "metadata": {},
   "outputs": [],
   "source": [
    "class_data_low = loaddata(\"../final_data/{}.csv\".format('0-10'))\n",
    "class_data_high = loaddata(\"../final_data/{}.csv\".format('0-50'))\n",
    "class_data_shigh = loaddata(\"../final_data/{}.csv\".format('0-100'))"
   ]
  },
  {
   "cell_type": "code",
   "execution_count": null,
   "metadata": {},
   "outputs": [],
   "source": [
    "x0_train, y0_train, x0_val, y0_val = prepare_data(class_data_low)\n",
    "x1_train, y1_train, x1_val, y1_val = prepare_data(class_data_high)\n",
    "x2_train, y2_train, x2_val, y2_val = prepare_data(class_data_shigh)"
   ]
  },
  {
   "cell_type": "markdown",
   "metadata": {},
   "source": [
    "## Our beautiful probability distributions "
   ]
  },
  {
   "cell_type": "code",
   "execution_count": null,
   "metadata": {},
   "outputs": [],
   "source": [
    "bins = np.linspace(0.0001, 0.015, 100)\n",
    "plot_histo(x0_train,y0_train,bins,0)"
   ]
  },
  {
   "cell_type": "code",
   "execution_count": null,
   "metadata": {},
   "outputs": [],
   "source": [
    "bins = np.linspace(0.0003, 0.3, 100)\n",
    "plot_histo(x1_train,y1_train,bins,0)"
   ]
  },
  {
   "cell_type": "code",
   "execution_count": null,
   "metadata": {},
   "outputs": [],
   "source": [
    "bins = np.linspace(0.0003, 0.3, 100)\n",
    "plot_histo(x2_train,y2_train,bins,0)"
   ]
  },
  {
   "cell_type": "code",
   "execution_count": null,
   "metadata": {},
   "outputs": [],
   "source": [
    "x_train = np.vstack((x0_train,x1_train,x2_train))\n",
    "x_val = np.vstack((x0_val,x1_val,x2_val))\n",
    "y_train = np.vstack((y0_train,y1_train,y2_train))\n",
    "y_val = np.vstack((y0_val,y1_val,y2_val))"
   ]
  },
  {
   "cell_type": "markdown",
   "metadata": {},
   "source": [
    "## Model Load"
   ]
  },
  {
   "cell_type": "code",
   "execution_count": null,
   "metadata": {},
   "outputs": [],
   "source": [
    "model = keras.models.load_model(\"../models/{}_highenergy0013.h5\".format('probability'))"
   ]
  },
  {
   "cell_type": "code",
   "execution_count": null,
   "metadata": {},
   "outputs": [],
   "source": [
    "model.summary()"
   ]
  },
  {
   "cell_type": "markdown",
   "metadata": {},
   "source": [
    "## The prediction of our net"
   ]
  },
  {
   "cell_type": "code",
   "execution_count": null,
   "metadata": {},
   "outputs": [],
   "source": [
    "y_pred0 = model.predict(x0_train)"
   ]
  },
  {
   "cell_type": "code",
   "execution_count": null,
   "metadata": {},
   "outputs": [],
   "source": [
    "y_pred0"
   ]
  },
  {
   "cell_type": "markdown",
   "metadata": {},
   "source": [
    "## The final comparison between the probabilities"
   ]
  },
  {
   "cell_type": "code",
   "execution_count": null,
   "metadata": {},
   "outputs": [],
   "source": [
    "from matplotlib import pyplot\n",
    "y0_train = np.array(y0_train)\n",
    "bins = np.linspace(0.0004, 0.013, 60)\n",
    "pyplot.hist(y0_train, bins, color = 'indianred', alpha=0.5, label='Osiris')\n",
    "pyplot.hist(y_pred0, bins, color = 'mediumslateblue', alpha=0.5, label='NN')\n",
    "pyplot.yscale('log')\n",
    "pyplot.legend(loc='upper right')\n",
    "pyplot.xlabel('Probability')\n",
    "pyplot.title('Trained on ($p_e$, $p_{\\gamma}$, $\\omega_e$, $\\omega_{\\gamma}$, n)')\n",
    "pyplot.show()"
   ]
  },
  {
   "cell_type": "code",
   "execution_count": null,
   "metadata": {},
   "outputs": [],
   "source": [
    "from matplotlib import pyplot\n",
    "y1 = np.array(y1)\n",
    "bins = np.linspace(0.001, 0.013, 100)\n",
    "pyplot.hist(y1, bins, color = 'indianred', alpha=0.5, label='Osiris')\n",
    "pyplot.hist(y_pred1, bins, color = 'mediumslateblue', alpha=0.5, label='NN')\n",
    "#pyplot.yscale('log')\n",
    "pyplot.legend(loc='upper right')\n",
    "pyplot.xlabel('Probability')\n",
    "pyplot.title('Trained on ($p_e$, $p_{\\gamma}$, $\\omega_e$, $\\omega_{\\gamma}$, n)')\n",
    "pyplot.show()"
   ]
  },
  {
   "cell_type": "code",
   "execution_count": null,
   "metadata": {},
   "outputs": [],
   "source": []
  },
  {
   "cell_type": "code",
   "execution_count": null,
   "metadata": {},
   "outputs": [],
   "source": []
  }
 ],
 "metadata": {
  "kernelspec": {
   "display_name": "Python 3",
   "language": "python",
   "name": "python3"
  },
  "language_info": {
   "codemirror_mode": {
    "name": "ipython",
    "version": 3
   },
   "file_extension": ".py",
   "mimetype": "text/x-python",
   "name": "python",
   "nbconvert_exporter": "python",
   "pygments_lexer": "ipython3",
   "version": "3.9.6"
  }
 },
 "nbformat": 4,
 "nbformat_minor": 4
}
