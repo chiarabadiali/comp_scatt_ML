{
 "cells": [
  {
   "cell_type": "code",
   "execution_count": 1,
   "metadata": {},
   "outputs": [
    {
     "name": "stdout",
     "output_type": "stream",
     "text": [
      "1.2.0\n"
     ]
    }
   ],
   "source": [
    "import pandas as pd \n",
    "import numpy as np\n",
    "import math\n",
    "import tensorflow as tf\n",
    "print(pd.__version__)"
   ]
  },
  {
   "cell_type": "markdown",
   "metadata": {},
   "source": [
    "## Print Dependencies\n",
    "\n",
    "\n",
    "\n",
    "Dependences are fundamental to record the computational environment."
   ]
  },
  {
   "cell_type": "code",
   "execution_count": 2,
   "metadata": {},
   "outputs": [
    {
     "name": "stdout",
     "output_type": "stream",
     "text": [
      "Python implementation: CPython\n",
      "Python version       : 3.7.7\n",
      "IPython version      : 7.19.0\n",
      "\n",
      "pandas    : 1.2.0\n",
      "keras     : 2.4.3\n",
      "numpy     : 1.19.5\n",
      "math      : unknown\n",
      "tensorflow: 2.4.0\n",
      "matplotlib: 3.3.3\n",
      "h5py      : 2.10.0\n",
      "\n",
      "Compiler    : GCC 5.4.0 20160609\n",
      "OS          : Linux\n",
      "Release     : 5.8.0-38-generic\n",
      "Machine     : x86_64\n",
      "Processor   : x86_64\n",
      "CPU cores   : 8\n",
      "Architecture: 64bit\n",
      "\n",
      " \n",
      "Last updated: Wed Jan 20 2021 19:36:58CET\n",
      "\n"
     ]
    }
   ],
   "source": [
    "%load_ext watermark\n",
    "\n",
    "# python, ipython, packages, and machine characteristics\n",
    "%watermark -v -m -p pandas,keras,numpy,math,tensorflow,matplotlib,h5py\n",
    "\n",
    "# date\n",
    "print (\" \")\n",
    "%watermark -u -n -t -z"
   ]
  },
  {
   "cell_type": "markdown",
   "metadata": {},
   "source": [
    "## Load of the data"
   ]
  },
  {
   "cell_type": "code",
   "execution_count": 3,
   "metadata": {},
   "outputs": [],
   "source": [
    "regen_data = False"
   ]
  },
  {
   "cell_type": "code",
   "execution_count": 4,
   "metadata": {},
   "outputs": [],
   "source": [
    "if regen_data:\n",
    "    from process import load_generate_data\n",
    "    from process import savedata\n",
    "    regr_data, class_data = load_generate_data(0.1, 50)\n",
    "    savedata(regr_data, \"regression_data.csv\")\n",
    "    savedata(class_data, \"classification_data.csv\")"
   ]
  },
  {
   "cell_type": "code",
   "execution_count": 5,
   "metadata": {},
   "outputs": [],
   "source": [
    "if not regen_data:\n",
    "    from process import loaddata\n",
    "    regr_data = loaddata(\"regression_data.csv\")\n",
    "    class_data = loaddata(\"classification_data.csv\")"
   ]
  },
  {
   "cell_type": "code",
   "execution_count": 6,
   "metadata": {},
   "outputs": [],
   "source": [
    "np.random.shuffle(class_data)\n",
    "y = class_data[:,0]\n",
    "x = class_data[:,1:]"
   ]
  },
  {
   "cell_type": "code",
   "execution_count": 7,
   "metadata": {},
   "outputs": [
    {
     "name": "stdout",
     "output_type": "stream",
     "text": [
      "Training sample: 51865 \n",
      "Valuation sample: 17289\n"
     ]
    }
   ],
   "source": [
    "train_split = 0.75\n",
    "train_limit = int(len(y)*train_split)\n",
    "print(\"Training sample: {0} \\nValuation sample: {1}\".format(train_limit, len(y)-train_limit))"
   ]
  },
  {
   "cell_type": "code",
   "execution_count": 8,
   "metadata": {},
   "outputs": [
    {
     "data": {
      "text/plain": [
       "(69154, 10)"
      ]
     },
     "execution_count": 8,
     "metadata": {},
     "output_type": "execute_result"
    }
   ],
   "source": [
    "x.shape"
   ]
  },
  {
   "cell_type": "code",
   "execution_count": 9,
   "metadata": {},
   "outputs": [],
   "source": [
    "x_train = x[:train_limit]\n",
    "x_val = x[train_limit:]\n",
    "\n",
    "y_train = y[:train_limit]\n",
    "y_val = y[train_limit:]"
   ]
  },
  {
   "cell_type": "markdown",
   "metadata": {},
   "source": [
    "## Model Build"
   ]
  },
  {
   "cell_type": "code",
   "execution_count": 10,
   "metadata": {},
   "outputs": [],
   "source": [
    "from keras.models import Sequential\n",
    "from keras.layers.core import Dense\n",
    "import keras.backend as K\n",
    "from keras import optimizers\n",
    "from keras import models\n",
    "from keras import layers"
   ]
  },
  {
   "cell_type": "code",
   "execution_count": 11,
   "metadata": {},
   "outputs": [],
   "source": [
    "def build_model() :\n",
    "    model = models.Sequential()\n",
    "    model.add (layers.Dense (16, activation = \"relu\" , input_shape = x.shape))\n",
    "    model.add (layers.Dense (16, activation = \"relu\"))\n",
    "    model.add (layers.Dense (1 , activation = \"sigmoid\"))\n",
    "    model.compile(optimizer = \"adam\" , loss = \"binary_crossentropy\" , metrics =[\"accuracy\"])\n",
    "    return model"
   ]
  },
  {
   "cell_type": "code",
   "execution_count": 12,
   "metadata": {},
   "outputs": [
    {
     "name": "stdout",
     "output_type": "stream",
     "text": [
      "Epoch 1/20\n",
      "WARNING:tensorflow:Model was constructed with shape (None, 69154, 10) for input KerasTensor(type_spec=TensorSpec(shape=(None, 69154, 10), dtype=tf.float32, name='dense_input'), name='dense_input', description=\"created by layer 'dense_input'\"), but it was called on an input with incompatible shape (None, 10).\n",
      "WARNING:tensorflow:Model was constructed with shape (None, 69154, 10) for input KerasTensor(type_spec=TensorSpec(shape=(None, 69154, 10), dtype=tf.float32, name='dense_input'), name='dense_input', description=\"created by layer 'dense_input'\"), but it was called on an input with incompatible shape (None, 10).\n",
      "1007/1038 [============================>.] - ETA: 0s - loss: 0.5693 - accuracy: 0.7274WARNING:tensorflow:Model was constructed with shape (None, 69154, 10) for input KerasTensor(type_spec=TensorSpec(shape=(None, 69154, 10), dtype=tf.float32, name='dense_input'), name='dense_input', description=\"created by layer 'dense_input'\"), but it was called on an input with incompatible shape (None, 10).\n",
      "1038/1038 [==============================] - 3s 3ms/step - loss: 0.5655 - accuracy: 0.7303 - val_loss: 0.2815 - val_accuracy: 0.9024\n",
      "Epoch 2/20\n",
      "1038/1038 [==============================] - 2s 2ms/step - loss: 0.2648 - accuracy: 0.9085 - val_loss: 0.2241 - val_accuracy: 0.9153\n",
      "Epoch 3/20\n",
      "1038/1038 [==============================] - 1s 1ms/step - loss: 0.2166 - accuracy: 0.9283 - val_loss: 0.1947 - val_accuracy: 0.9356\n",
      "Epoch 4/20\n",
      "1038/1038 [==============================] - 1s 1ms/step - loss: 0.1963 - accuracy: 0.9367 - val_loss: 0.1890 - val_accuracy: 0.9365\n",
      "Epoch 5/20\n",
      "1038/1038 [==============================] - 1s 1ms/step - loss: 0.1875 - accuracy: 0.9393 - val_loss: 0.1845 - val_accuracy: 0.9462\n",
      "Epoch 6/20\n",
      "1038/1038 [==============================] - 1s 1ms/step - loss: 0.1830 - accuracy: 0.9411 - val_loss: 0.1722 - val_accuracy: 0.9475\n",
      "Epoch 7/20\n",
      "1038/1038 [==============================] - 2s 2ms/step - loss: 0.1775 - accuracy: 0.9439 - val_loss: 0.1783 - val_accuracy: 0.9449\n",
      "Epoch 8/20\n",
      "1038/1038 [==============================] - 1s 1ms/step - loss: 0.1738 - accuracy: 0.9456 - val_loss: 0.1636 - val_accuracy: 0.9504\n",
      "Epoch 9/20\n",
      "1038/1038 [==============================] - 1s 1ms/step - loss: 0.1736 - accuracy: 0.9458 - val_loss: 0.1747 - val_accuracy: 0.9449\n",
      "Epoch 10/20\n",
      "1038/1038 [==============================] - 1s 1ms/step - loss: 0.1701 - accuracy: 0.9457 - val_loss: 0.1625 - val_accuracy: 0.9513\n",
      "Epoch 11/20\n",
      "1038/1038 [==============================] - 1s 1ms/step - loss: 0.1698 - accuracy: 0.9469 - val_loss: 0.1678 - val_accuracy: 0.9466\n",
      "Epoch 12/20\n",
      "1038/1038 [==============================] - 1s 1ms/step - loss: 0.1705 - accuracy: 0.9458 - val_loss: 0.1661 - val_accuracy: 0.9488\n",
      "Epoch 13/20\n",
      "1038/1038 [==============================] - 1s 1ms/step - loss: 0.1686 - accuracy: 0.9466 - val_loss: 0.1655 - val_accuracy: 0.9473\n",
      "Epoch 14/20\n",
      "1038/1038 [==============================] - 1s 1ms/step - loss: 0.1695 - accuracy: 0.9462 - val_loss: 0.1593 - val_accuracy: 0.9499\n",
      "Epoch 15/20\n",
      "1038/1038 [==============================] - 1s 1ms/step - loss: 0.1595 - accuracy: 0.9504 - val_loss: 0.1592 - val_accuracy: 0.9503\n",
      "Epoch 16/20\n",
      "1038/1038 [==============================] - 1s 1ms/step - loss: 0.1652 - accuracy: 0.9476 - val_loss: 0.1632 - val_accuracy: 0.9483\n",
      "Epoch 17/20\n",
      "1038/1038 [==============================] - 2s 1ms/step - loss: 0.1670 - accuracy: 0.9470 - val_loss: 0.1652 - val_accuracy: 0.9486\n",
      "Epoch 18/20\n",
      "1038/1038 [==============================] - 2s 2ms/step - loss: 0.1648 - accuracy: 0.9479 - val_loss: 0.1589 - val_accuracy: 0.9500\n",
      "Epoch 19/20\n",
      "1038/1038 [==============================] - 1s 1ms/step - loss: 0.1662 - accuracy: 0.9477 - val_loss: 0.1577 - val_accuracy: 0.9508\n",
      "Epoch 20/20\n",
      "1038/1038 [==============================] - 2s 2ms/step - loss: 0.1651 - accuracy: 0.9476 - val_loss: 0.1843 - val_accuracy: 0.9364\n"
     ]
    }
   ],
   "source": [
    "model = build_model ()\n",
    "history = model.fit ( x_train, y_train, epochs = 20, batch_size = 50 , validation_data = (x_val, y_val) )\n",
    "model.save(\"prova.h5\")"
   ]
  },
  {
   "cell_type": "code",
   "execution_count": 13,
   "metadata": {},
   "outputs": [
    {
     "data": {
      "image/png": "[encoded data removed]",
      "text/plain": [
       "<Figure size 432x288 with 1 Axes>"
      ]
     },
     "metadata": {
      "needs_background": "light"
     },
     "output_type": "display_data"
    }
   ],
   "source": [
    "import matplotlib.pyplot as plt\n",
    "\n",
    "loss = history.history['loss']\n",
    "val_loss = history.history['val_loss']\n",
    "\n",
    "epochs = range(1, len(loss) + 1)\n",
    "\n",
    "plt.plot(epochs, loss, 'bo', label='Training loss')\n",
    "plt.plot(epochs, val_loss, 'b', label='Validation loss')\n",
    "plt.title('Training and validation loss')\n",
    "plt.xlabel('Epochs')\n",
    "plt.ylabel('Loss')\n",
    "plt.legend()\n",
    "\n",
    "plt.show()\n",
    "\n"
   ]
  },
  {
   "cell_type": "code",
   "execution_count": 14,
   "metadata": {
    "scrolled": true
   },
   "outputs": [
    {
     "data": {
      "image/png": "[encoded data removed]",
      "text/plain": [
       "<Figure size 432x288 with 1 Axes>"
      ]
     },
     "metadata": {
      "needs_background": "light"
     },
     "output_type": "display_data"
    }
   ],
   "source": [
    "plt.clf()   # clear figure\n",
    "\n",
    "accuracy = history.history['accuracy']\n",
    "val_accuracy = history.history['val_accuracy']\n",
    "\n",
    "plt.plot(epochs, accuracy, 'bo', label='Training acc')\n",
    "plt.plot(epochs, val_accuracy, 'b', label='Validation acc')\n",
    "plt.title('Training and validation accuracy')\n",
    "plt.xlabel('Epochs')\n",
    "plt.ylabel('Loss')\n",
    "plt.legend()\n",
    "\n",
    "plt.show()"
   ]
  },
  {
   "cell_type": "code",
   "execution_count": 31,
   "metadata": {},
   "outputs": [],
   "source": [
    "def build_model() :\n",
    "    model = models.Sequential()\n",
    "    model.add (layers.Dense (8 , activation = \"relu\" , input_shape = x.shape))\n",
    "    model.add(layers.Dropout(0.2))\n",
    "    model.add (layers.Dense (8, activation = \"relu\"))\n",
    "    model.add(layers.Dropout(0.2))\n",
    "    model.add (layers.Dense (1 , activation = \"sigmoid\"))\n",
    "    model.compile(optimizer = \"adam\" , loss = \"binary_crossentropy\" , metrics =[\"accuracy\"])\n",
    "    return model"
   ]
  },
  {
   "cell_type": "code",
   "execution_count": 32,
   "metadata": {},
   "outputs": [
    {
     "name": "stdout",
     "output_type": "stream",
     "text": [
      "Epoch 1/40\n",
      "WARNING:tensorflow:Model was constructed with shape (None, 69154, 10) for input KerasTensor(type_spec=TensorSpec(shape=(None, 69154, 10), dtype=tf.float32, name='dense_15_input'), name='dense_15_input', description=\"created by layer 'dense_15_input'\"), but it was called on an input with incompatible shape (None, 10).\n",
      "WARNING:tensorflow:Model was constructed with shape (None, 69154, 10) for input KerasTensor(type_spec=TensorSpec(shape=(None, 69154, 10), dtype=tf.float32, name='dense_15_input'), name='dense_15_input', description=\"created by layer 'dense_15_input'\"), but it was called on an input with incompatible shape (None, 10).\n",
      "1009/1038 [============================>.] - ETA: 0s - loss: 0.6950 - accuracy: 0.5356WARNING:tensorflow:Model was constructed with shape (None, 69154, 10) for input KerasTensor(type_spec=TensorSpec(shape=(None, 69154, 10), dtype=tf.float32, name='dense_15_input'), name='dense_15_input', description=\"created by layer 'dense_15_input'\"), but it was called on an input with incompatible shape (None, 10).\n",
      "1038/1038 [==============================] - 2s 2ms/step - loss: 0.6936 - accuracy: 0.5373 - val_loss: 0.4936 - val_accuracy: 0.8013\n",
      "Epoch 2/40\n",
      "1038/1038 [==============================] - 1s 1ms/step - loss: 0.4858 - accuracy: 0.7840 - val_loss: 0.3237 - val_accuracy: 0.8789\n",
      "Epoch 3/40\n",
      "1038/1038 [==============================] - 2s 2ms/step - loss: 0.3540 - accuracy: 0.8643 - val_loss: 0.2468 - val_accuracy: 0.9164\n",
      "Epoch 4/40\n",
      "1038/1038 [==============================] - 1s 1ms/step - loss: 0.2949 - accuracy: 0.8947 - val_loss: 0.2111 - val_accuracy: 0.9291\n",
      "Epoch 5/40\n",
      "1038/1038 [==============================] - 1s 1ms/step - loss: 0.2692 - accuracy: 0.9042 - val_loss: 0.2016 - val_accuracy: 0.9360\n",
      "Epoch 6/40\n",
      "1038/1038 [==============================] - 1s 1ms/step - loss: 0.2550 - accuracy: 0.9086 - val_loss: 0.1978 - val_accuracy: 0.9373\n",
      "Epoch 7/40\n",
      "1038/1038 [==============================] - 2s 1ms/step - loss: 0.2525 - accuracy: 0.9100 - val_loss: 0.1843 - val_accuracy: 0.9462\n",
      "Epoch 8/40\n",
      "1038/1038 [==============================] - 2s 2ms/step - loss: 0.2411 - accuracy: 0.9151 - val_loss: 0.1999 - val_accuracy: 0.9377\n",
      "Epoch 9/40\n",
      "1038/1038 [==============================] - 2s 2ms/step - loss: 0.2393 - accuracy: 0.9142 - val_loss: 0.1825 - val_accuracy: 0.9413\n",
      "Epoch 10/40\n",
      "1038/1038 [==============================] - 2s 2ms/step - loss: 0.2341 - accuracy: 0.9162 - val_loss: 0.1795 - val_accuracy: 0.9452\n",
      "Epoch 11/40\n",
      "1038/1038 [==============================] - 2s 2ms/step - loss: 0.2360 - accuracy: 0.9160 - val_loss: 0.1900 - val_accuracy: 0.9372\n",
      "Epoch 12/40\n",
      "1038/1038 [==============================] - 1s 1ms/step - loss: 0.2326 - accuracy: 0.9174 - val_loss: 0.1855 - val_accuracy: 0.9385\n",
      "Epoch 13/40\n",
      "1038/1038 [==============================] - 2s 2ms/step - loss: 0.2371 - accuracy: 0.9133 - val_loss: 0.1845 - val_accuracy: 0.9398\n",
      "Epoch 14/40\n",
      "1038/1038 [==============================] - 2s 1ms/step - loss: 0.2339 - accuracy: 0.9159 - val_loss: 0.1850 - val_accuracy: 0.9388\n",
      "Epoch 15/40\n",
      "1038/1038 [==============================] - 1s 1ms/step - loss: 0.2253 - accuracy: 0.9190 - val_loss: 0.1678 - val_accuracy: 0.9486\n",
      "Epoch 16/40\n",
      "1038/1038 [==============================] - 1s 1ms/step - loss: 0.2285 - accuracy: 0.9164 - val_loss: 0.1703 - val_accuracy: 0.9463\n",
      "Epoch 17/40\n",
      "1038/1038 [==============================] - 2s 1ms/step - loss: 0.2293 - accuracy: 0.9167 - val_loss: 0.1672 - val_accuracy: 0.9460\n",
      "Epoch 18/40\n",
      "1038/1038 [==============================] - 2s 2ms/step - loss: 0.2239 - accuracy: 0.9196 - val_loss: 0.1683 - val_accuracy: 0.9465\n",
      "Epoch 19/40\n",
      "1038/1038 [==============================] - 2s 2ms/step - loss: 0.2260 - accuracy: 0.9194 - val_loss: 0.1768 - val_accuracy: 0.9415\n",
      "Epoch 20/40\n",
      "1038/1038 [==============================] - 1s 1ms/step - loss: 0.2276 - accuracy: 0.9172 - val_loss: 0.1637 - val_accuracy: 0.9504\n",
      "Epoch 21/40\n",
      "1038/1038 [==============================] - 1s 1ms/step - loss: 0.2304 - accuracy: 0.9158 - val_loss: 0.1659 - val_accuracy: 0.9500\n",
      "Epoch 22/40\n",
      "1038/1038 [==============================] - 1s 1ms/step - loss: 0.2231 - accuracy: 0.9202 - val_loss: 0.1850 - val_accuracy: 0.9375\n",
      "Epoch 23/40\n",
      "1038/1038 [==============================] - 2s 2ms/step - loss: 0.2231 - accuracy: 0.9203 - val_loss: 0.1644 - val_accuracy: 0.9491\n",
      "Epoch 24/40\n",
      "1038/1038 [==============================] - 1s 1ms/step - loss: 0.2185 - accuracy: 0.9220 - val_loss: 0.1671 - val_accuracy: 0.9474\n",
      "Epoch 25/40\n",
      "1038/1038 [==============================] - 2s 2ms/step - loss: 0.2214 - accuracy: 0.9212 - val_loss: 0.1659 - val_accuracy: 0.9484\n",
      "Epoch 26/40\n",
      "1038/1038 [==============================] - 2s 2ms/step - loss: 0.2212 - accuracy: 0.9211 - val_loss: 0.1635 - val_accuracy: 0.9490\n",
      "Epoch 27/40\n",
      "1038/1038 [==============================] - 3s 3ms/step - loss: 0.2208 - accuracy: 0.9217 - val_loss: 0.1691 - val_accuracy: 0.9467\n",
      "Epoch 28/40\n",
      "1038/1038 [==============================] - 2s 2ms/step - loss: 0.2217 - accuracy: 0.9198 - val_loss: 0.1720 - val_accuracy: 0.9458\n",
      "Epoch 29/40\n",
      "1038/1038 [==============================] - 2s 2ms/step - loss: 0.2234 - accuracy: 0.9193 - val_loss: 0.1712 - val_accuracy: 0.9459\n",
      "Epoch 30/40\n",
      "1038/1038 [==============================] - 2s 2ms/step - loss: 0.2191 - accuracy: 0.9222 - val_loss: 0.1757 - val_accuracy: 0.9422\n",
      "Epoch 31/40\n",
      "1038/1038 [==============================] - 1s 1ms/step - loss: 0.2249 - accuracy: 0.9185 - val_loss: 0.1621 - val_accuracy: 0.9485\n",
      "Epoch 32/40\n",
      "1038/1038 [==============================] - 1s 1ms/step - loss: 0.2176 - accuracy: 0.9236 - val_loss: 0.1677 - val_accuracy: 0.9458\n",
      "Epoch 33/40\n",
      "1038/1038 [==============================] - 1s 1ms/step - loss: 0.2188 - accuracy: 0.9229 - val_loss: 0.1650 - val_accuracy: 0.9470\n",
      "Epoch 34/40\n",
      "1038/1038 [==============================] - 2s 1ms/step - loss: 0.2203 - accuracy: 0.9210 - val_loss: 0.1714 - val_accuracy: 0.9453\n",
      "Epoch 35/40\n",
      "1038/1038 [==============================] - 3s 3ms/step - loss: 0.2162 - accuracy: 0.9221 - val_loss: 0.1688 - val_accuracy: 0.9472\n",
      "Epoch 36/40\n",
      "1038/1038 [==============================] - 2s 2ms/step - loss: 0.2220 - accuracy: 0.9212 - val_loss: 0.1640 - val_accuracy: 0.9482\n",
      "Epoch 37/40\n",
      "1038/1038 [==============================] - 2s 1ms/step - loss: 0.2141 - accuracy: 0.9240 - val_loss: 0.1622 - val_accuracy: 0.9502\n",
      "Epoch 38/40\n",
      "1038/1038 [==============================] - 1s 1ms/step - loss: 0.2138 - accuracy: 0.9257 - val_loss: 0.1787 - val_accuracy: 0.9408\n",
      "Epoch 39/40\n",
      "1038/1038 [==============================] - 2s 1ms/step - loss: 0.2146 - accuracy: 0.9239 - val_loss: 0.1631 - val_accuracy: 0.9500\n",
      "Epoch 40/40\n",
      "1038/1038 [==============================] - 1s 1ms/step - loss: 0.2171 - accuracy: 0.9229 - val_loss: 0.1629 - val_accuracy: 0.9488\n"
     ]
    }
   ],
   "source": [
    "model = build_model ()\n",
    "history = model.fit ( x_train, y_train, epochs = 40, batch_size = 50 , validation_data = (x_val, y_val) )\n",
    "model.save(\"prova.h5\")"
   ]
  },
  {
   "cell_type": "markdown",
   "metadata": {},
   "source": [
    "## Adding Dropout\n",
    "\n",
    "Dropout is one of the most effective and most commonly used regularization techniques for neural networks, developed by Geoff Hinton and his students at the University of Toronto. Dropout, applied to a layer, consists of randomly dropping out (setting to zero) a number of output features of the layer during training. Let’s say a\n",
    "given layer would normally return a vector [0.2, 0.5, 1.3, 0.8, 1.1] for a given input sample during training. After applying dropout, this vector will have a few zero entries distributed at random: for example, [0, 0.5, 1.3, 0, 1.1]. The dropout rate is the fraction of the features that are zeroed out; it’s usually set between 0.2 and 0.5. At test time, no units are dropped out; instead, the layer’s output values are scaled down by a factor equal to the dropout rate, to balance for the fact that more units are active than at training time.\n",
    "\n",
    "##### [From Deep Learning with Python, Chollet]"
   ]
  },
  {
   "cell_type": "code",
   "execution_count": 33,
   "metadata": {},
   "outputs": [
    {
     "data": {
      "image/png": "[encoded data removed]",
      "text/plain": [
       "<Figure size 432x288 with 1 Axes>"
      ]
     },
     "metadata": {
      "needs_background": "light"
     },
     "output_type": "display_data"
    }
   ],
   "source": [
    "import matplotlib.pyplot as plt\n",
    "\n",
    "loss = history.history['loss']\n",
    "val_loss = history.history['val_loss']\n",
    "\n",
    "epochs = range(1, len(loss) + 1)\n",
    "\n",
    "plt.plot(epochs, loss, 'bo', label='Training loss')\n",
    "plt.plot(epochs, val_loss, 'b', label='Validation loss')\n",
    "plt.title('Training and validation loss')\n",
    "plt.xlabel('Epochs')\n",
    "plt.ylabel('Loss')\n",
    "plt.legend()\n",
    "\n",
    "plt.show()\n",
    "\n"
   ]
  },
  {
   "cell_type": "code",
   "execution_count": 34,
   "metadata": {
    "scrolled": true
   },
   "outputs": [
    {
     "data": {
      "image/png": "[encoded data removed]",
      "text/plain": [
       "<Figure size 432x288 with 1 Axes>"
      ]
     },
     "metadata": {
      "needs_background": "light"
     },
     "output_type": "display_data"
    }
   ],
   "source": [
    "plt.clf()   # clear figure\n",
    "\n",
    "accuracy = history.history['accuracy']\n",
    "val_accuracy = history.history['val_accuracy']\n",
    "\n",
    "plt.plot(epochs, accuracy, 'bo', label='Training acc')\n",
    "plt.plot(epochs, val_accuracy, 'b', label='Validation acc')\n",
    "plt.title('Training and validation accuracy')\n",
    "plt.xlabel('Epochs')\n",
    "plt.ylabel('Loss')\n",
    "plt.legend()\n",
    "\n",
    "plt.show()"
   ]
  },
  {
   "cell_type": "code",
   "execution_count": null,
   "metadata": {},
   "outputs": [],
   "source": []
  },
  {
   "cell_type": "code",
   "execution_count": null,
   "metadata": {},
   "outputs": [],
   "source": []
  }
 ],
 "metadata": {
  "kernelspec": {
   "display_name": "Python 3",
   "language": "python",
   "name": "python3"
  },
  "language_info": {
   "codemirror_mode": {
    "name": "ipython",
    "version": 3
   },
   "file_extension": ".py",
   "mimetype": "text/x-python",
   "name": "python",
   "nbconvert_exporter": "python",
   "pygments_lexer": "ipython3",
   "version": "3.7.7"
  }
 },
 "nbformat": 4,
 "nbformat_minor": 4
}
