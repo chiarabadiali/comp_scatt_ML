{
 "cells": [
  {
   "cell_type": "code",
   "execution_count": 1,
   "metadata": {},
   "outputs": [
    {
     "name": "stdout",
     "output_type": "stream",
     "text": [
      "1.2.0\n"
     ]
    }
   ],
   "source": [
    "import pandas as pd \n",
    "import numpy as np\n",
    "import math\n",
    "import tensorflow as tf\n",
    "print(pd.__version__)"
   ]
  },
  {
   "cell_type": "markdown",
   "metadata": {},
   "source": [
    "## Print Dependencies\n",
    "\n",
    "\n",
    "\n",
    "Dependences are fundamental to record the computational environment."
   ]
  },
  {
   "cell_type": "code",
   "execution_count": 2,
   "metadata": {},
   "outputs": [
    {
     "name": "stdout",
     "output_type": "stream",
     "text": [
      "Python implementation: CPython\n",
      "Python version       : 3.7.7\n",
      "IPython version      : 7.19.0\n",
      "\n",
      "pandas    : 1.2.0\n",
      "keras     : 2.4.3\n",
      "numpy     : 1.19.5\n",
      "math      : unknown\n",
      "tensorflow: 2.4.0\n",
      "matplotlib: 3.3.3\n",
      "h5py      : 2.10.0\n",
      "\n",
      "Compiler    : GCC 5.4.0 20160609\n",
      "OS          : Linux\n",
      "Release     : 5.8.0-40-generic\n",
      "Machine     : x86_64\n",
      "Processor   : x86_64\n",
      "CPU cores   : 8\n",
      "Architecture: 64bit\n",
      "\n",
      " \n",
      "Last updated: Mon Jan 25 2021 10:49:58CET\n",
      "\n"
     ]
    }
   ],
   "source": [
    "%load_ext watermark\n",
    "\n",
    "# python, ipython, packages, and machine characteristics\n",
    "%watermark -v -m -p pandas,keras,numpy,math,tensorflow,matplotlib,h5py\n",
    "\n",
    "# date\n",
    "print (\" \")\n",
    "%watermark -u -n -t -z"
   ]
  },
  {
   "cell_type": "markdown",
   "metadata": {},
   "source": [
    "## Load of the data"
   ]
  },
  {
   "cell_type": "code",
   "execution_count": 3,
   "metadata": {},
   "outputs": [],
   "source": [
    "regen_data = False"
   ]
  },
  {
   "cell_type": "code",
   "execution_count": 4,
   "metadata": {},
   "outputs": [],
   "source": [
    "if regen_data:\n",
    "    from process import load_generate_data\n",
    "    from process import savedata\n",
    "    regr_data, class_data = load_generate_data(0.1, 50)\n",
    "    savedata(regr_data, \"regression_data-2.csv\")\n",
    "    savedata(class_data, \"classification_data-2.csv\")"
   ]
  },
  {
   "cell_type": "code",
   "execution_count": 5,
   "metadata": {},
   "outputs": [],
   "source": [
    "if not regen_data:\n",
    "    from process import loaddata\n",
    "    regr_data = loaddata(\"regression_data-2.csv\")\n",
    "    class_data = loaddata(\"classification_data-2.csv\")"
   ]
  },
  {
   "cell_type": "code",
   "execution_count": 6,
   "metadata": {},
   "outputs": [],
   "source": [
    "np.random.shuffle(class_data)\n",
    "y = class_data[:,0]\n",
    "x = class_data[:,1:]"
   ]
  },
  {
   "cell_type": "code",
   "execution_count": 7,
   "metadata": {},
   "outputs": [
    {
     "name": "stdout",
     "output_type": "stream",
     "text": [
      "Training sample: 93048 \n",
      "Valuation sample: 31016\n"
     ]
    }
   ],
   "source": [
    "train_split = 0.75\n",
    "train_limit = int(len(y)*train_split)\n",
    "print(\"Training sample: {0} \\nValuation sample: {1}\".format(train_limit, len(y)-train_limit))"
   ]
  },
  {
   "cell_type": "code",
   "execution_count": 8,
   "metadata": {},
   "outputs": [
    {
     "data": {
      "text/plain": [
       "(124064, 10)"
      ]
     },
     "execution_count": 8,
     "metadata": {},
     "output_type": "execute_result"
    }
   ],
   "source": [
    "x.shape"
   ]
  },
  {
   "cell_type": "code",
   "execution_count": 9,
   "metadata": {},
   "outputs": [],
   "source": [
    "x_train = x[:train_limit]\n",
    "x_val = x[train_limit:]\n",
    "\n",
    "y_train = y[:train_limit]\n",
    "y_val = y[train_limit:]"
   ]
  },
  {
   "cell_type": "markdown",
   "metadata": {},
   "source": [
    "## Model Build"
   ]
  },
  {
   "cell_type": "code",
   "execution_count": 10,
   "metadata": {},
   "outputs": [],
   "source": [
    "from keras.models import Sequential\n",
    "from keras.layers.core import Dense\n",
    "import keras.backend as K\n",
    "from keras import optimizers\n",
    "from keras import models\n",
    "from keras import layers"
   ]
  },
  {
   "cell_type": "code",
   "execution_count": 19,
   "metadata": {},
   "outputs": [],
   "source": [
    "def build_model() :\n",
    "    model = models.Sequential()\n",
    "    model.add (layers.Dense (16, activation = \"relu\" , input_shape = x.shape))\n",
    "    model.add (layers.Dense (16, activation = \"relu\"))\n",
    "    model.add (layers.Dense (1 , activation = \"sigmoid\"))\n",
    "    model.compile(optimizer = \"adam\" , loss = \"binary_crossentropy\" , metrics =[\"accuracy\"])\n",
    "    return model"
   ]
  },
  {
   "cell_type": "code",
   "execution_count": 20,
   "metadata": {},
   "outputs": [
    {
     "name": "stdout",
     "output_type": "stream",
     "text": [
      "Epoch 1/20\n",
      "WARNING:tensorflow:Model was constructed with shape (None, 124064, 10) for input KerasTensor(type_spec=TensorSpec(shape=(None, 124064, 10), dtype=tf.float32, name='dense_6_input'), name='dense_6_input', description=\"created by layer 'dense_6_input'\"), but it was called on an input with incompatible shape (None, 10).\n",
      "WARNING:tensorflow:Model was constructed with shape (None, 124064, 10) for input KerasTensor(type_spec=TensorSpec(shape=(None, 124064, 10), dtype=tf.float32, name='dense_6_input'), name='dense_6_input', description=\"created by layer 'dense_6_input'\"), but it was called on an input with incompatible shape (None, 10).\n",
      "892/931 [===========================>..] - ETA: 0s - loss: 0.6456 - accuracy: 0.6274WARNING:tensorflow:Model was constructed with shape (None, 124064, 10) for input KerasTensor(type_spec=TensorSpec(shape=(None, 124064, 10), dtype=tf.float32, name='dense_6_input'), name='dense_6_input', description=\"created by layer 'dense_6_input'\"), but it was called on an input with incompatible shape (None, 10).\n",
      "931/931 [==============================] - 2s 2ms/step - loss: 0.6406 - accuracy: 0.6324 - val_loss: 0.3552 - val_accuracy: 0.8597\n",
      "Epoch 2/20\n",
      "931/931 [==============================] - 1s 2ms/step - loss: 0.3216 - accuracy: 0.8832 - val_loss: 0.2534 - val_accuracy: 0.9106\n",
      "Epoch 3/20\n",
      "931/931 [==============================] - 2s 2ms/step - loss: 0.2414 - accuracy: 0.9158 - val_loss: 0.2236 - val_accuracy: 0.9278\n",
      "Epoch 4/20\n",
      "931/931 [==============================] - 1s 1ms/step - loss: 0.2171 - accuracy: 0.9255 - val_loss: 0.2149 - val_accuracy: 0.9270\n",
      "Epoch 5/20\n",
      "931/931 [==============================] - 1s 1ms/step - loss: 0.2026 - accuracy: 0.9312 - val_loss: 0.1926 - val_accuracy: 0.9387\n",
      "Epoch 6/20\n",
      "931/931 [==============================] - 1s 1ms/step - loss: 0.1923 - accuracy: 0.9365 - val_loss: 0.1856 - val_accuracy: 0.9375\n",
      "Epoch 7/20\n",
      "931/931 [==============================] - 1s 1ms/step - loss: 0.1869 - accuracy: 0.9400 - val_loss: 0.1834 - val_accuracy: 0.9393\n",
      "Epoch 8/20\n",
      "931/931 [==============================] - 2s 2ms/step - loss: 0.1834 - accuracy: 0.9409 - val_loss: 0.1827 - val_accuracy: 0.9395\n",
      "Epoch 9/20\n",
      "931/931 [==============================] - 1s 1ms/step - loss: 0.1769 - accuracy: 0.9442 - val_loss: 0.1850 - val_accuracy: 0.9391\n",
      "Epoch 10/20\n",
      "931/931 [==============================] - 2s 2ms/step - loss: 0.1762 - accuracy: 0.9444 - val_loss: 0.1734 - val_accuracy: 0.9479\n",
      "Epoch 11/20\n",
      "931/931 [==============================] - 2s 2ms/step - loss: 0.1720 - accuracy: 0.9461 - val_loss: 0.1772 - val_accuracy: 0.9426\n",
      "Epoch 12/20\n",
      "931/931 [==============================] - 1s 2ms/step - loss: 0.1716 - accuracy: 0.9455 - val_loss: 0.1640 - val_accuracy: 0.9471\n",
      "Epoch 13/20\n",
      "931/931 [==============================] - 3s 3ms/step - loss: 0.1722 - accuracy: 0.9446 - val_loss: 0.1655 - val_accuracy: 0.9462\n",
      "Epoch 14/20\n",
      "931/931 [==============================] - 2s 2ms/step - loss: 0.1698 - accuracy: 0.9458 - val_loss: 0.1663 - val_accuracy: 0.9463\n",
      "Epoch 15/20\n",
      "931/931 [==============================] - 1s 1ms/step - loss: 0.1627 - accuracy: 0.9484 - val_loss: 0.1755 - val_accuracy: 0.9440\n",
      "Epoch 16/20\n",
      "931/931 [==============================] - 1s 1ms/step - loss: 0.1629 - accuracy: 0.9476 - val_loss: 0.1590 - val_accuracy: 0.9494\n",
      "Epoch 17/20\n",
      "931/931 [==============================] - 1s 1ms/step - loss: 0.1632 - accuracy: 0.9478 - val_loss: 0.1576 - val_accuracy: 0.9493\n",
      "Epoch 18/20\n",
      "931/931 [==============================] - 1s 1ms/step - loss: 0.1620 - accuracy: 0.9483 - val_loss: 0.1632 - val_accuracy: 0.9476\n",
      "Epoch 19/20\n",
      "931/931 [==============================] - 1s 2ms/step - loss: 0.1621 - accuracy: 0.9471 - val_loss: 0.1577 - val_accuracy: 0.9482\n",
      "Epoch 20/20\n",
      "931/931 [==============================] - 2s 2ms/step - loss: 0.1584 - accuracy: 0.9487 - val_loss: 0.1676 - val_accuracy: 0.9437\n"
     ]
    }
   ],
   "source": [
    "model = build_model ()\n",
    "history = model.fit ( x_train, y_train, epochs = 20, batch_size = 100 , validation_data = (x_val, y_val) )\n",
    "model.save(\"prova.h5\")"
   ]
  },
  {
   "cell_type": "code",
   "execution_count": 21,
   "metadata": {},
   "outputs": [
    {
     "data": {
      "image/png": "[encoded data removed]",
      "text/plain": [
       "<Figure size 432x288 with 1 Axes>"
      ]
     },
     "metadata": {
      "needs_background": "light"
     },
     "output_type": "display_data"
    }
   ],
   "source": [
    "import matplotlib.pyplot as plt\n",
    "\n",
    "loss = history.history['loss']\n",
    "val_loss = history.history['val_loss']\n",
    "\n",
    "epochs = range(1, len(loss) + 1)\n",
    "\n",
    "plt.plot(epochs, loss, 'bo', label='Training loss')\n",
    "plt.plot(epochs, val_loss, 'b', label='Validation loss')\n",
    "plt.title('Training and validation loss')\n",
    "plt.xlabel('Epochs')\n",
    "plt.ylabel('Loss')\n",
    "plt.legend()\n",
    "\n",
    "plt.show()\n",
    "\n"
   ]
  },
  {
   "cell_type": "code",
   "execution_count": 22,
   "metadata": {
    "scrolled": true
   },
   "outputs": [
    {
     "data": {
      "image/png": "[encoded data removed]",
      "text/plain": [
       "<Figure size 432x288 with 1 Axes>"
      ]
     },
     "metadata": {
      "needs_background": "light"
     },
     "output_type": "display_data"
    }
   ],
   "source": [
    "plt.clf()   # clear figure\n",
    "\n",
    "accuracy = history.history['accuracy']\n",
    "val_accuracy = history.history['val_accuracy']\n",
    "\n",
    "plt.plot(epochs, accuracy, 'bo', label='Training acc')\n",
    "plt.plot(epochs, val_accuracy, 'b', label='Validation acc')\n",
    "plt.title('Training and validation accuracy')\n",
    "plt.xlabel('Epochs')\n",
    "plt.ylabel('Loss')\n",
    "plt.legend()\n",
    "\n",
    "plt.show()"
   ]
  },
  {
   "cell_type": "code",
   "execution_count": 30,
   "metadata": {},
   "outputs": [],
   "source": [
    "def build_model() :\n",
    "    model = models.Sequential()\n",
    "    model.add (layers.Dense (8 , activation = \"relu\" , input_shape = x.shape))\n",
    "    model.add(layers.Dropout(0.2))\n",
    "    model.add (layers.Dense (8, activation = \"relu\"))\n",
    "    model.add(layers.Dropout(0.2))\n",
    "    model.add (layers.Dense (1 , activation = \"sigmoid\"))\n",
    "    model.compile(optimizer = \"adam\" , loss = \"binary_crossentropy\" , metrics =[\"accuracy\"])\n",
    "    return model"
   ]
  },
  {
   "cell_type": "code",
   "execution_count": 34,
   "metadata": {},
   "outputs": [
    {
     "name": "stdout",
     "output_type": "stream",
     "text": [
      "Epoch 1/96\n",
      "WARNING:tensorflow:Model was constructed with shape (None, 124064, 10) for input KerasTensor(type_spec=TensorSpec(shape=(None, 124064, 10), dtype=tf.float32, name='dense_18_input'), name='dense_18_input', description=\"created by layer 'dense_18_input'\"), but it was called on an input with incompatible shape (None, 10).\n",
      "WARNING:tensorflow:Model was constructed with shape (None, 124064, 10) for input KerasTensor(type_spec=TensorSpec(shape=(None, 124064, 10), dtype=tf.float32, name='dense_18_input'), name='dense_18_input', description=\"created by layer 'dense_18_input'\"), but it was called on an input with incompatible shape (None, 10).\n",
      "606/621 [============================>.] - ETA: 0s - loss: 0.6784 - accuracy: 0.5745WARNING:tensorflow:Model was constructed with shape (None, 124064, 10) for input KerasTensor(type_spec=TensorSpec(shape=(None, 124064, 10), dtype=tf.float32, name='dense_18_input'), name='dense_18_input', description=\"created by layer 'dense_18_input'\"), but it was called on an input with incompatible shape (None, 10).\n",
      "621/621 [==============================] - 2s 2ms/step - loss: 0.6770 - accuracy: 0.5764 - val_loss: 0.4516 - val_accuracy: 0.8435\n",
      "Epoch 2/96\n",
      "621/621 [==============================] - 1s 2ms/step - loss: 0.4540 - accuracy: 0.8211 - val_loss: 0.2983 - val_accuracy: 0.9024\n",
      "Epoch 3/96\n",
      "621/621 [==============================] - 1s 2ms/step - loss: 0.3487 - accuracy: 0.8731 - val_loss: 0.2378 - val_accuracy: 0.9233\n",
      "Epoch 4/96\n",
      "621/621 [==============================] - 1s 1ms/step - loss: 0.3040 - accuracy: 0.8908 - val_loss: 0.2136 - val_accuracy: 0.9312\n",
      "Epoch 5/96\n",
      "621/621 [==============================] - 1s 2ms/step - loss: 0.2805 - accuracy: 0.9014 - val_loss: 0.2018 - val_accuracy: 0.9384\n",
      "Epoch 6/96\n",
      "621/621 [==============================] - 1s 2ms/step - loss: 0.2668 - accuracy: 0.9071 - val_loss: 0.1962 - val_accuracy: 0.9398\n",
      "Epoch 7/96\n",
      "621/621 [==============================] - 1s 2ms/step - loss: 0.2581 - accuracy: 0.9105 - val_loss: 0.1914 - val_accuracy: 0.9415\n",
      "Epoch 8/96\n",
      "621/621 [==============================] - 1s 2ms/step - loss: 0.2514 - accuracy: 0.9142 - val_loss: 0.1883 - val_accuracy: 0.9411\n",
      "Epoch 9/96\n",
      "621/621 [==============================] - 1s 2ms/step - loss: 0.2437 - accuracy: 0.9185 - val_loss: 0.1865 - val_accuracy: 0.9387\n",
      "Epoch 10/96\n",
      "621/621 [==============================] - 1s 2ms/step - loss: 0.2431 - accuracy: 0.9120 - val_loss: 0.1811 - val_accuracy: 0.9438\n",
      "Epoch 11/96\n",
      "621/621 [==============================] - 1s 2ms/step - loss: 0.2366 - accuracy: 0.9094 - val_loss: 0.1801 - val_accuracy: 0.9437\n",
      "Epoch 12/96\n",
      "621/621 [==============================] - 1s 1ms/step - loss: 0.2343 - accuracy: 0.9098 - val_loss: 0.1771 - val_accuracy: 0.9447\n",
      "Epoch 13/96\n",
      "621/621 [==============================] - 1s 2ms/step - loss: 0.2278 - accuracy: 0.9139 - val_loss: 0.1763 - val_accuracy: 0.9446\n",
      "Epoch 14/96\n",
      "621/621 [==============================] - 1s 1ms/step - loss: 0.2256 - accuracy: 0.9142 - val_loss: 0.1770 - val_accuracy: 0.9460\n",
      "Epoch 15/96\n",
      "621/621 [==============================] - 1s 2ms/step - loss: 0.2296 - accuracy: 0.9123 - val_loss: 0.1765 - val_accuracy: 0.9443\n",
      "Epoch 16/96\n",
      "621/621 [==============================] - 1s 1ms/step - loss: 0.2281 - accuracy: 0.9135 - val_loss: 0.1758 - val_accuracy: 0.9437\n",
      "Epoch 17/96\n",
      "621/621 [==============================] - 1s 2ms/step - loss: 0.2296 - accuracy: 0.9119 - val_loss: 0.1781 - val_accuracy: 0.9426\n",
      "Epoch 18/96\n",
      "621/621 [==============================] - 1s 2ms/step - loss: 0.2266 - accuracy: 0.9145 - val_loss: 0.1713 - val_accuracy: 0.9467\n",
      "Epoch 19/96\n",
      "621/621 [==============================] - 1s 2ms/step - loss: 0.2261 - accuracy: 0.9145 - val_loss: 0.1695 - val_accuracy: 0.9476\n",
      "Epoch 20/96\n",
      "621/621 [==============================] - 1s 2ms/step - loss: 0.2246 - accuracy: 0.9158 - val_loss: 0.1722 - val_accuracy: 0.9461\n",
      "Epoch 21/96\n",
      "621/621 [==============================] - 1s 2ms/step - loss: 0.2244 - accuracy: 0.9142 - val_loss: 0.1715 - val_accuracy: 0.9463\n",
      "Epoch 22/96\n",
      "621/621 [==============================] - 1s 1ms/step - loss: 0.2201 - accuracy: 0.9182 - val_loss: 0.1695 - val_accuracy: 0.9472\n",
      "Epoch 23/96\n",
      "621/621 [==============================] - 1s 1ms/step - loss: 0.2181 - accuracy: 0.9260 - val_loss: 0.1715 - val_accuracy: 0.9466\n",
      "Epoch 24/96\n",
      "621/621 [==============================] - 1s 1ms/step - loss: 0.2151 - accuracy: 0.9285 - val_loss: 0.1720 - val_accuracy: 0.9459\n",
      "Epoch 25/96\n",
      "621/621 [==============================] - 1s 2ms/step - loss: 0.2089 - accuracy: 0.9307 - val_loss: 0.1731 - val_accuracy: 0.9459\n",
      "Epoch 26/96\n",
      "621/621 [==============================] - 1s 1ms/step - loss: 0.2087 - accuracy: 0.9297 - val_loss: 0.1691 - val_accuracy: 0.9476\n",
      "Epoch 27/96\n",
      "621/621 [==============================] - 1s 2ms/step - loss: 0.2061 - accuracy: 0.9313 - val_loss: 0.1706 - val_accuracy: 0.9468\n",
      "Epoch 28/96\n",
      "621/621 [==============================] - 1s 2ms/step - loss: 0.2058 - accuracy: 0.9315 - val_loss: 0.1768 - val_accuracy: 0.9420\n",
      "Epoch 29/96\n",
      "621/621 [==============================] - 1s 2ms/step - loss: 0.2090 - accuracy: 0.9293 - val_loss: 0.1690 - val_accuracy: 0.9479\n",
      "Epoch 30/96\n",
      "621/621 [==============================] - 2s 2ms/step - loss: 0.2063 - accuracy: 0.9303 - val_loss: 0.1714 - val_accuracy: 0.9461\n",
      "Epoch 31/96\n",
      "621/621 [==============================] - 1s 2ms/step - loss: 0.2047 - accuracy: 0.9316 - val_loss: 0.1684 - val_accuracy: 0.9484\n",
      "Epoch 32/96\n",
      "621/621 [==============================] - 1s 2ms/step - loss: 0.2062 - accuracy: 0.9312 - val_loss: 0.1687 - val_accuracy: 0.9481\n",
      "Epoch 33/96\n",
      "621/621 [==============================] - 2s 2ms/step - loss: 0.2051 - accuracy: 0.9314 - val_loss: 0.1687 - val_accuracy: 0.9485\n",
      "Epoch 34/96\n",
      "621/621 [==============================] - 1s 2ms/step - loss: 0.2066 - accuracy: 0.9302 - val_loss: 0.1697 - val_accuracy: 0.9474\n",
      "Epoch 35/96\n",
      "621/621 [==============================] - 1s 2ms/step - loss: 0.2017 - accuracy: 0.9327 - val_loss: 0.1682 - val_accuracy: 0.9477\n",
      "Epoch 36/96\n",
      "621/621 [==============================] - 1s 2ms/step - loss: 0.2041 - accuracy: 0.9318 - val_loss: 0.1709 - val_accuracy: 0.9468\n",
      "Epoch 37/96\n",
      "621/621 [==============================] - 1s 1ms/step - loss: 0.2069 - accuracy: 0.9303 - val_loss: 0.1664 - val_accuracy: 0.9485\n",
      "Epoch 38/96\n",
      "621/621 [==============================] - 1s 2ms/step - loss: 0.2034 - accuracy: 0.9320 - val_loss: 0.1690 - val_accuracy: 0.9474\n",
      "Epoch 39/96\n",
      "621/621 [==============================] - 1s 1ms/step - loss: 0.2066 - accuracy: 0.9301 - val_loss: 0.1652 - val_accuracy: 0.9498\n",
      "Epoch 40/96\n",
      "621/621 [==============================] - 1s 1ms/step - loss: 0.2044 - accuracy: 0.9312 - val_loss: 0.1675 - val_accuracy: 0.9487\n",
      "Epoch 41/96\n",
      "621/621 [==============================] - 1s 1ms/step - loss: 0.2012 - accuracy: 0.9333 - val_loss: 0.1717 - val_accuracy: 0.9456\n",
      "Epoch 42/96\n",
      "621/621 [==============================] - 1s 1ms/step - loss: 0.2019 - accuracy: 0.9324 - val_loss: 0.1684 - val_accuracy: 0.9465\n",
      "Epoch 43/96\n",
      "621/621 [==============================] - 1s 1ms/step - loss: 0.2079 - accuracy: 0.9292 - val_loss: 0.1670 - val_accuracy: 0.9481\n",
      "Epoch 44/96\n",
      "621/621 [==============================] - 1s 1ms/step - loss: 0.2031 - accuracy: 0.9313 - val_loss: 0.1652 - val_accuracy: 0.9488\n",
      "Epoch 45/96\n",
      "621/621 [==============================] - 1s 1ms/step - loss: 0.2030 - accuracy: 0.9316 - val_loss: 0.1733 - val_accuracy: 0.9452\n",
      "Epoch 46/96\n",
      "621/621 [==============================] - 1s 1ms/step - loss: 0.2027 - accuracy: 0.9319 - val_loss: 0.1641 - val_accuracy: 0.9499\n",
      "Epoch 47/96\n",
      "621/621 [==============================] - 1s 1ms/step - loss: 0.2021 - accuracy: 0.9319 - val_loss: 0.1670 - val_accuracy: 0.9480\n",
      "Epoch 48/96\n",
      "621/621 [==============================] - 1s 1ms/step - loss: 0.2030 - accuracy: 0.9320 - val_loss: 0.1709 - val_accuracy: 0.9453\n",
      "Epoch 49/96\n",
      "621/621 [==============================] - 1s 1ms/step - loss: 0.2011 - accuracy: 0.9325 - val_loss: 0.1677 - val_accuracy: 0.9481\n",
      "Epoch 50/96\n",
      "621/621 [==============================] - 1s 1ms/step - loss: 0.2012 - accuracy: 0.9323 - val_loss: 0.1667 - val_accuracy: 0.9486\n",
      "Epoch 51/96\n"
     ]
    },
    {
     "name": "stdout",
     "output_type": "stream",
     "text": [
      "621/621 [==============================] - 1s 1ms/step - loss: 0.2037 - accuracy: 0.9310 - val_loss: 0.1670 - val_accuracy: 0.9475\n",
      "Epoch 52/96\n",
      "621/621 [==============================] - 1s 1ms/step - loss: 0.1981 - accuracy: 0.9343 - val_loss: 0.1667 - val_accuracy: 0.9482\n",
      "Epoch 53/96\n",
      "621/621 [==============================] - 1s 1ms/step - loss: 0.1982 - accuracy: 0.9341 - val_loss: 0.1672 - val_accuracy: 0.9477\n",
      "Epoch 54/96\n",
      "621/621 [==============================] - 1s 1ms/step - loss: 0.1997 - accuracy: 0.9331 - val_loss: 0.1654 - val_accuracy: 0.9500\n",
      "Epoch 55/96\n",
      "621/621 [==============================] - 1s 1ms/step - loss: 0.2016 - accuracy: 0.9330 - val_loss: 0.1679 - val_accuracy: 0.9477\n",
      "Epoch 56/96\n",
      "621/621 [==============================] - 1s 1ms/step - loss: 0.1989 - accuracy: 0.9335 - val_loss: 0.1705 - val_accuracy: 0.9464\n",
      "Epoch 57/96\n",
      "621/621 [==============================] - 1s 1ms/step - loss: 0.2022 - accuracy: 0.9318 - val_loss: 0.1721 - val_accuracy: 0.9450\n",
      "Epoch 58/96\n",
      "621/621 [==============================] - 1s 2ms/step - loss: 0.2024 - accuracy: 0.9326 - val_loss: 0.1635 - val_accuracy: 0.9498\n",
      "Epoch 59/96\n",
      "621/621 [==============================] - 1s 2ms/step - loss: 0.2011 - accuracy: 0.9325 - val_loss: 0.1727 - val_accuracy: 0.9456\n",
      "Epoch 60/96\n",
      "621/621 [==============================] - 1s 2ms/step - loss: 0.2024 - accuracy: 0.9320 - val_loss: 0.1656 - val_accuracy: 0.9488\n",
      "Epoch 61/96\n",
      "621/621 [==============================] - 1s 2ms/step - loss: 0.1983 - accuracy: 0.9342 - val_loss: 0.1659 - val_accuracy: 0.9488\n",
      "Epoch 62/96\n",
      "621/621 [==============================] - 1s 2ms/step - loss: 0.1999 - accuracy: 0.9329 - val_loss: 0.1687 - val_accuracy: 0.9466\n",
      "Epoch 63/96\n",
      "621/621 [==============================] - 1s 2ms/step - loss: 0.2026 - accuracy: 0.9317 - val_loss: 0.1645 - val_accuracy: 0.9490\n",
      "Epoch 64/96\n",
      "621/621 [==============================] - 1s 1ms/step - loss: 0.2013 - accuracy: 0.9328 - val_loss: 0.1728 - val_accuracy: 0.9446\n",
      "Epoch 65/96\n",
      "621/621 [==============================] - 1s 2ms/step - loss: 0.1970 - accuracy: 0.9345 - val_loss: 0.1648 - val_accuracy: 0.9480\n",
      "Epoch 66/96\n",
      "621/621 [==============================] - 1s 2ms/step - loss: 0.2001 - accuracy: 0.9331 - val_loss: 0.1627 - val_accuracy: 0.9502\n",
      "Epoch 67/96\n",
      "621/621 [==============================] - 1s 2ms/step - loss: 0.1972 - accuracy: 0.9351 - val_loss: 0.1674 - val_accuracy: 0.9485\n",
      "Epoch 68/96\n",
      "621/621 [==============================] - 1s 2ms/step - loss: 0.1965 - accuracy: 0.9342 - val_loss: 0.1646 - val_accuracy: 0.9496\n",
      "Epoch 69/96\n",
      "621/621 [==============================] - 1s 1ms/step - loss: 0.1970 - accuracy: 0.9351 - val_loss: 0.1647 - val_accuracy: 0.9490\n",
      "Epoch 70/96\n",
      "621/621 [==============================] - 1s 1ms/step - loss: 0.1950 - accuracy: 0.9359 - val_loss: 0.1647 - val_accuracy: 0.9497\n",
      "Epoch 71/96\n",
      "621/621 [==============================] - 1s 1ms/step - loss: 0.1959 - accuracy: 0.9349 - val_loss: 0.1656 - val_accuracy: 0.9486\n",
      "Epoch 72/96\n",
      "621/621 [==============================] - 1s 1ms/step - loss: 0.2009 - accuracy: 0.9331 - val_loss: 0.1659 - val_accuracy: 0.9488\n",
      "Epoch 73/96\n",
      "621/621 [==============================] - 1s 1ms/step - loss: 0.1994 - accuracy: 0.9333 - val_loss: 0.1641 - val_accuracy: 0.9496\n",
      "Epoch 74/96\n",
      "621/621 [==============================] - 1s 1ms/step - loss: 0.1957 - accuracy: 0.9348 - val_loss: 0.1658 - val_accuracy: 0.9479\n",
      "Epoch 75/96\n",
      "621/621 [==============================] - 1s 1ms/step - loss: 0.1991 - accuracy: 0.9331 - val_loss: 0.1656 - val_accuracy: 0.9476\n",
      "Epoch 76/96\n",
      "621/621 [==============================] - 1s 2ms/step - loss: 0.1994 - accuracy: 0.9330 - val_loss: 0.1673 - val_accuracy: 0.9474\n",
      "Epoch 77/96\n",
      "621/621 [==============================] - 1s 1ms/step - loss: 0.1982 - accuracy: 0.9341 - val_loss: 0.1702 - val_accuracy: 0.9463\n",
      "Epoch 78/96\n",
      "621/621 [==============================] - 1s 1ms/step - loss: 0.2002 - accuracy: 0.9333 - val_loss: 0.1713 - val_accuracy: 0.9453\n",
      "Epoch 79/96\n",
      "621/621 [==============================] - 1s 2ms/step - loss: 0.2004 - accuracy: 0.9330 - val_loss: 0.1621 - val_accuracy: 0.9515\n",
      "Epoch 80/96\n",
      "621/621 [==============================] - 1s 2ms/step - loss: 0.1966 - accuracy: 0.9350 - val_loss: 0.1629 - val_accuracy: 0.9499\n",
      "Epoch 81/96\n",
      "621/621 [==============================] - 1s 2ms/step - loss: 0.1971 - accuracy: 0.9346 - val_loss: 0.1636 - val_accuracy: 0.9500\n",
      "Epoch 82/96\n",
      "621/621 [==============================] - 1s 2ms/step - loss: 0.1951 - accuracy: 0.9358 - val_loss: 0.1629 - val_accuracy: 0.9497\n",
      "Epoch 83/96\n",
      "621/621 [==============================] - 1s 2ms/step - loss: 0.1959 - accuracy: 0.9352 - val_loss: 0.1714 - val_accuracy: 0.9458\n",
      "Epoch 84/96\n",
      "621/621 [==============================] - 1s 1ms/step - loss: 0.1967 - accuracy: 0.9347 - val_loss: 0.1644 - val_accuracy: 0.9487\n",
      "Epoch 85/96\n",
      "621/621 [==============================] - 1s 1ms/step - loss: 0.1968 - accuracy: 0.9349 - val_loss: 0.1642 - val_accuracy: 0.9488\n",
      "Epoch 86/96\n",
      "621/621 [==============================] - 1s 1ms/step - loss: 0.1977 - accuracy: 0.9342 - val_loss: 0.1619 - val_accuracy: 0.9509\n",
      "Epoch 87/96\n",
      "621/621 [==============================] - 1s 1ms/step - loss: 0.1994 - accuracy: 0.9344 - val_loss: 0.1627 - val_accuracy: 0.9509\n",
      "Epoch 88/96\n",
      "621/621 [==============================] - 1s 1ms/step - loss: 0.1990 - accuracy: 0.9338 - val_loss: 0.1613 - val_accuracy: 0.9498\n",
      "Epoch 89/96\n",
      "621/621 [==============================] - 1s 1ms/step - loss: 0.1990 - accuracy: 0.9334 - val_loss: 0.1642 - val_accuracy: 0.9483\n",
      "Epoch 90/96\n",
      "621/621 [==============================] - 1s 2ms/step - loss: 0.1988 - accuracy: 0.9335 - val_loss: 0.1679 - val_accuracy: 0.9476\n",
      "Epoch 91/96\n",
      "621/621 [==============================] - 1s 1ms/step - loss: 0.1964 - accuracy: 0.9350 - val_loss: 0.1650 - val_accuracy: 0.9486\n",
      "Epoch 92/96\n",
      "621/621 [==============================] - 1s 1ms/step - loss: 0.1964 - accuracy: 0.9348 - val_loss: 0.1651 - val_accuracy: 0.9487\n",
      "Epoch 93/96\n",
      "621/621 [==============================] - 1s 1ms/step - loss: 0.1929 - accuracy: 0.9365 - val_loss: 0.1668 - val_accuracy: 0.9478\n",
      "Epoch 94/96\n",
      "621/621 [==============================] - 1s 1ms/step - loss: 0.1968 - accuracy: 0.9344 - val_loss: 0.1615 - val_accuracy: 0.9508\n",
      "Epoch 95/96\n",
      "621/621 [==============================] - 1s 1ms/step - loss: 0.1962 - accuracy: 0.9354 - val_loss: 0.1596 - val_accuracy: 0.9514\n",
      "Epoch 96/96\n",
      "621/621 [==============================] - 1s 1ms/step - loss: 0.1958 - accuracy: 0.9355 - val_loss: 0.1622 - val_accuracy: 0.9509\n"
     ]
    }
   ],
   "source": [
    "model = build_model ()\n",
    "history = model.fit ( x_train, y_train, epochs = 96, batch_size = 150 , validation_data = (x_val, y_val) )\n",
    "model.save(\"class.h5\")"
   ]
  },
  {
   "cell_type": "markdown",
   "metadata": {},
   "source": [
    "## Adding Dropout\n",
    "\n",
    "Dropout is one of the most effective and most commonly used regularization techniques for neural networks, developed by Geoff Hinton and his students at the University of Toronto. Dropout, applied to a layer, consists of randomly dropping out (setting to zero) a number of output features of the layer during training. Let’s say a\n",
    "given layer would normally return a vector [0.2, 0.5, 1.3, 0.8, 1.1] for a given input sample during training. After applying dropout, this vector will have a few zero entries distributed at random: for example, [0, 0.5, 1.3, 0, 1.1]. The dropout rate is the fraction of the features that are zeroed out; it’s usually set between 0.2 and 0.5. At test time, no units are dropped out; instead, the layer’s output values are scaled down by a factor equal to the dropout rate, to balance for the fact that more units are active than at training time.\n",
    "\n",
    "##### [From Deep Learning with Python, Chollet]"
   ]
  },
  {
   "cell_type": "code",
   "execution_count": 35,
   "metadata": {},
   "outputs": [
    {
     "data": {
      "image/png": "[encoded data removed]",
      "text/plain": [
       "<Figure size 432x288 with 1 Axes>"
      ]
     },
     "metadata": {
      "needs_background": "light"
     },
     "output_type": "display_data"
    }
   ],
   "source": [
    "import matplotlib.pyplot as plt\n",
    "\n",
    "loss = history.history['loss']\n",
    "val_loss = history.history['val_loss']\n",
    "\n",
    "epochs = range(1, len(loss) + 1)\n",
    "\n",
    "plt.plot(epochs, loss, 'bo', label='Training loss')\n",
    "plt.plot(epochs, val_loss, 'b', label='Validation loss')\n",
    "plt.title('Training and validation loss')\n",
    "plt.xlabel('Epochs')\n",
    "plt.ylabel('Loss')\n",
    "plt.legend()\n",
    "\n",
    "plt.show()\n",
    "\n"
   ]
  },
  {
   "cell_type": "code",
   "execution_count": 36,
   "metadata": {
    "scrolled": true
   },
   "outputs": [
    {
     "data": {
      "image/png": "[encoded data removed]",
      "text/plain": [
       "<Figure size 432x288 with 1 Axes>"
      ]
     },
     "metadata": {
      "needs_background": "light"
     },
     "output_type": "display_data"
    }
   ],
   "source": [
    "plt.clf()   # clear figure\n",
    "\n",
    "accuracy = history.history['accuracy']\n",
    "val_accuracy = history.history['val_accuracy']\n",
    "\n",
    "plt.plot(epochs, accuracy, 'bo', label='Training acc')\n",
    "plt.plot(epochs, val_accuracy, 'b', label='Validation acc')\n",
    "plt.title('Training and validation accuracy')\n",
    "plt.xlabel('Epochs')\n",
    "plt.ylabel('Loss')\n",
    "plt.legend()\n",
    "\n",
    "plt.show()"
   ]
  },
  {
   "cell_type": "code",
   "execution_count": null,
   "metadata": {},
   "outputs": [],
   "source": []
  },
  {
   "cell_type": "code",
   "execution_count": null,
   "metadata": {},
   "outputs": [],
   "source": []
  }
 ],
 "metadata": {
  "kernelspec": {
   "display_name": "Python 3",
   "language": "python",
   "name": "python3"
  },
  "language_info": {
   "codemirror_mode": {
    "name": "ipython",
    "version": 3
   },
   "file_extension": ".py",
   "mimetype": "text/x-python",
   "name": "python",
   "nbconvert_exporter": "python",
   "pygments_lexer": "ipython3",
   "version": "3.8.7"
  }
 },
 "nbformat": 4,
 "nbformat_minor": 4
}
