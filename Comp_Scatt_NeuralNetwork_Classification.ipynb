{
 "cells": [
  {
   "cell_type": "code",
   "execution_count": 1,
   "metadata": {},
   "outputs": [
    {
     "name": "stdout",
     "output_type": "stream",
     "text": [
      "1.2.0\n"
     ]
    }
   ],
   "source": [
    "import pandas as pd \n",
    "import numpy as np\n",
    "import math\n",
    "import tensorflow as tf\n",
    "print(pd.__version__)"
   ]
  },
  {
   "cell_type": "markdown",
   "metadata": {},
   "source": [
    "## Print Dependencies\n",
    "\n",
    "\n",
    "\n",
    "Dependences are fundamental to record the computational environment."
   ]
  },
  {
   "cell_type": "code",
   "execution_count": 2,
   "metadata": {},
   "outputs": [
    {
     "name": "stdout",
     "output_type": "stream",
     "text": [
      "Python implementation: CPython\n",
      "Python version       : 3.7.7\n",
      "IPython version      : 7.19.0\n",
      "\n",
      "pandas    : 1.2.0\n",
      "keras     : 2.4.3\n",
      "numpy     : 1.19.5\n",
      "math      : unknown\n",
      "tensorflow: 2.4.0\n",
      "matplotlib: 3.3.3\n",
      "h5py      : 2.10.0\n",
      "\n",
      "Compiler    : GCC 5.4.0 20160609\n",
      "OS          : Linux\n",
      "Release     : 5.8.0-38-generic\n",
      "Machine     : x86_64\n",
      "Processor   : x86_64\n",
      "CPU cores   : 8\n",
      "Architecture: 64bit\n",
      "\n",
      " \n",
      "Last updated: Tue Jan 19 2021 14:53:51CET\n",
      "\n"
     ]
    }
   ],
   "source": [
    "%load_ext watermark\n",
    "\n",
    "# python, ipython, packages, and machine characteristics\n",
    "%watermark -v -m -p pandas,keras,numpy,math,tensorflow,matplotlib,h5py\n",
    "\n",
    "# date\n",
    "print (\" \")\n",
    "%watermark -u -n -t -z"
   ]
  },
  {
   "cell_type": "markdown",
   "metadata": {},
   "source": [
    "## Load of the data"
   ]
  },
  {
   "cell_type": "code",
   "execution_count": 3,
   "metadata": {},
   "outputs": [],
   "source": [
    "regen_data = False"
   ]
  },
  {
   "cell_type": "code",
   "execution_count": 4,
   "metadata": {},
   "outputs": [],
   "source": [
    "if regen_data:\n",
    "    from process import load_generate_data\n",
    "    from process import savedata\n",
    "    regr_data, class_data = load_generate_data(0.1, 50)\n",
    "    savedata(regr_data, \"regression_data.csv\")\n",
    "    savedata(class_data, \"classification_data.csv\")"
   ]
  },
  {
   "cell_type": "code",
   "execution_count": 5,
   "metadata": {},
   "outputs": [],
   "source": [
    "if not regen_data:\n",
    "    from process import loaddata\n",
    "    regr_data = loaddata(\"regression_data.csv\")\n",
    "    class_data = loaddata(\"classification_data.csv\")"
   ]
  },
  {
   "cell_type": "code",
   "execution_count": 6,
   "metadata": {},
   "outputs": [],
   "source": [
    "np.random.shuffle(class_data)\n",
    "y = class_data[:,0]\n",
    "x = class_data[:,1:]"
   ]
  },
  {
   "cell_type": "code",
   "execution_count": 7,
   "metadata": {},
   "outputs": [
    {
     "name": "stdout",
     "output_type": "stream",
     "text": [
      "Training sample: 51865 \n",
      "Valuation sample: 17289\n"
     ]
    }
   ],
   "source": [
    "train_split = 0.75\n",
    "train_limit = int(len(y)*train_split)\n",
    "print(\"Training sample: {0} \\nValuation sample: {1}\".format(train_limit, len(y)-train_limit))"
   ]
  },
  {
   "cell_type": "code",
   "execution_count": 8,
   "metadata": {},
   "outputs": [
    {
     "data": {
      "text/plain": [
       "(69154, 10)"
      ]
     },
     "execution_count": 8,
     "metadata": {},
     "output_type": "execute_result"
    }
   ],
   "source": [
    "x.shape"
   ]
  },
  {
   "cell_type": "code",
   "execution_count": 9,
   "metadata": {},
   "outputs": [],
   "source": [
    "x_train = x[:train_limit]\n",
    "x_val = x[train_limit:]\n",
    "\n",
    "y_train = y[:train_limit]\n",
    "y_val = y[train_limit:]"
   ]
  },
  {
   "cell_type": "markdown",
   "metadata": {},
   "source": [
    "## Model Build"
   ]
  },
  {
   "cell_type": "code",
   "execution_count": 10,
   "metadata": {},
   "outputs": [],
   "source": [
    "from keras.models import Sequential\n",
    "from keras.layers.core import Dense\n",
    "import keras.backend as K\n",
    "from keras import optimizers\n",
    "from keras import models\n",
    "from keras import layers"
   ]
  },
  {
   "cell_type": "code",
   "execution_count": 11,
   "metadata": {},
   "outputs": [],
   "source": [
    "def build_model() :\n",
    "    model = models.Sequential()\n",
    "    model.add (layers.Dense (16, activation = \"relu\" , input_shape = x.shape))\n",
    "    model.add (layers.Dense (16, activation = \"relu\"))\n",
    "    model.add (layers.Dense (1 , activation = \"sigmoid\"))\n",
    "    model.compile(optimizer = \"adam\" , loss = \"binary_crossentropy\" , metrics =[\"accuracy\"])\n",
    "    return model"
   ]
  },
  {
   "cell_type": "code",
   "execution_count": 14,
   "metadata": {},
   "outputs": [
    {
     "name": "stdout",
     "output_type": "stream",
     "text": [
      "Epoch 1/50\n",
      "WARNING:tensorflow:Model was constructed with shape (None, 69154, 10) for input KerasTensor(type_spec=TensorSpec(shape=(None, 69154, 10), dtype=tf.float32, name='dense_6_input'), name='dense_6_input', description=\"created by layer 'dense_6_input'\"), but it was called on an input with incompatible shape (None, 10).\n",
      "WARNING:tensorflow:Model was constructed with shape (None, 69154, 10) for input KerasTensor(type_spec=TensorSpec(shape=(None, 69154, 10), dtype=tf.float32, name='dense_6_input'), name='dense_6_input', description=\"created by layer 'dense_6_input'\"), but it was called on an input with incompatible shape (None, 10).\n",
      "25882/25933 [============================>.] - ETA: 0s - loss: 0.3570 - accuracy: 0.8527WARNING:tensorflow:Model was constructed with shape (None, 69154, 10) for input KerasTensor(type_spec=TensorSpec(shape=(None, 69154, 10), dtype=tf.float32, name='dense_6_input'), name='dense_6_input', description=\"created by layer 'dense_6_input'\"), but it was called on an input with incompatible shape (None, 10).\n",
      "25933/25933 [==============================] - 24s 910us/step - loss: 0.3568 - accuracy: 0.8528 - val_loss: 0.2293 - val_accuracy: 0.9139\n",
      "Epoch 2/50\n",
      "25933/25933 [==============================] - 24s 930us/step - loss: 0.2105 - accuracy: 0.9261 - val_loss: 0.1943 - val_accuracy: 0.9350\n",
      "Epoch 3/50\n",
      "25933/25933 [==============================] - 22s 853us/step - loss: 0.2027 - accuracy: 0.9292 - val_loss: 0.2102 - val_accuracy: 0.9268\n",
      "Epoch 4/50\n",
      "25933/25933 [==============================] - 24s 934us/step - loss: 0.1958 - accuracy: 0.9331 - val_loss: 0.1905 - val_accuracy: 0.9346\n",
      "Epoch 5/50\n",
      "25933/25933 [==============================] - 24s 917us/step - loss: 0.1951 - accuracy: 0.9333 - val_loss: 0.1810 - val_accuracy: 0.9389\n",
      "Epoch 6/50\n",
      "25933/25933 [==============================] - 25s 948us/step - loss: 0.1933 - accuracy: 0.9338 - val_loss: 0.2006 - val_accuracy: 0.9316\n",
      "Epoch 7/50\n",
      "25933/25933 [==============================] - 27s 1ms/step - loss: 0.1910 - accuracy: 0.9344 - val_loss: 0.1856 - val_accuracy: 0.9374\n",
      "Epoch 8/50\n",
      "25933/25933 [==============================] - 23s 905us/step - loss: 0.1871 - accuracy: 0.9360 - val_loss: 0.1840 - val_accuracy: 0.9385\n",
      "Epoch 9/50\n",
      "25933/25933 [==============================] - 23s 886us/step - loss: 0.1880 - accuracy: 0.9363 - val_loss: 0.1781 - val_accuracy: 0.9384\n",
      "Epoch 10/50\n",
      "25933/25933 [==============================] - 26s 1ms/step - loss: 0.1861 - accuracy: 0.9363 - val_loss: 0.1724 - val_accuracy: 0.9413\n",
      "Epoch 11/50\n",
      "25933/25933 [==============================] - 23s 877us/step - loss: 0.1857 - accuracy: 0.9372 - val_loss: 0.1850 - val_accuracy: 0.9352\n",
      "Epoch 12/50\n",
      "25933/25933 [==============================] - 24s 944us/step - loss: 0.1872 - accuracy: 0.9366 - val_loss: 0.1984 - val_accuracy: 0.9320\n",
      "Epoch 13/50\n",
      "25933/25933 [==============================] - 29s 1ms/step - loss: 0.1813 - accuracy: 0.9387 - val_loss: 0.1925 - val_accuracy: 0.9339\n",
      "Epoch 14/50\n",
      "25933/25933 [==============================] - 26s 1ms/step - loss: 0.1784 - accuracy: 0.9405 - val_loss: 0.1853 - val_accuracy: 0.9379\n",
      "Epoch 15/50\n",
      "25933/25933 [==============================] - 25s 953us/step - loss: 0.1801 - accuracy: 0.9399 - val_loss: 0.1989 - val_accuracy: 0.9327\n",
      "Epoch 16/50\n",
      "25933/25933 [==============================] - 23s 890us/step - loss: 0.1788 - accuracy: 0.9403 - val_loss: 0.1748 - val_accuracy: 0.9419\n",
      "Epoch 17/50\n",
      "25933/25933 [==============================] - 34s 1ms/step - loss: 0.1801 - accuracy: 0.9394 - val_loss: 0.2125 - val_accuracy: 0.9184\n",
      "Epoch 18/50\n",
      "25933/25933 [==============================] - 25s 949us/step - loss: 0.1798 - accuracy: 0.9391 - val_loss: 0.1776 - val_accuracy: 0.9410\n",
      "Epoch 19/50\n",
      "25933/25933 [==============================] - 32s 1ms/step - loss: 0.1794 - accuracy: 0.9386 - val_loss: 0.1705 - val_accuracy: 0.9447\n",
      "Epoch 20/50\n",
      "25933/25933 [==============================] - 37s 1ms/step - loss: 0.1783 - accuracy: 0.9408 - val_loss: 0.1652 - val_accuracy: 0.9460\n",
      "Epoch 21/50\n",
      "25933/25933 [==============================] - 24s 921us/step - loss: 0.1795 - accuracy: 0.9398 - val_loss: 0.1744 - val_accuracy: 0.9420\n",
      "Epoch 22/50\n",
      "25933/25933 [==============================] - 27s 1ms/step - loss: 0.1735 - accuracy: 0.9420 - val_loss: 0.1640 - val_accuracy: 0.9474\n",
      "Epoch 23/50\n",
      "25933/25933 [==============================] - 22s 863us/step - loss: 0.1791 - accuracy: 0.9400 - val_loss: 0.2090 - val_accuracy: 0.9202\n",
      "Epoch 24/50\n",
      "25933/25933 [==============================] - 24s 926us/step - loss: 0.1733 - accuracy: 0.9423 - val_loss: 0.1700 - val_accuracy: 0.9449\n",
      "Epoch 25/50\n",
      "25933/25933 [==============================] - 25s 976us/step - loss: 0.1765 - accuracy: 0.9402 - val_loss: 0.1887 - val_accuracy: 0.9359\n",
      "Epoch 26/50\n",
      "25933/25933 [==============================] - 25s 968us/step - loss: 0.1783 - accuracy: 0.9411 - val_loss: 0.2068 - val_accuracy: 0.9237\n",
      "Epoch 27/50\n",
      "25933/25933 [==============================] - 25s 968us/step - loss: 0.1797 - accuracy: 0.9400 - val_loss: 0.1841 - val_accuracy: 0.9381\n",
      "Epoch 28/50\n",
      "25933/25933 [==============================] - 30s 1ms/step - loss: 0.1760 - accuracy: 0.9421 - val_loss: 0.1691 - val_accuracy: 0.9453\n",
      "Epoch 29/50\n",
      "25933/25933 [==============================] - 24s 916us/step - loss: 0.1736 - accuracy: 0.9425 - val_loss: 0.1715 - val_accuracy: 0.9433\n",
      "Epoch 30/50\n",
      "25933/25933 [==============================] - 31s 1ms/step - loss: 0.1732 - accuracy: 0.9422 - val_loss: 0.1673 - val_accuracy: 0.9459\n",
      "Epoch 31/50\n",
      "25933/25933 [==============================] - 33s 1ms/step - loss: 0.1766 - accuracy: 0.9418 - val_loss: 0.1818 - val_accuracy: 0.9386\n",
      "Epoch 32/50\n",
      "25933/25933 [==============================] - 30s 1ms/step - loss: 0.1743 - accuracy: 0.9425 - val_loss: 0.1630 - val_accuracy: 0.9491\n",
      "Epoch 33/50\n",
      "25933/25933 [==============================] - 28s 1ms/step - loss: 0.1730 - accuracy: 0.9427 - val_loss: 0.1672 - val_accuracy: 0.9463\n",
      "Epoch 34/50\n",
      "25933/25933 [==============================] - 24s 925us/step - loss: 0.1692 - accuracy: 0.9442 - val_loss: 0.1719 - val_accuracy: 0.9444\n",
      "Epoch 35/50\n",
      "25933/25933 [==============================] - 24s 938us/step - loss: 0.1707 - accuracy: 0.9444 - val_loss: 0.1666 - val_accuracy: 0.9461\n",
      "Epoch 36/50\n",
      "25933/25933 [==============================] - 24s 921us/step - loss: 0.1741 - accuracy: 0.9431 - val_loss: 0.1684 - val_accuracy: 0.9453\n",
      "Epoch 37/50\n",
      "25933/25933 [==============================] - 26s 995us/step - loss: 0.1701 - accuracy: 0.9446 - val_loss: 0.1730 - val_accuracy: 0.9435\n",
      "Epoch 38/50\n",
      "25933/25933 [==============================] - 26s 1000us/step - loss: 0.1725 - accuracy: 0.9429 - val_loss: 0.1709 - val_accuracy: 0.9440\n",
      "Epoch 39/50\n",
      "25933/25933 [==============================] - 26s 985us/step - loss: 0.1726 - accuracy: 0.9442 - val_loss: 0.1711 - val_accuracy: 0.9446\n",
      "Epoch 40/50\n",
      "25933/25933 [==============================] - 26s 997us/step - loss: 0.1704 - accuracy: 0.9446 - val_loss: 0.1756 - val_accuracy: 0.9415\n",
      "Epoch 41/50\n",
      "25933/25933 [==============================] - 25s 964us/step - loss: 0.1714 - accuracy: 0.9439 - val_loss: 0.1707 - val_accuracy: 0.9448\n",
      "Epoch 42/50\n",
      "25933/25933 [==============================] - 28s 1ms/step - loss: 0.1721 - accuracy: 0.9442 - val_loss: 0.1660 - val_accuracy: 0.9468\n",
      "Epoch 43/50\n",
      "25933/25933 [==============================] - 20s 789us/step - loss: 0.1665 - accuracy: 0.9456 - val_loss: 0.1737 - val_accuracy: 0.9423\n",
      "Epoch 44/50\n",
      "25933/25933 [==============================] - 23s 904us/step - loss: 0.1737 - accuracy: 0.9429 - val_loss: 0.1628 - val_accuracy: 0.9479\n",
      "Epoch 45/50\n",
      "25933/25933 [==============================] - 25s 956us/step - loss: 0.1730 - accuracy: 0.9436 - val_loss: 0.1621 - val_accuracy: 0.9492\n",
      "Epoch 46/50\n",
      "25933/25933 [==============================] - 22s 852us/step - loss: 0.1699 - accuracy: 0.9452 - val_loss: 0.1799 - val_accuracy: 0.9391\n",
      "Epoch 47/50\n",
      "25933/25933 [==============================] - 21s 826us/step - loss: 0.1691 - accuracy: 0.9448 - val_loss: 0.1662 - val_accuracy: 0.9462\n",
      "Epoch 48/50\n",
      "25933/25933 [==============================] - 23s 890us/step - loss: 0.1707 - accuracy: 0.9446 - val_loss: 0.1699 - val_accuracy: 0.9447\n"
     ]
    },
    {
     "name": "stdout",
     "output_type": "stream",
     "text": [
      "Epoch 49/50\n",
      "25933/25933 [==============================] - 23s 901us/step - loss: 0.1710 - accuracy: 0.9435 - val_loss: 0.1686 - val_accuracy: 0.9457\n",
      "Epoch 50/50\n",
      "25933/25933 [==============================] - 22s 835us/step - loss: 0.1701 - accuracy: 0.9443 - val_loss: 0.1653 - val_accuracy: 0.9476\n"
     ]
    }
   ],
   "source": [
    "model = build_model ()\n",
    "history = model.fit ( x_train, y_train, epochs = 50, batch_size = 2 , validation_data = (x_val, y_val) )\n",
    "model.save(\"prova.h5\")"
   ]
  },
  {
   "cell_type": "code",
   "execution_count": 15,
   "metadata": {},
   "outputs": [
    {
     "data": {
      "image/png": "[encoded data removed]",
      "text/plain": [
       "<Figure size 432x288 with 1 Axes>"
      ]
     },
     "metadata": {
      "needs_background": "light"
     },
     "output_type": "display_data"
    }
   ],
   "source": [
    "import matplotlib.pyplot as plt\n",
    "\n",
    "loss = history.history['loss']\n",
    "val_loss = history.history['val_loss']\n",
    "\n",
    "epochs = range(1, len(loss) + 1)\n",
    "\n",
    "plt.plot(epochs, loss, 'bo', label='Training loss')\n",
    "plt.plot(epochs, val_loss, 'b', label='Validation loss')\n",
    "plt.title('Training and validation loss')\n",
    "plt.xlabel('Epochs')\n",
    "plt.ylabel('Loss')\n",
    "plt.legend()\n",
    "\n",
    "plt.show()\n",
    "\n"
   ]
  },
  {
   "cell_type": "code",
   "execution_count": 16,
   "metadata": {
    "scrolled": true
   },
   "outputs": [
    {
     "data": {
      "image/png": "[encoded data removed]",
      "text/plain": [
       "<Figure size 432x288 with 1 Axes>"
      ]
     },
     "metadata": {
      "needs_background": "light"
     },
     "output_type": "display_data"
    }
   ],
   "source": [
    "plt.clf()   # clear figure\n",
    "\n",
    "accuracy = history.history['accuracy']\n",
    "val_accuracy = history.history['val_accuracy']\n",
    "\n",
    "plt.plot(epochs, accuracy, 'bo', label='Training acc')\n",
    "plt.plot(epochs, val_accuracy, 'b', label='Validation acc')\n",
    "plt.title('Training and validation accuracy')\n",
    "plt.xlabel('Epochs')\n",
    "plt.ylabel('Loss')\n",
    "plt.legend()\n",
    "\n",
    "plt.show()"
   ]
  },
  {
   "cell_type": "code",
   "execution_count": 17,
   "metadata": {},
   "outputs": [],
   "source": [
    "def build_model() :\n",
    "    model = models.Sequential()\n",
    "    model.add (layers.Dense (16 , activation = \"relu\" , input_shape = x.shape))\n",
    "    model.add(layers.Dropout(0.2))\n",
    "    model.add (layers.Dense (16, activation = \"relu\"))\n",
    "    model.add(layers.Dropout(0.2))\n",
    "    model.add (layers.Dense (1 , activation = \"sigmoid\"))\n",
    "    model.compile(optimizer = \"adam\" , loss = \"binary_crossentropy\" , metrics =[\"accuracy\"])\n",
    "    return model"
   ]
  },
  {
   "cell_type": "code",
   "execution_count": 18,
   "metadata": {},
   "outputs": [
    {
     "name": "stdout",
     "output_type": "stream",
     "text": [
      "Epoch 1/50\n",
      "WARNING:tensorflow:Model was constructed with shape (None, 69154, 10) for input KerasTensor(type_spec=TensorSpec(shape=(None, 69154, 10), dtype=tf.float32, name='dense_9_input'), name='dense_9_input', description=\"created by layer 'dense_9_input'\"), but it was called on an input with incompatible shape (None, 10).\n",
      "WARNING:tensorflow:Model was constructed with shape (None, 69154, 10) for input KerasTensor(type_spec=TensorSpec(shape=(None, 69154, 10), dtype=tf.float32, name='dense_9_input'), name='dense_9_input', description=\"created by layer 'dense_9_input'\"), but it was called on an input with incompatible shape (None, 10).\n",
      "25876/25933 [============================>.] - ETA: 0s - loss: 0.4334 - accuracy: 0.7791WARNING:tensorflow:Model was constructed with shape (None, 69154, 10) for input KerasTensor(type_spec=TensorSpec(shape=(None, 69154, 10), dtype=tf.float32, name='dense_9_input'), name='dense_9_input', description=\"created by layer 'dense_9_input'\"), but it was called on an input with incompatible shape (None, 10).\n",
      "25933/25933 [==============================] - 24s 904us/step - loss: 0.4331 - accuracy: 0.7793 - val_loss: 0.2447 - val_accuracy: 0.9104\n",
      "Epoch 2/50\n",
      "25933/25933 [==============================] - 23s 896us/step - loss: 0.2465 - accuracy: 0.9089 - val_loss: 0.1893 - val_accuracy: 0.9382\n",
      "Epoch 3/50\n",
      "25933/25933 [==============================] - 24s 908us/step - loss: 0.2318 - accuracy: 0.9164 - val_loss: 0.2199 - val_accuracy: 0.9256\n",
      "Epoch 4/50\n",
      "25933/25933 [==============================] - 23s 902us/step - loss: 0.2306 - accuracy: 0.9165 - val_loss: 0.2494 - val_accuracy: 0.8939\n",
      "Epoch 5/50\n",
      "25933/25933 [==============================] - 22s 864us/step - loss: 0.2277 - accuracy: 0.9186 - val_loss: 0.2303 - val_accuracy: 0.9100\n",
      "Epoch 6/50\n",
      "25933/25933 [==============================] - 23s 905us/step - loss: 0.2219 - accuracy: 0.9207 - val_loss: 0.2148 - val_accuracy: 0.9228\n",
      "Epoch 7/50\n",
      "25933/25933 [==============================] - 38s 1ms/step - loss: 0.2170 - accuracy: 0.9232 - val_loss: 0.1795 - val_accuracy: 0.9420\n",
      "Epoch 8/50\n",
      "25933/25933 [==============================] - 24s 909us/step - loss: 0.2190 - accuracy: 0.9223 - val_loss: 0.1820 - val_accuracy: 0.9413\n",
      "Epoch 9/50\n",
      "25933/25933 [==============================] - 25s 964us/step - loss: 0.2160 - accuracy: 0.9227 - val_loss: 0.1987 - val_accuracy: 0.9345\n",
      "Epoch 10/50\n",
      "25933/25933 [==============================] - 23s 896us/step - loss: 0.2177 - accuracy: 0.9221 - val_loss: 0.1840 - val_accuracy: 0.9379\n",
      "Epoch 11/50\n",
      "25933/25933 [==============================] - 22s 832us/step - loss: 0.2138 - accuracy: 0.9240 - val_loss: 0.1955 - val_accuracy: 0.9327\n",
      "Epoch 12/50\n",
      "25933/25933 [==============================] - 23s 900us/step - loss: 0.2079 - accuracy: 0.9262 - val_loss: 0.1921 - val_accuracy: 0.9350\n",
      "Epoch 13/50\n",
      "25933/25933 [==============================] - 23s 884us/step - loss: 0.2103 - accuracy: 0.9264 - val_loss: 0.2636 - val_accuracy: 0.8958\n",
      "Epoch 14/50\n",
      "25933/25933 [==============================] - 24s 912us/step - loss: 0.2104 - accuracy: 0.9261 - val_loss: 0.2128 - val_accuracy: 0.9245\n",
      "Epoch 15/50\n",
      "25933/25933 [==============================] - 24s 917us/step - loss: 0.2064 - accuracy: 0.9260 - val_loss: 0.1961 - val_accuracy: 0.9315\n",
      "Epoch 16/50\n",
      "25933/25933 [==============================] - 28s 1ms/step - loss: 0.2015 - accuracy: 0.9292 - val_loss: 0.2001 - val_accuracy: 0.9326\n",
      "Epoch 17/50\n",
      "25933/25933 [==============================] - 22s 858us/step - loss: 0.2025 - accuracy: 0.9301 - val_loss: 0.1817 - val_accuracy: 0.9382\n",
      "Epoch 18/50\n",
      "25933/25933 [==============================] - 20s 774us/step - loss: 0.2090 - accuracy: 0.9266 - val_loss: 0.1998 - val_accuracy: 0.9274\n",
      "Epoch 19/50\n",
      "25933/25933 [==============================] - 22s 854us/step - loss: 0.2038 - accuracy: 0.9287 - val_loss: 0.1728 - val_accuracy: 0.9431\n",
      "Epoch 20/50\n",
      "25933/25933 [==============================] - 22s 847us/step - loss: 0.2030 - accuracy: 0.9297 - val_loss: 0.1772 - val_accuracy: 0.9418\n",
      "Epoch 21/50\n",
      "25933/25933 [==============================] - 20s 788us/step - loss: 0.1972 - accuracy: 0.9313 - val_loss: 0.1694 - val_accuracy: 0.9449\n",
      "Epoch 22/50\n",
      "25933/25933 [==============================] - 21s 791us/step - loss: 0.2002 - accuracy: 0.9292 - val_loss: 0.1777 - val_accuracy: 0.9435\n",
      "Epoch 23/50\n",
      "25933/25933 [==============================] - 25s 981us/step - loss: 0.2011 - accuracy: 0.9302 - val_loss: 0.1790 - val_accuracy: 0.9386\n",
      "Epoch 24/50\n",
      "25933/25933 [==============================] - 26s 1ms/step - loss: 0.1998 - accuracy: 0.9309 - val_loss: 0.1786 - val_accuracy: 0.9405\n",
      "Epoch 25/50\n",
      "25933/25933 [==============================] - 26s 1ms/step - loss: 0.2011 - accuracy: 0.9306 - val_loss: 0.1780 - val_accuracy: 0.9452\n",
      "Epoch 26/50\n",
      "25933/25933 [==============================] - 23s 874us/step - loss: 0.2001 - accuracy: 0.9313 - val_loss: 0.1954 - val_accuracy: 0.9328\n",
      "Epoch 27/50\n",
      "25933/25933 [==============================] - 22s 830us/step - loss: 0.1974 - accuracy: 0.9315 - val_loss: 0.1821 - val_accuracy: 0.9386\n",
      "Epoch 28/50\n",
      "25933/25933 [==============================] - 20s 789us/step - loss: 0.1985 - accuracy: 0.9318 - val_loss: 0.1852 - val_accuracy: 0.9393\n",
      "Epoch 29/50\n",
      "25933/25933 [==============================] - 21s 799us/step - loss: 0.1949 - accuracy: 0.9346 - val_loss: 0.1946 - val_accuracy: 0.9313\n",
      "Epoch 30/50\n",
      "25933/25933 [==============================] - 21s 797us/step - loss: 0.1969 - accuracy: 0.9320 - val_loss: 0.1751 - val_accuracy: 0.9415\n",
      "Epoch 31/50\n",
      "25933/25933 [==============================] - 22s 832us/step - loss: 0.1968 - accuracy: 0.9317 - val_loss: 0.1753 - val_accuracy: 0.9415\n",
      "Epoch 32/50\n",
      "25933/25933 [==============================] - 21s 802us/step - loss: 0.1917 - accuracy: 0.9341 - val_loss: 0.1806 - val_accuracy: 0.9403\n",
      "Epoch 33/50\n",
      "25933/25933 [==============================] - 23s 885us/step - loss: 0.1969 - accuracy: 0.9327 - val_loss: 0.1784 - val_accuracy: 0.9400\n",
      "Epoch 34/50\n",
      "25933/25933 [==============================] - 26s 1ms/step - loss: 0.1970 - accuracy: 0.9326 - val_loss: 0.1709 - val_accuracy: 0.9424\n",
      "Epoch 35/50\n",
      "25933/25933 [==============================] - 21s 812us/step - loss: 0.1951 - accuracy: 0.9333 - val_loss: 0.1659 - val_accuracy: 0.9483\n",
      "Epoch 36/50\n",
      "25933/25933 [==============================] - 23s 899us/step - loss: 0.1950 - accuracy: 0.9329 - val_loss: 0.1857 - val_accuracy: 0.9364\n",
      "Epoch 37/50\n",
      "25933/25933 [==============================] - 25s 956us/step - loss: 0.1984 - accuracy: 0.9312 - val_loss: 0.1725 - val_accuracy: 0.9467\n",
      "Epoch 38/50\n",
      "25933/25933 [==============================] - 24s 922us/step - loss: 0.1921 - accuracy: 0.9339 - val_loss: 0.1891 - val_accuracy: 0.9348\n",
      "Epoch 39/50\n",
      "25933/25933 [==============================] - 33s 1ms/step - loss: 0.1970 - accuracy: 0.9321 - val_loss: 0.1925 - val_accuracy: 0.9367\n",
      "Epoch 40/50\n",
      "25933/25933 [==============================] - 26s 1ms/step - loss: 0.1931 - accuracy: 0.9338 - val_loss: 0.1722 - val_accuracy: 0.9424\n",
      "Epoch 41/50\n",
      "25933/25933 [==============================] - 25s 962us/step - loss: 0.1925 - accuracy: 0.9350 - val_loss: 0.1702 - val_accuracy: 0.9444\n",
      "Epoch 42/50\n",
      "25933/25933 [==============================] - 28s 1ms/step - loss: 0.1969 - accuracy: 0.9321 - val_loss: 0.1696 - val_accuracy: 0.9441\n",
      "Epoch 43/50\n",
      "25933/25933 [==============================] - 35s 1ms/step - loss: 0.1947 - accuracy: 0.9331 - val_loss: 0.1672 - val_accuracy: 0.9462\n",
      "Epoch 44/50\n",
      "25933/25933 [==============================] - 38s 1ms/step - loss: 0.1903 - accuracy: 0.9352 - val_loss: 0.1851 - val_accuracy: 0.9374\n",
      "Epoch 45/50\n",
      "25933/25933 [==============================] - 36s 1ms/step - loss: 0.1936 - accuracy: 0.9335 - val_loss: 0.1940 - val_accuracy: 0.9312\n",
      "Epoch 46/50\n",
      "25933/25933 [==============================] - 35s 1ms/step - loss: 0.1902 - accuracy: 0.9357 - val_loss: 0.1800 - val_accuracy: 0.9393\n",
      "Epoch 47/50\n",
      "25933/25933 [==============================] - 36s 1ms/step - loss: 0.1891 - accuracy: 0.9360 - val_loss: 0.1666 - val_accuracy: 0.9474\n",
      "Epoch 48/50\n",
      "25933/25933 [==============================] - 38s 1ms/step - loss: 0.1892 - accuracy: 0.9359 - val_loss: 0.1743 - val_accuracy: 0.9419\n"
     ]
    },
    {
     "name": "stdout",
     "output_type": "stream",
     "text": [
      "Epoch 49/50\n",
      "25933/25933 [==============================] - 35s 1ms/step - loss: 0.1879 - accuracy: 0.9371 - val_loss: 0.1695 - val_accuracy: 0.9444\n",
      "Epoch 50/50\n",
      "25933/25933 [==============================] - 34s 1ms/step - loss: 0.1921 - accuracy: 0.9351 - val_loss: 0.2000 - val_accuracy: 0.9279\n"
     ]
    }
   ],
   "source": [
    "model = build_model ()\n",
    "history = model.fit ( x_train, y_train, epochs = 50, batch_size = 2 , validation_data = (x_val, y_val) )\n",
    "model.save(\"prova.h5\")"
   ]
  },
  {
   "cell_type": "markdown",
   "metadata": {},
   "source": [
    "## Adding Dropout\n",
    "\n",
    "Dropout is one of the most effective and most commonly used regularization techniques for neural networks, developed by Geoff Hinton and his students at the University of Toronto. Dropout, applied to a layer, consists of randomly dropping out (setting to zero) a number of output features of the layer during training. Let’s say a\n",
    "given layer would normally return a vector [0.2, 0.5, 1.3, 0.8, 1.1] for a given input sample during training. After applying dropout, this vector will have a few zero entries distributed at random: for example, [0, 0.5, 1.3, 0, 1.1]. The dropout rate is the fraction of the features that are zeroed out; it’s usually set between 0.2 and 0.5. At test time, no units are dropped out; instead, the layer’s output values are scaled down by a factor equal to the dropout rate, to balance for the fact that more units are active than at training time.\n",
    "\n",
    "##### [From Deep Learning with Python, Chollet]"
   ]
  },
  {
   "cell_type": "code",
   "execution_count": 19,
   "metadata": {},
   "outputs": [
    {
     "data": {
      "image/png": "[encoded data removed]",
      "text/plain": [
       "<Figure size 432x288 with 1 Axes>"
      ]
     },
     "metadata": {
      "needs_background": "light"
     },
     "output_type": "display_data"
    }
   ],
   "source": [
    "import matplotlib.pyplot as plt\n",
    "\n",
    "loss = history.history['loss']\n",
    "val_loss = history.history['val_loss']\n",
    "\n",
    "epochs = range(1, len(loss) + 1)\n",
    "\n",
    "plt.plot(epochs, loss, 'bo', label='Training loss')\n",
    "plt.plot(epochs, val_loss, 'b', label='Validation loss')\n",
    "plt.title('Training and validation loss')\n",
    "plt.xlabel('Epochs')\n",
    "plt.ylabel('Loss')\n",
    "plt.legend()\n",
    "\n",
    "plt.show()\n",
    "\n"
   ]
  },
  {
   "cell_type": "code",
   "execution_count": 20,
   "metadata": {
    "scrolled": true
   },
   "outputs": [
    {
     "data": {
      "image/png": "[encoded data removed]",
      "text/plain": [
       "<Figure size 432x288 with 1 Axes>"
      ]
     },
     "metadata": {
      "needs_background": "light"
     },
     "output_type": "display_data"
    }
   ],
   "source": [
    "plt.clf()   # clear figure\n",
    "\n",
    "accuracy = history.history['accuracy']\n",
    "val_accuracy = history.history['val_accuracy']\n",
    "\n",
    "plt.plot(epochs, accuracy, 'bo', label='Training acc')\n",
    "plt.plot(epochs, val_accuracy, 'b', label='Validation acc')\n",
    "plt.title('Training and validation accuracy')\n",
    "plt.xlabel('Epochs')\n",
    "plt.ylabel('Loss')\n",
    "plt.legend()\n",
    "\n",
    "plt.show()"
   ]
  },
  {
   "cell_type": "code",
   "execution_count": null,
   "metadata": {},
   "outputs": [],
   "source": []
  },
  {
   "cell_type": "code",
   "execution_count": null,
   "metadata": {},
   "outputs": [],
   "source": []
  }
 ],
 "metadata": {
  "kernelspec": {
   "display_name": "Python 3",
   "language": "python",
   "name": "python3"
  },
  "language_info": {
   "codemirror_mode": {
    "name": "ipython",
    "version": 3
   },
   "file_extension": ".py",
   "mimetype": "text/x-python",
   "name": "python",
   "nbconvert_exporter": "python",
   "pygments_lexer": "ipython3",
   "version": "3.7.7"
  }
 },
 "nbformat": 4,
 "nbformat_minor": 4
}
