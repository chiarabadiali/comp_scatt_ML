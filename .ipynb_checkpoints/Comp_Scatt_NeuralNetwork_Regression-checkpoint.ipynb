{
 "cells": [
  {
   "cell_type": "code",
   "execution_count": 1,
   "metadata": {},
   "outputs": [
    {
     "name": "stdout",
     "output_type": "stream",
     "text": [
      "1.2.0\n"
     ]
    }
   ],
   "source": [
    "import pandas as pd \n",
    "import numpy as np\n",
    "import math\n",
    "import tensorflow as tf\n",
    "print(pd.__version__)"
   ]
  },
  {
   "cell_type": "markdown",
   "metadata": {},
   "source": [
    "## Print Dependencies\n",
    "\n",
    "\n",
    "\n",
    "Dependences are fundamental to record the computational environment."
   ]
  },
  {
   "cell_type": "code",
   "execution_count": 2,
   "metadata": {},
   "outputs": [
    {
     "name": "stdout",
     "output_type": "stream",
     "text": [
      "Python implementation: CPython\n",
      "Python version       : 3.7.7\n",
      "IPython version      : 7.19.0\n",
      "\n",
      "pandas    : 1.2.0\n",
      "keras     : 2.4.3\n",
      "numpy     : 1.19.5\n",
      "math      : unknown\n",
      "tensorflow: 2.4.0\n",
      "matplotlib: 3.3.3\n",
      "h5py      : 2.10.0\n",
      "\n",
      "Compiler    : GCC 5.4.0 20160609\n",
      "OS          : Linux\n",
      "Release     : 5.8.0-40-generic\n",
      "Machine     : x86_64\n",
      "Processor   : x86_64\n",
      "CPU cores   : 8\n",
      "Architecture: 64bit\n",
      "\n",
      " \n",
      "Last updated: Mon Jan 25 2021 11:09:12CET\n",
      "\n"
     ]
    }
   ],
   "source": [
    "%load_ext watermark\n",
    "\n",
    "# python, ipython, packages, and machine characteristics\n",
    "%watermark -v -m -p pandas,keras,numpy,math,tensorflow,matplotlib,h5py\n",
    "\n",
    "# date\n",
    "print (\" \")\n",
    "%watermark -u -n -t -z"
   ]
  },
  {
   "cell_type": "markdown",
   "metadata": {},
   "source": [
    "## Load of the data"
   ]
  },
  {
   "cell_type": "code",
   "execution_count": 3,
   "metadata": {},
   "outputs": [],
   "source": [
    "regen_data = False\n",
    "# If we keep it as false, it's going to just load the data. If true it's going to regenerate the data again "
   ]
  },
  {
   "cell_type": "code",
   "execution_count": 4,
   "metadata": {},
   "outputs": [],
   "source": [
    "if regen_data:\n",
    "    from process import load_generate_data\n",
    "    from process import savedata\n",
    "    regr_data, class_data = load_generate_data(0.1, 5)\n",
    "    savedata(regr_data, \"regression_data-2.csv\")"
   ]
  },
  {
   "cell_type": "code",
   "execution_count": 5,
   "metadata": {},
   "outputs": [],
   "source": [
    "if not regen_data:\n",
    "    from process import loaddata\n",
    "    regr_data = loaddata(\"regression_data-2.csv\")"
   ]
  },
  {
   "cell_type": "code",
   "execution_count": 6,
   "metadata": {},
   "outputs": [],
   "source": [
    "np.random.shuffle(regr_data)\n",
    "y = regr_data[:,-3:]\n",
    "x = regr_data[:,:5]"
   ]
  },
  {
   "cell_type": "code",
   "execution_count": 7,
   "metadata": {},
   "outputs": [
    {
     "name": "stdout",
     "output_type": "stream",
     "text": [
      "Training sample: 46524 \n",
      "Valuation sample: 15508\n"
     ]
    }
   ],
   "source": [
    "train_split = 0.75\n",
    "train_limit = int(len(y)*train_split)\n",
    "print(\"Training sample: {0} \\nValuation sample: {1}\".format(train_limit, len(y)-train_limit))"
   ]
  },
  {
   "cell_type": "code",
   "execution_count": 8,
   "metadata": {},
   "outputs": [
    {
     "data": {
      "text/plain": [
       "(62032, 5)"
      ]
     },
     "execution_count": 8,
     "metadata": {},
     "output_type": "execute_result"
    }
   ],
   "source": [
    "x.shape"
   ]
  },
  {
   "cell_type": "code",
   "execution_count": 9,
   "metadata": {},
   "outputs": [],
   "source": [
    "x_train = x[:train_limit]\n",
    "x_val = x[train_limit:]\n",
    "\n",
    "y_train = y[:train_limit]\n",
    "y_val = y[train_limit:]"
   ]
  },
  {
   "cell_type": "markdown",
   "metadata": {},
   "source": [
    "## Model Build"
   ]
  },
  {
   "cell_type": "code",
   "execution_count": 10,
   "metadata": {},
   "outputs": [],
   "source": [
    "from keras.models import Sequential\n",
    "from keras.layers.core import Dense\n",
    "import keras.backend as K\n",
    "from keras import optimizers\n",
    "from keras import models\n",
    "from keras import layers"
   ]
  },
  {
   "cell_type": "code",
   "execution_count": 11,
   "metadata": {},
   "outputs": [],
   "source": [
    "def build_model() :\n",
    "    model = models.Sequential()\n",
    "    model.add (layers.Dense (6, activation = \"sigmoid\" , input_shape = x.shape))\n",
    "    model.add(layers.Dropout(0.3))\n",
    "    model.add (layers.Dense (8, activation = \"relu\"))\n",
    "    model.add(layers.Dropout(0.3))\n",
    "    model.add (layers.Dense (3))\n",
    "    model.compile(optimizer = \"rmsprop\" , loss = \"mse\" , metrics =[\"mae\"])\n",
    "    return model"
   ]
  },
  {
   "cell_type": "code",
   "execution_count": 12,
   "metadata": {},
   "outputs": [
    {
     "name": "stdout",
     "output_type": "stream",
     "text": [
      "Epoch 1/100\n",
      "WARNING:tensorflow:Model was constructed with shape (None, 62032, 5) for input KerasTensor(type_spec=TensorSpec(shape=(None, 62032, 5), dtype=tf.float32, name='dense_input'), name='dense_input', description=\"created by layer 'dense_input'\"), but it was called on an input with incompatible shape (None, 5).\n",
      "WARNING:tensorflow:Model was constructed with shape (None, 62032, 5) for input KerasTensor(type_spec=TensorSpec(shape=(None, 62032, 5), dtype=tf.float32, name='dense_input'), name='dense_input', description=\"created by layer 'dense_input'\"), but it was called on an input with incompatible shape (None, 5).\n",
      " 1/23 [>.............................] - ETA: 12s - loss: 0.2715 - mae: 0.4107WARNING:tensorflow:Model was constructed with shape (None, 62032, 5) for input KerasTensor(type_spec=TensorSpec(shape=(None, 62032, 5), dtype=tf.float32, name='dense_input'), name='dense_input', description=\"created by layer 'dense_input'\"), but it was called on an input with incompatible shape (None, 5).\n",
      "23/23 [==============================] - 1s 32ms/step - loss: 0.2268 - mae: 0.3751 - val_loss: 0.0318 - val_mae: 0.1564\n",
      "Epoch 2/100\n",
      "23/23 [==============================] - 0s 4ms/step - loss: 0.1391 - mae: 0.2925 - val_loss: 0.0178 - val_mae: 0.1163\n",
      "Epoch 3/100\n",
      "23/23 [==============================] - 0s 4ms/step - loss: 0.0920 - mae: 0.2376 - val_loss: 0.0104 - val_mae: 0.0908\n",
      "Epoch 4/100\n",
      "23/23 [==============================] - 0s 4ms/step - loss: 0.0617 - mae: 0.1937 - val_loss: 0.0061 - val_mae: 0.0682\n",
      "Epoch 5/100\n",
      "23/23 [==============================] - 0s 4ms/step - loss: 0.0416 - mae: 0.1590 - val_loss: 0.0024 - val_mae: 0.0399\n",
      "Epoch 6/100\n",
      "23/23 [==============================] - 0s 4ms/step - loss: 0.0271 - mae: 0.1288 - val_loss: 0.0017 - val_mae: 0.0334\n",
      "Epoch 7/100\n",
      "23/23 [==============================] - 0s 4ms/step - loss: 0.0174 - mae: 0.1006 - val_loss: 0.0018 - val_mae: 0.0349\n",
      "Epoch 8/100\n",
      "23/23 [==============================] - 0s 4ms/step - loss: 0.0111 - mae: 0.0762 - val_loss: 0.0021 - val_mae: 0.0373\n",
      "Epoch 9/100\n",
      "23/23 [==============================] - 0s 4ms/step - loss: 0.0072 - mae: 0.0599 - val_loss: 0.0017 - val_mae: 0.0340\n",
      "Epoch 10/100\n",
      "23/23 [==============================] - 0s 4ms/step - loss: 0.0049 - mae: 0.0496 - val_loss: 0.0016 - val_mae: 0.0326\n",
      "Epoch 11/100\n",
      "23/23 [==============================] - 0s 4ms/step - loss: 0.0034 - mae: 0.0426 - val_loss: 0.0015 - val_mae: 0.0321\n",
      "Epoch 12/100\n",
      "23/23 [==============================] - 0s 4ms/step - loss: 0.0025 - mae: 0.0382 - val_loss: 0.0015 - val_mae: 0.0320\n",
      "Epoch 13/100\n",
      "23/23 [==============================] - 0s 4ms/step - loss: 0.0020 - mae: 0.0357 - val_loss: 0.0015 - val_mae: 0.0320\n",
      "Epoch 14/100\n",
      "23/23 [==============================] - 0s 4ms/step - loss: 0.0018 - mae: 0.0341 - val_loss: 0.0015 - val_mae: 0.0320\n",
      "Epoch 15/100\n",
      "23/23 [==============================] - 0s 4ms/step - loss: 0.0016 - mae: 0.0331 - val_loss: 0.0015 - val_mae: 0.0320\n",
      "Epoch 16/100\n",
      "23/23 [==============================] - 0s 4ms/step - loss: 0.0016 - mae: 0.0325 - val_loss: 0.0015 - val_mae: 0.0320\n",
      "Epoch 17/100\n",
      "23/23 [==============================] - 0s 4ms/step - loss: 0.0015 - mae: 0.0322 - val_loss: 0.0015 - val_mae: 0.0320\n",
      "Epoch 18/100\n",
      "23/23 [==============================] - 0s 4ms/step - loss: 0.0015 - mae: 0.0320 - val_loss: 0.0015 - val_mae: 0.0320\n",
      "Epoch 19/100\n",
      "23/23 [==============================] - 0s 4ms/step - loss: 0.0015 - mae: 0.0321 - val_loss: 0.0015 - val_mae: 0.0320\n",
      "Epoch 20/100\n",
      "23/23 [==============================] - 0s 4ms/step - loss: 0.0015 - mae: 0.0321 - val_loss: 0.0015 - val_mae: 0.0320\n",
      "Epoch 21/100\n",
      "23/23 [==============================] - 0s 3ms/step - loss: 0.0015 - mae: 0.0320 - val_loss: 0.0015 - val_mae: 0.0320\n",
      "Epoch 22/100\n",
      "23/23 [==============================] - 0s 4ms/step - loss: 0.0015 - mae: 0.0321 - val_loss: 0.0015 - val_mae: 0.0320\n",
      "Epoch 23/100\n",
      "23/23 [==============================] - 0s 3ms/step - loss: 0.0015 - mae: 0.0321 - val_loss: 0.0015 - val_mae: 0.0320\n",
      "Epoch 24/100\n",
      "23/23 [==============================] - 0s 4ms/step - loss: 0.0015 - mae: 0.0320 - val_loss: 0.0015 - val_mae: 0.0320\n",
      "Epoch 25/100\n",
      "23/23 [==============================] - 0s 3ms/step - loss: 0.0015 - mae: 0.0319 - val_loss: 0.0015 - val_mae: 0.0320\n",
      "Epoch 26/100\n",
      "23/23 [==============================] - 0s 4ms/step - loss: 0.0015 - mae: 0.0320 - val_loss: 0.0015 - val_mae: 0.0320\n",
      "Epoch 27/100\n",
      "23/23 [==============================] - 0s 4ms/step - loss: 0.0015 - mae: 0.0319 - val_loss: 0.0015 - val_mae: 0.0320\n",
      "Epoch 28/100\n",
      "23/23 [==============================] - 0s 5ms/step - loss: 0.0015 - mae: 0.0320 - val_loss: 0.0015 - val_mae: 0.0319\n",
      "Epoch 29/100\n",
      "23/23 [==============================] - 0s 4ms/step - loss: 0.0015 - mae: 0.0320 - val_loss: 0.0015 - val_mae: 0.0320\n",
      "Epoch 30/100\n",
      "23/23 [==============================] - 0s 4ms/step - loss: 0.0015 - mae: 0.0320 - val_loss: 0.0015 - val_mae: 0.0320\n",
      "Epoch 31/100\n",
      "23/23 [==============================] - 0s 6ms/step - loss: 0.0015 - mae: 0.0320 - val_loss: 0.0015 - val_mae: 0.0320\n",
      "Epoch 32/100\n",
      "23/23 [==============================] - 0s 5ms/step - loss: 0.0015 - mae: 0.0319 - val_loss: 0.0015 - val_mae: 0.0320\n",
      "Epoch 33/100\n",
      "23/23 [==============================] - 0s 6ms/step - loss: 0.0015 - mae: 0.0320 - val_loss: 0.0015 - val_mae: 0.0320\n",
      "Epoch 34/100\n",
      "23/23 [==============================] - 0s 6ms/step - loss: 0.0015 - mae: 0.0320 - val_loss: 0.0015 - val_mae: 0.0320\n",
      "Epoch 35/100\n",
      "23/23 [==============================] - 0s 5ms/step - loss: 0.0015 - mae: 0.0320 - val_loss: 0.0015 - val_mae: 0.0320\n",
      "Epoch 36/100\n",
      "23/23 [==============================] - 0s 4ms/step - loss: 0.0015 - mae: 0.0320 - val_loss: 0.0015 - val_mae: 0.0320\n",
      "Epoch 37/100\n",
      "23/23 [==============================] - 0s 4ms/step - loss: 0.0015 - mae: 0.0320 - val_loss: 0.0015 - val_mae: 0.0320\n",
      "Epoch 38/100\n",
      "23/23 [==============================] - 0s 4ms/step - loss: 0.0015 - mae: 0.0320 - val_loss: 0.0015 - val_mae: 0.0320\n",
      "Epoch 39/100\n",
      "23/23 [==============================] - 0s 4ms/step - loss: 0.0015 - mae: 0.0320 - val_loss: 0.0015 - val_mae: 0.0320\n",
      "Epoch 40/100\n",
      "23/23 [==============================] - 0s 4ms/step - loss: 0.0015 - mae: 0.0320 - val_loss: 0.0015 - val_mae: 0.0320\n",
      "Epoch 41/100\n",
      "23/23 [==============================] - 0s 4ms/step - loss: 0.0015 - mae: 0.0321 - val_loss: 0.0015 - val_mae: 0.0319\n",
      "Epoch 42/100\n",
      "23/23 [==============================] - 0s 4ms/step - loss: 0.0015 - mae: 0.0320 - val_loss: 0.0015 - val_mae: 0.0320\n",
      "Epoch 43/100\n",
      "23/23 [==============================] - 0s 4ms/step - loss: 0.0015 - mae: 0.0319 - val_loss: 0.0015 - val_mae: 0.0320\n",
      "Epoch 44/100\n",
      "23/23 [==============================] - 0s 4ms/step - loss: 0.0015 - mae: 0.0320 - val_loss: 0.0015 - val_mae: 0.0319\n",
      "Epoch 45/100\n",
      "23/23 [==============================] - 0s 4ms/step - loss: 0.0015 - mae: 0.0320 - val_loss: 0.0015 - val_mae: 0.0320\n",
      "Epoch 46/100\n",
      "23/23 [==============================] - 0s 4ms/step - loss: 0.0015 - mae: 0.0320 - val_loss: 0.0015 - val_mae: 0.0320\n",
      "Epoch 47/100\n",
      "23/23 [==============================] - 0s 5ms/step - loss: 0.0015 - mae: 0.0320 - val_loss: 0.0015 - val_mae: 0.0320\n",
      "Epoch 48/100\n",
      "23/23 [==============================] - 0s 6ms/step - loss: 0.0015 - mae: 0.0319 - val_loss: 0.0015 - val_mae: 0.0320\n",
      "Epoch 49/100\n",
      "23/23 [==============================] - 0s 5ms/step - loss: 0.0015 - mae: 0.0320 - val_loss: 0.0015 - val_mae: 0.0320\n",
      "Epoch 50/100\n",
      "23/23 [==============================] - 0s 4ms/step - loss: 0.0015 - mae: 0.0320 - val_loss: 0.0015 - val_mae: 0.0320\n",
      "Epoch 51/100\n",
      "23/23 [==============================] - 0s 4ms/step - loss: 0.0015 - mae: 0.0320 - val_loss: 0.0015 - val_mae: 0.0320\n",
      "Epoch 52/100\n",
      "23/23 [==============================] - 0s 5ms/step - loss: 0.0015 - mae: 0.0320 - val_loss: 0.0015 - val_mae: 0.0320\n",
      "Epoch 53/100\n",
      "23/23 [==============================] - 0s 5ms/step - loss: 0.0015 - mae: 0.0320 - val_loss: 0.0015 - val_mae: 0.0319\n",
      "Epoch 54/100\n",
      "23/23 [==============================] - 0s 5ms/step - loss: 0.0015 - mae: 0.0320 - val_loss: 0.0015 - val_mae: 0.0320\n",
      "Epoch 55/100\n"
     ]
    },
    {
     "name": "stdout",
     "output_type": "stream",
     "text": [
      "23/23 [==============================] - 0s 4ms/step - loss: 0.0015 - mae: 0.0319 - val_loss: 0.0015 - val_mae: 0.0320\n",
      "Epoch 56/100\n",
      "23/23 [==============================] - 0s 4ms/step - loss: 0.0015 - mae: 0.0320 - val_loss: 0.0015 - val_mae: 0.0320\n",
      "Epoch 57/100\n",
      "23/23 [==============================] - 0s 4ms/step - loss: 0.0015 - mae: 0.0320 - val_loss: 0.0015 - val_mae: 0.0320\n",
      "Epoch 58/100\n",
      "23/23 [==============================] - 0s 5ms/step - loss: 0.0015 - mae: 0.0320 - val_loss: 0.0015 - val_mae: 0.0320\n",
      "Epoch 59/100\n",
      "23/23 [==============================] - 0s 4ms/step - loss: 0.0015 - mae: 0.0320 - val_loss: 0.0015 - val_mae: 0.0320\n",
      "Epoch 60/100\n",
      "23/23 [==============================] - 0s 4ms/step - loss: 0.0015 - mae: 0.0320 - val_loss: 0.0015 - val_mae: 0.0320\n",
      "Epoch 61/100\n",
      "23/23 [==============================] - 0s 4ms/step - loss: 0.0015 - mae: 0.0320 - val_loss: 0.0015 - val_mae: 0.0320\n",
      "Epoch 62/100\n",
      "23/23 [==============================] - 0s 4ms/step - loss: 0.0015 - mae: 0.0319 - val_loss: 0.0015 - val_mae: 0.0320\n",
      "Epoch 63/100\n",
      "23/23 [==============================] - 0s 4ms/step - loss: 0.0015 - mae: 0.0320 - val_loss: 0.0015 - val_mae: 0.0320\n",
      "Epoch 64/100\n",
      "23/23 [==============================] - 0s 4ms/step - loss: 0.0015 - mae: 0.0320 - val_loss: 0.0015 - val_mae: 0.0320\n",
      "Epoch 65/100\n",
      "23/23 [==============================] - 0s 4ms/step - loss: 0.0015 - mae: 0.0320 - val_loss: 0.0015 - val_mae: 0.0319\n",
      "Epoch 66/100\n",
      "23/23 [==============================] - 0s 4ms/step - loss: 0.0015 - mae: 0.0320 - val_loss: 0.0015 - val_mae: 0.0320\n",
      "Epoch 67/100\n",
      "23/23 [==============================] - 0s 4ms/step - loss: 0.0015 - mae: 0.0319 - val_loss: 0.0015 - val_mae: 0.0320\n",
      "Epoch 68/100\n",
      "23/23 [==============================] - 0s 4ms/step - loss: 0.0015 - mae: 0.0320 - val_loss: 0.0015 - val_mae: 0.0320\n",
      "Epoch 69/100\n",
      "23/23 [==============================] - 0s 4ms/step - loss: 0.0015 - mae: 0.0319 - val_loss: 0.0015 - val_mae: 0.0320\n",
      "Epoch 70/100\n",
      "23/23 [==============================] - 0s 4ms/step - loss: 0.0015 - mae: 0.0320 - val_loss: 0.0015 - val_mae: 0.0320\n",
      "Epoch 71/100\n",
      "23/23 [==============================] - 0s 4ms/step - loss: 0.0015 - mae: 0.0319 - val_loss: 0.0015 - val_mae: 0.0320\n",
      "Epoch 72/100\n",
      "23/23 [==============================] - 0s 4ms/step - loss: 0.0015 - mae: 0.0319 - val_loss: 0.0015 - val_mae: 0.0320\n",
      "Epoch 73/100\n",
      "23/23 [==============================] - 0s 5ms/step - loss: 0.0015 - mae: 0.0319 - val_loss: 0.0015 - val_mae: 0.0319\n",
      "Epoch 74/100\n",
      "23/23 [==============================] - 0s 5ms/step - loss: 0.0015 - mae: 0.0320 - val_loss: 0.0015 - val_mae: 0.0320\n",
      "Epoch 75/100\n",
      "23/23 [==============================] - 0s 4ms/step - loss: 0.0015 - mae: 0.0320 - val_loss: 0.0015 - val_mae: 0.0320\n",
      "Epoch 76/100\n",
      "23/23 [==============================] - 0s 6ms/step - loss: 0.0015 - mae: 0.0319 - val_loss: 0.0015 - val_mae: 0.0320\n",
      "Epoch 77/100\n",
      "23/23 [==============================] - 0s 5ms/step - loss: 0.0015 - mae: 0.0319 - val_loss: 0.0015 - val_mae: 0.0320\n",
      "Epoch 78/100\n",
      "23/23 [==============================] - 0s 5ms/step - loss: 0.0015 - mae: 0.0319 - val_loss: 0.0015 - val_mae: 0.0320\n",
      "Epoch 79/100\n",
      "23/23 [==============================] - 0s 5ms/step - loss: 0.0015 - mae: 0.0319 - val_loss: 0.0015 - val_mae: 0.0320\n",
      "Epoch 80/100\n",
      "23/23 [==============================] - 0s 6ms/step - loss: 0.0015 - mae: 0.0320 - val_loss: 0.0015 - val_mae: 0.0320\n",
      "Epoch 81/100\n",
      "23/23 [==============================] - 0s 4ms/step - loss: 0.0015 - mae: 0.0319 - val_loss: 0.0015 - val_mae: 0.0320\n",
      "Epoch 82/100\n",
      "23/23 [==============================] - 0s 3ms/step - loss: 0.0015 - mae: 0.0319 - val_loss: 0.0015 - val_mae: 0.0320\n",
      "Epoch 83/100\n",
      "23/23 [==============================] - 0s 4ms/step - loss: 0.0015 - mae: 0.0319 - val_loss: 0.0015 - val_mae: 0.0320\n",
      "Epoch 84/100\n",
      "23/23 [==============================] - 0s 5ms/step - loss: 0.0015 - mae: 0.0319 - val_loss: 0.0015 - val_mae: 0.0320\n",
      "Epoch 85/100\n",
      "23/23 [==============================] - 0s 5ms/step - loss: 0.0015 - mae: 0.0320 - val_loss: 0.0015 - val_mae: 0.0320\n",
      "Epoch 86/100\n",
      "23/23 [==============================] - 0s 5ms/step - loss: 0.0015 - mae: 0.0319 - val_loss: 0.0015 - val_mae: 0.0320\n",
      "Epoch 87/100\n",
      "23/23 [==============================] - 0s 5ms/step - loss: 0.0015 - mae: 0.0319 - val_loss: 0.0015 - val_mae: 0.0320\n",
      "Epoch 88/100\n",
      "23/23 [==============================] - 0s 5ms/step - loss: 0.0015 - mae: 0.0319 - val_loss: 0.0015 - val_mae: 0.0320\n",
      "Epoch 89/100\n",
      "23/23 [==============================] - 0s 5ms/step - loss: 0.0015 - mae: 0.0319 - val_loss: 0.0015 - val_mae: 0.0320\n",
      "Epoch 90/100\n",
      "23/23 [==============================] - 0s 4ms/step - loss: 0.0015 - mae: 0.0320 - val_loss: 0.0015 - val_mae: 0.0320\n",
      "Epoch 91/100\n",
      "23/23 [==============================] - 0s 4ms/step - loss: 0.0015 - mae: 0.0319 - val_loss: 0.0015 - val_mae: 0.0320\n",
      "Epoch 92/100\n",
      "23/23 [==============================] - 0s 4ms/step - loss: 0.0015 - mae: 0.0320 - val_loss: 0.0015 - val_mae: 0.0320\n",
      "Epoch 93/100\n",
      "23/23 [==============================] - 0s 4ms/step - loss: 0.0015 - mae: 0.0320 - val_loss: 0.0015 - val_mae: 0.0320\n",
      "Epoch 94/100\n",
      "23/23 [==============================] - 0s 4ms/step - loss: 0.0015 - mae: 0.0320 - val_loss: 0.0015 - val_mae: 0.0320\n",
      "Epoch 95/100\n",
      "23/23 [==============================] - 0s 3ms/step - loss: 0.0015 - mae: 0.0320 - val_loss: 0.0015 - val_mae: 0.0320\n",
      "Epoch 96/100\n",
      "23/23 [==============================] - 0s 4ms/step - loss: 0.0015 - mae: 0.0319 - val_loss: 0.0015 - val_mae: 0.0320\n",
      "Epoch 97/100\n",
      "23/23 [==============================] - 0s 4ms/step - loss: 0.0015 - mae: 0.0320 - val_loss: 0.0015 - val_mae: 0.0319\n",
      "Epoch 98/100\n",
      "23/23 [==============================] - 0s 4ms/step - loss: 0.0015 - mae: 0.0320 - val_loss: 0.0015 - val_mae: 0.0320\n",
      "Epoch 99/100\n",
      "23/23 [==============================] - 0s 4ms/step - loss: 0.0015 - mae: 0.0319 - val_loss: 0.0015 - val_mae: 0.0319\n",
      "Epoch 100/100\n",
      "23/23 [==============================] - 0s 3ms/step - loss: 0.0015 - mae: 0.0318 - val_loss: 0.0015 - val_mae: 0.0320\n"
     ]
    }
   ],
   "source": [
    "model = build_model()\n",
    "history = model.fit ( x_train, y_train, epochs = 100, batch_size = 2032, validation_data = (x_val, y_val) )\n",
    "model.save(\"regr.h5\")"
   ]
  },
  {
   "cell_type": "code",
   "execution_count": 13,
   "metadata": {
    "scrolled": false
   },
   "outputs": [
    {
     "data": {
      "image/png": "[encoded data removed]",
      "text/plain": [
       "<Figure size 432x288 with 1 Axes>"
      ]
     },
     "metadata": {
      "needs_background": "light"
     },
     "output_type": "display_data"
    }
   ],
   "source": [
    "import matplotlib.pyplot as plt\n",
    "\n",
    "mae = history.history['mae']\n",
    "val_mae = history.history['val_mae']\n",
    "\n",
    "epochs = range(1, len(mae) + 1)\n",
    "\n",
    "plt.plot(epochs, mae, 'bo', label='Training mae')\n",
    "plt.plot(epochs, val_mae, 'b', label='Validation mae')\n",
    "plt.title('Training and validation accuracy')\n",
    "plt.xlabel('Epochs')\n",
    "plt.ylabel('mae')\n",
    "plt.legend()\n",
    "\n",
    "plt.show()"
   ]
  },
  {
   "cell_type": "code",
   "execution_count": 14,
   "metadata": {},
   "outputs": [
    {
     "data": {
      "image/png": "[encoded data removed]",
      "text/plain": [
       "<Figure size 432x288 with 1 Axes>"
      ]
     },
     "metadata": {
      "needs_background": "light"
     },
     "output_type": "display_data"
    }
   ],
   "source": [
    "plt.clf()   # clear figure\n",
    "\n",
    "loss = history.history['loss']\n",
    "val_loss = history.history['val_loss']\n",
    "\n",
    "\n",
    "\n",
    "plt.plot(epochs, loss, 'bo', label='Training loss')\n",
    "plt.plot(epochs, val_loss, 'b', label='Validation loss')\n",
    "plt.title('Training and validation loss')\n",
    "plt.xlabel('Epochs')\n",
    "plt.ylabel('Loss')\n",
    "plt.legend()\n",
    "\n",
    "plt.show()"
   ]
  },
  {
   "cell_type": "markdown",
   "metadata": {},
   "source": [
    "## !! \n",
    "The dropout 0.2 seems to work better"
   ]
  },
  {
   "cell_type": "code",
   "execution_count": 18,
   "metadata": {},
   "outputs": [],
   "source": [
    "def build_model() :\n",
    "    model = models.Sequential()\n",
    "    model.add (layers.Dense (6, activation = \"sigmoid\" , input_shape = x.shape))\n",
    "    model.add(layers.Dropout(0.2))\n",
    "    model.add (layers.Dense (6, activation = \"relu\"))\n",
    "    model.add(layers.Dropout(0.2))\n",
    "    model.add (layers.Dense (6, activation = \"relu\"))\n",
    "    model.add(layers.Dropout(0.2))\n",
    "    model.add (layers.Dense (3))\n",
    "    model.compile(optimizer = \"rmsprop\" , loss = \"mse\" , metrics =[\"mae\"])\n",
    "    return model"
   ]
  },
  {
   "cell_type": "code",
   "execution_count": 21,
   "metadata": {},
   "outputs": [
    {
     "name": "stdout",
     "output_type": "stream",
     "text": [
      "Epoch 1/100\n",
      "WARNING:tensorflow:Model was constructed with shape (None, 62032, 5) for input KerasTensor(type_spec=TensorSpec(shape=(None, 62032, 5), dtype=tf.float32, name='dense_12_input'), name='dense_12_input', description=\"created by layer 'dense_12_input'\"), but it was called on an input with incompatible shape (None, 5).\n",
      "WARNING:tensorflow:Model was constructed with shape (None, 62032, 5) for input KerasTensor(type_spec=TensorSpec(shape=(None, 62032, 5), dtype=tf.float32, name='dense_12_input'), name='dense_12_input', description=\"created by layer 'dense_12_input'\"), but it was called on an input with incompatible shape (None, 5).\n",
      "23/23 [==============================] - ETA: 0s - loss: 0.0231 - mae: 0.0806 WARNING:tensorflow:Model was constructed with shape (None, 62032, 5) for input KerasTensor(type_spec=TensorSpec(shape=(None, 62032, 5), dtype=tf.float32, name='dense_12_input'), name='dense_12_input', description=\"created by layer 'dense_12_input'\"), but it was called on an input with incompatible shape (None, 5).\n",
      "23/23 [==============================] - 1s 11ms/step - loss: 0.0229 - mae: 0.0802 - val_loss: 0.0018 - val_mae: 0.0350\n",
      "Epoch 2/100\n",
      "23/23 [==============================] - 0s 5ms/step - loss: 0.0083 - mae: 0.0535 - val_loss: 0.0018 - val_mae: 0.0346\n",
      "Epoch 3/100\n",
      "23/23 [==============================] - 0s 4ms/step - loss: 0.0047 - mae: 0.0435 - val_loss: 0.0016 - val_mae: 0.0326\n",
      "Epoch 4/100\n",
      "23/23 [==============================] - 0s 4ms/step - loss: 0.0030 - mae: 0.0379 - val_loss: 0.0015 - val_mae: 0.0321\n",
      "Epoch 5/100\n",
      "23/23 [==============================] - 0s 4ms/step - loss: 0.0021 - mae: 0.0346 - val_loss: 0.0015 - val_mae: 0.0320\n",
      "Epoch 6/100\n",
      "23/23 [==============================] - 0s 4ms/step - loss: 0.0017 - mae: 0.0331 - val_loss: 0.0015 - val_mae: 0.0320\n",
      "Epoch 7/100\n",
      "23/23 [==============================] - 0s 4ms/step - loss: 0.0016 - mae: 0.0326 - val_loss: 0.0015 - val_mae: 0.0320\n",
      "Epoch 8/100\n",
      "23/23 [==============================] - 0s 4ms/step - loss: 0.0015 - mae: 0.0323 - val_loss: 0.0015 - val_mae: 0.0320\n",
      "Epoch 9/100\n",
      "23/23 [==============================] - 0s 4ms/step - loss: 0.0015 - mae: 0.0322 - val_loss: 0.0015 - val_mae: 0.0320\n",
      "Epoch 10/100\n",
      "23/23 [==============================] - 0s 4ms/step - loss: 0.0015 - mae: 0.0320 - val_loss: 0.0015 - val_mae: 0.0320\n",
      "Epoch 11/100\n",
      "23/23 [==============================] - 0s 5ms/step - loss: 0.0015 - mae: 0.0321 - val_loss: 0.0015 - val_mae: 0.0320\n",
      "Epoch 12/100\n",
      "23/23 [==============================] - 0s 6ms/step - loss: 0.0015 - mae: 0.0320 - val_loss: 0.0015 - val_mae: 0.0319\n",
      "Epoch 13/100\n",
      "23/23 [==============================] - 0s 5ms/step - loss: 0.0015 - mae: 0.0320 - val_loss: 0.0015 - val_mae: 0.0320\n",
      "Epoch 14/100\n",
      "23/23 [==============================] - 0s 5ms/step - loss: 0.0015 - mae: 0.0320 - val_loss: 0.0015 - val_mae: 0.0320\n",
      "Epoch 15/100\n",
      "23/23 [==============================] - 0s 6ms/step - loss: 0.0015 - mae: 0.0321 - val_loss: 0.0015 - val_mae: 0.0320\n",
      "Epoch 16/100\n",
      "23/23 [==============================] - 0s 6ms/step - loss: 0.0015 - mae: 0.0320 - val_loss: 0.0015 - val_mae: 0.0320\n",
      "Epoch 17/100\n",
      "23/23 [==============================] - 0s 5ms/step - loss: 0.0015 - mae: 0.0321 - val_loss: 0.0015 - val_mae: 0.0319\n",
      "Epoch 18/100\n",
      "23/23 [==============================] - 0s 6ms/step - loss: 0.0015 - mae: 0.0320 - val_loss: 0.0015 - val_mae: 0.0319\n",
      "Epoch 19/100\n",
      "23/23 [==============================] - 0s 5ms/step - loss: 0.0015 - mae: 0.0321 - val_loss: 0.0015 - val_mae: 0.0320\n",
      "Epoch 20/100\n",
      "23/23 [==============================] - 0s 5ms/step - loss: 0.0015 - mae: 0.0320 - val_loss: 0.0015 - val_mae: 0.0320\n",
      "Epoch 21/100\n",
      "23/23 [==============================] - 0s 5ms/step - loss: 0.0015 - mae: 0.0320 - val_loss: 0.0015 - val_mae: 0.0320\n",
      "Epoch 22/100\n",
      "23/23 [==============================] - 0s 6ms/step - loss: 0.0015 - mae: 0.0320 - val_loss: 0.0015 - val_mae: 0.0320\n",
      "Epoch 23/100\n",
      "23/23 [==============================] - 0s 6ms/step - loss: 0.0015 - mae: 0.0321 - val_loss: 0.0015 - val_mae: 0.0320\n",
      "Epoch 24/100\n",
      "23/23 [==============================] - 0s 6ms/step - loss: 0.0015 - mae: 0.0320 - val_loss: 0.0015 - val_mae: 0.0320\n",
      "Epoch 25/100\n",
      "23/23 [==============================] - 0s 6ms/step - loss: 0.0015 - mae: 0.0319 - val_loss: 0.0015 - val_mae: 0.0320\n",
      "Epoch 26/100\n",
      "23/23 [==============================] - 0s 6ms/step - loss: 0.0015 - mae: 0.0320 - val_loss: 0.0015 - val_mae: 0.0320\n",
      "Epoch 27/100\n",
      "23/23 [==============================] - 0s 5ms/step - loss: 0.0015 - mae: 0.0320 - val_loss: 0.0015 - val_mae: 0.0320\n",
      "Epoch 28/100\n",
      "23/23 [==============================] - 0s 5ms/step - loss: 0.0015 - mae: 0.0320 - val_loss: 0.0015 - val_mae: 0.0320\n",
      "Epoch 29/100\n",
      "23/23 [==============================] - 0s 6ms/step - loss: 0.0015 - mae: 0.0320 - val_loss: 0.0015 - val_mae: 0.0320\n",
      "Epoch 30/100\n",
      "23/23 [==============================] - 0s 6ms/step - loss: 0.0015 - mae: 0.0320 - val_loss: 0.0015 - val_mae: 0.0319\n",
      "Epoch 31/100\n",
      "23/23 [==============================] - 0s 5ms/step - loss: 0.0015 - mae: 0.0320 - val_loss: 0.0015 - val_mae: 0.0320\n",
      "Epoch 32/100\n",
      "23/23 [==============================] - 0s 6ms/step - loss: 0.0015 - mae: 0.0320 - val_loss: 0.0015 - val_mae: 0.0320\n",
      "Epoch 33/100\n",
      "23/23 [==============================] - 0s 5ms/step - loss: 0.0015 - mae: 0.0321 - val_loss: 0.0015 - val_mae: 0.0320\n",
      "Epoch 34/100\n",
      "23/23 [==============================] - 0s 6ms/step - loss: 0.0015 - mae: 0.0321 - val_loss: 0.0015 - val_mae: 0.0320\n",
      "Epoch 35/100\n",
      "23/23 [==============================] - 0s 4ms/step - loss: 0.0015 - mae: 0.0320 - val_loss: 0.0015 - val_mae: 0.0320\n",
      "Epoch 36/100\n",
      "23/23 [==============================] - 0s 5ms/step - loss: 0.0015 - mae: 0.0320 - val_loss: 0.0015 - val_mae: 0.0320\n",
      "Epoch 37/100\n",
      "23/23 [==============================] - 0s 7ms/step - loss: 0.0015 - mae: 0.0321 - val_loss: 0.0015 - val_mae: 0.0320\n",
      "Epoch 38/100\n",
      "23/23 [==============================] - 0s 6ms/step - loss: 0.0015 - mae: 0.0320 - val_loss: 0.0015 - val_mae: 0.0320\n",
      "Epoch 39/100\n",
      "23/23 [==============================] - 0s 8ms/step - loss: 0.0015 - mae: 0.0320 - val_loss: 0.0015 - val_mae: 0.0320\n",
      "Epoch 40/100\n",
      "23/23 [==============================] - 0s 6ms/step - loss: 0.0015 - mae: 0.0320 - val_loss: 0.0015 - val_mae: 0.0320\n",
      "Epoch 41/100\n",
      "23/23 [==============================] - 0s 5ms/step - loss: 0.0015 - mae: 0.0320 - val_loss: 0.0015 - val_mae: 0.0320\n",
      "Epoch 42/100\n",
      "23/23 [==============================] - 0s 5ms/step - loss: 0.0015 - mae: 0.0320 - val_loss: 0.0015 - val_mae: 0.0320\n",
      "Epoch 43/100\n",
      "23/23 [==============================] - 0s 5ms/step - loss: 0.0015 - mae: 0.0320 - val_loss: 0.0015 - val_mae: 0.0320\n",
      "Epoch 44/100\n",
      "23/23 [==============================] - 0s 4ms/step - loss: 0.0015 - mae: 0.0320 - val_loss: 0.0015 - val_mae: 0.0320\n",
      "Epoch 45/100\n",
      "23/23 [==============================] - 0s 5ms/step - loss: 0.0015 - mae: 0.0321 - val_loss: 0.0015 - val_mae: 0.0320\n",
      "Epoch 46/100\n",
      "23/23 [==============================] - 0s 5ms/step - loss: 0.0015 - mae: 0.0320 - val_loss: 0.0015 - val_mae: 0.0320\n",
      "Epoch 47/100\n",
      "23/23 [==============================] - 0s 7ms/step - loss: 0.0015 - mae: 0.0320 - val_loss: 0.0015 - val_mae: 0.0320\n",
      "Epoch 48/100\n",
      "23/23 [==============================] - 0s 6ms/step - loss: 0.0015 - mae: 0.0321 - val_loss: 0.0015 - val_mae: 0.0319\n",
      "Epoch 49/100\n",
      "23/23 [==============================] - 0s 5ms/step - loss: 0.0015 - mae: 0.0320 - val_loss: 0.0015 - val_mae: 0.0319\n",
      "Epoch 50/100\n",
      "23/23 [==============================] - 0s 6ms/step - loss: 0.0015 - mae: 0.0320 - val_loss: 0.0015 - val_mae: 0.0320\n",
      "Epoch 51/100\n",
      "23/23 [==============================] - 0s 5ms/step - loss: 0.0015 - mae: 0.0320 - val_loss: 0.0015 - val_mae: 0.0320\n",
      "Epoch 52/100\n",
      "23/23 [==============================] - 0s 5ms/step - loss: 0.0015 - mae: 0.0321 - val_loss: 0.0015 - val_mae: 0.0320\n",
      "Epoch 53/100\n",
      "23/23 [==============================] - 0s 5ms/step - loss: 0.0015 - mae: 0.0320 - val_loss: 0.0015 - val_mae: 0.0320\n",
      "Epoch 54/100\n",
      "23/23 [==============================] - 0s 5ms/step - loss: 0.0015 - mae: 0.0320 - val_loss: 0.0015 - val_mae: 0.0320\n",
      "Epoch 55/100\n"
     ]
    },
    {
     "name": "stdout",
     "output_type": "stream",
     "text": [
      "23/23 [==============================] - 0s 4ms/step - loss: 0.0015 - mae: 0.0321 - val_loss: 0.0015 - val_mae: 0.0320\n",
      "Epoch 56/100\n",
      "23/23 [==============================] - 0s 4ms/step - loss: 0.0015 - mae: 0.0320 - val_loss: 0.0015 - val_mae: 0.0320\n",
      "Epoch 57/100\n",
      "23/23 [==============================] - 0s 4ms/step - loss: 0.0015 - mae: 0.0320 - val_loss: 0.0015 - val_mae: 0.0320\n",
      "Epoch 58/100\n",
      "23/23 [==============================] - 0s 3ms/step - loss: 0.0015 - mae: 0.0320 - val_loss: 0.0015 - val_mae: 0.0320\n",
      "Epoch 59/100\n",
      "23/23 [==============================] - 0s 3ms/step - loss: 0.0015 - mae: 0.0320 - val_loss: 0.0015 - val_mae: 0.0320\n",
      "Epoch 60/100\n",
      "23/23 [==============================] - 0s 4ms/step - loss: 0.0015 - mae: 0.0320 - val_loss: 0.0015 - val_mae: 0.0320\n",
      "Epoch 61/100\n",
      "23/23 [==============================] - 0s 4ms/step - loss: 0.0015 - mae: 0.0320 - val_loss: 0.0015 - val_mae: 0.0320\n",
      "Epoch 62/100\n",
      "23/23 [==============================] - 0s 4ms/step - loss: 0.0015 - mae: 0.0320 - val_loss: 0.0015 - val_mae: 0.0320\n",
      "Epoch 63/100\n",
      "23/23 [==============================] - 0s 3ms/step - loss: 0.0015 - mae: 0.0320 - val_loss: 0.0015 - val_mae: 0.0319\n",
      "Epoch 64/100\n",
      "23/23 [==============================] - 0s 3ms/step - loss: 0.0015 - mae: 0.0320 - val_loss: 0.0015 - val_mae: 0.0320\n",
      "Epoch 65/100\n",
      "23/23 [==============================] - 0s 3ms/step - loss: 0.0015 - mae: 0.0320 - val_loss: 0.0015 - val_mae: 0.0320\n",
      "Epoch 66/100\n",
      "23/23 [==============================] - 0s 4ms/step - loss: 0.0015 - mae: 0.0321 - val_loss: 0.0015 - val_mae: 0.0320\n",
      "Epoch 67/100\n",
      "23/23 [==============================] - 0s 4ms/step - loss: 0.0015 - mae: 0.0319 - val_loss: 0.0015 - val_mae: 0.0320\n",
      "Epoch 68/100\n",
      "23/23 [==============================] - 0s 4ms/step - loss: 0.0015 - mae: 0.0320 - val_loss: 0.0015 - val_mae: 0.0320\n",
      "Epoch 69/100\n",
      "23/23 [==============================] - 0s 4ms/step - loss: 0.0015 - mae: 0.0321 - val_loss: 0.0015 - val_mae: 0.0320\n",
      "Epoch 70/100\n",
      "23/23 [==============================] - 0s 4ms/step - loss: 0.0015 - mae: 0.0320 - val_loss: 0.0015 - val_mae: 0.0320\n",
      "Epoch 71/100\n",
      "23/23 [==============================] - 0s 4ms/step - loss: 0.0015 - mae: 0.0320 - val_loss: 0.0015 - val_mae: 0.0320\n",
      "Epoch 72/100\n",
      "23/23 [==============================] - 0s 3ms/step - loss: 0.0015 - mae: 0.0320 - val_loss: 0.0015 - val_mae: 0.0320\n",
      "Epoch 73/100\n",
      "23/23 [==============================] - 0s 3ms/step - loss: 0.0015 - mae: 0.0320 - val_loss: 0.0015 - val_mae: 0.0320\n",
      "Epoch 74/100\n",
      "23/23 [==============================] - 0s 4ms/step - loss: 0.0015 - mae: 0.0319 - val_loss: 0.0015 - val_mae: 0.0320\n",
      "Epoch 75/100\n",
      "23/23 [==============================] - 0s 3ms/step - loss: 0.0015 - mae: 0.0320 - val_loss: 0.0015 - val_mae: 0.0320\n",
      "Epoch 76/100\n",
      "23/23 [==============================] - 0s 3ms/step - loss: 0.0015 - mae: 0.0321 - val_loss: 0.0015 - val_mae: 0.0320\n",
      "Epoch 77/100\n",
      "23/23 [==============================] - 0s 4ms/step - loss: 0.0015 - mae: 0.0321 - val_loss: 0.0015 - val_mae: 0.0320\n",
      "Epoch 78/100\n",
      "23/23 [==============================] - 0s 3ms/step - loss: 0.0015 - mae: 0.0320 - val_loss: 0.0015 - val_mae: 0.0320\n",
      "Epoch 79/100\n",
      "23/23 [==============================] - 0s 4ms/step - loss: 0.0015 - mae: 0.0320 - val_loss: 0.0015 - val_mae: 0.0320\n",
      "Epoch 80/100\n",
      "23/23 [==============================] - 0s 4ms/step - loss: 0.0015 - mae: 0.0320 - val_loss: 0.0015 - val_mae: 0.0320\n",
      "Epoch 81/100\n",
      "23/23 [==============================] - 0s 4ms/step - loss: 0.0015 - mae: 0.0321 - val_loss: 0.0015 - val_mae: 0.0320\n",
      "Epoch 82/100\n",
      "23/23 [==============================] - 0s 4ms/step - loss: 0.0015 - mae: 0.0320 - val_loss: 0.0015 - val_mae: 0.0320\n",
      "Epoch 83/100\n",
      "23/23 [==============================] - 0s 4ms/step - loss: 0.0015 - mae: 0.0320 - val_loss: 0.0015 - val_mae: 0.0320\n",
      "Epoch 84/100\n",
      "23/23 [==============================] - 0s 3ms/step - loss: 0.0015 - mae: 0.0320 - val_loss: 0.0015 - val_mae: 0.0319\n",
      "Epoch 85/100\n",
      "23/23 [==============================] - 0s 4ms/step - loss: 0.0015 - mae: 0.0321 - val_loss: 0.0015 - val_mae: 0.0320\n",
      "Epoch 86/100\n",
      "23/23 [==============================] - 0s 4ms/step - loss: 0.0015 - mae: 0.0320 - val_loss: 0.0015 - val_mae: 0.0320\n",
      "Epoch 87/100\n",
      "23/23 [==============================] - 0s 3ms/step - loss: 0.0015 - mae: 0.0320 - val_loss: 0.0015 - val_mae: 0.0320\n",
      "Epoch 88/100\n",
      "23/23 [==============================] - 0s 3ms/step - loss: 0.0015 - mae: 0.0320 - val_loss: 0.0015 - val_mae: 0.0320\n",
      "Epoch 89/100\n",
      "23/23 [==============================] - 0s 4ms/step - loss: 0.0015 - mae: 0.0320 - val_loss: 0.0015 - val_mae: 0.0320\n",
      "Epoch 90/100\n",
      "23/23 [==============================] - 0s 4ms/step - loss: 0.0015 - mae: 0.0320 - val_loss: 0.0015 - val_mae: 0.0320\n",
      "Epoch 91/100\n",
      "23/23 [==============================] - 0s 3ms/step - loss: 0.0015 - mae: 0.0321 - val_loss: 0.0015 - val_mae: 0.0320\n",
      "Epoch 92/100\n",
      "23/23 [==============================] - 0s 4ms/step - loss: 0.0015 - mae: 0.0320 - val_loss: 0.0015 - val_mae: 0.0320\n",
      "Epoch 93/100\n",
      "23/23 [==============================] - 0s 4ms/step - loss: 0.0015 - mae: 0.0320 - val_loss: 0.0015 - val_mae: 0.0320\n",
      "Epoch 94/100\n",
      "23/23 [==============================] - 0s 4ms/step - loss: 0.0015 - mae: 0.0321 - val_loss: 0.0015 - val_mae: 0.0320\n",
      "Epoch 95/100\n",
      "23/23 [==============================] - 0s 3ms/step - loss: 0.0015 - mae: 0.0320 - val_loss: 0.0015 - val_mae: 0.0320\n",
      "Epoch 96/100\n",
      "23/23 [==============================] - 0s 3ms/step - loss: 0.0015 - mae: 0.0320 - val_loss: 0.0015 - val_mae: 0.0320\n",
      "Epoch 97/100\n",
      "23/23 [==============================] - 0s 4ms/step - loss: 0.0015 - mae: 0.0320 - val_loss: 0.0015 - val_mae: 0.0320\n",
      "Epoch 98/100\n",
      "23/23 [==============================] - 0s 4ms/step - loss: 0.0015 - mae: 0.0321 - val_loss: 0.0015 - val_mae: 0.0320\n",
      "Epoch 99/100\n",
      "23/23 [==============================] - 0s 4ms/step - loss: 0.0015 - mae: 0.0320 - val_loss: 0.0015 - val_mae: 0.0320\n",
      "Epoch 100/100\n",
      "23/23 [==============================] - 0s 4ms/step - loss: 0.0015 - mae: 0.0321 - val_loss: 0.0015 - val_mae: 0.0320\n"
     ]
    }
   ],
   "source": [
    "model = build_model ()\n",
    "history = model.fit ( x_train, y_train, epochs = 100, batch_size = 2032, validation_data = (x_val, y_val) )\n",
    "model.save(\"regr.h5\")"
   ]
  },
  {
   "cell_type": "code",
   "execution_count": 22,
   "metadata": {
    "scrolled": false
   },
   "outputs": [
    {
     "data": {
      "image/png": "[encoded data removed]",
      "text/plain": [
       "<Figure size 432x288 with 1 Axes>"
      ]
     },
     "metadata": {
      "needs_background": "light"
     },
     "output_type": "display_data"
    }
   ],
   "source": [
    "import matplotlib.pyplot as plt\n",
    "\n",
    "mae = history.history['mae']\n",
    "val_mae = history.history['val_mae']\n",
    "\n",
    "epochs = range(1, len(mae) + 1)\n",
    "\n",
    "plt.plot(epochs, mae, 'bo', label='Training mae')\n",
    "plt.plot(epochs, val_mae, 'b', label='Validation mae')\n",
    "plt.title('Training and validation accuracy')\n",
    "plt.xlabel('Epochs')\n",
    "plt.ylabel('mae')\n",
    "plt.legend()\n",
    "\n",
    "plt.show()"
   ]
  },
  {
   "cell_type": "code",
   "execution_count": null,
   "metadata": {},
   "outputs": [],
   "source": []
  },
  {
   "cell_type": "code",
   "execution_count": null,
   "metadata": {},
   "outputs": [],
   "source": []
  },
  {
   "cell_type": "code",
   "execution_count": null,
   "metadata": {},
   "outputs": [],
   "source": []
  }
 ],
 "metadata": {
  "kernelspec": {
   "display_name": "Python 3",
   "language": "python",
   "name": "python3"
  },
  "language_info": {
   "codemirror_mode": {
    "name": "ipython",
    "version": 3
   },
   "file_extension": ".py",
   "mimetype": "text/x-python",
   "name": "python",
   "nbconvert_exporter": "python",
   "pygments_lexer": "ipython3",
   "version": "3.7.7"
  }
 },
 "nbformat": 4,
 "nbformat_minor": 4
}
