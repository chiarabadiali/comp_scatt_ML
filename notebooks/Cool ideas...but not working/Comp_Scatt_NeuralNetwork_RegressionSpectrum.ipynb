{
 "cells": [
  {
   "cell_type": "code",
   "execution_count": 1,
   "metadata": {},
   "outputs": [
    {
     "name": "stdout",
     "output_type": "stream",
     "text": [
      "1.2.0\n"
     ]
    }
   ],
   "source": [
    "import pandas as pd \n",
    "import numpy as np\n",
    "import math\n",
    "import tensorflow as tf\n",
    "print(pd.__version__)\n",
    "import matplotlib.pyplot as plt\n",
    "import progressbar\n",
    "import scipy"
   ]
  },
  {
   "cell_type": "markdown",
   "metadata": {},
   "source": [
    "## Print Dependencies\n",
    "\n",
    "\n",
    "\n",
    "Dependences are fundamental to record the computational environment."
   ]
  },
  {
   "cell_type": "code",
   "execution_count": 2,
   "metadata": {},
   "outputs": [
    {
     "name": "stdout",
     "output_type": "stream",
     "text": [
      "Python implementation: CPython\n",
      "Python version       : 3.7.7\n",
      "IPython version      : 7.19.0\n",
      "\n",
      "pandas     : 1.2.0\n",
      "keras      : 2.4.3\n",
      "numpy      : 1.19.5\n",
      "math       : unknown\n",
      "tensorflow : 2.4.0\n",
      "matplotlib : 3.3.3\n",
      "h5py       : 2.10.0\n",
      "progressbar: 2.5\n",
      "scipy      : 1.6.0\n",
      "\n",
      "Compiler    : GCC 5.4.0 20160609\n",
      "OS          : Linux\n",
      "Release     : 5.8.0-41-generic\n",
      "Machine     : x86_64\n",
      "Processor   : x86_64\n",
      "CPU cores   : 8\n",
      "Architecture: 64bit\n",
      "\n",
      " \n",
      "Last updated: Mon Feb 01 2021 19:07:32CET\n",
      "\n"
     ]
    }
   ],
   "source": [
    "%load_ext watermark\n",
    "\n",
    "# python, ipython, packages, and machine characteristics\n",
    "%watermark -v -m -p pandas,keras,numpy,math,tensorflow,matplotlib,h5py,progressbar,scipy\n",
    "\n",
    "# date\n",
    "print (\" \")\n",
    "%watermark -u -n -t -z"
   ]
  },
  {
   "cell_type": "markdown",
   "metadata": {},
   "source": [
    "## Load of the data"
   ]
  },
  {
   "cell_type": "code",
   "execution_count": 29,
   "metadata": {},
   "outputs": [],
   "source": [
    "from process import loaddata\n",
    "class_data1 = loaddata(\"../data/spec/raw_data_spec200.csv\")\n",
    "class_data2 = loaddata(\"../data/spec/raw_data_spec1.csv\")"
   ]
  },
  {
   "cell_type": "code",
   "execution_count": 36,
   "metadata": {},
   "outputs": [],
   "source": [
    "class_data = np.concatenate((class_data1,class_data2))"
   ]
  },
  {
   "cell_type": "code",
   "execution_count": 37,
   "metadata": {},
   "outputs": [
    {
     "data": {
      "text/plain": [
       "(118458, 12)"
      ]
     },
     "execution_count": 37,
     "metadata": {},
     "output_type": "execute_result"
    }
   ],
   "source": [
    "class_data.shape"
   ]
  },
  {
   "cell_type": "code",
   "execution_count": 38,
   "metadata": {},
   "outputs": [],
   "source": [
    "np.random.shuffle(class_data)\n",
    "y = class_data[:,-3:]\n",
    "x = class_data[:,:-3]"
   ]
  },
  {
   "cell_type": "code",
   "execution_count": 39,
   "metadata": {},
   "outputs": [
    {
     "name": "stdout",
     "output_type": "stream",
     "text": [
      "Training sample: 88843 \n",
      "Valuation sample: 29615\n"
     ]
    }
   ],
   "source": [
    "train_split = 0.75\n",
    "train_limit = int(len(y)*train_split)\n",
    "print(\"Training sample: {0} \\nValuation sample: {1}\".format(train_limit, len(y)-train_limit))"
   ]
  },
  {
   "cell_type": "code",
   "execution_count": 40,
   "metadata": {},
   "outputs": [],
   "source": [
    "x_train = x[:train_limit]\n",
    "x_val = x[train_limit:]\n",
    "\n",
    "y_train = y[:train_limit]\n",
    "y_val = y[train_limit:]"
   ]
  },
  {
   "cell_type": "markdown",
   "metadata": {},
   "source": [
    "## Model Build"
   ]
  },
  {
   "cell_type": "code",
   "execution_count": 41,
   "metadata": {},
   "outputs": [],
   "source": [
    "from keras.models import Sequential\n",
    "from keras.layers.core import Dense\n",
    "import keras.backend as K\n",
    "from keras import optimizers\n",
    "from keras import models\n",
    "from keras import layers\n",
    "from keras import regularizers"
   ]
  },
  {
   "cell_type": "code",
   "execution_count": 114,
   "metadata": {},
   "outputs": [],
   "source": [
    "def build_model() :\n",
    "    model = models.Sequential()\n",
    "    model.add (layers.Dense (9, kernel_initializer= \"normal\" , input_shape = x.shape))\n",
    "    model.add (layers.Dense (12, activation = \"relu\"))\n",
    "    model.add (layers.Dense (32, activation = \"relu\"))\n",
    "    model.add (layers.Dense (64, activation = \"relu\"))\n",
    "    model.add (layers.Dense (128, activation = \"relu\"))\n",
    "    model.add (layers.Dense (128, activation = \"relu\"))\n",
    "    model.add (layers.Dense (64, activation = \"relu\"))\n",
    "    model.add (layers.Dense (32, activation = \"relu\"))\n",
    "    model.add (layers.Dense (12, activation = \"relu\"))\n",
    "    model.add (layers.Dense (9, activation = \"relu\"))\n",
    "    model.add (layers.Dense (3))\n",
    "    model.compile(optimizer = \"rmsprop\" , loss = \"mse\" , metrics =[\"mape\"])\n",
    "    return model"
   ]
  },
  {
   "cell_type": "code",
   "execution_count": 115,
   "metadata": {},
   "outputs": [
    {
     "name": "stdout",
     "output_type": "stream",
     "text": [
      "Epoch 1/50\n",
      "WARNING:tensorflow:Model was constructed with shape (None, 118458, 9) for input KerasTensor(type_spec=TensorSpec(shape=(None, 118458, 9), dtype=tf.float32, name='dense_76_input'), name='dense_76_input', description=\"created by layer 'dense_76_input'\"), but it was called on an input with incompatible shape (None, 9).\n",
      "WARNING:tensorflow:Model was constructed with shape (None, 118458, 9) for input KerasTensor(type_spec=TensorSpec(shape=(None, 118458, 9), dtype=tf.float32, name='dense_76_input'), name='dense_76_input', description=\"created by layer 'dense_76_input'\"), but it was called on an input with incompatible shape (None, 9).\n",
      "84/85 [============================>.] - ETA: 0s - loss: 22.8573 - mape: 237.5558WARNING:tensorflow:Model was constructed with shape (None, 118458, 9) for input KerasTensor(type_spec=TensorSpec(shape=(None, 118458, 9), dtype=tf.float32, name='dense_76_input'), name='dense_76_input', description=\"created by layer 'dense_76_input'\"), but it was called on an input with incompatible shape (None, 9).\n",
      "85/85 [==============================] - 4s 19ms/step - loss: 22.6499 - mape: 239.0288 - val_loss: 4.1617 - val_mape: 7997.6191\n",
      "Epoch 2/50\n",
      "85/85 [==============================] - 1s 12ms/step - loss: 2.3695 - mape: 222.4344 - val_loss: 1.1018 - val_mape: 5175.9224\n",
      "Epoch 3/50\n",
      "85/85 [==============================] - 1s 14ms/step - loss: 1.1457 - mape: 171.9843 - val_loss: 0.7062 - val_mape: 4817.3936\n",
      "Epoch 4/50\n",
      "85/85 [==============================] - 1s 16ms/step - loss: 0.8043 - mape: 91.9153 - val_loss: 0.7737 - val_mape: 1469.8298\n",
      "Epoch 5/50\n",
      "85/85 [==============================] - 1s 15ms/step - loss: 0.5994 - mape: 75.5256 - val_loss: 0.4007 - val_mape: 4451.2949\n",
      "Epoch 6/50\n",
      "85/85 [==============================] - 1s 13ms/step - loss: 0.5524 - mape: 97.6281 - val_loss: 0.4635 - val_mape: 1566.8085\n",
      "Epoch 7/50\n",
      "85/85 [==============================] - 1s 14ms/step - loss: 0.5184 - mape: 77.9410 - val_loss: 0.4222 - val_mape: 185.0104\n",
      "Epoch 8/50\n",
      "85/85 [==============================] - 1s 16ms/step - loss: 0.4671 - mape: 82.1571 - val_loss: 0.3433 - val_mape: 3425.3440\n",
      "Epoch 9/50\n",
      "85/85 [==============================] - 1s 15ms/step - loss: 0.3915 - mape: 60.1889 - val_loss: 0.2780 - val_mape: 2478.2192\n",
      "Epoch 10/50\n",
      "85/85 [==============================] - 1s 15ms/step - loss: 0.3860 - mape: 97.2109 - val_loss: 0.2071 - val_mape: 653.8166\n",
      "Epoch 11/50\n",
      "85/85 [==============================] - 1s 14ms/step - loss: 0.3778 - mape: 71.5153 - val_loss: 0.3048 - val_mape: 786.0628\n",
      "Epoch 12/50\n",
      "85/85 [==============================] - 1s 13ms/step - loss: 0.3315 - mape: 117.5915 - val_loss: 0.5556 - val_mape: 560.5895\n",
      "Epoch 13/50\n",
      "85/85 [==============================] - 1s 13ms/step - loss: 0.3495 - mape: 81.2249 - val_loss: 0.2606 - val_mape: 1247.9935\n",
      "Epoch 14/50\n",
      "85/85 [==============================] - 1s 14ms/step - loss: 0.3447 - mape: 81.5442 - val_loss: 0.3546 - val_mape: 2618.6519\n",
      "Epoch 15/50\n",
      "85/85 [==============================] - 1s 15ms/step - loss: 0.3168 - mape: 116.1003 - val_loss: 0.3843 - val_mape: 1801.9912\n",
      "Epoch 16/50\n",
      "85/85 [==============================] - 1s 14ms/step - loss: 0.3024 - mape: 74.4925 - val_loss: 0.3708 - val_mape: 2384.8672\n",
      "Epoch 17/50\n",
      "85/85 [==============================] - 1s 12ms/step - loss: 0.3116 - mape: 68.6319 - val_loss: 0.2085 - val_mape: 1914.0770\n",
      "Epoch 18/50\n",
      "85/85 [==============================] - 1s 14ms/step - loss: 0.2825 - mape: 62.2708 - val_loss: 0.1690 - val_mape: 1143.6152\n",
      "Epoch 19/50\n",
      "85/85 [==============================] - 1s 15ms/step - loss: 0.2822 - mape: 128.4681 - val_loss: 0.2139 - val_mape: 2446.7195\n",
      "Epoch 20/50\n",
      "85/85 [==============================] - 1s 13ms/step - loss: 0.2714 - mape: 57.8647 - val_loss: 0.2730 - val_mape: 113.0692\n",
      "Epoch 21/50\n",
      "85/85 [==============================] - 1s 13ms/step - loss: 0.2692 - mape: 76.0621 - val_loss: 0.1319 - val_mape: 101.2914\n",
      "Epoch 22/50\n",
      "85/85 [==============================] - 1s 13ms/step - loss: 0.2611 - mape: 75.4919 - val_loss: 0.2578 - val_mape: 282.2247\n",
      "Epoch 23/50\n",
      "85/85 [==============================] - 1s 13ms/step - loss: 0.2523 - mape: 58.4272 - val_loss: 0.3148 - val_mape: 506.8561\n",
      "Epoch 24/50\n",
      "85/85 [==============================] - 1s 13ms/step - loss: 0.2598 - mape: 54.2020 - val_loss: 0.1791 - val_mape: 2313.5386\n",
      "Epoch 25/50\n",
      "85/85 [==============================] - 1s 13ms/step - loss: 0.2412 - mape: 61.7478 - val_loss: 0.3317 - val_mape: 2671.5173\n",
      "Epoch 26/50\n",
      "85/85 [==============================] - 1s 12ms/step - loss: 0.2430 - mape: 53.7628 - val_loss: 0.2179 - val_mape: 792.4988\n",
      "Epoch 27/50\n",
      "85/85 [==============================] - 1s 13ms/step - loss: 0.2367 - mape: 57.0108 - val_loss: 0.1590 - val_mape: 1995.3964\n",
      "Epoch 28/50\n",
      "85/85 [==============================] - 1s 12ms/step - loss: 0.2172 - mape: 71.9556 - val_loss: 0.1472 - val_mape: 1206.6415\n",
      "Epoch 29/50\n",
      "85/85 [==============================] - 1s 12ms/step - loss: 0.2223 - mape: 53.1446 - val_loss: 0.1446 - val_mape: 1054.2963\n",
      "Epoch 30/50\n",
      "85/85 [==============================] - 1s 14ms/step - loss: 0.2157 - mape: 54.0693 - val_loss: 0.2068 - val_mape: 2123.5557\n",
      "Epoch 31/50\n",
      "85/85 [==============================] - 1s 14ms/step - loss: 0.2412 - mape: 61.1075 - val_loss: 0.2861 - val_mape: 3584.2493\n",
      "Epoch 32/50\n",
      "85/85 [==============================] - 1s 12ms/step - loss: 0.2214 - mape: 57.6626 - val_loss: 0.1927 - val_mape: 1234.9542\n",
      "Epoch 33/50\n",
      "85/85 [==============================] - 1s 12ms/step - loss: 0.2059 - mape: 72.2264 - val_loss: 0.2100 - val_mape: 3318.2732\n",
      "Epoch 34/50\n",
      "85/85 [==============================] - 1s 12ms/step - loss: 0.2164 - mape: 91.4211 - val_loss: 0.2691 - val_mape: 4225.5508\n",
      "Epoch 35/50\n",
      "85/85 [==============================] - 1s 12ms/step - loss: 0.2098 - mape: 67.0812 - val_loss: 0.1824 - val_mape: 2006.3901\n",
      "Epoch 36/50\n",
      "85/85 [==============================] - 1s 12ms/step - loss: 0.2014 - mape: 76.3728 - val_loss: 0.2158 - val_mape: 2202.3091\n",
      "Epoch 37/50\n",
      "85/85 [==============================] - 1s 15ms/step - loss: 0.2005 - mape: 135.0565 - val_loss: 0.2466 - val_mape: 2537.6489\n",
      "Epoch 38/50\n",
      "85/85 [==============================] - 1s 13ms/step - loss: 0.1977 - mape: 43.8021 - val_loss: 0.2181 - val_mape: 2787.6299\n",
      "Epoch 39/50\n",
      "85/85 [==============================] - 1s 13ms/step - loss: 0.2003 - mape: 46.7218 - val_loss: 0.1234 - val_mape: 1032.6923\n",
      "Epoch 40/50\n",
      "85/85 [==============================] - 1s 14ms/step - loss: 0.1884 - mape: 55.8189 - val_loss: 0.2337 - val_mape: 1763.4119\n",
      "Epoch 41/50\n",
      "85/85 [==============================] - 1s 15ms/step - loss: 0.1794 - mape: 61.1486 - val_loss: 0.1467 - val_mape: 3624.5728\n",
      "Epoch 42/50\n",
      "85/85 [==============================] - 1s 13ms/step - loss: 0.1803 - mape: 56.6435 - val_loss: 0.1164 - val_mape: 2170.4824\n",
      "Epoch 43/50\n",
      "85/85 [==============================] - 1s 12ms/step - loss: 0.1947 - mape: 52.2321 - val_loss: 0.2699 - val_mape: 3453.8252\n",
      "Epoch 44/50\n",
      "85/85 [==============================] - 1s 15ms/step - loss: 0.2002 - mape: 53.7379 - val_loss: 0.2356 - val_mape: 358.0466\n",
      "Epoch 45/50\n",
      "85/85 [==============================] - 1s 13ms/step - loss: 0.1940 - mape: 44.9976 - val_loss: 0.2731 - val_mape: 3265.7878\n",
      "Epoch 46/50\n",
      "85/85 [==============================] - 1s 12ms/step - loss: 0.1863 - mape: 51.1611 - val_loss: 0.2101 - val_mape: 2303.5833\n",
      "Epoch 47/50\n",
      "85/85 [==============================] - 1s 12ms/step - loss: 0.1902 - mape: 46.3946 - val_loss: 0.1966 - val_mape: 1991.6801\n",
      "Epoch 48/50\n",
      "85/85 [==============================] - 1s 13ms/step - loss: 0.1746 - mape: 42.2095 - val_loss: 0.1596 - val_mape: 94.0660\n",
      "Epoch 49/50\n",
      "85/85 [==============================] - 1s 15ms/step - loss: 0.1669 - mape: 56.8136 - val_loss: 0.1329 - val_mape: 1307.4114\n",
      "Epoch 50/50\n",
      "85/85 [==============================] - 1s 18ms/step - loss: 0.1754 - mape: 43.8756 - val_loss: 0.1542 - val_mape: 1013.9819\n"
     ]
    }
   ],
   "source": [
    "model = build_model ()\n",
    "history = model.fit ( x_train, y_train, epochs = 50, batch_size = 1050, validation_data = (x_val, y_val) )\n",
    "model.save(\"../models/spec/firstNN.h5\")"
   ]
  },
  {
   "cell_type": "code",
   "execution_count": 116,
   "metadata": {},
   "outputs": [
    {
     "data": {
      "image/png": "[encoded data removed]",
      "text/plain": [
       "<Figure size 432x288 with 1 Axes>"
      ]
     },
     "metadata": {
      "needs_background": "light"
     },
     "output_type": "display_data"
    }
   ],
   "source": [
    "loss = history.history['loss']\n",
    "val_loss = history.history['val_loss']\n",
    "\n",
    "epochs = range(1, len(loss) + 1)\n",
    "\n",
    "plt.plot(epochs, loss, 'bo', label='Training loss')\n",
    "plt.plot(epochs, val_loss, 'b', label='Validation loss')\n",
    "plt.title('Training and validation loss')\n",
    "plt.xlabel('Epochs')\n",
    "plt.ylabel('Loss')\n",
    "plt.legend()\n",
    "\n",
    "plt.show()"
   ]
  },
  {
   "cell_type": "markdown",
   "metadata": {},
   "source": [
    "## Test spectrum"
   ]
  },
  {
   "cell_type": "code",
   "execution_count": 117,
   "metadata": {},
   "outputs": [],
   "source": [
    "from tensorflow import keras\n",
    "model = keras.models.load_model('../models/spec/firstNN.h5')"
   ]
  },
  {
   "cell_type": "code",
   "execution_count": 118,
   "metadata": {},
   "outputs": [
    {
     "name": "stdout",
     "output_type": "stream",
     "text": [
      "Model: \"sequential_7\"\n",
      "_________________________________________________________________\n",
      "Layer (type)                 Output Shape              Param #   \n",
      "=================================================================\n",
      "dense_76 (Dense)             (None, 118458, 9)         90        \n",
      "_________________________________________________________________\n",
      "dense_77 (Dense)             (None, 118458, 12)        120       \n",
      "_________________________________________________________________\n",
      "dense_78 (Dense)             (None, 118458, 32)        416       \n",
      "_________________________________________________________________\n",
      "dense_79 (Dense)             (None, 118458, 64)        2112      \n",
      "_________________________________________________________________\n",
      "dense_80 (Dense)             (None, 118458, 128)       8320      \n",
      "_________________________________________________________________\n",
      "dense_81 (Dense)             (None, 118458, 128)       16512     \n",
      "_________________________________________________________________\n",
      "dense_82 (Dense)             (None, 118458, 64)        8256      \n",
      "_________________________________________________________________\n",
      "dense_83 (Dense)             (None, 118458, 32)        2080      \n",
      "_________________________________________________________________\n",
      "dense_84 (Dense)             (None, 118458, 12)        396       \n",
      "_________________________________________________________________\n",
      "dense_85 (Dense)             (None, 118458, 9)         117       \n",
      "_________________________________________________________________\n",
      "dense_86 (Dense)             (None, 118458, 3)         30        \n",
      "=================================================================\n",
      "Total params: 38,449\n",
      "Trainable params: 38,449\n",
      "Non-trainable params: 0\n",
      "_________________________________________________________________\n"
     ]
    }
   ],
   "source": [
    "model.summary()"
   ]
  },
  {
   "cell_type": "code",
   "execution_count": 119,
   "metadata": {},
   "outputs": [],
   "source": [
    "def energy_spectrum(energy_array, bins):\n",
    "    energy_array = np.array(energy_array)\n",
    "    plt.hist(energy_array, bins, histtype=u'step', density=True)\n",
    "    plt.yscale(\"log\")\n",
    "    plt.show()"
   ]
  },
  {
   "cell_type": "code",
   "execution_count": 120,
   "metadata": {},
   "outputs": [
    {
     "name": "stdout",
     "output_type": "stream",
     "text": [
      "WARNING:tensorflow:Model was constructed with shape (None, 118458, 9) for input KerasTensor(type_spec=TensorSpec(shape=(None, 118458, 9), dtype=tf.float32, name='dense_76_input'), name='dense_76_input', description=\"created by layer 'dense_76_input'\"), but it was called on an input with incompatible shape (None, 9).\n"
     ]
    }
   ],
   "source": [
    "from tensorflow import keras \n",
    "prediction = model.predict(x_train)"
   ]
  },
  {
   "cell_type": "code",
   "execution_count": 121,
   "metadata": {},
   "outputs": [
    {
     "name": "stdout",
     "output_type": "stream",
     "text": [
      "[-0.96604633 -6.5259113  10.411156   ...  2.1756992   3.9090858\n",
      " -1.5734965 ]\n",
      "[ -0.8408875   -6.19493389  11.63083363 ...   6.89014522 -14.12259865\n",
      "  -2.94316721]\n"
     ]
    },
    {
     "data": {
      "image/png": "[encoded data removed]",
      "text/plain": [
       "<Figure size 432x288 with 1 Axes>"
      ]
     },
     "metadata": {
      "needs_background": "light"
     },
     "output_type": "display_data"
    }
   ],
   "source": [
    "p1e_nn = prediction[:,0] \n",
    "p1e = y[:,0]\n",
    "print(p1e_nn)\n",
    "print(p1e)\n",
    "plt.hist(p1e_nn, 60, alpha=0.5,  color = 'coral', label='NN prediction', density = True)\n",
    "plt.hist(p1e, 100, alpha=0.5, color = 'mediumslateblue', label='Photon Spectrum', density = True)\n",
    "plt.xlabel('Electron momentum x-direction')\n",
    "plt.ylabel('count')\n",
    "plt.legend(loc='upper right')\n",
    "plt.ylim((0, 0.130))\n",
    "plt.show()"
   ]
  },
  {
   "cell_type": "code",
   "execution_count": 122,
   "metadata": {},
   "outputs": [
    {
     "name": "stdout",
     "output_type": "stream",
     "text": [
      "[  4.408074     5.5861998  -13.578919   ...   9.584326    -5.433268\n",
      "   0.83062935]\n",
      "[  4.32377971   5.46025696 -14.23323441 ...  -0.87746776  -5.31298351\n",
      "  10.03891563]\n"
     ]
    },
    {
     "data": {
      "image/png": "[encoded data removed]",
      "text/plain": [
       "<Figure size 432x288 with 1 Axes>"
      ]
     },
     "metadata": {
      "needs_background": "light"
     },
     "output_type": "display_data"
    }
   ],
   "source": [
    "p2e_nn = prediction[:,1] \n",
    "p2e = y[:,1]\n",
    "print(p2e_nn)\n",
    "print(p2e)\n",
    "plt.hist(p2e_nn, 60, alpha=0.5,  color = 'coral', label='NN prediction', density = True)\n",
    "plt.hist(p2e, 100, alpha=0.5, color = 'mediumslateblue', label='Photon Momentum from simulations', density = True)\n",
    "plt.xlabel('Electron momentum y-direction')\n",
    "plt.ylabel('count')\n",
    "plt.legend(loc='upper right')\n",
    "plt.ylim((0, 0.130))\n",
    "plt.show()"
   ]
  },
  {
   "cell_type": "code",
   "execution_count": 123,
   "metadata": {},
   "outputs": [
    {
     "name": "stdout",
     "output_type": "stream",
     "text": [
      "[-0.9770323  6.9427776  2.5675056 ...  7.862105  -2.7960556  1.0661675]\n",
      "[ -0.94747099   7.53697277   3.49473047 ...   0.60613866  10.08163166\n",
      " -11.29436493]\n"
     ]
    },
    {
     "data": {
      "image/png": "[encoded data removed]",
      "text/plain": [
       "<Figure size 432x288 with 1 Axes>"
      ]
     },
     "metadata": {
      "needs_background": "light"
     },
     "output_type": "display_data"
    }
   ],
   "source": [
    "p3e_nn = prediction[:,2] \n",
    "p3e = y[:,2]\n",
    "print(p3e_nn)\n",
    "print(p3e)\n",
    "plt.hist(p3e_nn, 100, alpha=0.5,  color = 'coral', label='NN prediction', density = True)\n",
    "plt.hist(p3e, 100, alpha=0.5, color = 'mediumslateblue', label='Electron Spectrum z-direction', density = True)\n",
    "plt.xlabel('Electron momentum z-direction')\n",
    "plt.ylabel('count')\n",
    "plt.legend(loc='upper right')\n",
    "plt.ylim((0, 0.130))\n",
    "plt.show()"
   ]
  },
  {
   "cell_type": "code",
   "execution_count": 124,
   "metadata": {},
   "outputs": [
    {
     "name": "stderr",
     "output_type": "stream",
     "text": [
      "/home/linuxbrew/.linuxbrew/opt/python/lib/python3.7/site-packages/ipykernel_launcher.py:9: UserWarning: Matplotlib is currently using module://ipykernel.pylab.backend_inline, which is a non-GUI backend, so cannot show the figure.\n",
      "  if __name__ == '__main__':\n"
     ]
    },
    {
     "data": {
      "image/png": "[encoded data removed]",
      "text/plain": [
       "<Figure size 432x288 with 3 Axes>"
      ]
     },
     "metadata": {
      "needs_background": "light"
     },
     "output_type": "display_data"
    }
   ],
   "source": [
    "fig, axs = plt.subplots(3, sharex = True)\n",
    "fig.suptitle('3-momentum electrons post https://numpy.org/doc/stable/reference/generated/numpy.linalg.norm.htmlinteraction')\n",
    "axs[0].hist(p1e_nn, 100, alpha=0.5, color = 'coral', label='NN prediction', density = True)\n",
    "axs[0].hist(p1e, 100, alpha=0.5, color = 'mediumslateblue', label='NN prediction', density = True)\n",
    "axs[1].hist(p2e_nn, 100, alpha=0.5, color = 'coral', label='Electron Momentum from simulations', density = True)\n",
    "axs[1].hist(p2e, 100, alpha=0.5, color = 'mediumslateblue', label='Electron Momentum from simulations', density = True)\n",
    "axs[2].hist(p3e_nn, 100, alpha=0.5, color = 'coral', label='Electron Momentum from simulations', density = True)\n",
    "axs[2].hist(p3e, 100, alpha=0.5, color = 'mediumslateblue', label='Electron Momentum from simulations', density = True)\n",
    "fig.show()"
   ]
  },
  {
   "cell_type": "code",
   "execution_count": 125,
   "metadata": {},
   "outputs": [],
   "source": [
    "final_e = []\n",
    "for classi_ in class_data:\n",
    "    final_e.append(np.linalg.norm(classi_[:-3]))"
   ]
  },
  {
   "cell_type": "code",
   "execution_count": 126,
   "metadata": {},
   "outputs": [
    {
     "data": {
      "text/plain": [
       "(88843, 3)"
      ]
     },
     "execution_count": 126,
     "metadata": {},
     "output_type": "execute_result"
    }
   ],
   "source": [
    "prediction.shape"
   ]
  },
  {
   "cell_type": "code",
   "execution_count": 127,
   "metadata": {},
   "outputs": [
    {
     "name": "stderr",
     "output_type": "stream",
     "text": [
      "[==============================================================] 100% of 118458\n"
     ]
    }
   ],
   "source": [
    "from tensorflow import keras \n",
    "final_e_nn = []\n",
    "threshold = 0.5\n",
    "num = int(1*len(x))\n",
    "bar = progressbar.ProgressBar(maxval=num, \n",
    "                              widgets=[progressbar.Bar('=', '[', ']'), ' ', \n",
    "                                       progressbar.Percentage(), \n",
    "                                       \" of {0}\".format(num)])\n",
    "bar.start()\n",
    "for pred in prediction:\n",
    "    final_e_nn.append(np.linalg.norm(pred))\n",
    "bar.finish()"
   ]
  },
  {
   "cell_type": "code",
   "execution_count": 128,
   "metadata": {},
   "outputs": [
    {
     "data": {
      "image/png": "[encoded data removed]",
      "text/plain": [
       "<Figure size 432x288 with 1 Axes>"
      ]
     },
     "metadata": {
      "needs_background": "light"
     },
     "output_type": "display_data"
    }
   ],
   "source": [
    "from scipy.stats import norm\n",
    "import matplotlib.mlab as mlab\n",
    "import matplotlib.pyplot as plt\n",
    "import scipy.stats as stats\n",
    "from scipy.stats import chisquare\n",
    "\n",
    "mean,std=norm.fit(final_e)\n",
    "plt.hist(final_e, bins=100, alpha = 0.5, color = 'mediumslateblue', label='Electron Spectrum ', density = True)\n",
    "plt.legend(loc='upper right')\n",
    "plt.yscale('log')\n",
    "plt.show()"
   ]
  },
  {
   "cell_type": "code",
   "execution_count": 129,
   "metadata": {},
   "outputs": [
    {
     "data": {
      "image/png": "[encoded data removed]",
      "text/plain": [
       "<Figure size 432x288 with 1 Axes>"
      ]
     },
     "metadata": {
      "needs_background": "light"
     },
     "output_type": "display_data"
    }
   ],
   "source": [
    "from scipy.stats import norm\n",
    "import matplotlib.mlab as mlab\n",
    "import matplotlib.pyplot as plt\n",
    "import scipy.stats as stats\n",
    "from scipy.stats import chisquare\n",
    "\n",
    "mean_nn,std_nn=norm.fit(final_e_nn)\n",
    "plt.hist(final_e_nn, bins=100, alpha = 0.5, color = 'coral', label='NN prediction', density = True)\n",
    "plt.legend(loc='upper right')\n",
    "plt.yscale('log')\n",
    "plt.show()"
   ]
  },
  {
   "cell_type": "code",
   "execution_count": 130,
   "metadata": {},
   "outputs": [
    {
     "name": "stderr",
     "output_type": "stream",
     "text": [
      "/home/linuxbrew/.linuxbrew/opt/python/lib/python3.7/site-packages/ipykernel_launcher.py:5: UserWarning: Attempted to set non-positive bottom ylim on a log-scaled axis.\n",
      "Invalid limit will be ignored.\n",
      "  \"\"\"\n"
     ]
    },
    {
     "data": {
      "image/png": "[encoded data removed]",
      "text/plain": [
       "<Figure size 432x288 with 1 Axes>"
      ]
     },
     "metadata": {
      "needs_background": "light"
     },
     "output_type": "display_data"
    }
   ],
   "source": [
    "plt.hist(final_e_nn, bins=100, alpha = 0.5, color = 'mediumslateblue', label='NN prediction', density = True)\n",
    "plt.hist(final_e, bins=100, alpha = 0.5, color = 'coral', label='Electron Spectrum', density = True)\n",
    "plt.legend(loc = 'upper right')\n",
    "plt.yscale('log')\n",
    "plt.ylim((0, 0.22))\n",
    "plt.show()"
   ]
  }
 ],
 "metadata": {
  "kernelspec": {
   "display_name": "Python 3",
   "language": "python",
   "name": "python3"
  },
  "language_info": {
   "codemirror_mode": {
    "name": "ipython",
    "version": 3
   },
   "file_extension": ".py",
   "mimetype": "text/x-python",
   "name": "python",
   "nbconvert_exporter": "python",
   "pygments_lexer": "ipython3",
   "version": "3.7.7"
  }
 },
 "nbformat": 4,
 "nbformat_minor": 4
}
