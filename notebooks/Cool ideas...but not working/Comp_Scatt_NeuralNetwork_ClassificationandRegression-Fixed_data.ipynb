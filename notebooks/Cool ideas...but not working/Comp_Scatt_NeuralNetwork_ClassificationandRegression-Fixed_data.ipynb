{
 "cells": [
  {
   "cell_type": "code",
   "execution_count": 50,
   "metadata": {},
   "outputs": [
    {
     "name": "stdout",
     "output_type": "stream",
     "text": [
      "1.2.0\n"
     ]
    }
   ],
   "source": [
    "import pandas as pd \n",
    "import numpy as np\n",
    "import math\n",
    "import tensorflow as tf\n",
    "print(pd.__version__)\n",
    "import matplotlib.pyplot as plt\n",
    "import progressbar\n",
    "import scipy"
   ]
  },
  {
   "cell_type": "markdown",
   "metadata": {},
   "source": [
    "## Print Dependencies\n",
    "\n",
    "\n",
    "\n",
    "Dependences are fundamental to record the computational environment."
   ]
  },
  {
   "cell_type": "code",
   "execution_count": 51,
   "metadata": {},
   "outputs": [
    {
     "name": "stdout",
     "output_type": "stream",
     "text": [
      "The watermark extension is already loaded. To reload it, use:\n",
      "  %reload_ext watermark\n",
      "Python implementation: CPython\n",
      "Python version       : 3.7.7\n",
      "IPython version      : 7.19.0\n",
      "\n",
      "pandas     : 1.2.0\n",
      "keras      : 2.4.3\n",
      "numpy      : 1.19.5\n",
      "math       : unknown\n",
      "tensorflow : 2.4.0\n",
      "matplotlib : 3.3.3\n",
      "h5py       : 2.10.0\n",
      "progressbar: 2.5\n",
      "scipy      : 1.6.0\n",
      "\n",
      "Compiler    : GCC 5.4.0 20160609\n",
      "OS          : Linux\n",
      "Release     : 5.8.0-41-generic\n",
      "Machine     : x86_64\n",
      "Processor   : x86_64\n",
      "CPU cores   : 8\n",
      "Architecture: 64bit\n",
      "\n",
      " \n",
      "Last updated: Tue Feb 02 2021 13:02:19CET\n",
      "\n"
     ]
    }
   ],
   "source": [
    "%load_ext watermark\n",
    "\n",
    "# python, ipython, packages, and machine characteristics\n",
    "%watermark -v -m -p pandas,keras,numpy,math,tensorflow,matplotlib,h5py,progressbar,scipy\n",
    "\n",
    "# date\n",
    "print (\" \")\n",
    "%watermark -u -n -t -z"
   ]
  },
  {
   "cell_type": "markdown",
   "metadata": {},
   "source": [
    "## Load of the data"
   ]
  },
  {
   "cell_type": "code",
   "execution_count": 52,
   "metadata": {},
   "outputs": [],
   "source": [
    "from process import loaddata\n",
    "class_data = loaddata(\"../data/classifier/250.csv\")\n",
    "regr_data = loaddata(\"../data/regression/250.csv\")"
   ]
  },
  {
   "cell_type": "code",
   "execution_count": 53,
   "metadata": {},
   "outputs": [
    {
     "data": {
      "text/plain": [
       "(334438, 11)"
      ]
     },
     "execution_count": 53,
     "metadata": {},
     "output_type": "execute_result"
    }
   ],
   "source": [
    "class_data.shape"
   ]
  },
  {
   "cell_type": "code",
   "execution_count": 55,
   "metadata": {},
   "outputs": [],
   "source": [
    "no_int = []\n",
    "for row in class_data:\n",
    "    if row[0] != 1:\n",
    "        no_int.append([row[1], row[2], row[3], row[4], row[5], row[6], row[4], row[5], row[6], row[0]])\n",
    "no_int = np.array(no_int)"
   ]
  },
  {
   "cell_type": "code",
   "execution_count": 56,
   "metadata": {},
   "outputs": [],
   "source": [
    "interacted = []\n",
    "for row in regr_data:\n",
    "    interacted.append([row[0], row[1], row[2], row[3], row[4], row[5], row[-3], row[-2], row[-1], 1])\n",
    "interacted = np.array(interacted)"
   ]
  },
  {
   "cell_type": "code",
   "execution_count": 57,
   "metadata": {},
   "outputs": [],
   "source": [
    "data = np.concatenate((no_int, interacted), axis=0)"
   ]
  },
  {
   "cell_type": "code",
   "execution_count": 58,
   "metadata": {},
   "outputs": [
    {
     "data": {
      "text/plain": [
       "(334438, 10)"
      ]
     },
     "execution_count": 58,
     "metadata": {},
     "output_type": "execute_result"
    }
   ],
   "source": [
    "data.shape"
   ]
  },
  {
   "cell_type": "code",
   "execution_count": 59,
   "metadata": {},
   "outputs": [],
   "source": [
    "np.random.shuffle(data)\n",
    "y = data[:,-3:]\n",
    "x = data[:,0:7]"
   ]
  },
  {
   "cell_type": "code",
   "execution_count": 78,
   "metadata": {},
   "outputs": [
    {
     "data": {
      "text/plain": [
       "(334438, 7)"
      ]
     },
     "execution_count": 78,
     "metadata": {},
     "output_type": "execute_result"
    }
   ],
   "source": [
    "x.shape"
   ]
  },
  {
   "cell_type": "code",
   "execution_count": 61,
   "metadata": {
    "scrolled": true
   },
   "outputs": [
    {
     "name": "stdout",
     "output_type": "stream",
     "text": [
      "Training sample: 250828 \n",
      "Valuation sample: 83610\n"
     ]
    }
   ],
   "source": [
    "train_split = 0.75\n",
    "train_limit = int(len(y)*train_split)\n",
    "print(\"Training sample: {0} \\nValuation sample: {1}\".format(train_limit, len(y)-train_limit))"
   ]
  },
  {
   "cell_type": "code",
   "execution_count": 62,
   "metadata": {},
   "outputs": [],
   "source": [
    "x_train = x[:train_limit]\n",
    "x_val = x[train_limit:]\n",
    "\n",
    "y_train = y[:train_limit]\n",
    "y_val = y[train_limit:]"
   ]
  },
  {
   "cell_type": "markdown",
   "metadata": {},
   "source": [
    "## Model Build"
   ]
  },
  {
   "cell_type": "code",
   "execution_count": 63,
   "metadata": {},
   "outputs": [],
   "source": [
    "from keras.models import Sequential\n",
    "from keras.layers.core import Dense\n",
    "import keras.backend as K\n",
    "from keras import optimizers\n",
    "from keras import models\n",
    "from keras import layers\n",
    "from keras import regularizers"
   ]
  },
  {
   "cell_type": "code",
   "execution_count": 81,
   "metadata": {},
   "outputs": [],
   "source": [
    "def build_model() :\n",
    "    model = models.Sequential()\n",
    "    model.add (layers.Dense (7, activation = 'relu', kernel_initializer= \"normal\" , input_shape = x.shape))\n",
    "    model.add (layers.Dense (14, activation = \"relu\"))\n",
    "    model.add (layers.Dense (28, activation = \"relu\"))\n",
    "    model.add (layers.Dense (14, activation = \"relu\"))\n",
    "    model.add (layers.Dense (28, activation = \"relu\"))\n",
    "    model.add (layers.Dense (14, activation = \"relu\"))\n",
    "    model.add (layers.Dense (28, activation = \"relu\"))\n",
    "    model.add (layers.Dense (14, activation = \"relu\"))\n",
    "    model.add (layers.Dense (28, activation = \"relu\"))\n",
    "    model.add (layers.Dense (14, activation = \"relu\"))\n",
    "    model.add (layers.Dense (28, activation = \"relu\"))\n",
    "    model.add (layers.Dense (14, activation = \"relu\"))\n",
    "    model.add (layers.Dense (7, activation = \"relu\"))\n",
    "    model.add (layers.Dense (14, activation = \"relu\"))\n",
    "    model.add (layers.Dense (28, activation = \"relu\"))\n",
    "    model.add (layers.Dense (14, activation = \"relu\"))\n",
    "    model.add (layers.Dense (28, activation = \"relu\"))\n",
    "    model.add (layers.Dense (14, activation = \"relu\"))\n",
    "    model.add (layers.Dense (28, activation = \"relu\"))\n",
    "    model.add (layers.Dense (14, activation = \"relu\"))\n",
    "    model.add (layers.Dense (28, activation = \"relu\"))\n",
    "    model.add (layers.Dense (14, activation = \"relu\"))\n",
    "    model.add (layers.Dense (7, activation = \"relu\"))\n",
    "    model.add (layers.Dense (3))\n",
    "    model.compile(optimizer = \"rmsprop\" , loss = \"mse\" , metrics =[\"mape\"])\n",
    "    return model"
   ]
  },
  {
   "cell_type": "code",
   "execution_count": 85,
   "metadata": {},
   "outputs": [
    {
     "name": "stdout",
     "output_type": "stream",
     "text": [
      "Epoch 1/20\n",
      "WARNING:tensorflow:Model was constructed with shape (None, 334438, 7) for input KerasTensor(type_spec=TensorSpec(shape=(None, 334438, 7), dtype=tf.float32, name='dense_204_input'), name='dense_204_input', description=\"created by layer 'dense_204_input'\"), but it was called on an input with incompatible shape (None, 7).\n",
      "WARNING:tensorflow:Model was constructed with shape (None, 334438, 7) for input KerasTensor(type_spec=TensorSpec(shape=(None, 334438, 7), dtype=tf.float32, name='dense_204_input'), name='dense_204_input', description=\"created by layer 'dense_204_input'\"), but it was called on an input with incompatible shape (None, 7).\n",
      "11/13 [========================>.....] - ETA: 0s - loss: 0.1506 - mape: 9518718.3320WARNING:tensorflow:Model was constructed with shape (None, 334438, 7) for input KerasTensor(type_spec=TensorSpec(shape=(None, 334438, 7), dtype=tf.float32, name='dense_204_input'), name='dense_204_input', description=\"created by layer 'dense_204_input'\"), but it was called on an input with incompatible shape (None, 7).\n",
      "13/13 [==============================] - 2s 46ms/step - loss: 0.1467 - mape: 12231845.6894 - val_loss: 0.0966 - val_mape: 56538832.0000\n",
      "Epoch 2/20\n",
      "13/13 [==============================] - 0s 31ms/step - loss: 0.0925 - mape: 67435010.5714 - val_loss: 0.0874 - val_mape: 77078856.0000\n",
      "Epoch 3/20\n",
      "13/13 [==============================] - 0s 31ms/step - loss: 0.0869 - mape: 78527305.7143 - val_loss: 0.0857 - val_mape: 85256920.0000\n",
      "Epoch 4/20\n",
      "13/13 [==============================] - 0s 34ms/step - loss: 0.0855 - mape: 81316609.1429 - val_loss: 0.0846 - val_mape: 80409896.0000\n",
      "Epoch 5/20\n",
      "13/13 [==============================] - 0s 35ms/step - loss: 0.0846 - mape: 82021394.8571 - val_loss: 0.0845 - val_mape: 86593240.0000\n",
      "Epoch 6/20\n",
      "13/13 [==============================] - 0s 30ms/step - loss: 0.0845 - mape: 83584606.2857 - val_loss: 0.0847 - val_mape: 78003928.0000\n",
      "Epoch 7/20\n",
      "13/13 [==============================] - 0s 32ms/step - loss: 0.0847 - mape: 82436949.1429 - val_loss: 0.0844 - val_mape: 81448904.0000\n",
      "Epoch 8/20\n",
      "13/13 [==============================] - 0s 32ms/step - loss: 0.0846 - mape: 82917648.5714 - val_loss: 0.0848 - val_mape: 77478976.0000\n",
      "Epoch 9/20\n",
      "13/13 [==============================] - 0s 31ms/step - loss: 0.0846 - mape: 82200135.4286 - val_loss: 0.0843 - val_mape: 83409208.0000\n",
      "Epoch 10/20\n",
      "13/13 [==============================] - 0s 33ms/step - loss: 0.0845 - mape: 83148643.4286 - val_loss: 0.0845 - val_mape: 87353632.0000\n",
      "Epoch 11/20\n",
      "13/13 [==============================] - 0s 33ms/step - loss: 0.0845 - mape: 83764101.7143 - val_loss: 0.0844 - val_mape: 80457048.0000\n",
      "Epoch 12/20\n",
      "13/13 [==============================] - 0s 34ms/step - loss: 0.0845 - mape: 82760345.7143 - val_loss: 0.0843 - val_mape: 83851144.0000\n",
      "Epoch 13/20\n",
      "13/13 [==============================] - 0s 33ms/step - loss: 0.0845 - mape: 83289355.4286 - val_loss: 0.0845 - val_mape: 79249040.0000\n",
      "Epoch 14/20\n",
      "13/13 [==============================] - 0s 35ms/step - loss: 0.0844 - mape: 82584156.0000 - val_loss: 0.0844 - val_mape: 85635640.0000\n",
      "Epoch 15/20\n",
      "13/13 [==============================] - 0s 30ms/step - loss: 0.0845 - mape: 83438662.2857 - val_loss: 0.0843 - val_mape: 83876728.0000\n",
      "Epoch 16/20\n",
      "13/13 [==============================] - 0s 34ms/step - loss: 0.0844 - mape: 83327115.4286 - val_loss: 0.0843 - val_mape: 82999200.0000\n",
      "Epoch 17/20\n",
      "13/13 [==============================] - 0s 30ms/step - loss: 0.0844 - mape: 83188461.7143 - val_loss: 0.0846 - val_mape: 87861800.0000\n",
      "Epoch 18/20\n",
      "13/13 [==============================] - 0s 33ms/step - loss: 0.0844 - mape: 83731674.8571 - val_loss: 0.0846 - val_mape: 88110920.0000\n",
      "Epoch 19/20\n",
      "13/13 [==============================] - 0s 32ms/step - loss: 0.0845 - mape: 83784344.5714 - val_loss: 0.0845 - val_mape: 79364528.0000\n",
      "Epoch 20/20\n",
      "13/13 [==============================] - 0s 29ms/step - loss: 0.0843 - mape: 82626966.8571 - val_loss: 0.0847 - val_mape: 89354032.0000\n"
     ]
    }
   ],
   "source": [
    "model = build_model ()\n",
    "history = model.fit ( x_train, y_train, epochs = 20, batch_size = 20050, validation_data = (x_val, y_val) )\n",
    "model.save(\"../models/classificationandregression/large_mse250.h5\")"
   ]
  },
  {
   "cell_type": "code",
   "execution_count": 86,
   "metadata": {},
   "outputs": [
    {
     "data": {
      "image/png": "[encoded data removed]",
      "text/plain": [
       "<Figure size 432x288 with 1 Axes>"
      ]
     },
     "metadata": {
      "needs_background": "light"
     },
     "output_type": "display_data"
    }
   ],
   "source": [
    "loss = history.history['loss']\n",
    "val_loss = history.history['val_loss']\n",
    "\n",
    "epochs = range(1, len(loss) + 1)\n",
    "\n",
    "plt.plot(epochs, loss, 'bo', label='Training loss')\n",
    "plt.plot(epochs, val_loss, 'b', label='Validation loss')\n",
    "plt.title('Training and validation loss')\n",
    "plt.xlabel('Epochs')\n",
    "plt.ylabel('Loss')\n",
    "plt.legend()\n",
    "\n",
    "plt.show()"
   ]
  },
  {
   "cell_type": "markdown",
   "metadata": {},
   "source": [
    "## Test spectrum"
   ]
  },
  {
   "cell_type": "code",
   "execution_count": null,
   "metadata": {},
   "outputs": [],
   "source": [
    "from tensorflow import keras\n",
    "model = keras.models.load_model('../models/classificationandregression/large_mse250.h5')"
   ]
  },
  {
   "cell_type": "code",
   "execution_count": null,
   "metadata": {},
   "outputs": [],
   "source": [
    "model.summary()"
   ]
  },
  {
   "cell_type": "code",
   "execution_count": null,
   "metadata": {},
   "outputs": [],
   "source": [
    "def energy_spectrum(energy_array, bins):\n",
    "    energy_array = np.array(energy_array)\n",
    "    plt.hist(energy_array, bins, histtype=u'step', density=True)\n",
    "    plt.yscale(\"log\")\n",
    "    plt.show()"
   ]
  },
  {
   "cell_type": "code",
   "execution_count": null,
   "metadata": {},
   "outputs": [],
   "source": [
    "y"
   ]
  },
  {
   "cell_type": "code",
   "execution_count": null,
   "metadata": {},
   "outputs": [],
   "source": [
    "from tensorflow import keras \n",
    "photon_final_nn = []\n",
    "prediction = model.predict(x)"
   ]
  },
  {
   "cell_type": "code",
   "execution_count": null,
   "metadata": {},
   "outputs": [],
   "source": [
    "p1e_nn = prediction[:,0] \n",
    "p1e = y[:,0]\n",
    "print(p1e_nn)\n",
    "print(p1e)\n",
    "plt.hist(p1e_nn, 60, alpha=0.5, label='NN prediction', density = True)\n",
    "plt.hist(p1e, 100, alpha=0.5, label='Photon Momentum from simulations', density = True)\n",
    "plt.xlabel('Electron momentum x-direction')\n",
    "plt.ylabel('count')\n",
    "plt.legend(loc='upper right')\n",
    "#plt.xlim((0, 0.25))\n",
    "plt.ylim((0, 12))\n",
    "plt.show()"
   ]
  },
  {
   "cell_type": "code",
   "execution_count": null,
   "metadata": {},
   "outputs": [],
   "source": [
    "p2e_nn = prediction[:,1] \n",
    "p2e = y[:,1]\n",
    "print(p2e_nn)\n",
    "print(p2e)\n",
    "plt.hist(p2e_nn, 60, alpha=0.5, label='NN prediction', density = True)\n",
    "plt.hist(p2e, 100, alpha=0.5, label='Photon Momentum from simulations', density = True)\n",
    "plt.xlabel('Electron momentum y-direction')\n",
    "plt.ylabel('count')\n",
    "plt.legend(loc='upper right')\n",
    "#plt.xlim((0, 0.25))\n",
    "plt.ylim((0, 12))\n",
    "plt.show()"
   ]
  },
  {
   "cell_type": "code",
   "execution_count": null,
   "metadata": {},
   "outputs": [],
   "source": [
    "p3e_nn = prediction[:,2] \n",
    "p3e = y[:,2]\n",
    "print(p3e_nn)\n",
    "print(p3e)\n",
    "plt.hist(p3e_nn, 100, alpha=0.5, label='NN prediction', density = True)\n",
    "plt.hist(p3e, 100, alpha=0.5, label='Photon Momentum from simulations', density = True)\n",
    "plt.xlabel('Electron momentum z-direction')\n",
    "plt.ylabel('count')\n",
    "plt.legend(loc='upper right')\n",
    "plt.ylim((0, 12))\n",
    "plt.show()"
   ]
  },
  {
   "cell_type": "code",
   "execution_count": null,
   "metadata": {},
   "outputs": [],
   "source": [
    "fig, axs = plt.subplots(3, sharex = True)\n",
    "fig.suptitle('3-momentum electrons post interaction')\n",
    "axs[0].hist(p1e_nn, 100, alpha=0.5, label='NN prediction', density = True)\n",
    "axs[0].hist(p1e, 100, alpha=0.5, label='NN prediction', density = True)\n",
    "axs[1].hist(p2e_nn, 100, alpha=0.5, label='Photon Momentum from simulations', density = True)\n",
    "axs[1].hist(p2e, 100, alpha=0.5, label='Photon Momentum from simulations', density = True)\n",
    "axs[2].hist(p3e_nn, 100, alpha=0.5, label='Photon Momentum from simulations', density = True)\n",
    "axs[2].hist(p3e, 100, alpha=0.5, label='Photon Momentum from simulations', density = True)\n",
    "fig.show()"
   ]
  },
  {
   "cell_type": "code",
   "execution_count": null,
   "metadata": {},
   "outputs": [],
   "source": [
    "final_e = []\n",
    "final_e_nn = []\n",
    "for classi_ in class_data:\n",
    "    final_e.append(np.linalg.norm(classi_[-7:-4]))"
   ]
  },
  {
   "cell_type": "code",
   "execution_count": null,
   "metadata": {},
   "outputs": [],
   "source": [
    "from tensorflow import keras \n",
    "final_e_nn = []\n",
    "threshold = 0.5\n",
    "num = int(1*len(x))\n",
    "bar = progressbar.ProgressBar(maxval=num, \n",
    "                              widgets=[progressbar.Bar('=', '[', ']'), ' ', \n",
    "                                       progressbar.Percentage(), \n",
    "                                       \" of {0}\".format(num)])\n",
    "bar.start()\n",
    "for pred in prediction:\n",
    "    final_e_nn.append(np.linalg.norm(pred))\n",
    "bar.finish()"
   ]
  },
  {
   "cell_type": "code",
   "execution_count": null,
   "metadata": {},
   "outputs": [],
   "source": [
    "energy_spectrum(final_e, 75)"
   ]
  },
  {
   "cell_type": "code",
   "execution_count": null,
   "metadata": {},
   "outputs": [],
   "source": [
    "energy_spectrum(final_e_nn, 75)"
   ]
  },
  {
   "cell_type": "code",
   "execution_count": null,
   "metadata": {},
   "outputs": [],
   "source": [
    "from scipy.stats import norm\n",
    "import matplotlib.mlab as mlab\n",
    "import matplotlib.pyplot as plt\n",
    "import scipy.stats as stats\n",
    "from scipy.stats import chisquare\n",
    "\n",
    "mean,std=norm.fit(final_e)\n",
    "plt.hist(final_e, bins=100, alpha = 0.5, label='NN prediction', density = True)\n",
    "xmin, xmax = plt.xlim()\n",
    "x = np.linspace(xmin, xmax, 100)\n",
    "y = norm.pdf(x, mean, std)\n",
    "plt.plot(x, y,'r--', linewidth=2)\n",
    "plt.legend(loc='upper right')\n",
    "plt.show()"
   ]
  },
  {
   "cell_type": "code",
   "execution_count": null,
   "metadata": {},
   "outputs": [],
   "source": [
    "print('mean = ', mean)\n",
    "print('std = ', std)\n",
    "print(\"chi square = \", stats.chisquare(final_e))"
   ]
  },
  {
   "cell_type": "code",
   "execution_count": null,
   "metadata": {},
   "outputs": [],
   "source": [
    "from scipy.stats import norm\n",
    "import matplotlib.mlab as mlab\n",
    "import matplotlib.pyplot as plt\n",
    "import scipy.stats as stats\n",
    "from scipy.stats import chisquare\n",
    "\n",
    "mean_nn,std_nn=norm.fit(final_e_nn)\n",
    "plt.hist(final_e_nn, bins=100, alpha = 0.5, label='NN prediction', density = True)\n",
    "xmin, xmax = plt.xlim()\n",
    "x = np.linspace(xmin, xmax, 100)\n",
    "y = norm.pdf(x, mean_nn, std_nn)\n",
    "plt.plot(x, y,'r--', linewidth=2)\n",
    "plt.legend(loc='upper right')\n",
    "plt.show()"
   ]
  },
  {
   "cell_type": "code",
   "execution_count": null,
   "metadata": {},
   "outputs": [],
   "source": [
    "print('mean = ', mean_nn)\n",
    "print('std = ', std_nn)\n",
    "print(\"chi square = \", stats.chisquare(final_e_nn))"
   ]
  },
  {
   "cell_type": "code",
   "execution_count": null,
   "metadata": {},
   "outputs": [],
   "source": [
    "plt.hist(final_e_nn, bins=100, alpha = 0.5, label='NN prediction', density = True)\n",
    "plt.hist(final_e, bins=100, alpha = 0.5, label='Electron Momentum from simulations', density = True)\n",
    "x_nn = np.linspace(xmin, xmax, 100)\n",
    "y_nn = norm.pdf(x_nn, mean_nn, std_nn)\n",
    "plt.plot(x_nn, y_nn,'r--', label = 'fit NN', linewidth = 2)\n",
    "plt.legend(loc='upper right')\n",
    "x_e = np.linspace(xmin, xmax, 100)\n",
    "y_e = norm.pdf(x_e, mean, std)\n",
    "plt.plot(x_e, y_e, 'g:', label = 'fit Electron Momentum Simulations', linewidth = 2)\n",
    "plt.legend(loc = 'upper right')\n",
    "plt.ylim((0, 30))\n",
    "plt.savefig('Fit_250train_250test.png')\n",
    "plt.show()"
   ]
  },
  {
   "cell_type": "code",
   "execution_count": null,
   "metadata": {},
   "outputs": [],
   "source": []
  }
 ],
 "metadata": {
  "kernelspec": {
   "display_name": "Python 3",
   "language": "python",
   "name": "python3"
  },
  "language_info": {
   "codemirror_mode": {
    "name": "ipython",
    "version": 3
   },
   "file_extension": ".py",
   "mimetype": "text/x-python",
   "name": "python",
   "nbconvert_exporter": "python",
   "pygments_lexer": "ipython3",
   "version": "3.7.7"
  }
 },
 "nbformat": 4,
 "nbformat_minor": 4
}
