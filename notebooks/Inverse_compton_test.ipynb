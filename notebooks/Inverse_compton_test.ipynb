{
 "cells": [
  {
   "cell_type": "code",
   "execution_count": 1,
   "metadata": {},
   "outputs": [
    {
     "name": "stdout",
     "output_type": "stream",
     "text": [
      "1.2.0\n"
     ]
    }
   ],
   "source": [
    "import pandas as pd \n",
    "import numpy as np\n",
    "import math\n",
    "import tensorflow as tf\n",
    "print(pd.__version__)\n",
    "import random\n",
    "import matplotlib.pyplot as plt\n",
    "from multiprocessing.pool import Pool"
   ]
  },
  {
   "cell_type": "code",
   "execution_count": 2,
   "metadata": {},
   "outputs": [],
   "source": [
    "from keras.models import Sequential\n",
    "from keras.layers.core import Dense\n",
    "import keras.backend as K\n",
    "from keras import optimizers\n",
    "from keras import models\n",
    "from keras import layers\n",
    "from tensorflow import keras "
   ]
  },
  {
   "cell_type": "code",
   "execution_count": 3,
   "metadata": {},
   "outputs": [],
   "source": [
    "model_regr = keras.models.load_model('../models/regression/large_mse250.h5')\n",
    "model_class = keras.models.load_model('../models/classifier/with-dropout-250.h5')"
   ]
  },
  {
   "cell_type": "code",
   "execution_count": 4,
   "metadata": {},
   "outputs": [],
   "source": [
    "def gen_electron(dimx, dimy, p1):\n",
    "    x1 = random.uniform(dimx[0], dimx[1])\n",
    "    x2 = random.uniform(dimy[0], dimy[1])\n",
    "    return np.array([p1, 0, 0, x1, x2])"
   ]
  },
  {
   "cell_type": "code",
   "execution_count": 5,
   "metadata": {},
   "outputs": [],
   "source": [
    "def gen_photon(dimx, dimy, modulus):\n",
    "    x1 = random.uniform(dimx[0], dimx[1])\n",
    "    x2 = random.uniform(dimy[0], dimy[1])\n",
    "    costheta = random.uniform(-1, 1)\n",
    "    cosphi = random.random()\n",
    "    proj_xy = cosphi*modulus\n",
    "    return np.array([proj_xy*costheta, proj_xy*np.sqrt(1-costheta**2), modulus*np.sqrt(1-cosphi**2), x1, x2])"
   ]
  },
  {
   "cell_type": "code",
   "execution_count": 6,
   "metadata": {},
   "outputs": [],
   "source": [
    "x = 2\n",
    "y = 2\n",
    "p_e = 0.1\n",
    "p_pho = 0.025  \n",
    "nodes_x = 2\n",
    "nodes_y = 2\n",
    "dx = x/nodes_x\n",
    "dy = y/nodes_y\n",
    "per_node = 1000\n",
    "threshold = 0.5"
   ]
  },
  {
   "cell_type": "code",
   "execution_count": 7,
   "metadata": {},
   "outputs": [],
   "source": [
    "def node_operation(node_x, node_y, dx, dy, threshold, p_e, p_pho, per_node):\n",
    "    print(\"x: {}, y: {}\".format(node_x, node_y))\n",
    "    photon_final = []\n",
    "    lim_x_min = dx* node_x\n",
    "    lim_x_max = (dx+1)*node_x \n",
    "    lim_y_min = dy* node_y\n",
    "    lim_y_max = (dy+1)*node_y\n",
    "    for n in range(per_node):\n",
    "        electron = gen_electron([lim_x_min, lim_x_max], [lim_y_min, lim_y_max], p_e)\n",
    "        photon = gen_photon([lim_x_min, lim_x_max], [lim_y_min, lim_y_max], p_pho)\n",
    "        class_x = np.array([[electron[0], electron[1], electron[2],\n",
    "                      photon[0], photon[1], photon[2],\n",
    "                      electron[3], electron[4],\n",
    "                      photon[3], photon[4]]])\n",
    "        classification = model_class.predict(np.stack(class_x))\n",
    "        if classification >= threshold:\n",
    "            regr_x = np.array([class_x[0,:6]])\n",
    "            regr_data = model_regr.predict(regr_x)\n",
    "            photon_final.append(np.linalg.norm(regr_data[0]))\n",
    "    return np.array(photon_final)\n"
   ]
  },
  {
   "cell_type": "code",
   "execution_count": 8,
   "metadata": {},
   "outputs": [
    {
     "name": "stdout",
     "output_type": "stream",
     "text": [
      "x: 0, y: 0\n",
      "WARNING:tensorflow:Model was constructed with shape (None, 334438, 10) for input KerasTensor(type_spec=TensorSpec(shape=(None, 334438, 10), dtype=tf.float32, name='dense_12_input'), name='dense_12_input', description=\"created by layer 'dense_12_input'\"), but it was called on an input with incompatible shape (None, 10).\n",
      "x: 0, y: 1\n",
      "WARNING:tensorflow:Model was constructed with shape (None, 167219, 6) for input KerasTensor(type_spec=TensorSpec(shape=(None, 167219, 6), dtype=tf.float32, name='dense_input'), name='dense_input', description=\"created by layer 'dense_input'\"), but it was called on an input with incompatible shape (None, 6).\n",
      "x: 1, y: 0\n",
      "x: 1, y: 1\n"
     ]
    }
   ],
   "source": [
    "args = [(x, y, dx, dy, threshold, p_e, p_pho, per_node) for x in range(nodes_x) for y in range(nodes_y)]\n",
    "results = np.array([])\n",
    "for arg in args:\n",
    "    results = np.concatenate((results, node_operation(*arg)))"
   ]
  },
  {
   "cell_type": "code",
   "execution_count": 9,
   "metadata": {},
   "outputs": [
    {
     "data": {
      "text/plain": [
       "array([0.02375179, 0.02427859, 0.02276777, ..., 0.02386318, 0.02284916,\n",
       "       0.02356189])"
      ]
     },
     "execution_count": 9,
     "metadata": {},
     "output_type": "execute_result"
    }
   ],
   "source": [
    "results"
   ]
  },
  {
   "cell_type": "code",
   "execution_count": 10,
   "metadata": {},
   "outputs": [
    {
     "data": {
      "text/plain": [
       "array([0.02375179, 0.02427859, 0.02276777, ..., 0.02386318, 0.02284916,\n",
       "       0.02356189])"
      ]
     },
     "execution_count": 10,
     "metadata": {},
     "output_type": "execute_result"
    }
   ],
   "source": [
    "np.array(results)"
   ]
  },
  {
   "cell_type": "code",
   "execution_count": 11,
   "metadata": {},
   "outputs": [],
   "source": [
    "def energy_spectrum(energy_array, bins):\n",
    "    energy_array = np.array(energy_array)\n",
    "    plt.hist(energy_array, bins)\n",
    "    plt.yscale(\"log\")\n",
    "    plt.show()"
   ]
  },
  {
   "cell_type": "code",
   "execution_count": 12,
   "metadata": {},
   "outputs": [
    {
     "data": {
      "image/png": "[encoded data removed]",
      "text/plain": [
       "<Figure size 432x288 with 1 Axes>"
      ]
     },
     "metadata": {
      "needs_background": "light"
     },
     "output_type": "display_data"
    }
   ],
   "source": [
    "energy_spectrum(results, 200)"
   ]
  },
  {
   "cell_type": "code",
   "execution_count": 13,
   "metadata": {},
   "outputs": [
    {
     "data": {
      "image/png": "[encoded data removed]",
      "text/plain": [
       "<Figure size 432x288 with 1 Axes>"
      ]
     },
     "metadata": {
      "needs_background": "light"
     },
     "output_type": "display_data"
    }
   ],
   "source": [
    "plt.hist(results, 100, alpha=0.5, label='Energy Spectrum Photons', density = True)\n",
    "#plt.xlabel('Photon Momentum')\n",
    "#plt.ylabel('count')\n",
    "#plt.legend(loc='upper right')\n",
    "#plt.xlim((0, 0.25))\n",
    "#plt.ylim((0, 1000))\n",
    "plt.show()"
   ]
  },
  {
   "cell_type": "code",
   "execution_count": null,
   "metadata": {},
   "outputs": [],
   "source": []
  },
  {
   "cell_type": "code",
   "execution_count": null,
   "metadata": {},
   "outputs": [],
   "source": []
  }
 ],
 "metadata": {
  "kernelspec": {
   "display_name": "Python 3",
   "language": "python",
   "name": "python3"
  },
  "language_info": {
   "codemirror_mode": {
    "name": "ipython",
    "version": 3
   },
   "file_extension": ".py",
   "mimetype": "text/x-python",
   "name": "python",
   "nbconvert_exporter": "python",
   "pygments_lexer": "ipython3",
   "version": "3.7.7"
  }
 },
 "nbformat": 4,
 "nbformat_minor": 4
}
