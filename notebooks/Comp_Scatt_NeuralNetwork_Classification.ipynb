{
 "cells": [
  {
   "cell_type": "code",
   "execution_count": 1,
   "metadata": {},
   "outputs": [
    {
     "name": "stdout",
     "output_type": "stream",
     "text": [
      "1.2.0\n"
     ]
    }
   ],
   "source": [
    "import pandas as pd \n",
    "import numpy as np\n",
    "import math\n",
    "import tensorflow as tf\n",
    "print(pd.__version__)"
   ]
  },
  {
   "cell_type": "markdown",
   "metadata": {},
   "source": [
    "## Print Dependencies\n",
    "\n",
    "\n",
    "\n",
    "Dependences are fundamental to record the computational environment."
   ]
  },
  {
   "cell_type": "code",
   "execution_count": 2,
   "metadata": {},
   "outputs": [
    {
     "name": "stdout",
     "output_type": "stream",
     "text": [
      "Python implementation: CPython\n",
      "Python version       : 3.8.7\n",
      "IPython version      : 7.18.1\n",
      "\n",
      "pandas    : 1.2.0\n",
      "keras     : 2.4.3\n",
      "numpy     : 1.19.5\n",
      "math      : unknown\n",
      "tensorflow: 2.4.0\n",
      "matplotlib: 3.3.3\n",
      "h5py      : 2.10.0\n",
      "\n",
      "Compiler    : Clang 12.0.0 (clang-1200.0.32.28)\n",
      "OS          : Darwin\n",
      "Release     : 20.2.0\n",
      "Machine     : x86_64\n",
      "Processor   : i386\n",
      "CPU cores   : 8\n",
      "Architecture: 64bit\n",
      "\n",
      " \n",
      "Last updated: Mon Feb 15 2021 18:19:54CET\n",
      "\n"
     ]
    }
   ],
   "source": [
    "%load_ext watermark\n",
    "\n",
    "# python, ipython, packages, and machine characteristics\n",
    "%watermark -v -m -p pandas,keras,numpy,math,tensorflow,matplotlib,h5py\n",
    "\n",
    "# date\n",
    "print (\" \")\n",
    "%watermark -u -n -t -z"
   ]
  },
  {
   "cell_type": "markdown",
   "metadata": {},
   "source": [
    "## Load of the data"
   ]
  },
  {
   "cell_type": "code",
   "execution_count": 3,
   "metadata": {},
   "outputs": [],
   "source": [
    "from process import loaddata\n",
    "regr_data = loaddata(\"../data/regression/250.csv\")\n",
    "class_data = loaddata(\"../data/classifier/250.csv\")"
   ]
  },
  {
   "cell_type": "code",
   "execution_count": 4,
   "metadata": {},
   "outputs": [],
   "source": [
    "np.random.shuffle(class_data)\n",
    "y = class_data[:,0]\n",
    "x = class_data[:,1:]"
   ]
  },
  {
   "cell_type": "code",
   "execution_count": 5,
   "metadata": {},
   "outputs": [
    {
     "data": {
      "text/plain": [
       "(334438, 10)"
      ]
     },
     "execution_count": 5,
     "metadata": {},
     "output_type": "execute_result"
    }
   ],
   "source": [
    "x.shape"
   ]
  },
  {
   "cell_type": "code",
   "execution_count": 6,
   "metadata": {},
   "outputs": [
    {
     "name": "stdout",
     "output_type": "stream",
     "text": [
      "Training sample: 250828 \n",
      "Valuation sample: 83610\n"
     ]
    }
   ],
   "source": [
    "train_split = 0.75\n",
    "train_limit = int(len(y)*train_split)\n",
    "print(\"Training sample: {0} \\nValuation sample: {1}\".format(train_limit, len(y)-train_limit))"
   ]
  },
  {
   "cell_type": "code",
   "execution_count": 7,
   "metadata": {},
   "outputs": [],
   "source": [
    "x_train = x[:train_limit]\n",
    "x_val = x[train_limit:]\n",
    "\n",
    "y_train = y[:train_limit]\n",
    "y_val = y[train_limit:]"
   ]
  },
  {
   "cell_type": "markdown",
   "metadata": {},
   "source": [
    "## Model Build"
   ]
  },
  {
   "cell_type": "code",
   "execution_count": 8,
   "metadata": {},
   "outputs": [],
   "source": [
    "from keras.models import Sequential\n",
    "from keras.layers.core import Dense\n",
    "import keras.backend as K\n",
    "from keras import optimizers\n",
    "from keras import models\n",
    "from keras import layers"
   ]
  },
  {
   "cell_type": "code",
   "execution_count": 9,
   "metadata": {},
   "outputs": [],
   "source": [
    "def build_model() :\n",
    "    model = models.Sequential()\n",
    "    model.add (layers.Dense (16, activation = \"sigmoid\" , input_shape = x.shape))\n",
    "    model.add (layers.Dense (16, activation = \"relu\"))\n",
    "    model.add (layers.Dense (1 , activation = \"sigmoid\"))\n",
    "    model.compile(optimizer = \"adam\" , loss = \"binary_crossentropy\" , metrics =[\"accuracy\"])\n",
    "    return model"
   ]
  },
  {
   "cell_type": "code",
   "execution_count": 10,
   "metadata": {},
   "outputs": [
    {
     "name": "stdout",
     "output_type": "stream",
     "text": [
      "Epoch 1/20\n",
      "WARNING:tensorflow:Model was constructed with shape (None, 334438, 10) for input KerasTensor(type_spec=TensorSpec(shape=(None, 334438, 10), dtype=tf.float32, name='dense_input'), name='dense_input', description=\"created by layer 'dense_input'\"), but it was called on an input with incompatible shape (None, 10).\n",
      "WARNING:tensorflow:Model was constructed with shape (None, 334438, 10) for input KerasTensor(type_spec=TensorSpec(shape=(None, 334438, 10), dtype=tf.float32, name='dense_input'), name='dense_input', description=\"created by layer 'dense_input'\"), but it was called on an input with incompatible shape (None, 10).\n",
      "12538/12542 [============================>.] - ETA: 0s - loss: 0.4329 - accuracy: 0.8113WARNING:tensorflow:Model was constructed with shape (None, 334438, 10) for input KerasTensor(type_spec=TensorSpec(shape=(None, 334438, 10), dtype=tf.float32, name='dense_input'), name='dense_input', description=\"created by layer 'dense_input'\"), but it was called on an input with incompatible shape (None, 10).\n",
      "12542/12542 [==============================] - 12s 890us/step - loss: 0.4328 - accuracy: 0.8113 - val_loss: 0.2183 - val_accuracy: 0.9231\n",
      "Epoch 2/20\n",
      "12542/12542 [==============================] - 11s 872us/step - loss: 0.2008 - accuracy: 0.9315 - val_loss: 0.1778 - val_accuracy: 0.9416\n",
      "Epoch 3/20\n",
      "12542/12542 [==============================] - 13s 1ms/step - loss: 0.1799 - accuracy: 0.9413 - val_loss: 0.1758 - val_accuracy: 0.9436\n",
      "Epoch 4/20\n",
      "12542/12542 [==============================] - 17s 1ms/step - loss: 0.1753 - accuracy: 0.9437 - val_loss: 0.1648 - val_accuracy: 0.9492\n",
      "Epoch 5/20\n",
      "12542/12542 [==============================] - 15s 1ms/step - loss: 0.1722 - accuracy: 0.9448 - val_loss: 0.1733 - val_accuracy: 0.9433\n",
      "Epoch 6/20\n",
      "12542/12542 [==============================] - 15s 1ms/step - loss: 0.1691 - accuracy: 0.9464 - val_loss: 0.1653 - val_accuracy: 0.9488\n",
      "Epoch 7/20\n",
      "12542/12542 [==============================] - 15s 1ms/step - loss: 0.1686 - accuracy: 0.9472 - val_loss: 0.1695 - val_accuracy: 0.9459\n",
      "Epoch 8/20\n",
      "12542/12542 [==============================] - 15s 1ms/step - loss: 0.1669 - accuracy: 0.9475 - val_loss: 0.1677 - val_accuracy: 0.9464\n",
      "Epoch 9/20\n",
      "12542/12542 [==============================] - 15s 1ms/step - loss: 0.1645 - accuracy: 0.9486 - val_loss: 0.1596 - val_accuracy: 0.9506\n",
      "Epoch 10/20\n",
      "12542/12542 [==============================] - 15s 1ms/step - loss: 0.1648 - accuracy: 0.9483 - val_loss: 0.1577 - val_accuracy: 0.9520\n",
      "Epoch 11/20\n",
      "12542/12542 [==============================] - 15s 1ms/step - loss: 0.1612 - accuracy: 0.9504 - val_loss: 0.1561 - val_accuracy: 0.9530\n",
      "Epoch 12/20\n",
      "12542/12542 [==============================] - 16s 1ms/step - loss: 0.1604 - accuracy: 0.9501 - val_loss: 0.1613 - val_accuracy: 0.9497\n",
      "Epoch 13/20\n",
      "12542/12542 [==============================] - 17s 1ms/step - loss: 0.1591 - accuracy: 0.9510 - val_loss: 0.1585 - val_accuracy: 0.9516\n",
      "Epoch 14/20\n",
      "12542/12542 [==============================] - 16s 1ms/step - loss: 0.1586 - accuracy: 0.9510 - val_loss: 0.1558 - val_accuracy: 0.9523\n",
      "Epoch 15/20\n",
      "12542/12542 [==============================] - 16s 1ms/step - loss: 0.1585 - accuracy: 0.9512 - val_loss: 0.1763 - val_accuracy: 0.9391\n",
      "Epoch 16/20\n",
      "12542/12542 [==============================] - 16s 1ms/step - loss: 0.1595 - accuracy: 0.9506 - val_loss: 0.1524 - val_accuracy: 0.9544\n",
      "Epoch 17/20\n",
      "12542/12542 [==============================] - 16s 1ms/step - loss: 0.1577 - accuracy: 0.9519 - val_loss: 0.1515 - val_accuracy: 0.9551\n",
      "Epoch 18/20\n",
      "12542/12542 [==============================] - 16s 1ms/step - loss: 0.1593 - accuracy: 0.9511 - val_loss: 0.1524 - val_accuracy: 0.9545\n",
      "Epoch 19/20\n",
      "12542/12542 [==============================] - 17s 1ms/step - loss: 0.1568 - accuracy: 0.9521 - val_loss: 0.1503 - val_accuracy: 0.9558\n",
      "Epoch 20/20\n",
      "12542/12542 [==============================] - 18s 1ms/step - loss: 0.1558 - accuracy: 0.9523 - val_loss: 0.1530 - val_accuracy: 0.9544\n"
     ]
    }
   ],
   "source": [
    "model = build_model ()\n",
    "history = model.fit ( x_train, y_train, epochs = 20, batch_size = 20 , validation_data = (x_val, y_val) )\n",
    "model.save(\"../models/classifier/no-dropout-250.h5\")"
   ]
  },
  {
   "cell_type": "code",
   "execution_count": 16,
   "metadata": {},
   "outputs": [
    {
     "name": "stderr",
     "output_type": "stream",
     "text": [
      "<ipython-input-16-5ff47e697a9f>:29: UserWarning: Matplotlib is currently using module://ipykernel.pylab.backend_inline, which is a non-GUI backend, so cannot show the figure.\n",
      "  fig.show()\n"
     ]
    },
    {
     "data": {
      "image/png": "[encoded data removed]",
      "text/plain": [
       "<Figure size 432x288 with 2 Axes>"
      ]
     },
     "metadata": {
      "needs_background": "light"
     },
     "output_type": "display_data"
    }
   ],
   "source": [
    "import matplotlib.pyplot as plt\n",
    "\n",
    "loss = history.history['loss']\n",
    "val_loss = history.history['val_loss']\n",
    "\n",
    "accuracy = history.history['accuracy']\n",
    "val_accuracy = history.history['val_accuracy']\n",
    "\n",
    "\n",
    "epochs = range(1, len(loss) + 1)\n",
    "fig, ax1 = plt.subplots()\n",
    "\n",
    "l1 = ax1.plot(epochs, loss, 'bo', label='Training loss')\n",
    "vl1 = ax1.plot(epochs, val_loss, 'b', label='Validation loss')\n",
    "ax1.set_title('Training and validation loss')\n",
    "ax1.set_xlabel('Epochs')\n",
    "ax1.set_ylabel('Loss')\n",
    "\n",
    "ax2 = ax1.twinx()\n",
    "ac2= ax2.plot(epochs, accuracy, 'o', c=\"red\", label='Training acc')\n",
    "vac2= ax2.plot(epochs, val_accuracy, 'r', label='Validation acc')\n",
    "ax2.set_ylabel('Accuracy')\n",
    "\n",
    "lns = l1 + vl1 + ac2 + vac2\n",
    "labs = [l.get_label() for l in lns]\n",
    "ax2.legend(lns, labs, loc=\"center right\")\n",
    "fig.tight_layout()\n",
    "fig.savefig(\"acc+loss.pdf\")\n",
    "fig.show()"
   ]
  },
  {
   "cell_type": "code",
   "execution_count": 12,
   "metadata": {
    "scrolled": true
   },
   "outputs": [
    {
     "data": {
      "image/png": "[encoded data removed]",
      "text/plain": [
       "<Figure size 432x288 with 1 Axes>"
      ]
     },
     "metadata": {
      "needs_background": "light"
     },
     "output_type": "display_data"
    }
   ],
   "source": [
    "accuracy = history.history['accuracy']\n",
    "val_accuracy = history.history['val_accuracy']\n",
    "\n",
    "plt.plot(epochs, accuracy, 'bo', label='Training acc')\n",
    "plt.plot(epochs, val_accuracy, 'b', label='Validation acc')\n",
    "plt.title('Training and validation accuracy')\n",
    "plt.xlabel('Epochs')\n",
    "plt.ylabel('Loss')\n",
    "plt.legend()\n",
    "\n",
    "plt.show()"
   ]
  },
  {
   "cell_type": "code",
   "execution_count": 13,
   "metadata": {},
   "outputs": [],
   "source": [
    "def build_model() :\n",
    "    model = models.Sequential()\n",
    "    model.add (layers.Dense (16 , activation = \"relu\" , input_shape = x.shape))\n",
    "    model.add(layers.Dropout(0.2))\n",
    "    model.add (layers.Dense (16, activation = \"relu\"))\n",
    "    model.add(layers.Dropout(0.2))\n",
    "    model.add (layers.Dense (1 , activation = \"sigmoid\"))\n",
    "    model.compile(optimizer = \"adam\" , loss = \"binary_crossentropy\" , metrics =[\"accuracy\"])\n",
    "    return model"
   ]
  },
  {
   "cell_type": "code",
   "execution_count": 18,
   "metadata": {},
   "outputs": [
    {
     "name": "stdout",
     "output_type": "stream",
     "text": [
      "Epoch 1/20\n",
      "WARNING:tensorflow:Model was constructed with shape (None, 334438, 10) for input KerasTensor(type_spec=TensorSpec(shape=(None, 334438, 10), dtype=tf.float32, name='dense_6_input'), name='dense_6_input', description=\"created by layer 'dense_6_input'\"), but it was called on an input with incompatible shape (None, 10).\n",
      "WARNING:tensorflow:Model was constructed with shape (None, 334438, 10) for input KerasTensor(type_spec=TensorSpec(shape=(None, 334438, 10), dtype=tf.float32, name='dense_6_input'), name='dense_6_input', description=\"created by layer 'dense_6_input'\"), but it was called on an input with incompatible shape (None, 10).\n",
      "781/837 [==========================>...] - ETA: 0s - loss: 0.5963 - accuracy: 0.6602WARNING:tensorflow:Model was constructed with shape (None, 334438, 10) for input KerasTensor(type_spec=TensorSpec(shape=(None, 334438, 10), dtype=tf.float32, name='dense_6_input'), name='dense_6_input', description=\"created by layer 'dense_6_input'\"), but it was called on an input with incompatible shape (None, 10).\n",
      "837/837 [==============================] - 1s 1ms/step - loss: 0.5863 - accuracy: 0.6689 - val_loss: 0.2307 - val_accuracy: 0.9249\n",
      "Epoch 2/20\n",
      "837/837 [==============================] - 1s 1ms/step - loss: 0.2475 - accuracy: 0.9140 - val_loss: 0.1849 - val_accuracy: 0.9388\n",
      "Epoch 3/20\n",
      "837/837 [==============================] - 1s 1ms/step - loss: 0.2075 - accuracy: 0.9297 - val_loss: 0.1711 - val_accuracy: 0.9465\n",
      "Epoch 4/20\n",
      "837/837 [==============================] - 1s 1ms/step - loss: 0.1934 - accuracy: 0.9358 - val_loss: 0.1651 - val_accuracy: 0.9493\n",
      "Epoch 5/20\n",
      "837/837 [==============================] - 1s 1ms/step - loss: 0.1865 - accuracy: 0.9382 - val_loss: 0.1634 - val_accuracy: 0.9495\n",
      "Epoch 6/20\n",
      "837/837 [==============================] - 1s 1ms/step - loss: 0.1803 - accuracy: 0.9419 - val_loss: 0.1595 - val_accuracy: 0.9518\n",
      "Epoch 7/20\n",
      "837/837 [==============================] - 1s 1ms/step - loss: 0.1736 - accuracy: 0.9446 - val_loss: 0.1568 - val_accuracy: 0.9519\n",
      "Epoch 8/20\n",
      "837/837 [==============================] - 1s 1ms/step - loss: 0.1733 - accuracy: 0.9445 - val_loss: 0.1606 - val_accuracy: 0.9494\n",
      "Epoch 9/20\n",
      "837/837 [==============================] - 1s 1ms/step - loss: 0.1684 - accuracy: 0.9463 - val_loss: 0.1558 - val_accuracy: 0.9521\n",
      "Epoch 10/20\n",
      "837/837 [==============================] - 1s 1ms/step - loss: 0.1681 - accuracy: 0.9468 - val_loss: 0.1539 - val_accuracy: 0.9526\n",
      "Epoch 11/20\n",
      "837/837 [==============================] - 1s 1ms/step - loss: 0.1656 - accuracy: 0.9476 - val_loss: 0.1530 - val_accuracy: 0.9531\n",
      "Epoch 12/20\n",
      "837/837 [==============================] - 1s 1ms/step - loss: 0.1678 - accuracy: 0.9468 - val_loss: 0.1521 - val_accuracy: 0.9533\n",
      "Epoch 13/20\n",
      "837/837 [==============================] - 1s 1ms/step - loss: 0.1657 - accuracy: 0.9478 - val_loss: 0.1509 - val_accuracy: 0.9538\n",
      "Epoch 14/20\n",
      "837/837 [==============================] - 1s 1ms/step - loss: 0.1626 - accuracy: 0.9492 - val_loss: 0.1527 - val_accuracy: 0.9537\n",
      "Epoch 15/20\n",
      "837/837 [==============================] - 1s 1ms/step - loss: 0.1640 - accuracy: 0.9486 - val_loss: 0.1517 - val_accuracy: 0.9540\n",
      "Epoch 16/20\n",
      "837/837 [==============================] - 1s 1ms/step - loss: 0.1635 - accuracy: 0.9487 - val_loss: 0.1586 - val_accuracy: 0.9495\n",
      "Epoch 17/20\n",
      "837/837 [==============================] - 1s 1ms/step - loss: 0.1622 - accuracy: 0.9490 - val_loss: 0.1492 - val_accuracy: 0.9551\n",
      "Epoch 18/20\n",
      "837/837 [==============================] - 1s 1ms/step - loss: 0.1607 - accuracy: 0.9496 - val_loss: 0.1458 - val_accuracy: 0.9562\n",
      "Epoch 19/20\n",
      "837/837 [==============================] - 1s 1ms/step - loss: 0.1621 - accuracy: 0.9490 - val_loss: 0.1459 - val_accuracy: 0.9561\n",
      "Epoch 20/20\n",
      "837/837 [==============================] - 1s 1ms/step - loss: 0.1591 - accuracy: 0.9496 - val_loss: 0.1490 - val_accuracy: 0.9547\n"
     ]
    }
   ],
   "source": [
    "model = build_model ()\n",
    "history = model.fit ( x_train, y_train, epochs = 20, batch_size = 300 , validation_data = (x_val, y_val) )\n",
    "model.save(\"../models/classifier/with-dropout-250.h5\")"
   ]
  },
  {
   "cell_type": "markdown",
   "metadata": {},
   "source": [
    "## Adding Dropout\n",
    "\n",
    "Dropout is one of the most effective and most commonly used regularization techniques for neural networks, developed by Geoff Hinton and his students at the University of Toronto. Dropout, applied to a layer, consists of randomly dropping out (setting to zero) a number of output features of the layer during training. Let’s say a\n",
    "given layer would normally return a vector [0.2, 0.5, 1.3, 0.8, 1.1] for a given input sample during training. After applying dropout, this vector will have a few zero entries distributed at random: for example, [0, 0.5, 1.3, 0, 1.1]. The dropout rate is the fraction of the features that are zeroed out; it’s usually set between 0.2 and 0.5. At test time, no units are dropped out; instead, the layer’s output values are scaled down by a factor equal to the dropout rate, to balance for the fact that more units are active than at training time.\n",
    "\n",
    "##### [From Deep Learning with Python, Chollet]"
   ]
  },
  {
   "cell_type": "code",
   "execution_count": 19,
   "metadata": {},
   "outputs": [
    {
     "name": "stderr",
     "output_type": "stream",
     "text": [
      "<ipython-input-19-371c4d5f3f4d>:29: UserWarning: Matplotlib is currently using module://ipykernel.pylab.backend_inline, which is a non-GUI backend, so cannot show the figure.\n",
      "  fig.show()\n"
     ]
    },
    {
     "data": {
      "image/png": "[encoded data removed]",
      "text/plain": [
       "<Figure size 432x288 with 2 Axes>"
      ]
     },
     "metadata": {
      "needs_background": "light"
     },
     "output_type": "display_data"
    }
   ],
   "source": [
    "import matplotlib.pyplot as plt\n",
    "\n",
    "loss = history.history['loss']\n",
    "val_loss = history.history['val_loss']\n",
    "\n",
    "accuracy = history.history['accuracy']\n",
    "val_accuracy = history.history['val_accuracy']\n",
    "\n",
    "\n",
    "epochs = range(1, len(loss) + 1)\n",
    "fig, ax1 = plt.subplots()\n",
    "\n",
    "l1 = ax1.plot(epochs, loss, 'bo', label='Training loss')\n",
    "vl1 = ax1.plot(epochs, val_loss, 'b', label='Validation loss')\n",
    "ax1.set_title('Training and validation loss')\n",
    "ax1.set_xlabel('Epochs')\n",
    "ax1.set_ylabel('Loss')\n",
    "\n",
    "ax2 = ax1.twinx()\n",
    "ac2= ax2.plot(epochs, accuracy, 'o', c=\"red\", label='Training acc')\n",
    "vac2= ax2.plot(epochs, val_accuracy, 'r', label='Validation acc')\n",
    "ax2.set_ylabel('Accuracy')\n",
    "\n",
    "lns = l1 + vl1 + ac2 + vac2\n",
    "labs = [l.get_label() for l in lns]\n",
    "ax2.legend(lns, labs, loc=\"center right\")\n",
    "fig.tight_layout()\n",
    "fig.savefig(\"acc+loss_drop.pdf\")\n",
    "fig.show()"
   ]
  },
  {
   "cell_type": "code",
   "execution_count": null,
   "metadata": {
    "scrolled": true
   },
   "outputs": [],
   "source": [
    "plt.clf()   # clear figure\n",
    "\n",
    "accuracy = history.history['accuracy']\n",
    "val_accuracy = history.history['val_accuracy']\n",
    "\n",
    "plt.plot(epochs, accuracy, 'bo', label='Training acc')\n",
    "plt.plot(epochs, val_accuracy, 'b', label='Validation acc')\n",
    "plt.title('Training and validation accuracy')\n",
    "plt.xlabel('Epochs')\n",
    "plt.ylabel('Loss')\n",
    "plt.legend()\n",
    "\n",
    "plt.show()"
   ]
  },
  {
   "cell_type": "code",
   "execution_count": null,
   "metadata": {},
   "outputs": [],
   "source": []
  },
  {
   "cell_type": "code",
   "execution_count": null,
   "metadata": {},
   "outputs": [],
   "source": []
  },
  {
   "cell_type": "code",
   "execution_count": null,
   "metadata": {},
   "outputs": [],
   "source": []
  }
 ],
 "metadata": {
  "kernelspec": {
   "display_name": "Python 3",
   "language": "python",
   "name": "python3"
  },
  "language_info": {
   "codemirror_mode": {
    "name": "ipython",
    "version": 3
   },
   "file_extension": ".py",
   "mimetype": "text/x-python",
   "name": "python",
   "nbconvert_exporter": "python",
   "pygments_lexer": "ipython3",
   "version": "3.8.7"
  }
 },
 "nbformat": 4,
 "nbformat_minor": 4
}
