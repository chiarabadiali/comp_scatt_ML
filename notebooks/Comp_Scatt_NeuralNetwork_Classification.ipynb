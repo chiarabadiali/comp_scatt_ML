{
 "cells": [
  {
   "cell_type": "code",
   "execution_count": 1,
   "metadata": {},
   "outputs": [
    {
     "name": "stdout",
     "output_type": "stream",
     "text": [
      "1.2.0\n"
     ]
    }
   ],
   "source": [
    "import pandas as pd \n",
    "import numpy as np\n",
    "import math\n",
    "import tensorflow as tf\n",
    "print(pd.__version__)"
   ]
  },
  {
   "cell_type": "markdown",
   "metadata": {},
   "source": [
    "## Print Dependencies\n",
    "\n",
    "\n",
    "\n",
    "Dependences are fundamental to record the computational environment."
   ]
  },
  {
   "cell_type": "code",
   "execution_count": 2,
   "metadata": {},
   "outputs": [
    {
     "name": "stdout",
     "output_type": "stream",
     "text": [
      "Python implementation: CPython\n",
      "Python version       : 3.8.7\n",
      "IPython version      : 7.18.1\n",
      "\n",
      "pandas    : 1.2.0\n",
      "keras     : 2.4.3\n",
      "numpy     : 1.19.5\n",
      "math      : unknown\n",
      "tensorflow: 2.4.0\n",
      "matplotlib: 3.3.3\n",
      "h5py      : 2.10.0\n",
      "\n",
      "Compiler    : Clang 12.0.0 (clang-1200.0.32.28)\n",
      "OS          : Darwin\n",
      "Release     : 20.2.0\n",
      "Machine     : x86_64\n",
      "Processor   : i386\n",
      "CPU cores   : 8\n",
      "Architecture: 64bit\n",
      "\n",
      " \n",
      "Last updated: Tue Jan 26 2021 14:12:38CET\n",
      "\n"
     ]
    }
   ],
   "source": [
    "%load_ext watermark\n",
    "\n",
    "# python, ipython, packages, and machine characteristics\n",
    "%watermark -v -m -p pandas,keras,numpy,math,tensorflow,matplotlib,h5py\n",
    "\n",
    "# date\n",
    "print (\" \")\n",
    "%watermark -u -n -t -z"
   ]
  },
  {
   "cell_type": "markdown",
   "metadata": {},
   "source": [
    "## Load of the data"
   ]
  },
  {
   "cell_type": "code",
   "execution_count": 31,
   "metadata": {},
   "outputs": [],
   "source": [
    "from process import loaddata\n",
    "regr_data = loaddata(\"../data/regression/100.csv\")\n",
    "class_data = loaddata(\"../data/classifier/100.csv\")"
   ]
  },
  {
   "cell_type": "code",
   "execution_count": 32,
   "metadata": {},
   "outputs": [],
   "source": [
    "np.random.shuffle(class_data)\n",
    "y = class_data[:,0]\n",
    "x = class_data[:,1:]"
   ]
  },
  {
   "cell_type": "code",
   "execution_count": 33,
   "metadata": {},
   "outputs": [
    {
     "name": "stdout",
     "output_type": "stream",
     "text": [
      "Training sample: 93048 \n",
      "Valuation sample: 31016\n"
     ]
    }
   ],
   "source": [
    "train_split = 0.75\n",
    "train_limit = int(len(y)*train_split)\n",
    "print(\"Training sample: {0} \\nValuation sample: {1}\".format(train_limit, len(y)-train_limit))"
   ]
  },
  {
   "cell_type": "code",
   "execution_count": 34,
   "metadata": {},
   "outputs": [],
   "source": [
    "x_train = x[:train_limit]\n",
    "x_val = x[train_limit:]\n",
    "\n",
    "y_train = y[:train_limit]\n",
    "y_val = y[train_limit:]"
   ]
  },
  {
   "cell_type": "markdown",
   "metadata": {},
   "source": [
    "## Model Build"
   ]
  },
  {
   "cell_type": "code",
   "execution_count": 35,
   "metadata": {},
   "outputs": [],
   "source": [
    "from keras.models import Sequential\n",
    "from keras.layers.core import Dense\n",
    "import keras.backend as K\n",
    "from keras import optimizers\n",
    "from keras import models\n",
    "from keras import layers"
   ]
  },
  {
   "cell_type": "code",
   "execution_count": 36,
   "metadata": {},
   "outputs": [],
   "source": [
    "def build_model() :\n",
    "    model = models.Sequential()\n",
    "    model.add (layers.Dense (16, activation = \"sigmoid\" , input_shape = x.shape))\n",
    "    model.add (layers.Dense (16, activation = \"relu\"))\n",
    "    model.add (layers.Dense (1 , activation = \"sigmoid\"))\n",
    "    model.compile(optimizer = \"adam\" , loss = \"binary_crossentropy\" , metrics =[\"accuracy\"])\n",
    "    return model"
   ]
  },
  {
   "cell_type": "code",
   "execution_count": 37,
   "metadata": {},
   "outputs": [
    {
     "name": "stdout",
     "output_type": "stream",
     "text": [
      "Epoch 1/20\n",
      "WARNING:tensorflow:Model was constructed with shape (None, 124064, 10) for input KerasTensor(type_spec=TensorSpec(shape=(None, 124064, 10), dtype=tf.float32, name='dense_9_input'), name='dense_9_input', description=\"created by layer 'dense_9_input'\"), but it was called on an input with incompatible shape (None, 10).\n",
      "WARNING:tensorflow:Model was constructed with shape (None, 124064, 10) for input KerasTensor(type_spec=TensorSpec(shape=(None, 124064, 10), dtype=tf.float32, name='dense_9_input'), name='dense_9_input', description=\"created by layer 'dense_9_input'\"), but it was called on an input with incompatible shape (None, 10).\n",
      "894/931 [===========================>..] - ETA: 0s - loss: 0.6687 - accuracy: 0.6089WARNING:tensorflow:Model was constructed with shape (None, 124064, 10) for input KerasTensor(type_spec=TensorSpec(shape=(None, 124064, 10), dtype=tf.float32, name='dense_9_input'), name='dense_9_input', description=\"created by layer 'dense_9_input'\"), but it was called on an input with incompatible shape (None, 10).\n",
      "931/931 [==============================] - 1s 1ms/step - loss: 0.6666 - accuracy: 0.6131 - val_loss: 0.4738 - val_accuracy: 0.8082\n",
      "Epoch 2/20\n",
      "931/931 [==============================] - 1s 942us/step - loss: 0.4279 - accuracy: 0.8378 - val_loss: 0.3324 - val_accuracy: 0.8780\n",
      "Epoch 3/20\n",
      "931/931 [==============================] - 1s 1ms/step - loss: 0.3138 - accuracy: 0.8850 - val_loss: 0.2729 - val_accuracy: 0.9055\n",
      "Epoch 4/20\n",
      "931/931 [==============================] - 1s 1ms/step - loss: 0.2626 - accuracy: 0.9066 - val_loss: 0.2380 - val_accuracy: 0.9158\n",
      "Epoch 5/20\n",
      "931/931 [==============================] - 1s 990us/step - loss: 0.2280 - accuracy: 0.9218 - val_loss: 0.2123 - val_accuracy: 0.9258\n",
      "Epoch 6/20\n",
      "931/931 [==============================] - 1s 914us/step - loss: 0.2087 - accuracy: 0.9301 - val_loss: 0.2041 - val_accuracy: 0.9314\n",
      "Epoch 7/20\n",
      "931/931 [==============================] - 1s 1ms/step - loss: 0.1968 - accuracy: 0.9349 - val_loss: 0.1966 - val_accuracy: 0.9302\n",
      "Epoch 8/20\n",
      "931/931 [==============================] - 1s 912us/step - loss: 0.1890 - accuracy: 0.9385 - val_loss: 0.1869 - val_accuracy: 0.9407\n",
      "Epoch 9/20\n",
      "931/931 [==============================] - 1s 966us/step - loss: 0.1822 - accuracy: 0.9410 - val_loss: 0.1853 - val_accuracy: 0.9417\n",
      "Epoch 10/20\n",
      "931/931 [==============================] - 1s 895us/step - loss: 0.1840 - accuracy: 0.9405 - val_loss: 0.1812 - val_accuracy: 0.9414\n",
      "Epoch 11/20\n",
      "931/931 [==============================] - 1s 985us/step - loss: 0.1778 - accuracy: 0.9433 - val_loss: 0.1777 - val_accuracy: 0.9436\n",
      "Epoch 12/20\n",
      "931/931 [==============================] - 1s 1ms/step - loss: 0.1751 - accuracy: 0.9438 - val_loss: 0.1772 - val_accuracy: 0.9434\n",
      "Epoch 13/20\n",
      "931/931 [==============================] - 1s 1ms/step - loss: 0.1728 - accuracy: 0.9465 - val_loss: 0.1759 - val_accuracy: 0.9443\n",
      "Epoch 14/20\n",
      "931/931 [==============================] - 1s 1ms/step - loss: 0.1740 - accuracy: 0.9459 - val_loss: 0.1774 - val_accuracy: 0.9430\n",
      "Epoch 15/20\n",
      "931/931 [==============================] - 1s 955us/step - loss: 0.1705 - accuracy: 0.9466 - val_loss: 0.1736 - val_accuracy: 0.9470\n",
      "Epoch 16/20\n",
      "931/931 [==============================] - 1s 971us/step - loss: 0.1698 - accuracy: 0.9470 - val_loss: 0.1722 - val_accuracy: 0.9463\n",
      "Epoch 17/20\n",
      "931/931 [==============================] - 1s 975us/step - loss: 0.1688 - accuracy: 0.9472 - val_loss: 0.1714 - val_accuracy: 0.9477\n",
      "Epoch 18/20\n",
      "931/931 [==============================] - 1s 1ms/step - loss: 0.1677 - accuracy: 0.9479 - val_loss: 0.1705 - val_accuracy: 0.9474\n",
      "Epoch 19/20\n",
      "931/931 [==============================] - 1s 977us/step - loss: 0.1663 - accuracy: 0.9486 - val_loss: 0.1776 - val_accuracy: 0.9451\n",
      "Epoch 20/20\n",
      "931/931 [==============================] - 1s 1ms/step - loss: 0.1670 - accuracy: 0.9480 - val_loss: 0.1735 - val_accuracy: 0.9457\n"
     ]
    }
   ],
   "source": [
    "model = build_model ()\n",
    "history = model.fit ( x_train, y_train, epochs = 20, batch_size = 100 , validation_data = (x_val, y_val) )\n",
    "model.save(\"../models/classifier/no-dropout-100.h5\")"
   ]
  },
  {
   "cell_type": "code",
   "execution_count": 38,
   "metadata": {},
   "outputs": [
    {
     "data": {
      "image/png": "[encoded data removed]",
      "text/plain": [
       "<Figure size 432x288 with 1 Axes>"
      ]
     },
     "metadata": {
      "needs_background": "light"
     },
     "output_type": "display_data"
    }
   ],
   "source": [
    "import matplotlib.pyplot as plt\n",
    "\n",
    "loss = history.history['loss']\n",
    "val_loss = history.history['val_loss']\n",
    "\n",
    "epochs = range(1, len(loss) + 1)\n",
    "\n",
    "plt.plot(epochs, loss, 'bo', label='Training loss')\n",
    "plt.plot(epochs, val_loss, 'b', label='Validation loss')\n",
    "plt.title('Training and validation loss')\n",
    "plt.xlabel('Epochs')\n",
    "plt.ylabel('Loss')\n",
    "plt.legend()\n",
    "\n",
    "plt.show()"
   ]
  },
  {
   "cell_type": "code",
   "execution_count": 39,
   "metadata": {
    "scrolled": true
   },
   "outputs": [
    {
     "data": {
      "image/png": "[encoded data removed]",
      "text/plain": [
       "<Figure size 432x288 with 1 Axes>"
      ]
     },
     "metadata": {
      "needs_background": "light"
     },
     "output_type": "display_data"
    }
   ],
   "source": [
    "accuracy = history.history['accuracy']\n",
    "val_accuracy = history.history['val_accuracy']\n",
    "\n",
    "plt.plot(epochs, accuracy, 'bo', label='Training acc')\n",
    "plt.plot(epochs, val_accuracy, 'b', label='Validation acc')\n",
    "plt.title('Training and validation accuracy')\n",
    "plt.xlabel('Epochs')\n",
    "plt.ylabel('Loss')\n",
    "plt.legend()\n",
    "\n",
    "plt.show()"
   ]
  },
  {
   "cell_type": "code",
   "execution_count": 40,
   "metadata": {},
   "outputs": [],
   "source": [
    "def build_model() :\n",
    "    model = models.Sequential()\n",
    "    model.add (layers.Dense (16 , activation = \"relu\" , input_shape = x.shape))\n",
    "    model.add(layers.Dropout(0.2))\n",
    "    model.add (layers.Dense (16, activation = \"relu\"))\n",
    "    model.add(layers.Dropout(0.2))\n",
    "    model.add (layers.Dense (1 , activation = \"sigmoid\"))\n",
    "    model.compile(optimizer = \"adam\" , loss = \"binary_crossentropy\" , metrics =[\"accuracy\"])\n",
    "    return model"
   ]
  },
  {
   "cell_type": "code",
   "execution_count": 41,
   "metadata": {},
   "outputs": [
    {
     "name": "stdout",
     "output_type": "stream",
     "text": [
      "Epoch 1/96\n",
      "WARNING:tensorflow:Model was constructed with shape (None, 124064, 10) for input KerasTensor(type_spec=TensorSpec(shape=(None, 124064, 10), dtype=tf.float32, name='dense_12_input'), name='dense_12_input', description=\"created by layer 'dense_12_input'\"), but it was called on an input with incompatible shape (None, 10).\n",
      "WARNING:tensorflow:Model was constructed with shape (None, 124064, 10) for input KerasTensor(type_spec=TensorSpec(shape=(None, 124064, 10), dtype=tf.float32, name='dense_12_input'), name='dense_12_input', description=\"created by layer 'dense_12_input'\"), but it was called on an input with incompatible shape (None, 10).\n",
      "603/621 [============================>.] - ETA: 0s - loss: 0.6430 - accuracy: 0.6144WARNING:tensorflow:Model was constructed with shape (None, 124064, 10) for input KerasTensor(type_spec=TensorSpec(shape=(None, 124064, 10), dtype=tf.float32, name='dense_12_input'), name='dense_12_input', description=\"created by layer 'dense_12_input'\"), but it was called on an input with incompatible shape (None, 10).\n",
      "621/621 [==============================] - 2s 2ms/step - loss: 0.6402 - accuracy: 0.6175 - val_loss: 0.3400 - val_accuracy: 0.8878\n",
      "Epoch 2/96\n",
      "621/621 [==============================] - 1s 1ms/step - loss: 0.3520 - accuracy: 0.8656 - val_loss: 0.2310 - val_accuracy: 0.9276\n",
      "Epoch 3/96\n",
      "621/621 [==============================] - 1s 1ms/step - loss: 0.2721 - accuracy: 0.9002 - val_loss: 0.1993 - val_accuracy: 0.9325\n",
      "Epoch 4/96\n",
      "621/621 [==============================] - 1s 1ms/step - loss: 0.2404 - accuracy: 0.9160 - val_loss: 0.1879 - val_accuracy: 0.9368\n",
      "Epoch 5/96\n",
      "621/621 [==============================] - 1s 1ms/step - loss: 0.2192 - accuracy: 0.9237 - val_loss: 0.1790 - val_accuracy: 0.9431\n",
      "Epoch 6/96\n",
      "621/621 [==============================] - 1s 1ms/step - loss: 0.2079 - accuracy: 0.9290 - val_loss: 0.1745 - val_accuracy: 0.9432\n",
      "Epoch 7/96\n",
      "621/621 [==============================] - 1s 1ms/step - loss: 0.1974 - accuracy: 0.9335 - val_loss: 0.1734 - val_accuracy: 0.9431\n",
      "Epoch 8/96\n",
      "621/621 [==============================] - 1s 1ms/step - loss: 0.1953 - accuracy: 0.9356 - val_loss: 0.1691 - val_accuracy: 0.9467\n",
      "Epoch 9/96\n",
      "621/621 [==============================] - 1s 1ms/step - loss: 0.1911 - accuracy: 0.9366 - val_loss: 0.1710 - val_accuracy: 0.9455\n",
      "Epoch 10/96\n",
      "621/621 [==============================] - 1s 1ms/step - loss: 0.1880 - accuracy: 0.9377 - val_loss: 0.1646 - val_accuracy: 0.9486\n",
      "Epoch 11/96\n",
      "621/621 [==============================] - 1s 1ms/step - loss: 0.1863 - accuracy: 0.9384 - val_loss: 0.1685 - val_accuracy: 0.9456\n",
      "Epoch 12/96\n",
      "621/621 [==============================] - 1s 1ms/step - loss: 0.1849 - accuracy: 0.9397 - val_loss: 0.1637 - val_accuracy: 0.9489\n",
      "Epoch 13/96\n",
      "621/621 [==============================] - 1s 2ms/step - loss: 0.1811 - accuracy: 0.9413 - val_loss: 0.1665 - val_accuracy: 0.9468\n",
      "Epoch 14/96\n",
      "621/621 [==============================] - 1s 1ms/step - loss: 0.1815 - accuracy: 0.9407 - val_loss: 0.1641 - val_accuracy: 0.9483\n",
      "Epoch 15/96\n",
      "621/621 [==============================] - 1s 1ms/step - loss: 0.1819 - accuracy: 0.9410 - val_loss: 0.1634 - val_accuracy: 0.9500\n",
      "Epoch 16/96\n",
      "621/621 [==============================] - 1s 1ms/step - loss: 0.1803 - accuracy: 0.9415 - val_loss: 0.1646 - val_accuracy: 0.9476\n",
      "Epoch 17/96\n",
      "621/621 [==============================] - 1s 1ms/step - loss: 0.1794 - accuracy: 0.9415 - val_loss: 0.1631 - val_accuracy: 0.9478\n",
      "Epoch 18/96\n",
      "621/621 [==============================] - 1s 1ms/step - loss: 0.1740 - accuracy: 0.9448 - val_loss: 0.1607 - val_accuracy: 0.9487\n",
      "Epoch 19/96\n",
      "621/621 [==============================] - 1s 1ms/step - loss: 0.1759 - accuracy: 0.9435 - val_loss: 0.1636 - val_accuracy: 0.9480\n",
      "Epoch 20/96\n",
      "621/621 [==============================] - 1s 1ms/step - loss: 0.1739 - accuracy: 0.9440 - val_loss: 0.1617 - val_accuracy: 0.9478\n",
      "Epoch 21/96\n",
      "621/621 [==============================] - 1s 1ms/step - loss: 0.1743 - accuracy: 0.9438 - val_loss: 0.1586 - val_accuracy: 0.9496\n",
      "Epoch 22/96\n",
      "621/621 [==============================] - 1s 1ms/step - loss: 0.1744 - accuracy: 0.9440 - val_loss: 0.1581 - val_accuracy: 0.9502\n",
      "Epoch 23/96\n",
      "621/621 [==============================] - 1s 1ms/step - loss: 0.1731 - accuracy: 0.9438 - val_loss: 0.1681 - val_accuracy: 0.9453\n",
      "Epoch 24/96\n",
      "621/621 [==============================] - 1s 1ms/step - loss: 0.1748 - accuracy: 0.9440 - val_loss: 0.1603 - val_accuracy: 0.9486\n",
      "Epoch 25/96\n",
      "621/621 [==============================] - 1s 2ms/step - loss: 0.1752 - accuracy: 0.9434 - val_loss: 0.1579 - val_accuracy: 0.9504\n",
      "Epoch 26/96\n",
      "621/621 [==============================] - 1s 1ms/step - loss: 0.1694 - accuracy: 0.9457 - val_loss: 0.1622 - val_accuracy: 0.9484\n",
      "Epoch 27/96\n",
      "621/621 [==============================] - 1s 1ms/step - loss: 0.1741 - accuracy: 0.9431 - val_loss: 0.1702 - val_accuracy: 0.9458\n",
      "Epoch 28/96\n",
      "621/621 [==============================] - 1s 1ms/step - loss: 0.1748 - accuracy: 0.9425 - val_loss: 0.1638 - val_accuracy: 0.9472\n",
      "Epoch 29/96\n",
      "621/621 [==============================] - 1s 1ms/step - loss: 0.1705 - accuracy: 0.9452 - val_loss: 0.1667 - val_accuracy: 0.9471\n",
      "Epoch 30/96\n",
      "621/621 [==============================] - 1s 2ms/step - loss: 0.1757 - accuracy: 0.9423 - val_loss: 0.1601 - val_accuracy: 0.9487\n",
      "Epoch 31/96\n",
      "621/621 [==============================] - 1s 1ms/step - loss: 0.1726 - accuracy: 0.9437 - val_loss: 0.1592 - val_accuracy: 0.9493\n",
      "Epoch 32/96\n",
      "621/621 [==============================] - 1s 1ms/step - loss: 0.1713 - accuracy: 0.9443 - val_loss: 0.1581 - val_accuracy: 0.9502\n",
      "Epoch 33/96\n",
      "621/621 [==============================] - 1s 1ms/step - loss: 0.1745 - accuracy: 0.9439 - val_loss: 0.1568 - val_accuracy: 0.9505\n",
      "Epoch 34/96\n",
      "621/621 [==============================] - 1s 2ms/step - loss: 0.1678 - accuracy: 0.9459 - val_loss: 0.1597 - val_accuracy: 0.9495\n",
      "Epoch 35/96\n",
      "621/621 [==============================] - 1s 2ms/step - loss: 0.1710 - accuracy: 0.9446 - val_loss: 0.1558 - val_accuracy: 0.9509\n",
      "Epoch 36/96\n",
      "621/621 [==============================] - 1s 1ms/step - loss: 0.1730 - accuracy: 0.9437 - val_loss: 0.1553 - val_accuracy: 0.9506\n",
      "Epoch 37/96\n",
      "621/621 [==============================] - 1s 2ms/step - loss: 0.1698 - accuracy: 0.9451 - val_loss: 0.1604 - val_accuracy: 0.9485\n",
      "Epoch 38/96\n",
      "621/621 [==============================] - 1s 2ms/step - loss: 0.1696 - accuracy: 0.9450 - val_loss: 0.1570 - val_accuracy: 0.9498\n",
      "Epoch 39/96\n",
      "621/621 [==============================] - 1s 1ms/step - loss: 0.1691 - accuracy: 0.9460 - val_loss: 0.1576 - val_accuracy: 0.9505\n",
      "Epoch 40/96\n",
      "621/621 [==============================] - 1s 1ms/step - loss: 0.1730 - accuracy: 0.9442 - val_loss: 0.1564 - val_accuracy: 0.9510\n",
      "Epoch 41/96\n",
      "621/621 [==============================] - 1s 1ms/step - loss: 0.1689 - accuracy: 0.9458 - val_loss: 0.1564 - val_accuracy: 0.9508\n",
      "Epoch 42/96\n",
      "621/621 [==============================] - 1s 2ms/step - loss: 0.1677 - accuracy: 0.9463 - val_loss: 0.1572 - val_accuracy: 0.9513\n",
      "Epoch 43/96\n",
      "621/621 [==============================] - 1s 1ms/step - loss: 0.1699 - accuracy: 0.9450 - val_loss: 0.1550 - val_accuracy: 0.9513\n",
      "Epoch 44/96\n",
      "621/621 [==============================] - 1s 2ms/step - loss: 0.1727 - accuracy: 0.9434 - val_loss: 0.1663 - val_accuracy: 0.9462\n",
      "Epoch 45/96\n",
      "621/621 [==============================] - 1s 2ms/step - loss: 0.1699 - accuracy: 0.9445 - val_loss: 0.1542 - val_accuracy: 0.9522\n",
      "Epoch 46/96\n",
      "621/621 [==============================] - 1s 2ms/step - loss: 0.1671 - accuracy: 0.9461 - val_loss: 0.1616 - val_accuracy: 0.9487\n",
      "Epoch 47/96\n",
      "621/621 [==============================] - 1s 1ms/step - loss: 0.1686 - accuracy: 0.9458 - val_loss: 0.1619 - val_accuracy: 0.9481\n",
      "Epoch 48/96\n",
      "621/621 [==============================] - 1s 1ms/step - loss: 0.1723 - accuracy: 0.9439 - val_loss: 0.1540 - val_accuracy: 0.9519\n",
      "Epoch 49/96\n",
      "621/621 [==============================] - 1s 1ms/step - loss: 0.1703 - accuracy: 0.9452 - val_loss: 0.1594 - val_accuracy: 0.9502\n",
      "Epoch 50/96\n",
      "621/621 [==============================] - 1s 1ms/step - loss: 0.1698 - accuracy: 0.9448 - val_loss: 0.1584 - val_accuracy: 0.9498\n",
      "Epoch 51/96\n"
     ]
    },
    {
     "name": "stdout",
     "output_type": "stream",
     "text": [
      "621/621 [==============================] - 1s 1ms/step - loss: 0.1709 - accuracy: 0.9448 - val_loss: 0.1516 - val_accuracy: 0.9534\n",
      "Epoch 52/96\n",
      "621/621 [==============================] - 1s 1ms/step - loss: 0.1680 - accuracy: 0.9463 - val_loss: 0.1677 - val_accuracy: 0.9464\n",
      "Epoch 53/96\n",
      "621/621 [==============================] - 1s 1ms/step - loss: 0.1720 - accuracy: 0.9435 - val_loss: 0.1552 - val_accuracy: 0.9513\n",
      "Epoch 54/96\n",
      "621/621 [==============================] - 1s 1ms/step - loss: 0.1670 - accuracy: 0.9462 - val_loss: 0.1574 - val_accuracy: 0.9503\n",
      "Epoch 55/96\n",
      "621/621 [==============================] - 1s 1ms/step - loss: 0.1670 - accuracy: 0.9466 - val_loss: 0.1561 - val_accuracy: 0.9504\n",
      "Epoch 56/96\n",
      "621/621 [==============================] - 1s 1ms/step - loss: 0.1672 - accuracy: 0.9465 - val_loss: 0.1552 - val_accuracy: 0.9514\n",
      "Epoch 57/96\n",
      "621/621 [==============================] - 1s 1ms/step - loss: 0.1707 - accuracy: 0.9443 - val_loss: 0.1568 - val_accuracy: 0.9511\n",
      "Epoch 58/96\n",
      "621/621 [==============================] - 1s 1ms/step - loss: 0.1728 - accuracy: 0.9435 - val_loss: 0.1575 - val_accuracy: 0.9500\n",
      "Epoch 59/96\n",
      "621/621 [==============================] - 1s 2ms/step - loss: 0.1692 - accuracy: 0.9450 - val_loss: 0.1610 - val_accuracy: 0.9492\n",
      "Epoch 60/96\n",
      "621/621 [==============================] - 1s 2ms/step - loss: 0.1702 - accuracy: 0.9450 - val_loss: 0.1534 - val_accuracy: 0.9525\n",
      "Epoch 61/96\n",
      "621/621 [==============================] - 1s 2ms/step - loss: 0.1687 - accuracy: 0.9457 - val_loss: 0.1563 - val_accuracy: 0.9507\n",
      "Epoch 62/96\n",
      "621/621 [==============================] - 1s 2ms/step - loss: 0.1648 - accuracy: 0.9472 - val_loss: 0.1536 - val_accuracy: 0.9520\n",
      "Epoch 63/96\n",
      "621/621 [==============================] - 1s 2ms/step - loss: 0.1661 - accuracy: 0.9465 - val_loss: 0.1565 - val_accuracy: 0.9510\n",
      "Epoch 64/96\n",
      "621/621 [==============================] - 1s 2ms/step - loss: 0.1676 - accuracy: 0.9457 - val_loss: 0.1526 - val_accuracy: 0.9528\n",
      "Epoch 65/96\n",
      "621/621 [==============================] - 1s 2ms/step - loss: 0.1655 - accuracy: 0.9467 - val_loss: 0.1561 - val_accuracy: 0.9509\n",
      "Epoch 66/96\n",
      "621/621 [==============================] - 1s 2ms/step - loss: 0.1671 - accuracy: 0.9463 - val_loss: 0.1558 - val_accuracy: 0.9508\n",
      "Epoch 67/96\n",
      "621/621 [==============================] - 1s 2ms/step - loss: 0.1672 - accuracy: 0.9459 - val_loss: 0.1581 - val_accuracy: 0.9497\n",
      "Epoch 68/96\n",
      "621/621 [==============================] - 1s 2ms/step - loss: 0.1657 - accuracy: 0.9468 - val_loss: 0.1564 - val_accuracy: 0.9513\n",
      "Epoch 69/96\n",
      "621/621 [==============================] - 1s 1ms/step - loss: 0.1672 - accuracy: 0.9457 - val_loss: 0.1591 - val_accuracy: 0.9495\n",
      "Epoch 70/96\n",
      "621/621 [==============================] - 1s 2ms/step - loss: 0.1667 - accuracy: 0.9462 - val_loss: 0.1617 - val_accuracy: 0.9476\n",
      "Epoch 71/96\n",
      "621/621 [==============================] - 1s 2ms/step - loss: 0.1657 - accuracy: 0.9456 - val_loss: 0.1571 - val_accuracy: 0.9504\n",
      "Epoch 72/96\n",
      "621/621 [==============================] - 1s 2ms/step - loss: 0.1628 - accuracy: 0.9479 - val_loss: 0.1566 - val_accuracy: 0.9510\n",
      "Epoch 73/96\n",
      "621/621 [==============================] - 1s 2ms/step - loss: 0.1665 - accuracy: 0.9460 - val_loss: 0.1585 - val_accuracy: 0.9506\n",
      "Epoch 74/96\n",
      "621/621 [==============================] - 1s 2ms/step - loss: 0.1683 - accuracy: 0.9449 - val_loss: 0.1518 - val_accuracy: 0.9529\n",
      "Epoch 75/96\n",
      "621/621 [==============================] - 1s 2ms/step - loss: 0.1659 - accuracy: 0.9462 - val_loss: 0.1578 - val_accuracy: 0.9497\n",
      "Epoch 76/96\n",
      "621/621 [==============================] - 1s 2ms/step - loss: 0.1688 - accuracy: 0.9449 - val_loss: 0.1604 - val_accuracy: 0.9477\n",
      "Epoch 77/96\n",
      "621/621 [==============================] - 1s 2ms/step - loss: 0.1674 - accuracy: 0.9454 - val_loss: 0.1543 - val_accuracy: 0.9518\n",
      "Epoch 78/96\n",
      "621/621 [==============================] - 1s 2ms/step - loss: 0.1626 - accuracy: 0.9474 - val_loss: 0.1557 - val_accuracy: 0.9510\n",
      "Epoch 79/96\n",
      "621/621 [==============================] - 1s 2ms/step - loss: 0.1649 - accuracy: 0.9465 - val_loss: 0.1575 - val_accuracy: 0.9503\n",
      "Epoch 80/96\n",
      "621/621 [==============================] - 1s 2ms/step - loss: 0.1657 - accuracy: 0.9469 - val_loss: 0.1578 - val_accuracy: 0.9498\n",
      "Epoch 81/96\n",
      "621/621 [==============================] - 1s 2ms/step - loss: 0.1642 - accuracy: 0.9470 - val_loss: 0.1605 - val_accuracy: 0.9493\n",
      "Epoch 82/96\n",
      "621/621 [==============================] - 1s 2ms/step - loss: 0.1636 - accuracy: 0.9469 - val_loss: 0.1554 - val_accuracy: 0.9517\n",
      "Epoch 83/96\n",
      "621/621 [==============================] - 1s 1ms/step - loss: 0.1678 - accuracy: 0.9456 - val_loss: 0.1647 - val_accuracy: 0.9467\n",
      "Epoch 84/96\n",
      "621/621 [==============================] - 1s 2ms/step - loss: 0.1670 - accuracy: 0.9458 - val_loss: 0.1505 - val_accuracy: 0.9532\n",
      "Epoch 85/96\n",
      "621/621 [==============================] - 1s 1ms/step - loss: 0.1664 - accuracy: 0.9468 - val_loss: 0.1542 - val_accuracy: 0.9535\n",
      "Epoch 86/96\n",
      "621/621 [==============================] - 1s 1ms/step - loss: 0.1617 - accuracy: 0.9484 - val_loss: 0.1573 - val_accuracy: 0.9504\n",
      "Epoch 87/96\n",
      "621/621 [==============================] - 1s 1ms/step - loss: 0.1635 - accuracy: 0.9482 - val_loss: 0.1491 - val_accuracy: 0.9547\n",
      "Epoch 88/96\n",
      "621/621 [==============================] - 1s 1ms/step - loss: 0.1679 - accuracy: 0.9449 - val_loss: 0.1518 - val_accuracy: 0.9529\n",
      "Epoch 89/96\n",
      "621/621 [==============================] - 1s 1ms/step - loss: 0.1626 - accuracy: 0.9479 - val_loss: 0.1668 - val_accuracy: 0.9455\n",
      "Epoch 90/96\n",
      "621/621 [==============================] - 1s 1ms/step - loss: 0.1657 - accuracy: 0.9471 - val_loss: 0.1570 - val_accuracy: 0.9511\n",
      "Epoch 91/96\n",
      "621/621 [==============================] - 1s 2ms/step - loss: 0.1634 - accuracy: 0.9479 - val_loss: 0.1601 - val_accuracy: 0.9489\n",
      "Epoch 92/96\n",
      "621/621 [==============================] - 1s 2ms/step - loss: 0.1653 - accuracy: 0.9470 - val_loss: 0.1550 - val_accuracy: 0.9516\n",
      "Epoch 93/96\n",
      "621/621 [==============================] - 1s 2ms/step - loss: 0.1642 - accuracy: 0.9470 - val_loss: 0.1554 - val_accuracy: 0.9517\n",
      "Epoch 94/96\n",
      "621/621 [==============================] - 1s 2ms/step - loss: 0.1628 - accuracy: 0.9479 - val_loss: 0.1612 - val_accuracy: 0.9489\n",
      "Epoch 95/96\n",
      "621/621 [==============================] - 1s 2ms/step - loss: 0.1618 - accuracy: 0.9481 - val_loss: 0.1536 - val_accuracy: 0.9523\n",
      "Epoch 96/96\n",
      "621/621 [==============================] - 2s 2ms/step - loss: 0.1634 - accuracy: 0.9475 - val_loss: 0.1558 - val_accuracy: 0.9513\n"
     ]
    }
   ],
   "source": [
    "model = build_model ()\n",
    "history = model.fit ( x_train, y_train, epochs = 96, batch_size = 150 , validation_data = (x_val, y_val) )\n",
    "model.save(\"../models/classifier/with-dropout-100.h5\")"
   ]
  },
  {
   "cell_type": "markdown",
   "metadata": {},
   "source": [
    "## Adding Dropout\n",
    "\n",
    "Dropout is one of the most effective and most commonly used regularization techniques for neural networks, developed by Geoff Hinton and his students at the University of Toronto. Dropout, applied to a layer, consists of randomly dropping out (setting to zero) a number of output features of the layer during training. Let’s say a\n",
    "given layer would normally return a vector [0.2, 0.5, 1.3, 0.8, 1.1] for a given input sample during training. After applying dropout, this vector will have a few zero entries distributed at random: for example, [0, 0.5, 1.3, 0, 1.1]. The dropout rate is the fraction of the features that are zeroed out; it’s usually set between 0.2 and 0.5. At test time, no units are dropped out; instead, the layer’s output values are scaled down by a factor equal to the dropout rate, to balance for the fact that more units are active than at training time.\n",
    "\n",
    "##### [From Deep Learning with Python, Chollet]"
   ]
  },
  {
   "cell_type": "code",
   "execution_count": 42,
   "metadata": {},
   "outputs": [
    {
     "data": {
      "image/png": "[encoded data removed]",
      "text/plain": [
       "<Figure size 432x288 with 1 Axes>"
      ]
     },
     "metadata": {
      "needs_background": "light"
     },
     "output_type": "display_data"
    }
   ],
   "source": [
    "import matplotlib.pyplot as plt\n",
    "\n",
    "loss = history.history['loss']\n",
    "val_loss = history.history['val_loss']\n",
    "\n",
    "epochs = range(1, len(loss) + 1)\n",
    "\n",
    "plt.plot(epochs, loss, 'bo', label='Training loss')\n",
    "plt.plot(epochs, val_loss, 'b', label='Validation loss')\n",
    "plt.title('Training and validation loss')\n",
    "plt.xlabel('Epochs')\n",
    "plt.ylabel('Loss')\n",
    "plt.legend()\n",
    "\n",
    "plt.show()"
   ]
  },
  {
   "cell_type": "code",
   "execution_count": 43,
   "metadata": {
    "scrolled": true
   },
   "outputs": [
    {
     "data": {
      "image/png": "[encoded data removed]",
      "text/plain": [
       "<Figure size 432x288 with 1 Axes>"
      ]
     },
     "metadata": {
      "needs_background": "light"
     },
     "output_type": "display_data"
    }
   ],
   "source": [
    "plt.clf()   # clear figure\n",
    "\n",
    "accuracy = history.history['accuracy']\n",
    "val_accuracy = history.history['val_accuracy']\n",
    "\n",
    "plt.plot(epochs, accuracy, 'bo', label='Training acc')\n",
    "plt.plot(epochs, val_accuracy, 'b', label='Validation acc')\n",
    "plt.title('Training and validation accuracy')\n",
    "plt.xlabel('Epochs')\n",
    "plt.ylabel('Loss')\n",
    "plt.legend()\n",
    "\n",
    "plt.show()"
   ]
  }
 ],
 "metadata": {
  "kernelspec": {
   "display_name": "Python 3",
   "language": "python",
   "name": "python3"
  },
  "language_info": {
   "codemirror_mode": {
    "name": "ipython",
    "version": 3
   },
   "file_extension": ".py",
   "mimetype": "text/x-python",
   "name": "python",
   "nbconvert_exporter": "python",
   "pygments_lexer": "ipython3",
   "version": "3.7.7"
  }
 },
 "nbformat": 4,
 "nbformat_minor": 4
}
