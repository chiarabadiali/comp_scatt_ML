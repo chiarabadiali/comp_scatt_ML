{
 "cells": [
  {
   "cell_type": "code",
   "execution_count": 1,
   "metadata": {},
   "outputs": [
    {
     "name": "stdout",
     "output_type": "stream",
     "text": [
      "1.2.0\n"
     ]
    }
   ],
   "source": [
    "import pandas as pd \n",
    "import numpy as np\n",
    "import math\n",
    "import tensorflow as tf\n",
    "print(pd.__version__)"
   ]
  },
  {
   "cell_type": "markdown",
   "metadata": {},
   "source": [
    "## Print Dependencies\n",
    "\n",
    "\n",
    "\n",
    "Dependences are fundamental to record the computational environment."
   ]
  },
  {
   "cell_type": "code",
   "execution_count": 2,
   "metadata": {},
   "outputs": [
    {
     "name": "stdout",
     "output_type": "stream",
     "text": [
      "Python implementation: CPython\n",
      "Python version       : 3.7.7\n",
      "IPython version      : 7.19.0\n",
      "\n",
      "pandas    : 1.2.0\n",
      "keras     : 2.4.3\n",
      "numpy     : 1.19.5\n",
      "math      : unknown\n",
      "tensorflow: 2.4.0\n",
      "matplotlib: 3.3.3\n",
      "h5py      : 2.10.0\n",
      "\n",
      "Compiler    : GCC 5.4.0 20160609\n",
      "OS          : Linux\n",
      "Release     : 5.8.0-40-generic\n",
      "Machine     : x86_64\n",
      "Processor   : x86_64\n",
      "CPU cores   : 8\n",
      "Architecture: 64bit\n",
      "\n",
      " \n",
      "Last updated: Wed Jan 27 2021 12:20:44CET\n",
      "\n"
     ]
    }
   ],
   "source": [
    "%load_ext watermark\n",
    "\n",
    "# python, ipython, packages, and machine characteristics\n",
    "%watermark -v -m -p pandas,keras,numpy,math,tensorflow,matplotlib,h5py\n",
    "\n",
    "# date\n",
    "print (\" \")\n",
    "%watermark -u -n -t -z"
   ]
  },
  {
   "cell_type": "markdown",
   "metadata": {},
   "source": [
    "## Load of the data"
   ]
  },
  {
   "cell_type": "code",
   "execution_count": 3,
   "metadata": {},
   "outputs": [],
   "source": [
    "from process import loaddata\n",
    "regr_data = loaddata(\"../data/regression/250.csv\")\n",
    "class_data = loaddata(\"../data/classifier/250.csv\")"
   ]
  },
  {
   "cell_type": "code",
   "execution_count": 4,
   "metadata": {},
   "outputs": [],
   "source": [
    "np.random.shuffle(class_data)\n",
    "y = class_data[:,0]\n",
    "x = class_data[:,1:]"
   ]
  },
  {
   "cell_type": "code",
   "execution_count": 5,
   "metadata": {},
   "outputs": [
    {
     "name": "stdout",
     "output_type": "stream",
     "text": [
      "Training sample: 250828 \n",
      "Valuation sample: 83610\n"
     ]
    }
   ],
   "source": [
    "train_split = 0.75\n",
    "train_limit = int(len(y)*train_split)\n",
    "print(\"Training sample: {0} \\nValuation sample: {1}\".format(train_limit, len(y)-train_limit))"
   ]
  },
  {
   "cell_type": "code",
   "execution_count": 6,
   "metadata": {},
   "outputs": [],
   "source": [
    "x_train = x[:train_limit]\n",
    "x_val = x[train_limit:]\n",
    "\n",
    "y_train = y[:train_limit]\n",
    "y_val = y[train_limit:]"
   ]
  },
  {
   "cell_type": "markdown",
   "metadata": {},
   "source": [
    "## Model Build"
   ]
  },
  {
   "cell_type": "code",
   "execution_count": 7,
   "metadata": {},
   "outputs": [],
   "source": [
    "from keras.models import Sequential\n",
    "from keras.layers.core import Dense\n",
    "import keras.backend as K\n",
    "from keras import optimizers\n",
    "from keras import models\n",
    "from keras import layers"
   ]
  },
  {
   "cell_type": "code",
   "execution_count": 8,
   "metadata": {},
   "outputs": [],
   "source": [
    "def build_model() :\n",
    "    model = models.Sequential()\n",
    "    model.add (layers.Dense (16, activation = \"sigmoid\" , input_shape = x.shape))\n",
    "    model.add (layers.Dense (16, activation = \"relu\"))\n",
    "    model.add (layers.Dense (1 , activation = \"sigmoid\"))\n",
    "    model.compile(optimizer = \"adam\" , loss = \"binary_crossentropy\" , metrics =[\"accuracy\"])\n",
    "    return model"
   ]
  },
  {
   "cell_type": "code",
   "execution_count": 9,
   "metadata": {},
   "outputs": [
    {
     "name": "stdout",
     "output_type": "stream",
     "text": [
      "Epoch 1/20\n",
      "WARNING:tensorflow:Model was constructed with shape (None, 334438, 10) for input KerasTensor(type_spec=TensorSpec(shape=(None, 334438, 10), dtype=tf.float32, name='dense_input'), name='dense_input', description=\"created by layer 'dense_input'\"), but it was called on an input with incompatible shape (None, 10).\n",
      "WARNING:tensorflow:Model was constructed with shape (None, 334438, 10) for input KerasTensor(type_spec=TensorSpec(shape=(None, 334438, 10), dtype=tf.float32, name='dense_input'), name='dense_input', description=\"created by layer 'dense_input'\"), but it was called on an input with incompatible shape (None, 10).\n",
      "2499/2509 [============================>.] - ETA: 0s - loss: 0.5980 - accuracy: 0.6747WARNING:tensorflow:Model was constructed with shape (None, 334438, 10) for input KerasTensor(type_spec=TensorSpec(shape=(None, 334438, 10), dtype=tf.float32, name='dense_input'), name='dense_input', description=\"created by layer 'dense_input'\"), but it was called on an input with incompatible shape (None, 10).\n",
      "2509/2509 [==============================] - 10s 4ms/step - loss: 0.5974 - accuracy: 0.6752 - val_loss: 0.3293 - val_accuracy: 0.8745\n",
      "Epoch 2/20\n",
      "2509/2509 [==============================] - 9s 3ms/step - loss: 0.3124 - accuracy: 0.8830 - val_loss: 0.2852 - val_accuracy: 0.8930\n",
      "Epoch 3/20\n",
      "2509/2509 [==============================] - 8s 3ms/step - loss: 0.2786 - accuracy: 0.8945 - val_loss: 0.2494 - val_accuracy: 0.9080\n",
      "Epoch 4/20\n",
      "2509/2509 [==============================] - 9s 4ms/step - loss: 0.2360 - accuracy: 0.9138 - val_loss: 0.2110 - val_accuracy: 0.9273\n",
      "Epoch 5/20\n",
      "2509/2509 [==============================] - 7s 3ms/step - loss: 0.2079 - accuracy: 0.9281 - val_loss: 0.1933 - val_accuracy: 0.9359\n",
      "Epoch 6/20\n",
      "2509/2509 [==============================] - 5s 2ms/step - loss: 0.1932 - accuracy: 0.9349 - val_loss: 0.1846 - val_accuracy: 0.9379\n",
      "Epoch 7/20\n",
      "2509/2509 [==============================] - 10s 4ms/step - loss: 0.1836 - accuracy: 0.9398 - val_loss: 0.1813 - val_accuracy: 0.9391\n",
      "Epoch 8/20\n",
      "2509/2509 [==============================] - 10s 4ms/step - loss: 0.1764 - accuracy: 0.9431 - val_loss: 0.1731 - val_accuracy: 0.9463\n",
      "Epoch 9/20\n",
      "2509/2509 [==============================] - 11s 4ms/step - loss: 0.1744 - accuracy: 0.9442 - val_loss: 0.1709 - val_accuracy: 0.9457\n",
      "Epoch 10/20\n",
      "2509/2509 [==============================] - 10s 4ms/step - loss: 0.1728 - accuracy: 0.9456 - val_loss: 0.1697 - val_accuracy: 0.9462\n",
      "Epoch 11/20\n",
      "2509/2509 [==============================] - 10s 4ms/step - loss: 0.1682 - accuracy: 0.9476 - val_loss: 0.1705 - val_accuracy: 0.9495\n",
      "Epoch 12/20\n",
      "2509/2509 [==============================] - 10s 4ms/step - loss: 0.1686 - accuracy: 0.9477 - val_loss: 0.1662 - val_accuracy: 0.9499\n",
      "Epoch 13/20\n",
      "2509/2509 [==============================] - 10s 4ms/step - loss: 0.1660 - accuracy: 0.9487 - val_loss: 0.1656 - val_accuracy: 0.9490\n",
      "Epoch 14/20\n",
      "2509/2509 [==============================] - 9s 4ms/step - loss: 0.1674 - accuracy: 0.9481 - val_loss: 0.1724 - val_accuracy: 0.9445\n",
      "Epoch 15/20\n",
      "2509/2509 [==============================] - 8s 3ms/step - loss: 0.1664 - accuracy: 0.9490 - val_loss: 0.1652 - val_accuracy: 0.9488\n",
      "Epoch 16/20\n",
      "2509/2509 [==============================] - 7s 3ms/step - loss: 0.1659 - accuracy: 0.9493 - val_loss: 0.1637 - val_accuracy: 0.9495\n",
      "Epoch 17/20\n",
      "2509/2509 [==============================] - 5s 2ms/step - loss: 0.1647 - accuracy: 0.9493 - val_loss: 0.1670 - val_accuracy: 0.9476\n",
      "Epoch 18/20\n",
      "2509/2509 [==============================] - 7s 3ms/step - loss: 0.1634 - accuracy: 0.9504 - val_loss: 0.1628 - val_accuracy: 0.9510\n",
      "Epoch 19/20\n",
      "2509/2509 [==============================] - 7s 3ms/step - loss: 0.1645 - accuracy: 0.9501 - val_loss: 0.1625 - val_accuracy: 0.9505\n",
      "Epoch 20/20\n",
      "2509/2509 [==============================] - 7s 3ms/step - loss: 0.1616 - accuracy: 0.9508 - val_loss: 0.1680 - val_accuracy: 0.9475\n"
     ]
    }
   ],
   "source": [
    "model = build_model ()\n",
    "history = model.fit ( x_train, y_train, epochs = 20, batch_size = 100 , validation_data = (x_val, y_val) )\n",
    "model.save(\"../models/classifier/no-dropout-100.h5\")"
   ]
  },
  {
   "cell_type": "code",
   "execution_count": 10,
   "metadata": {},
   "outputs": [
    {
     "data": {
      "image/png": "[encoded data removed]",
      "text/plain": [
       "<Figure size 432x288 with 1 Axes>"
      ]
     },
     "metadata": {
      "needs_background": "light"
     },
     "output_type": "display_data"
    }
   ],
   "source": [
    "import matplotlib.pyplot as plt\n",
    "\n",
    "loss = history.history['loss']\n",
    "val_loss = history.history['val_loss']\n",
    "\n",
    "epochs = range(1, len(loss) + 1)\n",
    "\n",
    "plt.plot(epochs, loss, 'bo', label='Training loss')\n",
    "plt.plot(epochs, val_loss, 'b', label='Validation loss')\n",
    "plt.title('Training and validation loss')\n",
    "plt.xlabel('Epochs')\n",
    "plt.ylabel('Loss')\n",
    "plt.legend()\n",
    "\n",
    "plt.show()"
   ]
  },
  {
   "cell_type": "code",
   "execution_count": 11,
   "metadata": {
    "scrolled": true
   },
   "outputs": [
    {
     "data": {
      "image/png": "[encoded data removed]",
      "text/plain": [
       "<Figure size 432x288 with 1 Axes>"
      ]
     },
     "metadata": {
      "needs_background": "light"
     },
     "output_type": "display_data"
    }
   ],
   "source": [
    "accuracy = history.history['accuracy']\n",
    "val_accuracy = history.history['val_accuracy']\n",
    "\n",
    "plt.plot(epochs, accuracy, 'bo', label='Training acc')\n",
    "plt.plot(epochs, val_accuracy, 'b', label='Validation acc')\n",
    "plt.title('Training and validation accuracy')\n",
    "plt.xlabel('Epochs')\n",
    "plt.ylabel('Loss')\n",
    "plt.legend()\n",
    "\n",
    "plt.show()"
   ]
  },
  {
   "cell_type": "code",
   "execution_count": 16,
   "metadata": {},
   "outputs": [],
   "source": [
    "def build_model() :\n",
    "    model = models.Sequential()\n",
    "    model.add (layers.Dense (16 , activation = \"relu\" , input_shape = x.shape))\n",
    "    model.add(layers.Dropout(0.2))\n",
    "    model.add (layers.Dense (16, activation = \"relu\"))\n",
    "    model.add(layers.Dropout(0.2))\n",
    "    model.add (layers.Dense (1 , activation = \"sigmoid\"))\n",
    "    model.compile(optimizer = \"adam\" , loss = \"binary_crossentropy\" , metrics =[\"accuracy\"])\n",
    "    return model"
   ]
  },
  {
   "cell_type": "code",
   "execution_count": 17,
   "metadata": {},
   "outputs": [
    {
     "name": "stdout",
     "output_type": "stream",
     "text": [
      "Epoch 1/20\n",
      "WARNING:tensorflow:Model was constructed with shape (None, 334438, 10) for input KerasTensor(type_spec=TensorSpec(shape=(None, 334438, 10), dtype=tf.float32, name='dense_12_input'), name='dense_12_input', description=\"created by layer 'dense_12_input'\"), but it was called on an input with incompatible shape (None, 10).\n",
      "WARNING:tensorflow:Model was constructed with shape (None, 334438, 10) for input KerasTensor(type_spec=TensorSpec(shape=(None, 334438, 10), dtype=tf.float32, name='dense_12_input'), name='dense_12_input', description=\"created by layer 'dense_12_input'\"), but it was called on an input with incompatible shape (None, 10).\n",
      "823/837 [============================>.] - ETA: 0s - loss: 0.5844 - accuracy: 0.6790WARNING:tensorflow:Model was constructed with shape (None, 334438, 10) for input KerasTensor(type_spec=TensorSpec(shape=(None, 334438, 10), dtype=tf.float32, name='dense_12_input'), name='dense_12_input', description=\"created by layer 'dense_12_input'\"), but it was called on an input with incompatible shape (None, 10).\n",
      "837/837 [==============================] - 5s 5ms/step - loss: 0.5819 - accuracy: 0.6810 - val_loss: 0.2316 - val_accuracy: 0.9209\n",
      "Epoch 2/20\n",
      "837/837 [==============================] - 4s 5ms/step - loss: 0.2381 - accuracy: 0.9187 - val_loss: 0.1858 - val_accuracy: 0.9381\n",
      "Epoch 3/20\n",
      "837/837 [==============================] - 4s 5ms/step - loss: 0.2029 - accuracy: 0.9325 - val_loss: 0.1725 - val_accuracy: 0.9441\n",
      "Epoch 4/20\n",
      "837/837 [==============================] - 4s 5ms/step - loss: 0.1883 - accuracy: 0.9384 - val_loss: 0.1712 - val_accuracy: 0.9471\n",
      "Epoch 5/20\n",
      "837/837 [==============================] - 4s 4ms/step - loss: 0.1813 - accuracy: 0.9409 - val_loss: 0.1683 - val_accuracy: 0.9491\n",
      "Epoch 6/20\n",
      "837/837 [==============================] - 4s 4ms/step - loss: 0.1764 - accuracy: 0.9426 - val_loss: 0.1644 - val_accuracy: 0.9469\n",
      "Epoch 7/20\n",
      "837/837 [==============================] - 4s 5ms/step - loss: 0.1713 - accuracy: 0.9444 - val_loss: 0.1599 - val_accuracy: 0.9490\n",
      "Epoch 8/20\n",
      "837/837 [==============================] - 4s 5ms/step - loss: 0.1694 - accuracy: 0.9450 - val_loss: 0.1580 - val_accuracy: 0.9506\n",
      "Epoch 9/20\n",
      "837/837 [==============================] - 4s 5ms/step - loss: 0.1674 - accuracy: 0.9462 - val_loss: 0.1567 - val_accuracy: 0.9507\n",
      "Epoch 10/20\n",
      "837/837 [==============================] - 4s 5ms/step - loss: 0.1680 - accuracy: 0.9455 - val_loss: 0.1591 - val_accuracy: 0.9494\n",
      "Epoch 11/20\n",
      "837/837 [==============================] - 4s 5ms/step - loss: 0.1647 - accuracy: 0.9471 - val_loss: 0.1567 - val_accuracy: 0.9504\n",
      "Epoch 12/20\n",
      "837/837 [==============================] - 4s 4ms/step - loss: 0.1661 - accuracy: 0.9468 - val_loss: 0.1535 - val_accuracy: 0.9525\n",
      "Epoch 13/20\n",
      "837/837 [==============================] - 4s 5ms/step - loss: 0.1638 - accuracy: 0.9480 - val_loss: 0.1557 - val_accuracy: 0.9506\n",
      "Epoch 14/20\n",
      "837/837 [==============================] - 4s 5ms/step - loss: 0.1623 - accuracy: 0.9481 - val_loss: 0.1512 - val_accuracy: 0.9526\n",
      "Epoch 15/20\n",
      "837/837 [==============================] - 4s 5ms/step - loss: 0.1629 - accuracy: 0.9477 - val_loss: 0.1553 - val_accuracy: 0.9501\n",
      "Epoch 16/20\n",
      "837/837 [==============================] - 4s 4ms/step - loss: 0.1643 - accuracy: 0.9470 - val_loss: 0.1536 - val_accuracy: 0.9512\n",
      "Epoch 17/20\n",
      "837/837 [==============================] - 4s 4ms/step - loss: 0.1611 - accuracy: 0.9482 - val_loss: 0.1504 - val_accuracy: 0.9522\n",
      "Epoch 18/20\n",
      "837/837 [==============================] - 4s 4ms/step - loss: 0.1602 - accuracy: 0.9483 - val_loss: 0.1497 - val_accuracy: 0.9526\n",
      "Epoch 19/20\n",
      "837/837 [==============================] - 4s 5ms/step - loss: 0.1605 - accuracy: 0.9489 - val_loss: 0.1474 - val_accuracy: 0.9541\n",
      "Epoch 20/20\n",
      "837/837 [==============================] - 4s 5ms/step - loss: 0.1585 - accuracy: 0.9491 - val_loss: 0.1461 - val_accuracy: 0.9546\n"
     ]
    }
   ],
   "source": [
    "model = build_model ()\n",
    "history = model.fit ( x_train, y_train, epochs = 20, batch_size = 300 , validation_data = (x_val, y_val) )\n",
    "model.save(\"../models/classifier/with-dropout-250.h5\")"
   ]
  },
  {
   "cell_type": "markdown",
   "metadata": {},
   "source": [
    "## Adding Dropout\n",
    "\n",
    "Dropout is one of the most effective and most commonly used regularization techniques for neural networks, developed by Geoff Hinton and his students at the University of Toronto. Dropout, applied to a layer, consists of randomly dropping out (setting to zero) a number of output features of the layer during training. Let’s say a\n",
    "given layer would normally return a vector [0.2, 0.5, 1.3, 0.8, 1.1] for a given input sample during training. After applying dropout, this vector will have a few zero entries distributed at random: for example, [0, 0.5, 1.3, 0, 1.1]. The dropout rate is the fraction of the features that are zeroed out; it’s usually set between 0.2 and 0.5. At test time, no units are dropped out; instead, the layer’s output values are scaled down by a factor equal to the dropout rate, to balance for the fact that more units are active than at training time.\n",
    "\n",
    "##### [From Deep Learning with Python, Chollet]"
   ]
  },
  {
   "cell_type": "code",
   "execution_count": 20,
   "metadata": {},
   "outputs": [
    {
     "data": {
      "image/png": "[encoded data removed]",
      "text/plain": [
       "<Figure size 432x288 with 1 Axes>"
      ]
     },
     "metadata": {
      "needs_background": "light"
     },
     "output_type": "display_data"
    }
   ],
   "source": [
    "import matplotlib.pyplot as plt\n",
    "\n",
    "loss = history.history['loss']\n",
    "val_loss = history.history['val_loss']\n",
    "\n",
    "epochs = range(1, len(loss) + 1)\n",
    "\n",
    "plt.plot(epochs, loss, 'bo', label='Training loss')\n",
    "plt.plot(epochs, val_loss, 'b', label='Validation loss')\n",
    "plt.title('Training and validation loss')\n",
    "plt.xlabel('Epochs')\n",
    "plt.ylabel('Loss')\n",
    "plt.legend()\n",
    "\n",
    "plt.show()"
   ]
  },
  {
   "cell_type": "code",
   "execution_count": 21,
   "metadata": {
    "scrolled": true
   },
   "outputs": [
    {
     "data": {
      "image/png": "[encoded data removed]",
      "text/plain": [
       "<Figure size 432x288 with 1 Axes>"
      ]
     },
     "metadata": {
      "needs_background": "light"
     },
     "output_type": "display_data"
    }
   ],
   "source": [
    "plt.clf()   # clear figure\n",
    "\n",
    "accuracy = history.history['accuracy']\n",
    "val_accuracy = history.history['val_accuracy']\n",
    "\n",
    "plt.plot(epochs, accuracy, 'bo', label='Training acc')\n",
    "plt.plot(epochs, val_accuracy, 'b', label='Validation acc')\n",
    "plt.title('Training and validation accuracy')\n",
    "plt.xlabel('Epochs')\n",
    "plt.ylabel('Loss')\n",
    "plt.legend()\n",
    "\n",
    "plt.show()"
   ]
  },
  {
   "cell_type": "code",
   "execution_count": null,
   "metadata": {},
   "outputs": [],
   "source": []
  },
  {
   "cell_type": "code",
   "execution_count": null,
   "metadata": {},
   "outputs": [],
   "source": []
  }
 ],
 "metadata": {
  "kernelspec": {
   "display_name": "Python 3",
   "language": "python",
   "name": "python3"
  },
  "language_info": {
   "codemirror_mode": {
    "name": "ipython",
    "version": 3
   },
   "file_extension": ".py",
   "mimetype": "text/x-python",
   "name": "python",
   "nbconvert_exporter": "python",
   "pygments_lexer": "ipython3",
   "version": "3.7.7"
  }
 },
 "nbformat": 4,
 "nbformat_minor": 4
}
