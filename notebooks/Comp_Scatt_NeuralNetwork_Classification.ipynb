{
 "cells": [
  {
   "cell_type": "code",
   "execution_count": 1,
   "metadata": {},
   "outputs": [
    {
     "name": "stdout",
     "output_type": "stream",
     "text": [
      "1.2.0\n"
     ]
    }
   ],
   "source": [
    "import pandas as pd \n",
    "import numpy as np\n",
    "import math\n",
    "import tensorflow as tf\n",
    "print(pd.__version__)"
   ]
  },
  {
   "cell_type": "markdown",
   "metadata": {},
   "source": [
    "## Print Dependencies\n",
    "\n",
    "\n",
    "\n",
    "Dependences are fundamental to record the computational environment."
   ]
  },
  {
   "cell_type": "code",
   "execution_count": 2,
   "metadata": {},
   "outputs": [
    {
     "name": "stdout",
     "output_type": "stream",
     "text": [
      "Python implementation: CPython\n",
      "Python version       : 3.7.7\n",
      "IPython version      : 7.19.0\n",
      "\n",
      "pandas    : 1.2.0\n",
      "keras     : 2.4.3\n",
      "numpy     : 1.19.5\n",
      "math      : unknown\n",
      "tensorflow: 2.4.0\n",
      "matplotlib: 3.3.3\n",
      "h5py      : 2.10.0\n",
      "\n",
      "Compiler    : GCC 5.4.0 20160609\n",
      "OS          : Linux\n",
      "Release     : 5.8.0-41-generic\n",
      "Machine     : x86_64\n",
      "Processor   : x86_64\n",
      "CPU cores   : 8\n",
      "Architecture: 64bit\n",
      "\n",
      " \n",
      "Last updated: Tue Feb 02 2021 18:22:22CET\n",
      "\n"
     ]
    }
   ],
   "source": [
    "%load_ext watermark\n",
    "\n",
    "# python, ipython, packages, and machine characteristics\n",
    "%watermark -v -m -p pandas,keras,numpy,math,tensorflow,matplotlib,h5py\n",
    "\n",
    "# date\n",
    "print (\" \")\n",
    "%watermark -u -n -t -z"
   ]
  },
  {
   "cell_type": "markdown",
   "metadata": {},
   "source": [
    "## Load of the data"
   ]
  },
  {
   "cell_type": "code",
   "execution_count": 3,
   "metadata": {},
   "outputs": [],
   "source": [
    "from process import loaddata\n",
    "regr_data = loaddata(\"../data/regression/250.csv\")\n",
    "class_data = loaddata(\"../data/classifier/250.csv\")"
   ]
  },
  {
   "cell_type": "code",
   "execution_count": 4,
   "metadata": {},
   "outputs": [],
   "source": [
    "np.random.shuffle(class_data)\n",
    "y = class_data[:,0]\n",
    "x = class_data[:,1:]"
   ]
  },
  {
   "cell_type": "code",
   "execution_count": 5,
   "metadata": {},
   "outputs": [
    {
     "data": {
      "text/plain": [
       "(334438, 10)"
      ]
     },
     "execution_count": 5,
     "metadata": {},
     "output_type": "execute_result"
    }
   ],
   "source": [
    "x.shape"
   ]
  },
  {
   "cell_type": "code",
   "execution_count": 6,
   "metadata": {},
   "outputs": [
    {
     "name": "stdout",
     "output_type": "stream",
     "text": [
      "Training sample: 250828 \n",
      "Valuation sample: 83610\n"
     ]
    }
   ],
   "source": [
    "train_split = 0.75\n",
    "train_limit = int(len(y)*train_split)\n",
    "print(\"Training sample: {0} \\nValuation sample: {1}\".format(train_limit, len(y)-train_limit))"
   ]
  },
  {
   "cell_type": "code",
   "execution_count": 7,
   "metadata": {},
   "outputs": [],
   "source": [
    "x_train = x[:train_limit]\n",
    "x_val = x[train_limit:]\n",
    "\n",
    "y_train = y[:train_limit]\n",
    "y_val = y[train_limit:]"
   ]
  },
  {
   "cell_type": "markdown",
   "metadata": {},
   "source": [
    "## Model Build"
   ]
  },
  {
   "cell_type": "code",
   "execution_count": 8,
   "metadata": {},
   "outputs": [],
   "source": [
    "from keras.models import Sequential\n",
    "from keras.layers.core import Dense\n",
    "import keras.backend as K\n",
    "from keras import optimizers\n",
    "from keras import models\n",
    "from keras import layers"
   ]
  },
  {
   "cell_type": "code",
   "execution_count": 9,
   "metadata": {},
   "outputs": [],
   "source": [
    "def build_model() :\n",
    "    model = models.Sequential()\n",
    "    model.add (layers.Dense (16, activation = \"sigmoid\" , input_shape = x.shape))\n",
    "    model.add (layers.Dense (16, activation = \"relu\"))\n",
    "    model.add (layers.Dense (1 , activation = \"sigmoid\"))\n",
    "    model.compile(optimizer = \"adam\" , loss = \"binary_crossentropy\" , metrics =[\"accuracy\"])\n",
    "    return model"
   ]
  },
  {
   "cell_type": "code",
   "execution_count": 10,
   "metadata": {},
   "outputs": [
    {
     "name": "stdout",
     "output_type": "stream",
     "text": [
      "Epoch 1/20\n",
      "WARNING:tensorflow:Model was constructed with shape (None, 334438, 10) for input KerasTensor(type_spec=TensorSpec(shape=(None, 334438, 10), dtype=tf.float32, name='dense_input'), name='dense_input', description=\"created by layer 'dense_input'\"), but it was called on an input with incompatible shape (None, 10).\n",
      "WARNING:tensorflow:Model was constructed with shape (None, 334438, 10) for input KerasTensor(type_spec=TensorSpec(shape=(None, 334438, 10), dtype=tf.float32, name='dense_input'), name='dense_input', description=\"created by layer 'dense_input'\"), but it was called on an input with incompatible shape (None, 10).\n",
      "12534/12542 [============================>.] - ETA: 0s - loss: 0.4394 - accuracy: 0.8043WARNING:tensorflow:Model was constructed with shape (None, 334438, 10) for input KerasTensor(type_spec=TensorSpec(shape=(None, 334438, 10), dtype=tf.float32, name='dense_input'), name='dense_input', description=\"created by layer 'dense_input'\"), but it was called on an input with incompatible shape (None, 10).\n",
      "12542/12542 [==============================] - 28s 2ms/step - loss: 0.4393 - accuracy: 0.8044 - val_loss: 0.1899 - val_accuracy: 0.9371\n",
      "Epoch 2/20\n",
      "12542/12542 [==============================] - 23s 2ms/step - loss: 0.1888 - accuracy: 0.9387 - val_loss: 0.1781 - val_accuracy: 0.9443\n",
      "Epoch 3/20\n",
      "12542/12542 [==============================] - 25s 2ms/step - loss: 0.1816 - accuracy: 0.9428 - val_loss: 0.1972 - val_accuracy: 0.9320\n",
      "Epoch 4/20\n",
      "12542/12542 [==============================] - 24s 2ms/step - loss: 0.1799 - accuracy: 0.9438 - val_loss: 0.1780 - val_accuracy: 0.9448\n",
      "Epoch 5/20\n",
      "12542/12542 [==============================] - 21s 2ms/step - loss: 0.1794 - accuracy: 0.9432 - val_loss: 0.1707 - val_accuracy: 0.9473\n",
      "Epoch 6/20\n",
      "12542/12542 [==============================] - 18s 1ms/step - loss: 0.1775 - accuracy: 0.9436 - val_loss: 0.1690 - val_accuracy: 0.9478\n",
      "Epoch 7/20\n",
      "12542/12542 [==============================] - 18s 1ms/step - loss: 0.1739 - accuracy: 0.9450 - val_loss: 0.1709 - val_accuracy: 0.9456\n",
      "Epoch 8/20\n",
      "12542/12542 [==============================] - 18s 1ms/step - loss: 0.1760 - accuracy: 0.9439 - val_loss: 0.1867 - val_accuracy: 0.9352\n",
      "Epoch 9/20\n",
      "12542/12542 [==============================] - 18s 1ms/step - loss: 0.1761 - accuracy: 0.9436 - val_loss: 0.1659 - val_accuracy: 0.9486\n",
      "Epoch 10/20\n",
      "12542/12542 [==============================] - 18s 1ms/step - loss: 0.1748 - accuracy: 0.9435 - val_loss: 0.1725 - val_accuracy: 0.9441\n",
      "Epoch 11/20\n",
      "12542/12542 [==============================] - 18s 1ms/step - loss: 0.1742 - accuracy: 0.9445 - val_loss: 0.1654 - val_accuracy: 0.9480\n",
      "Epoch 12/20\n",
      "12542/12542 [==============================] - 19s 2ms/step - loss: 0.1723 - accuracy: 0.9452 - val_loss: 0.1691 - val_accuracy: 0.9468\n",
      "Epoch 13/20\n",
      "12542/12542 [==============================] - 19s 1ms/step - loss: 0.1734 - accuracy: 0.9449 - val_loss: 0.1651 - val_accuracy: 0.9484\n",
      "Epoch 14/20\n",
      "12542/12542 [==============================] - 19s 1ms/step - loss: 0.1696 - accuracy: 0.9467 - val_loss: 0.1647 - val_accuracy: 0.9478\n",
      "Epoch 15/20\n",
      "12542/12542 [==============================] - 19s 2ms/step - loss: 0.1729 - accuracy: 0.9444 - val_loss: 0.1638 - val_accuracy: 0.9493\n",
      "Epoch 16/20\n",
      "12542/12542 [==============================] - 20s 2ms/step - loss: 0.1710 - accuracy: 0.9452 - val_loss: 0.1765 - val_accuracy: 0.9395\n",
      "Epoch 17/20\n",
      "12542/12542 [==============================] - 18s 1ms/step - loss: 0.1693 - accuracy: 0.9460 - val_loss: 0.1619 - val_accuracy: 0.9497\n",
      "Epoch 18/20\n",
      "12542/12542 [==============================] - 20s 2ms/step - loss: 0.1681 - accuracy: 0.9468 - val_loss: 0.1644 - val_accuracy: 0.9478\n",
      "Epoch 19/20\n",
      "12542/12542 [==============================] - 19s 1ms/step - loss: 0.1695 - accuracy: 0.9464 - val_loss: 0.1597 - val_accuracy: 0.9514\n",
      "Epoch 20/20\n",
      "12542/12542 [==============================] - 19s 2ms/step - loss: 0.1661 - accuracy: 0.9476 - val_loss: 0.1587 - val_accuracy: 0.9509\n"
     ]
    }
   ],
   "source": [
    "model = build_model ()\n",
    "history = model.fit ( x_train, y_train, epochs = 20, batch_size = 20 , validation_data = (x_val, y_val) )\n",
    "model.save(\"../models/classifier/no-dropout-250.h5\")"
   ]
  },
  {
   "cell_type": "code",
   "execution_count": 11,
   "metadata": {},
   "outputs": [
    {
     "data": {
      "image/png": "[encoded data removed]",
      "text/plain": [
       "<Figure size 432x288 with 1 Axes>"
      ]
     },
     "metadata": {
      "needs_background": "light"
     },
     "output_type": "display_data"
    }
   ],
   "source": [
    "import matplotlib.pyplot as plt\n",
    "\n",
    "loss = history.history['loss']\n",
    "val_loss = history.history['val_loss']\n",
    "\n",
    "epochs = range(1, len(loss) + 1)\n",
    "\n",
    "plt.plot(epochs, loss, 'bo', label='Training loss')\n",
    "plt.plot(epochs, val_loss, 'b', label='Validation loss')\n",
    "plt.title('Training and validation loss')\n",
    "plt.xlabel('Epochs')\n",
    "plt.ylabel('Loss')\n",
    "plt.legend()\n",
    "\n",
    "plt.show()"
   ]
  },
  {
   "cell_type": "code",
   "execution_count": 12,
   "metadata": {
    "scrolled": true
   },
   "outputs": [
    {
     "data": {
      "image/png": "[encoded data removed]",
      "text/plain": [
       "<Figure size 432x288 with 1 Axes>"
      ]
     },
     "metadata": {
      "needs_background": "light"
     },
     "output_type": "display_data"
    }
   ],
   "source": [
    "accuracy = history.history['accuracy']\n",
    "val_accuracy = history.history['val_accuracy']\n",
    "\n",
    "plt.plot(epochs, accuracy, 'bo', label='Training acc')\n",
    "plt.plot(epochs, val_accuracy, 'b', label='Validation acc')\n",
    "plt.title('Training and validation accuracy')\n",
    "plt.xlabel('Epochs')\n",
    "plt.ylabel('Loss')\n",
    "plt.legend()\n",
    "\n",
    "plt.show()"
   ]
  },
  {
   "cell_type": "code",
   "execution_count": 13,
   "metadata": {},
   "outputs": [],
   "source": [
    "def build_model() :\n",
    "    model = models.Sequential()\n",
    "    model.add (layers.Dense (16 , activation = \"relu\" , input_shape = x.shape))\n",
    "    model.add(layers.Dropout(0.2))\n",
    "    model.add (layers.Dense (16, activation = \"relu\"))\n",
    "    model.add(layers.Dropout(0.2))\n",
    "    model.add (layers.Dense (1 , activation = \"sigmoid\"))\n",
    "    model.compile(optimizer = \"adam\" , loss = \"binary_crossentropy\" , metrics =[\"accuracy\"])\n",
    "    return model"
   ]
  },
  {
   "cell_type": "code",
   "execution_count": 14,
   "metadata": {},
   "outputs": [
    {
     "name": "stdout",
     "output_type": "stream",
     "text": [
      "Epoch 1/20\n",
      "WARNING:tensorflow:Model was constructed with shape (None, 334438, 10) for input KerasTensor(type_spec=TensorSpec(shape=(None, 334438, 10), dtype=tf.float32, name='dense_3_input'), name='dense_3_input', description=\"created by layer 'dense_3_input'\"), but it was called on an input with incompatible shape (None, 10).\n",
      "WARNING:tensorflow:Model was constructed with shape (None, 334438, 10) for input KerasTensor(type_spec=TensorSpec(shape=(None, 334438, 10), dtype=tf.float32, name='dense_3_input'), name='dense_3_input', description=\"created by layer 'dense_3_input'\"), but it was called on an input with incompatible shape (None, 10).\n",
      "828/837 [============================>.] - ETA: 0s - loss: 0.6593 - accuracy: 0.5940WARNING:tensorflow:Model was constructed with shape (None, 334438, 10) for input KerasTensor(type_spec=TensorSpec(shape=(None, 334438, 10), dtype=tf.float32, name='dense_3_input'), name='dense_3_input', description=\"created by layer 'dense_3_input'\"), but it was called on an input with incompatible shape (None, 10).\n",
      "837/837 [==============================] - 2s 2ms/step - loss: 0.6578 - accuracy: 0.5955 - val_loss: 0.2772 - val_accuracy: 0.9077\n",
      "Epoch 2/20\n",
      "837/837 [==============================] - 2s 2ms/step - loss: 0.2830 - accuracy: 0.8990 - val_loss: 0.1898 - val_accuracy: 0.9396\n",
      "Epoch 3/20\n",
      "837/837 [==============================] - 1s 2ms/step - loss: 0.2158 - accuracy: 0.9263 - val_loss: 0.1723 - val_accuracy: 0.9463\n",
      "Epoch 4/20\n",
      "837/837 [==============================] - 2s 2ms/step - loss: 0.1966 - accuracy: 0.9341 - val_loss: 0.1633 - val_accuracy: 0.9498\n",
      "Epoch 5/20\n",
      "837/837 [==============================] - 1s 2ms/step - loss: 0.1874 - accuracy: 0.9382 - val_loss: 0.1586 - val_accuracy: 0.9497\n",
      "Epoch 6/20\n",
      "837/837 [==============================] - 2s 2ms/step - loss: 0.1814 - accuracy: 0.9408 - val_loss: 0.1541 - val_accuracy: 0.9513\n",
      "Epoch 7/20\n",
      "837/837 [==============================] - 1s 2ms/step - loss: 0.1757 - accuracy: 0.9425 - val_loss: 0.1561 - val_accuracy: 0.9500\n",
      "Epoch 8/20\n",
      "837/837 [==============================] - 2s 2ms/step - loss: 0.1754 - accuracy: 0.9424 - val_loss: 0.1566 - val_accuracy: 0.9496\n",
      "Epoch 9/20\n",
      "837/837 [==============================] - 2s 2ms/step - loss: 0.1733 - accuracy: 0.9433 - val_loss: 0.1517 - val_accuracy: 0.9524\n",
      "Epoch 10/20\n",
      "837/837 [==============================] - 2s 2ms/step - loss: 0.1720 - accuracy: 0.9441 - val_loss: 0.1543 - val_accuracy: 0.9507\n",
      "Epoch 11/20\n",
      "837/837 [==============================] - 2s 2ms/step - loss: 0.1702 - accuracy: 0.9445 - val_loss: 0.1525 - val_accuracy: 0.9521\n",
      "Epoch 12/20\n",
      "837/837 [==============================] - 2s 2ms/step - loss: 0.1685 - accuracy: 0.9452 - val_loss: 0.1518 - val_accuracy: 0.9522\n",
      "Epoch 13/20\n",
      "837/837 [==============================] - 2s 2ms/step - loss: 0.1700 - accuracy: 0.9446 - val_loss: 0.1492 - val_accuracy: 0.9536\n",
      "Epoch 14/20\n",
      "837/837 [==============================] - 2s 2ms/step - loss: 0.1685 - accuracy: 0.9448 - val_loss: 0.1566 - val_accuracy: 0.9512\n",
      "Epoch 15/20\n",
      "837/837 [==============================] - 2s 2ms/step - loss: 0.1683 - accuracy: 0.9457 - val_loss: 0.1498 - val_accuracy: 0.9533\n",
      "Epoch 16/20\n",
      "837/837 [==============================] - 1s 2ms/step - loss: 0.1682 - accuracy: 0.9451 - val_loss: 0.1475 - val_accuracy: 0.9543\n",
      "Epoch 17/20\n",
      "837/837 [==============================] - 2s 2ms/step - loss: 0.1677 - accuracy: 0.9450 - val_loss: 0.1495 - val_accuracy: 0.9533\n",
      "Epoch 18/20\n",
      "837/837 [==============================] - 2s 2ms/step - loss: 0.1676 - accuracy: 0.9450 - val_loss: 0.1481 - val_accuracy: 0.9534\n",
      "Epoch 19/20\n",
      "837/837 [==============================] - 2s 2ms/step - loss: 0.1653 - accuracy: 0.9464 - val_loss: 0.1469 - val_accuracy: 0.9545\n",
      "Epoch 20/20\n",
      "837/837 [==============================] - 2s 2ms/step - loss: 0.1629 - accuracy: 0.9476 - val_loss: 0.1462 - val_accuracy: 0.9544\n"
     ]
    }
   ],
   "source": [
    "model = build_model ()\n",
    "history = model.fit ( x_train, y_train, epochs = 20, batch_size = 300 , validation_data = (x_val, y_val) )\n",
    "model.save(\"../models/classifier/with-dropout-250.h5\")"
   ]
  },
  {
   "cell_type": "markdown",
   "metadata": {},
   "source": [
    "## Adding Dropout\n",
    "\n",
    "Dropout is one of the most effective and most commonly used regularization techniques for neural networks, developed by Geoff Hinton and his students at the University of Toronto. Dropout, applied to a layer, consists of randomly dropping out (setting to zero) a number of output features of the layer during training. Let’s say a\n",
    "given layer would normally return a vector [0.2, 0.5, 1.3, 0.8, 1.1] for a given input sample during training. After applying dropout, this vector will have a few zero entries distributed at random: for example, [0, 0.5, 1.3, 0, 1.1]. The dropout rate is the fraction of the features that are zeroed out; it’s usually set between 0.2 and 0.5. At test time, no units are dropped out; instead, the layer’s output values are scaled down by a factor equal to the dropout rate, to balance for the fact that more units are active than at training time.\n",
    "\n",
    "##### [From Deep Learning with Python, Chollet]"
   ]
  },
  {
   "cell_type": "code",
   "execution_count": 15,
   "metadata": {},
   "outputs": [
    {
     "data": {
      "image/png": "[encoded data removed]",
      "text/plain": [
       "<Figure size 432x288 with 1 Axes>"
      ]
     },
     "metadata": {
      "needs_background": "light"
     },
     "output_type": "display_data"
    }
   ],
   "source": [
    "import matplotlib.pyplot as plt\n",
    "\n",
    "loss = history.history['loss']\n",
    "val_loss = history.history['val_loss']\n",
    "\n",
    "epochs = range(1, len(loss) + 1)\n",
    "\n",
    "plt.plot(epochs, loss, 'bo', label='Training loss')\n",
    "plt.plot(epochs, val_loss, 'b', label='Validation loss')\n",
    "plt.title('Training and validation loss')\n",
    "plt.xlabel('Epochs')\n",
    "plt.ylabel('Loss')\n",
    "plt.legend()\n",
    "\n",
    "plt.show()"
   ]
  },
  {
   "cell_type": "code",
   "execution_count": 16,
   "metadata": {
    "scrolled": true
   },
   "outputs": [
    {
     "data": {
      "image/png": "[encoded data removed]",
      "text/plain": [
       "<Figure size 432x288 with 1 Axes>"
      ]
     },
     "metadata": {
      "needs_background": "light"
     },
     "output_type": "display_data"
    }
   ],
   "source": [
    "plt.clf()   # clear figure\n",
    "\n",
    "accuracy = history.history['accuracy']\n",
    "val_accuracy = history.history['val_accuracy']\n",
    "\n",
    "plt.plot(epochs, accuracy, 'bo', label='Training acc')\n",
    "plt.plot(epochs, val_accuracy, 'b', label='Validation acc')\n",
    "plt.title('Training and validation accuracy')\n",
    "plt.xlabel('Epochs')\n",
    "plt.ylabel('Loss')\n",
    "plt.legend()\n",
    "\n",
    "plt.show()"
   ]
  },
  {
   "cell_type": "code",
   "execution_count": null,
   "metadata": {},
   "outputs": [],
   "source": []
  },
  {
   "cell_type": "code",
   "execution_count": null,
   "metadata": {},
   "outputs": [],
   "source": []
  },
  {
   "cell_type": "code",
   "execution_count": null,
   "metadata": {},
   "outputs": [],
   "source": []
  }
 ],
 "metadata": {
  "kernelspec": {
   "display_name": "Python 3",
   "language": "python",
   "name": "python3"
  },
  "language_info": {
   "codemirror_mode": {
    "name": "ipython",
    "version": 3
   },
   "file_extension": ".py",
   "mimetype": "text/x-python",
   "name": "python",
   "nbconvert_exporter": "python",
   "pygments_lexer": "ipython3",
   "version": "3.7.7"
  }
 },
 "nbformat": 4,
 "nbformat_minor": 4
}
