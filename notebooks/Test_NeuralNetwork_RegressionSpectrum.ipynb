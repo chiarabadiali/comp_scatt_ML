{
 "cells": [
  {
   "cell_type": "code",
   "execution_count": 1,
   "metadata": {},
   "outputs": [
    {
     "name": "stdout",
     "output_type": "stream",
     "text": [
      "1.2.0\n"
     ]
    }
   ],
   "source": [
    "import pandas as pd \n",
    "import numpy as np\n",
    "import math\n",
    "import tensorflow as tf\n",
    "import matplotlib.pyplot as plt\n",
    "print(pd.__version__)\n",
    "import progressbar\n",
    "from tensorflow import keras "
   ]
  },
  {
   "cell_type": "markdown",
   "metadata": {},
   "source": [
    "### Load of the test data"
   ]
  },
  {
   "cell_type": "code",
   "execution_count": 2,
   "metadata": {},
   "outputs": [],
   "source": [
    "from process import loaddata\n",
    "data = loaddata('../data/classifier/250.csv')"
   ]
  },
  {
   "cell_type": "code",
   "execution_count": 3,
   "metadata": {},
   "outputs": [],
   "source": [
    "np.random.shuffle(data)\n",
    "y = data[:,-7:-4]\n",
    "x = data[:,1:7]"
   ]
  },
  {
   "cell_type": "code",
   "execution_count": 4,
   "metadata": {},
   "outputs": [
    {
     "name": "stdout",
     "output_type": "stream",
     "text": [
      "Classifaction data shape: (334438, 6)\n"
     ]
    }
   ],
   "source": [
    "print('Classifaction data shape:',x.shape) "
   ]
  },
  {
   "cell_type": "markdown",
   "metadata": {},
   "source": [
    "### Model Load"
   ]
  },
  {
   "cell_type": "code",
   "execution_count": 5,
   "metadata": {},
   "outputs": [],
   "source": [
    "model = keras.models.load_model('../models/classificationandregression/large_mse250.h5') "
   ]
  },
  {
   "cell_type": "markdown",
   "metadata": {},
   "source": [
    "### Test of the Classification&Regression NN"
   ]
  },
  {
   "cell_type": "code",
   "execution_count": 6,
   "metadata": {},
   "outputs": [
    {
     "name": "stdout",
     "output_type": "stream",
     "text": [
      "WARNING:tensorflow:Model was constructed with shape (None, 334438, 6) for input KerasTensor(type_spec=TensorSpec(shape=(None, 334438, 6), dtype=tf.float32, name='dense_11_input'), name='dense_11_input', description=\"created by layer 'dense_11_input'\"), but it was called on an input with incompatible shape (None, 6).\n",
      "10452/10452 [==============================] - 12s 1ms/step - loss: 7.9524e-06 - mae: 0.0023\n"
     ]
    },
    {
     "data": {
      "text/plain": [
       "<tensorflow.python.keras.callbacks.History at 0x7f587f3306d0>"
      ]
     },
     "execution_count": 6,
     "metadata": {},
     "output_type": "execute_result"
    }
   ],
   "source": [
    "model.fit(x, y)"
   ]
  },
  {
   "cell_type": "markdown",
   "metadata": {},
   "source": [
    "### Test spectrum"
   ]
  },
  {
   "cell_type": "code",
   "execution_count": 7,
   "metadata": {},
   "outputs": [],
   "source": [
    "def energy_spectrum(energy_array, bins):\n",
    "    energy_array = np.array(energy_array)\n",
    "    plt.hist(energy_array, bins, histtype=u'step')\n",
    "    plt.yscale(\"log\")\n",
    "    plt.show()"
   ]
  },
  {
   "cell_type": "code",
   "execution_count": 8,
   "metadata": {},
   "outputs": [],
   "source": [
    "final_e = []\n",
    "for y_ in y:\n",
    "    final_e.append(np.linalg.norm(y_))"
   ]
  },
  {
   "cell_type": "code",
   "execution_count": 9,
   "metadata": {},
   "outputs": [
    {
     "data": {
      "text/plain": [
       "(334438, 3)"
      ]
     },
     "execution_count": 9,
     "metadata": {},
     "output_type": "execute_result"
    }
   ],
   "source": [
    "y.shape"
   ]
  },
  {
   "cell_type": "code",
   "execution_count": 10,
   "metadata": {},
   "outputs": [
    {
     "data": {
      "image/png": "[encoded data removed]",
      "text/plain": [
       "<Figure size 432x288 with 1 Axes>"
      ]
     },
     "metadata": {
      "needs_background": "light"
     },
     "output_type": "display_data"
    }
   ],
   "source": [
    "energy_spectrum(final_e, 75)"
   ]
  },
  {
   "cell_type": "code",
   "execution_count": 11,
   "metadata": {},
   "outputs": [
    {
     "name": "stdout",
     "output_type": "stream",
     "text": [
      "WARNING:tensorflow:Model was constructed with shape (None, 334438, 6) for input KerasTensor(type_spec=TensorSpec(shape=(None, 334438, 6), dtype=tf.float32, name='dense_11_input'), name='dense_11_input', description=\"created by layer 'dense_11_input'\"), but it was called on an input with incompatible shape (None, 6).\n"
     ]
    }
   ],
   "source": [
    "prediction = model.predict(x)\n"
   ]
  },
  {
   "cell_type": "code",
   "execution_count": 12,
   "metadata": {},
   "outputs": [
    {
     "name": "stderr",
     "output_type": "stream",
     "text": [
      "[==============================================================] 100% of 334438\n"
     ]
    }
   ],
   "source": [
    "from tensorflow import keras \n",
    "final_e_nn = []\n",
    "bar = progressbar.ProgressBar(maxval=len(prediction), \n",
    "                              widgets=[progressbar.Bar('=', '[', ']'), ' ', \n",
    "                                       progressbar.Percentage(), \n",
    "                                       \" of {0}\".format(len(prediction))])\n",
    "bar.start()\n",
    "for i, pred in enumerate(prediction):\n",
    "    final_e_nn.append(np.linalg.norm(pred))\n",
    "    bar.update(i+1)\n",
    "bar.finish()"
   ]
  },
  {
   "cell_type": "code",
   "execution_count": 13,
   "metadata": {},
   "outputs": [
    {
     "data": {
      "image/png": "[encoded data removed]",
      "text/plain": [
       "<Figure size 432x288 with 1 Axes>"
      ]
     },
     "metadata": {
      "needs_background": "light"
     },
     "output_type": "display_data"
    }
   ],
   "source": [
    "from scipy.stats import norm\n",
    "import matplotlib.mlab as mlab\n",
    "import matplotlib.pyplot as plt\n",
    "import scipy.stats as stats\n",
    "from scipy.stats import chisquare\n",
    "\n",
    "mean,std=norm.fit(final_e)\n",
    "plt.hist(final_e, bins=100, alpha = 0.5, color = 'mediumslateblue', label='Electrons spectrum', density = True)\n",
    "xmin, xmax = plt.xlim()\n",
    "x_e = np.linspace(xmin, xmax, 100)\n",
    "y_e = norm.pdf(x_e, mean, std)\n",
    "plt.plot(x_e, y_e,'g--', linewidth=2)\n",
    "plt.legend(loc='upper right')\n",
    "plt.savefig('../plots/onenetwork/250/electronspectrum.png')\n",
    "plt.savefig('../plots/onenetwork/250/electronspectrum.pdf')\n",
    "plt.show()"
   ]
  },
  {
   "cell_type": "code",
   "execution_count": 14,
   "metadata": {},
   "outputs": [
    {
     "name": "stdout",
     "output_type": "stream",
     "text": [
      "mean =  0.06486635181642011\n",
      "std =  0.020283482527066313\n",
      "chi square =  Power_divergenceResult(statistic=2121.1979022068085, pvalue=1.0)\n"
     ]
    }
   ],
   "source": [
    "print('mean = ', mean)\n",
    "print('std = ', std)\n",
    "print(\"chi square = \", stats.chisquare(final_e))"
   ]
  },
  {
   "cell_type": "code",
   "execution_count": 15,
   "metadata": {},
   "outputs": [
    {
     "data": {
      "image/png": "[encoded data removed]",
      "text/plain": [
       "<Figure size 432x288 with 1 Axes>"
      ]
     },
     "metadata": {
      "needs_background": "light"
     },
     "output_type": "display_data"
    }
   ],
   "source": [
    "from scipy.stats import norm\n",
    "import matplotlib.mlab as mlab\n",
    "import matplotlib.pyplot as plt\n",
    "import scipy.stats as stats\n",
    "from scipy.stats import chisquare\n",
    "\n",
    "mean_nn,std_nn=norm.fit(final_e_nn)\n",
    "plt.hist(final_e_nn, bins=100, alpha = 0.5, color = 'coral', label='NN prediction', density = True)\n",
    "xmin, xmax = plt.xlim()\n",
    "x_nn = np.linspace(xmin, xmax, 100)\n",
    "y_nn = norm.pdf(x_nn, mean_nn, std_nn)\n",
    "plt.plot(x_nn, y_nn,'r--', linewidth=2)\n",
    "plt.legend(loc='upper right')\n",
    "plt.savefig('../plots/onenetwork/250/NNprediction.png')\n",
    "plt.savefig('../plots/onenetwork/250/NNprediction.pdf')\n",
    "plt.show()"
   ]
  },
  {
   "cell_type": "code",
   "execution_count": 16,
   "metadata": {},
   "outputs": [
    {
     "data": {
      "image/png": "[encoded data removed]",
      "text/plain": [
       "<Figure size 432x288 with 1 Axes>"
      ]
     },
     "metadata": {
      "needs_background": "light"
     },
     "output_type": "display_data"
    }
   ],
   "source": [
    "plt.hist(final_e_nn, bins=100, alpha = 0.5, color = 'mediumslateblue', label='NN prediction', density = True)\n",
    "plt.hist(final_e, bins=100, alpha = 0.5, color = 'coral', label='Electron Momentum from simulations', density = True)\n",
    "x_nn = np.linspace(xmin, xmax, 100)\n",
    "y_nn = norm.pdf(x_nn, mean_nn, std_nn)\n",
    "plt.plot(x_nn, y_nn,'g--', label = 'fit NN', linewidth = 2)\n",
    "plt.legend(loc='upper right')\n",
    "x_e = np.linspace(xmin, xmax, 100)\n",
    "y_e = norm.pdf(x_e, mean, std)\n",
    "plt.plot(x_e, y_e, 'r:', label = 'fit Electron Momentum Simulations', linewidth = 2)\n",
    "plt.legend(loc = 'upper right')\n",
    "plt.ylim((0, 32.5))\n",
    "plt.savefig('../plots/onenetwork/250/comparison.png')\n",
    "plt.savefig('../plots/onenetwork/250/comparison.pdf')\n",
    "plt.show()"
   ]
  },
  {
   "cell_type": "code",
   "execution_count": null,
   "metadata": {},
   "outputs": [],
   "source": []
  }
 ],
 "metadata": {
  "kernelspec": {
   "display_name": "Python 3",
   "language": "python",
   "name": "python3"
  },
  "language_info": {
   "codemirror_mode": {
    "name": "ipython",
    "version": 3
   },
   "file_extension": ".py",
   "mimetype": "text/x-python",
   "name": "python",
   "nbconvert_exporter": "python",
   "pygments_lexer": "ipython3",
   "version": "3.7.7"
  }
 },
 "nbformat": 4,
 "nbformat_minor": 4
}
