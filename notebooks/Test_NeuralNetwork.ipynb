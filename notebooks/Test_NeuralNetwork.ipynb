{
 "cells": [
  {
   "cell_type": "code",
   "execution_count": 18,
   "metadata": {},
   "outputs": [
    {
     "name": "stdout",
     "output_type": "stream",
     "text": [
      "1.2.0\n"
     ]
    }
   ],
   "source": [
    "import pandas as pd \n",
    "import numpy as np\n",
    "import math\n",
    "import tensorflow as tf\n",
    "import matplotlib.pyplot as plt\n",
    "print(pd.__version__)\n",
    "import progressbar"
   ]
  },
  {
   "cell_type": "markdown",
   "metadata": {},
   "source": [
    "### Load of the test data"
   ]
  },
  {
   "cell_type": "code",
   "execution_count": 19,
   "metadata": {},
   "outputs": [],
   "source": [
    "regen_data = False"
   ]
  },
  {
   "cell_type": "code",
   "execution_count": 20,
   "metadata": {},
   "outputs": [],
   "source": [
    "from process import loaddata\n",
    "regr_data = loaddata(\"../data/regression/100.csv\")\n",
    "class_data = loaddata(\"../data/classifier/100.csv\")"
   ]
  },
  {
   "cell_type": "code",
   "execution_count": 22,
   "metadata": {},
   "outputs": [],
   "source": [
    "np.random.shuffle(class_data)\n",
    "yc_test = class_data[:,0]\n",
    "xc_test = class_data[:,1:]"
   ]
  },
  {
   "cell_type": "code",
   "execution_count": 23,
   "metadata": {},
   "outputs": [],
   "source": [
    "np.random.shuffle(regr_data)\n",
    "yr_test = regr_data[:,-3:]\n",
    "xr_test = regr_data[:,:6]"
   ]
  },
  {
   "cell_type": "code",
   "execution_count": 24,
   "metadata": {},
   "outputs": [
    {
     "data": {
      "text/plain": [
       "(124064, 10)"
      ]
     },
     "execution_count": 24,
     "metadata": {},
     "output_type": "execute_result"
    }
   ],
   "source": [
    "xc_test.shape"
   ]
  },
  {
   "cell_type": "code",
   "execution_count": 25,
   "metadata": {},
   "outputs": [
    {
     "data": {
      "text/plain": [
       "(62032, 6)"
      ]
     },
     "execution_count": 25,
     "metadata": {},
     "output_type": "execute_result"
    }
   ],
   "source": [
    "xr_test.shape"
   ]
  },
  {
   "cell_type": "markdown",
   "metadata": {},
   "source": [
    "### Model Load"
   ]
  },
  {
   "cell_type": "code",
   "execution_count": 26,
   "metadata": {},
   "outputs": [],
   "source": [
    "from tensorflow import keras "
   ]
  },
  {
   "cell_type": "code",
   "execution_count": 27,
   "metadata": {},
   "outputs": [],
   "source": [
    "model_regr = keras.models.load_model('../models/regression/large_mse.h5')\n",
    "model_class = keras.models.load_model('../models/classifier/with-dropout-100.h5')"
   ]
  },
  {
   "cell_type": "markdown",
   "metadata": {},
   "source": [
    "## Test of the Classification NN"
   ]
  },
  {
   "cell_type": "code",
   "execution_count": 28,
   "metadata": {},
   "outputs": [
    {
     "name": "stdout",
     "output_type": "stream",
     "text": [
      "WARNING:tensorflow:Model was constructed with shape (None, 124064, 10) for input KerasTensor(type_spec=TensorSpec(shape=(None, 124064, 10), dtype=tf.float32, name='dense_12_input'), name='dense_12_input', description=\"created by layer 'dense_12_input'\"), but it was called on an input with incompatible shape (32, 10).\n",
      "3877/3877 [==============================] - 4s 904us/step - loss: 0.1869 - accuracy: 0.9374\n"
     ]
    },
    {
     "data": {
      "text/plain": [
       "<tensorflow.python.keras.callbacks.History at 0x7ff06030e0d0>"
      ]
     },
     "execution_count": 28,
     "metadata": {},
     "output_type": "execute_result"
    }
   ],
   "source": [
    "model_class.fit(xc_test, yc_test)"
   ]
  },
  {
   "cell_type": "markdown",
   "metadata": {},
   "source": [
    "## Test of the Regression NN"
   ]
  },
  {
   "cell_type": "code",
   "execution_count": 29,
   "metadata": {},
   "outputs": [
    {
     "name": "stdout",
     "output_type": "stream",
     "text": [
      "WARNING:tensorflow:Model was constructed with shape (None, 62032, 6) for input KerasTensor(type_spec=TensorSpec(shape=(None, 62032, 6), dtype=tf.float32, name='dense_9_input'), name='dense_9_input', description=\"created by layer 'dense_9_input'\"), but it was called on an input with incompatible shape (None, 6).\n",
      "1939/1939 [==============================] - 3s 1ms/step - loss: 7.6445e-06 - mae: 0.0022\n"
     ]
    },
    {
     "data": {
      "text/plain": [
       "<tensorflow.python.keras.callbacks.History at 0x7ff06223e690>"
      ]
     },
     "execution_count": 29,
     "metadata": {},
     "output_type": "execute_result"
    }
   ],
   "source": [
    "model_regr.fit(xr_test, yr_test)"
   ]
  },
  {
   "cell_type": "markdown",
   "metadata": {},
   "source": [
    "## Test spectrum"
   ]
  },
  {
   "cell_type": "code",
   "execution_count": 30,
   "metadata": {},
   "outputs": [],
   "source": [
    "def energy_spectrum(energy_array, bins):\n",
    "    energy_array = np.array(energy_array)\n",
    "    plt.hist(energy_array, bins, histtype=u'step')\n",
    "    plt.yscale(\"log\")\n",
    "    plt.show()"
   ]
  },
  {
   "cell_type": "code",
   "execution_count": 31,
   "metadata": {},
   "outputs": [],
   "source": [
    "final_p = []\n",
    "final_e = []\n",
    "\n",
    "for regr_pair in regr_data:\n",
    "    final_e.append(np.linalg.norm(regr_pair[10:13]))\n",
    "    final_p.append(np.linalg.norm(regr_pair[13:16]))"
   ]
  },
  {
   "cell_type": "code",
   "execution_count": 32,
   "metadata": {},
   "outputs": [
    {
     "data": {
      "image/png": "[encoded data removed]",
      "text/plain": [
       "<Figure size 432x288 with 1 Axes>"
      ]
     },
     "metadata": {
      "needs_background": "light"
     },
     "output_type": "display_data"
    }
   ],
   "source": [
    "energy_spectrum(final_e, 75)"
   ]
  },
  {
   "cell_type": "code",
   "execution_count": 33,
   "metadata": {},
   "outputs": [
    {
     "data": {
      "image/png": "[encoded data removed]",
      "text/plain": [
       "<Figure size 432x288 with 1 Axes>"
      ]
     },
     "metadata": {
      "needs_background": "light"
     },
     "output_type": "display_data"
    }
   ],
   "source": [
    "energy_spectrum(final_p, 75)"
   ]
  },
  {
   "cell_type": "code",
   "execution_count": 34,
   "metadata": {},
   "outputs": [
    {
     "name": "stderr",
     "output_type": "stream",
     "text": [
      "[                                                               ]   0% of 62032\r"
     ]
    },
    {
     "name": "stdout",
     "output_type": "stream",
     "text": [
      "WARNING:tensorflow:Model was constructed with shape (None, 124064, 10) for input KerasTensor(type_spec=TensorSpec(shape=(None, 124064, 10), dtype=tf.float32, name='dense_12_input'), name='dense_12_input', description=\"created by layer 'dense_12_input'\"), but it was called on an input with incompatible shape (None, 10).\n",
      "WARNING:tensorflow:Model was constructed with shape (None, 62032, 6) for input KerasTensor(type_spec=TensorSpec(shape=(None, 62032, 6), dtype=tf.float32, name='dense_9_input'), name='dense_9_input', description=\"created by layer 'dense_9_input'\"), but it was called on an input with incompatible shape (None, 6).\n"
     ]
    },
    {
     "name": "stderr",
     "output_type": "stream",
     "text": [
      "[===============================================================] 100% of 62032\n"
     ]
    }
   ],
   "source": [
    "from tensorflow import keras \n",
    "photon_final_nn = []\n",
    "threshold = 0.5\n",
    "num = int(0.5*len(xc_test))\n",
    "bar = progressbar.ProgressBar(maxval=num, \n",
    "                              widgets=[progressbar.Bar('=', '[', ']'), ' ', \n",
    "                                       progressbar.Percentage(), \n",
    "                                       \" of {0}\".format(num)])\n",
    "bar.start()\n",
    "for i, x_ in enumerate(xc_test[:num]):\n",
    "    x_ = np.array([x_])\n",
    "    classification = model_class.predict(np.stack(x_))\n",
    "    if classification >= threshold:\n",
    "        regr_x = np.array([x_[0,:6]])\n",
    "        regr_result = model_regr.predict(regr_x)\n",
    "        photon_final_nn.append(np.linalg.norm(regr_result[0]))\n",
    "    bar.update(i+1)\n",
    "bar.finish()"
   ]
  },
  {
   "cell_type": "code",
   "execution_count": 35,
   "metadata": {},
   "outputs": [],
   "source": [
    "from scipy.stats import norm\n",
    "import matplotlib.mlab as mlab\n",
    "import matplotlib.pyplot as plt\n",
    "import scipy.stats as stats\n",
    "from scipy.stats import chisquare"
   ]
  },
  {
   "cell_type": "code",
   "execution_count": 36,
   "metadata": {},
   "outputs": [
    {
     "data": {
      "image/png": "[encoded data removed]",
      "text/plain": [
       "<Figure size 432x288 with 1 Axes>"
      ]
     },
     "metadata": {
      "needs_background": "light"
     },
     "output_type": "display_data"
    }
   ],
   "source": [
    "energy_spectrum(photon_final_nn, 75)"
   ]
  },
  {
   "cell_type": "code",
   "execution_count": 41,
   "metadata": {},
   "outputs": [
    {
     "data": {
      "image/png": "[encoded data removed]",
      "text/plain": [
       "<Figure size 432x288 with 1 Axes>"
      ]
     },
     "metadata": {
      "needs_background": "light"
     },
     "output_type": "display_data"
    }
   ],
   "source": [
    "mean,std=norm.fit(final_p)\n",
    "plt.hist(final_p, bins=100, alpha = 0.5, color = 'mediumslateblue', label='Photon Spectrum', density = True)\n",
    "plt.legend(loc='upper right')\n",
    "xmin, xmax = plt.xlim()\n",
    "x_p = np.linspace(xmin, xmax, 100)\n",
    "y_p = norm.pdf(x_p, mean, std)\n",
    "plt.plot(x_p, y_p,'g--', linewidth=2)\n",
    "plt.savefig('../plots/twonetworks/100/photonspectrum.png')\n",
    "plt.savefig('../plots/twonetworks/100/photonspectrum.png')\n",
    "plt.show()"
   ]
  },
  {
   "cell_type": "code",
   "execution_count": 42,
   "metadata": {},
   "outputs": [
    {
     "name": "stdout",
     "output_type": "stream",
     "text": [
      "mean =  0.06399457359837055\n",
      "std =  0.019482820910716223\n",
      "chi square =  Power_divergenceResult(statistic=367.9394127592178, pvalue=1.0)\n"
     ]
    }
   ],
   "source": [
    "print('mean = ', mean)\n",
    "print('std = ', std)\n",
    "print(\"chi square = \", stats.chisquare(final_p))"
   ]
  },
  {
   "cell_type": "code",
   "execution_count": 43,
   "metadata": {},
   "outputs": [
    {
     "data": {
      "image/png": "[encoded data removed]",
      "text/plain": [
       "<Figure size 432x288 with 1 Axes>"
      ]
     },
     "metadata": {
      "needs_background": "light"
     },
     "output_type": "display_data"
    }
   ],
   "source": [
    "mean_nn,std_nn=norm.fit(photon_final_nn)\n",
    "plt.hist(photon_final_nn, bins=100, alpha = 0.5,  color = 'coral', label='NN prediction', density = True)\n",
    "xmin, xmax = plt.xlim()\n",
    "x_nn = np.linspace(xmin, xmax, 100)\n",
    "y_nn = norm.pdf(x_nn, mean_nn, std_nn)\n",
    "plt.plot(x_nn, y_nn,'r--', linewidth=2)\n",
    "plt.legend(loc='upper right')\n",
    "plt.savefig('../plots/twonetworks/100/NNprediction.png')\n",
    "plt.savefig('../plots/twonetworks/100/NNprediction.pdf')\n",
    "plt.show()"
   ]
  },
  {
   "cell_type": "code",
   "execution_count": 44,
   "metadata": {},
   "outputs": [
    {
     "data": {
      "image/png": "[encoded data removed]",
      "text/plain": [
       "<Figure size 432x288 with 1 Axes>"
      ]
     },
     "metadata": {
      "needs_background": "light"
     },
     "output_type": "display_data"
    }
   ],
   "source": [
    "plt.hist(photon_final_nn, 100, alpha=0.5, color = 'coral', label='NN prediction', density = True)\n",
    "plt.hist(final_p, 100, alpha=0.5, color = 'mediumslateblue', label='Photon Spectrum', density = True)\n",
    "plt.xlabel('Photon Momentum')\n",
    "plt.ylabel('count')\n",
    "plt.legend(loc='upper right')\n",
    "x_nn = np.linspace(xmin, xmax, 100)\n",
    "y_nn = norm.pdf(x_nn, mean_nn, std_nn)\n",
    "plt.plot(x_nn, y_nn,'g--', label = 'fit NN', linewidth = 2)\n",
    "plt.legend(loc='upper right')\n",
    "x_p = np.linspace(xmin, xmax, 100)\n",
    "y_p = norm.pdf(x_p, mean, std)\n",
    "plt.plot(x_p, y_p, 'r:', label = 'fit Electron Momentum Simulations', linewidth = 2)\n",
    "plt.legend(loc = 'upper right')\n",
    "plt.ylim((0, 32.5))\n",
    "plt.savefig('../plots/twonetworks/100/comparison.png')\n",
    "plt.savefig('../plots/twonetworks/100/comparison.pdf')\n",
    "plt.show()"
   ]
  },
  {
   "cell_type": "code",
   "execution_count": 45,
   "metadata": {},
   "outputs": [
    {
     "name": "stderr",
     "output_type": "stream",
     "text": [
      "/home/linuxbrew/.linuxbrew/opt/python/lib/python3.7/site-packages/ipykernel_launcher.py:5: UserWarning: Matplotlib is currently using module://ipykernel.pylab.backend_inline, which is a non-GUI backend, so cannot show the figure.\n",
      "  \"\"\"\n"
     ]
    },
    {
     "data": {
      "image/png": "[encoded data removed]",
      "text/plain": [
       "<Figure size 432x288 with 2 Axes>"
      ]
     },
     "metadata": {
      "needs_background": "light"
     },
     "output_type": "display_data"
    }
   ],
   "source": [
    "fig, axs = plt.subplots(2, sharex = True)\n",
    "fig.suptitle('Vertically stacked subplots')\n",
    "axs[0].hist(photon_final_nn, 100, alpha=0.5, color = 'coral', label='NN prediction', density = True)\n",
    "axs[1].hist(final_p, 100, alpha=0.5, color = 'mediumslateblue', label='Photon Spectrum', density = True)\n",
    "fig.show()"
   ]
  },
  {
   "cell_type": "code",
   "execution_count": null,
   "metadata": {},
   "outputs": [],
   "source": []
  },
  {
   "cell_type": "code",
   "execution_count": null,
   "metadata": {},
   "outputs": [],
   "source": []
  },
  {
   "cell_type": "code",
   "execution_count": null,
   "metadata": {},
   "outputs": [],
   "source": []
  }
 ],
 "metadata": {
  "kernelspec": {
   "display_name": "Python 3",
   "language": "python",
   "name": "python3"
  },
  "language_info": {
   "codemirror_mode": {
    "name": "ipython",
    "version": 3
   },
   "file_extension": ".py",
   "mimetype": "text/x-python",
   "name": "python",
   "nbconvert_exporter": "python",
   "pygments_lexer": "ipython3",
   "version": "3.7.7"
  }
 },
 "nbformat": 4,
 "nbformat_minor": 4
}
