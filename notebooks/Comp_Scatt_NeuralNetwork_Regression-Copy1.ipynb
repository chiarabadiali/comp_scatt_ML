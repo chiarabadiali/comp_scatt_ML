{
 "cells": [
  {
   "cell_type": "code",
   "execution_count": 1,
   "metadata": {},
   "outputs": [
    {
     "name": "stdout",
     "output_type": "stream",
     "text": [
      "1.2.0\n"
     ]
    }
   ],
   "source": [
    "import pandas as pd \n",
    "import numpy as np\n",
    "import math\n",
    "import tensorflow as tf\n",
    "print(pd.__version__)\n",
    "import matplotlib.pyplot as plt\n",
    "import progressbar"
   ]
  },
  {
   "cell_type": "markdown",
   "metadata": {},
   "source": [
    "## Print Dependencies\n",
    "\n",
    "\n",
    "\n",
    "Dependences are fundamental to record the computational environment."
   ]
  },
  {
   "cell_type": "code",
   "execution_count": 2,
   "metadata": {},
   "outputs": [
    {
     "name": "stdout",
     "output_type": "stream",
     "text": [
      "Python implementation: CPython\n",
      "Python version       : 3.7.7\n",
      "IPython version      : 7.19.0\n",
      "\n",
      "pandas     : 1.2.0\n",
      "keras      : 2.4.3\n",
      "numpy      : 1.19.5\n",
      "math       : unknown\n",
      "tensorflow : 2.4.0\n",
      "matplotlib : 3.3.3\n",
      "h5py       : 2.10.0\n",
      "progressbar: 2.5\n",
      "\n",
      "Compiler    : GCC 5.4.0 20160609\n",
      "OS          : Linux\n",
      "Release     : 5.8.0-40-generic\n",
      "Machine     : x86_64\n",
      "Processor   : x86_64\n",
      "CPU cores   : 8\n",
      "Architecture: 64bit\n",
      "\n",
      " \n",
      "Last updated: Tue Jan 26 2021 16:50:59CET\n",
      "\n"
     ]
    }
   ],
   "source": [
    "%load_ext watermark\n",
    "\n",
    "# python, ipython, packages, and machine characteristics\n",
    "%watermark -v -m -p pandas,keras,numpy,math,tensorflow,matplotlib,h5py,progressbar\n",
    "\n",
    "# date\n",
    "print (\" \")\n",
    "%watermark -u -n -t -z"
   ]
  },
  {
   "cell_type": "markdown",
   "metadata": {},
   "source": [
    "## Load of the data"
   ]
  },
  {
   "cell_type": "code",
   "execution_count": 2,
   "metadata": {},
   "outputs": [],
   "source": [
    "from process import loaddata\n",
    "regr_data = loaddata(\"../data/regression/100.csv\")\n",
    "class_data = loaddata(\"../data/classifier/100.csv\")"
   ]
  },
  {
   "cell_type": "code",
   "execution_count": 3,
   "metadata": {},
   "outputs": [],
   "source": [
    "np.random.shuffle(regr_data)\n",
    "y = regr_data[:,-3:]\n",
    "x = regr_data[:,:6]"
   ]
  },
  {
   "cell_type": "code",
   "execution_count": 4,
   "metadata": {},
   "outputs": [],
   "source": [
    "np.random.shuffle(class_data)\n",
    "yc = class_data[:,0]\n",
    "xc = class_data[:,1:]"
   ]
  },
  {
   "cell_type": "code",
   "execution_count": 5,
   "metadata": {},
   "outputs": [
    {
     "name": "stdout",
     "output_type": "stream",
     "text": [
      "Training sample: 46524 \n",
      "Valuation sample: 15508\n"
     ]
    }
   ],
   "source": [
    "train_split = 0.75\n",
    "train_limit = int(len(y)*train_split)\n",
    "print(\"Training sample: {0} \\nValuation sample: {1}\".format(train_limit, len(y)-train_limit))"
   ]
  },
  {
   "cell_type": "code",
   "execution_count": 6,
   "metadata": {},
   "outputs": [],
   "source": [
    "x_train = x[:train_limit]\n",
    "x_val = x[train_limit:]\n",
    "\n",
    "y_train = y[:train_limit]\n",
    "y_val = y[train_limit:]"
   ]
  },
  {
   "cell_type": "markdown",
   "metadata": {},
   "source": [
    "## Model Build"
   ]
  },
  {
   "cell_type": "code",
   "execution_count": 8,
   "metadata": {},
   "outputs": [],
   "source": [
    "from keras.models import Sequential\n",
    "from keras.layers.core import Dense\n",
    "import keras.backend as K\n",
    "from keras import optimizers\n",
    "from keras import models\n",
    "from keras import layers"
   ]
  },
  {
   "cell_type": "markdown",
   "metadata": {},
   "source": [
    "## !! \n",
    "The dropout 0.2 seems to work better"
   ]
  },
  {
   "cell_type": "code",
   "execution_count": 94,
   "metadata": {},
   "outputs": [],
   "source": [
    "def build_model() :\n",
    "    model = models.Sequential()\n",
    "    model.add (layers.Dense (12, kernel_initializer= \"normal\" , input_shape = x.shape))\n",
    "    model.add (layers.Dropout(0.4))\n",
    "    model.add (layers.Dense (32, activation = \"relu\"))\n",
    "    model.add (layers.Dropout(0.4))\n",
    "    model.add (layers.Dense (64, activation = \"relu\"))\n",
    "    model.add (layers.Dropout(0.4))\n",
    "    model.add (layers.Dense (64, activation = \"relu\"))\n",
    "    model.add (layers.Dropout(0.4))\n",
    "    model.add (layers.Dense (64, activation = \"relu\"))\n",
    "    model.add (layers.Dropout(0.4))\n",
    "    model.add (layers.Dense (32, activation = \"relu\"))\n",
    "    model.add (layers.Dropout(0.4))\n",
    "    model.add (layers.Dense (12, activation = \"relu\"))\n",
    "    model.add (layers.Dense (3))\n",
    "    model.compile(optimizer = \"rmsprop\" , loss = \"mse\" , metrics =[\"mae\"])\n",
    "    return model"
   ]
  },
  {
   "cell_type": "code",
   "execution_count": 105,
   "metadata": {},
   "outputs": [
    {
     "name": "stdout",
     "output_type": "stream",
     "text": [
      "Epoch 1/20\n",
      "WARNING:tensorflow:Model was constructed with shape (None, 62032, 6) for input KerasTensor(type_spec=TensorSpec(shape=(None, 62032, 6), dtype=tf.float32, name='dense_71_input'), name='dense_71_input', description=\"created by layer 'dense_71_input'\"), but it was called on an input with incompatible shape (None, 6).\n",
      "WARNING:tensorflow:Model was constructed with shape (None, 62032, 6) for input KerasTensor(type_spec=TensorSpec(shape=(None, 62032, 6), dtype=tf.float32, name='dense_71_input'), name='dense_71_input', description=\"created by layer 'dense_71_input'\"), but it was called on an input with incompatible shape (None, 6).\n",
      "2325/2327 [============================>.] - ETA: 0s - loss: 0.0013 - mae: 0.0295WARNING:tensorflow:Model was constructed with shape (None, 62032, 6) for input KerasTensor(type_spec=TensorSpec(shape=(None, 62032, 6), dtype=tf.float32, name='dense_71_input'), name='dense_71_input', description=\"created by layer 'dense_71_input'\"), but it was called on an input with incompatible shape (None, 6).\n",
      "2327/2327 [==============================] - 6s 2ms/step - loss: 0.0013 - mae: 0.0295 - val_loss: 0.0013 - val_mae: 0.0297\n",
      "Epoch 2/20\n",
      "2327/2327 [==============================] - 4s 2ms/step - loss: 0.0011 - mae: 0.0271 - val_loss: 0.0011 - val_mae: 0.0276\n",
      "Epoch 3/20\n",
      "2327/2327 [==============================] - 4s 2ms/step - loss: 0.0011 - mae: 0.0265 - val_loss: 0.0012 - val_mae: 0.0279\n",
      "Epoch 4/20\n",
      "2327/2327 [==============================] - 4s 2ms/step - loss: 0.0011 - mae: 0.0261 - val_loss: 0.0011 - val_mae: 0.0266\n",
      "Epoch 5/20\n",
      "2327/2327 [==============================] - 4s 2ms/step - loss: 0.0010 - mae: 0.0260 - val_loss: 0.0012 - val_mae: 0.0289\n",
      "Epoch 6/20\n",
      "2327/2327 [==============================] - 4s 2ms/step - loss: 0.0010 - mae: 0.0260 - val_loss: 0.0011 - val_mae: 0.0268\n",
      "Epoch 7/20\n",
      "2327/2327 [==============================] - 4s 2ms/step - loss: 0.0010 - mae: 0.0255 - val_loss: 0.0012 - val_mae: 0.0281\n",
      "Epoch 8/20\n",
      "2327/2327 [==============================] - 4s 2ms/step - loss: 0.0010 - mae: 0.0254 - val_loss: 7.7025e-04 - val_mae: 0.0215\n",
      "Epoch 9/20\n",
      "2327/2327 [==============================] - 4s 2ms/step - loss: 8.6780e-04 - mae: 0.0232 - val_loss: 8.1550e-04 - val_mae: 0.0224\n",
      "Epoch 10/20\n",
      "2327/2327 [==============================] - 4s 2ms/step - loss: 8.0962e-04 - mae: 0.0223 - val_loss: 7.6986e-04 - val_mae: 0.0216\n",
      "Epoch 11/20\n",
      "2327/2327 [==============================] - 4s 2ms/step - loss: 7.6794e-04 - mae: 0.0217 - val_loss: 6.4938e-04 - val_mae: 0.0194\n",
      "Epoch 12/20\n",
      "2327/2327 [==============================] - 4s 2ms/step - loss: 7.4169e-04 - mae: 0.0212 - val_loss: 7.0839e-04 - val_mae: 0.0205\n",
      "Epoch 13/20\n",
      "2327/2327 [==============================] - 4s 2ms/step - loss: 7.3064e-04 - mae: 0.0210 - val_loss: 8.1300e-04 - val_mae: 0.0225\n",
      "Epoch 14/20\n",
      "2327/2327 [==============================] - 4s 2ms/step - loss: 7.2308e-04 - mae: 0.0208 - val_loss: 7.2445e-04 - val_mae: 0.0211\n",
      "Epoch 15/20\n",
      "2327/2327 [==============================] - 4s 2ms/step - loss: 7.1534e-04 - mae: 0.0207 - val_loss: 7.2536e-04 - val_mae: 0.0206\n",
      "Epoch 16/20\n",
      "2327/2327 [==============================] - 4s 2ms/step - loss: 7.0607e-04 - mae: 0.0205 - val_loss: 6.9707e-04 - val_mae: 0.0202\n",
      "Epoch 17/20\n",
      "2327/2327 [==============================] - 4s 2ms/step - loss: 7.0283e-04 - mae: 0.0204 - val_loss: 6.8705e-04 - val_mae: 0.0199\n",
      "Epoch 18/20\n",
      "2327/2327 [==============================] - 4s 2ms/step - loss: 7.0044e-04 - mae: 0.0203 - val_loss: 7.0844e-04 - val_mae: 0.0202\n",
      "Epoch 19/20\n",
      "2327/2327 [==============================] - 4s 2ms/step - loss: 6.9747e-04 - mae: 0.0203 - val_loss: 6.7714e-04 - val_mae: 0.0194\n",
      "Epoch 20/20\n",
      "2327/2327 [==============================] - 4s 2ms/step - loss: 6.9889e-04 - mae: 0.0203 - val_loss: 6.7049e-04 - val_mae: 0.0197\n"
     ]
    }
   ],
   "source": [
    "model = build_model ()\n",
    "history = model.fit ( x_train, y_train, epochs = 20, batch_size = 20, validation_data = (x_val, y_val) )\n",
    "model.save(\"../models/regression/large_mse.h5\")"
   ]
  },
  {
   "cell_type": "code",
   "execution_count": 106,
   "metadata": {},
   "outputs": [
    {
     "data": {
      "image/png": "[encoded data removed]",
      "text/plain": [
       "<Figure size 432x288 with 1 Axes>"
      ]
     },
     "metadata": {
      "needs_background": "light"
     },
     "output_type": "display_data"
    }
   ],
   "source": [
    "loss = history.history['loss']\n",
    "val_loss = history.history['val_loss']\n",
    "\n",
    "epochs = range(1, len(loss) + 1)\n",
    "\n",
    "plt.plot(epochs, loss, 'bo', label='Training loss')\n",
    "plt.plot(epochs, val_loss, 'b', label='Validation loss')\n",
    "plt.title('Training and validation loss')\n",
    "plt.xlabel('Epochs')\n",
    "plt.ylabel('Loss')\n",
    "plt.legend()\n",
    "\n",
    "plt.show()"
   ]
  },
  {
   "cell_type": "markdown",
   "metadata": {},
   "source": [
    "## Test spectrum"
   ]
  },
  {
   "cell_type": "code",
   "execution_count": 7,
   "metadata": {},
   "outputs": [],
   "source": [
    "from tensorflow import keras\n",
    "model_regr = keras.models.load_model('../models/regression/large_mse.h5')\n",
    "model_class = keras.models.load_model('../models/classifier/with-dropout-100.h5')"
   ]
  },
  {
   "cell_type": "code",
   "execution_count": 8,
   "metadata": {},
   "outputs": [
    {
     "name": "stdout",
     "output_type": "stream",
     "text": [
      "Model: \"sequential_9\"\n",
      "_________________________________________________________________\n",
      "Layer (type)                 Output Shape              Param #   \n",
      "=================================================================\n",
      "dense_71 (Dense)             (None, 62032, 12)         84        \n",
      "_________________________________________________________________\n",
      "dropout_53 (Dropout)         (None, 62032, 12)         0         \n",
      "_________________________________________________________________\n",
      "dense_72 (Dense)             (None, 62032, 32)         416       \n",
      "_________________________________________________________________\n",
      "dropout_54 (Dropout)         (None, 62032, 32)         0         \n",
      "_________________________________________________________________\n",
      "dense_73 (Dense)             (None, 62032, 64)         2112      \n",
      "_________________________________________________________________\n",
      "dropout_55 (Dropout)         (None, 62032, 64)         0         \n",
      "_________________________________________________________________\n",
      "dense_74 (Dense)             (None, 62032, 64)         4160      \n",
      "_________________________________________________________________\n",
      "dropout_56 (Dropout)         (None, 62032, 64)         0         \n",
      "_________________________________________________________________\n",
      "dense_75 (Dense)             (None, 62032, 64)         4160      \n",
      "_________________________________________________________________\n",
      "dropout_57 (Dropout)         (None, 62032, 64)         0         \n",
      "_________________________________________________________________\n",
      "dense_76 (Dense)             (None, 62032, 32)         2080      \n",
      "_________________________________________________________________\n",
      "dropout_58 (Dropout)         (None, 62032, 32)         0         \n",
      "_________________________________________________________________\n",
      "dense_77 (Dense)             (None, 62032, 12)         396       \n",
      "_________________________________________________________________\n",
      "dense_78 (Dense)             (None, 62032, 3)          39        \n",
      "=================================================================\n",
      "Total params: 13,447\n",
      "Trainable params: 13,447\n",
      "Non-trainable params: 0\n",
      "_________________________________________________________________\n",
      "Model: \"sequential_4\"\n",
      "_________________________________________________________________\n",
      "Layer (type)                 Output Shape              Param #   \n",
      "=================================================================\n",
      "dense_12 (Dense)             (None, 124064, 16)        176       \n",
      "_________________________________________________________________\n",
      "dropout_4 (Dropout)          (None, 124064, 16)        0         \n",
      "_________________________________________________________________\n",
      "dense_13 (Dense)             (None, 124064, 16)        272       \n",
      "_________________________________________________________________\n",
      "dropout_5 (Dropout)          (None, 124064, 16)        0         \n",
      "_________________________________________________________________\n",
      "dense_14 (Dense)             (None, 124064, 1)         17        \n",
      "=================================================================\n",
      "Total params: 465\n",
      "Trainable params: 465\n",
      "Non-trainable params: 0\n",
      "_________________________________________________________________\n"
     ]
    }
   ],
   "source": [
    "model_regr.summary()\n",
    "model_class.summary()"
   ]
  },
  {
   "cell_type": "code",
   "execution_count": 9,
   "metadata": {},
   "outputs": [],
   "source": [
    "def energy_spectrum(energy_array, bins):\n",
    "    energy_array = np.array(energy_array)\n",
    "    plt.hist(energy_array, bins, histtype=u'step', density=True)\n",
    "    plt.yscale(\"log\")\n",
    "    plt.show()"
   ]
  },
  {
   "cell_type": "code",
   "execution_count": 10,
   "metadata": {},
   "outputs": [],
   "source": [
    "final_p = []\n",
    "final_e = []\n",
    "\n",
    "for regr_pair in regr_data:\n",
    "    final_e.append(np.linalg.norm(regr_pair[10:13]))\n",
    "    final_p.append(np.linalg.norm(regr_pair[13:16]))"
   ]
  },
  {
   "cell_type": "code",
   "execution_count": 17,
   "metadata": {},
   "outputs": [
    {
     "name": "stderr",
     "output_type": "stream",
     "text": [
      "[================================================================] 100% of 2000\n"
     ]
    }
   ],
   "source": [
    "from tensorflow import keras \n",
    "photon_final_nn = []\n",
    "threshold = 0.5\n",
    "num = 2000\n",
    "#int(0.05*len(xc))\n",
    "bar = progressbar.ProgressBar(maxval=num, \n",
    "                              widgets=[progressbar.Bar('=', '[', ']'), ' ', \n",
    "                                       progressbar.Percentage(), \n",
    "                                       \" of {0}\".format(num)])\n",
    "bar.start()\n",
    "for i, x_ in enumerate(xc[:num]):\n",
    "    x_ = np.array([x_])\n",
    "    classification = model_class.predict(np.stack(x_))\n",
    "    if classification >= threshold:\n",
    "        regr_x = np.array([x_[0,:6]])\n",
    "        regr_result = model_regr.predict(regr_x)\n",
    "        photon_final_nn.append(np.linalg.norm(regr_result[0]))\n",
    "    bar.update(i+1)\n",
    "bar.finish()"
   ]
  },
  {
   "cell_type": "code",
   "execution_count": 18,
   "metadata": {
    "scrolled": true
   },
   "outputs": [
    {
     "data": {
      "image/png": "[encoded data removed]",
      "text/plain": [
       "<Figure size 432x288 with 1 Axes>"
      ]
     },
     "metadata": {
      "needs_background": "light"
     },
     "output_type": "display_data"
    }
   ],
   "source": [
    "energy_spectrum(photon_final_nn, 75)"
   ]
  },
  {
   "cell_type": "code",
   "execution_count": 19,
   "metadata": {},
   "outputs": [
    {
     "data": {
      "image/png": "[encoded data removed]",
      "text/plain": [
       "<Figure size 432x288 with 1 Axes>"
      ]
     },
     "metadata": {
      "needs_background": "light"
     },
     "output_type": "display_data"
    }
   ],
   "source": [
    "plt.hist(photon_final_nn, 10, alpha=0.5, label='NN prediction', density = True)\n",
    "plt.hist(final_p, 100, alpha=0.5, label='Photon Momentum from simulations', density = True)\n",
    "plt.xlabel('Photon Momentum')\n",
    "plt.ylabel('count')\n",
    "plt.legend(loc='upper right')\n",
    "#plt.xlim((0, 0.25))\n",
    "#plt.ylim((0, 1000))\n",
    "plt.show()"
   ]
  },
  {
   "cell_type": "code",
   "execution_count": 20,
   "metadata": {},
   "outputs": [
    {
     "name": "stderr",
     "output_type": "stream",
     "text": [
      "/home/linuxbrew/.linuxbrew/opt/python/lib/python3.7/site-packages/ipykernel_launcher.py:5: UserWarning: Matplotlib is currently using module://ipykernel.pylab.backend_inline, which is a non-GUI backend, so cannot show the figure.\n",
      "  \"\"\"\n"
     ]
    },
    {
     "data": {
      "image/png": "[encoded data removed]",
      "text/plain": [
       "<Figure size 432x288 with 2 Axes>"
      ]
     },
     "metadata": {
      "needs_background": "light"
     },
     "output_type": "display_data"
    }
   ],
   "source": [
    "fig, axs = plt.subplots(2, sharex = True)\n",
    "fig.suptitle('Vertically stacked subplots')\n",
    "axs[0].hist(photon_final_nn, 100, alpha=0.5, label='NN prediction', density = True)\n",
    "axs[1].hist(final_p, 1000, alpha=0.5, label='Photon Momentum from simulations', density = True)\n",
    "fig.show()"
   ]
  },
  {
   "cell_type": "code",
   "execution_count": null,
   "metadata": {},
   "outputs": [],
   "source": []
  },
  {
   "cell_type": "code",
   "execution_count": null,
   "metadata": {},
   "outputs": [],
   "source": []
  }
 ],
 "metadata": {
  "kernelspec": {
   "display_name": "Python 3",
   "language": "python",
   "name": "python3"
  },
  "language_info": {
   "codemirror_mode": {
    "name": "ipython",
    "version": 3
   },
   "file_extension": ".py",
   "mimetype": "text/x-python",
   "name": "python",
   "nbconvert_exporter": "python",
   "pygments_lexer": "ipython3",
   "version": "3.7.7"
  }
 },
 "nbformat": 4,
 "nbformat_minor": 4
}
