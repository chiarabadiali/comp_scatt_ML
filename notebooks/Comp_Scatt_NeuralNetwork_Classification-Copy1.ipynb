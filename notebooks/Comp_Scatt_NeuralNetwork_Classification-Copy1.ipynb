{
 "cells": [
  {
   "cell_type": "code",
   "execution_count": 1,
   "metadata": {},
   "outputs": [
    {
     "name": "stdout",
     "output_type": "stream",
     "text": [
      "1.2.3\n"
     ]
    }
   ],
   "source": [
    "import pandas as pd \n",
    "import numpy as np\n",
    "import math\n",
    "import keras\n",
    "import tensorflow as tf\n",
    "print(pd.__version__)\n",
    "import progressbar\n",
    "import os\n",
    "from os import listdir"
   ]
  },
  {
   "cell_type": "markdown",
   "metadata": {},
   "source": [
    "## Print Dependencies\n",
    "\n",
    "\n",
    "\n",
    "Dependences are fundamental to record the computational environment."
   ]
  },
  {
   "cell_type": "code",
   "execution_count": 2,
   "metadata": {},
   "outputs": [
    {
     "name": "stdout",
     "output_type": "stream",
     "text": [
      "Python implementation: CPython\n",
      "Python version       : 3.8.5\n",
      "IPython version      : 7.21.0\n",
      "\n",
      "pandas    : 1.2.3\n",
      "keras     : 2.4.3\n",
      "numpy     : 1.19.5\n",
      "math      : unknown\n",
      "tensorflow: 2.4.1\n",
      "matplotlib: 3.3.4\n",
      "h5py      : 2.10.0\n",
      "\n",
      "Compiler    : GCC 9.3.0\n",
      "OS          : Linux\n",
      "Release     : 5.8.0-48-generic\n",
      "Machine     : x86_64\n",
      "Processor   : x86_64\n",
      "CPU cores   : 8\n",
      "Architecture: 64bit\n",
      "\n",
      " \n",
      "Last updated: Sat Mar 27 2021 10:21:24CET\n",
      "\n"
     ]
    }
   ],
   "source": [
    "%load_ext watermark\n",
    "\n",
    "# python, ipython, packages, and machine characteristics\n",
    "%watermark -v -m -p pandas,keras,numpy,math,tensorflow,matplotlib,h5py\n",
    "\n",
    "# date\n",
    "print (\" \")\n",
    "%watermark -u -n -t -z"
   ]
  },
  {
   "cell_type": "markdown",
   "metadata": {},
   "source": [
    "## Load of the data\n",
    "\n",
    "   You can also load all of them! Writing \"all_data\""
   ]
  },
  {
   "cell_type": "code",
   "execution_count": 12,
   "metadata": {},
   "outputs": [],
   "source": [
    "from process import loaddata\n",
    "class_data = loaddata(\"../data/{}.csv\".format('probability'))"
   ]
  },
  {
   "cell_type": "code",
   "execution_count": 17,
   "metadata": {},
   "outputs": [],
   "source": [
    "np.random.shuffle(class_data)\n",
    "y = class_data[:,0]\n",
    "x = class_data[:,1:13]"
   ]
  },
  {
   "cell_type": "code",
   "execution_count": 18,
   "metadata": {},
   "outputs": [
    {
     "data": {
      "text/plain": [
       "(4790000, 12)"
      ]
     },
     "execution_count": 18,
     "metadata": {},
     "output_type": "execute_result"
    }
   ],
   "source": [
    "x.shape"
   ]
  },
  {
   "cell_type": "code",
   "execution_count": 19,
   "metadata": {},
   "outputs": [
    {
     "data": {
      "text/plain": [
       "array([0., 0., 0., 0., 0., 0., 0., 0., 0., 0., 0., 0., 0., 0.])"
      ]
     },
     "execution_count": 19,
     "metadata": {},
     "output_type": "execute_result"
    }
   ],
   "source": [
    "class_data[0]"
   ]
  },
  {
   "cell_type": "code",
   "execution_count": 20,
   "metadata": {},
   "outputs": [
    {
     "name": "stdout",
     "output_type": "stream",
     "text": [
      "Training sample: 3592500 \n",
      "Valuation sample: 1197500\n"
     ]
    }
   ],
   "source": [
    "train_split = 0.75\n",
    "train_limit = int(len(y)*train_split)\n",
    "print(\"Training sample: {0} \\nValuation sample: {1}\".format(train_limit, len(y)-train_limit))"
   ]
  },
  {
   "cell_type": "code",
   "execution_count": 21,
   "metadata": {},
   "outputs": [],
   "source": [
    "x_train = x[:train_limit]\n",
    "x_val = x[train_limit:]\n",
    "\n",
    "y_train = y[:train_limit]\n",
    "y_val = y[train_limit:]"
   ]
  },
  {
   "cell_type": "markdown",
   "metadata": {},
   "source": [
    "## Model Build"
   ]
  },
  {
   "cell_type": "code",
   "execution_count": 22,
   "metadata": {},
   "outputs": [],
   "source": [
    "from keras.models import Sequential\n",
    "from keras.layers.core import Dense\n",
    "import keras.backend as K\n",
    "from keras import optimizers\n",
    "from keras import models\n",
    "from keras import layers\n",
    "from keras.layers.normalization import BatchNormalization"
   ]
  },
  {
   "cell_type": "code",
   "execution_count": 23,
   "metadata": {},
   "outputs": [],
   "source": [
    "def build_model() :\n",
    "    model = models.Sequential()\n",
    "    model.add (BatchNormalization(input_dim = 12))\n",
    "    model.add (layers.Dense (16 , activation = \"relu\" , input_dim = 12))\n",
    "    model.add (layers.Dense (16, activation = \"relu\"))\n",
    "    model.add (layers.Dense (1 , activation = \"sigmoid\"))\n",
    "    model.compile(optimizer = \"adam\" , loss = \"mse\" , metrics =[\"mae\"])\n",
    "    return model"
   ]
  },
  {
   "cell_type": "code",
   "execution_count": 24,
   "metadata": {},
   "outputs": [
    {
     "name": "stdout",
     "output_type": "stream",
     "text": [
      "Epoch 1/100\n",
      "360/360 [==============================] - 2s 5ms/step - loss: 0.1059 - mae: 0.2677 - val_loss: 0.0022 - val_mae: 0.0272\n",
      "Epoch 2/100\n",
      "360/360 [==============================] - 1s 4ms/step - loss: 0.0019 - mae: 0.0222 - val_loss: 0.0014 - val_mae: 0.0154\n",
      "Epoch 3/100\n",
      "360/360 [==============================] - 1s 4ms/step - loss: 0.0013 - mae: 0.0143 - val_loss: 9.3012e-04 - val_mae: 0.0114\n",
      "Epoch 4/100\n",
      "360/360 [==============================] - 1s 4ms/step - loss: 8.3327e-04 - mae: 0.0107 - val_loss: 5.0185e-04 - val_mae: 0.0085\n",
      "Epoch 5/100\n",
      "360/360 [==============================] - 1s 4ms/step - loss: 4.4167e-04 - mae: 0.0080 - val_loss: 3.0045e-04 - val_mae: 0.0065\n",
      "Epoch 6/100\n",
      "360/360 [==============================] - 1s 4ms/step - loss: 2.8426e-04 - mae: 0.0062 - val_loss: 2.3088e-04 - val_mae: 0.0052\n",
      "Epoch 7/100\n",
      "360/360 [==============================] - 1s 4ms/step - loss: 2.2717e-04 - mae: 0.0050 - val_loss: 1.9202e-04 - val_mae: 0.0044\n",
      "Epoch 8/100\n",
      "360/360 [==============================] - 1s 4ms/step - loss: 1.8697e-04 - mae: 0.0042 - val_loss: 1.6304e-04 - val_mae: 0.0038\n",
      "Epoch 9/100\n",
      "360/360 [==============================] - 2s 4ms/step - loss: 1.5996e-04 - mae: 0.0037 - val_loss: 1.4067e-04 - val_mae: 0.0033\n",
      "Epoch 10/100\n",
      "360/360 [==============================] - 1s 4ms/step - loss: 1.3918e-04 - mae: 0.0032 - val_loss: 1.2409e-04 - val_mae: 0.0030\n",
      "Epoch 11/100\n",
      "360/360 [==============================] - 1s 4ms/step - loss: 1.2323e-04 - mae: 0.0029 - val_loss: 1.1080e-04 - val_mae: 0.0026\n",
      "Epoch 12/100\n",
      "360/360 [==============================] - 1s 4ms/step - loss: 1.0974e-04 - mae: 0.0026 - val_loss: 1.0159e-04 - val_mae: 0.0024\n",
      "Epoch 13/100\n",
      "360/360 [==============================] - 1s 4ms/step - loss: 1.0158e-04 - mae: 0.0024 - val_loss: 9.4498e-05 - val_mae: 0.0022\n",
      "Epoch 14/100\n",
      "360/360 [==============================] - 1s 4ms/step - loss: 9.6899e-05 - mae: 0.0022 - val_loss: 8.9962e-05 - val_mae: 0.0020\n",
      "Epoch 15/100\n",
      "360/360 [==============================] - 1s 4ms/step - loss: 9.1187e-05 - mae: 0.0020 - val_loss: 8.7852e-05 - val_mae: 0.0020\n",
      "Epoch 16/100\n",
      "360/360 [==============================] - 1s 4ms/step - loss: 8.9961e-05 - mae: 0.0020 - val_loss: 8.4856e-05 - val_mae: 0.0019\n",
      "Epoch 17/100\n",
      "360/360 [==============================] - 3s 7ms/step - loss: 8.8318e-05 - mae: 0.0019 - val_loss: 8.3843e-05 - val_mae: 0.0018\n",
      "Epoch 18/100\n",
      "360/360 [==============================] - 1s 4ms/step - loss: 8.6206e-05 - mae: 0.0018 - val_loss: 8.3137e-05 - val_mae: 0.0018\n",
      "Epoch 19/100\n",
      "360/360 [==============================] - 1s 4ms/step - loss: 8.4518e-05 - mae: 0.0018 - val_loss: 8.1669e-05 - val_mae: 0.0017\n",
      "Epoch 20/100\n",
      "360/360 [==============================] - 1s 4ms/step - loss: 8.3897e-05 - mae: 0.0017 - val_loss: 8.2695e-05 - val_mae: 0.0017\n",
      "Epoch 21/100\n",
      "360/360 [==============================] - 1s 4ms/step - loss: 8.2485e-05 - mae: 0.0017 - val_loss: 8.0298e-05 - val_mae: 0.0016\n",
      "Epoch 22/100\n",
      "360/360 [==============================] - 1s 4ms/step - loss: 8.1402e-05 - mae: 0.0017 - val_loss: 8.0067e-05 - val_mae: 0.0016\n",
      "Epoch 23/100\n",
      "360/360 [==============================] - 1s 4ms/step - loss: 8.0330e-05 - mae: 0.0016 - val_loss: 8.0682e-05 - val_mae: 0.0016\n",
      "Epoch 24/100\n",
      "360/360 [==============================] - 2s 4ms/step - loss: 8.1185e-05 - mae: 0.0016 - val_loss: 7.8255e-05 - val_mae: 0.0015\n",
      "Epoch 25/100\n",
      "360/360 [==============================] - 2s 5ms/step - loss: 8.0292e-05 - mae: 0.0016 - val_loss: 7.7813e-05 - val_mae: 0.0015\n",
      "Epoch 26/100\n",
      "360/360 [==============================] - 1s 4ms/step - loss: 7.8260e-05 - mae: 0.0015 - val_loss: 7.7789e-05 - val_mae: 0.0015\n",
      "Epoch 27/100\n",
      "360/360 [==============================] - 1s 4ms/step - loss: 7.9019e-05 - mae: 0.0015 - val_loss: 7.7879e-05 - val_mae: 0.0015\n",
      "Epoch 28/100\n",
      "360/360 [==============================] - 1s 4ms/step - loss: 7.8109e-05 - mae: 0.0015 - val_loss: 7.6648e-05 - val_mae: 0.0015\n",
      "Epoch 29/100\n",
      "360/360 [==============================] - 1s 4ms/step - loss: 7.8749e-05 - mae: 0.0015 - val_loss: 7.6552e-05 - val_mae: 0.0015\n",
      "Epoch 30/100\n",
      "360/360 [==============================] - 1s 4ms/step - loss: 7.8450e-05 - mae: 0.0015 - val_loss: 7.6187e-05 - val_mae: 0.0014\n",
      "Epoch 31/100\n",
      "360/360 [==============================] - 1s 4ms/step - loss: 7.8329e-05 - mae: 0.0015 - val_loss: 7.5650e-05 - val_mae: 0.0014\n",
      "Epoch 32/100\n",
      "360/360 [==============================] - 1s 4ms/step - loss: 7.6863e-05 - mae: 0.0014 - val_loss: 7.6441e-05 - val_mae: 0.0014\n",
      "Epoch 33/100\n",
      "360/360 [==============================] - 2s 5ms/step - loss: 7.7240e-05 - mae: 0.0014 - val_loss: 7.6503e-05 - val_mae: 0.0014\n",
      "Epoch 34/100\n",
      "360/360 [==============================] - 2s 6ms/step - loss: 7.7855e-05 - mae: 0.0014 - val_loss: 7.4958e-05 - val_mae: 0.0014\n",
      "Epoch 35/100\n",
      "360/360 [==============================] - 2s 5ms/step - loss: 7.6282e-05 - mae: 0.0014 - val_loss: 7.4792e-05 - val_mae: 0.0014\n",
      "Epoch 36/100\n",
      "360/360 [==============================] - 1s 4ms/step - loss: 7.6073e-05 - mae: 0.0014 - val_loss: 7.5063e-05 - val_mae: 0.0014\n",
      "Epoch 37/100\n",
      "360/360 [==============================] - 1s 4ms/step - loss: 7.6319e-05 - mae: 0.0014 - val_loss: 7.6041e-05 - val_mae: 0.0014\n",
      "Epoch 38/100\n",
      "360/360 [==============================] - 1s 4ms/step - loss: 7.5388e-05 - mae: 0.0014 - val_loss: 7.3737e-05 - val_mae: 0.0014\n",
      "Epoch 39/100\n",
      "360/360 [==============================] - 1s 4ms/step - loss: 7.4003e-05 - mae: 0.0014 - val_loss: 7.3448e-05 - val_mae: 0.0014\n",
      "Epoch 40/100\n",
      "360/360 [==============================] - 1s 4ms/step - loss: 7.5374e-05 - mae: 0.0014 - val_loss: 7.3180e-05 - val_mae: 0.0014\n",
      "Epoch 41/100\n",
      "360/360 [==============================] - 1s 4ms/step - loss: 7.4294e-05 - mae: 0.0014 - val_loss: 7.2688e-05 - val_mae: 0.0014\n",
      "Epoch 42/100\n",
      "360/360 [==============================] - 1s 4ms/step - loss: 7.2987e-05 - mae: 0.0014 - val_loss: 7.2553e-05 - val_mae: 0.0014\n",
      "Epoch 43/100\n",
      "360/360 [==============================] - 2s 4ms/step - loss: 7.4280e-05 - mae: 0.0014 - val_loss: 7.0959e-05 - val_mae: 0.0013\n",
      "Epoch 44/100\n",
      "360/360 [==============================] - 3s 7ms/step - loss: 7.1324e-05 - mae: 0.0014 - val_loss: 6.9865e-05 - val_mae: 0.0013\n",
      "Epoch 45/100\n",
      "360/360 [==============================] - 1s 4ms/step - loss: 7.0339e-05 - mae: 0.0013 - val_loss: 6.8828e-05 - val_mae: 0.0013\n",
      "Epoch 46/100\n",
      "360/360 [==============================] - 1s 4ms/step - loss: 6.8949e-05 - mae: 0.0013 - val_loss: 6.7630e-05 - val_mae: 0.0013\n",
      "Epoch 47/100\n",
      "360/360 [==============================] - 1s 4ms/step - loss: 6.9246e-05 - mae: 0.0013 - val_loss: 6.7502e-05 - val_mae: 0.0013\n",
      "Epoch 48/100\n",
      "360/360 [==============================] - 1s 4ms/step - loss: 6.8444e-05 - mae: 0.0013 - val_loss: 6.7436e-05 - val_mae: 0.0013\n",
      "Epoch 49/100\n",
      "360/360 [==============================] - 1s 4ms/step - loss: 6.7830e-05 - mae: 0.0013 - val_loss: 6.7556e-05 - val_mae: 0.0013\n",
      "Epoch 50/100\n",
      "360/360 [==============================] - 1s 4ms/step - loss: 6.7927e-05 - mae: 0.0013 - val_loss: 6.6306e-05 - val_mae: 0.0013\n",
      "Epoch 51/100\n",
      "360/360 [==============================] - 1s 4ms/step - loss: 6.8005e-05 - mae: 0.0013 - val_loss: 6.6147e-05 - val_mae: 0.0013\n",
      "Epoch 52/100\n",
      "360/360 [==============================] - 1s 4ms/step - loss: 6.7605e-05 - mae: 0.0013 - val_loss: 6.6785e-05 - val_mae: 0.0013\n",
      "Epoch 53/100\n",
      "360/360 [==============================] - 2s 5ms/step - loss: 6.6981e-05 - mae: 0.0013 - val_loss: 6.9713e-05 - val_mae: 0.0013\n",
      "Epoch 54/100\n",
      "360/360 [==============================] - 1s 4ms/step - loss: 6.6759e-05 - mae: 0.0013 - val_loss: 6.6593e-05 - val_mae: 0.0013\n",
      "Epoch 55/100\n",
      "360/360 [==============================] - 1s 4ms/step - loss: 6.5015e-05 - mae: 0.0013 - val_loss: 6.5459e-05 - val_mae: 0.0012\n",
      "Epoch 56/100\n",
      "360/360 [==============================] - 1s 4ms/step - loss: 6.6188e-05 - mae: 0.0012 - val_loss: 6.6726e-05 - val_mae: 0.0013\n",
      "Epoch 57/100\n",
      "360/360 [==============================] - 1s 4ms/step - loss: 6.5924e-05 - mae: 0.0012 - val_loss: 6.4810e-05 - val_mae: 0.0012\n",
      "Epoch 58/100\n",
      "360/360 [==============================] - 1s 4ms/step - loss: 6.4738e-05 - mae: 0.0012 - val_loss: 6.4723e-05 - val_mae: 0.0012\n"
     ]
    },
    {
     "name": "stdout",
     "output_type": "stream",
     "text": [
      "Epoch 59/100\n",
      "360/360 [==============================] - 3s 9ms/step - loss: 6.3443e-05 - mae: 0.0012 - val_loss: 6.2532e-05 - val_mae: 0.0012\n",
      "Epoch 60/100\n",
      "360/360 [==============================] - 1s 4ms/step - loss: 6.3559e-05 - mae: 0.0012 - val_loss: 6.2080e-05 - val_mae: 0.0011\n",
      "Epoch 61/100\n",
      "360/360 [==============================] - 2s 4ms/step - loss: 6.2725e-05 - mae: 0.0012 - val_loss: 6.1457e-05 - val_mae: 0.0012\n",
      "Epoch 62/100\n",
      "360/360 [==============================] - 1s 4ms/step - loss: 6.2379e-05 - mae: 0.0012 - val_loss: 6.1717e-05 - val_mae: 0.0011\n",
      "Epoch 63/100\n",
      "360/360 [==============================] - 4s 11ms/step - loss: 6.1383e-05 - mae: 0.0012 - val_loss: 6.0587e-05 - val_mae: 0.0012\n",
      "Epoch 64/100\n",
      "360/360 [==============================] - 3s 8ms/step - loss: 6.1377e-05 - mae: 0.0012 - val_loss: 6.0558e-05 - val_mae: 0.0011\n",
      "Epoch 65/100\n",
      "360/360 [==============================] - 1s 4ms/step - loss: 6.0997e-05 - mae: 0.0011 - val_loss: 6.0642e-05 - val_mae: 0.0011\n",
      "Epoch 66/100\n",
      "360/360 [==============================] - 1s 4ms/step - loss: 6.1903e-05 - mae: 0.0011 - val_loss: 6.0265e-05 - val_mae: 0.0011\n",
      "Epoch 67/100\n",
      "360/360 [==============================] - 2s 4ms/step - loss: 5.9962e-05 - mae: 0.0011 - val_loss: 5.9968e-05 - val_mae: 0.0012\n",
      "Epoch 68/100\n",
      "360/360 [==============================] - 2s 5ms/step - loss: 6.0213e-05 - mae: 0.0011 - val_loss: 5.9976e-05 - val_mae: 0.0011\n",
      "Epoch 69/100\n",
      "360/360 [==============================] - 1s 4ms/step - loss: 6.0169e-05 - mae: 0.0011 - val_loss: 5.9703e-05 - val_mae: 0.0011\n",
      "Epoch 70/100\n",
      "360/360 [==============================] - 1s 4ms/step - loss: 6.0624e-05 - mae: 0.0011 - val_loss: 5.9885e-05 - val_mae: 0.0011\n",
      "Epoch 71/100\n",
      "360/360 [==============================] - 1s 4ms/step - loss: 6.0796e-05 - mae: 0.0011 - val_loss: 6.0961e-05 - val_mae: 0.0011\n",
      "Epoch 72/100\n",
      "360/360 [==============================] - 1s 4ms/step - loss: 6.0674e-05 - mae: 0.0011 - val_loss: 5.9583e-05 - val_mae: 0.0011\n",
      "Epoch 73/100\n",
      "360/360 [==============================] - 1s 4ms/step - loss: 5.9924e-05 - mae: 0.0011 - val_loss: 5.9654e-05 - val_mae: 0.0011\n",
      "Epoch 74/100\n",
      "360/360 [==============================] - 1s 4ms/step - loss: 6.0561e-05 - mae: 0.0011 - val_loss: 5.9980e-05 - val_mae: 0.0012\n",
      "Epoch 75/100\n",
      "360/360 [==============================] - 1s 3ms/step - loss: 6.0248e-05 - mae: 0.0011 - val_loss: 5.9198e-05 - val_mae: 0.0011\n",
      "Epoch 76/100\n",
      "360/360 [==============================] - 1s 4ms/step - loss: 5.8897e-05 - mae: 0.0011 - val_loss: 5.9465e-05 - val_mae: 0.0011\n",
      "Epoch 77/100\n",
      "360/360 [==============================] - 2s 4ms/step - loss: 5.9655e-05 - mae: 0.0011 - val_loss: 5.9879e-05 - val_mae: 0.0011\n",
      "Epoch 78/100\n",
      "360/360 [==============================] - 1s 4ms/step - loss: 6.0366e-05 - mae: 0.0011 - val_loss: 5.8938e-05 - val_mae: 0.0011\n",
      "Epoch 79/100\n",
      "360/360 [==============================] - 7s 19ms/step - loss: 5.9752e-05 - mae: 0.0011 - val_loss: 5.9144e-05 - val_mae: 0.0010\n",
      "Epoch 80/100\n",
      "360/360 [==============================] - 2s 5ms/step - loss: 5.8629e-05 - mae: 0.0011 - val_loss: 5.8036e-05 - val_mae: 0.0011\n",
      "Epoch 81/100\n",
      "360/360 [==============================] - 2s 6ms/step - loss: 5.8139e-05 - mae: 0.0011 - val_loss: 5.7506e-05 - val_mae: 0.0011\n",
      "Epoch 82/100\n",
      "360/360 [==============================] - 2s 4ms/step - loss: 5.7725e-05 - mae: 0.0011 - val_loss: 5.8140e-05 - val_mae: 0.0011\n",
      "Epoch 83/100\n",
      "360/360 [==============================] - 1s 4ms/step - loss: 5.8098e-05 - mae: 0.0011 - val_loss: 5.7431e-05 - val_mae: 0.0011\n",
      "Epoch 84/100\n",
      "360/360 [==============================] - 1s 4ms/step - loss: 5.7862e-05 - mae: 0.0011 - val_loss: 5.7426e-05 - val_mae: 0.0010\n",
      "Epoch 85/100\n",
      "360/360 [==============================] - 1s 4ms/step - loss: 5.8025e-05 - mae: 0.0011 - val_loss: 5.8428e-05 - val_mae: 0.0011\n",
      "Epoch 86/100\n",
      "360/360 [==============================] - 1s 4ms/step - loss: 5.8419e-05 - mae: 0.0011 - val_loss: 5.7419e-05 - val_mae: 0.0011\n",
      "Epoch 87/100\n",
      "360/360 [==============================] - 1s 3ms/step - loss: 5.7912e-05 - mae: 0.0011 - val_loss: 5.7495e-05 - val_mae: 0.0010\n",
      "Epoch 88/100\n",
      "360/360 [==============================] - 1s 3ms/step - loss: 5.8013e-05 - mae: 0.0011 - val_loss: 5.7287e-05 - val_mae: 0.0010\n",
      "Epoch 89/100\n",
      "360/360 [==============================] - 1s 4ms/step - loss: 5.8199e-05 - mae: 0.0011 - val_loss: 5.7978e-05 - val_mae: 0.0011\n",
      "Epoch 90/100\n",
      "360/360 [==============================] - 1s 4ms/step - loss: 5.6809e-05 - mae: 0.0011 - val_loss: 5.7481e-05 - val_mae: 0.0011\n",
      "Epoch 91/100\n",
      "360/360 [==============================] - 1s 4ms/step - loss: 5.7853e-05 - mae: 0.0011 - val_loss: 5.7294e-05 - val_mae: 0.0011\n",
      "Epoch 92/100\n",
      "360/360 [==============================] - 1s 4ms/step - loss: 5.7676e-05 - mae: 0.0011 - val_loss: 5.7426e-05 - val_mae: 0.0011\n",
      "Epoch 93/100\n",
      "360/360 [==============================] - 1s 4ms/step - loss: 5.7126e-05 - mae: 0.0011 - val_loss: 5.7282e-05 - val_mae: 0.0011\n",
      "Epoch 94/100\n",
      "360/360 [==============================] - 1s 3ms/step - loss: 5.8302e-05 - mae: 0.0011 - val_loss: 5.6994e-05 - val_mae: 0.0011\n",
      "Epoch 95/100\n",
      "360/360 [==============================] - 1s 4ms/step - loss: 5.7621e-05 - mae: 0.0011 - val_loss: 5.7077e-05 - val_mae: 0.0011\n",
      "Epoch 96/100\n",
      "360/360 [==============================] - 2s 7ms/step - loss: 5.7337e-05 - mae: 0.0011 - val_loss: 5.8103e-05 - val_mae: 0.0011\n",
      "Epoch 97/100\n",
      "360/360 [==============================] - 1s 3ms/step - loss: 5.7195e-05 - mae: 0.0011 - val_loss: 5.6877e-05 - val_mae: 0.0011\n",
      "Epoch 98/100\n",
      "360/360 [==============================] - 1s 4ms/step - loss: 5.7398e-05 - mae: 0.0011 - val_loss: 5.6903e-05 - val_mae: 0.0011\n",
      "Epoch 99/100\n",
      "360/360 [==============================] - 1s 4ms/step - loss: 5.8253e-05 - mae: 0.0011 - val_loss: 5.6824e-05 - val_mae: 0.0010\n",
      "Epoch 100/100\n",
      "360/360 [==============================] - 1s 3ms/step - loss: 5.8409e-05 - mae: 0.0011 - val_loss: 5.6863e-05 - val_mae: 0.0010\n"
     ]
    }
   ],
   "source": [
    "model = build_model ()\n",
    "history = model.fit ( x_train, y_train, epochs = 100, batch_size = 10000 , validation_data = (x_val, y_val) )\n",
    "model.save(\"../models/classifier/{}_nodropout.h5\".format('probability'))"
   ]
  },
  {
   "cell_type": "code",
   "execution_count": 25,
   "metadata": {},
   "outputs": [
    {
     "name": "stdout",
     "output_type": "stream",
     "text": [
      "Model: \"sequential_1\"\n",
      "_________________________________________________________________\n",
      "Layer (type)                 Output Shape              Param #   \n",
      "=================================================================\n",
      "batch_normalization_1 (Batch (None, 12)                48        \n",
      "_________________________________________________________________\n",
      "dense_3 (Dense)              (None, 16)                208       \n",
      "_________________________________________________________________\n",
      "dense_4 (Dense)              (None, 16)                272       \n",
      "_________________________________________________________________\n",
      "dense_5 (Dense)              (None, 1)                 17        \n",
      "=================================================================\n",
      "Total params: 545\n",
      "Trainable params: 521\n",
      "Non-trainable params: 24\n",
      "_________________________________________________________________\n"
     ]
    }
   ],
   "source": [
    "model.summary()"
   ]
  },
  {
   "cell_type": "markdown",
   "metadata": {},
   "source": [
    "## Adding Dropout\n",
    "\n",
    "Dropout is one of the most effective and most commonly used regularization techniques for neural networks, developed by Geoff Hinton and his students at the University of Toronto. Dropout, applied to a layer, consists of randomly dropping out (setting to zero) a number of output features of the layer during training. Let’s say a\n",
    "given layer would normally return a vector [0.2, 0.5, 1.3, 0.8, 1.1] for a given input sample during training. After applying dropout, this vector will have a few zero entries distributed at random: for example, [0, 0.5, 1.3, 0, 1.1]. The dropout rate is the fraction of the features that are zeroed out; it’s usually set between 0.2 and 0.5. At test time, no units are dropped out; instead, the layer’s output values are scaled down by a factor equal to the dropout rate, to balance for the fact that more units are active than at training time.\n",
    "\n",
    "##### [From Deep Learning with Python, Chollet]"
   ]
  },
  {
   "cell_type": "code",
   "execution_count": 27,
   "metadata": {},
   "outputs": [
    {
     "name": "stderr",
     "output_type": "stream",
     "text": [
      "<ipython-input-27-ea34e6e63f4a>:29: UserWarning: Matplotlib is currently using module://ipykernel.pylab.backend_inline, which is a non-GUI backend, so cannot show the figure.\n",
      "  fig.show()\n"
     ]
    },
    {
     "data": {
      "image/png": "[encoded data removed]",
      "text/plain": [
       "<Figure size 432x288 with 2 Axes>"
      ]
     },
     "metadata": {
      "needs_background": "light"
     },
     "output_type": "display_data"
    }
   ],
   "source": [
    "import matplotlib.pyplot as plt\n",
    "\n",
    "loss = history.history['loss']\n",
    "val_loss = history.history['val_loss']\n",
    "\n",
    "accuracy = history.history['mae']\n",
    "val_accuracy = history.history['val_mae']\n",
    "\n",
    "\n",
    "epochs = range(1, len(loss) + 1)\n",
    "fig, ax1 = plt.subplots()\n",
    "\n",
    "l1 = ax1.plot(epochs, loss, 'bo', label='Training loss')\n",
    "vl1 = ax1.plot(epochs, val_loss, 'b', label='Validation loss')\n",
    "ax1.set_title('Training and validation loss')\n",
    "ax1.set_xlabel('Epochs')\n",
    "ax1.set_ylabel('Loss (mse))')\n",
    "\n",
    "ax2 = ax1.twinx()\n",
    "ac2= ax2.plot(epochs, accuracy, 'o', c=\"red\", label='Training acc')\n",
    "vac2= ax2.plot(epochs, val_accuracy, 'r', label='Validation acc')\n",
    "ax2.set_ylabel('mae')\n",
    "\n",
    "lns = l1 + vl1 + ac2 + vac2\n",
    "labs = [l.get_label() for l in lns]\n",
    "ax2.legend(lns, labs, loc=\"center right\")\n",
    "fig.tight_layout()\n",
    "fig.savefig(\"acc+loss_drop.pdf\")\n",
    "fig.show()"
   ]
  },
  {
   "cell_type": "code",
   "execution_count": 28,
   "metadata": {
    "scrolled": true
   },
   "outputs": [
    {
     "data": {
      "image/png": "[encoded data removed]",
      "text/plain": [
       "<Figure size 432x288 with 1 Axes>"
      ]
     },
     "metadata": {
      "needs_background": "light"
     },
     "output_type": "display_data"
    }
   ],
   "source": [
    "plt.clf()   # clear figure\n",
    "\n",
    "accuracy = history.history['mae']\n",
    "val_accuracy = history.history['val_mae']\n",
    "\n",
    "plt.plot(epochs, accuracy, 'bo', label='Training acc')\n",
    "plt.plot(epochs, val_accuracy, 'b', label='Validation acc')\n",
    "plt.title('Training and validation accuracy')\n",
    "plt.xlabel('Epochs')\n",
    "plt.ylabel('Loss')\n",
    "plt.legend()\n",
    "\n",
    "plt.show()"
   ]
  },
  {
   "cell_type": "markdown",
   "metadata": {},
   "source": [
    "## Probability density distribution"
   ]
  },
  {
   "cell_type": "code",
   "execution_count": 33,
   "metadata": {},
   "outputs": [
    {
     "data": {
      "text/plain": [
       "array([0., 0., 0., ..., 0., 0., 0.])"
      ]
     },
     "execution_count": 33,
     "metadata": {},
     "output_type": "execute_result"
    }
   ],
   "source": [
    "y"
   ]
  },
  {
   "cell_type": "code",
   "execution_count": 34,
   "metadata": {},
   "outputs": [],
   "source": [
    "y_pred = model.predict(x)"
   ]
  },
  {
   "cell_type": "code",
   "execution_count": 35,
   "metadata": {},
   "outputs": [
    {
     "data": {
      "text/plain": [
       "array([[3.673896e-05],\n",
       "       [3.673896e-05],\n",
       "       [3.673896e-05],\n",
       "       ...,\n",
       "       [3.673896e-05],\n",
       "       [3.673896e-05],\n",
       "       [3.673896e-05]], dtype=float32)"
      ]
     },
     "execution_count": 35,
     "metadata": {},
     "output_type": "execute_result"
    }
   ],
   "source": [
    "y_pred"
   ]
  },
  {
   "cell_type": "code",
   "execution_count": null,
   "metadata": {},
   "outputs": [],
   "source": []
  }
 ],
 "metadata": {
  "kernelspec": {
   "display_name": "Python 3",
   "language": "python",
   "name": "python3"
  },
  "language_info": {
   "codemirror_mode": {
    "name": "ipython",
    "version": 3
   },
   "file_extension": ".py",
   "mimetype": "text/x-python",
   "name": "python",
   "nbconvert_exporter": "python",
   "pygments_lexer": "ipython3",
   "version": "3.8.5"
  }
 },
 "nbformat": 4,
 "nbformat_minor": 4
}
