{
 "cells": [
  {
   "cell_type": "code",
   "execution_count": 1,
   "metadata": {},
   "outputs": [
    {
     "name": "stdout",
     "output_type": "stream",
     "text": [
      "1.2.0\n"
     ]
    }
   ],
   "source": [
    "import pandas as pd \n",
    "import numpy as np\n",
    "import math\n",
    "import tensorflow as tf\n",
    "print(pd.__version__)\n",
    "import matplotlib.pyplot as plt\n",
    "import progressbar\n",
    "import scipy"
   ]
  },
  {
   "cell_type": "markdown",
   "metadata": {},
   "source": [
    "## Print Dependencies\n",
    "\n",
    "\n",
    "\n",
    "Dependences are fundamental to record the computational environment."
   ]
  },
  {
   "cell_type": "code",
   "execution_count": 2,
   "metadata": {},
   "outputs": [
    {
     "name": "stdout",
     "output_type": "stream",
     "text": [
      "Python implementation: CPython\n",
      "Python version       : 3.7.7\n",
      "IPython version      : 7.19.0\n",
      "\n",
      "pandas     : 1.2.0\n",
      "keras      : 2.4.3\n",
      "numpy      : 1.19.5\n",
      "math       : unknown\n",
      "tensorflow : 2.4.0\n",
      "matplotlib : 3.3.3\n",
      "h5py       : 2.10.0\n",
      "progressbar: 2.5\n",
      "scipy      : 1.6.0\n",
      "\n",
      "Compiler    : GCC 5.4.0 20160609\n",
      "OS          : Linux\n",
      "Release     : 5.8.0-40-generic\n",
      "Machine     : x86_64\n",
      "Processor   : x86_64\n",
      "CPU cores   : 8\n",
      "Architecture: 64bit\n",
      "\n",
      " \n",
      "Last updated: Fri Jan 29 2021 10:40:25CET\n",
      "\n"
     ]
    }
   ],
   "source": [
    "%load_ext watermark\n",
    "\n",
    "# python, ipython, packages, and machine characteristics\n",
    "%watermark -v -m -p pandas,keras,numpy,math,tensorflow,matplotlib,h5py,progressbar,scipy\n",
    "\n",
    "# date\n",
    "print (\" \")\n",
    "%watermark -u -n -t -z"
   ]
  },
  {
   "cell_type": "markdown",
   "metadata": {},
   "source": [
    "## Load of the data"
   ]
  },
  {
   "cell_type": "code",
   "execution_count": 3,
   "metadata": {},
   "outputs": [],
   "source": [
    "from process import loaddata\n",
    "class_data = loaddata(\"../data/classifier/250.csv\")"
   ]
  },
  {
   "cell_type": "code",
   "execution_count": 4,
   "metadata": {},
   "outputs": [],
   "source": [
    "np.random.shuffle(class_data)\n",
    "y = class_data[:,-7:-4]\n",
    "x = class_data[:,1:7]"
   ]
  },
  {
   "cell_type": "code",
   "execution_count": 5,
   "metadata": {},
   "outputs": [
    {
     "data": {
      "text/plain": [
       "array([-0.00553876,  0.09539253, -0.10516088, -0.02484936,  0.00353553,\n",
       "        0.01921132])"
      ]
     },
     "execution_count": 5,
     "metadata": {},
     "output_type": "execute_result"
    }
   ],
   "source": [
    "class_data[0,1:7]"
   ]
  },
  {
   "cell_type": "code",
   "execution_count": 6,
   "metadata": {},
   "outputs": [
    {
     "data": {
      "text/plain": [
       "array([ 0.00000000e+00, -5.53876115e-03,  9.53925326e-02, -1.05160877e-01,\n",
       "       -2.48493645e-02,  3.53552727e-03,  1.92113202e-02,  3.49143028e+00,\n",
       "        3.91582394e+00,  3.49970198e+00,  3.99048734e+00])"
      ]
     },
     "execution_count": 6,
     "metadata": {},
     "output_type": "execute_result"
    }
   ],
   "source": [
    "class_data[0]"
   ]
  },
  {
   "cell_type": "code",
   "execution_count": 7,
   "metadata": {},
   "outputs": [
    {
     "name": "stdout",
     "output_type": "stream",
     "text": [
      "[[1 2 3]\n",
      " [6 7 8]]\n"
     ]
    }
   ],
   "source": [
    "import numpy as np\n",
    "\n",
    "arr = np.array([[1, 2, 3, 4, 5, 8, 14], [6, 7, 8, 9, 10, 8, 8]])\n",
    "\n",
    "prova = arr[:,-7:-4]\n",
    "print(prova)"
   ]
  },
  {
   "cell_type": "code",
   "execution_count": 8,
   "metadata": {},
   "outputs": [
    {
     "name": "stdout",
     "output_type": "stream",
     "text": [
      "Training sample: 250828 \n",
      "Valuation sample: 83610\n"
     ]
    }
   ],
   "source": [
    "train_split = 0.75\n",
    "train_limit = int(len(y)*train_split)\n",
    "print(\"Training sample: {0} \\nValuation sample: {1}\".format(train_limit, len(y)-train_limit))"
   ]
  },
  {
   "cell_type": "code",
   "execution_count": 9,
   "metadata": {},
   "outputs": [],
   "source": [
    "x_train = x[:train_limit]\n",
    "x_val = x[train_limit:]\n",
    "\n",
    "y_train = y[:train_limit]\n",
    "y_val = y[train_limit:]"
   ]
  },
  {
   "cell_type": "markdown",
   "metadata": {},
   "source": [
    "## Model Build"
   ]
  },
  {
   "cell_type": "code",
   "execution_count": 10,
   "metadata": {},
   "outputs": [],
   "source": [
    "from keras.models import Sequential\n",
    "from keras.layers.core import Dense\n",
    "import keras.backend as K\n",
    "from keras import optimizers\n",
    "from keras import models\n",
    "from keras import layers\n",
    "from keras import regularizers"
   ]
  },
  {
   "cell_type": "markdown",
   "metadata": {},
   "source": [
    "## !! \n",
    "The dropout 0.2 seems to work better"
   ]
  },
  {
   "cell_type": "code",
   "execution_count": 13,
   "metadata": {},
   "outputs": [],
   "source": [
    "def build_model() :\n",
    "    model = models.Sequential()\n",
    "    model.add (layers.Dense (6, kernel_initializer= \"normal\" , input_shape = x.shape))\n",
    "    model.add (layers.Dense (12, activation = \"relu\"))\n",
    "    model.add (layers.Dense (32, activation = \"relu\"))\n",
    "    model.add (layers.Dense (64, activation = \"relu\"))\n",
    "    model.add (layers.Dense (128, activation = \"relu\"))\n",
    "    model.add (layers.Dense (128, activation = \"relu\"))\n",
    "    model.add (layers.Dense (64, activation = \"relu\"))\n",
    "    model.add (layers.Dense (32, activation = \"relu\"))\n",
    "    model.add (layers.Dense (12, activation = \"relu\"))\n",
    "    model.add (layers.Dense (6, activation = \"relu\"))\n",
    "    model.add (layers.Dense (3))\n",
    "    model.compile(optimizer = \"rmsprop\" , loss = \"mse\" , metrics =[\"mae\"])\n",
    "    return model"
   ]
  },
  {
   "cell_type": "code",
   "execution_count": 14,
   "metadata": {},
   "outputs": [
    {
     "name": "stdout",
     "output_type": "stream",
     "text": [
      "Epoch 1/20\n",
      "WARNING:tensorflow:Model was constructed with shape (None, 334438, 6) for input KerasTensor(type_spec=TensorSpec(shape=(None, 334438, 6), dtype=tf.float32, name='dense_11_input'), name='dense_11_input', description=\"created by layer 'dense_11_input'\"), but it was called on an input with incompatible shape (None, 6).\n",
      "WARNING:tensorflow:Model was constructed with shape (None, 334438, 6) for input KerasTensor(type_spec=TensorSpec(shape=(None, 334438, 6), dtype=tf.float32, name='dense_11_input'), name='dense_11_input', description=\"created by layer 'dense_11_input'\"), but it was called on an input with incompatible shape (None, 6).\n",
      "1654/1673 [============================>.] - ETA: 0s - loss: 7.7046e-04 - mae: 0.0211WARNING:tensorflow:Model was constructed with shape (None, 334438, 6) for input KerasTensor(type_spec=TensorSpec(shape=(None, 334438, 6), dtype=tf.float32, name='dense_11_input'), name='dense_11_input', description=\"created by layer 'dense_11_input'\"), but it was called on an input with incompatible shape (None, 6).\n",
      "1673/1673 [==============================] - 5s 3ms/step - loss: 7.6593e-04 - mae: 0.0210 - val_loss: 1.3337e-04 - val_mae: 0.0099\n",
      "Epoch 2/20\n",
      "1673/1673 [==============================] - 4s 3ms/step - loss: 6.7005e-05 - mae: 0.0067 - val_loss: 5.4370e-05 - val_mae: 0.0064\n",
      "Epoch 3/20\n",
      "1673/1673 [==============================] - 4s 3ms/step - loss: 4.1667e-05 - mae: 0.0053 - val_loss: 4.8035e-05 - val_mae: 0.0051\n",
      "Epoch 4/20\n",
      "1673/1673 [==============================] - 4s 3ms/step - loss: 3.1350e-05 - mae: 0.0046 - val_loss: 3.4577e-05 - val_mae: 0.0042\n",
      "Epoch 5/20\n",
      "1673/1673 [==============================] - 4s 3ms/step - loss: 2.5651e-05 - mae: 0.0042 - val_loss: 2.2344e-05 - val_mae: 0.0042\n",
      "Epoch 6/20\n",
      "1673/1673 [==============================] - 5s 3ms/step - loss: 2.1776e-05 - mae: 0.0039 - val_loss: 1.2301e-05 - val_mae: 0.0030\n",
      "Epoch 7/20\n",
      "1673/1673 [==============================] - 5s 3ms/step - loss: 1.8950e-05 - mae: 0.0036 - val_loss: 1.4017e-05 - val_mae: 0.0031\n",
      "Epoch 8/20\n",
      "1673/1673 [==============================] - 5s 3ms/step - loss: 1.7104e-05 - mae: 0.0035 - val_loss: 1.5178e-05 - val_mae: 0.0032\n",
      "Epoch 9/20\n",
      "1673/1673 [==============================] - 4s 3ms/step - loss: 1.5559e-05 - mae: 0.0033 - val_loss: 1.3492e-05 - val_mae: 0.0032\n",
      "Epoch 10/20\n",
      "1673/1673 [==============================] - 4s 3ms/step - loss: 1.4393e-05 - mae: 0.0031 - val_loss: 1.2790e-05 - val_mae: 0.0030\n",
      "Epoch 11/20\n",
      "1673/1673 [==============================] - 4s 3ms/step - loss: 1.3235e-05 - mae: 0.0030 - val_loss: 7.6679e-06 - val_mae: 0.0020\n",
      "Epoch 12/20\n",
      "1673/1673 [==============================] - 5s 3ms/step - loss: 1.2361e-05 - mae: 0.0029 - val_loss: 1.4849e-05 - val_mae: 0.0035\n",
      "Epoch 13/20\n",
      "1673/1673 [==============================] - 4s 3ms/step - loss: 1.1696e-05 - mae: 0.0029 - val_loss: 1.7645e-05 - val_mae: 0.0035\n",
      "Epoch 14/20\n",
      "1673/1673 [==============================] - 4s 3ms/step - loss: 1.1133e-05 - mae: 0.0028 - val_loss: 8.9476e-06 - val_mae: 0.0024\n",
      "Epoch 15/20\n",
      "1673/1673 [==============================] - 4s 2ms/step - loss: 1.0567e-05 - mae: 0.0027 - val_loss: 2.0416e-05 - val_mae: 0.0042\n",
      "Epoch 16/20\n",
      "1673/1673 [==============================] - 4s 3ms/step - loss: 1.0031e-05 - mae: 0.0026 - val_loss: 4.7774e-06 - val_mae: 0.0018\n",
      "Epoch 17/20\n",
      "1673/1673 [==============================] - 4s 3ms/step - loss: 9.6471e-06 - mae: 0.0026 - val_loss: 1.5160e-05 - val_mae: 0.0032\n",
      "Epoch 18/20\n",
      "1673/1673 [==============================] - 4s 2ms/step - loss: 9.2901e-06 - mae: 0.0025 - val_loss: 7.4269e-06 - val_mae: 0.0022\n",
      "Epoch 19/20\n",
      "1673/1673 [==============================] - 5s 3ms/step - loss: 8.9205e-06 - mae: 0.0025 - val_loss: 1.0259e-05 - val_mae: 0.0025\n",
      "Epoch 20/20\n",
      "1673/1673 [==============================] - 4s 3ms/step - loss: 8.6146e-06 - mae: 0.0025 - val_loss: 4.8293e-06 - val_mae: 0.0018\n"
     ]
    }
   ],
   "source": [
    "model = build_model ()\n",
    "history = model.fit ( x_train, y_train, epochs = 20, batch_size = 150, validation_data = (x_val, y_val) )\n",
    "model.save(\"../models/classificationandregression/large_mse250.h5\")"
   ]
  },
  {
   "cell_type": "code",
   "execution_count": 15,
   "metadata": {},
   "outputs": [
    {
     "data": {
      "image/png": "[encoded data removed]",
      "text/plain": [
       "<Figure size 432x288 with 1 Axes>"
      ]
     },
     "metadata": {
      "needs_background": "light"
     },
     "output_type": "display_data"
    }
   ],
   "source": [
    "loss = history.history['loss']\n",
    "val_loss = history.history['val_loss']\n",
    "\n",
    "epochs = range(1, len(loss) + 1)\n",
    "\n",
    "plt.plot(epochs, loss, 'bo', label='Training loss')\n",
    "plt.plot(epochs, val_loss, 'b', label='Validation loss')\n",
    "plt.title('Training and validation loss')\n",
    "plt.xlabel('Epochs')\n",
    "plt.ylabel('Loss')\n",
    "plt.legend()\n",
    "\n",
    "plt.show()"
   ]
  },
  {
   "cell_type": "markdown",
   "metadata": {},
   "source": [
    "## Test spectrum"
   ]
  },
  {
   "cell_type": "code",
   "execution_count": 10,
   "metadata": {},
   "outputs": [],
   "source": [
    "from tensorflow import keras\n",
    "model = keras.models.load_model('../models/classificationandregression/large_mse250.h5')"
   ]
  },
  {
   "cell_type": "code",
   "execution_count": 11,
   "metadata": {},
   "outputs": [
    {
     "name": "stdout",
     "output_type": "stream",
     "text": [
      "Model: \"sequential_1\"\n",
      "_________________________________________________________________\n",
      "Layer (type)                 Output Shape              Param #   \n",
      "=================================================================\n",
      "dense_11 (Dense)             (None, 334438, 6)         42        \n",
      "_________________________________________________________________\n",
      "dense_12 (Dense)             (None, 334438, 12)        84        \n",
      "_________________________________________________________________\n",
      "dense_13 (Dense)             (None, 334438, 32)        416       \n",
      "_________________________________________________________________\n",
      "dense_14 (Dense)             (None, 334438, 64)        2112      \n",
      "_________________________________________________________________\n",
      "dense_15 (Dense)             (None, 334438, 128)       8320      \n",
      "_________________________________________________________________\n",
      "dense_16 (Dense)             (None, 334438, 128)       16512     \n",
      "_________________________________________________________________\n",
      "dense_17 (Dense)             (None, 334438, 64)        8256      \n",
      "_________________________________________________________________\n",
      "dense_18 (Dense)             (None, 334438, 32)        2080      \n",
      "_________________________________________________________________\n",
      "dense_19 (Dense)             (None, 334438, 12)        396       \n",
      "_________________________________________________________________\n",
      "dense_20 (Dense)             (None, 334438, 6)         78        \n",
      "_________________________________________________________________\n",
      "dense_21 (Dense)             (None, 334438, 3)         21        \n",
      "=================================================================\n",
      "Total params: 38,317\n",
      "Trainable params: 38,317\n",
      "Non-trainable params: 0\n",
      "_________________________________________________________________\n"
     ]
    }
   ],
   "source": [
    "model.summary()"
   ]
  },
  {
   "cell_type": "code",
   "execution_count": 12,
   "metadata": {},
   "outputs": [],
   "source": [
    "def energy_spectrum(energy_array, bins):\n",
    "    energy_array = np.array(energy_array)\n",
    "    plt.hist(energy_array, bins, histtype=u'step', density=True)\n",
    "    plt.yscale(\"log\")\n",
    "    plt.show()"
   ]
  },
  {
   "cell_type": "code",
   "execution_count": 13,
   "metadata": {},
   "outputs": [
    {
     "data": {
      "text/plain": [
       "array([[-0.02484936,  0.00353553,  0.01921132],\n",
       "       [-0.05770559, -0.01710601,  0.02479118],\n",
       "       [ 0.06150086, -0.00750244,  0.00858739],\n",
       "       ...,\n",
       "       [-0.04745105, -0.05962774,  0.00876584],\n",
       "       [ 0.02366559, -0.06995538,  0.06134294],\n",
       "       [-0.00780263, -0.00713971,  0.05044319]])"
      ]
     },
     "execution_count": 13,
     "metadata": {},
     "output_type": "execute_result"
    }
   ],
   "source": [
    "y"
   ]
  },
  {
   "cell_type": "code",
   "execution_count": 14,
   "metadata": {},
   "outputs": [
    {
     "name": "stdout",
     "output_type": "stream",
     "text": [
      "WARNING:tensorflow:Model was constructed with shape (None, 334438, 6) for input KerasTensor(type_spec=TensorSpec(shape=(None, 334438, 6), dtype=tf.float32, name='dense_11_input'), name='dense_11_input', description=\"created by layer 'dense_11_input'\"), but it was called on an input with incompatible shape (None, 6).\n"
     ]
    }
   ],
   "source": [
    "from tensorflow import keras \n",
    "photon_final_nn = []\n",
    "prediction = model.predict(x)"
   ]
  },
  {
   "cell_type": "code",
   "execution_count": 15,
   "metadata": {},
   "outputs": [
    {
     "name": "stdout",
     "output_type": "stream",
     "text": [
      "[-0.026687   -0.06024415  0.06004681 ... -0.05108548  0.02054405\n",
      " -0.00962742]\n",
      "[-0.02484936 -0.05770559  0.06150086 ... -0.04745105  0.02366559\n",
      " -0.00780263]\n"
     ]
    },
    {
     "data": {
      "image/png": "[encoded data removed]",
      "text/plain": [
       "<Figure size 432x288 with 1 Axes>"
      ]
     },
     "metadata": {
      "needs_background": "light"
     },
     "output_type": "display_data"
    }
   ],
   "source": [
    "p1e_nn = prediction[:,0] \n",
    "p1e = y[:,0]\n",
    "print(p1e_nn)\n",
    "print(p1e)\n",
    "plt.hist(p1e_nn, 60, alpha=0.5, label='NN prediction', density = True)\n",
    "plt.hist(p1e, 100, alpha=0.5, label='Photon Momentum from simulations', density = True)\n",
    "plt.xlabel('Electron momentum x-direction')\n",
    "plt.ylabel('count')\n",
    "plt.legend(loc='upper right')\n",
    "#plt.xlim((0, 0.25))\n",
    "plt.ylim((0, 12))\n",
    "plt.show()"
   ]
  },
  {
   "cell_type": "code",
   "execution_count": 16,
   "metadata": {},
   "outputs": [
    {
     "name": "stdout",
     "output_type": "stream",
     "text": [
      "[ 0.00475023 -0.01541983 -0.00564784 ... -0.05705804 -0.06718282\n",
      " -0.00663185]\n",
      "[ 0.00353553 -0.01710601 -0.00750244 ... -0.05962774 -0.06995538\n",
      " -0.00713971]\n"
     ]
    },
    {
     "data": {
      "image/png": "[encoded data removed]",
      "text/plain": [
       "<Figure size 432x288 with 1 Axes>"
      ]
     },
     "metadata": {
      "needs_background": "light"
     },
     "output_type": "display_data"
    }
   ],
   "source": [
    "p2e_nn = prediction[:,1] \n",
    "p2e = y[:,1]\n",
    "print(p2e_nn)\n",
    "print(p2e)\n",
    "plt.hist(p2e_nn, 60, alpha=0.5, label='NN prediction', density = True)\n",
    "plt.hist(p2e, 100, alpha=0.5, label='Photon Momentum from simulations', density = True)\n",
    "plt.xlabel('Electron momentum y-direction')\n",
    "plt.ylabel('count')\n",
    "plt.legend(loc='upper right')\n",
    "#plt.xlim((0, 0.25))\n",
    "plt.ylim((0, 12))\n",
    "plt.show()"
   ]
  },
  {
   "cell_type": "code",
   "execution_count": 17,
   "metadata": {},
   "outputs": [
    {
     "name": "stdout",
     "output_type": "stream",
     "text": [
      "[0.01883541 0.02386516 0.00856773 ... 0.00878276 0.05954797 0.04970929]\n",
      "[0.01921132 0.02479118 0.00858739 ... 0.00876584 0.06134294 0.05044319]\n"
     ]
    },
    {
     "data": {
      "image/png": "[encoded data removed]",
      "text/plain": [
       "<Figure size 432x288 with 1 Axes>"
      ]
     },
     "metadata": {
      "needs_background": "light"
     },
     "output_type": "display_data"
    }
   ],
   "source": [
    "p3e_nn = prediction[:,2] \n",
    "p3e = y[:,2]\n",
    "print(p3e_nn)\n",
    "print(p3e)\n",
    "plt.hist(p3e_nn, 100, alpha=0.5, label='NN prediction', density = True)\n",
    "plt.hist(p3e, 100, alpha=0.5, label='Photon Momentum from simulations', density = True)\n",
    "plt.xlabel('Electron momentum z-direction')\n",
    "plt.ylabel('count')\n",
    "plt.legend(loc='upper right')\n",
    "plt.ylim((0, 12))\n",
    "plt.show()"
   ]
  },
  {
   "cell_type": "code",
   "execution_count": 18,
   "metadata": {},
   "outputs": [
    {
     "name": "stderr",
     "output_type": "stream",
     "text": [
      "/home/linuxbrew/.linuxbrew/opt/python/lib/python3.7/site-packages/ipykernel_launcher.py:9: UserWarning: Matplotlib is currently using module://ipykernel.pylab.backend_inline, which is a non-GUI backend, so cannot show the figure.\n",
      "  if __name__ == '__main__':\n"
     ]
    },
    {
     "data": {
      "image/png": "[encoded data removed]",
      "text/plain": [
       "<Figure size 432x288 with 3 Axes>"
      ]
     },
     "metadata": {
      "needs_background": "light"
     },
     "output_type": "display_data"
    }
   ],
   "source": [
    "fig, axs = plt.subplots(3, sharex = True)\n",
    "fig.suptitle('3-momentum electrons post interaction')\n",
    "axs[0].hist(p1e_nn, 100, alpha=0.5, label='NN prediction', density = True)\n",
    "axs[0].hist(p1e, 100, alpha=0.5, label='NN prediction', density = True)\n",
    "axs[1].hist(p2e_nn, 100, alpha=0.5, label='Photon Momentum from simulations', density = True)\n",
    "axs[1].hist(p2e, 100, alpha=0.5, label='Photon Momentum from simulations', density = True)\n",
    "axs[2].hist(p3e_nn, 100, alpha=0.5, label='Photon Momentum from simulations', density = True)\n",
    "axs[2].hist(p3e, 100, alpha=0.5, label='Photon Momentum from simulations', density = True)\n",
    "fig.show()"
   ]
  },
  {
   "cell_type": "code",
   "execution_count": 19,
   "metadata": {},
   "outputs": [],
   "source": [
    "final_e = []\n",
    "final_e_nn = []\n",
    "for classi_ in class_data:\n",
    "    final_e.append(np.linalg.norm(classi_[-7:-4]))"
   ]
  },
  {
   "cell_type": "code",
   "execution_count": 20,
   "metadata": {},
   "outputs": [
    {
     "name": "stderr",
     "output_type": "stream",
     "text": [
      "[==============================================================] 100% of 334438\n"
     ]
    }
   ],
   "source": [
    "from tensorflow import keras \n",
    "final_e_nn = []\n",
    "threshold = 0.5\n",
    "num = int(1*len(x))\n",
    "bar = progressbar.ProgressBar(maxval=num, \n",
    "                              widgets=[progressbar.Bar('=', '[', ']'), ' ', \n",
    "                                       progressbar.Percentage(), \n",
    "                                       \" of {0}\".format(num)])\n",
    "bar.start()\n",
    "for pred in prediction:\n",
    "    final_e_nn.append(np.linalg.norm(pred))\n",
    "bar.finish()"
   ]
  },
  {
   "cell_type": "code",
   "execution_count": 21,
   "metadata": {},
   "outputs": [
    {
     "data": {
      "image/png": "[encoded data removed]",
      "text/plain": [
       "<Figure size 432x288 with 1 Axes>"
      ]
     },
     "metadata": {
      "needs_background": "light"
     },
     "output_type": "display_data"
    }
   ],
   "source": [
    "energy_spectrum(final_e, 75)"
   ]
  },
  {
   "cell_type": "code",
   "execution_count": 22,
   "metadata": {},
   "outputs": [
    {
     "data": {
      "image/png": "[encoded data removed]",
      "text/plain": [
       "<Figure size 432x288 with 1 Axes>"
      ]
     },
     "metadata": {
      "needs_background": "light"
     },
     "output_type": "display_data"
    }
   ],
   "source": [
    "energy_spectrum(final_e_nn, 75)"
   ]
  },
  {
   "cell_type": "code",
   "execution_count": 23,
   "metadata": {},
   "outputs": [
    {
     "data": {
      "image/png": "[encoded data removed]",
      "text/plain": [
       "<Figure size 432x288 with 1 Axes>"
      ]
     },
     "metadata": {
      "needs_background": "light"
     },
     "output_type": "display_data"
    }
   ],
   "source": [
    "from scipy.stats import norm\n",
    "import matplotlib.mlab as mlab\n",
    "import matplotlib.pyplot as plt\n",
    "import scipy.stats as stats\n",
    "from scipy.stats import chisquare\n",
    "\n",
    "mean,std=norm.fit(final_e)\n",
    "plt.hist(final_e, bins=100, alpha = 0.5, label='NN prediction', density = True)\n",
    "xmin, xmax = plt.xlim()\n",
    "x = np.linspace(xmin, xmax, 100)\n",
    "y = norm.pdf(x, mean, std)\n",
    "plt.plot(x, y,'r--', linewidth=2)\n",
    "plt.legend(loc='upper right')\n",
    "plt.show()"
   ]
  },
  {
   "cell_type": "code",
   "execution_count": 24,
   "metadata": {},
   "outputs": [
    {
     "name": "stdout",
     "output_type": "stream",
     "text": [
      "mean =  0.0648663518164201\n",
      "std =  0.020283482527066316\n",
      "chi square =  Power_divergenceResult(statistic=2121.19790220681, pvalue=1.0)\n"
     ]
    }
   ],
   "source": [
    "print('mean = ', mean)\n",
    "print('std = ', std)\n",
    "print(\"chi square = \", stats.chisquare(final_e))"
   ]
  },
  {
   "cell_type": "code",
   "execution_count": 25,
   "metadata": {},
   "outputs": [
    {
     "data": {
      "image/png": "[encoded data removed]",
      "text/plain": [
       "<Figure size 432x288 with 1 Axes>"
      ]
     },
     "metadata": {
      "needs_background": "light"
     },
     "output_type": "display_data"
    }
   ],
   "source": [
    "from scipy.stats import norm\n",
    "import matplotlib.mlab as mlab\n",
    "import matplotlib.pyplot as plt\n",
    "import scipy.stats as stats\n",
    "from scipy.stats import chisquare\n",
    "\n",
    "mean_nn,std_nn=norm.fit(final_e_nn)\n",
    "plt.hist(final_e_nn, bins=100, alpha = 0.5, label='NN prediction', density = True)\n",
    "xmin, xmax = plt.xlim()\n",
    "x = np.linspace(xmin, xmax, 100)\n",
    "y = norm.pdf(x, mean_nn, std_nn)\n",
    "plt.plot(x, y,'r--', linewidth=2)\n",
    "plt.legend(loc='upper right')\n",
    "plt.show()"
   ]
  },
  {
   "cell_type": "code",
   "execution_count": 26,
   "metadata": {},
   "outputs": [
    {
     "name": "stdout",
     "output_type": "stream",
     "text": [
      "mean =  0.06551932\n",
      "std =  0.020531954\n",
      "chi square =  Power_divergenceResult(statistic=2151.8242773200723, pvalue=1.0)\n"
     ]
    }
   ],
   "source": [
    "print('mean = ', mean_nn)\n",
    "print('std = ', std_nn)\n",
    "print(\"chi square = \", stats.chisquare(final_e_nn))"
   ]
  },
  {
   "cell_type": "code",
   "execution_count": 28,
   "metadata": {},
   "outputs": [
    {
     "data": {
      "image/png": "[encoded data removed]",
      "text/plain": [
       "<Figure size 432x288 with 1 Axes>"
      ]
     },
     "metadata": {
      "needs_background": "light"
     },
     "output_type": "display_data"
    }
   ],
   "source": [
    "plt.hist(final_e_nn, bins=100, alpha = 0.5, label='NN prediction', density = True)\n",
    "plt.hist(final_e, bins=100, alpha = 0.5, label='Electron Momentum from simulations', density = True)\n",
    "x_nn = np.linspace(xmin, xmax, 100)\n",
    "y_nn = norm.pdf(x_nn, mean_nn, std_nn)\n",
    "plt.plot(x_nn, y_nn,'r--', label = 'fit NN', linewidth = 2)\n",
    "plt.legend(loc='upper right')\n",
    "x_e = np.linspace(xmin, xmax, 100)\n",
    "y_e = norm.pdf(x_e, mean, std)\n",
    "plt.plot(x_e, y_e, 'g:', label = 'fit Electron Momentum Simulations', linewidth = 2)\n",
    "plt.legend(loc = 'upper right')\n",
    "plt.ylim((0, 30))\n",
    "plt.savefig('Fit_250train_250test.png')\n",
    "plt.show()"
   ]
  },
  {
   "cell_type": "code",
   "execution_count": null,
   "metadata": {},
   "outputs": [],
   "source": []
  }
 ],
 "metadata": {
  "kernelspec": {
   "display_name": "Python 3",
   "language": "python",
   "name": "python3"
  },
  "language_info": {
   "codemirror_mode": {
    "name": "ipython",
    "version": 3
   },
   "file_extension": ".py",
   "mimetype": "text/x-python",
   "name": "python",
   "nbconvert_exporter": "python",
   "pygments_lexer": "ipython3",
   "version": "3.7.7"
  }
 },
 "nbformat": 4,
 "nbformat_minor": 4
}
