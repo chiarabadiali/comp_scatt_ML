{
 "cells": [
  {
   "cell_type": "code",
   "execution_count": 1,
   "metadata": {},
   "outputs": [
    {
     "name": "stdout",
     "output_type": "stream",
     "text": [
      "1.2.0\n"
     ]
    }
   ],
   "source": [
    "import pandas as pd \n",
    "import numpy as np\n",
    "import math\n",
    "import tensorflow as tf\n",
    "print(pd.__version__)\n",
    "import matplotlib.pyplot as plt\n",
    "import progressbar\n",
    "import scipy"
   ]
  },
  {
   "cell_type": "markdown",
   "metadata": {},
   "source": [
    "## Print Dependencies\n",
    "\n",
    "\n",
    "\n",
    "Dependences are fundamental to record the computational environment."
   ]
  },
  {
   "cell_type": "code",
   "execution_count": 2,
   "metadata": {},
   "outputs": [
    {
     "name": "stdout",
     "output_type": "stream",
     "text": [
      "Python implementation: CPython\n",
      "Python version       : 3.8.7\n",
      "IPython version      : 7.18.1\n",
      "\n",
      "pandas     : 1.2.0\n",
      "keras      : 2.4.3\n",
      "numpy      : 1.19.5\n",
      "math       : unknown\n",
      "tensorflow : 2.4.0\n",
      "matplotlib : 3.3.3\n",
      "h5py       : 2.10.0\n",
      "progressbar: 2.5\n",
      "scipy      : 1.5.2\n",
      "\n",
      "Compiler    : Clang 12.0.0 (clang-1200.0.32.28)\n",
      "OS          : Darwin\n",
      "Release     : 20.2.0\n",
      "Machine     : x86_64\n",
      "Processor   : i386\n",
      "CPU cores   : 8\n",
      "Architecture: 64bit\n",
      "\n",
      " \n",
      "Last updated: Mon Feb 15 2021 18:32:30CET\n",
      "\n"
     ]
    }
   ],
   "source": [
    "%load_ext watermark\n",
    "\n",
    "# python, ipython, packages, and machine characteristics\n",
    "%watermark -v -m -p pandas,keras,numpy,math,tensorflow,matplotlib,h5py,progressbar,scipy\n",
    "\n",
    "# date\n",
    "print (\" \")\n",
    "%watermark -u -n -t -z"
   ]
  },
  {
   "cell_type": "markdown",
   "metadata": {},
   "source": [
    "## Load of the data"
   ]
  },
  {
   "cell_type": "code",
   "execution_count": 3,
   "metadata": {},
   "outputs": [],
   "source": [
    "from process import loaddata\n",
    "regr_data = loaddata(\"../data/regression/250.csv\")\n",
    "class_data = loaddata(\"../data/classifier/250.csv\")"
   ]
  },
  {
   "cell_type": "code",
   "execution_count": 4,
   "metadata": {},
   "outputs": [],
   "source": [
    "np.random.shuffle(regr_data)\n",
    "y = regr_data[:,-3:]\n",
    "x = regr_data[:,:6]"
   ]
  },
  {
   "cell_type": "code",
   "execution_count": 5,
   "metadata": {},
   "outputs": [],
   "source": [
    "np.random.shuffle(class_data)\n",
    "yc = class_data[:,0]\n",
    "xc = class_data[:,1:]"
   ]
  },
  {
   "cell_type": "code",
   "execution_count": 6,
   "metadata": {},
   "outputs": [
    {
     "name": "stdout",
     "output_type": "stream",
     "text": [
      "Training sample: 125414 \n",
      "Valuation sample: 41805\n"
     ]
    }
   ],
   "source": [
    "train_split = 0.75\n",
    "train_limit = int(len(y)*train_split)\n",
    "print(\"Training sample: {0} \\nValuation sample: {1}\".format(train_limit, len(y)-train_limit))"
   ]
  },
  {
   "cell_type": "code",
   "execution_count": 7,
   "metadata": {},
   "outputs": [],
   "source": [
    "x_train = x[:train_limit]\n",
    "x_val = x[train_limit:]\n",
    "\n",
    "y_train = y[:train_limit]\n",
    "y_val = y[train_limit:]"
   ]
  },
  {
   "cell_type": "markdown",
   "metadata": {},
   "source": [
    "## Model Build"
   ]
  },
  {
   "cell_type": "code",
   "execution_count": 8,
   "metadata": {},
   "outputs": [],
   "source": [
    "from keras.models import Sequential\n",
    "from keras.layers.core import Dense\n",
    "import keras.backend as K\n",
    "from keras import optimizers\n",
    "from keras import models\n",
    "from keras import layers\n",
    "from keras import regularizers"
   ]
  },
  {
   "cell_type": "markdown",
   "metadata": {},
   "source": [
    "## !! \n",
    "The dropout 0.2 seems to work better"
   ]
  },
  {
   "cell_type": "code",
   "execution_count": 9,
   "metadata": {},
   "outputs": [],
   "source": [
    "def build_model() :\n",
    "    model = models.Sequential()\n",
    "    model.add (layers.Dense (12, kernel_initializer= \"normal\" , input_shape = x.shape))\n",
    "    model.add (layers.Dense (32, activation = \"relu\"))\n",
    "    model.add (layers.Dense (64, activation = \"relu\"))\n",
    "    model.add (layers.Dense (128, activation = \"relu\"))\n",
    "    model.add (layers.Dense (128, activation = \"relu\"))\n",
    "    model.add (layers.Dense (64, activation = \"relu\"))\n",
    "    model.add (layers.Dense (32, activation = \"relu\"))\n",
    "    model.add (layers.Dense (12, activation = \"relu\"))\n",
    "    model.add (layers.Dense (3))\n",
    "    model.compile(optimizer = \"rmsprop\" , loss = \"mse\" , metrics =[\"mape\"])\n",
    "    return model"
   ]
  },
  {
   "cell_type": "code",
   "execution_count": 11,
   "metadata": {},
   "outputs": [
    {
     "name": "stdout",
     "output_type": "stream",
     "text": [
      "Epoch 1/20\n",
      "WARNING:tensorflow:Model was constructed with shape (None, 167219, 6) for input KerasTensor(type_spec=TensorSpec(shape=(None, 167219, 6), dtype=tf.float32, name='dense_9_input'), name='dense_9_input', description=\"created by layer 'dense_9_input'\"), but it was called on an input with incompatible shape (None, 6).\n",
      "WARNING:tensorflow:Model was constructed with shape (None, 167219, 6) for input KerasTensor(type_spec=TensorSpec(shape=(None, 167219, 6), dtype=tf.float32, name='dense_9_input'), name='dense_9_input', description=\"created by layer 'dense_9_input'\"), but it was called on an input with incompatible shape (None, 6).\n",
      "2509/2509 [==============================] - ETA: 0s - loss: 3.3021e-04 - mape: 180.9689WARNING:tensorflow:Model was constructed with shape (None, 167219, 6) for input KerasTensor(type_spec=TensorSpec(shape=(None, 167219, 6), dtype=tf.float32, name='dense_9_input'), name='dense_9_input', description=\"created by layer 'dense_9_input'\"), but it was called on an input with incompatible shape (None, 6).\n",
      "2509/2509 [==============================] - 7s 2ms/step - loss: 3.3013e-04 - mape: 180.9523 - val_loss: 2.7625e-05 - val_mape: 88.1075\n",
      "Epoch 2/20\n",
      "2509/2509 [==============================] - 6s 2ms/step - loss: 2.5775e-05 - mape: 78.6669 - val_loss: 4.2731e-05 - val_mape: 109.5413\n",
      "Epoch 3/20\n",
      "2509/2509 [==============================] - 5s 2ms/step - loss: 1.7518e-05 - mape: 70.7085 - val_loss: 2.1734e-05 - val_mape: 68.0876\n",
      "Epoch 4/20\n",
      "2509/2509 [==============================] - 6s 2ms/step - loss: 1.3996e-05 - mape: 62.7267 - val_loss: 5.5324e-06 - val_mape: 34.9234\n",
      "Epoch 5/20\n",
      "2509/2509 [==============================] - 5s 2ms/step - loss: 1.1909e-05 - mape: 62.3423 - val_loss: 5.9192e-06 - val_mape: 34.3578\n",
      "Epoch 6/20\n",
      "2509/2509 [==============================] - 5s 2ms/step - loss: 1.0522e-05 - mape: 59.5063 - val_loss: 1.7262e-05 - val_mape: 67.6448\n",
      "Epoch 7/20\n",
      "2509/2509 [==============================] - 5s 2ms/step - loss: 9.5398e-06 - mape: 47.4076 - val_loss: 1.1727e-05 - val_mape: 53.7833\n",
      "Epoch 8/20\n",
      "2509/2509 [==============================] - 5s 2ms/step - loss: 8.8075e-06 - mape: 49.5745 - val_loss: 1.0466e-05 - val_mape: 47.1021\n",
      "Epoch 9/20\n",
      "2509/2509 [==============================] - 6s 2ms/step - loss: 8.1343e-06 - mape: 44.1461 - val_loss: 1.0850e-05 - val_mape: 56.5188\n",
      "Epoch 10/20\n",
      "2509/2509 [==============================] - 7s 3ms/step - loss: 7.6590e-06 - mape: 39.5439 - val_loss: 1.5798e-05 - val_mape: 56.7924\n",
      "Epoch 11/20\n",
      "2509/2509 [==============================] - 5s 2ms/step - loss: 7.3051e-06 - mape: 42.5086 - val_loss: 1.0094e-05 - val_mape: 59.4248\n",
      "Epoch 12/20\n",
      "2509/2509 [==============================] - 5s 2ms/step - loss: 6.8554e-06 - mape: 41.3091 - val_loss: 5.3174e-06 - val_mape: 36.2876\n",
      "Epoch 13/20\n",
      "2509/2509 [==============================] - 5s 2ms/step - loss: 6.5416e-06 - mape: 35.3696 - val_loss: 4.2527e-06 - val_mape: 34.7015\n",
      "Epoch 14/20\n",
      "2509/2509 [==============================] - 5s 2ms/step - loss: 6.2995e-06 - mape: 38.5187 - val_loss: 5.9367e-06 - val_mape: 44.8578\n",
      "Epoch 15/20\n",
      "2509/2509 [==============================] - 5s 2ms/step - loss: 6.0200e-06 - mape: 34.1004 - val_loss: 6.8133e-06 - val_mape: 27.3541\n",
      "Epoch 16/20\n",
      "2509/2509 [==============================] - 5s 2ms/step - loss: 5.8564e-06 - mape: 35.3071 - val_loss: 7.9034e-06 - val_mape: 41.4506\n",
      "Epoch 17/20\n",
      "2509/2509 [==============================] - 5s 2ms/step - loss: 5.6690e-06 - mape: 37.0243 - val_loss: 3.4422e-06 - val_mape: 27.8890\n",
      "Epoch 18/20\n",
      "2509/2509 [==============================] - 5s 2ms/step - loss: 5.4998e-06 - mape: 35.1888 - val_loss: 2.3119e-06 - val_mape: 25.3992\n",
      "Epoch 19/20\n",
      "2509/2509 [==============================] - 5s 2ms/step - loss: 5.3342e-06 - mape: 41.0796 - val_loss: 9.8334e-06 - val_mape: 63.6754\n",
      "Epoch 20/20\n",
      "2509/2509 [==============================] - 4s 2ms/step - loss: 5.2219e-06 - mape: 34.1260 - val_loss: 4.9031e-06 - val_mape: 38.8362\n"
     ]
    }
   ],
   "source": [
    "model = build_model ()\n",
    "history = model.fit ( x_train, y_train, epochs = 20, batch_size = 50, validation_data = (x_val, y_val) )\n",
    "model.save(\"../models/regression/large_mse250.h5\")"
   ]
  },
  {
   "cell_type": "code",
   "execution_count": 12,
   "metadata": {},
   "outputs": [
    {
     "name": "stderr",
     "output_type": "stream",
     "text": [
      "<ipython-input-12-51c767b16e1e>:29: UserWarning: Matplotlib is currently using module://ipykernel.pylab.backend_inline, which is a non-GUI backend, so cannot show the figure.\n",
      "  fig.show()\n"
     ]
    },
    {
     "data": {
      "image/png": "[encoded data removed]",
      "text/plain": [
       "<Figure size 432x288 with 2 Axes>"
      ]
     },
     "metadata": {
      "needs_background": "light"
     },
     "output_type": "display_data"
    }
   ],
   "source": [
    "import matplotlib.pyplot as plt\n",
    "\n",
    "loss = history.history['loss']\n",
    "val_loss = history.history['val_loss']\n",
    "\n",
    "accuracy = history.history['mape']\n",
    "val_accuracy = history.history['val_mape']\n",
    "\n",
    "\n",
    "epochs = range(1, len(loss) + 1)\n",
    "fig, ax1 = plt.subplots()\n",
    "\n",
    "l1 = ax1.plot(epochs, loss, 'bo', label='Training loss')\n",
    "vl1 = ax1.plot(epochs, val_loss, 'b', label='Validation loss')\n",
    "ax1.set_title('Training and validation loss')\n",
    "ax1.set_xlabel('Epochs')\n",
    "ax1.set_ylabel('Loss')\n",
    "\n",
    "ax2 = ax1.twinx()\n",
    "ac2= ax2.plot(epochs, accuracy, 'o', c=\"red\", label='Training mape')\n",
    "vac2= ax2.plot(epochs, val_accuracy, 'r', label='Validation mape')\n",
    "ax2.set_ylabel('Mape')\n",
    "\n",
    "lns = l1 + vl1 + ac2 + vac2\n",
    "labs = [l.get_label() for l in lns]\n",
    "ax2.legend(lns, labs, loc=\"center right\")\n",
    "fig.tight_layout()\n",
    "fig.savefig(\"acc+loss_drop_regression.pdf\")\n",
    "fig.show()"
   ]
  },
  {
   "cell_type": "markdown",
   "metadata": {},
   "source": [
    "## Test spectrum"
   ]
  },
  {
   "cell_type": "code",
   "execution_count": 20,
   "metadata": {},
   "outputs": [],
   "source": [
    "from tensorflow import keras\n",
    "model_regr = keras.models.load_model('../models/regression/large_mse250.h5')\n",
    "model_class = keras.models.load_model('../models/classifier/with-dropout-250.h5')"
   ]
  },
  {
   "cell_type": "code",
   "execution_count": 21,
   "metadata": {},
   "outputs": [
    {
     "name": "stdout",
     "output_type": "stream",
     "text": [
      "Model: \"sequential_1\"\n",
      "_________________________________________________________________\n",
      "Layer (type)                 Output Shape              Param #   \n",
      "=================================================================\n",
      "dense_9 (Dense)              (None, 167219, 12)        84        \n",
      "_________________________________________________________________\n",
      "dense_10 (Dense)             (None, 167219, 32)        416       \n",
      "_________________________________________________________________\n",
      "dense_11 (Dense)             (None, 167219, 64)        2112      \n",
      "_________________________________________________________________\n",
      "dense_12 (Dense)             (None, 167219, 128)       8320      \n",
      "_________________________________________________________________\n",
      "dense_13 (Dense)             (None, 167219, 128)       16512     \n",
      "_________________________________________________________________\n",
      "dense_14 (Dense)             (None, 167219, 64)        8256      \n",
      "_________________________________________________________________\n",
      "dense_15 (Dense)             (None, 167219, 32)        2080      \n",
      "_________________________________________________________________\n",
      "dense_16 (Dense)             (None, 167219, 12)        396       \n",
      "_________________________________________________________________\n",
      "dense_17 (Dense)             (None, 167219, 3)         39        \n",
      "=================================================================\n",
      "Total params: 38,215\n",
      "Trainable params: 38,215\n",
      "Non-trainable params: 0\n",
      "_________________________________________________________________\n",
      "Model: \"sequential_2\"\n",
      "_________________________________________________________________\n",
      "Layer (type)                 Output Shape              Param #   \n",
      "=================================================================\n",
      "dense_6 (Dense)              (None, 334438, 16)        176       \n",
      "_________________________________________________________________\n",
      "dropout_2 (Dropout)          (None, 334438, 16)        0         \n",
      "_________________________________________________________________\n",
      "dense_7 (Dense)              (None, 334438, 16)        272       \n",
      "_________________________________________________________________\n",
      "dropout_3 (Dropout)          (None, 334438, 16)        0         \n",
      "_________________________________________________________________\n",
      "dense_8 (Dense)              (None, 334438, 1)         17        \n",
      "=================================================================\n",
      "Total params: 465\n",
      "Trainable params: 465\n",
      "Non-trainable params: 0\n",
      "_________________________________________________________________\n"
     ]
    }
   ],
   "source": [
    "model_regr.summary()\n",
    "model_class.summary()"
   ]
  },
  {
   "cell_type": "code",
   "execution_count": 22,
   "metadata": {},
   "outputs": [],
   "source": [
    "def energy_spectrum(energy_array, bins):\n",
    "    energy_array = np.array(energy_array)\n",
    "    plt.hist(energy_array, bins, histtype=u'step', density=True)\n",
    "    plt.yscale(\"log\")\n",
    "    plt.show()"
   ]
  },
  {
   "cell_type": "code",
   "execution_count": 23,
   "metadata": {},
   "outputs": [],
   "source": [
    "final_p = []\n",
    "final_e = []\n",
    "\n",
    "for regr_pair in regr_data:\n",
    "    final_e.append(np.linalg.norm(regr_pair[10:13]))\n",
    "    final_p.append(np.linalg.norm(regr_pair[13:16]))"
   ]
  },
  {
   "cell_type": "code",
   "execution_count": 24,
   "metadata": {},
   "outputs": [
    {
     "name": "stdout",
     "output_type": "stream",
     "text": [
      "WARNING:tensorflow:Model was constructed with shape (None, 334438, 10) for input KerasTensor(type_spec=TensorSpec(shape=(None, 334438, 10), dtype=tf.float32, name='dense_6_input'), name='dense_6_input', description=\"created by layer 'dense_6_input'\"), but it was called on an input with incompatible shape (None, 10).\n",
      "WARNING:tensorflow:Model was constructed with shape (None, 167219, 6) for input KerasTensor(type_spec=TensorSpec(shape=(None, 167219, 6), dtype=tf.float32, name='dense_9_input'), name='dense_9_input', description=\"created by layer 'dense_9_input'\"), but it was called on an input with incompatible shape (None, 6).\n"
     ]
    }
   ],
   "source": [
    "y = []\n",
    "pred = []\n",
    "\n",
    "y = model_class.predict(xc)\n",
    "data = np.hstack((y, xc))\n",
    "data = data[np.logical_not(data[:,0] > 0.5)]\n",
    "pred = model_regr.predict(data[:,1:7])"
   ]
  },
  {
   "cell_type": "code",
   "execution_count": 25,
   "metadata": {},
   "outputs": [],
   "source": [
    "final_p_nn = []\n",
    "for pred_ in pred:\n",
    "    final_p_nn.append(np.linalg.norm(pred_))"
   ]
  },
  {
   "cell_type": "code",
   "execution_count": 27,
   "metadata": {},
   "outputs": [],
   "source": [
    "from scipy.stats import norm\n",
    "import matplotlib.mlab as mlab\n",
    "import matplotlib.pyplot as plt\n",
    "import scipy.stats as stats\n",
    "from scipy.stats import chisquare"
   ]
  },
  {
   "cell_type": "code",
   "execution_count": 28,
   "metadata": {},
   "outputs": [
    {
     "data": {
      "image/png": "[encoded data removed]",
      "text/plain": [
       "<Figure size 432x288 with 1 Axes>"
      ]
     },
     "metadata": {
      "needs_background": "light"
     },
     "output_type": "display_data"
    }
   ],
   "source": [
    "mean,std=norm.fit(final_p)\n",
    "plt.hist(final_p, bins=100, alpha = 0.5, color = 'mediumslateblue', label='Photon Spectrum', density = True)\n",
    "plt.legend(loc='upper right')\n",
    "xmin, xmax = plt.xlim()\n",
    "x_p = np.linspace(xmin, xmax, 100)\n",
    "y_p = norm.pdf(x_p, mean, std)\n",
    "plt.plot(x_p, y_p,'g--', linewidth=2)\n",
    "plt.show()"
   ]
  },
  {
   "cell_type": "code",
   "execution_count": 29,
   "metadata": {},
   "outputs": [
    {
     "name": "stdout",
     "output_type": "stream",
     "text": [
      "mean =  0.06500765839861218\n",
      "std =  0.020780362624671832\n",
      "chi square =  Power_divergenceResult(statistic=1110.7781874419409, pvalue=1.0)\n"
     ]
    }
   ],
   "source": [
    "print('mean = ', mean)\n",
    "print('std = ', std)\n",
    "print(\"chi square = \", stats.chisquare(final_p))"
   ]
  },
  {
   "cell_type": "code",
   "execution_count": 30,
   "metadata": {},
   "outputs": [
    {
     "data": {
      "image/png": "[encoded data removed]",
      "text/plain": [
       "<Figure size 432x288 with 1 Axes>"
      ]
     },
     "metadata": {
      "needs_background": "light"
     },
     "output_type": "display_data"
    }
   ],
   "source": [
    "mean_nn,std_nn=norm.fit(final_p_nn)\n",
    "plt.hist(final_p_nn, bins=100, alpha = 0.5,  color = 'indianred', label='NN prediction', density = True)\n",
    "xmin, xmax = plt.xlim()\n",
    "x_nn = np.linspace(xmin, xmax, 100)\n",
    "y_nn = norm.pdf(x_nn, mean_nn, std_nn)\n",
    "plt.plot(x_nn, y_nn,'r--', linewidth=2)\n",
    "plt.legend(loc='upper right')\n",
    "plt.show()"
   ]
  },
  {
   "cell_type": "code",
   "execution_count": 31,
   "metadata": {},
   "outputs": [
    {
     "name": "stdout",
     "output_type": "stream",
     "text": [
      "mean =  0.06500765839861218\n",
      "std =  0.020780362624671832\n",
      "chi square =  Power_divergenceResult(statistic=1116.8196495618133, pvalue=1.0)\n"
     ]
    }
   ],
   "source": [
    "print('mean = ', mean)\n",
    "print('std = ', std)\n",
    "print(\"chi square = \", stats.chisquare(final_p_nn))"
   ]
  },
  {
   "cell_type": "code",
   "execution_count": 32,
   "metadata": {},
   "outputs": [
    {
     "data": {
      "image/png": "[encoded data removed]",
      "text/plain": [
       "<Figure size 432x288 with 1 Axes>"
      ]
     },
     "metadata": {
      "needs_background": "light"
     },
     "output_type": "display_data"
    }
   ],
   "source": [
    "plt.hist(final_p_nn, 100, alpha=0.5, color = 'indianred', label='NN prediction', density = True)\n",
    "plt.hist(final_p, 100, alpha=0.5, color = 'mediumslateblue', label='Photon Spectrum', density = True)\n",
    "plt.xlabel('Photon Momentum')\n",
    "plt.ylabel('count')\n",
    "plt.legend(loc='upper right')\n",
    "x_nn = np.linspace(xmin, xmax, 100)\n",
    "y_nn = norm.pdf(x_nn, mean_nn, std_nn)\n",
    "plt.plot(x_nn, y_nn,'g--', label = 'fit NN', linewidth = 2)\n",
    "plt.legend(loc='upper right')\n",
    "x_p = np.linspace(xmin, xmax, 100)\n",
    "y_p = norm.pdf(x_p, mean, std)\n",
    "plt.plot(x_p, y_p, 'r:', label = 'fit Photon Spectrum', linewidth = 2)\n",
    "plt.legend(loc = 'upper right')\n",
    "plt.show()"
   ]
  },
  {
   "cell_type": "code",
   "execution_count": 33,
   "metadata": {},
   "outputs": [
    {
     "name": "stderr",
     "output_type": "stream",
     "text": [
      "<ipython-input-33-6babc77daf4a>:5: UserWarning: Matplotlib is currently using module://ipykernel.pylab.backend_inline, which is a non-GUI backend, so cannot show the figure.\n",
      "  fig.show()\n"
     ]
    },
    {
     "data": {
      "image/png": "[encoded data removed]",
      "text/plain": [
       "<Figure size 432x288 with 2 Axes>"
      ]
     },
     "metadata": {
      "needs_background": "light"
     },
     "output_type": "display_data"
    }
   ],
   "source": [
    "fig, axs = plt.subplots(2, sharex = True)\n",
    "fig.suptitle('Vertically stacked subplots')\n",
    "axs[0].hist(final_p_nn, 100, alpha=0.5, color = 'indianred', label='NN prediction', density = True)\n",
    "axs[1].hist(final_p, 100, alpha=0.5, color = 'mediumslateblue', label='Photon Spectrum', density = True)\n",
    "fig.show()"
   ]
  },
  {
   "cell_type": "code",
   "execution_count": null,
   "metadata": {},
   "outputs": [],
   "source": []
  },
  {
   "cell_type": "code",
   "execution_count": null,
   "metadata": {},
   "outputs": [],
   "source": []
  }
 ],
 "metadata": {
  "kernelspec": {
   "display_name": "Python 3",
   "language": "python",
   "name": "python3"
  },
  "language_info": {
   "codemirror_mode": {
    "name": "ipython",
    "version": 3
   },
   "file_extension": ".py",
   "mimetype": "text/x-python",
   "name": "python",
   "nbconvert_exporter": "python",
   "pygments_lexer": "ipython3",
   "version": "3.8.5"
  }
 },
 "nbformat": 4,
 "nbformat_minor": 4
}
