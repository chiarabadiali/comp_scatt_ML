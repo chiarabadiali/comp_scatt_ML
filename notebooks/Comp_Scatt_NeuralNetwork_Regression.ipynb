{
 "cells": [
  {
   "cell_type": "code",
   "execution_count": 1,
   "metadata": {},
   "outputs": [
    {
     "name": "stdout",
     "output_type": "stream",
     "text": [
      "1.2.0\n"
     ]
    }
   ],
   "source": [
    "import pandas as pd \n",
    "import numpy as np\n",
    "import math\n",
    "import tensorflow as tf\n",
    "print(pd.__version__)\n",
    "import matplotlib.pyplot as plt\n",
    "import progressbar\n",
    "import scipy"
   ]
  },
  {
   "cell_type": "markdown",
   "metadata": {},
   "source": [
    "## Print Dependencies\n",
    "\n",
    "\n",
    "\n",
    "Dependences are fundamental to record the computational environment."
   ]
  },
  {
   "cell_type": "code",
   "execution_count": 2,
   "metadata": {},
   "outputs": [
    {
     "name": "stdout",
     "output_type": "stream",
     "text": [
      "Python implementation: CPython\n",
      "Python version       : 3.7.7\n",
      "IPython version      : 7.19.0\n",
      "\n",
      "pandas     : 1.2.0\n",
      "keras      : 2.4.3\n",
      "numpy      : 1.19.5\n",
      "math       : unknown\n",
      "tensorflow : 2.4.0\n",
      "matplotlib : 3.3.3\n",
      "h5py       : 2.10.0\n",
      "progressbar: 2.5\n",
      "scipy      : 1.6.0\n",
      "\n",
      "Compiler    : GCC 5.4.0 20160609\n",
      "OS          : Linux\n",
      "Release     : 5.8.0-40-generic\n",
      "Machine     : x86_64\n",
      "Processor   : x86_64\n",
      "CPU cores   : 8\n",
      "Architecture: 64bit\n",
      "\n",
      " \n",
      "Last updated: Thu Jan 28 2021 11:47:32CET\n",
      "\n"
     ]
    }
   ],
   "source": [
    "%load_ext watermark\n",
    "\n",
    "# python, ipython, packages, and machine characteristics\n",
    "%watermark -v -m -p pandas,keras,numpy,math,tensorflow,matplotlib,h5py,progressbar,scipy\n",
    "\n",
    "# date\n",
    "print (\" \")\n",
    "%watermark -u -n -t -z"
   ]
  },
  {
   "cell_type": "markdown",
   "metadata": {},
   "source": [
    "## Load of the data"
   ]
  },
  {
   "cell_type": "code",
   "execution_count": 35,
   "metadata": {},
   "outputs": [],
   "source": [
    "from process import loaddata\n",
    "regr_data = loaddata(\"../data/regression/250.csv\")\n",
    "class_data = loaddata(\"../data/classifier/250.csv\")"
   ]
  },
  {
   "cell_type": "code",
   "execution_count": 36,
   "metadata": {},
   "outputs": [],
   "source": [
    "np.random.shuffle(regr_data)\n",
    "y = regr_data[:,-3:]\n",
    "x = regr_data[:,:6]"
   ]
  },
  {
   "cell_type": "code",
   "execution_count": 37,
   "metadata": {},
   "outputs": [],
   "source": [
    "np.random.shuffle(class_data)\n",
    "yc = class_data[:,0]\n",
    "xc = class_data[:,1:]"
   ]
  },
  {
   "cell_type": "code",
   "execution_count": 38,
   "metadata": {},
   "outputs": [
    {
     "name": "stdout",
     "output_type": "stream",
     "text": [
      "Training sample: 125414 \n",
      "Valuation sample: 41805\n"
     ]
    }
   ],
   "source": [
    "train_split = 0.75\n",
    "train_limit = int(len(y)*train_split)\n",
    "print(\"Training sample: {0} \\nValuation sample: {1}\".format(train_limit, len(y)-train_limit))"
   ]
  },
  {
   "cell_type": "code",
   "execution_count": 39,
   "metadata": {},
   "outputs": [],
   "source": [
    "x_train = x[:train_limit]\n",
    "x_val = x[train_limit:]\n",
    "\n",
    "y_train = y[:train_limit]\n",
    "y_val = y[train_limit:]"
   ]
  },
  {
   "cell_type": "markdown",
   "metadata": {},
   "source": [
    "## Model Build"
   ]
  },
  {
   "cell_type": "code",
   "execution_count": 40,
   "metadata": {},
   "outputs": [],
   "source": [
    "from keras.models import Sequential\n",
    "from keras.layers.core import Dense\n",
    "import keras.backend as K\n",
    "from keras import optimizers\n",
    "from keras import models\n",
    "from keras import layers\n",
    "from keras import regularizers"
   ]
  },
  {
   "cell_type": "markdown",
   "metadata": {},
   "source": [
    "## !! \n",
    "The dropout 0.2 seems to work better"
   ]
  },
  {
   "cell_type": "code",
   "execution_count": 41,
   "metadata": {},
   "outputs": [],
   "source": [
    "def build_model() :\n",
    "    model = models.Sequential()\n",
    "    model.add (layers.Dense (12, kernel_initializer= \"normal\" , input_shape = x.shape))\n",
    "    model.add (layers.Dense (32, activation = \"relu\"))\n",
    "    model.add (layers.Dense (64, activation = \"relu\"))\n",
    "    model.add (layers.Dense (128, activation = \"relu\"))\n",
    "    model.add (layers.Dense (128, activation = \"relu\"))\n",
    "    model.add (layers.Dense (64, activation = \"relu\"))\n",
    "    model.add (layers.Dense (32, activation = \"relu\"))\n",
    "    model.add (layers.Dense (12, activation = \"relu\"))\n",
    "    model.add (layers.Dense (3))\n",
    "    model.compile(optimizer = \"rmsprop\" , loss = \"mse\" , metrics =[\"mae\"])\n",
    "    return model"
   ]
  },
  {
   "cell_type": "code",
   "execution_count": 42,
   "metadata": {},
   "outputs": [
    {
     "name": "stdout",
     "output_type": "stream",
     "text": [
      "Epoch 1/20\n",
      "WARNING:tensorflow:Model was constructed with shape (None, 167219, 6) for input KerasTensor(type_spec=TensorSpec(shape=(None, 167219, 6), dtype=tf.float32, name='dense_18_input'), name='dense_18_input', description=\"created by layer 'dense_18_input'\"), but it was called on an input with incompatible shape (None, 6).\n",
      "WARNING:tensorflow:Model was constructed with shape (None, 167219, 6) for input KerasTensor(type_spec=TensorSpec(shape=(None, 167219, 6), dtype=tf.float32, name='dense_18_input'), name='dense_18_input', description=\"created by layer 'dense_18_input'\"), but it was called on an input with incompatible shape (None, 6).\n",
      "2505/2509 [============================>.] - ETA: 0s - loss: 3.3445e-04 - mae: 0.0123WARNING:tensorflow:Model was constructed with shape (None, 167219, 6) for input KerasTensor(type_spec=TensorSpec(shape=(None, 167219, 6), dtype=tf.float32, name='dense_18_input'), name='dense_18_input', description=\"created by layer 'dense_18_input'\"), but it was called on an input with incompatible shape (None, 6).\n",
      "2509/2509 [==============================] - 6s 2ms/step - loss: 3.3404e-04 - mae: 0.0123 - val_loss: 3.3155e-05 - val_mae: 0.0051\n",
      "Epoch 2/20\n",
      "2509/2509 [==============================] - 4s 2ms/step - loss: 2.5681e-05 - mae: 0.0041 - val_loss: 2.0366e-05 - val_mae: 0.0037\n",
      "Epoch 3/20\n",
      "2509/2509 [==============================] - 4s 2ms/step - loss: 1.6344e-05 - mae: 0.0033 - val_loss: 2.1219e-05 - val_mae: 0.0035\n",
      "Epoch 4/20\n",
      "2509/2509 [==============================] - 4s 2ms/step - loss: 1.2761e-05 - mae: 0.0029 - val_loss: 8.8179e-06 - val_mae: 0.0025\n",
      "Epoch 5/20\n",
      "2509/2509 [==============================] - 4s 2ms/step - loss: 1.0734e-05 - mae: 0.0026 - val_loss: 6.1919e-06 - val_mae: 0.0020\n",
      "Epoch 6/20\n",
      "2509/2509 [==============================] - 4s 2ms/step - loss: 9.3521e-06 - mae: 0.0025 - val_loss: 6.4026e-06 - val_mae: 0.0020\n",
      "Epoch 7/20\n",
      "2509/2509 [==============================] - 4s 2ms/step - loss: 8.3994e-06 - mae: 0.0023 - val_loss: 4.8085e-06 - val_mae: 0.0018\n",
      "Epoch 8/20\n",
      "2509/2509 [==============================] - 4s 2ms/step - loss: 7.6802e-06 - mae: 0.0022 - val_loss: 1.0299e-05 - val_mae: 0.0028\n",
      "Epoch 9/20\n",
      "2509/2509 [==============================] - 4s 2ms/step - loss: 7.0678e-06 - mae: 0.0021 - val_loss: 7.5458e-06 - val_mae: 0.0025\n",
      "Epoch 10/20\n",
      "2509/2509 [==============================] - 4s 2ms/step - loss: 6.6327e-06 - mae: 0.0021 - val_loss: 6.2094e-06 - val_mae: 0.0019\n",
      "Epoch 11/20\n",
      "2509/2509 [==============================] - 4s 2ms/step - loss: 6.2830e-06 - mae: 0.0020 - val_loss: 3.4072e-06 - val_mae: 0.0014\n",
      "Epoch 12/20\n",
      "2509/2509 [==============================] - 4s 2ms/step - loss: 5.9688e-06 - mae: 0.0020 - val_loss: 7.3553e-06 - val_mae: 0.0024\n",
      "Epoch 13/20\n",
      "2509/2509 [==============================] - 4s 2ms/step - loss: 5.7483e-06 - mae: 0.0019 - val_loss: 4.4942e-06 - val_mae: 0.0017\n",
      "Epoch 14/20\n",
      "2509/2509 [==============================] - 5s 2ms/step - loss: 5.5096e-06 - mae: 0.0019 - val_loss: 3.0054e-06 - val_mae: 0.0013\n",
      "Epoch 15/20\n",
      "2509/2509 [==============================] - 4s 2ms/step - loss: 5.3835e-06 - mae: 0.0019 - val_loss: 1.6859e-06 - val_mae: 0.0010\n",
      "Epoch 16/20\n",
      "2509/2509 [==============================] - 4s 2ms/step - loss: 5.2209e-06 - mae: 0.0018 - val_loss: 4.6280e-06 - val_mae: 0.0017\n",
      "Epoch 17/20\n",
      "2509/2509 [==============================] - 4s 2ms/step - loss: 5.0387e-06 - mae: 0.0018 - val_loss: 5.3663e-06 - val_mae: 0.0019\n",
      "Epoch 18/20\n",
      "2509/2509 [==============================] - 4s 2ms/step - loss: 4.9253e-06 - mae: 0.0018 - val_loss: 8.4414e-06 - val_mae: 0.0024\n",
      "Epoch 19/20\n",
      "2509/2509 [==============================] - 4s 2ms/step - loss: 4.8108e-06 - mae: 0.0018 - val_loss: 7.7009e-06 - val_mae: 0.0025\n",
      "Epoch 20/20\n",
      "2509/2509 [==============================] - 4s 2ms/step - loss: 4.7408e-06 - mae: 0.0017 - val_loss: 8.7306e-06 - val_mae: 0.0025\n"
     ]
    }
   ],
   "source": [
    "model = build_model ()\n",
    "history = model.fit ( x_train, y_train, epochs = 20, batch_size = 50, validation_data = (x_val, y_val) )\n",
    "model.save(\"../models/regression/large_mse250.h5\")"
   ]
  },
  {
   "cell_type": "code",
   "execution_count": 43,
   "metadata": {},
   "outputs": [
    {
     "data": {
      "image/png": "[encoded data removed]",
      "text/plain": [
       "<Figure size 432x288 with 1 Axes>"
      ]
     },
     "metadata": {
      "needs_background": "light"
     },
     "output_type": "display_data"
    }
   ],
   "source": [
    "loss = history.history['loss']\n",
    "val_loss = history.history['val_loss']\n",
    "\n",
    "epochs = range(1, len(loss) + 1)\n",
    "\n",
    "plt.plot(epochs, loss, 'bo', label='Training loss')\n",
    "plt.plot(epochs, val_loss, 'b', label='Validation loss')\n",
    "plt.title('Training and validation loss')\n",
    "plt.xlabel('Epochs')\n",
    "plt.ylabel('Loss')\n",
    "plt.legend()\n",
    "\n",
    "plt.show()"
   ]
  },
  {
   "cell_type": "markdown",
   "metadata": {},
   "source": [
    "## Test spectrum"
   ]
  },
  {
   "cell_type": "code",
   "execution_count": 44,
   "metadata": {},
   "outputs": [],
   "source": [
    "from tensorflow import keras\n",
    "model_regr = keras.models.load_model('../models/regression/large_mse250.h5')\n",
    "model_class = keras.models.load_model('../models/classifier/with-dropout-250.h5')"
   ]
  },
  {
   "cell_type": "code",
   "execution_count": 45,
   "metadata": {},
   "outputs": [
    {
     "name": "stdout",
     "output_type": "stream",
     "text": [
      "Model: \"sequential_2\"\n",
      "_________________________________________________________________\n",
      "Layer (type)                 Output Shape              Param #   \n",
      "=================================================================\n",
      "dense_18 (Dense)             (None, 167219, 12)        84        \n",
      "_________________________________________________________________\n",
      "dense_19 (Dense)             (None, 167219, 32)        416       \n",
      "_________________________________________________________________\n",
      "dense_20 (Dense)             (None, 167219, 64)        2112      \n",
      "_________________________________________________________________\n",
      "dense_21 (Dense)             (None, 167219, 128)       8320      \n",
      "_________________________________________________________________\n",
      "dense_22 (Dense)             (None, 167219, 128)       16512     \n",
      "_________________________________________________________________\n",
      "dense_23 (Dense)             (None, 167219, 64)        8256      \n",
      "_________________________________________________________________\n",
      "dense_24 (Dense)             (None, 167219, 32)        2080      \n",
      "_________________________________________________________________\n",
      "dense_25 (Dense)             (None, 167219, 12)        396       \n",
      "_________________________________________________________________\n",
      "dense_26 (Dense)             (None, 167219, 3)         39        \n",
      "=================================================================\n",
      "Total params: 38,215\n",
      "Trainable params: 38,215\n",
      "Non-trainable params: 0\n",
      "_________________________________________________________________\n",
      "Model: \"sequential_4\"\n",
      "_________________________________________________________________\n",
      "Layer (type)                 Output Shape              Param #   \n",
      "=================================================================\n",
      "dense_12 (Dense)             (None, 334438, 16)        176       \n",
      "_________________________________________________________________\n",
      "dropout_6 (Dropout)          (None, 334438, 16)        0         \n",
      "_________________________________________________________________\n",
      "dense_13 (Dense)             (None, 334438, 16)        272       \n",
      "_________________________________________________________________\n",
      "dropout_7 (Dropout)          (None, 334438, 16)        0         \n",
      "_________________________________________________________________\n",
      "dense_14 (Dense)             (None, 334438, 1)         17        \n",
      "=================================================================\n",
      "Total params: 465\n",
      "Trainable params: 465\n",
      "Non-trainable params: 0\n",
      "_________________________________________________________________\n"
     ]
    }
   ],
   "source": [
    "model_regr.summary()\n",
    "model_class.summary()"
   ]
  },
  {
   "cell_type": "code",
   "execution_count": 46,
   "metadata": {},
   "outputs": [],
   "source": [
    "def energy_spectrum(energy_array, bins):\n",
    "    energy_array = np.array(energy_array)\n",
    "    plt.hist(energy_array, bins, histtype=u'step', density=True)\n",
    "    plt.yscale(\"log\")\n",
    "    plt.show()"
   ]
  },
  {
   "cell_type": "code",
   "execution_count": 47,
   "metadata": {},
   "outputs": [],
   "source": [
    "final_p = []\n",
    "final_e = []\n",
    "\n",
    "for regr_pair in regr_data:\n",
    "    final_e.append(np.linalg.norm(regr_pair[10:13]))\n",
    "    final_p.append(np.linalg.norm(regr_pair[13:16]))"
   ]
  },
  {
   "cell_type": "code",
   "execution_count": 58,
   "metadata": {},
   "outputs": [
    {
     "name": "stderr",
     "output_type": "stream",
     "text": [
      "[==============================================================] 100% of 334438\n"
     ]
    }
   ],
   "source": [
    "from tensorflow import keras \n",
    "photon_final_nn = []\n",
    "threshold = 0.5\n",
    "num = int(1*len(xc))\n",
    "bar = progressbar.ProgressBar(maxval=num, \n",
    "                              widgets=[progressbar.Bar('=', '[', ']'), ' ', \n",
    "                                       progressbar.Percentage(), \n",
    "                                       \" of {0}\".format(num)])\n",
    "bar.start()\n",
    "for i, x_ in enumerate(xc[:num]):\n",
    "    x_ = np.array([x_])\n",
    "    classification = model_class.predict(np.stack(x_))\n",
    "    if classification >= threshold:\n",
    "        regr_x = np.array([x_[0,:6]])\n",
    "        regr_result = model_regr.predict(regr_x)\n",
    "        photon_final_nn.append(np.linalg.norm(regr_result[0]))\n",
    "    bar.update(i+1)\n",
    "bar.finish()"
   ]
  },
  {
   "cell_type": "code",
   "execution_count": 59,
   "metadata": {
    "scrolled": true
   },
   "outputs": [
    {
     "data": {
      "image/png": "[encoded data removed]",
      "text/plain": [
       "<Figure size 432x288 with 1 Axes>"
      ]
     },
     "metadata": {
      "needs_background": "light"
     },
     "output_type": "display_data"
    }
   ],
   "source": [
    "energy_spectrum(photon_final_nn, 75)"
   ]
  },
  {
   "cell_type": "code",
   "execution_count": 60,
   "metadata": {},
   "outputs": [
    {
     "data": {
      "image/png": "[encoded data removed]",
      "text/plain": [
       "<Figure size 432x288 with 1 Axes>"
      ]
     },
     "metadata": {
      "needs_background": "light"
     },
     "output_type": "display_data"
    }
   ],
   "source": [
    "plt.hist(photon_final_nn, 60, alpha=0.5, label='NN prediction', density = True)\n",
    "plt.hist(final_p, 100, alpha=0.5, label='Photon Momentum from simulations', density = True)\n",
    "plt.xlabel('Photon Momentum')\n",
    "plt.ylabel('count')\n",
    "plt.legend(loc='upper right')\n",
    "#plt.xlim((0, 0.25))\n",
    "plt.ylim((0, 30))\n",
    "plt.show()"
   ]
  },
  {
   "cell_type": "code",
   "execution_count": 61,
   "metadata": {},
   "outputs": [
    {
     "data": {
      "image/png": "[encoded data removed]",
      "text/plain": [
       "<Figure size 432x288 with 1 Axes>"
      ]
     },
     "metadata": {
      "needs_background": "light"
     },
     "output_type": "display_data"
    }
   ],
   "source": [
    "plt.hist(photon_final_nn, 60, alpha=0.5, label='NN prediction', density = True)\n",
    "plt.hist(final_p, 100, alpha=0.5, label='Photon Momentum from simulations', density = True)\n",
    "plt.xlabel('Photon Momentum')\n",
    "plt.ylabel('count')\n",
    "plt.legend(loc='upper right')\n",
    "#plt.xlim((0, 0.25))\n",
    "plt.ylim((0, 30))\n",
    "plt.show()"
   ]
  },
  {
   "cell_type": "code",
   "execution_count": 62,
   "metadata": {},
   "outputs": [],
   "source": [
    "from scipy.stats import norm\n",
    "import matplotlib.mlab as mlab\n",
    "import matplotlib.pyplot as plt\n",
    "import scipy.stats as stats\n",
    "from scipy.stats import chisquare"
   ]
  },
  {
   "cell_type": "code",
   "execution_count": 63,
   "metadata": {},
   "outputs": [
    {
     "data": {
      "image/png": "[encoded data removed]",
      "text/plain": [
       "<Figure size 432x288 with 1 Axes>"
      ]
     },
     "metadata": {
      "needs_background": "light"
     },
     "output_type": "display_data"
    }
   ],
   "source": [
    "mean_nn,std_nn=norm.fit(photon_final_nn)\n",
    "plt.hist(photon_final_nn, bins=100, alpha = 0.5, label='NN prediction', density = True)\n",
    "xmin, xmax = plt.xlim()\n",
    "x = np.linspace(xmin, xmax, 100)\n",
    "y = norm.pdf(x, mean_nn, std_nn)\n",
    "plt.plot(x, y,'r--', linewidth=2)\n",
    "plt.legend(loc='upper right')\n",
    "plt.show()"
   ]
  },
  {
   "cell_type": "code",
   "execution_count": 64,
   "metadata": {},
   "outputs": [
    {
     "name": "stdout",
     "output_type": "stream",
     "text": [
      "mean =  0.0650474\n",
      "std =  0.0208735\n",
      "chi square =  Power_divergenceResult(statistic=1024.0334321143548, pvalue=1.0)\n"
     ]
    }
   ],
   "source": [
    "print('mean = ', mean_nn)\n",
    "print('std = ', std_nn)\n",
    "print(\"chi square = \", stats.chisquare(photon_final_nn))"
   ]
  },
  {
   "cell_type": "code",
   "execution_count": 65,
   "metadata": {},
   "outputs": [
    {
     "data": {
      "image/png": "[encoded data removed]",
      "text/plain": [
       "<Figure size 432x288 with 1 Axes>"
      ]
     },
     "metadata": {
      "needs_background": "light"
     },
     "output_type": "display_data"
    }
   ],
   "source": [
    "mean_p,std_p=norm.fit(final_p)\n",
    "plt.hist(final_p, bins=100, alpha = 0.5, label='Photon Momentum from simulations', density = True)\n",
    "xmin, xmax = plt.xlim()\n",
    "x = np.linspace(xmin, xmax, 100)\n",
    "y = norm.pdf(x, mean_p, std_p)\n",
    "plt.plot(x, y,'r--', linewidth=2)\n",
    "plt.show()"
   ]
  },
  {
   "cell_type": "code",
   "execution_count": 66,
   "metadata": {},
   "outputs": [
    {
     "name": "stdout",
     "output_type": "stream",
     "text": [
      "mean =  0.06500765839861221\n",
      "std =  0.020780362624671832\n",
      "chi square =  Power_divergenceResult(statistic=1024.0334321143548, pvalue=1.0)\n"
     ]
    }
   ],
   "source": [
    "print('mean = ', mean_p)\n",
    "print('std = ', std_p)\n",
    "print(\"chi square = \", stats.chisquare(photon_final_nn))"
   ]
  },
  {
   "cell_type": "code",
   "execution_count": 67,
   "metadata": {},
   "outputs": [
    {
     "data": {
      "image/png": "[encoded data removed]",
      "text/plain": [
       "<Figure size 432x288 with 1 Axes>"
      ]
     },
     "metadata": {
      "needs_background": "light"
     },
     "output_type": "display_data"
    }
   ],
   "source": [
    "plt.hist(photon_final_nn, bins=100, alpha = 0.5, label='NN prediction', density = True)\n",
    "plt.hist(final_p, bins=100, alpha = 0.5, label='Photon Momentum from simulations', density = True)\n",
    "x_nn = np.linspace(xmin, xmax, 100)\n",
    "y_nn = norm.pdf(x_nn, mean_nn, std_nn)\n",
    "plt.plot(x_nn, y_nn,'r--', label = 'fit NN', linewidth=2)\n",
    "plt.legend(loc='upper right')\n",
    "x_p = np.linspace(xmin, xmax, 100)\n",
    "y_p = norm.pdf(x_p, mean_p, std_p)\n",
    "plt.plot(x_p, y_p, 'g:', label = 'fit Photon Momentum Simulations', linewidth=2)\n",
    "plt.legend(loc='upper right')\n",
    "plt.ylim((0, 30))\n",
    "plt.show()"
   ]
  },
  {
   "cell_type": "code",
   "execution_count": 68,
   "metadata": {},
   "outputs": [
    {
     "name": "stderr",
     "output_type": "stream",
     "text": [
      "/home/linuxbrew/.linuxbrew/opt/python/lib/python3.7/site-packages/ipykernel_launcher.py:5: UserWarning: Matplotlib is currently using module://ipykernel.pylab.backend_inline, which is a non-GUI backend, so cannot show the figure.\n",
      "  \"\"\"\n"
     ]
    },
    {
     "data": {
      "image/png": "[encoded data removed]",
      "text/plain": [
       "<Figure size 432x288 with 2 Axes>"
      ]
     },
     "metadata": {
      "needs_background": "light"
     },
     "output_type": "display_data"
    }
   ],
   "source": [
    "fig, axs = plt.subplots(2, sharex = True)\n",
    "fig.suptitle('Vertically stacked subplots')\n",
    "axs[0].hist(photon_final_nn, 100, alpha=0.5, label='NN prediction', density = True)\n",
    "axs[1].hist(final_p, 100, alpha=0.5, label='Photon Momentum from simulations', density = True)\n",
    "fig.show()"
   ]
  },
  {
   "cell_type": "code",
   "execution_count": null,
   "metadata": {},
   "outputs": [],
   "source": []
  },
  {
   "cell_type": "code",
   "execution_count": null,
   "metadata": {},
   "outputs": [],
   "source": []
  },
  {
   "cell_type": "code",
   "execution_count": null,
   "metadata": {},
   "outputs": [],
   "source": []
  },
  {
   "cell_type": "code",
   "execution_count": null,
   "metadata": {},
   "outputs": [],
   "source": []
  }
 ],
 "metadata": {
  "kernelspec": {
   "display_name": "Python 3",
   "language": "python",
   "name": "python3"
  },
  "language_info": {
   "codemirror_mode": {
    "name": "ipython",
    "version": 3
   },
   "file_extension": ".py",
   "mimetype": "text/x-python",
   "name": "python",
   "nbconvert_exporter": "python",
   "pygments_lexer": "ipython3",
   "version": "3.7.7"
  }
 },
 "nbformat": 4,
 "nbformat_minor": 4
}
