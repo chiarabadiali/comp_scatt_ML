{
 "cells": [
  {
   "cell_type": "code",
   "execution_count": 1,
   "metadata": {},
   "outputs": [
    {
     "name": "stdout",
     "output_type": "stream",
     "text": [
      "1.2.0\n"
     ]
    }
   ],
   "source": [
    "import pandas as pd \n",
    "import numpy as np\n",
    "import math\n",
    "import tensorflow as tf\n",
    "import matplotlib.pyplot as plt\n",
    "print(pd.__version__)\n",
    "import progressbar"
   ]
  },
  {
   "cell_type": "markdown",
   "metadata": {},
   "source": [
    "### Load of the test data"
   ]
  },
  {
   "cell_type": "code",
   "execution_count": 2,
   "metadata": {},
   "outputs": [],
   "source": [
    "from process import loaddata\n",
    "regr_data = loaddata(\"../data/regression/100-high-ene.csv\")\n",
    "class_data = loaddata(\"../data/classifier/100-high-ene.csv\")"
   ]
  },
  {
   "cell_type": "code",
   "execution_count": 3,
   "metadata": {},
   "outputs": [],
   "source": [
    "np.random.shuffle(class_data)\n",
    "yc_test = class_data[:,0]\n",
    "xc_test = class_data[:,1:]"
   ]
  },
  {
   "cell_type": "code",
   "execution_count": 4,
   "metadata": {},
   "outputs": [],
   "source": [
    "np.random.shuffle(regr_data)\n",
    "yr_test = regr_data[:,-3:]\n",
    "xr_test = regr_data[:,:6]"
   ]
  },
  {
   "cell_type": "code",
   "execution_count": 5,
   "metadata": {},
   "outputs": [
    {
     "data": {
      "text/plain": [
       "(72254, 10)"
      ]
     },
     "execution_count": 5,
     "metadata": {},
     "output_type": "execute_result"
    }
   ],
   "source": [
    "xc_test.shape"
   ]
  },
  {
   "cell_type": "code",
   "execution_count": 6,
   "metadata": {},
   "outputs": [
    {
     "data": {
      "text/plain": [
       "(36127, 6)"
      ]
     },
     "execution_count": 6,
     "metadata": {},
     "output_type": "execute_result"
    }
   ],
   "source": [
    "xr_test.shape"
   ]
  },
  {
   "cell_type": "markdown",
   "metadata": {},
   "source": [
    "### Model Load"
   ]
  },
  {
   "cell_type": "code",
   "execution_count": 7,
   "metadata": {},
   "outputs": [],
   "source": [
    "from tensorflow import keras "
   ]
  },
  {
   "cell_type": "code",
   "execution_count": 8,
   "metadata": {},
   "outputs": [],
   "source": [
    "model_regr = keras.models.load_model('../models/regression/large_mse250.h5')\n",
    "model_class = keras.models.load_model('../models/classifier/with-dropout-250.h5')"
   ]
  },
  {
   "cell_type": "markdown",
   "metadata": {},
   "source": [
    "### Test of the Classification NN"
   ]
  },
  {
   "cell_type": "code",
   "execution_count": 9,
   "metadata": {},
   "outputs": [
    {
     "name": "stdout",
     "output_type": "stream",
     "text": [
      "WARNING:tensorflow:Model was constructed with shape (None, 334438, 10) for input KerasTensor(type_spec=TensorSpec(shape=(None, 334438, 10), dtype=tf.float32, name='dense_12_input'), name='dense_12_input', description=\"created by layer 'dense_12_input'\"), but it was called on an input with incompatible shape (None, 10).\n",
      "2258/2258 [==============================] - 2s 824us/step - loss: 1.0596 - accuracy: 0.5916\n"
     ]
    },
    {
     "data": {
      "text/plain": [
       "<tensorflow.python.keras.callbacks.History at 0x7fb87c845890>"
      ]
     },
     "execution_count": 9,
     "metadata": {},
     "output_type": "execute_result"
    }
   ],
   "source": [
    "model_class.fit(xc_test, yc_test)"
   ]
  },
  {
   "cell_type": "markdown",
   "metadata": {},
   "source": [
    "### Test of the Regression NN"
   ]
  },
  {
   "cell_type": "code",
   "execution_count": 10,
   "metadata": {},
   "outputs": [
    {
     "name": "stdout",
     "output_type": "stream",
     "text": [
      "WARNING:tensorflow:Model was constructed with shape (None, 334438, 6) for input KerasTensor(type_spec=TensorSpec(shape=(None, 334438, 6), dtype=tf.float32, name='dense_9_input'), name='dense_9_input', description=\"created by layer 'dense_9_input'\"), but it was called on an input with incompatible shape (None, 6).\n",
      "1129/1129 [==============================] - 2s 1ms/step - loss: 1.0295 - mae: 0.4434\n"
     ]
    },
    {
     "data": {
      "text/plain": [
       "<tensorflow.python.keras.callbacks.History at 0x7fb87e7956d0>"
      ]
     },
     "execution_count": 10,
     "metadata": {},
     "output_type": "execute_result"
    }
   ],
   "source": [
    "model_regr.fit(xr_test, yr_test)"
   ]
  },
  {
   "cell_type": "markdown",
   "metadata": {},
   "source": [
    "### Test spectrum"
   ]
  },
  {
   "cell_type": "code",
   "execution_count": 11,
   "metadata": {},
   "outputs": [],
   "source": [
    "def energy_spectrum(energy_array, bins):\n",
    "    energy_array = np.array(energy_array)\n",
    "    plt.hist(energy_array, bins, histtype=u'step')\n",
    "    plt.yscale(\"log\")\n",
    "    plt.show()"
   ]
  },
  {
   "cell_type": "code",
   "execution_count": 12,
   "metadata": {},
   "outputs": [],
   "source": [
    "final_p = []\n",
    "final_e = []\n",
    "\n",
    "for regr_pair in regr_data:\n",
    "    final_e.append(np.linalg.norm(regr_pair[10:13]))\n",
    "    final_p.append(np.linalg.norm(regr_pair[13:16]))"
   ]
  },
  {
   "cell_type": "code",
   "execution_count": 13,
   "metadata": {},
   "outputs": [
    {
     "data": {
      "image/png": "[encoded data removed]",
      "text/plain": [
       "<Figure size 432x288 with 1 Axes>"
      ]
     },
     "metadata": {
      "needs_background": "light"
     },
     "output_type": "display_data"
    }
   ],
   "source": [
    "energy_spectrum(final_e, 75)"
   ]
  },
  {
   "cell_type": "code",
   "execution_count": 14,
   "metadata": {},
   "outputs": [
    {
     "data": {
      "image/png": "[encoded data removed]",
      "text/plain": [
       "<Figure size 432x288 with 1 Axes>"
      ]
     },
     "metadata": {
      "needs_background": "light"
     },
     "output_type": "display_data"
    }
   ],
   "source": [
    "energy_spectrum(final_p, 75)"
   ]
  },
  {
   "cell_type": "code",
   "execution_count": 15,
   "metadata": {},
   "outputs": [
    {
     "name": "stderr",
     "output_type": "stream",
     "text": [
      "[                                                               ]   0% of 36127\r"
     ]
    },
    {
     "name": "stdout",
     "output_type": "stream",
     "text": [
      "WARNING:tensorflow:Model was constructed with shape (None, 334438, 10) for input KerasTensor(type_spec=TensorSpec(shape=(None, 334438, 10), dtype=tf.float32, name='dense_12_input'), name='dense_12_input', description=\"created by layer 'dense_12_input'\"), but it was called on an input with incompatible shape (None, 10).\n",
      "WARNING:tensorflow:Model was constructed with shape (None, 334438, 6) for input KerasTensor(type_spec=TensorSpec(shape=(None, 334438, 6), dtype=tf.float32, name='dense_9_input'), name='dense_9_input', description=\"created by layer 'dense_9_input'\"), but it was called on an input with incompatible shape (None, 6).\n"
     ]
    },
    {
     "name": "stderr",
     "output_type": "stream",
     "text": [
      "[===============================================================] 100% of 36127\n"
     ]
    }
   ],
   "source": [
    "from tensorflow import keras \n",
    "photon_final_nn = []\n",
    "threshold = 0.5\n",
    "num = int(0.5*len(xc_test))\n",
    "bar = progressbar.ProgressBar(maxval=num, \n",
    "                              widgets=[progressbar.Bar('=', '[', ']'), ' ', \n",
    "                                       progressbar.Percentage(), \n",
    "                                       \" of {0}\".format(num)])\n",
    "bar.start()\n",
    "for i, x_ in enumerate(xc_test[:num]):\n",
    "    x_ = np.array([x_])\n",
    "    classification = model_class.predict(np.stack(x_))\n",
    "    if classification >= threshold:\n",
    "        regr_x = np.array([x_[0,:6]])\n",
    "        regr_result = model_regr.predict(regr_x)\n",
    "        photon_final_nn.append(np.linalg.norm(regr_result[0]))\n",
    "    bar.update(i+1)\n",
    "bar.finish()"
   ]
  },
  {
   "cell_type": "code",
   "execution_count": 16,
   "metadata": {},
   "outputs": [
    {
     "data": {
      "image/png": "[encoded data removed]",
      "text/plain": [
       "<Figure size 432x288 with 1 Axes>"
      ]
     },
     "metadata": {
      "needs_background": "light"
     },
     "output_type": "display_data"
    }
   ],
   "source": [
    "energy_spectrum(photon_final_nn, 75)"
   ]
  },
  {
   "cell_type": "code",
   "execution_count": 17,
   "metadata": {},
   "outputs": [
    {
     "name": "stderr",
     "output_type": "stream",
     "text": [
      "/home/linuxbrew/.linuxbrew/opt/python/lib/python3.7/site-packages/ipykernel_launcher.py:5: UserWarning: Matplotlib is currently using module://ipykernel.pylab.backend_inline, which is a non-GUI backend, so cannot show the figure.\n",
      "  \"\"\"\n"
     ]
    },
    {
     "data": {
      "image/png": "[encoded data removed]",
      "text/plain": [
       "<Figure size 432x288 with 2 Axes>"
      ]
     },
     "metadata": {
      "needs_background": "light"
     },
     "output_type": "display_data"
    }
   ],
   "source": [
    "fig, axs = plt.subplots(2, sharex = True)\n",
    "fig.suptitle('Vertically stacked subplots')\n",
    "axs[0].hist(photon_final_nn, 100, alpha=0.5, color = 'coral', label='NN prediction', density = True)\n",
    "axs[1].hist(final_p, 100, alpha=0.5, color = 'mediumslateblue', label='Photon Spectrum', density = True)\n",
    "fig.show()"
   ]
  },
  {
   "cell_type": "code",
   "execution_count": 21,
   "metadata": {},
   "outputs": [
    {
     "data": {
      "image/png": "[encoded data removed]",
      "text/plain": [
       "<Figure size 432x288 with 1 Axes>"
      ]
     },
     "metadata": {
      "needs_background": "light"
     },
     "output_type": "display_data"
    }
   ],
   "source": [
    "plt.hist(final_p, bins=20, alpha = 0.5, color = 'mediumslateblue', label='Photon Spectrum', density = True)\n",
    "plt.yscale('log')\n",
    "plt.legend(loc='upper right')\n",
    "plt.savefig('../plots/twonetworks/highene/photonspectrum.png')\n",
    "plt.savefig('../plots/twonetworks/highene/photonspectrum.png')\n",
    "plt.show()"
   ]
  },
  {
   "cell_type": "code",
   "execution_count": 22,
   "metadata": {},
   "outputs": [
    {
     "data": {
      "image/png": "[encoded data removed]",
      "text/plain": [
       "<Figure size 432x288 with 1 Axes>"
      ]
     },
     "metadata": {
      "needs_background": "light"
     },
     "output_type": "display_data"
    }
   ],
   "source": [
    "plt.hist(photon_final_nn, bins=20, alpha = 0.5,  color = 'coral', label='NN prediction', density = True)\n",
    "plt.yscale('log')\n",
    "plt.legend(loc='upper right')\n",
    "plt.savefig('../plots/twonetworks/highene/NNprediction.png')\n",
    "plt.savefig('../plots/twonetworks/highene/NNprediction.pdf')\n",
    "plt.show()"
   ]
  },
  {
   "cell_type": "code",
   "execution_count": 23,
   "metadata": {
    "scrolled": true
   },
   "outputs": [
    {
     "data": {
      "image/png": "[encoded data removed]",
      "text/plain": [
       "<Figure size 432x288 with 1 Axes>"
      ]
     },
     "metadata": {
      "needs_background": "light"
     },
     "output_type": "display_data"
    }
   ],
   "source": [
    "plt.hist(photon_final_nn, 60, alpha=0.5, color = 'coral', label='NN prediction', density = True)\n",
    "plt.hist(final_p, 100, alpha=0.5, color = 'mediumslateblue', label='Photon Momentum from simulations', density = True)\n",
    "plt.xlabel('Photon Momentum')\n",
    "plt.yscale('log')\n",
    "plt.ylabel('count')\n",
    "plt.legend(loc='upper right')\n",
    "plt.savefig('../plots/twonetworks/highene/comparison.png')\n",
    "plt.savefig('../plots/twonetworks/highene/comparison.pdf')\n",
    "plt.show()"
   ]
  },
  {
   "cell_type": "code",
   "execution_count": null,
   "metadata": {},
   "outputs": [],
   "source": []
  },
  {
   "cell_type": "code",
   "execution_count": null,
   "metadata": {},
   "outputs": [],
   "source": []
  }
 ],
 "metadata": {
  "kernelspec": {
   "display_name": "Python 3",
   "language": "python",
   "name": "python3"
  },
  "language_info": {
   "codemirror_mode": {
    "name": "ipython",
    "version": 3
   },
   "file_extension": ".py",
   "mimetype": "text/x-python",
   "name": "python",
   "nbconvert_exporter": "python",
   "pygments_lexer": "ipython3",
   "version": "3.7.7"
  }
 },
 "nbformat": 4,
 "nbformat_minor": 4
}
