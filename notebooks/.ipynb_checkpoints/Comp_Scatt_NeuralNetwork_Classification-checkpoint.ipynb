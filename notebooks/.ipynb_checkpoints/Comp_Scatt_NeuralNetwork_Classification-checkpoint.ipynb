{
 "cells": [
  {
   "cell_type": "code",
   "execution_count": 1,
   "metadata": {},
   "outputs": [
    {
     "name": "stdout",
     "output_type": "stream",
     "text": [
      "1.2.0\n"
     ]
    }
   ],
   "source": [
    "import pandas as pd \n",
    "import numpy as np\n",
    "import math\n",
    "import tensorflow as tf\n",
    "print(pd.__version__)"
   ]
  },
  {
   "cell_type": "markdown",
   "metadata": {},
   "source": [
    "## Print Dependencies\n",
    "\n",
    "\n",
    "\n",
    "Dependences are fundamental to record the computational environment."
   ]
  },
  {
   "cell_type": "code",
   "execution_count": 2,
   "metadata": {},
   "outputs": [
    {
     "name": "stdout",
     "output_type": "stream",
     "text": [
      "Python implementation: CPython\n",
      "Python version       : 3.8.7\n",
      "IPython version      : 7.18.1\n",
      "\n",
      "pandas    : 1.2.0\n",
      "keras     : 2.4.3\n",
      "numpy     : 1.19.5\n",
      "math      : unknown\n",
      "tensorflow: 2.4.0\n",
      "matplotlib: 3.3.3\n",
      "h5py      : 2.10.0\n",
      "\n",
      "Compiler    : Clang 12.0.0 (clang-1200.0.32.28)\n",
      "OS          : Darwin\n",
      "Release     : 20.2.0\n",
      "Machine     : x86_64\n",
      "Processor   : i386\n",
      "CPU cores   : 8\n",
      "Architecture: 64bit\n",
      "\n",
      " \n",
      "Last updated: Tue Jan 26 2021 14:12:38CET\n",
      "\n"
     ]
    }
   ],
   "source": [
    "%load_ext watermark\n",
    "\n",
    "# python, ipython, packages, and machine characteristics\n",
    "%watermark -v -m -p pandas,keras,numpy,math,tensorflow,matplotlib,h5py\n",
    "\n",
    "# date\n",
    "print (\" \")\n",
    "%watermark -u -n -t -z"
   ]
  },
  {
   "cell_type": "markdown",
   "metadata": {},
   "source": [
    "## Load of the data"
   ]
  },
  {
   "cell_type": "code",
   "execution_count": 7,
   "metadata": {},
   "outputs": [],
   "source": [
    "from process import loaddata\n",
    "regr_data = loaddata(\"../data/regression/100.csv\")\n",
    "class_data = loaddata(\"../data/classifier/100.csv\")"
   ]
  },
  {
   "cell_type": "code",
   "execution_count": 8,
   "metadata": {},
   "outputs": [],
   "source": [
    "np.random.shuffle(class_data)\n",
    "y = class_data[:,0]\n",
    "x = class_data[:,1:]"
   ]
  },
  {
   "cell_type": "code",
   "execution_count": 9,
   "metadata": {},
   "outputs": [
    {
     "name": "stdout",
     "output_type": "stream",
     "text": [
      "Training sample: 93048 \n",
      "Valuation sample: 31016\n"
     ]
    }
   ],
   "source": [
    "train_split = 0.75\n",
    "train_limit = int(len(y)*train_split)\n",
    "print(\"Training sample: {0} \\nValuation sample: {1}\".format(train_limit, len(y)-train_limit))"
   ]
  },
  {
   "cell_type": "code",
   "execution_count": 10,
   "metadata": {},
   "outputs": [],
   "source": [
    "x_train = x[:train_limit]\n",
    "x_val = x[train_limit:]\n",
    "\n",
    "y_train = y[:train_limit]\n",
    "y_val = y[train_limit:]"
   ]
  },
  {
   "cell_type": "markdown",
   "metadata": {},
   "source": [
    "## Model Build"
   ]
  },
  {
   "cell_type": "code",
   "execution_count": 11,
   "metadata": {},
   "outputs": [],
   "source": [
    "from keras.models import Sequential\n",
    "from keras.layers.core import Dense\n",
    "import keras.backend as K\n",
    "from keras import optimizers\n",
    "from keras import models\n",
    "from keras import layers"
   ]
  },
  {
   "cell_type": "code",
   "execution_count": 12,
   "metadata": {},
   "outputs": [],
   "source": [
    "def build_model() :\n",
    "    model = models.Sequential()\n",
    "    model.add (layers.Dense (16, activation = \"sigmoid\" , input_shape = x.shape))\n",
    "    model.add (layers.Dense (16, activation = \"relu\"))\n",
    "    model.add (layers.Dense (1 , activation = \"sigmoid\"))\n",
    "    model.compile(optimizer = \"adam\" , loss = \"binary_crossentropy\" , metrics =[\"accuracy\"])\n",
    "    return model"
   ]
  },
  {
   "cell_type": "code",
   "execution_count": 13,
   "metadata": {},
   "outputs": [
    {
     "name": "stdout",
     "output_type": "stream",
     "text": [
      "Epoch 1/20\n",
      "WARNING:tensorflow:Model was constructed with shape (None, 124064, 10) for input KerasTensor(type_spec=TensorSpec(shape=(None, 124064, 10), dtype=tf.float32, name='dense_input'), name='dense_input', description=\"created by layer 'dense_input'\"), but it was called on an input with incompatible shape (None, 10).\n",
      "WARNING:tensorflow:Model was constructed with shape (None, 124064, 10) for input KerasTensor(type_spec=TensorSpec(shape=(None, 124064, 10), dtype=tf.float32, name='dense_input'), name='dense_input', description=\"created by layer 'dense_input'\"), but it was called on an input with incompatible shape (None, 10).\n",
      "872/931 [===========================>..] - ETA: 0s - loss: 0.6838 - accuracy: 0.5654WARNING:tensorflow:Model was constructed with shape (None, 124064, 10) for input KerasTensor(type_spec=TensorSpec(shape=(None, 124064, 10), dtype=tf.float32, name='dense_input'), name='dense_input', description=\"created by layer 'dense_input'\"), but it was called on an input with incompatible shape (None, 10).\n",
      "931/931 [==============================] - 1s 1ms/step - loss: 0.6819 - accuracy: 0.5717 - val_loss: 0.5668 - val_accuracy: 0.7964\n",
      "Epoch 2/20\n",
      "931/931 [==============================] - 1s 1ms/step - loss: 0.5187 - accuracy: 0.8016 - val_loss: 0.4028 - val_accuracy: 0.8362\n",
      "Epoch 3/20\n",
      "931/931 [==============================] - 1s 1ms/step - loss: 0.3841 - accuracy: 0.8514 - val_loss: 0.3432 - val_accuracy: 0.8797\n",
      "Epoch 4/20\n",
      "931/931 [==============================] - 1s 1ms/step - loss: 0.3335 - accuracy: 0.8738 - val_loss: 0.3123 - val_accuracy: 0.8829\n",
      "Epoch 5/20\n",
      "931/931 [==============================] - 1s 810us/step - loss: 0.3065 - accuracy: 0.8851 - val_loss: 0.2979 - val_accuracy: 0.8896\n",
      "Epoch 6/20\n",
      "931/931 [==============================] - 1s 792us/step - loss: 0.2966 - accuracy: 0.8883 - val_loss: 0.2915 - val_accuracy: 0.8888\n",
      "Epoch 7/20\n",
      "931/931 [==============================] - 1s 810us/step - loss: 0.2904 - accuracy: 0.8907 - val_loss: 0.2851 - val_accuracy: 0.8944\n",
      "Epoch 8/20\n",
      "931/931 [==============================] - 1s 800us/step - loss: 0.2888 - accuracy: 0.8906 - val_loss: 0.2904 - val_accuracy: 0.8869\n",
      "Epoch 9/20\n",
      "931/931 [==============================] - 1s 900us/step - loss: 0.2834 - accuracy: 0.8913 - val_loss: 0.2753 - val_accuracy: 0.8962\n",
      "Epoch 10/20\n",
      "931/931 [==============================] - 1s 857us/step - loss: 0.2786 - accuracy: 0.8922 - val_loss: 0.2715 - val_accuracy: 0.8966\n",
      "Epoch 11/20\n",
      "931/931 [==============================] - 1s 871us/step - loss: 0.2746 - accuracy: 0.8925 - val_loss: 0.2663 - val_accuracy: 0.8979\n",
      "Epoch 12/20\n",
      "931/931 [==============================] - 1s 1ms/step - loss: 0.2696 - accuracy: 0.8955 - val_loss: 0.2607 - val_accuracy: 0.9010\n",
      "Epoch 13/20\n",
      "931/931 [==============================] - 1s 948us/step - loss: 0.2602 - accuracy: 0.8995 - val_loss: 0.2532 - val_accuracy: 0.9037\n",
      "Epoch 14/20\n",
      "931/931 [==============================] - 1s 1ms/step - loss: 0.2576 - accuracy: 0.9007 - val_loss: 0.2462 - val_accuracy: 0.9072\n",
      "Epoch 15/20\n",
      "931/931 [==============================] - 1s 926us/step - loss: 0.2447 - accuracy: 0.9071 - val_loss: 0.2492 - val_accuracy: 0.9053\n",
      "Epoch 16/20\n",
      "931/931 [==============================] - 1s 902us/step - loss: 0.2387 - accuracy: 0.9110 - val_loss: 0.2301 - val_accuracy: 0.9154\n",
      "Epoch 17/20\n",
      "931/931 [==============================] - 1s 891us/step - loss: 0.2297 - accuracy: 0.9158 - val_loss: 0.2246 - val_accuracy: 0.9194\n",
      "Epoch 18/20\n",
      "931/931 [==============================] - 1s 922us/step - loss: 0.2298 - accuracy: 0.9164 - val_loss: 0.2184 - val_accuracy: 0.9226\n",
      "Epoch 19/20\n",
      "931/931 [==============================] - 1s 964us/step - loss: 0.2216 - accuracy: 0.9201 - val_loss: 0.2175 - val_accuracy: 0.9228\n",
      "Epoch 20/20\n",
      "931/931 [==============================] - 1s 966us/step - loss: 0.2176 - accuracy: 0.9223 - val_loss: 0.2110 - val_accuracy: 0.9262\n"
     ]
    }
   ],
   "source": [
    "model = build_model ()\n",
    "history = model.fit ( x_train, y_train, epochs = 20, batch_size = 100 , validation_data = (x_val, y_val) )\n",
    "model.save(\"../models/classifier/no-dropout-100.h5\")"
   ]
  },
  {
   "cell_type": "code",
   "execution_count": 15,
   "metadata": {},
   "outputs": [
    {
     "data": {
      "image/png": "[encoded data removed]",
      "text/plain": [
       "<Figure size 432x288 with 1 Axes>"
      ]
     },
     "metadata": {
      "needs_background": "light"
     },
     "output_type": "display_data"
    }
   ],
   "source": [
    "import matplotlib.pyplot as plt\n",
    "\n",
    "loss = history.history['loss']\n",
    "val_loss = history.history['val_loss']\n",
    "\n",
    "epochs = range(1, len(loss) + 1)\n",
    "\n",
    "plt.plot(epochs, loss, 'bo', label='Training loss')\n",
    "plt.plot(epochs, val_loss, 'b', label='Validation loss')\n",
    "plt.title('Training and validation loss')\n",
    "plt.xlabel('Epochs')\n",
    "plt.ylabel('Loss')\n",
    "plt.legend()\n",
    "\n",
    "plt.show()"
   ]
  },
  {
   "cell_type": "code",
   "execution_count": 16,
   "metadata": {
    "scrolled": true
   },
   "outputs": [
    {
     "data": {
      "image/png": "[encoded data removed]",
      "text/plain": [
       "<Figure size 432x288 with 1 Axes>"
      ]
     },
     "metadata": {
      "needs_background": "light"
     },
     "output_type": "display_data"
    }
   ],
   "source": [
    "accuracy = history.history['accuracy']\n",
    "val_accuracy = history.history['val_accuracy']\n",
    "\n",
    "plt.plot(epochs, accuracy, 'bo', label='Training acc')\n",
    "plt.plot(epochs, val_accuracy, 'b', label='Validation acc')\n",
    "plt.title('Training and validation accuracy')\n",
    "plt.xlabel('Epochs')\n",
    "plt.ylabel('Loss')\n",
    "plt.legend()\n",
    "\n",
    "plt.show()"
   ]
  },
  {
   "cell_type": "code",
   "execution_count": 17,
   "metadata": {},
   "outputs": [],
   "source": [
    "def build_model() :\n",
    "    model = models.Sequential()\n",
    "    model.add (layers.Dense (8 , activation = \"relu\" , input_shape = x.shape))\n",
    "    model.add(layers.Dropout(0.2))\n",
    "    model.add (layers.Dense (8, activation = \"relu\"))\n",
    "    model.add(layers.Dropout(0.2))\n",
    "    model.add (layers.Dense (1 , activation = \"sigmoid\"))\n",
    "    model.compile(optimizer = \"adam\" , loss = \"binary_crossentropy\" , metrics =[\"accuracy\"])\n",
    "    return model"
   ]
  },
  {
   "cell_type": "code",
   "execution_count": 18,
   "metadata": {},
   "outputs": [
    {
     "name": "stdout",
     "output_type": "stream",
     "text": [
      "Epoch 1/96\n",
      "WARNING:tensorflow:Model was constructed with shape (None, 124064, 10) for input KerasTensor(type_spec=TensorSpec(shape=(None, 124064, 10), dtype=tf.float32, name='dense_3_input'), name='dense_3_input', description=\"created by layer 'dense_3_input'\"), but it was called on an input with incompatible shape (None, 10).\n",
      "WARNING:tensorflow:Model was constructed with shape (None, 124064, 10) for input KerasTensor(type_spec=TensorSpec(shape=(None, 124064, 10), dtype=tf.float32, name='dense_3_input'), name='dense_3_input', description=\"created by layer 'dense_3_input'\"), but it was called on an input with incompatible shape (None, 10).\n",
      "568/621 [==========================>...] - ETA: 0s - loss: 0.8559 - accuracy: 0.5386WARNING:tensorflow:Model was constructed with shape (None, 124064, 10) for input KerasTensor(type_spec=TensorSpec(shape=(None, 124064, 10), dtype=tf.float32, name='dense_3_input'), name='dense_3_input', description=\"created by layer 'dense_3_input'\"), but it was called on an input with incompatible shape (None, 10).\n",
      "621/621 [==============================] - 1s 1ms/step - loss: 0.8410 - accuracy: 0.5444 - val_loss: 0.4780 - val_accuracy: 0.8539\n",
      "Epoch 2/96\n",
      "621/621 [==============================] - 1s 958us/step - loss: 0.4841 - accuracy: 0.7952 - val_loss: 0.3057 - val_accuracy: 0.9132\n",
      "Epoch 3/96\n",
      "621/621 [==============================] - 1s 969us/step - loss: 0.3552 - accuracy: 0.8636 - val_loss: 0.2410 - val_accuracy: 0.9267\n",
      "Epoch 4/96\n",
      "621/621 [==============================] - 1s 1ms/step - loss: 0.3004 - accuracy: 0.8894 - val_loss: 0.2106 - val_accuracy: 0.9355\n",
      "Epoch 5/96\n",
      "621/621 [==============================] - 1s 990us/step - loss: 0.2686 - accuracy: 0.9045 - val_loss: 0.1986 - val_accuracy: 0.9414\n",
      "Epoch 6/96\n",
      "621/621 [==============================] - 1s 963us/step - loss: 0.2565 - accuracy: 0.9103 - val_loss: 0.1872 - val_accuracy: 0.9452\n",
      "Epoch 7/96\n",
      "621/621 [==============================] - 1s 998us/step - loss: 0.2471 - accuracy: 0.9139 - val_loss: 0.1808 - val_accuracy: 0.9438\n",
      "Epoch 8/96\n",
      "621/621 [==============================] - 1s 958us/step - loss: 0.2383 - accuracy: 0.9181 - val_loss: 0.1748 - val_accuracy: 0.9476\n",
      "Epoch 9/96\n",
      "621/621 [==============================] - 1s 972us/step - loss: 0.2214 - accuracy: 0.9247 - val_loss: 0.1724 - val_accuracy: 0.9502\n",
      "Epoch 10/96\n",
      "621/621 [==============================] - 1s 1ms/step - loss: 0.2179 - accuracy: 0.9269 - val_loss: 0.1699 - val_accuracy: 0.9504\n",
      "Epoch 11/96\n",
      "621/621 [==============================] - 1s 1ms/step - loss: 0.2098 - accuracy: 0.9298 - val_loss: 0.1696 - val_accuracy: 0.9475\n",
      "Epoch 12/96\n",
      "621/621 [==============================] - 1s 1ms/step - loss: 0.2093 - accuracy: 0.9298 - val_loss: 0.1680 - val_accuracy: 0.9482\n",
      "Epoch 13/96\n",
      "621/621 [==============================] - 1s 969us/step - loss: 0.2061 - accuracy: 0.9297 - val_loss: 0.1692 - val_accuracy: 0.9484\n",
      "Epoch 14/96\n",
      "621/621 [==============================] - 1s 1ms/step - loss: 0.2090 - accuracy: 0.9294 - val_loss: 0.1623 - val_accuracy: 0.9506\n",
      "Epoch 15/96\n",
      "621/621 [==============================] - 1s 1ms/step - loss: 0.2059 - accuracy: 0.9309 - val_loss: 0.1688 - val_accuracy: 0.9471\n",
      "Epoch 16/96\n",
      "621/621 [==============================] - 1s 1ms/step - loss: 0.2025 - accuracy: 0.9323 - val_loss: 0.1611 - val_accuracy: 0.9517\n",
      "Epoch 17/96\n",
      "621/621 [==============================] - 1s 979us/step - loss: 0.1977 - accuracy: 0.9347 - val_loss: 0.1656 - val_accuracy: 0.9496\n",
      "Epoch 18/96\n",
      "621/621 [==============================] - 1s 954us/step - loss: 0.1961 - accuracy: 0.9351 - val_loss: 0.1637 - val_accuracy: 0.9501\n",
      "Epoch 19/96\n",
      "621/621 [==============================] - 1s 1ms/step - loss: 0.2009 - accuracy: 0.9332 - val_loss: 0.1626 - val_accuracy: 0.9519\n",
      "Epoch 20/96\n",
      "621/621 [==============================] - 1s 1ms/step - loss: 0.2012 - accuracy: 0.9331 - val_loss: 0.1639 - val_accuracy: 0.9507\n",
      "Epoch 21/96\n",
      "621/621 [==============================] - 1s 1ms/step - loss: 0.1998 - accuracy: 0.9336 - val_loss: 0.1605 - val_accuracy: 0.9513\n",
      "Epoch 22/96\n",
      "621/621 [==============================] - 1s 997us/step - loss: 0.1955 - accuracy: 0.9357 - val_loss: 0.1617 - val_accuracy: 0.9519\n",
      "Epoch 23/96\n",
      "621/621 [==============================] - 1s 1ms/step - loss: 0.1969 - accuracy: 0.9346 - val_loss: 0.1616 - val_accuracy: 0.9519\n",
      "Epoch 24/96\n",
      "621/621 [==============================] - 1s 1ms/step - loss: 0.1970 - accuracy: 0.9347 - val_loss: 0.1617 - val_accuracy: 0.9515\n",
      "Epoch 25/96\n",
      "621/621 [==============================] - 1s 1ms/step - loss: 0.2000 - accuracy: 0.9335 - val_loss: 0.1603 - val_accuracy: 0.9517\n",
      "Epoch 26/96\n",
      "621/621 [==============================] - 1s 1ms/step - loss: 0.1999 - accuracy: 0.9334 - val_loss: 0.1602 - val_accuracy: 0.9523\n",
      "Epoch 27/96\n",
      "621/621 [==============================] - 1s 1ms/step - loss: 0.1928 - accuracy: 0.9368 - val_loss: 0.1594 - val_accuracy: 0.9532\n",
      "Epoch 28/96\n",
      "621/621 [==============================] - 1s 1ms/step - loss: 0.1944 - accuracy: 0.9359 - val_loss: 0.1598 - val_accuracy: 0.9527\n",
      "Epoch 29/96\n",
      "621/621 [==============================] - 1s 1ms/step - loss: 0.1951 - accuracy: 0.9361 - val_loss: 0.1602 - val_accuracy: 0.9516\n",
      "Epoch 30/96\n",
      "621/621 [==============================] - 1s 1ms/step - loss: 0.1944 - accuracy: 0.9360 - val_loss: 0.1606 - val_accuracy: 0.9521\n",
      "Epoch 31/96\n",
      "621/621 [==============================] - 1s 1ms/step - loss: 0.1937 - accuracy: 0.9362 - val_loss: 0.1601 - val_accuracy: 0.9519\n",
      "Epoch 32/96\n",
      "621/621 [==============================] - 1s 1ms/step - loss: 0.1930 - accuracy: 0.9371 - val_loss: 0.1620 - val_accuracy: 0.9518\n",
      "Epoch 33/96\n",
      "621/621 [==============================] - 1s 1ms/step - loss: 0.1921 - accuracy: 0.9367 - val_loss: 0.1587 - val_accuracy: 0.9532\n",
      "Epoch 34/96\n",
      "621/621 [==============================] - 1s 1ms/step - loss: 0.1943 - accuracy: 0.9363 - val_loss: 0.1610 - val_accuracy: 0.9521\n",
      "Epoch 35/96\n",
      "621/621 [==============================] - 1s 1ms/step - loss: 0.1966 - accuracy: 0.9352 - val_loss: 0.1599 - val_accuracy: 0.9517\n",
      "Epoch 36/96\n",
      "621/621 [==============================] - 1s 1ms/step - loss: 0.1916 - accuracy: 0.9377 - val_loss: 0.1633 - val_accuracy: 0.9507\n",
      "Epoch 37/96\n",
      "621/621 [==============================] - 1s 1ms/step - loss: 0.1943 - accuracy: 0.9362 - val_loss: 0.1632 - val_accuracy: 0.9506\n",
      "Epoch 38/96\n",
      "621/621 [==============================] - 1s 1ms/step - loss: 0.1909 - accuracy: 0.9375 - val_loss: 0.1581 - val_accuracy: 0.9533\n",
      "Epoch 39/96\n",
      "621/621 [==============================] - 1s 1ms/step - loss: 0.1942 - accuracy: 0.9361 - val_loss: 0.1625 - val_accuracy: 0.9505\n",
      "Epoch 40/96\n",
      "621/621 [==============================] - 1s 1ms/step - loss: 0.1895 - accuracy: 0.9382 - val_loss: 0.1589 - val_accuracy: 0.9525\n",
      "Epoch 41/96\n",
      "621/621 [==============================] - 1s 1ms/step - loss: 0.1942 - accuracy: 0.9364 - val_loss: 0.1565 - val_accuracy: 0.9538\n",
      "Epoch 42/96\n",
      "621/621 [==============================] - 1s 1ms/step - loss: 0.1937 - accuracy: 0.9363 - val_loss: 0.1598 - val_accuracy: 0.9519\n",
      "Epoch 43/96\n",
      "621/621 [==============================] - 1s 1ms/step - loss: 0.1916 - accuracy: 0.9373 - val_loss: 0.1592 - val_accuracy: 0.9522\n",
      "Epoch 44/96\n",
      "621/621 [==============================] - 1s 1ms/step - loss: 0.1906 - accuracy: 0.9371 - val_loss: 0.1565 - val_accuracy: 0.9533\n",
      "Epoch 45/96\n",
      "621/621 [==============================] - 1s 1ms/step - loss: 0.1910 - accuracy: 0.9375 - val_loss: 0.1630 - val_accuracy: 0.9509\n",
      "Epoch 46/96\n",
      "621/621 [==============================] - 1s 1ms/step - loss: 0.1930 - accuracy: 0.9365 - val_loss: 0.1664 - val_accuracy: 0.9488\n",
      "Epoch 47/96\n",
      "621/621 [==============================] - 1s 1ms/step - loss: 0.1908 - accuracy: 0.9377 - val_loss: 0.1559 - val_accuracy: 0.9536\n",
      "Epoch 48/96\n",
      "621/621 [==============================] - 1s 1ms/step - loss: 0.1901 - accuracy: 0.9382 - val_loss: 0.1578 - val_accuracy: 0.9535\n",
      "Epoch 49/96\n",
      "621/621 [==============================] - 1s 1ms/step - loss: 0.1915 - accuracy: 0.9377 - val_loss: 0.1591 - val_accuracy: 0.9528\n",
      "Epoch 50/96\n",
      "621/621 [==============================] - 1s 1ms/step - loss: 0.1903 - accuracy: 0.9381 - val_loss: 0.1599 - val_accuracy: 0.9530\n"
     ]
    },
    {
     "name": "stdout",
     "output_type": "stream",
     "text": [
      "Epoch 51/96\n",
      "621/621 [==============================] - 1s 1ms/step - loss: 0.1926 - accuracy: 0.9366 - val_loss: 0.1570 - val_accuracy: 0.9529\n",
      "Epoch 52/96\n",
      "621/621 [==============================] - 1s 1ms/step - loss: 0.1875 - accuracy: 0.9393 - val_loss: 0.1567 - val_accuracy: 0.9543\n",
      "Epoch 53/96\n",
      "621/621 [==============================] - 1s 1ms/step - loss: 0.1942 - accuracy: 0.9359 - val_loss: 0.1560 - val_accuracy: 0.9542\n",
      "Epoch 54/96\n",
      "621/621 [==============================] - 1s 1ms/step - loss: 0.1929 - accuracy: 0.9369 - val_loss: 0.1554 - val_accuracy: 0.9544\n",
      "Epoch 55/96\n",
      "621/621 [==============================] - 1s 1ms/step - loss: 0.1923 - accuracy: 0.9370 - val_loss: 0.1610 - val_accuracy: 0.9518\n",
      "Epoch 56/96\n",
      "621/621 [==============================] - 1s 1ms/step - loss: 0.1880 - accuracy: 0.9390 - val_loss: 0.1559 - val_accuracy: 0.9538\n",
      "Epoch 57/96\n",
      "621/621 [==============================] - 1s 1ms/step - loss: 0.1890 - accuracy: 0.9386 - val_loss: 0.1643 - val_accuracy: 0.9496\n",
      "Epoch 58/96\n",
      "621/621 [==============================] - 1s 1ms/step - loss: 0.1892 - accuracy: 0.9383 - val_loss: 0.1620 - val_accuracy: 0.9512\n",
      "Epoch 59/96\n",
      "621/621 [==============================] - 1s 1ms/step - loss: 0.1913 - accuracy: 0.9376 - val_loss: 0.1608 - val_accuracy: 0.9521\n",
      "Epoch 60/96\n",
      "621/621 [==============================] - 1s 1ms/step - loss: 0.1874 - accuracy: 0.9391 - val_loss: 0.1651 - val_accuracy: 0.9497\n",
      "Epoch 61/96\n",
      "621/621 [==============================] - 1s 1ms/step - loss: 0.1918 - accuracy: 0.9373 - val_loss: 0.1620 - val_accuracy: 0.9506\n",
      "Epoch 62/96\n",
      "621/621 [==============================] - 1s 1ms/step - loss: 0.1919 - accuracy: 0.9375 - val_loss: 0.1549 - val_accuracy: 0.9549\n",
      "Epoch 63/96\n",
      "621/621 [==============================] - 1s 1ms/step - loss: 0.1920 - accuracy: 0.9372 - val_loss: 0.1578 - val_accuracy: 0.9532\n",
      "Epoch 64/96\n",
      "621/621 [==============================] - 1s 1ms/step - loss: 0.1919 - accuracy: 0.9371 - val_loss: 0.1665 - val_accuracy: 0.9490\n",
      "Epoch 65/96\n",
      "621/621 [==============================] - 1s 1ms/step - loss: 0.1904 - accuracy: 0.9386 - val_loss: 0.1550 - val_accuracy: 0.9542\n",
      "Epoch 66/96\n",
      "621/621 [==============================] - 1s 1ms/step - loss: 0.1892 - accuracy: 0.9387 - val_loss: 0.1565 - val_accuracy: 0.9538\n",
      "Epoch 67/96\n",
      "621/621 [==============================] - 1s 1ms/step - loss: 0.1879 - accuracy: 0.9386 - val_loss: 0.1580 - val_accuracy: 0.9530\n",
      "Epoch 68/96\n",
      "621/621 [==============================] - 1s 1ms/step - loss: 0.1895 - accuracy: 0.9384 - val_loss: 0.1686 - val_accuracy: 0.9476\n",
      "Epoch 69/96\n",
      "621/621 [==============================] - 1s 1ms/step - loss: 0.1961 - accuracy: 0.9354 - val_loss: 0.1592 - val_accuracy: 0.9520\n",
      "Epoch 70/96\n",
      "621/621 [==============================] - 1s 1ms/step - loss: 0.1867 - accuracy: 0.9398 - val_loss: 0.1544 - val_accuracy: 0.9546\n",
      "Epoch 71/96\n",
      "621/621 [==============================] - 1s 1ms/step - loss: 0.1859 - accuracy: 0.9401 - val_loss: 0.1551 - val_accuracy: 0.9546\n",
      "Epoch 72/96\n",
      "621/621 [==============================] - 1s 1ms/step - loss: 0.1892 - accuracy: 0.9383 - val_loss: 0.1592 - val_accuracy: 0.9521\n",
      "Epoch 73/96\n",
      "621/621 [==============================] - 1s 1ms/step - loss: 0.1914 - accuracy: 0.9374 - val_loss: 0.1574 - val_accuracy: 0.9531\n",
      "Epoch 74/96\n",
      "621/621 [==============================] - 1s 1ms/step - loss: 0.1919 - accuracy: 0.9373 - val_loss: 0.1561 - val_accuracy: 0.9543\n",
      "Epoch 75/96\n",
      "621/621 [==============================] - 1s 1ms/step - loss: 0.1907 - accuracy: 0.9381 - val_loss: 0.1589 - val_accuracy: 0.9530\n",
      "Epoch 76/96\n",
      "621/621 [==============================] - 1s 1ms/step - loss: 0.1913 - accuracy: 0.9369 - val_loss: 0.1565 - val_accuracy: 0.9534\n",
      "Epoch 77/96\n",
      "621/621 [==============================] - 1s 1ms/step - loss: 0.1923 - accuracy: 0.9371 - val_loss: 0.1522 - val_accuracy: 0.9554\n",
      "Epoch 78/96\n",
      "621/621 [==============================] - 1s 1ms/step - loss: 0.1909 - accuracy: 0.9376 - val_loss: 0.1590 - val_accuracy: 0.9518\n",
      "Epoch 79/96\n",
      "621/621 [==============================] - 1s 2ms/step - loss: 0.1862 - accuracy: 0.9402 - val_loss: 0.1550 - val_accuracy: 0.9534\n",
      "Epoch 80/96\n",
      "621/621 [==============================] - 1s 2ms/step - loss: 0.1892 - accuracy: 0.9389 - val_loss: 0.1587 - val_accuracy: 0.9520\n",
      "Epoch 81/96\n",
      "621/621 [==============================] - 1s 1ms/step - loss: 0.1913 - accuracy: 0.9377 - val_loss: 0.1537 - val_accuracy: 0.9544\n",
      "Epoch 82/96\n",
      "621/621 [==============================] - 1s 2ms/step - loss: 0.1870 - accuracy: 0.9400 - val_loss: 0.1617 - val_accuracy: 0.9507\n",
      "Epoch 83/96\n",
      "621/621 [==============================] - 1s 1ms/step - loss: 0.1880 - accuracy: 0.9388 - val_loss: 0.1550 - val_accuracy: 0.9538\n",
      "Epoch 84/96\n",
      "621/621 [==============================] - 1s 1ms/step - loss: 0.1982 - accuracy: 0.9342 - val_loss: 0.1659 - val_accuracy: 0.9488\n",
      "Epoch 85/96\n",
      "621/621 [==============================] - 1s 1ms/step - loss: 0.1923 - accuracy: 0.9366 - val_loss: 0.1635 - val_accuracy: 0.9493\n",
      "Epoch 86/96\n",
      "621/621 [==============================] - 1s 1ms/step - loss: 0.1881 - accuracy: 0.9391 - val_loss: 0.1553 - val_accuracy: 0.9543\n",
      "Epoch 87/96\n",
      "621/621 [==============================] - 1s 1ms/step - loss: 0.1877 - accuracy: 0.9391 - val_loss: 0.1550 - val_accuracy: 0.9540\n",
      "Epoch 88/96\n",
      "621/621 [==============================] - 1s 2ms/step - loss: 0.1885 - accuracy: 0.9388 - val_loss: 0.1585 - val_accuracy: 0.9523\n",
      "Epoch 89/96\n",
      "621/621 [==============================] - 1s 1ms/step - loss: 0.1953 - accuracy: 0.9362 - val_loss: 0.1585 - val_accuracy: 0.9527\n",
      "Epoch 90/96\n",
      "621/621 [==============================] - 1s 2ms/step - loss: 0.1883 - accuracy: 0.9391 - val_loss: 0.1570 - val_accuracy: 0.9532\n",
      "Epoch 91/96\n",
      "621/621 [==============================] - 1s 1ms/step - loss: 0.1886 - accuracy: 0.9387 - val_loss: 0.1559 - val_accuracy: 0.9535\n",
      "Epoch 92/96\n",
      "621/621 [==============================] - 1s 1ms/step - loss: 0.1884 - accuracy: 0.9388 - val_loss: 0.1577 - val_accuracy: 0.9529\n",
      "Epoch 93/96\n",
      "621/621 [==============================] - 1s 1ms/step - loss: 0.1905 - accuracy: 0.9376 - val_loss: 0.1556 - val_accuracy: 0.9536\n",
      "Epoch 94/96\n",
      "621/621 [==============================] - 1s 2ms/step - loss: 0.1845 - accuracy: 0.9403 - val_loss: 0.1529 - val_accuracy: 0.9549\n",
      "Epoch 95/96\n",
      "621/621 [==============================] - 1s 1ms/step - loss: 0.1924 - accuracy: 0.9369 - val_loss: 0.1546 - val_accuracy: 0.9541\n",
      "Epoch 96/96\n",
      "621/621 [==============================] - 1s 1ms/step - loss: 0.1868 - accuracy: 0.9394 - val_loss: 0.1516 - val_accuracy: 0.9553\n"
     ]
    }
   ],
   "source": [
    "model = build_model ()\n",
    "history = model.fit ( x_train, y_train, epochs = 96, batch_size = 150 , validation_data = (x_val, y_val) )\n",
    "model.save(\"../models/classifier/with-dropout-100.h5\")"
   ]
  },
  {
   "cell_type": "markdown",
   "metadata": {},
   "source": [
    "## Adding Dropout\n",
    "\n",
    "Dropout is one of the most effective and most commonly used regularization techniques for neural networks, developed by Geoff Hinton and his students at the University of Toronto. Dropout, applied to a layer, consists of randomly dropping out (setting to zero) a number of output features of the layer during training. Let’s say a\n",
    "given layer would normally return a vector [0.2, 0.5, 1.3, 0.8, 1.1] for a given input sample during training. After applying dropout, this vector will have a few zero entries distributed at random: for example, [0, 0.5, 1.3, 0, 1.1]. The dropout rate is the fraction of the features that are zeroed out; it’s usually set between 0.2 and 0.5. At test time, no units are dropped out; instead, the layer’s output values are scaled down by a factor equal to the dropout rate, to balance for the fact that more units are active than at training time.\n",
    "\n",
    "##### [From Deep Learning with Python, Chollet]"
   ]
  },
  {
   "cell_type": "code",
   "execution_count": 19,
   "metadata": {},
   "outputs": [
    {
     "data": {
      "image/png": "[encoded data removed]",
      "text/plain": [
       "<Figure size 432x288 with 1 Axes>"
      ]
     },
     "metadata": {
      "needs_background": "light"
     },
     "output_type": "display_data"
    }
   ],
   "source": [
    "import matplotlib.pyplot as plt\n",
    "\n",
    "loss = history.history['loss']\n",
    "val_loss = history.history['val_loss']\n",
    "\n",
    "epochs = range(1, len(loss) + 1)\n",
    "\n",
    "plt.plot(epochs, loss, 'bo', label='Training loss')\n",
    "plt.plot(epochs, val_loss, 'b', label='Validation loss')\n",
    "plt.title('Training and validation loss')\n",
    "plt.xlabel('Epochs')\n",
    "plt.ylabel('Loss')\n",
    "plt.legend()\n",
    "\n",
    "plt.show()"
   ]
  },
  {
   "cell_type": "code",
   "execution_count": 20,
   "metadata": {
    "scrolled": true
   },
   "outputs": [
    {
     "data": {
      "image/png": "[encoded data removed]",
      "text/plain": [
       "<Figure size 432x288 with 1 Axes>"
      ]
     },
     "metadata": {
      "needs_background": "light"
     },
     "output_type": "display_data"
    }
   ],
   "source": [
    "plt.clf()   # clear figure\n",
    "\n",
    "accuracy = history.history['accuracy']\n",
    "val_accuracy = history.history['val_accuracy']\n",
    "\n",
    "plt.plot(epochs, accuracy, 'bo', label='Training acc')\n",
    "plt.plot(epochs, val_accuracy, 'b', label='Validation acc')\n",
    "plt.title('Training and validation accuracy')\n",
    "plt.xlabel('Epochs')\n",
    "plt.ylabel('Loss')\n",
    "plt.legend()\n",
    "\n",
    "plt.show()"
   ]
  }
 ],
 "metadata": {
  "kernelspec": {
   "display_name": "Python 3",
   "language": "python",
   "name": "python3"
  },
  "language_info": {
   "codemirror_mode": {
    "name": "ipython",
    "version": 3
   },
   "file_extension": ".py",
   "mimetype": "text/x-python",
   "name": "python",
   "nbconvert_exporter": "python",
   "pygments_lexer": "ipython3",
   "version": "3.8.7"
  }
 },
 "nbformat": 4,
 "nbformat_minor": 4
}
