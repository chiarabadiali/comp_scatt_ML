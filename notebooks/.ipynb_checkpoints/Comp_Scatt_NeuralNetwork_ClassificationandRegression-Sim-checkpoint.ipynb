{
 "cells": [
  {
   "cell_type": "code",
   "execution_count": 1,
   "metadata": {},
   "outputs": [
    {
     "name": "stdout",
     "output_type": "stream",
     "text": [
      "1.2.0\n"
     ]
    }
   ],
   "source": [
    "import pandas as pd \n",
    "import numpy as np\n",
    "import math\n",
    "import tensorflow as tf\n",
    "print(pd.__version__)\n",
    "import matplotlib.pyplot as plt\n",
    "import progressbar\n",
    "import scipy\n",
    "import random"
   ]
  },
  {
   "cell_type": "markdown",
   "metadata": {},
   "source": [
    "## Print Dependencies\n",
    "\n",
    "\n",
    "\n",
    "Dependences are fundamental to record the computational environment."
   ]
  },
  {
   "cell_type": "code",
   "execution_count": 2,
   "metadata": {},
   "outputs": [
    {
     "name": "stdout",
     "output_type": "stream",
     "text": [
      "Python implementation: CPython\n",
      "Python version       : 3.7.7\n",
      "IPython version      : 7.19.0\n",
      "\n",
      "pandas     : 1.2.0\n",
      "keras      : 2.4.3\n",
      "numpy      : 1.19.5\n",
      "math       : unknown\n",
      "tensorflow : 2.4.0\n",
      "matplotlib : 3.3.3\n",
      "h5py       : 2.10.0\n",
      "progressbar: 2.5\n",
      "scipy      : 1.6.0\n",
      "\n",
      "Compiler    : GCC 5.4.0 20160609\n",
      "OS          : Linux\n",
      "Release     : 5.8.0-41-generic\n",
      "Machine     : x86_64\n",
      "Processor   : x86_64\n",
      "CPU cores   : 8\n",
      "Architecture: 64bit\n",
      "\n",
      " \n",
      "Last updated: Tue Feb 02 2021 16:36:38CET\n",
      "\n"
     ]
    }
   ],
   "source": [
    "%load_ext watermark\n",
    "\n",
    "# python, ipython, packages, and machine characteristics\n",
    "%watermark -v -m -p pandas,keras,numpy,math,tensorflow,matplotlib,h5py,progressbar,scipy\n",
    "\n",
    "# date\n",
    "print (\" \")\n",
    "%watermark -u -n -t -z"
   ]
  },
  {
   "cell_type": "markdown",
   "metadata": {},
   "source": [
    "### Load of the test data"
   ]
  },
  {
   "cell_type": "code",
   "execution_count": 224,
   "metadata": {},
   "outputs": [],
   "source": [
    "from process import loaddata\n",
    "regr_data = loaddata(\"../data/regression/100.csv\")\n",
    "class_data = loaddata(\"../data/classifier/100.csv\")"
   ]
  },
  {
   "cell_type": "code",
   "execution_count": null,
   "metadata": {},
   "outputs": [],
   "source": [
    "np.random.shuffle(class_data)\n",
    "yc_test = class_data[:,0]\n",
    "xc_test = class_data[:,1:]\n",
    "xc_test.shape"
   ]
  },
  {
   "cell_type": "code",
   "execution_count": null,
   "metadata": {},
   "outputs": [],
   "source": [
    "np.random.shuffle(regr_data)\n",
    "yr_test = regr_data[:,-3:]\n",
    "xr_test = regr_data[:,:6]"
   ]
  },
  {
   "cell_type": "markdown",
   "metadata": {},
   "source": [
    "### Model Load"
   ]
  },
  {
   "cell_type": "code",
   "execution_count": 158,
   "metadata": {
    "scrolled": true
   },
   "outputs": [],
   "source": [
    "from tensorflow import keras \n",
    "model_regr = keras.models.load_model('../models/regression/large_mse250.h5')\n",
    "model_class = keras.models.load_model('../models/classifier/with-dropout-250.h5')"
   ]
  },
  {
   "cell_type": "code",
   "execution_count": 160,
   "metadata": {},
   "outputs": [
    {
     "name": "stdout",
     "output_type": "stream",
     "text": [
      "Model: \"sequential\"\n",
      "_________________________________________________________________\n",
      "Layer (type)                 Output Shape              Param #   \n",
      "=================================================================\n",
      "dense (Dense)                (None, 167219, 12)        84        \n",
      "_________________________________________________________________\n",
      "dense_1 (Dense)              (None, 167219, 32)        416       \n",
      "_________________________________________________________________\n",
      "dense_2 (Dense)              (None, 167219, 64)        2112      \n",
      "_________________________________________________________________\n",
      "dense_3 (Dense)              (None, 167219, 128)       8320      \n",
      "_________________________________________________________________\n",
      "dense_4 (Dense)              (None, 167219, 128)       16512     \n",
      "_________________________________________________________________\n",
      "dense_5 (Dense)              (None, 167219, 64)        8256      \n",
      "_________________________________________________________________\n",
      "dense_6 (Dense)              (None, 167219, 32)        2080      \n",
      "_________________________________________________________________\n",
      "dense_7 (Dense)              (None, 167219, 12)        396       \n",
      "_________________________________________________________________\n",
      "dense_8 (Dense)              (None, 167219, 3)         39        \n",
      "=================================================================\n",
      "Total params: 38,215\n",
      "Trainable params: 38,215\n",
      "Non-trainable params: 0\n",
      "_________________________________________________________________\n"
     ]
    }
   ],
   "source": [
    "model_regr.summary()"
   ]
  },
  {
   "cell_type": "code",
   "execution_count": 161,
   "metadata": {},
   "outputs": [
    {
     "name": "stdout",
     "output_type": "stream",
     "text": [
      "Model: \"sequential_4\"\n",
      "_________________________________________________________________\n",
      "Layer (type)                 Output Shape              Param #   \n",
      "=================================================================\n",
      "dense_12 (Dense)             (None, 124064, 16)        176       \n",
      "_________________________________________________________________\n",
      "dropout_4 (Dropout)          (None, 124064, 16)        0         \n",
      "_________________________________________________________________\n",
      "dense_13 (Dense)             (None, 124064, 16)        272       \n",
      "_________________________________________________________________\n",
      "dropout_5 (Dropout)          (None, 124064, 16)        0         \n",
      "_________________________________________________________________\n",
      "dense_14 (Dense)             (None, 124064, 1)         17        \n",
      "=================================================================\n",
      "Total params: 465\n",
      "Trainable params: 465\n",
      "Non-trainable params: 0\n",
      "_________________________________________________________________\n"
     ]
    }
   ],
   "source": [
    "model_class.summary()"
   ]
  },
  {
   "cell_type": "markdown",
   "metadata": {},
   "source": [
    "### Simulation setup"
   ]
  },
  {
   "cell_type": "code",
   "execution_count": 218,
   "metadata": {},
   "outputs": [],
   "source": [
    "def generate_pairs(modulus, gamma):\n",
    "    \n",
    "    a = random.uniform(-1, 1)\n",
    "    b = random.uniform(-1, 1)\n",
    "    c = random.uniform(-1, 1)\n",
    "    direction = np.array([a, b, c])\n",
    "    direction = direction/np.linalg.norm(direction)\n",
    "\n",
    "    x_e = random.uniform(0, 1)\n",
    "    y_e = random.uniform(0, 1)    \n",
    "    x_p = random.uniform(0, 1)\n",
    "    y_p = random.uniform(0, 1)\n",
    "    \n",
    "    px = modulus*direction[0]\n",
    "    py = modulus*direction[1]\n",
    "    pz = modulus*direction[2]\n",
    "    \n",
    "    return np.array([gamma, 0, 0, px, py, pz, x_e, y_e, x_p, y_p])\n",
    "\n",
    "    "
   ]
  },
  {
   "cell_type": "code",
   "execution_count": 219,
   "metadata": {},
   "outputs": [],
   "source": [
    "num_par_x = 100\n",
    "\n",
    "modulus = 0.025\n",
    "gamma = 100\n",
    "\n",
    "pairs = []\n",
    "for i in range(num_par_x):\n",
    "    pairs.append(generate_pairs(modulus, gamma))"
   ]
  },
  {
   "cell_type": "code",
   "execution_count": 220,
   "metadata": {},
   "outputs": [
    {
     "data": {
      "text/plain": [
       "(100, 10)"
      ]
     },
     "execution_count": 220,
     "metadata": {},
     "output_type": "execute_result"
    }
   ],
   "source": [
    "pairs = np.array(pairs)\n",
    "pairs.shape"
   ]
  },
  {
   "cell_type": "code",
   "execution_count": 222,
   "metadata": {},
   "outputs": [],
   "source": [
    "y = []\n",
    "pred = []\n",
    "\n",
    "y = model_class.predict(pairs)\n",
    "data = np.hstack((y, pairs))\n",
    "data = data[np.logical_not(data[:,0] < 0.5)]\n",
    "prediction = model_regr.predict(data[:,1:7])"
   ]
  },
  {
   "cell_type": "code",
   "execution_count": 223,
   "metadata": {},
   "outputs": [
    {
     "name": "stdout",
     "output_type": "stream",
     "text": [
      "(100, 11)\n",
      "(100, 3)\n"
     ]
    }
   ],
   "source": [
    "print(data.shape)\n",
    "print(prediction.shape)"
   ]
  },
  {
   "cell_type": "code",
   "execution_count": 197,
   "metadata": {},
   "outputs": [],
   "source": [
    "def energy_spectrum(energy_array, bins):\n",
    "    energy_array = np.array(energy_array)\n",
    "    plt.hist(energy_array, bins, alpha = 0.5, color = 'blue',histtype=u'step', density=True)\n",
    "    plt.yscale(\"log\")\n",
    "    plt.figure\n",
    "    plt.show()"
   ]
  },
  {
   "cell_type": "code",
   "execution_count": 198,
   "metadata": {
    "scrolled": false
   },
   "outputs": [],
   "source": [
    "from tensorflow import keras \n",
    "photon_final_nn = []"
   ]
  },
  {
   "cell_type": "code",
   "execution_count": 199,
   "metadata": {},
   "outputs": [],
   "source": [
    "from tensorflow import keras \n",
    "final_p_nn = []\n",
    "\n",
    "for pred in prediction:\n",
    "    final_p_nn.append(np.linalg.norm(pred))\n",
    "bar.finish()"
   ]
  },
  {
   "cell_type": "code",
   "execution_count": 200,
   "metadata": {},
   "outputs": [
    {
     "data": {
      "image/png": "[encoded data removed]",
      "text/plain": [
       "<Figure size 432x288 with 1 Axes>"
      ]
     },
     "metadata": {
      "needs_background": "light"
     },
     "output_type": "display_data"
    }
   ],
   "source": [
    "p1p_nn = prediction[:,0] \n",
    "energy_spectrum(p1p_nn, 75)"
   ]
  },
  {
   "cell_type": "code",
   "execution_count": 201,
   "metadata": {},
   "outputs": [
    {
     "data": {
      "image/png": "[encoded data removed]",
      "text/plain": [
       "<Figure size 432x288 with 1 Axes>"
      ]
     },
     "metadata": {
      "needs_background": "light"
     },
     "output_type": "display_data"
    }
   ],
   "source": [
    "p2p_nn = prediction[:,1] \n",
    "energy_spectrum(p2p_nn, 75)"
   ]
  },
  {
   "cell_type": "code",
   "execution_count": 202,
   "metadata": {},
   "outputs": [
    {
     "data": {
      "image/png": "[encoded data removed]",
      "text/plain": [
       "<Figure size 432x288 with 1 Axes>"
      ]
     },
     "metadata": {
      "needs_background": "light"
     },
     "output_type": "display_data"
    }
   ],
   "source": [
    "p3p_nn = prediction[:,2] \n",
    "energy_spectrum(p3p_nn, 75)"
   ]
  },
  {
   "cell_type": "code",
   "execution_count": 203,
   "metadata": {},
   "outputs": [
    {
     "data": {
      "image/png": "[encoded data removed]",
      "text/plain": [
       "<Figure size 432x288 with 1 Axes>"
      ]
     },
     "metadata": {
      "needs_background": "light"
     },
     "output_type": "display_data"
    }
   ],
   "source": [
    "energy_spectrum(final_p_nn, 75)"
   ]
  },
  {
   "cell_type": "code",
   "execution_count": null,
   "metadata": {},
   "outputs": [],
   "source": []
  },
  {
   "cell_type": "code",
   "execution_count": null,
   "metadata": {},
   "outputs": [],
   "source": []
  },
  {
   "cell_type": "code",
   "execution_count": null,
   "metadata": {},
   "outputs": [],
   "source": []
  },
  {
   "cell_type": "code",
   "execution_count": null,
   "metadata": {},
   "outputs": [],
   "source": []
  }
 ],
 "metadata": {
  "kernelspec": {
   "display_name": "Python 3",
   "language": "python",
   "name": "python3"
  },
  "language_info": {
   "codemirror_mode": {
    "name": "ipython",
    "version": 3
   },
   "file_extension": ".py",
   "mimetype": "text/x-python",
   "name": "python",
   "nbconvert_exporter": "python",
   "pygments_lexer": "ipython3",
   "version": "3.7.7"
  }
 },
 "nbformat": 4,
 "nbformat_minor": 4
}
