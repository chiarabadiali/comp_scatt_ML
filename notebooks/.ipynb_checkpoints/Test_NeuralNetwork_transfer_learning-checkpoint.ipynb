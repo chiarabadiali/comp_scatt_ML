{
 "cells": [
  {
   "cell_type": "code",
   "execution_count": 1,
   "metadata": {},
   "outputs": [
    {
     "name": "stdout",
     "output_type": "stream",
     "text": [
      "1.2.0\n"
     ]
    }
   ],
   "source": [
    "import pandas as pd \n",
    "import numpy as np\n",
    "import math\n",
    "import tensorflow as tf\n",
    "import matplotlib.pyplot as plt\n",
    "print(pd.__version__)\n",
    "import progressbar\n",
    "import os\n",
    "from scipy.stats import norm\n",
    "import matplotlib.mlab as mlab\n",
    "import matplotlib.pyplot as plt\n",
    "import scipy.stats as stats\n",
    "from scipy.stats import chisquare"
   ]
  },
  {
   "cell_type": "markdown",
   "metadata": {},
   "source": [
    "## Print Dependencies\n",
    "\n",
    "\n",
    "\n",
    "Dependences are fundamental to record the computational environment."
   ]
  },
  {
   "cell_type": "code",
   "execution_count": 2,
   "metadata": {},
   "outputs": [
    {
     "name": "stdout",
     "output_type": "stream",
     "text": [
      "Python implementation: CPython\n",
      "Python version       : 3.8.7\n",
      "IPython version      : 7.18.1\n",
      "\n",
      "pandas     : 1.2.0\n",
      "keras      : 2.4.3\n",
      "numpy      : 1.19.5\n",
      "math       : unknown\n",
      "tensorflow : 2.4.0\n",
      "matplotlib : 3.3.3\n",
      "h5py       : 2.10.0\n",
      "progressbar: 2.5\n",
      "scipy      : 1.5.2\n",
      "os         : unknown\n",
      "\n",
      "Compiler    : Clang 12.0.0 (clang-1200.0.32.28)\n",
      "OS          : Darwin\n",
      "Release     : 20.2.0\n",
      "Machine     : x86_64\n",
      "Processor   : i386\n",
      "CPU cores   : 8\n",
      "Architecture: 64bit\n",
      "\n",
      " \n",
      "Last updated: Wed Feb 03 2021 20:21:55CET\n",
      "\n"
     ]
    }
   ],
   "source": [
    "%load_ext watermark\n",
    "\n",
    "# python, ipython, packages, and machine characteristics\n",
    "%watermark -v -m -p pandas,keras,numpy,math,tensorflow,matplotlib,h5py,progressbar,scipy,os\n",
    "\n",
    "# date\n",
    "print (\" \")\n",
    "%watermark -u -n -t -z"
   ]
  },
  {
   "cell_type": "markdown",
   "metadata": {},
   "source": [
    "### Load of the test data"
   ]
  },
  {
   "cell_type": "markdown",
   "metadata": {},
   "source": [
    "- 100\n",
    "- 250\n",
    "- 100-high-ene\n",
    "- inverse-compton"
   ]
  },
  {
   "cell_type": "code",
   "execution_count": 3,
   "metadata": {},
   "outputs": [
    {
     "name": "stdout",
     "output_type": "stream",
     "text": [
      "Which file do you want to transfer learn to?\n",
      "inverse-compton\n"
     ]
    }
   ],
   "source": [
    "n = input('Which file do you want to transfer learn to?\\n')"
   ]
  },
  {
   "cell_type": "code",
   "execution_count": 4,
   "metadata": {},
   "outputs": [],
   "source": [
    "from process import loaddata\n",
    "regr_data = loaddata(\"../data/regression/{}.csv\".format(n))\n",
    "class_data = loaddata(\"../data/classifier/{}.csv\".format(n))"
   ]
  },
  {
   "cell_type": "code",
   "execution_count": 5,
   "metadata": {},
   "outputs": [],
   "source": [
    "np.random.shuffle(regr_data)\n",
    "yr = regr_data[:,-3:]\n",
    "xr = regr_data[:,:6]\n",
    "\n",
    "np.random.shuffle(class_data)\n",
    "yc = class_data[:,0]\n",
    "xc = class_data[:,1:]"
   ]
  },
  {
   "cell_type": "code",
   "execution_count": 6,
   "metadata": {
    "scrolled": true
   },
   "outputs": [
    {
     "name": "stdout",
     "output_type": "stream",
     "text": [
      "Classifier:\n",
      "Training sample: 2593 \n",
      "Valuation sample: 289\n",
      "Regression:\n",
      "Training sample: 1296 \n",
      "Valuation sample: 145\n"
     ]
    }
   ],
   "source": [
    "train_split = 0.9\n",
    "train_limitc = int(len(yc)*train_split)\n",
    "train_limitr = int(len(yr)*train_split)\n",
    "print(\"Classifier:\")\n",
    "print(\"Training sample: {0} \\nValuation sample: {1}\".format(train_limitc, len(yc)-train_limitc))\n",
    "print(\"Regression:\")\n",
    "print(\"Training sample: {0} \\nValuation sample: {1}\".format(train_limitr, len(yr)-train_limitr))"
   ]
  },
  {
   "cell_type": "code",
   "execution_count": 7,
   "metadata": {},
   "outputs": [],
   "source": [
    "x_tc = xc[:train_limitc]\n",
    "x_vc = xc[train_limitc:]\n",
    "\n",
    "y_tc = yc[:train_limitc]\n",
    "y_vc = yc[train_limitc:]\n",
    "\n",
    "x_tr = xr[:train_limitr]\n",
    "x_vr = xr[train_limitr:]\n",
    "\n",
    "y_tr = yr[:train_limitr]\n",
    "y_vr = yr[train_limitr:]"
   ]
  },
  {
   "cell_type": "markdown",
   "metadata": {},
   "source": [
    "### Model Load"
   ]
  },
  {
   "cell_type": "code",
   "execution_count": 8,
   "metadata": {},
   "outputs": [],
   "source": [
    "from tensorflow import keras "
   ]
  },
  {
   "cell_type": "code",
   "execution_count": 9,
   "metadata": {},
   "outputs": [],
   "source": [
    "model_regr = keras.models.load_model('../models/regression/large_mse.h5')\n",
    "model_class = keras.models.load_model('../models/classifier/with-dropout-250.h5')"
   ]
  },
  {
   "cell_type": "markdown",
   "metadata": {},
   "source": [
    "### Train the old models with new unseen and sparse data"
   ]
  },
  {
   "cell_type": "code",
   "execution_count": 23,
   "metadata": {},
   "outputs": [
    {
     "name": "stdout",
     "output_type": "stream",
     "text": [
      "Epoch 1/20\n",
      "82/82 [==============================] - 0s 2ms/step - loss: 540.0135 - accuracy: 0.8982 - val_loss: 0.4606 - val_accuracy: 0.9135\n",
      "Epoch 2/20\n",
      "82/82 [==============================] - 0s 1ms/step - loss: 397.0104 - accuracy: 0.9001 - val_loss: 0.3413 - val_accuracy: 0.9066\n",
      "Epoch 3/20\n",
      "82/82 [==============================] - 0s 1ms/step - loss: 478.2885 - accuracy: 0.9040 - val_loss: 0.3023 - val_accuracy: 0.9066\n",
      "Epoch 4/20\n",
      "82/82 [==============================] - 0s 1ms/step - loss: 328.6128 - accuracy: 0.9001 - val_loss: 0.2609 - val_accuracy: 0.9100\n",
      "Epoch 5/20\n",
      "82/82 [==============================] - 0s 1ms/step - loss: 315.0021 - accuracy: 0.8959 - val_loss: 0.2392 - val_accuracy: 0.9100\n",
      "Epoch 6/20\n",
      "82/82 [==============================] - 0s 2ms/step - loss: 257.2695 - accuracy: 0.8974 - val_loss: 0.2452 - val_accuracy: 0.9066\n",
      "Epoch 7/20\n",
      "82/82 [==============================] - 0s 1ms/step - loss: 115.9608 - accuracy: 0.9024 - val_loss: 0.2395 - val_accuracy: 0.9100\n",
      "Epoch 8/20\n",
      "82/82 [==============================] - 0s 1ms/step - loss: 120.6012 - accuracy: 0.8982 - val_loss: 0.2353 - val_accuracy: 0.9100\n",
      "Epoch 9/20\n",
      "82/82 [==============================] - 0s 2ms/step - loss: 546.3636 - accuracy: 0.8905 - val_loss: 0.2334 - val_accuracy: 0.9135\n",
      "Epoch 10/20\n",
      "82/82 [==============================] - 0s 2ms/step - loss: 91.3087 - accuracy: 0.8990 - val_loss: 0.2333 - val_accuracy: 0.9135\n",
      "Epoch 11/20\n",
      "82/82 [==============================] - 0s 2ms/step - loss: 165.9996 - accuracy: 0.8978 - val_loss: 0.2333 - val_accuracy: 0.9135\n",
      "Epoch 12/20\n",
      "82/82 [==============================] - 0s 2ms/step - loss: 123.2566 - accuracy: 0.8982 - val_loss: 0.2332 - val_accuracy: 0.9135\n",
      "Epoch 13/20\n",
      "82/82 [==============================] - 0s 2ms/step - loss: 50.1649 - accuracy: 0.8878 - val_loss: 0.2329 - val_accuracy: 0.9135\n",
      "Epoch 14/20\n",
      "82/82 [==============================] - 0s 2ms/step - loss: 87.0588 - accuracy: 0.8897 - val_loss: 0.2326 - val_accuracy: 0.9135\n",
      "Epoch 15/20\n",
      "82/82 [==============================] - 0s 2ms/step - loss: 610.4203 - accuracy: 0.8901 - val_loss: 0.2328 - val_accuracy: 0.9135\n",
      "Epoch 16/20\n",
      "82/82 [==============================] - 0s 2ms/step - loss: 101.3408 - accuracy: 0.8847 - val_loss: 0.2643 - val_accuracy: 0.9066\n",
      "Epoch 17/20\n",
      "82/82 [==============================] - 0s 2ms/step - loss: 634.7969 - accuracy: 0.8924 - val_loss: 0.2417 - val_accuracy: 0.9100\n",
      "Epoch 18/20\n",
      "82/82 [==============================] - 0s 2ms/step - loss: 48.5454 - accuracy: 0.8882 - val_loss: 0.2348 - val_accuracy: 0.9135\n",
      "Epoch 19/20\n",
      "82/82 [==============================] - 0s 2ms/step - loss: 142.9541 - accuracy: 0.8905 - val_loss: 0.2334 - val_accuracy: 0.9135\n",
      "Epoch 20/20\n",
      "82/82 [==============================] - 0s 2ms/step - loss: 99.8484 - accuracy: 0.8885 - val_loss: 0.2323 - val_accuracy: 0.9135\n"
     ]
    }
   ],
   "source": [
    "history_cl = model_class.fit ( x_tc, y_tc, epochs = 20, batch_size = 32, validation_data = (x_vc, y_vc) )"
   ]
  },
  {
   "cell_type": "code",
   "execution_count": 24,
   "metadata": {},
   "outputs": [
    {
     "name": "stdout",
     "output_type": "stream",
     "text": [
      "Epoch 1/20\n",
      "13/13 [==============================] - 0s 9ms/step - loss: 557.6397 - mae: 9.8657 - val_loss: 331.5652 - val_mae: 7.4188\n",
      "Epoch 2/20\n",
      "13/13 [==============================] - 0s 5ms/step - loss: 463.5444 - mae: 8.8217 - val_loss: 302.4049 - val_mae: 7.7718\n",
      "Epoch 3/20\n",
      "13/13 [==============================] - 0s 5ms/step - loss: 72549.6562 - mae: 52.3223 - val_loss: 581.5805 - val_mae: 13.9293\n",
      "Epoch 4/20\n",
      "13/13 [==============================] - 0s 5ms/step - loss: 762.2221 - mae: 13.8612 - val_loss: 341.0093 - val_mae: 9.1790\n",
      "Epoch 5/20\n",
      "13/13 [==============================] - 0s 6ms/step - loss: 500.6345 - mae: 10.5963 - val_loss: 525.7090 - val_mae: 11.8935\n",
      "Epoch 6/20\n",
      "13/13 [==============================] - 0s 5ms/step - loss: 78323.1875 - mae: 70.5840 - val_loss: 30737.2070 - val_mae: 76.5781\n",
      "Epoch 7/20\n",
      "13/13 [==============================] - 0s 6ms/step - loss: 2684.2600 - mae: 19.4714 - val_loss: 462.4450 - val_mae: 9.7078\n",
      "Epoch 8/20\n",
      "13/13 [==============================] - 0s 6ms/step - loss: 620.8473 - mae: 11.2194 - val_loss: 442.9863 - val_mae: 9.2472\n",
      "Epoch 9/20\n",
      "13/13 [==============================] - 0s 5ms/step - loss: 758.2861 - mae: 12.4594 - val_loss: 500.9801 - val_mae: 11.0349\n",
      "Epoch 10/20\n",
      "13/13 [==============================] - 0s 5ms/step - loss: 874.9835 - mae: 12.3311 - val_loss: 476.3627 - val_mae: 9.1519\n",
      "Epoch 11/20\n",
      "13/13 [==============================] - 0s 6ms/step - loss: 30681.7598 - mae: 41.6649 - val_loss: 463.1361 - val_mae: 10.0260\n",
      "Epoch 12/20\n",
      "13/13 [==============================] - 0s 7ms/step - loss: 651.2830 - mae: 10.7676 - val_loss: 487.5375 - val_mae: 9.1785\n",
      "Epoch 13/20\n",
      "13/13 [==============================] - 0s 6ms/step - loss: 678.1860 - mae: 10.9253 - val_loss: 485.1736 - val_mae: 9.3291\n",
      "Epoch 14/20\n",
      "13/13 [==============================] - 0s 7ms/step - loss: 658.3247 - mae: 11.2885 - val_loss: 437.2888 - val_mae: 9.5825\n",
      "Epoch 15/20\n",
      "13/13 [==============================] - 0s 8ms/step - loss: 585.8319 - mae: 11.3541 - val_loss: 587071.6875 - val_mae: 280.3814\n",
      "Epoch 16/20\n",
      "13/13 [==============================] - 0s 8ms/step - loss: 40381.2656 - mae: 49.6245 - val_loss: 494.7753 - val_mae: 11.9981\n",
      "Epoch 17/20\n",
      "13/13 [==============================] - 0s 8ms/step - loss: 606.1598 - mae: 11.9629 - val_loss: 424.0362 - val_mae: 8.5638\n",
      "Epoch 18/20\n",
      "13/13 [==============================] - 0s 7ms/step - loss: 652.8896 - mae: 11.0943 - val_loss: 470.6521 - val_mae: 8.5536\n",
      "Epoch 19/20\n",
      "13/13 [==============================] - 0s 6ms/step - loss: 1510.2814 - mae: 16.6271 - val_loss: 409.7784 - val_mae: 9.0174\n",
      "Epoch 20/20\n",
      "13/13 [==============================] - 0s 5ms/step - loss: 603.9805 - mae: 10.7777 - val_loss: 381.6779 - val_mae: 9.1559\n"
     ]
    }
   ],
   "source": [
    "history_regr = model_regr.fit (  x_tr, y_tr, epochs = 20, batch_size = 100, validation_data = (x_vr, y_vr) )"
   ]
  },
  {
   "cell_type": "markdown",
   "metadata": {},
   "source": [
    "### Test spectrum"
   ]
  },
  {
   "cell_type": "code",
   "execution_count": 25,
   "metadata": {},
   "outputs": [],
   "source": [
    "def energy_spectrum(energy_array, bins):\n",
    "    energy_array = np.array(energy_array)\n",
    "    plt.hist(energy_array, bins, histtype=u'step')\n",
    "    plt.yscale(\"log\")\n",
    "    plt.show()"
   ]
  },
  {
   "cell_type": "code",
   "execution_count": 26,
   "metadata": {},
   "outputs": [],
   "source": [
    "final_p = []\n",
    "final_e = []\n",
    "\n",
    "for regr_pair in regr_data:\n",
    "    final_e.append(np.linalg.norm(regr_pair[10:13]))\n",
    "    final_p.append(np.linalg.norm(regr_pair[13:16]))"
   ]
  },
  {
   "cell_type": "code",
   "execution_count": 27,
   "metadata": {},
   "outputs": [
    {
     "data": {
      "image/png": "[encoded data removed]",
      "text/plain": [
       "<Figure size 432x288 with 1 Axes>"
      ]
     },
     "metadata": {
      "needs_background": "light"
     },
     "output_type": "display_data"
    }
   ],
   "source": [
    "energy_spectrum(final_e, 75)"
   ]
  },
  {
   "cell_type": "code",
   "execution_count": 28,
   "metadata": {},
   "outputs": [
    {
     "data": {
      "image/png": "[encoded data removed]",
      "text/plain": [
       "<Figure size 432x288 with 1 Axes>"
      ]
     },
     "metadata": {
      "needs_background": "light"
     },
     "output_type": "display_data"
    }
   ],
   "source": [
    "energy_spectrum(final_p, 75)"
   ]
  },
  {
   "cell_type": "code",
   "execution_count": 29,
   "metadata": {},
   "outputs": [],
   "source": [
    "y = []\n",
    "pred = []\n",
    "\n",
    "y = model_class.predict(xc)\n",
    "data = np.hstack((y, xc))\n",
    "data = data[np.logical_not(data[:,0] < 0.5)]\n",
    "pred = model_regr.predict(data[:,1:7])"
   ]
  },
  {
   "cell_type": "code",
   "execution_count": 30,
   "metadata": {},
   "outputs": [],
   "source": [
    "final_p_nn = []\n",
    "for pred_ in pred:\n",
    "    final_p_nn.append(np.linalg.norm(pred_))"
   ]
  },
  {
   "cell_type": "code",
   "execution_count": 31,
   "metadata": {},
   "outputs": [
    {
     "data": {
      "text/plain": [
       "256"
      ]
     },
     "execution_count": 31,
     "metadata": {},
     "output_type": "execute_result"
    }
   ],
   "source": [
    "os.system('mkdir ../plots/{}'.format(n))"
   ]
  },
  {
   "cell_type": "code",
   "execution_count": 32,
   "metadata": {},
   "outputs": [
    {
     "data": {
      "image/png": "[encoded data removed]",
      "text/plain": [
       "<Figure size 432x288 with 1 Axes>"
      ]
     },
     "metadata": {
      "needs_background": "light"
     },
     "output_type": "display_data"
    }
   ],
   "source": [
    "mean,std=norm.fit(final_p)\n",
    "plt.hist(final_p, bins=100, alpha = 0.5, color = 'mediumslateblue', label='Photon Spectrum', density = True)\n",
    "plt.legend(loc='upper right')\n",
    "xmin, xmax = plt.xlim()\n",
    "x_p = np.linspace(xmin, xmax, 100)\n",
    "y_p = norm.pdf(x_p, mean, std)\n",
    "plt.yscale('log')\n",
    "plt.savefig('../plots/{}/photonspectrum.png'.format(n))\n",
    "plt.savefig('../plots/{}/photonspectrum.png'.format(n))\n",
    "plt.show()"
   ]
  },
  {
   "cell_type": "code",
   "execution_count": 33,
   "metadata": {},
   "outputs": [
    {
     "data": {
      "image/png": "[encoded data removed]",
      "text/plain": [
       "<Figure size 432x288 with 1 Axes>"
      ]
     },
     "metadata": {
      "needs_background": "light"
     },
     "output_type": "display_data"
    }
   ],
   "source": [
    "mean_nn,std_nn=norm.fit(final_p_nn)\n",
    "plt.hist(final_p_nn, bins=100, alpha = 0.5,  color = 'indianred', label='NN prediction', density = True)\n",
    "xmin, xmax = plt.xlim()\n",
    "x_nn = np.linspace(xmin, xmax, 100)\n",
    "y_nn = norm.pdf(x_nn, mean_nn, std_nn)\n",
    "plt.yscale('log')\n",
    "plt.legend(loc='upper right')\n",
    "plt.savefig('../plots/{}/NNprediction.png'.format(n))\n",
    "plt.savefig('../plots/{}/NNprediction.pdf'.format(n))\n",
    "plt.show()"
   ]
  },
  {
   "cell_type": "code",
   "execution_count": 34,
   "metadata": {},
   "outputs": [
    {
     "data": {
      "image/png": "[encoded data removed]",
      "text/plain": [
       "<Figure size 432x288 with 1 Axes>"
      ]
     },
     "metadata": {
      "needs_background": "light"
     },
     "output_type": "display_data"
    }
   ],
   "source": [
    "plt.hist(final_p_nn, 100, alpha=0.5, color = 'indianred', label='NN prediction', density = True)\n",
    "plt.hist(final_p, 100, alpha=0.5, color = 'mediumslateblue', label='Photon Spectrum', density = True)\n",
    "plt.xlabel('Photon Momentum')\n",
    "plt.ylabel('count')\n",
    "plt.legend(loc='upper right')\n",
    "x_nn = np.linspace(xmin, xmax, 100)\n",
    "y_nn = norm.pdf(x_nn, mean_nn, std_nn)\n",
    "\n",
    "plt.legend(loc='upper right')\n",
    "x_p = np.linspace(xmin, xmax, 100)\n",
    "y_p = norm.pdf(x_p, mean, std)\n",
    "\n",
    "plt.yscale('log')\n",
    "plt.legend(loc = 'upper right')\n",
    "plt.savefig('../plots/{}/comparison.png'.format(n))\n",
    "plt.savefig('../plots/{}/comparison.pdf'.format(n))\n",
    "plt.show()"
   ]
  },
  {
   "cell_type": "code",
   "execution_count": 35,
   "metadata": {},
   "outputs": [
    {
     "name": "stderr",
     "output_type": "stream",
     "text": [
      "<ipython-input-35-6babc77daf4a>:5: UserWarning: Matplotlib is currently using module://ipykernel.pylab.backend_inline, which is a non-GUI backend, so cannot show the figure.\n",
      "  fig.show()\n"
     ]
    },
    {
     "data": {
      "image/png": "[encoded data removed]",
      "text/plain": [
       "<Figure size 432x288 with 2 Axes>"
      ]
     },
     "metadata": {
      "needs_background": "light"
     },
     "output_type": "display_data"
    }
   ],
   "source": [
    "fig, axs = plt.subplots(2, sharex = True)\n",
    "fig.suptitle('Vertically stacked subplots')\n",
    "axs[0].hist(final_p_nn, 100, alpha=0.5, color = 'indianred', label='NN prediction', density = True)\n",
    "axs[1].hist(final_p, 100, alpha=0.5, color = 'mediumslateblue', label='Photon Spectrum', density = True)\n",
    "fig.show()"
   ]
  },
  {
   "cell_type": "code",
   "execution_count": null,
   "metadata": {},
   "outputs": [],
   "source": []
  }
 ],
 "metadata": {
  "kernelspec": {
   "display_name": "Python 3",
   "language": "python",
   "name": "python3"
  },
  "language_info": {
   "codemirror_mode": {
    "name": "ipython",
    "version": 3
   },
   "file_extension": ".py",
   "mimetype": "text/x-python",
   "name": "python",
   "nbconvert_exporter": "python",
   "pygments_lexer": "ipython3",
   "version": "3.8.8"
  }
 },
 "nbformat": 4,
 "nbformat_minor": 4
}
