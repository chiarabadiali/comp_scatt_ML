{
 "cells": [
  {
   "cell_type": "code",
   "execution_count": 1,
   "metadata": {},
   "outputs": [
    {
     "name": "stdout",
     "output_type": "stream",
     "text": [
      "1.2.0\n"
     ]
    }
   ],
   "source": [
    "import pandas as pd \n",
    "import numpy as np\n",
    "import math\n",
    "import tensorflow as tf\n",
    "print(pd.__version__)\n",
    "import matplotlib.pyplot as plt\n",
    "import progressbar\n",
    "import scipy"
   ]
  },
  {
   "cell_type": "markdown",
   "metadata": {},
   "source": [
    "## Print Dependencies\n",
    "\n",
    "\n",
    "\n",
    "Dependences are fundamental to record the computational environment."
   ]
  },
  {
   "cell_type": "code",
   "execution_count": 2,
   "metadata": {},
   "outputs": [
    {
     "name": "stdout",
     "output_type": "stream",
     "text": [
      "Python implementation: CPython\n",
      "Python version       : 3.7.7\n",
      "IPython version      : 7.19.0\n",
      "\n",
      "pandas     : 1.2.0\n",
      "keras      : 2.4.3\n",
      "numpy      : 1.19.5\n",
      "math       : unknown\n",
      "tensorflow : 2.4.0\n",
      "matplotlib : 3.3.3\n",
      "h5py       : 2.10.0\n",
      "progressbar: 2.5\n",
      "scipy      : 1.6.0\n",
      "\n",
      "Compiler    : GCC 5.4.0 20160609\n",
      "OS          : Linux\n",
      "Release     : 5.8.0-41-generic\n",
      "Machine     : x86_64\n",
      "Processor   : x86_64\n",
      "CPU cores   : 8\n",
      "Architecture: 64bit\n",
      "\n",
      " \n",
      "Last updated: Tue Feb 02 2021 18:21:47CET\n",
      "\n"
     ]
    }
   ],
   "source": [
    "%load_ext watermark\n",
    "\n",
    "# python, ipython, packages, and machine characteristics\n",
    "%watermark -v -m -p pandas,keras,numpy,math,tensorflow,matplotlib,h5py,progressbar,scipy\n",
    "\n",
    "# date\n",
    "print (\" \")\n",
    "%watermark -u -n -t -z"
   ]
  },
  {
   "cell_type": "markdown",
   "metadata": {},
   "source": [
    "## Load of the data"
   ]
  },
  {
   "cell_type": "code",
   "execution_count": 3,
   "metadata": {},
   "outputs": [],
   "source": [
    "from process import loaddata\n",
    "regr_data = loaddata(\"../data/regression/250.csv\")\n",
    "class_data = loaddata(\"../data/classifier/250.csv\")"
   ]
  },
  {
   "cell_type": "code",
   "execution_count": 4,
   "metadata": {},
   "outputs": [],
   "source": [
    "np.random.shuffle(regr_data)\n",
    "y = regr_data[:,-3:]\n",
    "x = regr_data[:,:6]"
   ]
  },
  {
   "cell_type": "code",
   "execution_count": 5,
   "metadata": {},
   "outputs": [],
   "source": [
    "np.random.shuffle(class_data)\n",
    "yc = class_data[:,0]\n",
    "xc = class_data[:,1:]"
   ]
  },
  {
   "cell_type": "code",
   "execution_count": 6,
   "metadata": {},
   "outputs": [
    {
     "name": "stdout",
     "output_type": "stream",
     "text": [
      "Training sample: 125414 \n",
      "Valuation sample: 41805\n"
     ]
    }
   ],
   "source": [
    "train_split = 0.75\n",
    "train_limit = int(len(y)*train_split)\n",
    "print(\"Training sample: {0} \\nValuation sample: {1}\".format(train_limit, len(y)-train_limit))"
   ]
  },
  {
   "cell_type": "code",
   "execution_count": 7,
   "metadata": {},
   "outputs": [],
   "source": [
    "x_train = x[:train_limit]\n",
    "x_val = x[train_limit:]\n",
    "\n",
    "y_train = y[:train_limit]\n",
    "y_val = y[train_limit:]"
   ]
  },
  {
   "cell_type": "markdown",
   "metadata": {},
   "source": [
    "## Model Build"
   ]
  },
  {
   "cell_type": "code",
   "execution_count": 8,
   "metadata": {},
   "outputs": [],
   "source": [
    "from keras.models import Sequential\n",
    "from keras.layers.core import Dense\n",
    "import keras.backend as K\n",
    "from keras import optimizers\n",
    "from keras import models\n",
    "from keras import layers\n",
    "from keras import regularizers"
   ]
  },
  {
   "cell_type": "markdown",
   "metadata": {},
   "source": [
    "## !! \n",
    "The dropout 0.2 seems to work better"
   ]
  },
  {
   "cell_type": "code",
   "execution_count": 9,
   "metadata": {},
   "outputs": [],
   "source": [
    "def build_model() :\n",
    "    model = models.Sequential()\n",
    "    model.add (layers.Dense (12, kernel_initializer= \"normal\" , input_shape = x.shape))\n",
    "    model.add (layers.Dense (32, activation = \"relu\"))\n",
    "    model.add (layers.Dense (64, activation = \"relu\"))\n",
    "    model.add (layers.Dense (128, activation = \"relu\"))\n",
    "    model.add (layers.Dense (128, activation = \"relu\"))\n",
    "    model.add (layers.Dense (64, activation = \"relu\"))\n",
    "    model.add (layers.Dense (32, activation = \"relu\"))\n",
    "    model.add (layers.Dense (12, activation = \"relu\"))\n",
    "    model.add (layers.Dense (3))\n",
    "    model.compile(optimizer = \"rmsprop\" , loss = \"mse\" , metrics =[\"mape\"])\n",
    "    return model"
   ]
  },
  {
   "cell_type": "code",
   "execution_count": 10,
   "metadata": {},
   "outputs": [
    {
     "name": "stdout",
     "output_type": "stream",
     "text": [
      "Epoch 1/20\n",
      "WARNING:tensorflow:Model was constructed with shape (None, 167219, 6) for input KerasTensor(type_spec=TensorSpec(shape=(None, 167219, 6), dtype=tf.float32, name='dense_input'), name='dense_input', description=\"created by layer 'dense_input'\"), but it was called on an input with incompatible shape (None, 6).\n",
      "WARNING:tensorflow:Model was constructed with shape (None, 167219, 6) for input KerasTensor(type_spec=TensorSpec(shape=(None, 167219, 6), dtype=tf.float32, name='dense_input'), name='dense_input', description=\"created by layer 'dense_input'\"), but it was called on an input with incompatible shape (None, 6).\n",
      "2491/2509 [============================>.] - ETA: 0s - loss: 3.6434e-04 - mape: 188.8968WARNING:tensorflow:Model was constructed with shape (None, 167219, 6) for input KerasTensor(type_spec=TensorSpec(shape=(None, 167219, 6), dtype=tf.float32, name='dense_input'), name='dense_input', description=\"created by layer 'dense_input'\"), but it was called on an input with incompatible shape (None, 6).\n",
      "2509/2509 [==============================] - 8s 2ms/step - loss: 3.6260e-04 - mape: 188.4719 - val_loss: 3.2385e-05 - val_mape: 114.1778\n",
      "Epoch 2/20\n",
      "2509/2509 [==============================] - 6s 2ms/step - loss: 2.5370e-05 - mape: 77.7694 - val_loss: 1.2159e-05 - val_mape: 58.1227\n",
      "Epoch 3/20\n",
      "2509/2509 [==============================] - 6s 3ms/step - loss: 1.7074e-05 - mape: 67.1525 - val_loss: 1.4053e-05 - val_mape: 63.8861\n",
      "Epoch 4/20\n",
      "2509/2509 [==============================] - 7s 3ms/step - loss: 1.3409e-05 - mape: 57.1771 - val_loss: 5.9645e-06 - val_mape: 32.6862\n",
      "Epoch 5/20\n",
      "2509/2509 [==============================] - 6s 2ms/step - loss: 1.1301e-05 - mape: 52.6016 - val_loss: 1.2020e-05 - val_mape: 57.6500\n",
      "Epoch 6/20\n",
      "2509/2509 [==============================] - 6s 2ms/step - loss: 9.9644e-06 - mape: 53.9293 - val_loss: 4.3288e-06 - val_mape: 33.4636\n",
      "Epoch 7/20\n",
      "2509/2509 [==============================] - 8s 3ms/step - loss: 8.9061e-06 - mape: 44.9946 - val_loss: 1.4909e-06 - val_mape: 21.9382\n",
      "Epoch 8/20\n",
      "2509/2509 [==============================] - 7s 3ms/step - loss: 8.1388e-06 - mape: 47.4796 - val_loss: 3.0547e-06 - val_mape: 23.5092\n",
      "Epoch 9/20\n",
      "2509/2509 [==============================] - 8s 3ms/step - loss: 7.5196e-06 - mape: 45.7633 - val_loss: 8.3790e-06 - val_mape: 46.9402\n",
      "Epoch 10/20\n",
      "2509/2509 [==============================] - 6s 3ms/step - loss: 7.0769e-06 - mape: 39.6146 - val_loss: 6.8321e-06 - val_mape: 42.7732\n",
      "Epoch 11/20\n",
      "2509/2509 [==============================] - 6s 3ms/step - loss: 6.7034e-06 - mape: 36.1142 - val_loss: 1.0214e-05 - val_mape: 56.4228\n",
      "Epoch 12/20\n",
      "2509/2509 [==============================] - 7s 3ms/step - loss: 6.3632e-06 - mape: 42.3784 - val_loss: 1.9600e-06 - val_mape: 23.9011\n",
      "Epoch 13/20\n",
      "2509/2509 [==============================] - 6s 2ms/step - loss: 6.0561e-06 - mape: 37.3727 - val_loss: 4.9397e-06 - val_mape: 34.0522\n",
      "Epoch 14/20\n",
      "2509/2509 [==============================] - 8s 3ms/step - loss: 5.8181e-06 - mape: 38.5126 - val_loss: 8.7116e-06 - val_mape: 52.5823\n",
      "Epoch 15/20\n",
      "2509/2509 [==============================] - 7s 3ms/step - loss: 5.6563e-06 - mape: 40.9996 - val_loss: 5.4748e-06 - val_mape: 34.0046\n",
      "Epoch 16/20\n",
      "2509/2509 [==============================] - 7s 3ms/step - loss: 5.5157e-06 - mape: 34.2707 - val_loss: 6.1965e-06 - val_mape: 40.5735\n",
      "Epoch 17/20\n",
      "2509/2509 [==============================] - 6s 2ms/step - loss: 5.3525e-06 - mape: 34.8079 - val_loss: 1.0077e-05 - val_mape: 54.6343\n",
      "Epoch 18/20\n",
      "2509/2509 [==============================] - 7s 3ms/step - loss: 5.2632e-06 - mape: 34.5950 - val_loss: 3.1834e-06 - val_mape: 28.8397\n",
      "Epoch 19/20\n",
      "2509/2509 [==============================] - 7s 3ms/step - loss: 5.0857e-06 - mape: 34.2074 - val_loss: 6.1863e-06 - val_mape: 31.7826\n",
      "Epoch 20/20\n",
      "2509/2509 [==============================] - 7s 3ms/step - loss: 4.9514e-06 - mape: 41.7946 - val_loss: 4.5785e-06 - val_mape: 31.0984\n"
     ]
    }
   ],
   "source": [
    "model = build_model ()\n",
    "history = model.fit ( x_train, y_train, epochs = 20, batch_size = 50, validation_data = (x_val, y_val) )\n",
    "model.save(\"../models/regression/large_mse250.h5\")"
   ]
  },
  {
   "cell_type": "code",
   "execution_count": 11,
   "metadata": {},
   "outputs": [
    {
     "data": {
      "image/png": "[encoded data removed]",
      "text/plain": [
       "<Figure size 432x288 with 1 Axes>"
      ]
     },
     "metadata": {
      "needs_background": "light"
     },
     "output_type": "display_data"
    }
   ],
   "source": [
    "loss = history.history['loss']\n",
    "val_loss = history.history['val_loss']\n",
    "\n",
    "epochs = range(1, len(loss) + 1)\n",
    "\n",
    "plt.plot(epochs, loss, 'bo', label='Training loss')\n",
    "plt.plot(epochs, val_loss, 'b', label='Validation loss')\n",
    "plt.title('Training and validation loss')\n",
    "plt.xlabel('Epochs')\n",
    "plt.ylabel('Loss')\n",
    "plt.legend()\n",
    "\n",
    "plt.show()"
   ]
  },
  {
   "cell_type": "markdown",
   "metadata": {},
   "source": [
    "## Test spectrum"
   ]
  },
  {
   "cell_type": "code",
   "execution_count": 12,
   "metadata": {},
   "outputs": [],
   "source": [
    "from tensorflow import keras\n",
    "model_regr = keras.models.load_model('../models/regression/large_mse250.h5')\n",
    "model_class = keras.models.load_model('../models/classifier/with-dropout-250.h5')"
   ]
  },
  {
   "cell_type": "code",
   "execution_count": 13,
   "metadata": {},
   "outputs": [
    {
     "name": "stdout",
     "output_type": "stream",
     "text": [
      "Model: \"sequential\"\n",
      "_________________________________________________________________\n",
      "Layer (type)                 Output Shape              Param #   \n",
      "=================================================================\n",
      "dense (Dense)                (None, 167219, 12)        84        \n",
      "_________________________________________________________________\n",
      "dense_1 (Dense)              (None, 167219, 32)        416       \n",
      "_________________________________________________________________\n",
      "dense_2 (Dense)              (None, 167219, 64)        2112      \n",
      "_________________________________________________________________\n",
      "dense_3 (Dense)              (None, 167219, 128)       8320      \n",
      "_________________________________________________________________\n",
      "dense_4 (Dense)              (None, 167219, 128)       16512     \n",
      "_________________________________________________________________\n",
      "dense_5 (Dense)              (None, 167219, 64)        8256      \n",
      "_________________________________________________________________\n",
      "dense_6 (Dense)              (None, 167219, 32)        2080      \n",
      "_________________________________________________________________\n",
      "dense_7 (Dense)              (None, 167219, 12)        396       \n",
      "_________________________________________________________________\n",
      "dense_8 (Dense)              (None, 167219, 3)         39        \n",
      "=================================================================\n",
      "Total params: 38,215\n",
      "Trainable params: 38,215\n",
      "Non-trainable params: 0\n",
      "_________________________________________________________________\n",
      "Model: \"sequential_2\"\n",
      "_________________________________________________________________\n",
      "Layer (type)                 Output Shape              Param #   \n",
      "=================================================================\n",
      "dense_13 (Dense)             (None, 334438, 16)        176       \n",
      "_________________________________________________________________\n",
      "dropout (Dropout)            (None, 334438, 16)        0         \n",
      "_________________________________________________________________\n",
      "dense_14 (Dense)             (None, 334438, 16)        272       \n",
      "_________________________________________________________________\n",
      "dropout_1 (Dropout)          (None, 334438, 16)        0         \n",
      "_________________________________________________________________\n",
      "dense_15 (Dense)             (None, 334438, 1)         17        \n",
      "=================================================================\n",
      "Total params: 465\n",
      "Trainable params: 465\n",
      "Non-trainable params: 0\n",
      "_________________________________________________________________\n"
     ]
    }
   ],
   "source": [
    "model_regr.summary()\n",
    "model_class.summary()"
   ]
  },
  {
   "cell_type": "code",
   "execution_count": 14,
   "metadata": {},
   "outputs": [],
   "source": [
    "def energy_spectrum(energy_array, bins):\n",
    "    energy_array = np.array(energy_array)\n",
    "    plt.hist(energy_array, bins, histtype=u'step', density=True)\n",
    "    plt.yscale(\"log\")\n",
    "    plt.show()"
   ]
  },
  {
   "cell_type": "code",
   "execution_count": 15,
   "metadata": {},
   "outputs": [],
   "source": [
    "final_p = []\n",
    "final_e = []\n",
    "\n",
    "for regr_pair in regr_data:\n",
    "    final_e.append(np.linalg.norm(regr_pair[10:13]))\n",
    "    final_p.append(np.linalg.norm(regr_pair[13:16]))"
   ]
  },
  {
   "cell_type": "code",
   "execution_count": 18,
   "metadata": {},
   "outputs": [],
   "source": [
    "y = []\n",
    "pred = []\n",
    "\n",
    "y = model_class.predict(xc)\n",
    "data = np.hstack((y, xc))\n",
    "data = data[np.logical_not(data[:,0] > 0.5)]\n",
    "pred = model_regr.predict(data[:,1:7])"
   ]
  },
  {
   "cell_type": "code",
   "execution_count": 19,
   "metadata": {},
   "outputs": [],
   "source": [
    "final_p_nn = []\n",
    "for pred_ in pred:\n",
    "    final_p_nn.append(np.linalg.norm(pred_))"
   ]
  },
  {
   "cell_type": "code",
   "execution_count": null,
   "metadata": {
    "scrolled": true
   },
   "outputs": [],
   "source": [
    "energy_spectrum(photon_final_nn, 75)"
   ]
  },
  {
   "cell_type": "code",
   "execution_count": 22,
   "metadata": {},
   "outputs": [],
   "source": [
    "from scipy.stats import norm\n",
    "import matplotlib.mlab as mlab\n",
    "import matplotlib.pyplot as plt\n",
    "import scipy.stats as stats\n",
    "from scipy.stats import chisquare"
   ]
  },
  {
   "cell_type": "code",
   "execution_count": 23,
   "metadata": {},
   "outputs": [
    {
     "data": {
      "image/png": "[encoded data removed]",
      "text/plain": [
       "<Figure size 432x288 with 1 Axes>"
      ]
     },
     "metadata": {
      "needs_background": "light"
     },
     "output_type": "display_data"
    }
   ],
   "source": [
    "mean,std=norm.fit(final_p)\n",
    "plt.hist(final_p, bins=100, alpha = 0.5, color = 'mediumslateblue', label='Photon Spectrum', density = True)\n",
    "plt.legend(loc='upper right')\n",
    "xmin, xmax = plt.xlim()\n",
    "x_p = np.linspace(xmin, xmax, 100)\n",
    "y_p = norm.pdf(x_p, mean, std)\n",
    "plt.plot(x_p, y_p,'g--', linewidth=2)\n",
    "plt.show()"
   ]
  },
  {
   "cell_type": "code",
   "execution_count": 24,
   "metadata": {},
   "outputs": [
    {
     "name": "stdout",
     "output_type": "stream",
     "text": [
      "mean =  0.06500765839861218\n",
      "std =  0.02078036262467183\n",
      "chi square =  Power_divergenceResult(statistic=1110.7781874419406, pvalue=1.0)\n"
     ]
    }
   ],
   "source": [
    "print('mean = ', mean)\n",
    "print('std = ', std)\n",
    "print(\"chi square = \", stats.chisquare(final_p))"
   ]
  },
  {
   "cell_type": "code",
   "execution_count": 27,
   "metadata": {},
   "outputs": [
    {
     "data": {
      "image/png": "[encoded data removed]",
      "text/plain": [
       "<Figure size 432x288 with 1 Axes>"
      ]
     },
     "metadata": {
      "needs_background": "light"
     },
     "output_type": "display_data"
    }
   ],
   "source": [
    "mean_nn,std_nn=norm.fit(final_p_nn)\n",
    "plt.hist(final_p_nn, bins=100, alpha = 0.5,  color = 'indianred', label='NN prediction', density = True)\n",
    "xmin, xmax = plt.xlim()\n",
    "x_nn = np.linspace(xmin, xmax, 100)\n",
    "y_nn = norm.pdf(x_nn, mean_nn, std_nn)\n",
    "plt.plot(x_nn, y_nn,'r--', linewidth=2)\n",
    "plt.legend(loc='upper right')\n",
    "plt.show()"
   ]
  },
  {
   "cell_type": "code",
   "execution_count": 28,
   "metadata": {},
   "outputs": [
    {
     "name": "stdout",
     "output_type": "stream",
     "text": [
      "mean =  0.06500765839861218\n",
      "std =  0.02078036262467183\n",
      "chi square =  Power_divergenceResult(statistic=1113.1231949724722, pvalue=1.0)\n"
     ]
    }
   ],
   "source": [
    "print('mean = ', mean)\n",
    "print('std = ', std)\n",
    "print(\"chi square = \", stats.chisquare(final_p_nn))"
   ]
  },
  {
   "cell_type": "code",
   "execution_count": 29,
   "metadata": {},
   "outputs": [
    {
     "data": {
      "image/png": "[encoded data removed]",
      "text/plain": [
       "<Figure size 432x288 with 1 Axes>"
      ]
     },
     "metadata": {
      "needs_background": "light"
     },
     "output_type": "display_data"
    }
   ],
   "source": [
    "plt.hist(final_p_nn, 100, alpha=0.5, color = 'indianred', label='NN prediction', density = True)\n",
    "plt.hist(final_p, 100, alpha=0.5, color = 'mediumslateblue', label='Photon Spectrum', density = True)\n",
    "plt.xlabel('Photon Momentum')\n",
    "plt.ylabel('count')\n",
    "plt.legend(loc='upper right')\n",
    "x_nn = np.linspace(xmin, xmax, 100)\n",
    "y_nn = norm.pdf(x_nn, mean_nn, std_nn)\n",
    "plt.plot(x_nn, y_nn,'g--', label = 'fit NN', linewidth = 2)\n",
    "plt.legend(loc='upper right')\n",
    "x_p = np.linspace(xmin, xmax, 100)\n",
    "y_p = norm.pdf(x_p, mean, std)\n",
    "plt.plot(x_p, y_p, 'r:', label = 'fit Photon Spectrum', linewidth = 2)\n",
    "plt.legend(loc = 'upper right')\n",
    "plt.show()"
   ]
  },
  {
   "cell_type": "code",
   "execution_count": 30,
   "metadata": {},
   "outputs": [
    {
     "name": "stderr",
     "output_type": "stream",
     "text": [
      "/home/linuxbrew/.linuxbrew/opt/python/lib/python3.7/site-packages/ipykernel_launcher.py:5: UserWarning: Matplotlib is currently using module://ipykernel.pylab.backend_inline, which is a non-GUI backend, so cannot show the figure.\n",
      "  \"\"\"\n"
     ]
    },
    {
     "data": {
      "image/png": "[encoded data removed]",
      "text/plain": [
       "<Figure size 432x288 with 2 Axes>"
      ]
     },
     "metadata": {
      "needs_background": "light"
     },
     "output_type": "display_data"
    }
   ],
   "source": [
    "fig, axs = plt.subplots(2, sharex = True)\n",
    "fig.suptitle('Vertically stacked subplots')\n",
    "axs[0].hist(final_p_nn, 100, alpha=0.5, color = 'indianred', label='NN prediction', density = True)\n",
    "axs[1].hist(final_p, 100, alpha=0.5, color = 'mediumslateblue', label='Photon Spectrum', density = True)\n",
    "fig.show()"
   ]
  }
 ],
 "metadata": {
  "kernelspec": {
   "display_name": "Python 3",
   "language": "python",
   "name": "python3"
  },
  "language_info": {
   "codemirror_mode": {
    "name": "ipython",
    "version": 3
   },
   "file_extension": ".py",
   "mimetype": "text/x-python",
   "name": "python",
   "nbconvert_exporter": "python",
   "pygments_lexer": "ipython3",
   "version": "3.7.7"
  }
 },
 "nbformat": 4,
 "nbformat_minor": 4
}
