{
 "cells": [
  {
   "cell_type": "code",
   "execution_count": 1,
   "metadata": {},
   "outputs": [],
   "source": [
    "import pandas as pd \n",
    "import numpy as np\n",
    "import math\n",
    "import keras\n",
    "import tensorflow as tf\n",
    "import progressbar\n",
    "import os\n",
    "from os import listdir"
   ]
  },
  {
   "cell_type": "markdown",
   "metadata": {},
   "source": [
    "## Print Dependencies\n",
    "\n",
    "\n",
    "\n",
    "Dependences are fundamental to record the computational environment."
   ]
  },
  {
   "cell_type": "code",
   "execution_count": 2,
   "metadata": {},
   "outputs": [
    {
     "name": "stdout",
     "output_type": "stream",
     "text": [
      "Python implementation: CPython\n",
      "Python version       : 3.8.8\n",
      "IPython version      : 7.22.0\n",
      "\n",
      "pandas    : 1.2.3\n",
      "keras     : 2.4.3\n",
      "numpy     : 1.19.5\n",
      "math      : unknown\n",
      "tensorflow: 2.4.1\n",
      "matplotlib: 3.4.0\n",
      "h5py      : 2.10.0\n",
      "\n",
      "Compiler    : Clang 12.0.0 (clang-1200.0.32.29)\n",
      "OS          : Darwin\n",
      "Release     : 19.6.0\n",
      "Machine     : x86_64\n",
      "Processor   : i386\n",
      "CPU cores   : 8\n",
      "Architecture: 64bit\n",
      "\n",
      " \n",
      "Last updated: Wed Apr 14 2021 11:56:48CEST\n",
      "\n"
     ]
    }
   ],
   "source": [
    "%load_ext watermark\n",
    "\n",
    "# python, ipython, packages, and machine characteristics\n",
    "%watermark -v -m -p pandas,keras,numpy,math,tensorflow,matplotlib,h5py\n",
    "\n",
    "# date\n",
    "print (\" \")\n",
    "%watermark -u -n -t -z"
   ]
  },
  {
   "cell_type": "markdown",
   "metadata": {},
   "source": [
    "## Load of the data"
   ]
  },
  {
   "cell_type": "code",
   "execution_count": 3,
   "metadata": {},
   "outputs": [],
   "source": [
    "from process import loaddata\n",
    "class_data0 = loaddata(\"../data/{}.csv\".format('low_ene'))"
   ]
  },
  {
   "cell_type": "code",
   "execution_count": 20,
   "metadata": {},
   "outputs": [],
   "source": [
    "class_data0 = class_data0[class_data0[:,0] > 0.001]"
   ]
  },
  {
   "cell_type": "code",
   "execution_count": 22,
   "metadata": {},
   "outputs": [
    {
     "data": {
      "text/plain": [
       "(531585, 14)"
      ]
     },
     "execution_count": 22,
     "metadata": {},
     "output_type": "execute_result"
    }
   ],
   "source": [
    "class_data0.shape"
   ]
  },
  {
   "cell_type": "code",
   "execution_count": 21,
   "metadata": {},
   "outputs": [],
   "source": [
    "y0 = class_data0[:,0]\n",
    "A0 = class_data0\n",
    "A0[:,9] = A0[:,13]\n",
    "x0 = class_data0[:,1:10]"
   ]
  },
  {
   "cell_type": "markdown",
   "metadata": {},
   "source": [
    "## Check to see if the data are balanced now"
   ]
  },
  {
   "cell_type": "code",
   "execution_count": 25,
   "metadata": {},
   "outputs": [
    {
     "data": {
      "image/png": "[encoded data removed]",
      "text/plain": [
       "<Figure size 432x288 with 1 Axes>"
      ]
     },
     "metadata": {
      "needs_background": "light"
     },
     "output_type": "display_data"
    }
   ],
   "source": [
    "from matplotlib import pyplot\n",
    "y0 = np.array(y0)\n",
    "bins = np.linspace(0, 0.55, 50)\n",
    "n, edges, _ = pyplot.hist(y0, bins, color = 'indianred', alpha=0.5, label='Osiris')\n",
    "#pyplot.hist(y_pred, bins, color = 'mediumslateblue', alpha=0.5, label='NN')\n",
    "pyplot.legend(loc='upper right')\n",
    "pyplot.xlabel('Probability')\n",
    "pyplot.yscale('log')\n",
    "pyplot.title('Trained on ($p_e$, $p_{\\gamma}$, $\\omega_e$, $\\omega_{\\gamma}$, n)')\n",
    "pyplot.show()"
   ]
  },
  {
   "cell_type": "code",
   "execution_count": 52,
   "metadata": {},
   "outputs": [],
   "source": [
    "def balance_data(class_data, nbins):\n",
    "\n",
    "    from matplotlib import pyplot as plt\n",
    "    y = class_data[:,0]\n",
    "    n, edges, _ = plt.hist(y, nbins, color = 'indianred', alpha=0.5, label='Osiris')\n",
    "    n_max = n.max()\n",
    "    data = []\n",
    "\n",
    "    for class_ in class_data:\n",
    "        for i in range(len(n)):\n",
    "            edges_min = edges[i]\n",
    "            edges_max = edges[i+1]\n",
    "            if class_[0] > edges_min and class_[0] < edges_max:\n",
    "                for j in range(int(n_max/n[i])):\n",
    "                    data.append(class_)\n",
    "                break\n",
    "\n",
    "    return np.array(data)"
   ]
  },
  {
   "cell_type": "code",
   "execution_count": 53,
   "metadata": {},
   "outputs": [
    {
     "data": {
      "image/png": "[encoded data removed]",
      "text/plain": [
       "<Figure size 432x288 with 1 Axes>"
      ]
     },
     "metadata": {
      "needs_background": "light"
     },
     "output_type": "display_data"
    }
   ],
   "source": [
    "class_data = balance_data(class_data0, 100)"
   ]
  },
  {
   "cell_type": "code",
   "execution_count": 54,
   "metadata": {},
   "outputs": [
    {
     "name": "stdout",
     "output_type": "stream",
     "text": [
      "[ 1.90684774e-01 -1.46123555e-01  1.77115860e-01 -7.74108079e-02\n",
      " -1.68575786e-01  1.85246188e-01  1.83115385e-01  8.62400000e+07\n",
      "  8.59200000e+07  9.37569433e-06  4.04303363e-01 -4.13583152e-01\n",
      "  2.14926385e-01  9.37569433e-06]\n",
      "[ 1.90684774e-01 -1.46123555e-01  1.77115860e-01 -7.74108079e-02\n",
      " -1.68575786e-01  1.85246188e-01  1.83115385e-01  8.62400000e+07\n",
      "  8.59200000e+07  9.37569433e-06  4.04303363e-01 -4.13583152e-01\n",
      "  2.14926385e-01  9.37569433e-06]\n",
      "[-1.46123555e-01  1.77115860e-01 -7.74108079e-02 -1.68575786e-01\n",
      "  1.85246188e-01  1.83115385e-01  8.62400000e+07  8.59200000e+07\n",
      "  9.37569433e-06]\n",
      "(38154174, 9)\n"
     ]
    }
   ],
   "source": [
    "np.random.shuffle(class_data)\n",
    "y = class_data[:,0]\n",
    "A = class_data\n",
    "print(A[0])\n",
    "A[:,9] = A[:,13]\n",
    "print(A[0])\n",
    "x = class_data[:,1:10]\n",
    "print(x[0])\n",
    "print(x.shape)"
   ]
  },
  {
   "cell_type": "code",
   "execution_count": 55,
   "metadata": {},
   "outputs": [
    {
     "data": {
      "image/png": "[encoded data removed]",
      "text/plain": [
       "<Figure size 432x288 with 1 Axes>"
      ]
     },
     "metadata": {
      "needs_background": "light"
     },
     "output_type": "display_data"
    }
   ],
   "source": [
    "from matplotlib import pyplot\n",
    "y0 = np.array(y0)\n",
    "bins = np.linspace(0, 0.55, 100)\n",
    "pyplot.hist(y, bins, color = 'indianred', alpha=0.5, label='Osiris')\n",
    "#pyplot.hist(y_pred, bins, color = 'mediumslateblue', alpha=0.5, label='NN')\n",
    "pyplot.legend(loc='upper right')\n",
    "pyplot.xlabel('Probability')\n",
    "pyplot.yscale('log')\n",
    "pyplot.title('Trained on ($p_e$, $p_{\\gamma}$, $\\omega_e$, $\\omega_{\\gamma}$, n)')\n",
    "pyplot.show()"
   ]
  },
  {
   "cell_type": "code",
   "execution_count": 56,
   "metadata": {},
   "outputs": [
    {
     "name": "stdout",
     "output_type": "stream",
     "text": [
      "Training sample: 28615630 \n",
      "Valuation sample: 9538544\n"
     ]
    }
   ],
   "source": [
    "train_split = 0.75\n",
    "train_limit = int(len(y)*train_split)\n",
    "print(\"Training sample: {0} \\nValuation sample: {1}\".format(train_limit, len(y)-train_limit))"
   ]
  },
  {
   "cell_type": "code",
   "execution_count": null,
   "metadata": {},
   "outputs": [],
   "source": [
    "x_train = x[:train_limit]\n",
    "x_val = x[train_limit:]\n",
    "\n",
    "y_train = y[:train_limit]\n",
    "y_val = y[train_limit:]"
   ]
  },
  {
   "cell_type": "markdown",
   "metadata": {},
   "source": [
    "## Model Build"
   ]
  },
  {
   "cell_type": "code",
   "execution_count": 44,
   "metadata": {},
   "outputs": [],
   "source": [
    "from keras.models import Sequential\n",
    "from keras.layers.core import Dense\n",
    "import keras.backend as K\n",
    "from keras import optimizers\n",
    "from keras import models\n",
    "from keras import layers\n",
    "from keras.layers.normalization import BatchNormalization"
   ]
  },
  {
   "cell_type": "code",
   "execution_count": 45,
   "metadata": {},
   "outputs": [],
   "source": [
    "def build_model() :\n",
    "    model = models.Sequential()\n",
    "    model.add (BatchNormalization(input_dim = 9))\n",
    "    model.add (layers.Dense (12 , activation = \"sigmoid\"))\n",
    "    model.add (layers.Dense (9 , activation = \"relu\"))\n",
    "    model.add (layers.Dense (1 , activation = \"sigmoid\"))\n",
    "    model.compile(optimizer = \"adam\" , loss = 'mae' , metrics = [\"mape\"])\n",
    "    return model"
   ]
  },
  {
   "cell_type": "code",
   "execution_count": null,
   "metadata": {},
   "outputs": [
    {
     "name": "stdout",
     "output_type": "stream",
     "text": [
      "Epoch 1/1000\n",
      "1668/1668 [==============================] - 14s 8ms/step - loss: 0.1329 - mape: 540.4114 - val_loss: 0.0794 - val_mape: 153.3372\n",
      "Epoch 2/1000\n",
      "1668/1668 [==============================] - 7s 4ms/step - loss: 0.0753 - mape: 119.3088 - val_loss: 0.0605 - val_mape: 78.1843\n",
      "Epoch 3/1000\n",
      "1668/1668 [==============================] - 6s 4ms/step - loss: 0.0610 - mape: 73.5968 - val_loss: 0.0490 - val_mape: 63.1923\n",
      "Epoch 4/1000\n",
      "1668/1668 [==============================] - 5s 3ms/step - loss: 0.0518 - mape: 61.9396 - val_loss: 0.0461 - val_mape: 59.9148\n",
      "Epoch 5/1000\n",
      "1668/1668 [==============================] - 5s 3ms/step - loss: 0.0479 - mape: 58.6098 - val_loss: 0.0400 - val_mape: 54.7601\n",
      "Epoch 6/1000\n",
      "1668/1668 [==============================] - 5s 3ms/step - loss: 0.0449 - mape: 56.7082 - val_loss: 0.0378 - val_mape: 52.3916\n",
      "Epoch 7/1000\n",
      "1668/1668 [==============================] - 5s 3ms/step - loss: 0.0431 - mape: 54.5080 - val_loss: 0.0378 - val_mape: 52.2395\n",
      "Epoch 8/1000\n",
      "1668/1668 [==============================] - 5s 3ms/step - loss: 0.0419 - mape: 52.4003 - val_loss: 0.0360 - val_mape: 48.8127\n",
      "Epoch 9/1000\n",
      "1668/1668 [==============================] - 5s 3ms/step - loss: 0.0412 - mape: 50.8756 - val_loss: 0.0345 - val_mape: 47.0829\n",
      "Epoch 10/1000\n",
      "1668/1668 [==============================] - 5s 3ms/step - loss: 0.0399 - mape: 49.7018 - val_loss: 0.0339 - val_mape: 47.9915\n",
      "Epoch 11/1000\n",
      "1668/1668 [==============================] - 6s 3ms/step - loss: 0.0389 - mape: 49.9091 - val_loss: 0.0334 - val_mape: 47.6032\n",
      "Epoch 12/1000\n",
      "1668/1668 [==============================] - 6s 3ms/step - loss: 0.0375 - mape: 48.7020 - val_loss: 0.0316 - val_mape: 45.1653\n",
      "Epoch 13/1000\n",
      "1668/1668 [==============================] - 6s 3ms/step - loss: 0.0363 - mape: 46.9142 - val_loss: 0.0312 - val_mape: 42.9836\n",
      "Epoch 14/1000\n",
      "1668/1668 [==============================] - 6s 3ms/step - loss: 0.0353 - mape: 45.0681 - val_loss: 0.0291 - val_mape: 41.10030.0354 - mape\n",
      "Epoch 15/1000\n",
      "1668/1668 [==============================] - 6s 4ms/step - loss: 0.0333 - mape: 42.5617 - val_loss: 0.0281 - val_mape: 40.3332\n",
      "Epoch 16/1000\n",
      "1668/1668 [==============================] - 6s 3ms/step - loss: 0.0326 - mape: 41.5307 - val_loss: 0.0268 - val_mape: 38.6455\n",
      "Epoch 17/1000\n",
      "1668/1668 [==============================] - 6s 3ms/step - loss: 0.0318 - mape: 41.1388 - val_loss: 0.0271 - val_mape: 39.1501\n",
      "Epoch 18/1000\n",
      "1668/1668 [==============================] - 5s 3ms/step - loss: 0.0311 - mape: 40.5582 - val_loss: 0.0257 - val_mape: 38.1473\n",
      "Epoch 19/1000\n",
      "1668/1668 [==============================] - 6s 3ms/step - loss: 0.0303 - mape: 40.4007 - val_loss: 0.0272 - val_mape: 40.0439\n",
      "Epoch 20/1000\n",
      "1668/1668 [==============================] - 6s 3ms/step - loss: 0.0302 - mape: 40.5599 - val_loss: 0.0247 - val_mape: 38.7125\n",
      "Epoch 21/1000\n",
      "1668/1668 [==============================] - 6s 4ms/step - loss: 0.0297 - mape: 40.4191 - val_loss: 0.0245 - val_mape: 38.5639\n",
      "Epoch 22/1000\n",
      "1668/1668 [==============================] - 6s 3ms/step - loss: 0.0291 - mape: 39.8814 - val_loss: 0.0240 - val_mape: 38.2065\n",
      "Epoch 23/1000\n",
      "1668/1668 [==============================] - 5s 3ms/step - loss: 0.0293 - mape: 39.8657 - val_loss: 0.0258 - val_mape: 39.3967\n",
      "Epoch 24/1000\n",
      "1668/1668 [==============================] - 6s 3ms/step - loss: 0.0289 - mape: 39.4856 - val_loss: 0.0234 - val_mape: 36.9538\n",
      "Epoch 25/1000\n",
      "1668/1668 [==============================] - 6s 3ms/step - loss: 0.0283 - mape: 38.9562 - val_loss: 0.0239 - val_mape: 37.8122\n",
      "Epoch 26/1000\n",
      "1668/1668 [==============================] - 6s 3ms/step - loss: 0.0285 - mape: 39.2230 - val_loss: 0.0236 - val_mape: 36.6988\n",
      "Epoch 27/1000\n",
      "1668/1668 [==============================] - 6s 4ms/step - loss: 0.0281 - mape: 38.8895 - val_loss: 0.0250 - val_mape: 38.0366\n",
      "Epoch 28/1000\n",
      "1668/1668 [==============================] - 6s 3ms/step - loss: 0.0278 - mape: 38.8051 - val_loss: 0.0252 - val_mape: 36.2744\n",
      "Epoch 29/1000\n",
      "1668/1668 [==============================] - 6s 3ms/step - loss: 0.0276 - mape: 38.3461 - val_loss: 0.0231 - val_mape: 37.6435\n",
      "Epoch 30/1000\n",
      "1668/1668 [==============================] - 6s 3ms/step - loss: 0.0272 - mape: 38.5847 - val_loss: 0.0230 - val_mape: 37.4969\n",
      "Epoch 31/1000\n",
      "1668/1668 [==============================] - 7s 4ms/step - loss: 0.0276 - mape: 38.6638 - val_loss: 0.0224 - val_mape: 36.8575\n",
      "Epoch 32/1000\n",
      "1668/1668 [==============================] - 6s 3ms/step - loss: 0.0272 - mape: 38.4316 - val_loss: 0.0231 - val_mape: 36.8778\n",
      "Epoch 33/1000\n",
      "1668/1668 [==============================] - 5s 3ms/step - loss: 0.0271 - mape: 38.5521 - val_loss: 0.0244 - val_mape: 37.4241\n",
      "Epoch 34/1000\n",
      "1668/1668 [==============================] - 5s 3ms/step - loss: 0.0269 - mape: 38.2031 - val_loss: 0.0236 - val_mape: 37.1017\n",
      "Epoch 35/1000\n",
      "1668/1668 [==============================] - 6s 3ms/step - loss: 0.0269 - mape: 38.2873 - val_loss: 0.0215 - val_mape: 36.4097\n",
      "Epoch 36/1000\n",
      "1668/1668 [==============================] - 5s 3ms/step - loss: 0.0269 - mape: 38.6758 - val_loss: 0.0225 - val_mape: 36.4239TA\n",
      "Epoch 37/1000\n",
      "1668/1668 [==============================] - 5s 3ms/step - loss: 0.0266 - mape: 38.6122 - val_loss: 0.0224 - val_mape: 35.9039\n",
      "Epoch 38/1000\n",
      "1668/1668 [==============================] - 5s 3ms/step - loss: 0.0265 - mape: 38.6147 - val_loss: 0.0216 - val_mape: 35.6083\n",
      "Epoch 39/1000\n",
      "1668/1668 [==============================] - 5s 3ms/step - loss: 0.0265 - mape: 38.1206 - val_loss: 0.0219 - val_mape: 36.2718\n",
      "Epoch 40/1000\n",
      "1668/1668 [==============================] - 6s 3ms/step - loss: 0.0263 - mape: 38.0552 - val_loss: 0.0233 - val_mape: 36.4668\n",
      "Epoch 41/1000\n",
      "1668/1668 [==============================] - 6s 3ms/step - loss: 0.0263 - mape: 37.9702 - val_loss: 0.0218 - val_mape: 35.2546\n",
      "Epoch 42/1000\n",
      "1668/1668 [==============================] - 6s 3ms/step - loss: 0.0267 - mape: 38.4897 - val_loss: 0.0224 - val_mape: 36.1998\n",
      "Epoch 43/1000\n",
      "1668/1668 [==============================] - 6s 3ms/step - loss: 0.0263 - mape: 37.9351 - val_loss: 0.0228 - val_mape: 35.24763 - mape: 37\n",
      "Epoch 44/1000\n",
      "1668/1668 [==============================] - 5s 3ms/step - loss: 0.0263 - mape: 37.8394 - val_loss: 0.0221 - val_mape: 35.6225\n",
      "Epoch 45/1000\n",
      "1668/1668 [==============================] - 6s 3ms/step - loss: 0.0259 - mape: 37.3755 - val_loss: 0.0222 - val_mape: 36.2098\n",
      "Epoch 46/1000\n",
      "1668/1668 [==============================] - 5s 3ms/step - loss: 0.0261 - mape: 37.6104 - val_loss: 0.0224 - val_mape: 35.6982\n",
      "Epoch 47/1000\n",
      "1668/1668 [==============================] - 5s 3ms/step - loss: 0.0259 - mape: 37.3128 - val_loss: 0.0208 - val_mape: 34.6768\n",
      "Epoch 48/1000\n",
      "1668/1668 [==============================] - 6s 4ms/step - loss: 0.0258 - mape: 36.9036 - val_loss: 0.0208 - val_mape: 34.2785\n",
      "Epoch 49/1000\n",
      "1668/1668 [==============================] - 6s 4ms/step - loss: 0.0259 - mape: 36.9692 - val_loss: 0.0213 - val_mape: 34.3795\n",
      "Epoch 50/1000\n",
      "1668/1668 [==============================] - 6s 4ms/step - loss: 0.0255 - mape: 36.6320 - val_loss: 0.0214 - val_mape: 34.2269\n",
      "Epoch 51/1000\n",
      "1668/1668 [==============================] - 7s 4ms/step - loss: 0.0260 - mape: 36.8380 - val_loss: 0.0218 - val_mape: 34.6632\n",
      "Epoch 52/1000\n",
      "1668/1668 [==============================] - 7s 4ms/step - loss: 0.0257 - mape: 36.3892 - val_loss: 0.0212 - val_mape: 34.3034\n",
      "Epoch 53/1000\n",
      "1668/1668 [==============================] - 6s 4ms/step - loss: 0.0258 - mape: 36.6680 - val_loss: 0.0209 - val_mape: 33.9893\n",
      "Epoch 54/1000\n",
      "1668/1668 [==============================] - 6s 3ms/step - loss: 0.0258 - mape: 36.3683 - val_loss: 0.0203 - val_mape: 33.2743\n",
      "Epoch 55/1000\n",
      "1668/1668 [==============================] - 6s 3ms/step - loss: 0.0258 - mape: 36.1640 - val_loss: 0.0219 - val_mape: 34.2993\n",
      "Epoch 56/1000\n",
      "1668/1668 [==============================] - 6s 4ms/step - loss: 0.0260 - mape: 36.3291 - val_loss: 0.0211 - val_mape: 33.0683\n",
      "Epoch 57/1000\n",
      "1668/1668 [==============================] - 5s 3ms/step - loss: 0.0258 - mape: 35.9737 - val_loss: 0.0211 - val_mape: 32.9233\n",
      "Epoch 58/1000\n",
      "1668/1668 [==============================] - 5s 3ms/step - loss: 0.0257 - mape: 35.7136 - val_loss: 0.0209 - val_mape: 33.2303\n"
     ]
    },
    {
     "name": "stdout",
     "output_type": "stream",
     "text": [
      "Epoch 59/1000\n",
      "1668/1668 [==============================] - 6s 3ms/step - loss: 0.0257 - mape: 35.7608 - val_loss: 0.0215 - val_mape: 33.7062\n",
      "Epoch 60/1000\n",
      "1668/1668 [==============================] - 6s 3ms/step - loss: 0.0256 - mape: 35.6398 - val_loss: 0.0215 - val_mape: 33.8495\n",
      "Epoch 61/1000\n",
      "1668/1668 [==============================] - 6s 3ms/step - loss: 0.0257 - mape: 35.5311 - val_loss: 0.0218 - val_mape: 32.8525\n",
      "Epoch 62/1000\n",
      "1668/1668 [==============================] - 5s 3ms/step - loss: 0.0254 - mape: 35.2739 - val_loss: 0.0206 - val_mape: 32.5743\n",
      "Epoch 63/1000\n",
      "1668/1668 [==============================] - 5s 3ms/step - loss: 0.0253 - mape: 35.0563 - val_loss: 0.0212 - val_mape: 33.3327\n",
      "Epoch 64/1000\n",
      "1668/1668 [==============================] - 5s 3ms/step - loss: 0.0252 - mape: 34.8321 - val_loss: 0.0206 - val_mape: 32.6226\n",
      "Epoch 65/1000\n",
      "1668/1668 [==============================] - 5s 3ms/step - loss: 0.0252 - mape: 34.8140 - val_loss: 0.0235 - val_mape: 34.3149\n",
      "Epoch 66/1000\n",
      "1668/1668 [==============================] - 5s 3ms/step - loss: 0.0253 - mape: 34.7683 - val_loss: 0.0226 - val_mape: 33.5102\n",
      "Epoch 67/1000\n",
      "1668/1668 [==============================] - 6s 3ms/step - loss: 0.0257 - mape: 35.0411 - val_loss: 0.0208 - val_mape: 32.4152\n",
      "Epoch 68/1000\n",
      "1668/1668 [==============================] - 6s 3ms/step - loss: 0.0251 - mape: 34.6017 - val_loss: 0.0197 - val_mape: 31.8597\n",
      "Epoch 69/1000\n",
      "1668/1668 [==============================] - 5s 3ms/step - loss: 0.0257 - mape: 35.0714 - val_loss: 0.0250 - val_mape: 35.1099\n",
      "Epoch 70/1000\n",
      "1668/1668 [==============================] - 5s 3ms/step - loss: 0.0253 - mape: 34.7525 - val_loss: 0.0198 - val_mape: 31.5477\n",
      "Epoch 71/1000\n",
      "1668/1668 [==============================] - 5s 3ms/step - loss: 0.0250 - mape: 34.1860 - val_loss: 0.0202 - val_mape: 32.5420\n",
      "Epoch 72/1000\n",
      "1668/1668 [==============================] - 5s 3ms/step - loss: 0.0254 - mape: 34.4508 - val_loss: 0.0196 - val_mape: 31.31230s - loss: 0.0255 - - ETA: 0s - loss: 0.0254 - mape: 34.45\n",
      "Epoch 73/1000\n",
      "1668/1668 [==============================] - 5s 3ms/step - loss: 0.0250 - mape: 34.1613 - val_loss: 0.0197 - val_mape: 31.3131\n",
      "Epoch 74/1000\n",
      "1668/1668 [==============================] - 5s 3ms/step - loss: 0.0252 - mape: 34.3074 - val_loss: 0.0200 - val_mape: 31.6911\n",
      "Epoch 75/1000\n",
      "1668/1668 [==============================] - 5s 3ms/step - loss: 0.0249 - mape: 34.0456 - val_loss: 0.0202 - val_mape: 31.3491\n",
      "Epoch 76/1000\n",
      "1668/1668 [==============================] - 5s 3ms/step - loss: 0.0247 - mape: 33.6102 - val_loss: 0.0202 - val_mape: 31.0491\n",
      "Epoch 77/1000\n",
      "1668/1668 [==============================] - 5s 3ms/step - loss: 0.0248 - mape: 33.5738 - val_loss: 0.0197 - val_mape: 31.4323\n",
      "Epoch 78/1000\n",
      "1668/1668 [==============================] - 5s 3ms/step - loss: 0.0245 - mape: 33.3768 - val_loss: 0.0217 - val_mape: 32.1789\n",
      "Epoch 79/1000\n",
      "1668/1668 [==============================] - 5s 3ms/step - loss: 0.0246 - mape: 33.1384 - val_loss: 0.0205 - val_mape: 31.4691\n",
      "Epoch 80/1000\n",
      "1668/1668 [==============================] - 5s 3ms/step - loss: 0.0247 - mape: 33.1653 - val_loss: 0.0195 - val_mape: 30.1416\n",
      "Epoch 81/1000\n",
      "1668/1668 [==============================] - 5s 3ms/step - loss: 0.0248 - mape: 33.0482 - val_loss: 0.0201 - val_mape: 30.0347\n",
      "Epoch 82/1000\n",
      "1668/1668 [==============================] - 5s 3ms/step - loss: 0.0246 - mape: 32.7821 - val_loss: 0.0198 - val_mape: 30.1339\n",
      "Epoch 83/1000\n",
      "1668/1668 [==============================] - 5s 3ms/step - loss: 0.0244 - mape: 32.5570 - val_loss: 0.0192 - val_mape: 29.6803\n",
      "Epoch 84/1000\n",
      "1668/1668 [==============================] - 5s 3ms/step - loss: 0.0245 - mape: 32.4038 - val_loss: 0.0195 - val_mape: 30.0142\n",
      "Epoch 85/1000\n",
      "1668/1668 [==============================] - 5s 3ms/step - loss: 0.0245 - mape: 32.2198 - val_loss: 0.0198 - val_mape: 29.7416\n",
      "Epoch 86/1000\n",
      "1668/1668 [==============================] - 5s 3ms/step - loss: 0.0246 - mape: 32.3546 - val_loss: 0.0194 - val_mape: 29.5494\n",
      "Epoch 87/1000\n",
      "1668/1668 [==============================] - 6s 3ms/step - loss: 0.0243 - mape: 32.0324 - val_loss: 0.0191 - val_mape: 29.3571\n",
      "Epoch 88/1000\n",
      "1668/1668 [==============================] - 5s 3ms/step - loss: 0.0243 - mape: 32.1332 - val_loss: 0.0188 - val_mape: 29.2409\n",
      "Epoch 89/1000\n",
      "1668/1668 [==============================] - 5s 3ms/step - loss: 0.0242 - mape: 31.8146 - val_loss: 0.0193 - val_mape: 29.9192\n",
      "Epoch 90/1000\n",
      "1668/1668 [==============================] - 5s 3ms/step - loss: 0.0240 - mape: 31.9155 - val_loss: 0.0189 - val_mape: 29.1709\n",
      "Epoch 91/1000\n",
      "1668/1668 [==============================] - 6s 3ms/step - loss: 0.0241 - mape: 31.7116 - val_loss: 0.0214 - val_mape: 29.5859\n",
      "Epoch 92/1000\n",
      "1668/1668 [==============================] - 5s 3ms/step - loss: 0.0243 - mape: 32.0308 - val_loss: 0.0203 - val_mape: 30.3442\n",
      "Epoch 93/1000\n",
      "1668/1668 [==============================] - 6s 3ms/step - loss: 0.0244 - mape: 31.8805 - val_loss: 0.0204 - val_mape: 30.5473\n",
      "Epoch 94/1000\n",
      "1668/1668 [==============================] - 6s 3ms/step - loss: 0.0239 - mape: 31.6052 - val_loss: 0.0191 - val_mape: 29.1111\n",
      "Epoch 95/1000\n",
      "1668/1668 [==============================] - 6s 3ms/step - loss: 0.0240 - mape: 31.5599 - val_loss: 0.0195 - val_mape: 29.7415TA: 0s - loss: 0.0240\n",
      "Epoch 96/1000\n",
      "1668/1668 [==============================] - 6s 3ms/step - loss: 0.0240 - mape: 31.7119 - val_loss: 0.0190 - val_mape: 29.3811\n",
      "Epoch 97/1000\n",
      "1668/1668 [==============================] - 6s 3ms/step - loss: 0.0238 - mape: 31.4803 - val_loss: 0.0185 - val_mape: 28.8270\n",
      "Epoch 98/1000\n",
      "1668/1668 [==============================] - 6s 4ms/step - loss: 0.0238 - mape: 31.3958 - val_loss: 0.0190 - val_mape: 29.2464\n",
      "Epoch 99/1000\n",
      "1668/1668 [==============================] - 6s 3ms/step - loss: 0.0240 - mape: 31.6197 - val_loss: 0.0187 - val_mape: 28.9913\n",
      "Epoch 100/1000\n",
      "1668/1668 [==============================] - 7s 4ms/step - loss: 0.0239 - mape: 31.7112 - val_loss: 0.0185 - val_mape: 28.9285\n",
      "Epoch 101/1000\n",
      "1668/1668 [==============================] - 6s 4ms/step - loss: 0.0239 - mape: 31.5183 - val_loss: 0.0202 - val_mape: 29.4676\n",
      "Epoch 102/1000\n",
      "1668/1668 [==============================] - 6s 4ms/step - loss: 0.0242 - mape: 31.8189 - val_loss: 0.0190 - val_mape: 29.0101\n",
      "Epoch 103/1000\n",
      "1668/1668 [==============================] - 5s 3ms/step - loss: 0.0238 - mape: 31.4207 - val_loss: 0.0184 - val_mape: 28.4770\n",
      "Epoch 104/1000\n",
      "1668/1668 [==============================] - 5s 3ms/step - loss: 0.0238 - mape: 31.3693 - val_loss: 0.0193 - val_mape: 28.5612\n",
      "Epoch 105/1000\n",
      "1668/1668 [==============================] - 6s 3ms/step - loss: 0.0239 - mape: 31.4440 - val_loss: 0.0183 - val_mape: 28.5530\n",
      "Epoch 106/1000\n",
      "1661/1668 [============================>.] - ETA: 0s - loss: 0.0236 - mape: 31.2914"
     ]
    }
   ],
   "source": [
    "model = build_model ()\n",
    "history = model.fit ( x_train, y_train, epochs = 1000, batch_size = 10000 , validation_data = (x_val, y_val) )\n",
    "model.save(\"../models/classifier/{}_noposition2.h5\".format('probability'))"
   ]
  },
  {
   "cell_type": "code",
   "execution_count": null,
   "metadata": {},
   "outputs": [],
   "source": [
    "model.summary()"
   ]
  },
  {
   "cell_type": "code",
   "execution_count": null,
   "metadata": {},
   "outputs": [],
   "source": [
    "import matplotlib.pyplot as plt\n",
    "\n",
    "loss = history.history['loss']\n",
    "val_loss = history.history['val_loss']\n",
    "\n",
    "accuracy = history.history['mape']\n",
    "val_accuracy = history.history['val_mape']\n",
    "\n",
    "\n",
    "epochs = range(1, len(loss) + 1)\n",
    "fig, ax1 = plt.subplots()\n",
    "\n",
    "l1 = ax1.plot(epochs, loss, 'bo', label='Training loss')\n",
    "vl1 = ax1.plot(epochs, val_loss, 'b', label='Validation loss')\n",
    "ax1.set_title('Training and validation loss')\n",
    "ax1.set_xlabel('Epochs')\n",
    "ax1.set_ylabel('Loss (mae))')\n",
    "\n",
    "ax2 = ax1.twinx()\n",
    "ac2= ax2.plot(epochs, accuracy, 'o', c=\"red\", label='Training acc')\n",
    "vac2= ax2.plot(epochs, val_accuracy, 'r', label='Validation acc')\n",
    "ax2.set_ylabel('mape')\n",
    "\n",
    "lns = l1 + vl1 + ac2 + vac2\n",
    "labs = [l.get_label() for l in lns]\n",
    "ax2.legend(lns, labs, loc=\"center right\")\n",
    "fig.tight_layout()\n",
    "#fig.savefig(\"acc+loss_drop.pdf\")\n",
    "fig.show()"
   ]
  },
  {
   "cell_type": "markdown",
   "metadata": {},
   "source": [
    "## Probability density distribution"
   ]
  },
  {
   "cell_type": "code",
   "execution_count": null,
   "metadata": {},
   "outputs": [],
   "source": [
    "y0 = class_data0[:,0]\n",
    "A0 = class_data0\n",
    "A0[:,9] = A0[:,13]\n",
    "x0 = class_data0[:,1:10]"
   ]
  },
  {
   "cell_type": "code",
   "execution_count": null,
   "metadata": {},
   "outputs": [],
   "source": [
    "y_pred = model.predict(x0)"
   ]
  },
  {
   "cell_type": "code",
   "execution_count": null,
   "metadata": {},
   "outputs": [],
   "source": [
    "y_pred"
   ]
  },
  {
   "cell_type": "code",
   "execution_count": null,
   "metadata": {},
   "outputs": [],
   "source": [
    "from matplotlib import pyplot\n",
    "y = np.array(y)\n",
    "bins = np.linspace(0, 0.8, 100)\n",
    "pyplot.hist(y0, bins, color = 'indianred', alpha=0.5, label='Osiris')\n",
    "pyplot.hist(y_pred, bins, color = 'mediumslateblue', alpha=0.5, label='NN')\n",
    "pyplot.legend(loc='upper right')\n",
    "pyplot.xlabel('Probability')\n",
    "pyplot.yscale('log')\n",
    "pyplot.title('Trained on ($p_e$, $p_{\\gamma}$, $\\omega_e$, $\\omega_{\\gamma}$, n)')\n",
    "pyplot.show()"
   ]
  },
  {
   "cell_type": "code",
   "execution_count": null,
   "metadata": {},
   "outputs": [],
   "source": []
  },
  {
   "cell_type": "code",
   "execution_count": null,
   "metadata": {},
   "outputs": [],
   "source": []
  }
 ],
 "metadata": {
  "kernelspec": {
   "display_name": "Python 3",
   "language": "python",
   "name": "python3"
  },
  "language_info": {
   "codemirror_mode": {
    "name": "ipython",
    "version": 3
   },
   "file_extension": ".py",
   "mimetype": "text/x-python",
   "name": "python",
   "nbconvert_exporter": "python",
   "pygments_lexer": "ipython3",
   "version": "3.8.8"
  }
 },
 "nbformat": 4,
 "nbformat_minor": 4
}
