{
 "cells": [
  {
   "cell_type": "code",
   "execution_count": 1,
   "metadata": {},
   "outputs": [
    {
     "name": "stdout",
     "output_type": "stream",
     "text": [
      "1.2.0\n"
     ]
    }
   ],
   "source": [
    "import pandas as pd \n",
    "import numpy as np\n",
    "import math\n",
    "import tensorflow as tf\n",
    "print(pd.__version__)\n",
    "import matplotlib.pyplot as plt\n",
    "import progressbar\n",
    "import scipy"
   ]
  },
  {
   "cell_type": "markdown",
   "metadata": {},
   "source": [
    "## Print Dependencies\n",
    "\n",
    "\n",
    "\n",
    "Dependences are fundamental to record the computational environment."
   ]
  },
  {
   "cell_type": "code",
   "execution_count": 2,
   "metadata": {},
   "outputs": [
    {
     "name": "stdout",
     "output_type": "stream",
     "text": [
      "Python implementation: CPython\n",
      "Python version       : 3.7.7\n",
      "IPython version      : 7.19.0\n",
      "\n",
      "pandas     : 1.2.0\n",
      "keras      : 2.4.3\n",
      "numpy      : 1.19.5\n",
      "math       : unknown\n",
      "tensorflow : 2.4.0\n",
      "matplotlib : 3.3.3\n",
      "h5py       : 2.10.0\n",
      "progressbar: 2.5\n",
      "scipy      : 1.6.0\n",
      "\n",
      "Compiler    : GCC 5.4.0 20160609\n",
      "OS          : Linux\n",
      "Release     : 5.8.0-41-generic\n",
      "Machine     : x86_64\n",
      "Processor   : x86_64\n",
      "CPU cores   : 8\n",
      "Architecture: 64bit\n",
      "\n",
      " \n",
      "Last updated: Mon Feb 01 2021 11:57:54CET\n",
      "\n"
     ]
    }
   ],
   "source": [
    "%load_ext watermark\n",
    "\n",
    "# python, ipython, packages, and machine characteristics\n",
    "%watermark -v -m -p pandas,keras,numpy,math,tensorflow,matplotlib,h5py,progressbar,scipy\n",
    "\n",
    "# date\n",
    "print (\" \")\n",
    "%watermark -u -n -t -z"
   ]
  },
  {
   "cell_type": "markdown",
   "metadata": {},
   "source": [
    "## Load of the data"
   ]
  },
  {
   "cell_type": "code",
   "execution_count": 3,
   "metadata": {},
   "outputs": [],
   "source": [
    "from process import loaddata\n",
    "class_data = loaddata(\"../data/spec/raw_data_spec1.csv\")"
   ]
  },
  {
   "cell_type": "code",
   "execution_count": 4,
   "metadata": {},
   "outputs": [],
   "source": [
    "np.random.shuffle(class_data)\n",
    "y = class_data[:,-3:]\n",
    "x = class_data[:,:-3]"
   ]
  },
  {
   "cell_type": "code",
   "execution_count": 5,
   "metadata": {},
   "outputs": [
    {
     "data": {
      "text/plain": [
       "(45276, 9)"
      ]
     },
     "execution_count": 5,
     "metadata": {},
     "output_type": "execute_result"
    }
   ],
   "source": [
    "x.shape"
   ]
  },
  {
   "cell_type": "code",
   "execution_count": 6,
   "metadata": {},
   "outputs": [
    {
     "name": "stdout",
     "output_type": "stream",
     "text": [
      "Training sample: 33957 \n",
      "Valuation sample: 11319\n"
     ]
    }
   ],
   "source": [
    "train_split = 0.75\n",
    "train_limit = int(len(y)*train_split)\n",
    "print(\"Training sample: {0} \\nValuation sample: {1}\".format(train_limit, len(y)-train_limit))"
   ]
  },
  {
   "cell_type": "code",
   "execution_count": 7,
   "metadata": {},
   "outputs": [],
   "source": [
    "x_train = x[:train_limit]\n",
    "x_val = x[train_limit:]\n",
    "\n",
    "y_train = y[:train_limit]\n",
    "y_val = y[train_limit:]"
   ]
  },
  {
   "cell_type": "markdown",
   "metadata": {},
   "source": [
    "## Model Build"
   ]
  },
  {
   "cell_type": "code",
   "execution_count": 8,
   "metadata": {},
   "outputs": [],
   "source": [
    "from keras.models import Sequential\n",
    "from keras.layers.core import Dense\n",
    "import keras.backend as K\n",
    "from keras import optimizers\n",
    "from keras import models\n",
    "from keras import layers\n",
    "from keras import regularizers"
   ]
  },
  {
   "cell_type": "markdown",
   "metadata": {},
   "source": [
    "## !! \n",
    "The dropout 0.2 seems to work better"
   ]
  },
  {
   "cell_type": "code",
   "execution_count": 9,
   "metadata": {},
   "outputs": [],
   "source": [
    "def build_model() :\n",
    "    model = models.Sequential()\n",
    "    model.add (layers.Dense (9, kernel_initializer= \"normal\" , input_shape = x.shape))\n",
    "    model.add (layers.Dense (12, activation = \"relu\"))\n",
    "    model.add (layers.Dense (32, activation = \"relu\"))\n",
    "    model.add (layers.Dense (64, activation = \"relu\"))\n",
    "    model.add (layers.Dense (64, activation = \"relu\"))\n",
    "    model.add (layers.Dense (32, activation = \"relu\"))\n",
    "    model.add (layers.Dense (12, activation = \"relu\"))\n",
    "    model.add (layers.Dense (6, activation = \"relu\"))\n",
    "    model.add (layers.Dense (3))\n",
    "    model.compile(optimizer = \"rmsprop\" , loss = \"mse\" , metrics =[\"mae\"])\n",
    "    return model"
   ]
  },
  {
   "cell_type": "code",
   "execution_count": 10,
   "metadata": {},
   "outputs": [
    {
     "name": "stdout",
     "output_type": "stream",
     "text": [
      "Epoch 1/20\n",
      "WARNING:tensorflow:Model was constructed with shape (None, 45276, 9) for input KerasTensor(type_spec=TensorSpec(shape=(None, 45276, 9), dtype=tf.float32, name='dense_input'), name='dense_input', description=\"created by layer 'dense_input'\"), but it was called on an input with incompatible shape (None, 9).\n",
      "WARNING:tensorflow:Model was constructed with shape (None, 45276, 9) for input KerasTensor(type_spec=TensorSpec(shape=(None, 45276, 9), dtype=tf.float32, name='dense_input'), name='dense_input', description=\"created by layer 'dense_input'\"), but it was called on an input with incompatible shape (None, 9).\n",
      "630/680 [==========================>...] - ETA: 0s - loss: 15.4800 - mae: 2.4810WARNING:tensorflow:Model was constructed with shape (None, 45276, 9) for input KerasTensor(type_spec=TensorSpec(shape=(None, 45276, 9), dtype=tf.float32, name='dense_input'), name='dense_input', description=\"created by layer 'dense_input'\"), but it was called on an input with incompatible shape (None, 9).\n",
      "680/680 [==============================] - 2s 2ms/step - loss: 14.8084 - mae: 2.3990 - val_loss: 0.2673 - val_mae: 0.3428\n",
      "Epoch 2/20\n",
      "680/680 [==============================] - 1s 1ms/step - loss: 0.4174 - mae: 0.4183 - val_loss: 0.2829 - val_mae: 0.3475\n",
      "Epoch 3/20\n",
      "680/680 [==============================] - 1s 1ms/step - loss: 0.2387 - mae: 0.3140 - val_loss: 0.0874 - val_mae: 0.1733\n",
      "Epoch 4/20\n",
      "680/680 [==============================] - 1s 1ms/step - loss: 0.1821 - mae: 0.2803 - val_loss: 0.2527 - val_mae: 0.3192\n",
      "Epoch 5/20\n",
      "680/680 [==============================] - 1s 1ms/step - loss: 0.1633 - mae: 0.2609 - val_loss: 0.1446 - val_mae: 0.2459\n",
      "Epoch 6/20\n",
      "680/680 [==============================] - 1s 1ms/step - loss: 0.1544 - mae: 0.2423 - val_loss: 0.0786 - val_mae: 0.1489\n",
      "Epoch 7/20\n",
      "680/680 [==============================] - 1s 1ms/step - loss: 0.1364 - mae: 0.2333 - val_loss: 0.1080 - val_mae: 0.1891\n",
      "Epoch 8/20\n",
      "680/680 [==============================] - 1s 1ms/step - loss: 0.1356 - mae: 0.2268 - val_loss: 0.1916 - val_mae: 0.2719\n",
      "Epoch 9/20\n",
      "680/680 [==============================] - 1s 1ms/step - loss: 0.1178 - mae: 0.2129 - val_loss: 0.0472 - val_mae: 0.0926\n",
      "Epoch 10/20\n",
      "680/680 [==============================] - 1s 1ms/step - loss: 0.1134 - mae: 0.2110 - val_loss: 0.2187 - val_mae: 0.2951\n",
      "Epoch 11/20\n",
      "680/680 [==============================] - 1s 1ms/step - loss: 0.1183 - mae: 0.2120 - val_loss: 0.0669 - val_mae: 0.1434\n",
      "Epoch 12/20\n",
      "680/680 [==============================] - 1s 1ms/step - loss: 0.1050 - mae: 0.2014 - val_loss: 0.3611 - val_mae: 0.3860\n",
      "Epoch 13/20\n",
      "680/680 [==============================] - 1s 1ms/step - loss: 0.1055 - mae: 0.1981 - val_loss: 0.1349 - val_mae: 0.2225\n",
      "Epoch 14/20\n",
      "680/680 [==============================] - 1s 1ms/step - loss: 0.1034 - mae: 0.1960 - val_loss: 0.0793 - val_mae: 0.1546\n",
      "Epoch 15/20\n",
      "680/680 [==============================] - 1s 1ms/step - loss: 0.0935 - mae: 0.1918 - val_loss: 0.0561 - val_mae: 0.1158\n",
      "Epoch 16/20\n",
      "680/680 [==============================] - 1s 1ms/step - loss: 0.0921 - mae: 0.1871 - val_loss: 0.1109 - val_mae: 0.2010\n",
      "Epoch 17/20\n",
      "680/680 [==============================] - 1s 1ms/step - loss: 0.0937 - mae: 0.1877 - val_loss: 0.2133 - val_mae: 0.3136\n",
      "Epoch 18/20\n",
      "680/680 [==============================] - 1s 1ms/step - loss: 0.0928 - mae: 0.1825 - val_loss: 0.0909 - val_mae: 0.1731\n",
      "Epoch 19/20\n",
      "680/680 [==============================] - 1s 1ms/step - loss: 0.0970 - mae: 0.1876 - val_loss: 0.0669 - val_mae: 0.1371\n",
      "Epoch 20/20\n",
      "680/680 [==============================] - 1s 1ms/step - loss: 0.0923 - mae: 0.1827 - val_loss: 0.1582 - val_mae: 0.2652\n"
     ]
    }
   ],
   "source": [
    "model = build_model ()\n",
    "history = model.fit ( x_train, y_train, epochs = 20, batch_size = 50, validation_data = (x_val, y_val) )\n",
    "model.save(\"../models/spec/firstNN.h5\")"
   ]
  },
  {
   "cell_type": "code",
   "execution_count": 11,
   "metadata": {},
   "outputs": [
    {
     "data": {
      "image/png": "[encoded data removed]",
      "text/plain": [
       "<Figure size 432x288 with 1 Axes>"
      ]
     },
     "metadata": {
      "needs_background": "light"
     },
     "output_type": "display_data"
    }
   ],
   "source": [
    "loss = history.history['loss']\n",
    "val_loss = history.history['val_loss']\n",
    "\n",
    "epochs = range(1, len(loss) + 1)\n",
    "\n",
    "plt.plot(epochs, loss, 'bo', label='Training loss')\n",
    "plt.plot(epochs, val_loss, 'b', label='Validation loss')\n",
    "plt.title('Training and validation loss')\n",
    "plt.xlabel('Epochs')\n",
    "plt.ylabel('Loss')\n",
    "plt.legend()\n",
    "\n",
    "plt.show()"
   ]
  },
  {
   "cell_type": "markdown",
   "metadata": {},
   "source": [
    "## Test spectrum"
   ]
  },
  {
   "cell_type": "code",
   "execution_count": 12,
   "metadata": {},
   "outputs": [],
   "source": [
    "from tensorflow import keras\n",
    "model = keras.models.load_model('../models/spec/firstNN.h5')"
   ]
  },
  {
   "cell_type": "code",
   "execution_count": 13,
   "metadata": {},
   "outputs": [
    {
     "name": "stdout",
     "output_type": "stream",
     "text": [
      "Model: \"sequential\"\n",
      "_________________________________________________________________\n",
      "Layer (type)                 Output Shape              Param #   \n",
      "=================================================================\n",
      "dense (Dense)                (None, 45276, 9)          90        \n",
      "_________________________________________________________________\n",
      "dense_1 (Dense)              (None, 45276, 12)         120       \n",
      "_________________________________________________________________\n",
      "dense_2 (Dense)              (None, 45276, 32)         416       \n",
      "_________________________________________________________________\n",
      "dense_3 (Dense)              (None, 45276, 64)         2112      \n",
      "_________________________________________________________________\n",
      "dense_4 (Dense)              (None, 45276, 64)         4160      \n",
      "_________________________________________________________________\n",
      "dense_5 (Dense)              (None, 45276, 32)         2080      \n",
      "_________________________________________________________________\n",
      "dense_6 (Dense)              (None, 45276, 12)         396       \n",
      "_________________________________________________________________\n",
      "dense_7 (Dense)              (None, 45276, 6)          78        \n",
      "_________________________________________________________________\n",
      "dense_8 (Dense)              (None, 45276, 3)          21        \n",
      "=================================================================\n",
      "Total params: 9,473\n",
      "Trainable params: 9,473\n",
      "Non-trainable params: 0\n",
      "_________________________________________________________________\n"
     ]
    }
   ],
   "source": [
    "model.summary()"
   ]
  },
  {
   "cell_type": "code",
   "execution_count": 14,
   "metadata": {},
   "outputs": [],
   "source": [
    "def energy_spectrum(energy_array, bins):\n",
    "    energy_array = np.array(energy_array)\n",
    "    plt.hist(energy_array, bins, histtype=u'step', density=True)\n",
    "    plt.yscale(\"log\")\n",
    "    plt.show()"
   ]
  },
  {
   "cell_type": "code",
   "execution_count": 15,
   "metadata": {},
   "outputs": [
    {
     "data": {
      "text/plain": [
       "array([[ -3.80704747,  -1.7480169 , -10.11085344],\n",
       "       [ -1.29928374,   4.25973511,  -0.46097004],\n",
       "       [  2.8847506 ,   1.88714278,  -2.37263083],\n",
       "       ...,\n",
       "       [ -2.13091731,  -7.9553051 ,  13.1400671 ],\n",
       "       [  3.67218256,  -6.72098398,   8.02395439],\n",
       "       [ -1.93304038,   8.51232815,   2.77844572]])"
      ]
     },
     "execution_count": 15,
     "metadata": {},
     "output_type": "execute_result"
    }
   ],
   "source": [
    "y"
   ]
  },
  {
   "cell_type": "code",
   "execution_count": 16,
   "metadata": {},
   "outputs": [
    {
     "name": "stdout",
     "output_type": "stream",
     "text": [
      "WARNING:tensorflow:Model was constructed with shape (None, 45276, 9) for input KerasTensor(type_spec=TensorSpec(shape=(None, 45276, 9), dtype=tf.float32, name='dense_input'), name='dense_input', description=\"created by layer 'dense_input'\"), but it was called on an input with incompatible shape (None, 9).\n"
     ]
    }
   ],
   "source": [
    "from tensorflow import keras \n",
    "photon_final_nn = []\n",
    "prediction = model.predict(x)"
   ]
  },
  {
   "cell_type": "code",
   "execution_count": 44,
   "metadata": {},
   "outputs": [
    {
     "name": "stdout",
     "output_type": "stream",
     "text": [
      "[-3.5751977 -1.2383753  3.155716  ... -1.3059868  4.068448  -1.9534547]\n",
      "[-3.80704747 -1.29928374  2.8847506  ... -2.13091731  3.67218256\n",
      " -1.93304038]\n"
     ]
    },
    {
     "data": {
      "image/png": "[encoded data removed]",
      "text/plain": [
       "<Figure size 432x288 with 1 Axes>"
      ]
     },
     "metadata": {
      "needs_background": "light"
     },
     "output_type": "display_data"
    }
   ],
   "source": [
    "p1e_nn = prediction[:,0] \n",
    "p1e = y[:,0]\n",
    "print(p1e_nn)\n",
    "print(p1e)\n",
    "plt.hist(p1e_nn, 60, alpha=0.5, label='NN prediction', density = True)\n",
    "plt.hist(p1e, 100, alpha=0.5, label='Photon Momentum from simulations', density = True)\n",
    "plt.xlabel('Electron momentum x-direction')\n",
    "plt.ylabel('count')\n",
    "plt.legend(loc='upper right')\n",
    "plt.ylim((0, 0.130))\n",
    "plt.show()"
   ]
  },
  {
   "cell_type": "code",
   "execution_count": 43,
   "metadata": {},
   "outputs": [
    {
     "name": "stdout",
     "output_type": "stream",
     "text": [
      "[-1.4433975  4.2834415  2.1503303 ... -7.756457  -6.3902955  8.467965 ]\n",
      "[-1.7480169   4.25973511  1.88714278 ... -7.9553051  -6.72098398\n",
      "  8.51232815]\n"
     ]
    },
    {
     "data": {
      "image/png": "[encoded data removed]",
      "text/plain": [
       "<Figure size 432x288 with 1 Axes>"
      ]
     },
     "metadata": {
      "needs_background": "light"
     },
     "output_type": "display_data"
    }
   ],
   "source": [
    "p2e_nn = prediction[:,1] \n",
    "p2e = y[:,1]\n",
    "print(p2e_nn)\n",
    "print(p2e)\n",
    "plt.hist(p2e_nn, 60, alpha=0.5, label='NN prediction', density = True)\n",
    "plt.hist(p2e, 100, alpha=0.5, label='Photon Momentum from simulations', density = True)\n",
    "plt.xlabel('Electron momentum y-direction')\n",
    "plt.ylabel('count')\n",
    "plt.legend(loc='upper right')\n",
    "plt.ylim((0, 0.130))\n",
    "plt.show()"
   ]
  },
  {
   "cell_type": "code",
   "execution_count": 42,
   "metadata": {},
   "outputs": [
    {
     "name": "stdout",
     "output_type": "stream",
     "text": [
      "[-9.875181  -0.3786174 -2.23366   ... 13.5361     8.232476   2.9069839]\n",
      "[-10.11085344  -0.46097004  -2.37263083 ...  13.1400671    8.02395439\n",
      "   2.77844572]\n"
     ]
    },
    {
     "data": {
      "image/png": "[encoded data removed]",
      "text/plain": [
       "<Figure size 432x288 with 1 Axes>"
      ]
     },
     "metadata": {
      "needs_background": "light"
     },
     "output_type": "display_data"
    }
   ],
   "source": [
    "p3e_nn = prediction[:,2] \n",
    "p3e = y[:,2]\n",
    "print(p3e_nn)\n",
    "print(p3e)\n",
    "plt.hist(p3e_nn, 100, alpha=0.5, label='NN prediction', density = True)\n",
    "plt.hist(p3e, 100, alpha=0.5, label='Photon Momentum from simulations', density = True)\n",
    "plt.xlabel('Electron momentum z-direction')\n",
    "plt.ylabel('count')\n",
    "plt.legend(loc='upper right')\n",
    "plt.ylim((0, 0.130))\n",
    "plt.show()"
   ]
  },
  {
   "cell_type": "code",
   "execution_count": 29,
   "metadata": {},
   "outputs": [
    {
     "name": "stderr",
     "output_type": "stream",
     "text": [
      "/home/linuxbrew/.linuxbrew/opt/python/lib/python3.7/site-packages/ipykernel_launcher.py:9: UserWarning: Matplotlib is currently using module://ipykernel.pylab.backend_inline, which is a non-GUI backend, so cannot show the figure.\n",
      "  if __name__ == '__main__':\n"
     ]
    },
    {
     "data": {
      "image/png": "[encoded data removed]",
      "text/plain": [
       "<Figure size 432x288 with 3 Axes>"
      ]
     },
     "metadata": {
      "needs_background": "light"
     },
     "output_type": "display_data"
    }
   ],
   "source": [
    "fig, axs = plt.subplots(3, sharex = True)\n",
    "fig.suptitle('3-momentum electrons post interaction')\n",
    "axs[0].hist(p1e_nn, 100, alpha=0.5, label='NN prediction', density = True)\n",
    "axs[0].hist(p1e, 100, alpha=0.5, label='NN prediction', density = True)\n",
    "axs[1].hist(p2e_nn, 100, alpha=0.5, label='Electron Momentum from simulations', density = True)\n",
    "axs[1].hist(p2e, 100, alpha=0.5, label='Electron Momentum from simulations', density = True)\n",
    "axs[2].hist(p3e_nn, 100, alpha=0.5, label='Electron Momentum from simulations', density = True)\n",
    "axs[2].hist(p3e, 100, alpha=0.5, label='Electron Momentum from simulations', density = True)\n",
    "fig.show()"
   ]
  },
  {
   "cell_type": "code",
   "execution_count": 30,
   "metadata": {},
   "outputs": [],
   "source": [
    "final_e = []\n",
    "for classi_ in class_data:\n",
    "    final_e.append(np.linalg.norm(classi_[:-3]))"
   ]
  },
  {
   "cell_type": "code",
   "execution_count": 31,
   "metadata": {},
   "outputs": [
    {
     "name": "stderr",
     "output_type": "stream",
     "text": [
      "[===============================================================] 100% of 45276\n"
     ]
    }
   ],
   "source": [
    "from tensorflow import keras \n",
    "final_e_nn = []\n",
    "threshold = 0.5\n",
    "num = int(1*len(x))\n",
    "bar = progressbar.ProgressBar(maxval=num, \n",
    "                              widgets=[progressbar.Bar('=', '[', ']'), ' ', \n",
    "                                       progressbar.Percentage(), \n",
    "                                       \" of {0}\".format(num)])\n",
    "bar.start()\n",
    "for pred in prediction:\n",
    "    final_e_nn.append(np.linalg.norm(pred))\n",
    "bar.finish()"
   ]
  },
  {
   "cell_type": "code",
   "execution_count": 32,
   "metadata": {},
   "outputs": [
    {
     "data": {
      "image/png": "[encoded data removed]",
      "text/plain": [
       "<Figure size 432x288 with 1 Axes>"
      ]
     },
     "metadata": {
      "needs_background": "light"
     },
     "output_type": "display_data"
    }
   ],
   "source": [
    "energy_spectrum(final_e, 75)"
   ]
  },
  {
   "cell_type": "code",
   "execution_count": 33,
   "metadata": {},
   "outputs": [
    {
     "data": {
      "image/png": "[encoded data removed]",
      "text/plain": [
       "<Figure size 432x288 with 1 Axes>"
      ]
     },
     "metadata": {
      "needs_background": "light"
     },
     "output_type": "display_data"
    }
   ],
   "source": [
    "energy_spectrum(final_e_nn, 75)"
   ]
  },
  {
   "cell_type": "code",
   "execution_count": 34,
   "metadata": {},
   "outputs": [
    {
     "data": {
      "image/png": "[encoded data removed]",
      "text/plain": [
       "<Figure size 432x288 with 1 Axes>"
      ]
     },
     "metadata": {
      "needs_background": "light"
     },
     "output_type": "display_data"
    }
   ],
   "source": [
    "from scipy.stats import norm\n",
    "import matplotlib.mlab as mlab\n",
    "import matplotlib.pyplot as plt\n",
    "import scipy.stats as stats\n",
    "from scipy.stats import chisquare\n",
    "\n",
    "mean,std=norm.fit(final_e)\n",
    "plt.hist(final_e, bins=100, alpha = 0.5, label='Simulation spectrum e', density = True)\n",
    "plt.legend(loc='upper right')\n",
    "plt.show()"
   ]
  },
  {
   "cell_type": "code",
   "execution_count": 35,
   "metadata": {},
   "outputs": [
    {
     "data": {
      "image/png": "[encoded data removed]",
      "text/plain": [
       "<Figure size 432x288 with 1 Axes>"
      ]
     },
     "metadata": {
      "needs_background": "light"
     },
     "output_type": "display_data"
    }
   ],
   "source": [
    "from scipy.stats import norm\n",
    "import matplotlib.mlab as mlab\n",
    "import matplotlib.pyplot as plt\n",
    "import scipy.stats as stats\n",
    "from scipy.stats import chisquare\n",
    "\n",
    "mean_nn,std_nn=norm.fit(final_e_nn)\n",
    "plt.hist(final_e_nn, bins=100, alpha = 0.5, label='NN prediction', density = True)\n",
    "plt.legend(loc='upper right')\n",
    "plt.show()"
   ]
  },
  {
   "cell_type": "code",
   "execution_count": 36,
   "metadata": {},
   "outputs": [
    {
     "data": {
      "image/png": "[encoded data removed]",
      "text/plain": [
       "<Figure size 432x288 with 1 Axes>"
      ]
     },
     "metadata": {
      "needs_background": "light"
     },
     "output_type": "display_data"
    }
   ],
   "source": [
    "plt.hist(final_e_nn, bins=100, alpha = 0.5, label='NN prediction', density = True)\n",
    "plt.hist(final_e, bins=100, alpha = 0.5, label='Electron Momentum from simulations', density = True)\n",
    "plt.legend(loc = 'upper right')\n",
    "plt.ylim((0, 0.30))\n",
    "plt.show()"
   ]
  },
  {
   "cell_type": "code",
   "execution_count": null,
   "metadata": {},
   "outputs": [],
   "source": []
  }
 ],
 "metadata": {
  "kernelspec": {
   "display_name": "Python 3",
   "language": "python",
   "name": "python3"
  },
  "language_info": {
   "codemirror_mode": {
    "name": "ipython",
    "version": 3
   },
   "file_extension": ".py",
   "mimetype": "text/x-python",
   "name": "python",
   "nbconvert_exporter": "python",
   "pygments_lexer": "ipython3",
   "version": "3.7.7"
  }
 },
 "nbformat": 4,
 "nbformat_minor": 4
}
