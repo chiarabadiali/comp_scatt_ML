{
 "cells": [
  {
   "cell_type": "code",
   "execution_count": 1,
   "metadata": {},
   "outputs": [
    {
     "name": "stdout",
     "output_type": "stream",
     "text": [
      "1.2.0\n"
     ]
    }
   ],
   "source": [
    "import pandas as pd \n",
    "import numpy as np\n",
    "import math\n",
    "import tensorflow as tf\n",
    "print(pd.__version__)"
   ]
  },
  {
   "cell_type": "code",
   "execution_count": 2,
   "metadata": {},
   "outputs": [],
   "source": [
    "A = pd.array([1, 4, 5, 12])"
   ]
  },
  {
   "cell_type": "code",
   "execution_count": 3,
   "metadata": {},
   "outputs": [
    {
     "name": "stdout",
     "output_type": "stream",
     "text": [
      "<IntegerArray>\n",
      "[1, 4, 5, 12]\n",
      "Length: 4, dtype: Int64\n"
     ]
    }
   ],
   "source": [
    "print(A)"
   ]
  },
  {
   "cell_type": "code",
   "execution_count": 4,
   "metadata": {},
   "outputs": [
    {
     "name": "stdout",
     "output_type": "stream",
     "text": [
      "(4,)\n"
     ]
    }
   ],
   "source": [
    "print(A.shape)"
   ]
  },
  {
   "cell_type": "markdown",
   "metadata": {},
   "source": [
    "### Model build \n"
   ]
  },
  {
   "cell_type": "code",
   "execution_count": 5,
   "metadata": {},
   "outputs": [],
   "source": [
    "from keras.models import Sequential\n",
    "from keras.layers.core import Dense\n",
    "import keras.backend as K\n",
    "from keras import optimizers\n",
    "from keras import models\n",
    "from keras import layers"
   ]
  },
  {
   "cell_type": "markdown",
   "metadata": {},
   "source": [
    "## Print Dependencies\n",
    "\n",
    "\n",
    "\n",
    "Dependences are fundamental to record the computational environment."
   ]
  },
  {
   "cell_type": "code",
   "execution_count": 6,
   "metadata": {},
   "outputs": [
    {
     "name": "stdout",
     "output_type": "stream",
     "text": [
      "Python implementation: CPython\n",
      "Python version       : 3.7.7\n",
      "IPython version      : 7.19.0\n",
      "\n",
      "pandas    : 1.2.0\n",
      "keras     : 2.4.3\n",
      "numpy     : 1.19.5\n",
      "math      : unknown\n",
      "tensorflow: 2.4.0\n",
      "\n",
      "Compiler    : GCC 5.4.0 20160609\n",
      "OS          : Linux\n",
      "Release     : 5.8.0-38-generic\n",
      "Machine     : x86_64\n",
      "Processor   : x86_64\n",
      "CPU cores   : 8\n",
      "Architecture: 64bit\n",
      "\n",
      " \n",
      "Last updated: Mon Jan 18 2021 18:28:01CET\n",
      "\n"
     ]
    }
   ],
   "source": [
    "%load_ext watermark\n",
    "\n",
    "# python, ipython, packages, and machine characteristics\n",
    "%watermark -v -m -p pandas,keras,numpy,math,tensorflow\n",
    "\n",
    "# date\n",
    "print (\" \")\n",
    "%watermark -u -n -t -z"
   ]
  },
  {
   "cell_type": "code",
   "execution_count": 68,
   "metadata": {},
   "outputs": [],
   "source": [
    "from process import load_generate_data\n",
    "regr_data, class_data = load_generate_data(1, 10)"
   ]
  },
  {
   "cell_type": "code",
   "execution_count": 69,
   "metadata": {},
   "outputs": [
    {
     "data": {
      "text/plain": [
       "(1378, 11)"
      ]
     },
     "execution_count": 69,
     "metadata": {},
     "output_type": "execute_result"
    }
   ],
   "source": [
    "class_data.shape"
   ]
  },
  {
   "cell_type": "code",
   "execution_count": 70,
   "metadata": {},
   "outputs": [],
   "source": [
    "np.random.shuffle(class_data)\n",
    "y = class_data[:,0]\n",
    "x = class_data[:,1:]"
   ]
  },
  {
   "cell_type": "code",
   "execution_count": 71,
   "metadata": {},
   "outputs": [
    {
     "data": {
      "text/plain": [
       "(1378,)"
      ]
     },
     "execution_count": 71,
     "metadata": {},
     "output_type": "execute_result"
    }
   ],
   "source": [
    "y.shape"
   ]
  },
  {
   "cell_type": "code",
   "execution_count": 72,
   "metadata": {},
   "outputs": [
    {
     "data": {
      "text/plain": [
       "(1378, 10)"
      ]
     },
     "execution_count": 72,
     "metadata": {},
     "output_type": "execute_result"
    }
   ],
   "source": [
    "x.shape"
   ]
  },
  {
   "cell_type": "code",
   "execution_count": 73,
   "metadata": {},
   "outputs": [],
   "source": [
    "x_train = x[:500]\n",
    "x_val = x[500:]\n",
    "\n",
    "y_train = y[:500]\n",
    "y_val = y[500:]"
   ]
  },
  {
   "cell_type": "code",
   "execution_count": 74,
   "metadata": {},
   "outputs": [],
   "source": [
    "from keras.models import Sequential\n",
    "from keras.layers.core import Dense\n",
    "import keras.backend as K\n",
    "from keras import optimizers\n",
    "from keras import models\n",
    "from keras import layers"
   ]
  },
  {
   "cell_type": "code",
   "execution_count": 75,
   "metadata": {},
   "outputs": [
    {
     "name": "stdout",
     "output_type": "stream",
     "text": [
      "Epoch 1/50\n",
      "WARNING:tensorflow:Model was constructed with shape (None, 1378, 10) for input KerasTensor(type_spec=TensorSpec(shape=(None, 1378, 10), dtype=tf.float32, name='dense_39_input'), name='dense_39_input', description=\"created by layer 'dense_39_input'\"), but it was called on an input with incompatible shape (5, 10).\n",
      "WARNING:tensorflow:Model was constructed with shape (None, 1378, 10) for input KerasTensor(type_spec=TensorSpec(shape=(None, 1378, 10), dtype=tf.float32, name='dense_39_input'), name='dense_39_input', description=\"created by layer 'dense_39_input'\"), but it was called on an input with incompatible shape (5, 10).\n",
      " 57/100 [================>.............] - ETA: 0s - loss: 0.9100 - accuracy: 0.5195 WARNING:tensorflow:Model was constructed with shape (None, 1378, 10) for input KerasTensor(type_spec=TensorSpec(shape=(None, 1378, 10), dtype=tf.float32, name='dense_39_input'), name='dense_39_input', description=\"created by layer 'dense_39_input'\"), but it was called on an input with incompatible shape (None, 10).\n",
      "100/100 [==============================] - 1s 4ms/step - loss: 0.8728 - accuracy: 0.5217 - val_loss: 0.7315 - val_accuracy: 0.4784\n",
      "Epoch 2/50\n",
      "100/100 [==============================] - 0s 2ms/step - loss: 0.6835 - accuracy: 0.5603 - val_loss: 0.6978 - val_accuracy: 0.4989\n",
      "Epoch 3/50\n",
      "100/100 [==============================] - 0s 2ms/step - loss: 0.6882 - accuracy: 0.5056 - val_loss: 0.6985 - val_accuracy: 0.4897\n",
      "Epoch 4/50\n",
      "100/100 [==============================] - 0s 2ms/step - loss: 0.6945 - accuracy: 0.4886 - val_loss: 0.6986 - val_accuracy: 0.4818\n",
      "Epoch 5/50\n",
      "100/100 [==============================] - 0s 2ms/step - loss: 0.6889 - accuracy: 0.5246 - val_loss: 0.6979 - val_accuracy: 0.4806\n",
      "Epoch 6/50\n",
      "100/100 [==============================] - 0s 2ms/step - loss: 0.6912 - accuracy: 0.5072 - val_loss: 0.6964 - val_accuracy: 0.4863\n",
      "Epoch 7/50\n",
      "100/100 [==============================] - 0s 2ms/step - loss: 0.6866 - accuracy: 0.5547 - val_loss: 0.6952 - val_accuracy: 0.4829\n",
      "Epoch 8/50\n",
      "100/100 [==============================] - 0s 3ms/step - loss: 0.6898 - accuracy: 0.4942 - val_loss: 0.6971 - val_accuracy: 0.4829\n",
      "Epoch 9/50\n",
      "100/100 [==============================] - 0s 3ms/step - loss: 0.6764 - accuracy: 0.5481 - val_loss: 0.6947 - val_accuracy: 0.4829\n",
      "Epoch 10/50\n",
      "100/100 [==============================] - 0s 3ms/step - loss: 0.6848 - accuracy: 0.5223 - val_loss: 0.6932 - val_accuracy: 0.5091\n",
      "Epoch 11/50\n",
      "100/100 [==============================] - 0s 3ms/step - loss: 0.6896 - accuracy: 0.4873 - val_loss: 0.6991 - val_accuracy: 0.4749\n",
      "Epoch 12/50\n",
      "100/100 [==============================] - 0s 3ms/step - loss: 0.6864 - accuracy: 0.5362 - val_loss: 0.6946 - val_accuracy: 0.4852\n",
      "Epoch 13/50\n",
      "100/100 [==============================] - 0s 3ms/step - loss: 0.6793 - accuracy: 0.5656 - val_loss: 0.6925 - val_accuracy: 0.5091\n",
      "Epoch 14/50\n",
      "100/100 [==============================] - 0s 3ms/step - loss: 0.6838 - accuracy: 0.5578 - val_loss: 0.6947 - val_accuracy: 0.4909\n",
      "Epoch 15/50\n",
      "100/100 [==============================] - 0s 2ms/step - loss: 0.6885 - accuracy: 0.5175 - val_loss: 0.6936 - val_accuracy: 0.5011\n",
      "Epoch 16/50\n",
      "100/100 [==============================] - 0s 2ms/step - loss: 0.6846 - accuracy: 0.5376 - val_loss: 0.6894 - val_accuracy: 0.5182\n",
      "Epoch 17/50\n",
      "100/100 [==============================] - 0s 3ms/step - loss: 0.6776 - accuracy: 0.5621 - val_loss: 0.6902 - val_accuracy: 0.5057\n",
      "Epoch 18/50\n",
      "100/100 [==============================] - 0s 4ms/step - loss: 0.6745 - accuracy: 0.5684 - val_loss: 0.6901 - val_accuracy: 0.5137\n",
      "Epoch 19/50\n",
      "100/100 [==============================] - 0s 3ms/step - loss: 0.6683 - accuracy: 0.5867 - val_loss: 0.6899 - val_accuracy: 0.5171\n",
      "Epoch 20/50\n",
      "100/100 [==============================] - 0s 3ms/step - loss: 0.6770 - accuracy: 0.5711 - val_loss: 0.6871 - val_accuracy: 0.5273\n",
      "Epoch 21/50\n",
      "100/100 [==============================] - 0s 2ms/step - loss: 0.6669 - accuracy: 0.5967 - val_loss: 0.6855 - val_accuracy: 0.5251\n",
      "Epoch 22/50\n",
      "100/100 [==============================] - 0s 2ms/step - loss: 0.6690 - accuracy: 0.6102 - val_loss: 0.6808 - val_accuracy: 0.5421\n",
      "Epoch 23/50\n",
      "100/100 [==============================] - 0s 2ms/step - loss: 0.6746 - accuracy: 0.5702 - val_loss: 0.6830 - val_accuracy: 0.5399\n",
      "Epoch 24/50\n",
      "100/100 [==============================] - 0s 3ms/step - loss: 0.6591 - accuracy: 0.6170 - val_loss: 0.6796 - val_accuracy: 0.5524\n",
      "Epoch 25/50\n",
      "100/100 [==============================] - 0s 2ms/step - loss: 0.6740 - accuracy: 0.5762 - val_loss: 0.6833 - val_accuracy: 0.5399\n",
      "Epoch 26/50\n",
      "100/100 [==============================] - 0s 3ms/step - loss: 0.6668 - accuracy: 0.5957 - val_loss: 0.6779 - val_accuracy: 0.5569\n",
      "Epoch 27/50\n",
      "100/100 [==============================] - 0s 3ms/step - loss: 0.6663 - accuracy: 0.6401 - val_loss: 0.6791 - val_accuracy: 0.5524\n",
      "Epoch 28/50\n",
      "100/100 [==============================] - 0s 3ms/step - loss: 0.6679 - accuracy: 0.6228 - val_loss: 0.6790 - val_accuracy: 0.5501\n",
      "Epoch 29/50\n",
      "100/100 [==============================] - 0s 3ms/step - loss: 0.6603 - accuracy: 0.6224 - val_loss: 0.6861 - val_accuracy: 0.5342\n",
      "Epoch 30/50\n",
      "100/100 [==============================] - 0s 3ms/step - loss: 0.6586 - accuracy: 0.5995 - val_loss: 0.6820 - val_accuracy: 0.5478\n",
      "Epoch 31/50\n",
      "100/100 [==============================] - 0s 3ms/step - loss: 0.6573 - accuracy: 0.6283 - val_loss: 0.6794 - val_accuracy: 0.5558\n",
      "Epoch 32/50\n",
      "100/100 [==============================] - 0s 3ms/step - loss: 0.6455 - accuracy: 0.6485 - val_loss: 0.6701 - val_accuracy: 0.5752\n",
      "Epoch 33/50\n",
      "100/100 [==============================] - 0s 3ms/step - loss: 0.6613 - accuracy: 0.5790 - val_loss: 0.6739 - val_accuracy: 0.5581\n",
      "Epoch 34/50\n",
      "100/100 [==============================] - 0s 2ms/step - loss: 0.6674 - accuracy: 0.5769 - val_loss: 0.6802 - val_accuracy: 0.5569\n",
      "Epoch 35/50\n",
      "100/100 [==============================] - 0s 3ms/step - loss: 0.6505 - accuracy: 0.6315 - val_loss: 0.6688 - val_accuracy: 0.5649\n",
      "Epoch 36/50\n",
      "100/100 [==============================] - 0s 2ms/step - loss: 0.6556 - accuracy: 0.6213 - val_loss: 0.6711 - val_accuracy: 0.5638\n",
      "Epoch 37/50\n",
      "100/100 [==============================] - 0s 2ms/step - loss: 0.6461 - accuracy: 0.6332 - val_loss: 0.6634 - val_accuracy: 0.5786\n",
      "Epoch 38/50\n",
      "100/100 [==============================] - 0s 2ms/step - loss: 0.6539 - accuracy: 0.6359 - val_loss: 0.6662 - val_accuracy: 0.5752\n",
      "Epoch 39/50\n",
      "100/100 [==============================] - 0s 2ms/step - loss: 0.6435 - accuracy: 0.6655 - val_loss: 0.6668 - val_accuracy: 0.5718\n",
      "Epoch 40/50\n",
      "100/100 [==============================] - 0s 2ms/step - loss: 0.6508 - accuracy: 0.6328 - val_loss: 0.6644 - val_accuracy: 0.5706\n",
      "Epoch 41/50\n",
      "100/100 [==============================] - 0s 2ms/step - loss: 0.6475 - accuracy: 0.6617 - val_loss: 0.6595 - val_accuracy: 0.5877\n",
      "Epoch 42/50\n",
      "100/100 [==============================] - 0s 2ms/step - loss: 0.6460 - accuracy: 0.5942 - val_loss: 0.6626 - val_accuracy: 0.5718\n",
      "Epoch 43/50\n",
      "100/100 [==============================] - 0s 2ms/step - loss: 0.6429 - accuracy: 0.6453 - val_loss: 0.6701 - val_accuracy: 0.5786\n",
      "Epoch 44/50\n",
      "100/100 [==============================] - 0s 3ms/step - loss: 0.6391 - accuracy: 0.6385 - val_loss: 0.6697 - val_accuracy: 0.5763\n",
      "Epoch 45/50\n",
      "100/100 [==============================] - 0s 3ms/step - loss: 0.6435 - accuracy: 0.6422 - val_loss: 0.6559 - val_accuracy: 0.5866\n",
      "Epoch 46/50\n",
      "100/100 [==============================] - 0s 2ms/step - loss: 0.6338 - accuracy: 0.6364 - val_loss: 0.6631 - val_accuracy: 0.5809\n",
      "Epoch 47/50\n",
      "100/100 [==============================] - 0s 2ms/step - loss: 0.6330 - accuracy: 0.6580 - val_loss: 0.6530 - val_accuracy: 0.5877\n",
      "Epoch 48/50\n",
      "100/100 [==============================] - 0s 2ms/step - loss: 0.6384 - accuracy: 0.6437 - val_loss: 0.6563 - val_accuracy: 0.5786\n",
      "Epoch 49/50\n",
      "100/100 [==============================] - 0s 2ms/step - loss: 0.6310 - accuracy: 0.6280 - val_loss: 0.6603 - val_accuracy: 0.5797\n",
      "Epoch 50/50\n",
      "100/100 [==============================] - 0s 2ms/step - loss: 0.6370 - accuracy: 0.6344 - val_loss: 0.6497 - val_accuracy: 0.5923\n"
     ]
    }
   ],
   "source": [
    "def build_model() :\n",
    "    model = models.Sequential()\n",
    "    model.add (layers.Dense (8 , activation = \"relu\" , input_shape = (1378, 10)))\n",
    "    model.add (layers.Dense (8, activation = \"relu\"))\n",
    "    model.add (layers.Dense (1 , activation = \"sigmoid\"))\n",
    "    model.compile(optimizer = \"adam\" , loss = \"binary_crossentropy\" , metrics =[\"accuracy\"])\n",
    "    return model\n",
    "\n",
    "model = build_model ()\n",
    "history = model.fit ( x_train, y_train, epochs = 50, batch_size = 5 , validation_data = (x_val, y_val) )\n",
    "model.save(\"prova.h5\")"
   ]
  },
  {
   "cell_type": "code",
   "execution_count": 76,
   "metadata": {},
   "outputs": [
    {
     "data": {
      "image/png": "[encoded data removed]",
      "text/plain": [
       "<Figure size 432x288 with 1 Axes>"
      ]
     },
     "metadata": {
      "needs_background": "light"
     },
     "output_type": "display_data"
    }
   ],
   "source": [
    "import matplotlib.pyplot as plt\n",
    "\n",
    "loss = history.history['loss']\n",
    "val_loss = history.history['val_loss']\n",
    "\n",
    "epochs = range(1, len(loss) + 1)\n",
    "\n",
    "plt.plot(epochs, loss, 'bo', label='Training loss')\n",
    "plt.plot(epochs, val_loss, 'b', label='Validation loss')\n",
    "plt.title('Training and validation loss')\n",
    "plt.xlabel('Epochs')\n",
    "plt.ylabel('Loss')\n",
    "plt.legend()\n",
    "\n",
    "plt.show()\n",
    "\n"
   ]
  },
  {
   "cell_type": "code",
   "execution_count": 77,
   "metadata": {},
   "outputs": [
    {
     "data": {
      "image/png": "[encoded data removed]",
      "text/plain": [
       "<Figure size 432x288 with 1 Axes>"
      ]
     },
     "metadata": {
      "needs_background": "light"
     },
     "output_type": "display_data"
    }
   ],
   "source": [
    "plt.clf()   # clear figure\n",
    "\n",
    "accuracy = history.history['accuracy']\n",
    "val_accuracy = history.history['val_accuracy']\n",
    "\n",
    "plt.plot(epochs, accuracy, 'bo', label='Training acc')\n",
    "plt.plot(epochs, val_accuracy, 'b', label='Validation acc')\n",
    "plt.title('Training and validation accuracy')\n",
    "plt.xlabel('Epochs')\n",
    "plt.ylabel('Loss')\n",
    "plt.legend()\n",
    "\n",
    "plt.show()"
   ]
  },
  {
   "cell_type": "code",
   "execution_count": null,
   "metadata": {},
   "outputs": [],
   "source": []
  }
 ],
 "metadata": {
  "kernelspec": {
   "display_name": "Python 3",
   "language": "python",
   "name": "python3"
  },
  "language_info": {
   "codemirror_mode": {
    "name": "ipython",
    "version": 3
   },
   "file_extension": ".py",
   "mimetype": "text/x-python",
   "name": "python",
   "nbconvert_exporter": "python",
   "pygments_lexer": "ipython3",
   "version": "3.7.7"
  }
 },
 "nbformat": 4,
 "nbformat_minor": 4
}
