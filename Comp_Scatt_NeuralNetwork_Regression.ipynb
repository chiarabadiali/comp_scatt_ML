{
 "cells": [
  {
   "cell_type": "code",
   "execution_count": 1,
   "metadata": {},
   "outputs": [
    {
     "name": "stdout",
     "output_type": "stream",
     "text": [
      "1.2.0\n"
     ]
    }
   ],
   "source": [
    "import pandas as pd \n",
    "import numpy as np\n",
    "import math\n",
    "import tensorflow as tf\n",
    "print(pd.__version__)"
   ]
  },
  {
   "cell_type": "markdown",
   "metadata": {},
   "source": [
    "## Print Dependencies\n",
    "\n",
    "\n",
    "\n",
    "Dependences are fundamental to record the computational environment."
   ]
  },
  {
   "cell_type": "code",
   "execution_count": 2,
   "metadata": {},
   "outputs": [
    {
     "name": "stdout",
     "output_type": "stream",
     "text": [
      "Python implementation: CPython\n",
      "Python version       : 3.7.7\n",
      "IPython version      : 7.19.0\n",
      "\n",
      "pandas    : 1.2.0\n",
      "keras     : 2.4.3\n",
      "numpy     : 1.19.5\n",
      "math      : unknown\n",
      "tensorflow: 2.4.0\n",
      "matplotlib: 3.3.3\n",
      "h5py      : 2.10.0\n",
      "\n",
      "Compiler    : GCC 5.4.0 20160609\n",
      "OS          : Linux\n",
      "Release     : 5.8.0-38-generic\n",
      "Machine     : x86_64\n",
      "Processor   : x86_64\n",
      "CPU cores   : 8\n",
      "Architecture: 64bit\n",
      "\n",
      " \n",
      "Last updated: Tue Jan 19 2021 17:41:22CET\n",
      "\n"
     ]
    }
   ],
   "source": [
    "%load_ext watermark\n",
    "\n",
    "# python, ipython, packages, and machine characteristics\n",
    "%watermark -v -m -p pandas,keras,numpy,math,tensorflow,matplotlib,h5py\n",
    "\n",
    "# date\n",
    "print (\" \")\n",
    "%watermark -u -n -t -z"
   ]
  },
  {
   "cell_type": "markdown",
   "metadata": {},
   "source": [
    "## Load of the data"
   ]
  },
  {
   "cell_type": "code",
   "execution_count": 3,
   "metadata": {},
   "outputs": [],
   "source": [
    "regen_data = True \n",
    "# If we keep it as false, it's going to just load the data. If true it's going to regenerate the data again "
   ]
  },
  {
   "cell_type": "code",
   "execution_count": 4,
   "metadata": {},
   "outputs": [],
   "source": [
    "if regen_data:\n",
    "    from process import load_generate_data\n",
    "    from process import savedata\n",
    "    regr_data, class_data = load_generate_data(0.1, 5)\n",
    "    savedata(regr_data, \"regression_data.csv\")"
   ]
  },
  {
   "cell_type": "code",
   "execution_count": 5,
   "metadata": {},
   "outputs": [],
   "source": [
    "if not regen_data:\n",
    "    from process import loaddata\n",
    "    regr_data = loaddata(\"regression_data.csv\")"
   ]
  },
  {
   "cell_type": "code",
   "execution_count": 6,
   "metadata": {},
   "outputs": [],
   "source": [
    "np.random.shuffle(regr_data)\n",
    "y = regr_data[:,-6:]\n",
    "x = regr_data[:,:5]"
   ]
  },
  {
   "cell_type": "code",
   "execution_count": 7,
   "metadata": {},
   "outputs": [
    {
     "name": "stdout",
     "output_type": "stream",
     "text": [
      "Training sample: 2118 \n",
      "Valuation sample: 706\n"
     ]
    }
   ],
   "source": [
    "train_split = 0.75\n",
    "train_limit = int(len(y)*train_split)\n",
    "print(\"Training sample: {0} \\nValuation sample: {1}\".format(train_limit, len(y)-train_limit))"
   ]
  },
  {
   "cell_type": "code",
   "execution_count": 8,
   "metadata": {},
   "outputs": [
    {
     "data": {
      "text/plain": [
       "(2824, 5)"
      ]
     },
     "execution_count": 8,
     "metadata": {},
     "output_type": "execute_result"
    }
   ],
   "source": [
    "x.shape"
   ]
  },
  {
   "cell_type": "code",
   "execution_count": 9,
   "metadata": {},
   "outputs": [],
   "source": [
    "x_train = x[:train_limit]\n",
    "x_val = x[train_limit:]\n",
    "\n",
    "y_train = y[:train_limit]\n",
    "y_val = y[train_limit:]"
   ]
  },
  {
   "cell_type": "markdown",
   "metadata": {},
   "source": [
    "## Model Build"
   ]
  },
  {
   "cell_type": "code",
   "execution_count": 10,
   "metadata": {},
   "outputs": [],
   "source": [
    "from keras.models import Sequential\n",
    "from keras.layers.core import Dense\n",
    "import keras.backend as K\n",
    "from keras import optimizers\n",
    "from keras import models\n",
    "from keras import layers"
   ]
  },
  {
   "cell_type": "code",
   "execution_count": 11,
   "metadata": {},
   "outputs": [],
   "source": [
    "def build_model() :\n",
    "    model = models.Sequential()\n",
    "    model.add (layers.Dense (6, activation = \"sigmoid\" , input_shape = x.shape))\n",
    "    model.add(layers.Dropout(0.3))\n",
    "    model.add (layers.Dense (8, activation = \"relu\"))\n",
    "    model.add(layers.Dropout(0.3))\n",
    "    model.add (layers.Dense (6))\n",
    "    model.compile(optimizer = \"rmsprop\" , loss = \"mse\" , metrics =[\"mae\"])\n",
    "    return model"
   ]
  },
  {
   "cell_type": "code",
   "execution_count": 16,
   "metadata": {},
   "outputs": [
    {
     "name": "stdout",
     "output_type": "stream",
     "text": [
      "Epoch 1/60\n",
      "WARNING:tensorflow:Model was constructed with shape (None, 2824, 5) for input KerasTensor(type_spec=TensorSpec(shape=(None, 2824, 5), dtype=tf.float32, name='dense_3_input'), name='dense_3_input', description=\"created by layer 'dense_3_input'\"), but it was called on an input with incompatible shape (None, 5).\n",
      "WARNING:tensorflow:Model was constructed with shape (None, 2824, 5) for input KerasTensor(type_spec=TensorSpec(shape=(None, 2824, 5), dtype=tf.float32, name='dense_3_input'), name='dense_3_input', description=\"created by layer 'dense_3_input'\"), but it was called on an input with incompatible shape (None, 5).\n",
      "1/3 [=========>....................] - ETA: 1s - loss: 0.5568 - mae: 0.5921WARNING:tensorflow:Model was constructed with shape (None, 2824, 5) for input KerasTensor(type_spec=TensorSpec(shape=(None, 2824, 5), dtype=tf.float32, name='dense_3_input'), name='dense_3_input', description=\"created by layer 'dense_3_input'\"), but it was called on an input with incompatible shape (None, 5).\n",
      "3/3 [==============================] - 1s 95ms/step - loss: 0.5453 - mae: 0.5881 - val_loss: 0.2146 - val_mae: 0.3913\n",
      "Epoch 2/60\n",
      "3/3 [==============================] - 0s 21ms/step - loss: 0.4669 - mae: 0.5419 - val_loss: 0.1876 - val_mae: 0.3606\n",
      "Epoch 3/60\n",
      "3/3 [==============================] - 0s 20ms/step - loss: 0.4296 - mae: 0.5188 - val_loss: 0.1684 - val_mae: 0.3377\n",
      "Epoch 4/60\n",
      "3/3 [==============================] - 0s 27ms/step - loss: 0.3920 - mae: 0.4941 - val_loss: 0.1524 - val_mae: 0.3213\n",
      "Epoch 5/60\n",
      "3/3 [==============================] - 0s 34ms/step - loss: 0.3678 - mae: 0.4810 - val_loss: 0.1390 - val_mae: 0.3086\n",
      "Epoch 6/60\n",
      "3/3 [==============================] - 0s 35ms/step - loss: 0.3410 - mae: 0.4599 - val_loss: 0.1275 - val_mae: 0.2965\n",
      "Epoch 7/60\n",
      "3/3 [==============================] - 0s 32ms/step - loss: 0.3352 - mae: 0.4581 - val_loss: 0.1169 - val_mae: 0.2853\n",
      "Epoch 8/60\n",
      "3/3 [==============================] - 0s 30ms/step - loss: 0.3118 - mae: 0.4405 - val_loss: 0.1076 - val_mae: 0.2750\n",
      "Epoch 9/60\n",
      "3/3 [==============================] - 0s 34ms/step - loss: 0.2924 - mae: 0.4249 - val_loss: 0.0986 - val_mae: 0.2648\n",
      "Epoch 10/60\n",
      "3/3 [==============================] - 0s 36ms/step - loss: 0.2704 - mae: 0.4100 - val_loss: 0.0904 - val_mae: 0.2545\n",
      "Epoch 11/60\n",
      "3/3 [==============================] - 0s 33ms/step - loss: 0.2587 - mae: 0.3990 - val_loss: 0.0827 - val_mae: 0.2439\n",
      "Epoch 12/60\n",
      "3/3 [==============================] - 0s 33ms/step - loss: 0.2455 - mae: 0.3890 - val_loss: 0.0760 - val_mae: 0.2345\n",
      "Epoch 13/60\n",
      "3/3 [==============================] - 0s 33ms/step - loss: 0.2377 - mae: 0.3869 - val_loss: 0.0694 - val_mae: 0.2244\n",
      "Epoch 14/60\n",
      "3/3 [==============================] - 0s 33ms/step - loss: 0.2231 - mae: 0.3742 - val_loss: 0.0640 - val_mae: 0.2164\n",
      "Epoch 15/60\n",
      "3/3 [==============================] - 0s 38ms/step - loss: 0.2100 - mae: 0.3616 - val_loss: 0.0591 - val_mae: 0.2085\n",
      "Epoch 16/60\n",
      "3/3 [==============================] - 0s 34ms/step - loss: 0.1931 - mae: 0.3471 - val_loss: 0.0548 - val_mae: 0.2015\n",
      "Epoch 17/60\n",
      "3/3 [==============================] - 0s 31ms/step - loss: 0.1932 - mae: 0.3480 - val_loss: 0.0500 - val_mae: 0.1923\n",
      "Epoch 18/60\n",
      "3/3 [==============================] - 0s 36ms/step - loss: 0.1794 - mae: 0.3330 - val_loss: 0.0460 - val_mae: 0.1849\n",
      "Epoch 19/60\n",
      "3/3 [==============================] - 0s 30ms/step - loss: 0.1683 - mae: 0.3244 - val_loss: 0.0420 - val_mae: 0.1774\n",
      "Epoch 20/60\n",
      "3/3 [==============================] - 0s 33ms/step - loss: 0.1646 - mae: 0.3202 - val_loss: 0.0382 - val_mae: 0.1695\n",
      "Epoch 21/60\n",
      "3/3 [==============================] - 0s 23ms/step - loss: 0.1558 - mae: 0.3102 - val_loss: 0.0347 - val_mae: 0.1617\n",
      "Epoch 22/60\n",
      "3/3 [==============================] - 0s 22ms/step - loss: 0.1461 - mae: 0.3017 - val_loss: 0.0315 - val_mae: 0.1531\n",
      "Epoch 23/60\n",
      "3/3 [==============================] - 0s 28ms/step - loss: 0.1371 - mae: 0.2921 - val_loss: 0.0283 - val_mae: 0.1444\n",
      "Epoch 24/60\n",
      "3/3 [==============================] - 0s 28ms/step - loss: 0.1290 - mae: 0.2811 - val_loss: 0.0252 - val_mae: 0.1354\n",
      "Epoch 25/60\n",
      "3/3 [==============================] - 0s 28ms/step - loss: 0.1227 - mae: 0.2742 - val_loss: 0.0228 - val_mae: 0.1280\n",
      "Epoch 26/60\n",
      "3/3 [==============================] - 0s 28ms/step - loss: 0.1152 - mae: 0.2678 - val_loss: 0.0205 - val_mae: 0.1211\n",
      "Epoch 27/60\n",
      "3/3 [==============================] - 0s 40ms/step - loss: 0.1121 - mae: 0.2630 - val_loss: 0.0183 - val_mae: 0.1140\n",
      "Epoch 28/60\n",
      "3/3 [==============================] - 0s 38ms/step - loss: 0.1070 - mae: 0.2576 - val_loss: 0.0164 - val_mae: 0.1083\n",
      "Epoch 29/60\n",
      "3/3 [==============================] - 0s 31ms/step - loss: 0.1035 - mae: 0.2538 - val_loss: 0.0145 - val_mae: 0.1010\n",
      "Epoch 30/60\n",
      "3/3 [==============================] - 0s 35ms/step - loss: 0.0967 - mae: 0.2438 - val_loss: 0.0131 - val_mae: 0.0956\n",
      "Epoch 31/60\n",
      "3/3 [==============================] - 0s 33ms/step - loss: 0.0881 - mae: 0.2326 - val_loss: 0.0114 - val_mae: 0.0886\n",
      "Epoch 32/60\n",
      "3/3 [==============================] - 0s 39ms/step - loss: 0.0851 - mae: 0.2277 - val_loss: 0.0098 - val_mae: 0.0815\n",
      "Epoch 33/60\n",
      "3/3 [==============================] - 0s 41ms/step - loss: 0.0833 - mae: 0.2279 - val_loss: 0.0085 - val_mae: 0.0756\n",
      "Epoch 34/60\n",
      "3/3 [==============================] - 0s 35ms/step - loss: 0.0757 - mae: 0.2157 - val_loss: 0.0075 - val_mae: 0.0711\n",
      "Epoch 35/60\n",
      "3/3 [==============================] - 0s 29ms/step - loss: 0.0744 - mae: 0.2135 - val_loss: 0.0063 - val_mae: 0.0653\n",
      "Epoch 36/60\n",
      "3/3 [==============================] - 0s 22ms/step - loss: 0.0690 - mae: 0.2055 - val_loss: 0.0054 - val_mae: 0.0622\n",
      "Epoch 37/60\n",
      "3/3 [==============================] - 0s 25ms/step - loss: 0.0645 - mae: 0.1989 - val_loss: 0.0045 - val_mae: 0.0573\n",
      "Epoch 38/60\n",
      "3/3 [==============================] - 0s 27ms/step - loss: 0.0614 - mae: 0.1938 - val_loss: 0.0038 - val_mae: 0.0528\n",
      "Epoch 39/60\n",
      "3/3 [==============================] - 0s 24ms/step - loss: 0.0585 - mae: 0.1890 - val_loss: 0.0032 - val_mae: 0.0485\n",
      "Epoch 40/60\n",
      "3/3 [==============================] - 0s 24ms/step - loss: 0.0556 - mae: 0.1850 - val_loss: 0.0025 - val_mae: 0.0438\n",
      "Epoch 41/60\n",
      "3/3 [==============================] - 0s 24ms/step - loss: 0.0515 - mae: 0.1776 - val_loss: 0.0020 - val_mae: 0.0393\n",
      "Epoch 42/60\n",
      "3/3 [==============================] - 0s 24ms/step - loss: 0.0487 - mae: 0.1719 - val_loss: 0.0016 - val_mae: 0.0347\n",
      "Epoch 43/60\n",
      "3/3 [==============================] - 0s 26ms/step - loss: 0.0455 - mae: 0.1656 - val_loss: 0.0013 - val_mae: 0.0317\n",
      "Epoch 44/60\n",
      "3/3 [==============================] - 0s 28ms/step - loss: 0.0441 - mae: 0.1643 - val_loss: 9.4841e-04 - val_mae: 0.0260\n",
      "Epoch 45/60\n",
      "3/3 [==============================] - 0s 23ms/step - loss: 0.0423 - mae: 0.1607 - val_loss: 6.9973e-04 - val_mae: 0.0221\n",
      "Epoch 46/60\n",
      "3/3 [==============================] - 0s 27ms/step - loss: 0.0391 - mae: 0.1540 - val_loss: 5.7006e-04 - val_mae: 0.0190\n",
      "Epoch 47/60\n",
      "3/3 [==============================] - 0s 26ms/step - loss: 0.0372 - mae: 0.1502 - val_loss: 4.3312e-04 - val_mae: 0.0158\n",
      "Epoch 48/60\n",
      "3/3 [==============================] - 0s 26ms/step - loss: 0.0360 - mae: 0.1481 - val_loss: 3.3264e-04 - val_mae: 0.0133\n",
      "Epoch 49/60\n",
      "3/3 [==============================] - 0s 27ms/step - loss: 0.0333 - mae: 0.1421 - val_loss: 2.6302e-04 - val_mae: 0.0109\n",
      "Epoch 50/60\n",
      "3/3 [==============================] - 0s 26ms/step - loss: 0.0303 - mae: 0.1348 - val_loss: 2.3000e-04 - val_mae: 0.0111\n",
      "Epoch 51/60\n",
      "3/3 [==============================] - 0s 25ms/step - loss: 0.0300 - mae: 0.1354 - val_loss: 2.0578e-04 - val_mae: 0.0115\n",
      "Epoch 52/60\n",
      "3/3 [==============================] - 0s 25ms/step - loss: 0.0283 - mae: 0.1317 - val_loss: 2.2905e-04 - val_mae: 0.0128\n",
      "Epoch 53/60\n",
      "3/3 [==============================] - 0s 26ms/step - loss: 0.0283 - mae: 0.1317 - val_loss: 2.6509e-04 - val_mae: 0.0132\n",
      "Epoch 54/60\n",
      "3/3 [==============================] - 0s 32ms/step - loss: 0.0250 - mae: 0.1231 - val_loss: 3.0903e-04 - val_mae: 0.0145\n",
      "Epoch 55/60\n",
      "3/3 [==============================] - 0s 30ms/step - loss: 0.0244 - mae: 0.1219 - val_loss: 3.4686e-04 - val_mae: 0.0153\n"
     ]
    },
    {
     "name": "stdout",
     "output_type": "stream",
     "text": [
      "Epoch 56/60\n",
      "3/3 [==============================] - 0s 28ms/step - loss: 0.0239 - mae: 0.1202 - val_loss: 3.8745e-04 - val_mae: 0.0154\n",
      "Epoch 57/60\n",
      "3/3 [==============================] - 0s 26ms/step - loss: 0.0220 - mae: 0.1156 - val_loss: 4.1225e-04 - val_mae: 0.0160\n",
      "Epoch 58/60\n",
      "3/3 [==============================] - 0s 25ms/step - loss: 0.0213 - mae: 0.1130 - val_loss: 4.7659e-04 - val_mae: 0.0177\n",
      "Epoch 59/60\n",
      "3/3 [==============================] - 0s 26ms/step - loss: 0.0202 - mae: 0.1101 - val_loss: 5.3032e-04 - val_mae: 0.0196\n",
      "Epoch 60/60\n",
      "3/3 [==============================] - 0s 29ms/step - loss: 0.0183 - mae: 0.1046 - val_loss: 6.0355e-04 - val_mae: 0.0215\n"
     ]
    }
   ],
   "source": [
    "model = build_model ()\n",
    "history = model.fit ( x_train, y_train, epochs = 60, batch_size = 1032, validation_data = (x_val, y_val) )\n",
    "model.save(\"regr.h5\")"
   ]
  },
  {
   "cell_type": "code",
   "execution_count": 19,
   "metadata": {
    "scrolled": false
   },
   "outputs": [
    {
     "data": {
      "image/png": "[encoded data removed]",
      "text/plain": [
       "<Figure size 432x288 with 1 Axes>"
      ]
     },
     "metadata": {
      "needs_background": "light"
     },
     "output_type": "display_data"
    }
   ],
   "source": [
    "import matplotlib.pyplot as plt\n",
    "\n",
    "mae = history.history['mae']\n",
    "val_mae = history.history['val_mae']\n",
    "\n",
    "epochs = range(1, len(mae) + 1)\n",
    "\n",
    "plt.plot(epochs, mae, 'bo', label='Training mae')\n",
    "plt.plot(epochs, val_mae, 'b', label='Validation mae')\n",
    "plt.title('Training and validation accuracy')\n",
    "plt.xlabel('Epochs')\n",
    "plt.ylabel('mae')\n",
    "plt.legend()\n",
    "\n",
    "plt.show()"
   ]
  },
  {
   "cell_type": "code",
   "execution_count": 20,
   "metadata": {},
   "outputs": [
    {
     "data": {
      "image/png": "[encoded data removed]",
      "text/plain": [
       "<Figure size 432x288 with 1 Axes>"
      ]
     },
     "metadata": {
      "needs_background": "light"
     },
     "output_type": "display_data"
    }
   ],
   "source": [
    "plt.clf()   # clear figure\n",
    "\n",
    "loss = history.history['loss']\n",
    "val_loss = history.history['val_loss']\n",
    "\n",
    "\n",
    "\n",
    "plt.plot(epochs, loss, 'bo', label='Training loss')\n",
    "plt.plot(epochs, val_loss, 'b', label='Validation loss')\n",
    "plt.title('Training and validation loss')\n",
    "plt.xlabel('Epochs')\n",
    "plt.ylabel('Loss')\n",
    "plt.legend()\n",
    "\n",
    "plt.show()"
   ]
  },
  {
   "cell_type": "code",
   "execution_count": null,
   "metadata": {},
   "outputs": [],
   "source": []
  },
  {
   "cell_type": "code",
   "execution_count": null,
   "metadata": {},
   "outputs": [],
   "source": []
  }
 ],
 "metadata": {
  "kernelspec": {
   "display_name": "Python 3",
   "language": "python",
   "name": "python3"
  },
  "language_info": {
   "codemirror_mode": {
    "name": "ipython",
    "version": 3
   },
   "file_extension": ".py",
   "mimetype": "text/x-python",
   "name": "python",
   "nbconvert_exporter": "python",
   "pygments_lexer": "ipython3",
   "version": "3.7.7"
  }
 },
 "nbformat": 4,
 "nbformat_minor": 4
}
