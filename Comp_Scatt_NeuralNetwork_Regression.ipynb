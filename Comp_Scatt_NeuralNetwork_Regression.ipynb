{
 "cells": [
  {
   "cell_type": "code",
   "execution_count": 1,
   "metadata": {},
   "outputs": [
    {
     "name": "stdout",
     "output_type": "stream",
     "text": [
      "1.2.0\n"
     ]
    }
   ],
   "source": [
    "import pandas as pd \n",
    "import numpy as np\n",
    "import math\n",
    "import tensorflow as tf\n",
    "print(pd.__version__)"
   ]
  },
  {
   "cell_type": "markdown",
   "metadata": {},
   "source": [
    "## Print Dependencies\n",
    "\n",
    "\n",
    "\n",
    "Dependences are fundamental to record the computational environment."
   ]
  },
  {
   "cell_type": "code",
   "execution_count": 2,
   "metadata": {},
   "outputs": [
    {
     "name": "stdout",
     "output_type": "stream",
     "text": [
      "Python implementation: CPython\n",
      "Python version       : 3.7.7\n",
      "IPython version      : 7.19.0\n",
      "\n",
      "pandas    : 1.2.0\n",
      "keras     : 2.4.3\n",
      "numpy     : 1.19.5\n",
      "math      : unknown\n",
      "tensorflow: 2.4.0\n",
      "matplotlib: 3.3.3\n",
      "h5py      : 2.10.0\n",
      "\n",
      "Compiler    : GCC 5.4.0 20160609\n",
      "OS          : Linux\n",
      "Release     : 5.8.0-40-generic\n",
      "Machine     : x86_64\n",
      "Processor   : x86_64\n",
      "CPU cores   : 8\n",
      "Architecture: 64bit\n",
      "\n",
      " \n",
      "Last updated: Mon Jan 25 2021 18:58:56CET\n",
      "\n"
     ]
    }
   ],
   "source": [
    "%load_ext watermark\n",
    "\n",
    "# python, ipython, packages, and machine characteristics\n",
    "%watermark -v -m -p pandas,keras,numpy,math,tensorflow,matplotlib,h5py\n",
    "\n",
    "# date\n",
    "print (\" \")\n",
    "%watermark -u -n -t -z"
   ]
  },
  {
   "cell_type": "markdown",
   "metadata": {},
   "source": [
    "## Load of the data"
   ]
  },
  {
   "cell_type": "code",
   "execution_count": 33,
   "metadata": {},
   "outputs": [],
   "source": [
    "regen_data = False\n",
    "# If we keep it as false, it's going to just load the data. If true it's going to regenerate the data again "
   ]
  },
  {
   "cell_type": "code",
   "execution_count": 34,
   "metadata": {},
   "outputs": [],
   "source": [
    "if regen_data:\n",
    "    from process import load_generate_data\n",
    "    from process import savedata\n",
    "    regr_data, class_data = load_generate_data(0.1, 5)\n",
    "    savedata(regr_data, \"regression_data-2.csv\")\n",
    "    savedata(class_data, \"classification_data-2.csv\")"
   ]
  },
  {
   "cell_type": "code",
   "execution_count": 35,
   "metadata": {},
   "outputs": [],
   "source": [
    "if not regen_data:\n",
    "    from process import loaddata\n",
    "    regr_data = loaddata(\"regression_data-2.csv\")\n",
    "    class_data = loaddata(\"classification_data-2.csv\")"
   ]
  },
  {
   "cell_type": "code",
   "execution_count": 36,
   "metadata": {},
   "outputs": [],
   "source": [
    "np.random.shuffle(regr_data)\n",
    "y = regr_data[:,-3:]\n",
    "x = regr_data[:,:6]"
   ]
  },
  {
   "cell_type": "code",
   "execution_count": 37,
   "metadata": {},
   "outputs": [],
   "source": [
    "np.random.shuffle(class_data)\n",
    "yc = class_data[:,0]\n",
    "xc = class_data[:,1:]"
   ]
  },
  {
   "cell_type": "code",
   "execution_count": 42,
   "metadata": {},
   "outputs": [
    {
     "data": {
      "text/plain": [
       "(124064, 10)"
      ]
     },
     "execution_count": 42,
     "metadata": {},
     "output_type": "execute_result"
    }
   ],
   "source": [
    "xc.shape"
   ]
  },
  {
   "cell_type": "code",
   "execution_count": 38,
   "metadata": {},
   "outputs": [
    {
     "name": "stdout",
     "output_type": "stream",
     "text": [
      "Training sample: 2169 \n",
      "Valuation sample: 723\n"
     ]
    }
   ],
   "source": [
    "train_split = 0.75\n",
    "train_limit = int(len(y)*train_split)\n",
    "print(\"Training sample: {0} \\nValuation sample: {1}\".format(train_limit, len(y)-train_limit))"
   ]
  },
  {
   "cell_type": "code",
   "execution_count": 43,
   "metadata": {},
   "outputs": [
    {
     "data": {
      "text/plain": [
       "(2892, 6)"
      ]
     },
     "execution_count": 43,
     "metadata": {},
     "output_type": "execute_result"
    }
   ],
   "source": [
    "x.shape"
   ]
  },
  {
   "cell_type": "code",
   "execution_count": 9,
   "metadata": {},
   "outputs": [],
   "source": [
    "x_train = x[:train_limit]\n",
    "x_val = x[train_limit:]\n",
    "\n",
    "y_train = y[:train_limit]\n",
    "y_val = y[train_limit:]"
   ]
  },
  {
   "cell_type": "markdown",
   "metadata": {},
   "source": [
    "## Model Build"
   ]
  },
  {
   "cell_type": "code",
   "execution_count": 10,
   "metadata": {},
   "outputs": [],
   "source": [
    "from keras.models import Sequential\n",
    "from keras.layers.core import Dense\n",
    "import keras.backend as K\n",
    "from keras import optimizers\n",
    "from keras import models\n",
    "from keras import layers"
   ]
  },
  {
   "cell_type": "code",
   "execution_count": 11,
   "metadata": {},
   "outputs": [],
   "source": [
    "def build_model() :\n",
    "    model = models.Sequential()\n",
    "    model.add (layers.Dense (6, activation = \"sigmoid\" , input_shape = x.shape))\n",
    "    model.add(layers.Dropout(0.3))\n",
    "    model.add (layers.Dense (8, activation = \"relu\"))\n",
    "    model.add(layers.Dropout(0.3))\n",
    "    model.add (layers.Dense (3))\n",
    "    model.compile(optimizer = \"rmsprop\" , loss = \"mse\" , metrics =[\"mae\"])\n",
    "    return model"
   ]
  },
  {
   "cell_type": "code",
   "execution_count": 12,
   "metadata": {},
   "outputs": [
    {
     "name": "stdout",
     "output_type": "stream",
     "text": [
      "Epoch 1/100\n",
      "WARNING:tensorflow:Model was constructed with shape (None, 2892, 6) for input KerasTensor(type_spec=TensorSpec(shape=(None, 2892, 6), dtype=tf.float32, name='dense_input'), name='dense_input', description=\"created by layer 'dense_input'\"), but it was called on an input with incompatible shape (None, 6).\n",
      "WARNING:tensorflow:Model was constructed with shape (None, 2892, 6) for input KerasTensor(type_spec=TensorSpec(shape=(None, 2892, 6), dtype=tf.float32, name='dense_input'), name='dense_input', description=\"created by layer 'dense_input'\"), but it was called on an input with incompatible shape (None, 6).\n",
      "1/2 [==============>...............] - ETA: 0s - loss: 0.6157 - mae: 0.5902WARNING:tensorflow:Model was constructed with shape (None, 2892, 6) for input KerasTensor(type_spec=TensorSpec(shape=(None, 2892, 6), dtype=tf.float32, name='dense_input'), name='dense_input', description=\"created by layer 'dense_input'\"), but it was called on an input with incompatible shape (None, 6).\n",
      "2/2 [==============================] - 1s 605ms/step - loss: 0.6160 - mae: 0.5902 - val_loss: 0.3328 - val_mae: 0.4758\n",
      "Epoch 2/100\n",
      "2/2 [==============================] - 0s 38ms/step - loss: 0.5702 - mae: 0.5639 - val_loss: 0.3100 - val_mae: 0.4562\n",
      "Epoch 3/100\n",
      "2/2 [==============================] - 0s 37ms/step - loss: 0.5355 - mae: 0.5456 - val_loss: 0.2922 - val_mae: 0.4401\n",
      "Epoch 4/100\n",
      "2/2 [==============================] - 0s 44ms/step - loss: 0.5024 - mae: 0.5275 - val_loss: 0.2767 - val_mae: 0.4260\n",
      "Epoch 5/100\n",
      "2/2 [==============================] - 0s 41ms/step - loss: 0.4881 - mae: 0.5161 - val_loss: 0.2629 - val_mae: 0.4130\n",
      "Epoch 6/100\n",
      "2/2 [==============================] - 0s 36ms/step - loss: 0.4711 - mae: 0.5045 - val_loss: 0.2512 - val_mae: 0.4016\n",
      "Epoch 7/100\n",
      "2/2 [==============================] - 0s 39ms/step - loss: 0.4448 - mae: 0.4912 - val_loss: 0.2394 - val_mae: 0.3900\n",
      "Epoch 8/100\n",
      "2/2 [==============================] - 0s 39ms/step - loss: 0.4182 - mae: 0.4753 - val_loss: 0.2286 - val_mae: 0.3794\n",
      "Epoch 9/100\n",
      "2/2 [==============================] - 0s 38ms/step - loss: 0.4180 - mae: 0.4725 - val_loss: 0.2181 - val_mae: 0.3691\n",
      "Epoch 10/100\n",
      "2/2 [==============================] - 0s 38ms/step - loss: 0.3826 - mae: 0.4517 - val_loss: 0.2092 - val_mae: 0.3604\n",
      "Epoch 11/100\n",
      "2/2 [==============================] - 0s 39ms/step - loss: 0.3905 - mae: 0.4578 - val_loss: 0.2001 - val_mae: 0.3513\n",
      "Epoch 12/100\n",
      "2/2 [==============================] - 0s 42ms/step - loss: 0.3648 - mae: 0.4430 - val_loss: 0.1917 - val_mae: 0.3430\n",
      "Epoch 13/100\n",
      "2/2 [==============================] - 0s 37ms/step - loss: 0.3498 - mae: 0.4265 - val_loss: 0.1834 - val_mae: 0.3362\n",
      "Epoch 14/100\n",
      "2/2 [==============================] - 0s 34ms/step - loss: 0.3403 - mae: 0.4233 - val_loss: 0.1753 - val_mae: 0.3308\n",
      "Epoch 15/100\n",
      "2/2 [==============================] - 0s 33ms/step - loss: 0.3369 - mae: 0.4238 - val_loss: 0.1680 - val_mae: 0.3254\n",
      "Epoch 16/100\n",
      "2/2 [==============================] - 0s 42ms/step - loss: 0.3161 - mae: 0.4092 - val_loss: 0.1605 - val_mae: 0.3195\n",
      "Epoch 17/100\n",
      "2/2 [==============================] - 0s 43ms/step - loss: 0.3125 - mae: 0.4049 - val_loss: 0.1535 - val_mae: 0.3141\n",
      "Epoch 18/100\n",
      "2/2 [==============================] - 0s 35ms/step - loss: 0.2996 - mae: 0.3961 - val_loss: 0.1466 - val_mae: 0.3083\n",
      "Epoch 19/100\n",
      "2/2 [==============================] - 0s 35ms/step - loss: 0.2950 - mae: 0.3957 - val_loss: 0.1402 - val_mae: 0.3028\n",
      "Epoch 20/100\n",
      "2/2 [==============================] - 0s 34ms/step - loss: 0.2796 - mae: 0.3834 - val_loss: 0.1338 - val_mae: 0.2977\n",
      "Epoch 21/100\n",
      "2/2 [==============================] - 0s 40ms/step - loss: 0.2683 - mae: 0.3732 - val_loss: 0.1279 - val_mae: 0.2922\n",
      "Epoch 22/100\n",
      "2/2 [==============================] - 0s 43ms/step - loss: 0.2455 - mae: 0.3565 - val_loss: 0.1224 - val_mae: 0.2870\n",
      "Epoch 23/100\n",
      "2/2 [==============================] - 0s 39ms/step - loss: 0.2508 - mae: 0.3616 - val_loss: 0.1165 - val_mae: 0.2817\n",
      "Epoch 24/100\n",
      "2/2 [==============================] - 0s 41ms/step - loss: 0.2363 - mae: 0.3532 - val_loss: 0.1111 - val_mae: 0.2759\n",
      "Epoch 25/100\n",
      "2/2 [==============================] - 0s 43ms/step - loss: 0.2384 - mae: 0.3522 - val_loss: 0.1058 - val_mae: 0.2701\n",
      "Epoch 26/100\n",
      "2/2 [==============================] - 0s 36ms/step - loss: 0.2157 - mae: 0.3299 - val_loss: 0.1007 - val_mae: 0.2644\n",
      "Epoch 27/100\n",
      "2/2 [==============================] - 0s 39ms/step - loss: 0.2100 - mae: 0.3269 - val_loss: 0.0960 - val_mae: 0.2600\n",
      "Epoch 28/100\n",
      "2/2 [==============================] - 0s 42ms/step - loss: 0.2093 - mae: 0.3289 - val_loss: 0.0917 - val_mae: 0.2553\n",
      "Epoch 29/100\n",
      "2/2 [==============================] - 0s 31ms/step - loss: 0.2064 - mae: 0.3265 - val_loss: 0.0869 - val_mae: 0.2497\n",
      "Epoch 30/100\n",
      "2/2 [==============================] - 0s 35ms/step - loss: 0.1976 - mae: 0.3205 - val_loss: 0.0825 - val_mae: 0.2439\n",
      "Epoch 31/100\n",
      "2/2 [==============================] - 0s 44ms/step - loss: 0.1873 - mae: 0.3097 - val_loss: 0.0779 - val_mae: 0.2383\n",
      "Epoch 32/100\n",
      "2/2 [==============================] - 0s 37ms/step - loss: 0.1764 - mae: 0.2965 - val_loss: 0.0740 - val_mae: 0.2332\n",
      "Epoch 33/100\n",
      "2/2 [==============================] - 0s 39ms/step - loss: 0.1729 - mae: 0.2968 - val_loss: 0.0699 - val_mae: 0.2275\n",
      "Epoch 34/100\n",
      "2/2 [==============================] - 0s 41ms/step - loss: 0.1633 - mae: 0.2883 - val_loss: 0.0662 - val_mae: 0.2225\n",
      "Epoch 35/100\n",
      "2/2 [==============================] - 0s 37ms/step - loss: 0.1610 - mae: 0.2828 - val_loss: 0.0625 - val_mae: 0.2172\n",
      "Epoch 36/100\n",
      "2/2 [==============================] - 0s 39ms/step - loss: 0.1558 - mae: 0.2820 - val_loss: 0.0590 - val_mae: 0.2121\n",
      "Epoch 37/100\n",
      "2/2 [==============================] - 0s 29ms/step - loss: 0.1464 - mae: 0.2723 - val_loss: 0.0557 - val_mae: 0.2064\n",
      "Epoch 38/100\n",
      "2/2 [==============================] - 0s 33ms/step - loss: 0.1451 - mae: 0.2707 - val_loss: 0.0525 - val_mae: 0.2006\n",
      "Epoch 39/100\n",
      "2/2 [==============================] - 0s 31ms/step - loss: 0.1392 - mae: 0.2626 - val_loss: 0.0494 - val_mae: 0.1944\n",
      "Epoch 40/100\n",
      "2/2 [==============================] - 0s 33ms/step - loss: 0.1322 - mae: 0.2566 - val_loss: 0.0465 - val_mae: 0.1890\n",
      "Epoch 41/100\n",
      "2/2 [==============================] - 0s 38ms/step - loss: 0.1272 - mae: 0.2514 - val_loss: 0.0437 - val_mae: 0.1832\n",
      "Epoch 42/100\n",
      "2/2 [==============================] - 0s 36ms/step - loss: 0.1208 - mae: 0.2462 - val_loss: 0.0409 - val_mae: 0.1772\n",
      "Epoch 43/100\n",
      "2/2 [==============================] - 0s 36ms/step - loss: 0.1108 - mae: 0.2327 - val_loss: 0.0385 - val_mae: 0.1720\n",
      "Epoch 44/100\n",
      "2/2 [==============================] - 0s 37ms/step - loss: 0.1111 - mae: 0.2363 - val_loss: 0.0360 - val_mae: 0.1669\n",
      "Epoch 45/100\n",
      "2/2 [==============================] - 0s 39ms/step - loss: 0.1081 - mae: 0.2320 - val_loss: 0.0339 - val_mae: 0.1622\n",
      "Epoch 46/100\n",
      "2/2 [==============================] - 0s 43ms/step - loss: 0.1038 - mae: 0.2274 - val_loss: 0.0315 - val_mae: 0.1560\n",
      "Epoch 47/100\n",
      "2/2 [==============================] - 0s 32ms/step - loss: 0.1005 - mae: 0.2233 - val_loss: 0.0293 - val_mae: 0.1505\n",
      "Epoch 48/100\n",
      "2/2 [==============================] - 0s 34ms/step - loss: 0.0977 - mae: 0.2191 - val_loss: 0.0273 - val_mae: 0.1456\n",
      "Epoch 49/100\n",
      "2/2 [==============================] - 0s 31ms/step - loss: 0.0910 - mae: 0.2121 - val_loss: 0.0253 - val_mae: 0.1408\n",
      "Epoch 50/100\n",
      "2/2 [==============================] - 0s 29ms/step - loss: 0.0862 - mae: 0.2061 - val_loss: 0.0236 - val_mae: 0.1365\n",
      "Epoch 51/100\n",
      "2/2 [==============================] - 0s 36ms/step - loss: 0.0808 - mae: 0.1995 - val_loss: 0.0218 - val_mae: 0.1307\n",
      "Epoch 52/100\n",
      "2/2 [==============================] - 0s 30ms/step - loss: 0.0813 - mae: 0.1975 - val_loss: 0.0202 - val_mae: 0.1260\n",
      "Epoch 53/100\n",
      "2/2 [==============================] - 0s 34ms/step - loss: 0.0729 - mae: 0.1876 - val_loss: 0.0186 - val_mae: 0.1206\n",
      "Epoch 54/100\n",
      "2/2 [==============================] - 0s 30ms/step - loss: 0.0737 - mae: 0.1884 - val_loss: 0.0171 - val_mae: 0.1157\n",
      "Epoch 55/100\n",
      "2/2 [==============================] - 0s 32ms/step - loss: 0.0701 - mae: 0.1837 - val_loss: 0.0157 - val_mae: 0.1111\n",
      "Epoch 56/100\n"
     ]
    },
    {
     "name": "stdout",
     "output_type": "stream",
     "text": [
      "2/2 [==============================] - 0s 30ms/step - loss: 0.0687 - mae: 0.1815 - val_loss: 0.0143 - val_mae: 0.1054\n",
      "Epoch 57/100\n",
      "2/2 [==============================] - 0s 32ms/step - loss: 0.0649 - mae: 0.1770 - val_loss: 0.0132 - val_mae: 0.1016\n",
      "Epoch 58/100\n",
      "2/2 [==============================] - 0s 29ms/step - loss: 0.0605 - mae: 0.1697 - val_loss: 0.0122 - val_mae: 0.0976\n",
      "Epoch 59/100\n",
      "2/2 [==============================] - 0s 32ms/step - loss: 0.0589 - mae: 0.1686 - val_loss: 0.0110 - val_mae: 0.0918\n",
      "Epoch 60/100\n",
      "2/2 [==============================] - 0s 29ms/step - loss: 0.0563 - mae: 0.1622 - val_loss: 0.0099 - val_mae: 0.0872\n",
      "Epoch 61/100\n",
      "2/2 [==============================] - 0s 28ms/step - loss: 0.0509 - mae: 0.1556 - val_loss: 0.0090 - val_mae: 0.0829\n",
      "Epoch 62/100\n",
      "2/2 [==============================] - 0s 30ms/step - loss: 0.0503 - mae: 0.1551 - val_loss: 0.0081 - val_mae: 0.0779\n",
      "Epoch 63/100\n",
      "2/2 [==============================] - 0s 32ms/step - loss: 0.0507 - mae: 0.1562 - val_loss: 0.0073 - val_mae: 0.0737\n",
      "Epoch 64/100\n",
      "2/2 [==============================] - 0s 33ms/step - loss: 0.0466 - mae: 0.1482 - val_loss: 0.0066 - val_mae: 0.0701\n",
      "Epoch 65/100\n",
      "2/2 [==============================] - 0s 39ms/step - loss: 0.0448 - mae: 0.1468 - val_loss: 0.0059 - val_mae: 0.0656\n",
      "Epoch 66/100\n",
      "2/2 [==============================] - 0s 39ms/step - loss: 0.0429 - mae: 0.1428 - val_loss: 0.0052 - val_mae: 0.0611\n",
      "Epoch 67/100\n",
      "2/2 [==============================] - 0s 36ms/step - loss: 0.0416 - mae: 0.1414 - val_loss: 0.0047 - val_mae: 0.0576\n",
      "Epoch 68/100\n",
      "2/2 [==============================] - 0s 39ms/step - loss: 0.0394 - mae: 0.1379 - val_loss: 0.0041 - val_mae: 0.0537\n",
      "Epoch 69/100\n",
      "2/2 [==============================] - 0s 36ms/step - loss: 0.0364 - mae: 0.1319 - val_loss: 0.0036 - val_mae: 0.0501\n",
      "Epoch 70/100\n",
      "2/2 [==============================] - 0s 39ms/step - loss: 0.0358 - mae: 0.1309 - val_loss: 0.0031 - val_mae: 0.0469\n",
      "Epoch 71/100\n",
      "2/2 [==============================] - 0s 39ms/step - loss: 0.0340 - mae: 0.1277 - val_loss: 0.0026 - val_mae: 0.0427\n",
      "Epoch 72/100\n",
      "2/2 [==============================] - 0s 35ms/step - loss: 0.0345 - mae: 0.1289 - val_loss: 0.0022 - val_mae: 0.0393\n",
      "Epoch 73/100\n",
      "2/2 [==============================] - 0s 37ms/step - loss: 0.0318 - mae: 0.1246 - val_loss: 0.0019 - val_mae: 0.0359\n",
      "Epoch 74/100\n",
      "2/2 [==============================] - 0s 35ms/step - loss: 0.0304 - mae: 0.1216 - val_loss: 0.0017 - val_mae: 0.0332\n",
      "Epoch 75/100\n",
      "2/2 [==============================] - 0s 34ms/step - loss: 0.0308 - mae: 0.1220 - val_loss: 0.0014 - val_mae: 0.0293\n",
      "Epoch 76/100\n",
      "2/2 [==============================] - 0s 36ms/step - loss: 0.0279 - mae: 0.1166 - val_loss: 0.0011 - val_mae: 0.0260\n",
      "Epoch 77/100\n",
      "2/2 [==============================] - 0s 41ms/step - loss: 0.0253 - mae: 0.1123 - val_loss: 9.3470e-04 - val_mae: 0.0230\n",
      "Epoch 78/100\n",
      "2/2 [==============================] - 0s 37ms/step - loss: 0.0256 - mae: 0.1129 - val_loss: 8.2305e-04 - val_mae: 0.0214\n",
      "Epoch 79/100\n",
      "2/2 [==============================] - 0s 32ms/step - loss: 0.0243 - mae: 0.1103 - val_loss: 6.4452e-04 - val_mae: 0.0187\n",
      "Epoch 80/100\n",
      "2/2 [==============================] - 0s 30ms/step - loss: 0.0242 - mae: 0.1097 - val_loss: 5.5031e-04 - val_mae: 0.0190\n",
      "Epoch 81/100\n",
      "2/2 [==============================] - 0s 30ms/step - loss: 0.0226 - mae: 0.1066 - val_loss: 4.8360e-04 - val_mae: 0.0193\n",
      "Epoch 82/100\n",
      "2/2 [==============================] - 0s 32ms/step - loss: 0.0218 - mae: 0.1046 - val_loss: 3.8120e-04 - val_mae: 0.0178\n",
      "Epoch 83/100\n",
      "2/2 [==============================] - 0s 32ms/step - loss: 0.0216 - mae: 0.1043 - val_loss: 3.3730e-04 - val_mae: 0.0176\n",
      "Epoch 84/100\n",
      "2/2 [==============================] - 0s 29ms/step - loss: 0.0207 - mae: 0.1016 - val_loss: 3.2970e-04 - val_mae: 0.0176\n",
      "Epoch 85/100\n",
      "2/2 [==============================] - 0s 34ms/step - loss: 0.0196 - mae: 0.0996 - val_loss: 3.5244e-04 - val_mae: 0.0175\n",
      "Epoch 86/100\n",
      "2/2 [==============================] - 0s 29ms/step - loss: 0.0188 - mae: 0.0979 - val_loss: 3.8486e-04 - val_mae: 0.0173\n",
      "Epoch 87/100\n",
      "2/2 [==============================] - 0s 38ms/step - loss: 0.0183 - mae: 0.0967 - val_loss: 4.3570e-04 - val_mae: 0.0170\n",
      "Epoch 88/100\n",
      "2/2 [==============================] - 0s 36ms/step - loss: 0.0179 - mae: 0.0959 - val_loss: 5.1522e-04 - val_mae: 0.0178\n",
      "Epoch 89/100\n",
      "2/2 [==============================] - 0s 40ms/step - loss: 0.0166 - mae: 0.0927 - val_loss: 5.7297e-04 - val_mae: 0.0174\n",
      "Epoch 90/100\n",
      "2/2 [==============================] - 0s 39ms/step - loss: 0.0167 - mae: 0.0925 - val_loss: 6.4583e-04 - val_mae: 0.0188\n",
      "Epoch 91/100\n",
      "2/2 [==============================] - 0s 35ms/step - loss: 0.0161 - mae: 0.0919 - val_loss: 7.3728e-04 - val_mae: 0.0207\n",
      "Epoch 92/100\n",
      "2/2 [==============================] - 0s 39ms/step - loss: 0.0157 - mae: 0.0913 - val_loss: 8.4463e-04 - val_mae: 0.0231\n",
      "Epoch 93/100\n",
      "2/2 [==============================] - 0s 32ms/step - loss: 0.0153 - mae: 0.0900 - val_loss: 9.2746e-04 - val_mae: 0.0242\n",
      "Epoch 94/100\n",
      "2/2 [==============================] - 0s 30ms/step - loss: 0.0142 - mae: 0.0866 - val_loss: 9.6636e-04 - val_mae: 0.0243\n",
      "Epoch 95/100\n",
      "2/2 [==============================] - 0s 31ms/step - loss: 0.0138 - mae: 0.0854 - val_loss: 0.0010 - val_mae: 0.0255\n",
      "Epoch 96/100\n",
      "2/2 [==============================] - 0s 29ms/step - loss: 0.0129 - mae: 0.0829 - val_loss: 0.0012 - val_mae: 0.0283\n",
      "Epoch 97/100\n",
      "2/2 [==============================] - 0s 33ms/step - loss: 0.0125 - mae: 0.0815 - val_loss: 0.0013 - val_mae: 0.0296\n",
      "Epoch 98/100\n",
      "2/2 [==============================] - 0s 31ms/step - loss: 0.0127 - mae: 0.0821 - val_loss: 0.0013 - val_mae: 0.0301\n",
      "Epoch 99/100\n",
      "2/2 [==============================] - 0s 31ms/step - loss: 0.0122 - mae: 0.0811 - val_loss: 0.0013 - val_mae: 0.0305\n",
      "Epoch 100/100\n",
      "2/2 [==============================] - 0s 30ms/step - loss: 0.0116 - mae: 0.0799 - val_loss: 0.0013 - val_mae: 0.0301\n"
     ]
    }
   ],
   "source": [
    "model = build_model()\n",
    "history = model.fit ( x_train, y_train, epochs = 100, batch_size = 2032, validation_data = (x_val, y_val) )\n",
    "model.save(\"regr.h5\")"
   ]
  },
  {
   "cell_type": "code",
   "execution_count": 13,
   "metadata": {
    "scrolled": false
   },
   "outputs": [
    {
     "data": {
      "image/png": "[encoded data removed]",
      "text/plain": [
       "<Figure size 432x288 with 1 Axes>"
      ]
     },
     "metadata": {
      "needs_background": "light"
     },
     "output_type": "display_data"
    }
   ],
   "source": [
    "import matplotlib.pyplot as plt\n",
    "\n",
    "mae = history.history['mae']\n",
    "val_mae = history.history['val_mae']\n",
    "\n",
    "epochs = range(1, len(mae) + 1)\n",
    "\n",
    "plt.plot(epochs, mae, 'bo', label='Training mae')\n",
    "plt.plot(epochs, val_mae, 'b', label='Validation mae')\n",
    "plt.title('Training and validation accuracy')\n",
    "plt.xlabel('Epochs')\n",
    "plt.ylabel('mae')\n",
    "plt.legend()\n",
    "\n",
    "plt.show()"
   ]
  },
  {
   "cell_type": "code",
   "execution_count": 14,
   "metadata": {},
   "outputs": [
    {
     "data": {
      "image/png": "[encoded data removed]",
      "text/plain": [
       "<Figure size 432x288 with 1 Axes>"
      ]
     },
     "metadata": {
      "needs_background": "light"
     },
     "output_type": "display_data"
    }
   ],
   "source": [
    "plt.clf()   # clear figure\n",
    "\n",
    "loss = history.history['loss']\n",
    "val_loss = history.history['val_loss']\n",
    "\n",
    "\n",
    "\n",
    "plt.plot(epochs, loss, 'bo', label='Training loss')\n",
    "plt.plot(epochs, val_loss, 'b', label='Validation loss')\n",
    "plt.title('Training and validation loss')\n",
    "plt.xlabel('Epochs')\n",
    "plt.ylabel('Loss')\n",
    "plt.legend()\n",
    "\n",
    "plt.show()"
   ]
  },
  {
   "cell_type": "markdown",
   "metadata": {},
   "source": [
    "## !! \n",
    "The dropout 0.2 seems to work better"
   ]
  },
  {
   "cell_type": "code",
   "execution_count": 149,
   "metadata": {},
   "outputs": [],
   "source": [
    "def build_model() :\n",
    "    model = models.Sequential()\n",
    "    model.add (layers.Dense (6, activation = \"sigmoid\" , input_shape = x.shape))\n",
    "    model.add(layers.Dropout(0.2))\n",
    "    model.add (layers.Dense (12, activation = \"relu\"))\n",
    "    model.add(layers.Dropout(0.2))\n",
    "    model.add (layers.Dense (24, activation = \"relu\"))\n",
    "    model.add(layers.Dropout(0.2))\n",
    "    model.add (layers.Dense (12, activation = \"relu\"))\n",
    "    model.add(layers.Dropout(0.2))\n",
    "    model.add (layers.Dense (6, activation = \"relu\"))\n",
    "    model.add(layers.Dropout(0.2))\n",
    "    model.add (layers.Dense (3))\n",
    "    model.compile(optimizer = \"rmsprop\" , loss = \"binary_crossentropy\" , metrics =[\"mae\"])\n",
    "    return model"
   ]
  },
  {
   "cell_type": "code",
   "execution_count": 152,
   "metadata": {},
   "outputs": [
    {
     "name": "stdout",
     "output_type": "stream",
     "text": [
      "Epoch 1/100\n",
      "WARNING:tensorflow:Model was constructed with shape (None, 2892, 6) for input KerasTensor(type_spec=TensorSpec(shape=(None, 2892, 6), dtype=tf.float32, name='dense_14_input'), name='dense_14_input', description=\"created by layer 'dense_14_input'\"), but it was called on an input with incompatible shape (None, 6).\n",
      "WARNING:tensorflow:Model was constructed with shape (None, 2892, 6) for input KerasTensor(type_spec=TensorSpec(shape=(None, 2892, 6), dtype=tf.float32, name='dense_14_input'), name='dense_14_input', description=\"created by layer 'dense_14_input'\"), but it was called on an input with incompatible shape (None, 6).\n",
      "1/7 [===>..........................] - ETA: 6s - loss: 0.0273 - mae: 0.0673WARNING:tensorflow:Model was constructed with shape (None, 2892, 6) for input KerasTensor(type_spec=TensorSpec(shape=(None, 2892, 6), dtype=tf.float32, name='dense_14_input'), name='dense_14_input', description=\"created by layer 'dense_14_input'\"), but it was called on an input with incompatible shape (None, 6).\n",
      "7/7 [==============================] - 1s 42ms/step - loss: 0.0190 - mae: 0.0595 - val_loss: -1.1970e-04 - val_mae: 0.0224\n",
      "Epoch 2/100\n",
      "7/7 [==============================] - 0s 10ms/step - loss: 0.0059 - mae: 0.0472 - val_loss: -1.1970e-04 - val_mae: 0.0313\n",
      "Epoch 3/100\n",
      "7/7 [==============================] - 0s 10ms/step - loss: 0.0025 - mae: 0.0484 - val_loss: -1.1970e-04 - val_mae: 0.0381\n",
      "Epoch 4/100\n",
      "7/7 [==============================] - 0s 10ms/step - loss: 0.0011 - mae: 0.0514 - val_loss: -1.1970e-04 - val_mae: 0.0435\n",
      "Epoch 5/100\n",
      "7/7 [==============================] - 0s 10ms/step - loss: 4.1161e-04 - mae: 0.0552 - val_loss: -1.1970e-04 - val_mae: 0.0473\n",
      "Epoch 6/100\n",
      "7/7 [==============================] - 0s 9ms/step - loss: 1.9627e-05 - mae: 0.0558 - val_loss: -1.1970e-04 - val_mae: 0.0504\n",
      "Epoch 7/100\n",
      "7/7 [==============================] - 0s 10ms/step - loss: 8.1420e-05 - mae: 0.0576 - val_loss: -1.1970e-04 - val_mae: 0.0523\n",
      "Epoch 8/100\n",
      "7/7 [==============================] - 0s 9ms/step - loss: -7.7897e-05 - mae: 0.0586 - val_loss: -1.1970e-04 - val_mae: 0.0554\n",
      "Epoch 9/100\n",
      "7/7 [==============================] - 0s 9ms/step - loss: -1.6724e-04 - mae: 0.0593 - val_loss: -1.1970e-04 - val_mae: 0.0568\n",
      "Epoch 10/100\n",
      "7/7 [==============================] - 0s 9ms/step - loss: -2.2340e-04 - mae: 0.0623 - val_loss: -1.1970e-04 - val_mae: 0.0593\n",
      "Epoch 11/100\n",
      "7/7 [==============================] - 0s 10ms/step - loss: -1.7141e-04 - mae: 0.0635 - val_loss: -1.1970e-04 - val_mae: 0.0612\n",
      "Epoch 12/100\n",
      "7/7 [==============================] - 0s 9ms/step - loss: -1.9779e-04 - mae: 0.0657 - val_loss: -1.1970e-04 - val_mae: 0.0621\n",
      "Epoch 13/100\n",
      "7/7 [==============================] - 0s 11ms/step - loss: -1.4931e-04 - mae: 0.0662 - val_loss: -1.1970e-04 - val_mae: 0.0625\n",
      "Epoch 14/100\n",
      "7/7 [==============================] - 0s 11ms/step - loss: -1.4285e-04 - mae: 0.0659 - val_loss: -1.1970e-04 - val_mae: 0.0658\n",
      "Epoch 15/100\n",
      "7/7 [==============================] - 0s 9ms/step - loss: -2.0378e-04 - mae: 0.0696 - val_loss: -1.1970e-04 - val_mae: 0.0665\n",
      "Epoch 16/100\n",
      "7/7 [==============================] - 0s 9ms/step - loss: -1.7657e-04 - mae: 0.0704 - val_loss: -1.1970e-04 - val_mae: 0.0667\n",
      "Epoch 17/100\n",
      "7/7 [==============================] - 0s 10ms/step - loss: -1.3782e-04 - mae: 0.0697 - val_loss: -1.1970e-04 - val_mae: 0.0667\n",
      "Epoch 18/100\n",
      "7/7 [==============================] - 0s 10ms/step - loss: -2.4541e-04 - mae: 0.0707 - val_loss: -1.1970e-04 - val_mae: 0.0684\n",
      "Epoch 19/100\n",
      "7/7 [==============================] - 0s 9ms/step - loss: -1.5033e-04 - mae: 0.0708 - val_loss: -1.1970e-04 - val_mae: 0.0684\n",
      "Epoch 20/100\n",
      "7/7 [==============================] - 0s 9ms/step - loss: -1.6688e-04 - mae: 0.0712 - val_loss: -1.1970e-04 - val_mae: 0.0684\n",
      "Epoch 21/100\n",
      "7/7 [==============================] - 0s 9ms/step - loss: -3.1098e-04 - mae: 0.0703 - val_loss: -1.1970e-04 - val_mae: 0.0711\n",
      "Epoch 22/100\n",
      "7/7 [==============================] - 0s 9ms/step - loss: -1.9905e-04 - mae: 0.0734 - val_loss: -1.1970e-04 - val_mae: 0.0730\n",
      "Epoch 23/100\n",
      "7/7 [==============================] - 0s 9ms/step - loss: -2.3477e-04 - mae: 0.0734 - val_loss: -1.1970e-04 - val_mae: 0.0730\n",
      "Epoch 24/100\n",
      "7/7 [==============================] - 0s 11ms/step - loss: -2.3914e-04 - mae: 0.0738 - val_loss: -1.1970e-04 - val_mae: 0.0730\n",
      "Epoch 25/100\n",
      "7/7 [==============================] - 0s 9ms/step - loss: -2.4875e-04 - mae: 0.0729 - val_loss: -1.1970e-04 - val_mae: 0.0730\n",
      "Epoch 26/100\n",
      "7/7 [==============================] - 0s 12ms/step - loss: -1.6549e-04 - mae: 0.0752 - val_loss: -1.1970e-04 - val_mae: 0.0730\n",
      "Epoch 27/100\n",
      "7/7 [==============================] - 0s 10ms/step - loss: -2.9755e-04 - mae: 0.0742 - val_loss: -1.1970e-04 - val_mae: 0.0745\n",
      "Epoch 28/100\n",
      "7/7 [==============================] - 0s 10ms/step - loss: -1.8788e-04 - mae: 0.0754 - val_loss: -1.1970e-04 - val_mae: 0.0745\n",
      "Epoch 29/100\n",
      "7/7 [==============================] - 0s 10ms/step - loss: -2.0951e-04 - mae: 0.0745 - val_loss: -1.1970e-04 - val_mae: 0.0745\n",
      "Epoch 30/100\n",
      "7/7 [==============================] - 0s 10ms/step - loss: -2.1875e-04 - mae: 0.0751 - val_loss: -1.1970e-04 - val_mae: 0.0762\n",
      "Epoch 31/100\n",
      "7/7 [==============================] - 0s 9ms/step - loss: -1.6907e-04 - mae: 0.0768 - val_loss: -1.1970e-04 - val_mae: 0.0762\n",
      "Epoch 32/100\n",
      "7/7 [==============================] - 0s 10ms/step - loss: -2.7036e-04 - mae: 0.0774 - val_loss: -1.1970e-04 - val_mae: 0.0766\n",
      "Epoch 33/100\n",
      "7/7 [==============================] - 0s 9ms/step - loss: -2.0718e-04 - mae: 0.0778 - val_loss: -1.1970e-04 - val_mae: 0.0775\n",
      "Epoch 34/100\n",
      "7/7 [==============================] - 0s 10ms/step - loss: -2.2249e-04 - mae: 0.0774 - val_loss: -1.1970e-04 - val_mae: 0.0775\n",
      "Epoch 35/100\n",
      "7/7 [==============================] - 0s 10ms/step - loss: -1.9087e-04 - mae: 0.0776 - val_loss: -1.1970e-04 - val_mae: 0.0775\n",
      "Epoch 36/100\n",
      "7/7 [==============================] - 0s 11ms/step - loss: -2.1441e-04 - mae: 0.0780 - val_loss: -1.1970e-04 - val_mae: 0.0775\n",
      "Epoch 37/100\n",
      "7/7 [==============================] - 0s 10ms/step - loss: -2.0220e-04 - mae: 0.0773 - val_loss: -1.1970e-04 - val_mae: 0.0775\n",
      "Epoch 38/100\n",
      "7/7 [==============================] - 0s 11ms/step - loss: -1.7101e-04 - mae: 0.0778 - val_loss: -1.1970e-04 - val_mae: 0.0775\n",
      "Epoch 39/100\n",
      "7/7 [==============================] - 0s 10ms/step - loss: -1.9832e-04 - mae: 0.0776 - val_loss: -1.1970e-04 - val_mae: 0.0775\n",
      "Epoch 40/100\n",
      "7/7 [==============================] - 0s 9ms/step - loss: -2.4934e-04 - mae: 0.0779 - val_loss: -1.1970e-04 - val_mae: 0.0775\n",
      "Epoch 41/100\n",
      "7/7 [==============================] - 0s 10ms/step - loss: -1.0314e-04 - mae: 0.0784 - val_loss: -1.1970e-04 - val_mae: 0.0775\n",
      "Epoch 42/100\n",
      "7/7 [==============================] - 0s 11ms/step - loss: -1.3499e-04 - mae: 0.0777 - val_loss: -1.1970e-04 - val_mae: 0.0775\n",
      "Epoch 43/100\n",
      "7/7 [==============================] - 0s 10ms/step - loss: -1.3873e-04 - mae: 0.0766 - val_loss: -1.1970e-04 - val_mae: 0.0775\n",
      "Epoch 44/100\n",
      "7/7 [==============================] - 0s 12ms/step - loss: -1.4278e-04 - mae: 0.0775 - val_loss: -1.1970e-04 - val_mae: 0.0775\n",
      "Epoch 45/100\n",
      "7/7 [==============================] - 0s 11ms/step - loss: -1.0614e-04 - mae: 0.0773 - val_loss: -1.1970e-04 - val_mae: 0.0775\n",
      "Epoch 46/100\n",
      "7/7 [==============================] - 0s 10ms/step - loss: -2.1125e-04 - mae: 0.0772 - val_loss: -1.1970e-04 - val_mae: 0.0775\n",
      "Epoch 47/100\n",
      "7/7 [==============================] - 0s 11ms/step - loss: -1.4869e-04 - mae: 0.0773 - val_loss: -1.1970e-04 - val_mae: 0.0775\n",
      "Epoch 48/100\n",
      "7/7 [==============================] - 0s 10ms/step - loss: -1.8099e-04 - mae: 0.0779 - val_loss: -1.1970e-04 - val_mae: 0.0775\n",
      "Epoch 49/100\n",
      "7/7 [==============================] - 0s 11ms/step - loss: -1.5551e-04 - mae: 0.0768 - val_loss: -1.1970e-04 - val_mae: 0.0775\n",
      "Epoch 50/100\n",
      "7/7 [==============================] - 0s 10ms/step - loss: -1.5426e-04 - mae: 0.0774 - val_loss: -1.1970e-04 - val_mae: 0.0775\n",
      "Epoch 51/100\n",
      "7/7 [==============================] - 0s 9ms/step - loss: -2.7649e-04 - mae: 0.0763 - val_loss: -1.1970e-04 - val_mae: 0.0775\n",
      "Epoch 52/100\n"
     ]
    },
    {
     "name": "stdout",
     "output_type": "stream",
     "text": [
      "7/7 [==============================] - 0s 11ms/step - loss: -2.5986e-04 - mae: 0.0758 - val_loss: -1.1970e-04 - val_mae: 0.0775\n",
      "Epoch 53/100\n",
      "7/7 [==============================] - 0s 10ms/step - loss: -1.8877e-04 - mae: 0.0776 - val_loss: -1.1970e-04 - val_mae: 0.0775\n",
      "Epoch 54/100\n",
      "7/7 [==============================] - 0s 9ms/step - loss: -2.2837e-04 - mae: 0.0771 - val_loss: -1.1970e-04 - val_mae: 0.0775\n",
      "Epoch 55/100\n",
      "7/7 [==============================] - 0s 10ms/step - loss: -2.6328e-04 - mae: 0.0789 - val_loss: -1.1970e-04 - val_mae: 0.0775\n",
      "Epoch 56/100\n",
      "7/7 [==============================] - 0s 10ms/step - loss: -1.9128e-04 - mae: 0.0778 - val_loss: -1.1970e-04 - val_mae: 0.0775\n",
      "Epoch 57/100\n",
      "7/7 [==============================] - 0s 10ms/step - loss: -1.4555e-04 - mae: 0.0785 - val_loss: -1.1970e-04 - val_mae: 0.0775\n",
      "Epoch 58/100\n",
      "7/7 [==============================] - 0s 10ms/step - loss: -1.8894e-04 - mae: 0.0783 - val_loss: -1.1970e-04 - val_mae: 0.0775\n",
      "Epoch 59/100\n",
      "7/7 [==============================] - 0s 11ms/step - loss: -1.2204e-04 - mae: 0.0797 - val_loss: -1.1970e-04 - val_mae: 0.0781\n",
      "Epoch 60/100\n",
      "7/7 [==============================] - 0s 11ms/step - loss: -2.7306e-04 - mae: 0.0795 - val_loss: -1.1970e-04 - val_mae: 0.0781\n",
      "Epoch 61/100\n",
      "7/7 [==============================] - 0s 11ms/step - loss: -2.0974e-04 - mae: 0.0780 - val_loss: -1.1970e-04 - val_mae: 0.0781\n",
      "Epoch 62/100\n",
      "7/7 [==============================] - 0s 11ms/step - loss: -1.5833e-04 - mae: 0.0792 - val_loss: -1.1970e-04 - val_mae: 0.0781\n",
      "Epoch 63/100\n",
      "7/7 [==============================] - 0s 9ms/step - loss: -1.8300e-04 - mae: 0.0780 - val_loss: -1.1970e-04 - val_mae: 0.0781\n",
      "Epoch 64/100\n",
      "7/7 [==============================] - 0s 9ms/step - loss: -1.8272e-04 - mae: 0.0778 - val_loss: -1.1970e-04 - val_mae: 0.0781\n",
      "Epoch 65/100\n",
      "7/7 [==============================] - 0s 10ms/step - loss: -2.3342e-04 - mae: 0.0764 - val_loss: -1.1970e-04 - val_mae: 0.0781\n",
      "Epoch 66/100\n",
      "7/7 [==============================] - 0s 9ms/step - loss: -1.8957e-04 - mae: 0.0778 - val_loss: -1.1970e-04 - val_mae: 0.0781\n",
      "Epoch 67/100\n",
      "7/7 [==============================] - 0s 9ms/step - loss: -1.2912e-04 - mae: 0.0776 - val_loss: -1.1970e-04 - val_mae: 0.0781\n",
      "Epoch 68/100\n",
      "7/7 [==============================] - 0s 10ms/step - loss: -1.6419e-04 - mae: 0.0778 - val_loss: -1.1970e-04 - val_mae: 0.0781\n",
      "Epoch 69/100\n",
      "7/7 [==============================] - 0s 10ms/step - loss: -8.7894e-05 - mae: 0.0778 - val_loss: -1.1970e-04 - val_mae: 0.0781\n",
      "Epoch 70/100\n",
      "7/7 [==============================] - 0s 10ms/step - loss: -1.8704e-04 - mae: 0.0787 - val_loss: -1.1970e-04 - val_mae: 0.0781\n",
      "Epoch 71/100\n",
      "7/7 [==============================] - 0s 10ms/step - loss: -2.5708e-04 - mae: 0.0796 - val_loss: -1.1970e-04 - val_mae: 0.0781\n",
      "Epoch 72/100\n",
      "7/7 [==============================] - 0s 9ms/step - loss: -1.5228e-04 - mae: 0.0781 - val_loss: -1.1970e-04 - val_mae: 0.0781\n",
      "Epoch 73/100\n",
      "7/7 [==============================] - 0s 9ms/step - loss: -1.0328e-04 - mae: 0.0796 - val_loss: -1.1970e-04 - val_mae: 0.0781\n",
      "Epoch 74/100\n",
      "7/7 [==============================] - 0s 10ms/step - loss: -2.1673e-04 - mae: 0.0775 - val_loss: -1.1970e-04 - val_mae: 0.0781\n",
      "Epoch 75/100\n",
      "7/7 [==============================] - 0s 10ms/step - loss: -2.1627e-04 - mae: 0.0776 - val_loss: -1.1970e-04 - val_mae: 0.0781\n",
      "Epoch 76/100\n",
      "7/7 [==============================] - 0s 9ms/step - loss: -1.2526e-04 - mae: 0.0778 - val_loss: -1.1970e-04 - val_mae: 0.0781\n",
      "Epoch 77/100\n",
      "7/7 [==============================] - 0s 10ms/step - loss: -1.5495e-04 - mae: 0.0778 - val_loss: -1.1970e-04 - val_mae: 0.0781\n",
      "Epoch 78/100\n",
      "7/7 [==============================] - 0s 10ms/step - loss: -1.5102e-04 - mae: 0.0781 - val_loss: -1.1970e-04 - val_mae: 0.0781\n",
      "Epoch 79/100\n",
      "7/7 [==============================] - 0s 9ms/step - loss: -1.9499e-04 - mae: 0.0778 - val_loss: -1.1970e-04 - val_mae: 0.0781\n",
      "Epoch 80/100\n",
      "7/7 [==============================] - 0s 10ms/step - loss: -1.6457e-04 - mae: 0.0779 - val_loss: -1.1970e-04 - val_mae: 0.0781\n",
      "Epoch 81/100\n",
      "7/7 [==============================] - 0s 10ms/step - loss: -2.0275e-04 - mae: 0.0776 - val_loss: -1.1970e-04 - val_mae: 0.0781\n",
      "Epoch 82/100\n",
      "7/7 [==============================] - 0s 11ms/step - loss: -2.3844e-04 - mae: 0.0784 - val_loss: -1.1970e-04 - val_mae: 0.0781\n",
      "Epoch 83/100\n",
      "7/7 [==============================] - 0s 10ms/step - loss: -2.4670e-04 - mae: 0.0792 - val_loss: -1.1970e-04 - val_mae: 0.0781\n",
      "Epoch 84/100\n",
      "7/7 [==============================] - 0s 9ms/step - loss: -1.6017e-04 - mae: 0.0779 - val_loss: -1.1970e-04 - val_mae: 0.0781\n",
      "Epoch 85/100\n",
      "7/7 [==============================] - 0s 9ms/step - loss: -1.8931e-04 - mae: 0.0790 - val_loss: -1.1970e-04 - val_mae: 0.0781\n",
      "Epoch 86/100\n",
      "7/7 [==============================] - 0s 10ms/step - loss: -2.3607e-04 - mae: 0.0780 - val_loss: -1.1970e-04 - val_mae: 0.0781\n",
      "Epoch 87/100\n",
      "7/7 [==============================] - 0s 10ms/step - loss: -2.6431e-04 - mae: 0.0772 - val_loss: -1.1970e-04 - val_mae: 0.0781\n",
      "Epoch 88/100\n",
      "7/7 [==============================] - 0s 10ms/step - loss: -1.7195e-04 - mae: 0.0798 - val_loss: -1.1970e-04 - val_mae: 0.0781\n",
      "Epoch 89/100\n",
      "7/7 [==============================] - 0s 10ms/step - loss: -1.7429e-04 - mae: 0.0773 - val_loss: -1.1970e-04 - val_mae: 0.0781\n",
      "Epoch 90/100\n",
      "7/7 [==============================] - 0s 9ms/step - loss: -1.6936e-04 - mae: 0.0780 - val_loss: -1.1970e-04 - val_mae: 0.0785\n",
      "Epoch 91/100\n",
      "7/7 [==============================] - 0s 10ms/step - loss: -2.4136e-04 - mae: 0.0789 - val_loss: -1.1970e-04 - val_mae: 0.0785\n",
      "Epoch 92/100\n",
      "7/7 [==============================] - 0s 9ms/step - loss: -1.9324e-04 - mae: 0.0773 - val_loss: -1.1970e-04 - val_mae: 0.0785\n",
      "Epoch 93/100\n",
      "7/7 [==============================] - 0s 9ms/step - loss: -1.7015e-04 - mae: 0.0782 - val_loss: -1.1970e-04 - val_mae: 0.0785\n",
      "Epoch 94/100\n",
      "7/7 [==============================] - 0s 10ms/step - loss: -2.6689e-04 - mae: 0.0784 - val_loss: -1.1970e-04 - val_mae: 0.0785\n",
      "Epoch 95/100\n",
      "7/7 [==============================] - 0s 10ms/step - loss: -1.2429e-04 - mae: 0.0782 - val_loss: -1.1970e-04 - val_mae: 0.0785\n",
      "Epoch 96/100\n",
      "7/7 [==============================] - 0s 9ms/step - loss: -2.1557e-04 - mae: 0.0790 - val_loss: -1.1970e-04 - val_mae: 0.0785\n",
      "Epoch 97/100\n",
      "7/7 [==============================] - 0s 10ms/step - loss: -2.1530e-04 - mae: 0.0778 - val_loss: -1.1970e-04 - val_mae: 0.0785\n",
      "Epoch 98/100\n",
      "7/7 [==============================] - 0s 10ms/step - loss: -1.3096e-04 - mae: 0.0787 - val_loss: -1.1970e-04 - val_mae: 0.0785\n",
      "Epoch 99/100\n",
      "7/7 [==============================] - 0s 10ms/step - loss: -2.1077e-04 - mae: 0.0785 - val_loss: -1.1970e-04 - val_mae: 0.0785\n",
      "Epoch 100/100\n",
      "7/7 [==============================] - 0s 10ms/step - loss: -1.5644e-04 - mae: 0.0785 - val_loss: -1.1970e-04 - val_mae: 0.0791\n"
     ]
    }
   ],
   "source": [
    "model = build_model ()\n",
    "history = model.fit ( x_train, y_train, epochs = 100, batch_size = 332, validation_data = (x_val, y_val) )\n",
    "model.save(\"regr.h5\")"
   ]
  },
  {
   "cell_type": "code",
   "execution_count": 151,
   "metadata": {
    "scrolled": false
   },
   "outputs": [
    {
     "data": {
      "image/png": "[encoded data removed]",
      "text/plain": [
       "<Figure size 432x288 with 1 Axes>"
      ]
     },
     "metadata": {
      "needs_background": "light"
     },
     "output_type": "display_data"
    }
   ],
   "source": [
    "import matplotlib.pyplot as plt\n",
    "\n",
    "mae = history.history['mae']\n",
    "val_mae = history.history['val_mae']\n",
    "\n",
    "epochs = range(1, len(mae) + 1)\n",
    "\n",
    "plt.plot(epochs, mae, 'bo', label='Training mae')\n",
    "plt.plot(epochs, val_mae, 'b', label='Validation mae')\n",
    "plt.title('Training and validation accuracy')\n",
    "plt.xlabel('Epochs')\n",
    "plt.ylabel('mae')\n",
    "plt.legend()\n",
    "\n",
    "plt.show()"
   ]
  },
  {
   "cell_type": "markdown",
   "metadata": {},
   "source": [
    "## Test spectrum"
   ]
  },
  {
   "cell_type": "code",
   "execution_count": 153,
   "metadata": {},
   "outputs": [],
   "source": [
    "from tensorflow import keras\n",
    "model_regr = keras.models.load_model('regr.h5')\n",
    "model_class = keras.models.load_model('class.h5')"
   ]
  },
  {
   "cell_type": "code",
   "execution_count": 154,
   "metadata": {},
   "outputs": [],
   "source": [
    "def energy_spectrum(energy_array, bins):\n",
    "    energy_array = np.array(energy_array)\n",
    "    plt.hist(energy_array, bins, histtype=u'step')\n",
    "    plt.yscale(\"log\")\n",
    "    plt.show()"
   ]
  },
  {
   "cell_type": "code",
   "execution_count": 155,
   "metadata": {},
   "outputs": [],
   "source": [
    "final_p = []\n",
    "final_e = []\n",
    "\n",
    "for regr_pair in regr_data:\n",
    "    final_e.append(np.linalg.norm(regr_pair[10:13]))\n",
    "    final_p.append(np.linalg.norm(regr_pair[13:16]))"
   ]
  },
  {
   "cell_type": "code",
   "execution_count": 156,
   "metadata": {},
   "outputs": [
    {
     "data": {
      "image/png": "[encoded data removed]",
      "text/plain": [
       "<Figure size 432x288 with 1 Axes>"
      ]
     },
     "metadata": {
      "needs_background": "light"
     },
     "output_type": "display_data"
    }
   ],
   "source": [
    "energy_spectrum(final_e, 75)"
   ]
  },
  {
   "cell_type": "code",
   "execution_count": 157,
   "metadata": {},
   "outputs": [
    {
     "data": {
      "image/png": "[encoded data removed]",
      "text/plain": [
       "<Figure size 432x288 with 1 Axes>"
      ]
     },
     "metadata": {
      "needs_background": "light"
     },
     "output_type": "display_data"
    }
   ],
   "source": [
    "energy_spectrum(final_p, 75)"
   ]
  },
  {
   "cell_type": "code",
   "execution_count": 158,
   "metadata": {},
   "outputs": [
    {
     "data": {
      "text/plain": [
       "(2892, 6)"
      ]
     },
     "execution_count": 158,
     "metadata": {},
     "output_type": "execute_result"
    }
   ],
   "source": [
    "x.shape"
   ]
  },
  {
   "cell_type": "code",
   "execution_count": 161,
   "metadata": {},
   "outputs": [
    {
     "data": {
      "text/plain": [
       "array([-8.74550373e-04,  2.66467541e-04, -5.28179808e-04,  4.34358051e-04,\n",
       "       -5.48721800e-05,  1.95071087e-04])"
      ]
     },
     "execution_count": 161,
     "metadata": {},
     "output_type": "execute_result"
    }
   ],
   "source": [
    "x[0]"
   ]
  },
  {
   "cell_type": "code",
   "execution_count": 162,
   "metadata": {},
   "outputs": [
    {
     "name": "stdout",
     "output_type": "stream",
     "text": [
      "0.0%\n",
      "0.008060355945318546%\n",
      "0.01612071189063709%\n",
      "0.02418106783595564%\n",
      "0.03224142378127418%\n",
      "0.040301779726592726%\n",
      "0.04836213567191128%\n",
      "0.05642249161722982%\n",
      "0.06448284756254836%\n",
      "0.0725432035078669%\n",
      "0.08060355945318545%\n",
      "0.08866391539850399%\n",
      "0.09672427134382255%\n",
      "0.10478462728914109%\n",
      "0.11284498323445964%\n",
      "0.12090533917977818%\n",
      "0.12896569512509673%\n",
      "0.13702605107041527%\n",
      "0.1450864070157338%\n",
      "0.15314676296105237%\n",
      "0.1612071189063709%\n",
      "0.16926747485168944%\n",
      "0.17732783079700798%\n",
      "0.18538818674232654%\n",
      "0.1934485426876451%\n",
      "0.20150889863296365%\n",
      "0.20956925457828218%\n",
      "0.21762961052360072%\n",
      "0.22568996646891928%\n",
      "0.23375032241423782%\n",
      "0.24181067835955636%\n",
      "0.2498710343048749%\n",
      "0.25793139025019346%\n",
      "0.26599174619551197%\n",
      "0.27405210214083053%\n",
      "0.2821124580861491%\n",
      "0.2901728140314676%\n",
      "0.29823316997678617%\n",
      "0.30629352592210474%\n",
      "0.31435388186742325%\n",
      "0.3224142378127418%\n",
      "0.3304745937580603%\n",
      "0.3385349497033789%\n",
      "0.34659530564869745%\n",
      "0.35465566159401596%\n",
      "0.3627160175393345%\n",
      "0.3707763734846531%\n",
      "0.37883672942997165%\n",
      "0.3868970853752902%\n",
      "0.3949574413206087%\n",
      "0.4030177972659273%\n",
      "0.4110781532112458%\n",
      "0.41913850915656437%\n",
      "0.42719886510188293%\n",
      "0.43525922104720144%\n",
      "0.44331957699252%\n",
      "0.45137993293783857%\n",
      "0.4594402888831571%\n",
      "0.46750064482847564%\n",
      "0.47556100077379415%\n",
      "0.4836213567191127%\n",
      "0.4916817126644313%\n",
      "0.4997420686097498%\n",
      "0.5078024245550683%\n",
      "0.5158627805003869%\n",
      "0.5239231364457054%\n",
      "0.5319834923910239%\n",
      "0.5400438483363426%\n",
      "0.5481042042816611%\n",
      "0.5561645602269796%\n",
      "0.5642249161722982%\n",
      "0.5722852721176167%\n",
      "0.5803456280629352%\n",
      "0.5884059840082538%\n",
      "0.5964663399535723%\n",
      "0.6045266958988909%\n",
      "0.6125870518442095%\n",
      "0.620647407789528%\n",
      "0.6287077637348465%\n",
      "0.636768119680165%\n",
      "0.6448284756254836%\n",
      "0.6528888315708021%\n",
      "0.6609491875161206%\n",
      "0.6690095434614393%\n",
      "0.6770698994067578%\n",
      "0.6851302553520763%\n",
      "0.6931906112973949%\n",
      "0.7012509672427134%\n",
      "0.7093113231880319%\n",
      "0.7173716791333505%\n",
      "0.725432035078669%\n",
      "0.7334923910239876%\n",
      "0.7415527469693062%\n",
      "0.7496131029146247%\n",
      "0.7576734588599433%\n",
      "0.7657338148052618%\n",
      "0.7737941707505804%\n",
      "0.7818545266958989%\n",
      "0.7899148826412175%\n",
      "0.797975238586536%\n",
      "0.8060355945318546%\n",
      "0.8140959504771731%\n",
      "0.8221563064224916%\n",
      "0.8302166623678102%\n",
      "0.8382770183131287%\n",
      "0.8463373742584472%\n",
      "0.8543977302037659%\n",
      "0.8624580861490844%\n",
      "0.8705184420944029%\n",
      "0.8785787980397215%\n",
      "0.88663915398504%\n",
      "0.8946995099303585%\n",
      "0.9027598658756771%\n",
      "0.9108202218209956%\n",
      "0.9188805777663142%\n",
      "0.9269409337116328%\n",
      "0.9350012896569513%\n",
      "0.9430616456022698%\n",
      "0.9511220015475883%\n",
      "0.9591823574929069%\n",
      "0.9672427134382254%\n",
      "0.9753030693835439%\n",
      "0.9833634253288626%\n",
      "0.9914237812741811%\n",
      "0.9994841372194996%\n",
      "1.007544493164818%\n",
      "1.0156048491101366%\n",
      "1.0236652050554553%\n",
      "1.0317255610007738%\n",
      "1.0397859169460923%\n",
      "1.0478462728914109%\n",
      "1.0559066288367294%\n",
      "1.0639669847820479%\n",
      "1.0720273407273666%\n",
      "1.0800876966726851%\n",
      "1.0881480526180036%\n",
      "1.0962084085633221%\n",
      "1.1042687645086406%\n",
      "1.1123291204539592%\n",
      "1.1203894763992777%\n",
      "1.1284498323445964%\n",
      "1.136510188289915%\n",
      "1.1445705442352334%\n",
      "1.152630900180552%\n",
      "1.1606912561258704%\n",
      "1.168751612071189%\n",
      "1.1768119680165077%\n",
      "1.1848723239618262%\n",
      "1.1929326799071447%\n",
      "1.2009930358524632%\n",
      "1.2090533917977817%\n",
      "1.2171137477431002%\n",
      "1.225174103688419%\n",
      "1.2332344596337375%\n",
      "1.241294815579056%\n",
      "1.2493551715243745%\n",
      "1.257415527469693%\n",
      "1.2654758834150115%\n",
      "1.27353623936033%\n",
      "1.2815965953056487%\n",
      "1.2896569512509672%\n",
      "1.2977173071962858%\n",
      "1.3057776631416043%\n",
      "1.3138380190869228%\n",
      "1.3218983750322413%\n",
      "1.32995873097756%\n",
      "1.3380190869228785%\n",
      "1.346079442868197%\n",
      "1.3541397988135155%\n",
      "1.362200154758834%\n",
      "1.3702605107041526%\n",
      "1.3783208666494713%\n",
      "1.3863812225947898%\n",
      "1.3944415785401083%\n",
      "1.4025019344854268%\n",
      "1.4105622904307453%\n",
      "1.4186226463760638%\n",
      "1.4266830023213823%\n",
      "1.434743358266701%\n",
      "1.4428037142120196%\n",
      "1.450864070157338%\n",
      "1.4589244261026566%\n",
      "1.4669847820479751%\n",
      "1.4750451379932936%\n",
      "1.4831054939386124%\n",
      "1.4911658498839309%\n",
      "1.4992262058292494%\n",
      "1.5072865617745679%\n",
      "1.5153469177198866%\n",
      "1.5234072736652051%\n",
      "1.5314676296105236%\n",
      "1.5395279855558421%\n",
      "1.5475883415011609%\n",
      "1.5556486974464794%\n",
      "1.5637090533917979%\n",
      "1.5717694093371162%\n",
      "1.579829765282435%\n",
      "1.5878901212277534%\n",
      "1.595950477173072%\n",
      "1.6040108331183904%\n",
      "1.6120711890637092%\n",
      "1.6201315450090275%\n",
      "1.6281919009543462%\n",
      "1.6362522568996645%\n",
      "1.6443126128449832%\n",
      "1.6523729687903017%\n",
      "1.6604333247356204%\n",
      "1.6684936806809387%\n",
      "1.6765540366262575%\n",
      "1.6846143925715757%\n",
      "1.6926747485168945%\n",
      "1.700735104462213%\n",
      "1.7087954604075317%\n",
      "1.71685581635285%\n",
      "1.7249161722981687%\n",
      "1.732976528243487%\n",
      "1.7410368841888058%\n",
      "1.7490972401341243%\n",
      "1.757157596079443%\n",
      "1.7652179520247613%\n",
      "1.77327830797008%\n",
      "1.7813386639153983%\n",
      "1.789399019860717%\n",
      "1.7974593758060355%\n",
      "1.8055197317513543%\n",
      "1.8135800876966726%\n",
      "1.8216404436419913%\n",
      "1.8297007995873096%\n",
      "1.8377611555326283%\n",
      "1.8458215114779468%\n",
      "1.8538818674232656%\n",
      "1.8619422233685838%\n",
      "1.8700025793139026%\n",
      "1.8780629352592209%\n",
      "1.8861232912045396%\n",
      "1.894183647149858%\n",
      "1.9022440030951766%\n",
      "1.9103043590404951%\n",
      "1.9183647149858138%\n",
      "1.9264250709311321%\n",
      "1.9344854268764509%\n",
      "1.9425457828217692%\n",
      "1.9506061387670879%\n",
      "1.9586664947124064%\n",
      "1.9667268506577251%\n",
      "1.9747872066030434%\n",
      "1.9828475625483621%\n",
      "1.9909079184936804%\n",
      "1.9989682744389992%\n",
      "2.0070286303843177%\n",
      "2.015088986329636%\n",
      "2.023149342274955%\n",
      "2.031209698220273%\n",
      "2.039270054165592%\n",
      "2.0473304101109107%\n",
      "2.055390766056229%\n",
      "2.0634511220015477%\n",
      "2.071511477946866%\n",
      "2.0795718338921847%\n",
      "2.087632189837503%\n",
      "2.0956925457828217%\n",
      "2.1037529017281407%\n",
      "2.1118132576734587%\n",
      "2.1198736136187777%\n",
      "2.1279339695640958%\n",
      "2.1359943255094147%\n",
      "2.144054681454733%\n",
      "2.1521150374000517%\n",
      "2.1601753933453702%\n",
      "2.1682357492906887%\n",
      "2.1762961052360073%\n",
      "2.1843564611813258%\n",
      "2.1924168171266443%\n",
      "2.200477173071963%\n",
      "2.2085375290172813%\n",
      "2.2165978849626002%\n",
      "2.2246582409079183%\n",
      "2.2327185968532373%\n",
      "2.2407789527985553%\n",
      "2.2488393087438743%\n",
      "2.256899664689193%\n",
      "2.2649600206345113%\n",
      "2.27302037657983%\n",
      "2.2810807325251483%\n",
      "2.289141088470467%\n",
      "2.2972014444157853%\n",
      "2.305261800361104%\n",
      "2.313322156306423%\n",
      "2.321382512251741%\n",
      "2.32944286819706%\n",
      "2.337503224142378%\n",
      "2.345563580087697%\n",
      "2.3536239360330153%\n",
      "2.361684291978334%\n",
      "2.3697446479236524%\n",
      "2.377805003868971%\n",
      "2.3858653598142894%\n",
      "2.393925715759608%\n",
      "2.4019860717049264%\n",
      "2.4100464276502453%\n"
     ]
    }
   ],
   "source": [
    "from tensorflow import keras \n",
    "photon_final_nn = []\n",
    "threshold = 0.5\n",
    "for i, x_ in enumerate(xc[:3000]):\n",
    "    if i%10 == 0:\n",
    "        print(\"{}%\".format(i/len(xc) * 100))\n",
    "    x_ = np.array([x_])\n",
    "    classification = model_class.predict(np.stack(x_))\n",
    "    if classification >= threshold:\n",
    "        regr_x = np.array([x_[0,:6]])\n",
    "        regr_result = model_regr.predict(regr_x)\n",
    "        photon_final_nn.append(np.linalg.norm(regr_result[0]))"
   ]
  },
  {
   "cell_type": "code",
   "execution_count": 163,
   "metadata": {},
   "outputs": [
    {
     "data": {
      "image/png": "[encoded data removed]",
      "text/plain": [
       "<Figure size 432x288 with 1 Axes>"
      ]
     },
     "metadata": {
      "needs_background": "light"
     },
     "output_type": "display_data"
    }
   ],
   "source": [
    "energy_spectrum(photon_final_nn, 75)"
   ]
  },
  {
   "cell_type": "code",
   "execution_count": 167,
   "metadata": {},
   "outputs": [
    {
     "data": {
      "image/png": "[encoded data removed]",
      "text/plain": [
       "<Figure size 432x288 with 1 Axes>"
      ]
     },
     "metadata": {
      "needs_background": "light"
     },
     "output_type": "display_data"
    }
   ],
   "source": [
    "energy_spectrum(final_p, 75)"
   ]
  },
  {
   "cell_type": "code",
   "execution_count": 165,
   "metadata": {},
   "outputs": [
    {
     "data": {
      "image/png": "[encoded data removed]",
      "text/plain": [
       "<Figure size 432x288 with 1 Axes>"
      ]
     },
     "metadata": {
      "needs_background": "light"
     },
     "output_type": "display_data"
    }
   ],
   "source": [
    "# fixed bin size\n",
    "#bins = np.arange(0., 100, 100) \n",
    "\n",
    "plt.hist(photon_final_nn, 1000, alpha=0.5, label='NN prediction')\n",
    "plt.hist(final_p, 1000, alpha=0.5, label='Photon Momentum from simulations')\n",
    "plt.xlabel('Photon Momentum')\n",
    "plt.ylabel('count')\n",
    "plt.legend(loc='upper right')\n",
    "plt.xlim((0, 0.25))\n",
    "plt.ylim((0, 1000))\n",
    "plt.show()"
   ]
  },
  {
   "cell_type": "code",
   "execution_count": 166,
   "metadata": {},
   "outputs": [
    {
     "data": {
      "text/plain": [
       "(array([ 1.,  0.,  0.,  0.,  0.,  0.,  0.,  0.,  0.,  0.,  0.,  0.,  0.,\n",
       "         0.,  0.,  0.,  0.,  0.,  0.,  0.,  0.,  0.,  1.,  0.,  0.,  0.,\n",
       "         0.,  0.,  0.,  0.,  0.,  0.,  0.,  0.,  0.,  0.,  0.,  1.,  0.,\n",
       "         0.,  0.,  1.,  0.,  0.,  0.,  0.,  0.,  0.,  0.,  0.,  0.,  0.,\n",
       "         0.,  0.,  0.,  1.,  0.,  1.,  0.,  0.,  0.,  0.,  1.,  0.,  0.,\n",
       "         0.,  0.,  0.,  0.,  1.,  1.,  0.,  0.,  0.,  2.,  0.,  0.,  0.,\n",
       "         0.,  0.,  0.,  1.,  1.,  0.,  0.,  0.,  0.,  0.,  0.,  0.,  0.,\n",
       "         0.,  0.,  1.,  0.,  0.,  0.,  0.,  0.,  0.,  0.,  0.,  0.,  0.,\n",
       "         2.,  2.,  0.,  0.,  0.,  0.,  0.,  0.,  0.,  0.,  0.,  2.,  1.,\n",
       "         3.,  0.,  0.,  0.,  2.,  0.,  0.,  0.,  0.,  1.,  0.,  0.,  0.,\n",
       "         3.,  0.,  0.,  0.,  0.,  0.,  0.,  0.,  0.,  0.,  1.,  0.,  1.,\n",
       "         0.,  1.,  0.,  0.,  0.,  0.,  1.,  1.,  1.,  0.,  0.,  0.,  0.,\n",
       "         1.,  1.,  1.,  0.,  0.,  0.,  0.,  0.,  3.,  2.,  0.,  0.,  1.,\n",
       "         0.,  1.,  1.,  4.,  0.,  0.,  1.,  2.,  0.,  0.,  0.,  0.,  0.,\n",
       "         2.,  2.,  0.,  0.,  0.,  2.,  2.,  1.,  1.,  1.,  1.,  0.,  3.,\n",
       "         0.,  0.,  0.,  0.,  1.,  0.,  0.,  0.,  0.,  1.,  0.,  1.,  1.,\n",
       "         0.,  1.,  1.,  0.,  0.,  1.,  3.,  3.,  3.,  1.,  1.,  1.,  1.,\n",
       "         1.,  1.,  0.,  3.,  3.,  2.,  1.,  2.,  3.,  1.,  0.,  1.,  1.,\n",
       "         0.,  2.,  0.,  0.,  1.,  0.,  1.,  1.,  2.,  1.,  2.,  7.,  4.,\n",
       "         1.,  1.,  0.,  2.,  0.,  1.,  1.,  1.,  2.,  4.,  2.,  0.,  6.,\n",
       "         1.,  0.,  1.,  2.,  0.,  3.,  1.,  2.,  2.,  2.,  0.,  2.,  4.,\n",
       "         3.,  0.,  2.,  3.,  0.,  2.,  4.,  1.,  2.,  2.,  1.,  2.,  2.,\n",
       "         0.,  0.,  1.,  0.,  1.,  1.,  5.,  2.,  4.,  2.,  0.,  4.,  5.,\n",
       "         3.,  2.,  2.,  2.,  2.,  2.,  3.,  5.,  6.,  4.,  6.,  4.,  4.,\n",
       "         1.,  5.,  3.,  3.,  1.,  2.,  2.,  3.,  0.,  6.,  2.,  0.,  1.,\n",
       "         2.,  2.,  1.,  2.,  1.,  4.,  4.,  2.,  7.,  0.,  1.,  2.,  3.,\n",
       "         2.,  3.,  4.,  2.,  1.,  1.,  0.,  2.,  4.,  1.,  5.,  3.,  5.,\n",
       "         2.,  2.,  2.,  4.,  5.,  2.,  5.,  3.,  2.,  6.,  2.,  3.,  2.,\n",
       "         7.,  5.,  4.,  4.,  4.,  5.,  4.,  3.,  8.,  1.,  0.,  2.,  4.,\n",
       "         3.,  4.,  1.,  4.,  3.,  5.,  7.,  4.,  3.,  6.,  1.,  4.,  1.,\n",
       "         1.,  7.,  2.,  6.,  5.,  4.,  3.,  1.,  4.,  8.,  6.,  3.,  2.,\n",
       "         2.,  8.,  5.,  2.,  3.,  4.,  4.,  5.,  2.,  1.,  5.,  4.,  1.,\n",
       "         3.,  4.,  4.,  3.,  5.,  2.,  4.,  2.,  4.,  3.,  3.,  3.,  6.,\n",
       "         3.,  3.,  2.,  2.,  5.,  9.,  3.,  2.,  3.,  7.,  6.,  6.,  5.,\n",
       "         2.,  8.,  3.,  7.,  3.,  1.,  3.,  3.,  3.,  2.,  4.,  4.,  2.,\n",
       "         2.,  2.,  4.,  2.,  2., 10.,  4.,  6.,  3.,  3.,  5.,  6.,  8.,\n",
       "         2.,  8.,  3.,  3.,  4.,  4.,  3.,  3.,  5.,  2.,  2.,  7.,  3.,\n",
       "         7.,  6.,  5.,  4.,  7.,  4.,  3.,  8.,  4.,  4.,  7.,  2.,  5.,\n",
       "         1.,  5.,  7.,  4.,  3.,  6.,  6.,  4.,  3.,  8.,  6.,  7.,  3.,\n",
       "         0.,  5.,  5., 10.,  7., 11.,  3.,  9.,  5.,  9.,  8.,  8.,  8.,\n",
       "         7.,  3.,  2.,  8.,  8.,  5.,  2.,  6., 11.,  3.,  4.,  6.,  3.,\n",
       "         3.,  6.,  1.,  5.,  4., 10.,  6.,  8.,  7.,  4.,  3., 14.,  6.,\n",
       "         4.,  4.,  4.,  3.,  4.,  7.,  3., 10.,  5.,  6.,  9.,  6.,  5.,\n",
       "         8.,  9.,  9.,  9.,  2.,  3.,  8.,  7.,  7.,  6.,  2.,  3.,  8.,\n",
       "        10.,  9.,  5.,  4.,  8.,  6.,  4.,  8.,  3., 10., 11.,  5.,  7.,\n",
       "         8.,  6.,  6., 13.,  7.,  9.,  4.,  7., 12., 10., 11.,  4., 10.,\n",
       "         6.,  5.,  8.,  7.,  9.,  6.,  7.,  5.,  4., 10.,  7.,  3., 13.,\n",
       "         7.,  7.,  5.,  5.,  7.,  8.,  8.,  6., 10.,  7.,  3.,  4.,  4.,\n",
       "         3.,  5.,  4., 10.,  7., 11., 10., 10.,  1.,  7., 10.,  5.,  5.,\n",
       "         7.,  6.,  8.,  6.,  5.,  9.,  5.,  4.,  4.,  5.,  6.,  3.,  4.,\n",
       "         6.,  5.,  5.,  3.,  7.,  7.,  5., 11.,  9.,  6.,  2.,  9., 13.,\n",
       "         5.,  5.,  7.,  5.,  5.,  5.,  7.,  5., 10.,  1.,  3.,  4.,  1.,\n",
       "         3.,  3.,  9.,  7.,  7.,  2.,  3.,  7.,  5.,  5.,  4.,  3.,  4.,\n",
       "         9.,  4.,  6.,  5.,  5.,  9.,  4.,  5.,  4., 11., 11.,  5.,  7.,\n",
       "         4.,  6.,  4.,  6.,  7.,  5.,  4., 13.,  1.,  7.,  5.,  7.,  3.,\n",
       "        10.,  4.,  3., 11.,  7.,  7.,  4., 10.,  6.,  4.,  5.,  2.,  7.,\n",
       "         5.,  7.,  5.,  6.,  7.,  5., 10.,  7.,  3.,  6.,  3.,  6.,  2.,\n",
       "         3.,  5.,  4.,  2.,  5.,  3.,  4.,  7.,  4.,  2.,  7.,  8.,  4.,\n",
       "         3.,  5.,  3.,  4.,  3.,  4.,  9.,  3.,  1.,  7.,  4.,  1.,  5.,\n",
       "         3.,  2.,  5.,  4.,  3.,  6.,  2.,  4.,  2.,  6.,  4.,  6.,  4.,\n",
       "         5.,  2.,  1.,  3.,  8.,  6.,  7.,  6.,  4.,  5.,  4.,  2.,  3.,\n",
       "         3.,  5.,  8.,  2.,  2.,  2.,  5.,  3.,  4.,  2.,  3.,  1.,  2.,\n",
       "         2.,  4.,  2.,  4.,  4.,  6.,  7.,  4.,  5.,  0.,  1.,  5.,  1.,\n",
       "         1.,  1.,  1.,  4.,  5.,  4.,  3.,  2.,  2.,  2.,  3.,  3.,  5.,\n",
       "         3.,  5.,  1.,  2.,  1.,  1.,  5.,  4.,  7.,  4.,  2.,  2.,  1.,\n",
       "         1.,  3.,  2.,  3.,  2.,  0.,  2.,  0.,  5.,  1.,  1.,  1.,  1.,\n",
       "         1.,  3.,  0.,  1.,  0.,  0.,  0.,  2.,  1.,  3.,  0.,  0.,  1.,\n",
       "         0.,  0.,  1.,  1.,  1.,  0.,  1.,  1.,  0.,  0.,  0.,  0.,  0.,\n",
       "         2.,  3.,  0.,  1.,  1.,  1.,  0.,  3.,  1.,  0.,  2.,  5.,  1.,\n",
       "         0.,  0.,  0.,  2.,  2.,  0.,  1.,  0.,  1.,  1.,  1.,  1.,  0.,\n",
       "         3.,  0.,  3.,  1.,  2.,  2.,  0.,  0.,  0.,  0.,  2.,  0.,  2.,\n",
       "         1.,  0.,  0.,  0.,  0.,  1.,  1.,  0.,  0.,  1.,  0.,  0.,  0.,\n",
       "         0.,  0.,  1.,  0.,  0.,  0.,  0.,  0.,  1.,  2.,  0.,  0.,  0.,\n",
       "         0.,  0.,  1.,  0.,  0.,  1.,  0.,  2.,  0.,  0.,  0.,  0.,  1.,\n",
       "         0.,  0.,  0.,  0.,  0.,  0.,  1.,  0.,  0.,  0.,  3.,  0.,  0.,\n",
       "         0.,  0.,  0.,  0.,  1.,  0.,  0.,  1.,  0.,  1.,  0.,  0.,  0.,\n",
       "         0.,  0.,  0.,  0.,  0.,  1.,  0.,  0.,  0.,  1.,  0.,  1.]),\n",
       " array([4.79679621e-05, 4.90624001e-05, 5.01568381e-05, ...,\n",
       "        1.14021705e-03, 1.14131148e-03, 1.14240592e-03]),\n",
       " <BarContainer object of 1000 artists>)"
      ]
     },
     "execution_count": 166,
     "metadata": {},
     "output_type": "execute_result"
    },
    {
     "data": {
      "image/png": "[encoded data removed]",
      "text/plain": [
       "<Figure size 432x288 with 2 Axes>"
      ]
     },
     "metadata": {
      "needs_background": "light"
     },
     "output_type": "display_data"
    }
   ],
   "source": [
    "fig, axs = plt.subplots(2)\n",
    "fig.suptitle('Vertically stacked subplots')\n",
    "plt.hist(photon_final_nn, 100, alpha=0.5, label='NN prediction')\n",
    "plt.hist(final_p, 1000, alpha=0.5, label='Photon Momentum from simulations')"
   ]
  },
  {
   "cell_type": "code",
   "execution_count": null,
   "metadata": {},
   "outputs": [],
   "source": []
  },
  {
   "cell_type": "code",
   "execution_count": null,
   "metadata": {},
   "outputs": [],
   "source": []
  },
  {
   "cell_type": "code",
   "execution_count": null,
   "metadata": {},
   "outputs": [],
   "source": []
  }
 ],
 "metadata": {
  "kernelspec": {
   "display_name": "Python 3",
   "language": "python",
   "name": "python3"
  },
  "language_info": {
   "codemirror_mode": {
    "name": "ipython",
    "version": 3
   },
   "file_extension": ".py",
   "mimetype": "text/x-python",
   "name": "python",
   "nbconvert_exporter": "python",
   "pygments_lexer": "ipython3",
   "version": "3.7.7"
  }
 },
 "nbformat": 4,
 "nbformat_minor": 4
}
