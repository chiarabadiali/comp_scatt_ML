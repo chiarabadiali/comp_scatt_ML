{
 "cells": [
  {
   "cell_type": "code",
   "execution_count": 1,
   "metadata": {},
   "outputs": [
    {
     "name": "stdout",
     "output_type": "stream",
     "text": [
      "1.2.0\n"
     ]
    }
   ],
   "source": [
    "import pandas as pd \n",
    "import numpy as np\n",
    "import math\n",
    "import tensorflow as tf\n",
    "print(pd.__version__)"
   ]
  },
  {
   "cell_type": "markdown",
   "metadata": {},
   "source": [
    "## Print Dependencies\n",
    "\n",
    "\n",
    "\n",
    "Dependences are fundamental to record the computational environment."
   ]
  },
  {
   "cell_type": "code",
   "execution_count": 2,
   "metadata": {},
   "outputs": [
    {
     "name": "stdout",
     "output_type": "stream",
     "text": [
      "Python implementation: CPython\n",
      "Python version       : 3.7.7\n",
      "IPython version      : 7.19.0\n",
      "\n",
      "pandas    : 1.2.0\n",
      "keras     : 2.4.3\n",
      "numpy     : 1.19.5\n",
      "math      : unknown\n",
      "tensorflow: 2.4.0\n",
      "matplotlib: 3.3.3\n",
      "h5py      : 2.10.0\n",
      "\n",
      "Compiler    : GCC 5.4.0 20160609\n",
      "OS          : Linux\n",
      "Release     : 5.8.0-38-generic\n",
      "Machine     : x86_64\n",
      "Processor   : x86_64\n",
      "CPU cores   : 8\n",
      "Architecture: 64bit\n",
      "\n",
      " \n",
      "Last updated: Tue Jan 19 2021 17:41:22CET\n",
      "\n"
     ]
    }
   ],
   "source": [
    "%load_ext watermark\n",
    "\n",
    "# python, ipython, packages, and machine characteristics\n",
    "%watermark -v -m -p pandas,keras,numpy,math,tensorflow,matplotlib,h5py\n",
    "\n",
    "# date\n",
    "print (\" \")\n",
    "%watermark -u -n -t -z"
   ]
  },
  {
   "cell_type": "markdown",
   "metadata": {},
   "source": [
    "## Load of the data"
   ]
  },
  {
   "cell_type": "code",
   "execution_count": 3,
   "metadata": {},
   "outputs": [],
   "source": [
    "regen_data = True \n",
    "# If we keep it as false, it's going to just load the data. If true it's going to regenerate the data again "
   ]
  },
  {
   "cell_type": "code",
   "execution_count": 4,
   "metadata": {},
   "outputs": [],
   "source": [
    "if regen_data:\n",
    "    from process import load_generate_data\n",
    "    from process import savedata\n",
    "    regr_data, class_data = load_generate_data(0.1, 5)\n",
    "    savedata(regr_data, \"regression_data.csv\")"
   ]
  },
  {
   "cell_type": "code",
   "execution_count": 5,
   "metadata": {},
   "outputs": [],
   "source": [
    "if not regen_data:\n",
    "    from process import loaddata\n",
    "    regr_data = loaddata(\"regression_data.csv\")"
   ]
  },
  {
   "cell_type": "code",
   "execution_count": 6,
   "metadata": {},
   "outputs": [],
   "source": [
    "np.random.shuffle(regr_data)\n",
    "y = regr_data[:,-6:]\n",
    "x = regr_data[:,:5]"
   ]
  },
  {
   "cell_type": "code",
   "execution_count": 7,
   "metadata": {},
   "outputs": [
    {
     "name": "stdout",
     "output_type": "stream",
     "text": [
      "Training sample: 2118 \n",
      "Valuation sample: 706\n"
     ]
    }
   ],
   "source": [
    "train_split = 0.75\n",
    "train_limit = int(len(y)*train_split)\n",
    "print(\"Training sample: {0} \\nValuation sample: {1}\".format(train_limit, len(y)-train_limit))"
   ]
  },
  {
   "cell_type": "code",
   "execution_count": 8,
   "metadata": {},
   "outputs": [
    {
     "data": {
      "text/plain": [
       "(2824, 5)"
      ]
     },
     "execution_count": 8,
     "metadata": {},
     "output_type": "execute_result"
    }
   ],
   "source": [
    "x.shape"
   ]
  },
  {
   "cell_type": "code",
   "execution_count": 9,
   "metadata": {},
   "outputs": [],
   "source": [
    "x_train = x[:train_limit]\n",
    "x_val = x[train_limit:]\n",
    "\n",
    "y_train = y[:train_limit]\n",
    "y_val = y[train_limit:]"
   ]
  },
  {
   "cell_type": "markdown",
   "metadata": {},
   "source": [
    "## Model Build"
   ]
  },
  {
   "cell_type": "code",
   "execution_count": 10,
   "metadata": {},
   "outputs": [],
   "source": [
    "from keras.models import Sequential\n",
    "from keras.layers.core import Dense\n",
    "import keras.backend as K\n",
    "from keras import optimizers\n",
    "from keras import models\n",
    "from keras import layers"
   ]
  },
  {
   "cell_type": "code",
   "execution_count": 21,
   "metadata": {},
   "outputs": [],
   "source": [
    "def build_model() :\n",
    "    model = models.Sequential()\n",
    "    model.add (layers.Dense (6, activation = \"sigmoid\" , input_shape = x.shape))\n",
    "    model.add(layers.Dropout(0.2))\n",
    "    model.add (layers.Dense (8, activation = \"relu\"))\n",
    "    model.add(layers.Dropout(0.2))\n",
    "    model.add (layers.Dense (6))\n",
    "    model.compile(optimizer = \"rmsprop\" , loss = \"mse\" , metrics =[\"mae\"])\n",
    "    return model"
   ]
  },
  {
   "cell_type": "code",
   "execution_count": 22,
   "metadata": {},
   "outputs": [
    {
     "name": "stdout",
     "output_type": "stream",
     "text": [
      "Epoch 1/60\n",
      "WARNING:tensorflow:Model was constructed with shape (None, 2824, 5) for input KerasTensor(type_spec=TensorSpec(shape=(None, 2824, 5), dtype=tf.float32, name='dense_6_input'), name='dense_6_input', description=\"created by layer 'dense_6_input'\"), but it was called on an input with incompatible shape (None, 5).\n",
      "WARNING:tensorflow:Model was constructed with shape (None, 2824, 5) for input KerasTensor(type_spec=TensorSpec(shape=(None, 2824, 5), dtype=tf.float32, name='dense_6_input'), name='dense_6_input', description=\"created by layer 'dense_6_input'\"), but it was called on an input with incompatible shape (None, 5).\n",
      "1/3 [=========>....................] - ETA: 1s - loss: 0.6537 - mae: 0.6460WARNING:tensorflow:Model was constructed with shape (None, 2824, 5) for input KerasTensor(type_spec=TensorSpec(shape=(None, 2824, 5), dtype=tf.float32, name='dense_6_input'), name='dense_6_input', description=\"created by layer 'dense_6_input'\"), but it was called on an input with incompatible shape (None, 5).\n",
      "3/3 [==============================] - 1s 97ms/step - loss: 0.6288 - mae: 0.6306 - val_loss: 0.4218 - val_mae: 0.5277\n",
      "Epoch 2/60\n",
      "3/3 [==============================] - 0s 22ms/step - loss: 0.5200 - mae: 0.5641 - val_loss: 0.3732 - val_mae: 0.4925\n",
      "Epoch 3/60\n",
      "3/3 [==============================] - 0s 28ms/step - loss: 0.4740 - mae: 0.5376 - val_loss: 0.3376 - val_mae: 0.4649\n",
      "Epoch 4/60\n",
      "3/3 [==============================] - 0s 33ms/step - loss: 0.4420 - mae: 0.5165 - val_loss: 0.3079 - val_mae: 0.4401\n",
      "Epoch 5/60\n",
      "3/3 [==============================] - 0s 34ms/step - loss: 0.4082 - mae: 0.4915 - val_loss: 0.2821 - val_mae: 0.4187\n",
      "Epoch 6/60\n",
      "3/3 [==============================] - 0s 32ms/step - loss: 0.3689 - mae: 0.4653 - val_loss: 0.2597 - val_mae: 0.3980\n",
      "Epoch 7/60\n",
      "3/3 [==============================] - 0s 36ms/step - loss: 0.3499 - mae: 0.4523 - val_loss: 0.2374 - val_mae: 0.3765\n",
      "Epoch 8/60\n",
      "3/3 [==============================] - 0s 32ms/step - loss: 0.3255 - mae: 0.4335 - val_loss: 0.2186 - val_mae: 0.3591\n",
      "Epoch 9/60\n",
      "3/3 [==============================] - 0s 29ms/step - loss: 0.3083 - mae: 0.4210 - val_loss: 0.2001 - val_mae: 0.3385\n",
      "Epoch 10/60\n",
      "3/3 [==============================] - 0s 35ms/step - loss: 0.2815 - mae: 0.4000 - val_loss: 0.1841 - val_mae: 0.3211\n",
      "Epoch 11/60\n",
      "3/3 [==============================] - 0s 30ms/step - loss: 0.2759 - mae: 0.3942 - val_loss: 0.1689 - val_mae: 0.3043\n",
      "Epoch 12/60\n",
      "3/3 [==============================] - 0s 31ms/step - loss: 0.2541 - mae: 0.3785 - val_loss: 0.1558 - val_mae: 0.2897\n",
      "Epoch 13/60\n",
      "3/3 [==============================] - 0s 29ms/step - loss: 0.2399 - mae: 0.3655 - val_loss: 0.1428 - val_mae: 0.2730\n",
      "Epoch 14/60\n",
      "3/3 [==============================] - 0s 31ms/step - loss: 0.2198 - mae: 0.3482 - val_loss: 0.1321 - val_mae: 0.2602\n",
      "Epoch 15/60\n",
      "3/3 [==============================] - 0s 28ms/step - loss: 0.2132 - mae: 0.3436 - val_loss: 0.1206 - val_mae: 0.2452\n",
      "Epoch 16/60\n",
      "3/3 [==============================] - 0s 33ms/step - loss: 0.1960 - mae: 0.3281 - val_loss: 0.1110 - val_mae: 0.2323\n",
      "Epoch 17/60\n",
      "3/3 [==============================] - 0s 33ms/step - loss: 0.1909 - mae: 0.3224 - val_loss: 0.1020 - val_mae: 0.2204\n",
      "Epoch 18/60\n",
      "3/3 [==============================] - 0s 33ms/step - loss: 0.1764 - mae: 0.3102 - val_loss: 0.0935 - val_mae: 0.2089\n",
      "Epoch 19/60\n",
      "3/3 [==============================] - 0s 33ms/step - loss: 0.1687 - mae: 0.3009 - val_loss: 0.0855 - val_mae: 0.1969\n",
      "Epoch 20/60\n",
      "3/3 [==============================] - 0s 25ms/step - loss: 0.1581 - mae: 0.2918 - val_loss: 0.0789 - val_mae: 0.1891\n",
      "Epoch 21/60\n",
      "3/3 [==============================] - 0s 26ms/step - loss: 0.1446 - mae: 0.2781 - val_loss: 0.0725 - val_mae: 0.1804\n",
      "Epoch 22/60\n",
      "3/3 [==============================] - 0s 28ms/step - loss: 0.1375 - mae: 0.2724 - val_loss: 0.0662 - val_mae: 0.1699\n",
      "Epoch 23/60\n",
      "3/3 [==============================] - 0s 29ms/step - loss: 0.1272 - mae: 0.2610 - val_loss: 0.0609 - val_mae: 0.1636\n",
      "Epoch 24/60\n",
      "3/3 [==============================] - 0s 31ms/step - loss: 0.1167 - mae: 0.2491 - val_loss: 0.0551 - val_mae: 0.1521\n",
      "Epoch 25/60\n",
      "3/3 [==============================] - 0s 26ms/step - loss: 0.1109 - mae: 0.2429 - val_loss: 0.0499 - val_mae: 0.1433\n",
      "Epoch 26/60\n",
      "3/3 [==============================] - 0s 28ms/step - loss: 0.1070 - mae: 0.2374 - val_loss: 0.0450 - val_mae: 0.1368\n",
      "Epoch 27/60\n",
      "3/3 [==============================] - 0s 34ms/step - loss: 0.0997 - mae: 0.2304 - val_loss: 0.0405 - val_mae: 0.1300\n",
      "Epoch 28/60\n",
      "3/3 [==============================] - 0s 31ms/step - loss: 0.0914 - mae: 0.2199 - val_loss: 0.0366 - val_mae: 0.1245\n",
      "Epoch 29/60\n",
      "3/3 [==============================] - 0s 30ms/step - loss: 0.0879 - mae: 0.2175 - val_loss: 0.0330 - val_mae: 0.1189\n",
      "Epoch 30/60\n",
      "3/3 [==============================] - 0s 30ms/step - loss: 0.0800 - mae: 0.2071 - val_loss: 0.0291 - val_mae: 0.1112\n",
      "Epoch 31/60\n",
      "3/3 [==============================] - 0s 29ms/step - loss: 0.0775 - mae: 0.2043 - val_loss: 0.0261 - val_mae: 0.1064\n",
      "Epoch 32/60\n",
      "3/3 [==============================] - 0s 25ms/step - loss: 0.0728 - mae: 0.1978 - val_loss: 0.0231 - val_mae: 0.1009\n",
      "Epoch 33/60\n",
      "3/3 [==============================] - 0s 28ms/step - loss: 0.0661 - mae: 0.1882 - val_loss: 0.0204 - val_mae: 0.0957\n",
      "Epoch 34/60\n",
      "3/3 [==============================] - 0s 24ms/step - loss: 0.0618 - mae: 0.1817 - val_loss: 0.0177 - val_mae: 0.0891\n",
      "Epoch 35/60\n",
      "3/3 [==============================] - 0s 28ms/step - loss: 0.0566 - mae: 0.1734 - val_loss: 0.0153 - val_mae: 0.0842\n",
      "Epoch 36/60\n",
      "3/3 [==============================] - 0s 28ms/step - loss: 0.0529 - mae: 0.1691 - val_loss: 0.0135 - val_mae: 0.0815\n",
      "Epoch 37/60\n",
      "3/3 [==============================] - 0s 32ms/step - loss: 0.0492 - mae: 0.1618 - val_loss: 0.0116 - val_mae: 0.0778\n",
      "Epoch 38/60\n",
      "3/3 [==============================] - 0s 29ms/step - loss: 0.0457 - mae: 0.1567 - val_loss: 0.0101 - val_mae: 0.0740\n",
      "Epoch 39/60\n",
      "3/3 [==============================] - 0s 23ms/step - loss: 0.0440 - mae: 0.1528 - val_loss: 0.0085 - val_mae: 0.0688\n",
      "Epoch 40/60\n",
      "3/3 [==============================] - 0s 23ms/step - loss: 0.0419 - mae: 0.1491 - val_loss: 0.0073 - val_mae: 0.0654\n",
      "Epoch 41/60\n",
      "3/3 [==============================] - 0s 26ms/step - loss: 0.0380 - mae: 0.1405 - val_loss: 0.0061 - val_mae: 0.0612\n",
      "Epoch 42/60\n",
      "3/3 [==============================] - 0s 23ms/step - loss: 0.0364 - mae: 0.1375 - val_loss: 0.0050 - val_mae: 0.0570\n",
      "Epoch 43/60\n",
      "3/3 [==============================] - 0s 24ms/step - loss: 0.0339 - mae: 0.1324 - val_loss: 0.0042 - val_mae: 0.0532\n",
      "Epoch 44/60\n",
      "3/3 [==============================] - 0s 23ms/step - loss: 0.0303 - mae: 0.1247 - val_loss: 0.0034 - val_mae: 0.0495\n",
      "Epoch 45/60\n",
      "3/3 [==============================] - 0s 25ms/step - loss: 0.0290 - mae: 0.1215 - val_loss: 0.0028 - val_mae: 0.0455\n",
      "Epoch 46/60\n",
      "3/3 [==============================] - 0s 28ms/step - loss: 0.0246 - mae: 0.1116 - val_loss: 0.0025 - val_mae: 0.0438\n",
      "Epoch 47/60\n",
      "3/3 [==============================] - 0s 24ms/step - loss: 0.0239 - mae: 0.1091 - val_loss: 0.0019 - val_mae: 0.0374\n",
      "Epoch 48/60\n",
      "3/3 [==============================] - 0s 23ms/step - loss: 0.0221 - mae: 0.1050 - val_loss: 0.0018 - val_mae: 0.0353\n",
      "Epoch 49/60\n",
      "3/3 [==============================] - 0s 27ms/step - loss: 0.0216 - mae: 0.1027 - val_loss: 0.0016 - val_mae: 0.0328\n",
      "Epoch 50/60\n",
      "3/3 [==============================] - 0s 22ms/step - loss: 0.0203 - mae: 0.0992 - val_loss: 0.0015 - val_mae: 0.0331\n",
      "Epoch 51/60\n",
      "3/3 [==============================] - 0s 21ms/step - loss: 0.0192 - mae: 0.0971 - val_loss: 0.0016 - val_mae: 0.0357\n",
      "Epoch 52/60\n",
      "3/3 [==============================] - 0s 19ms/step - loss: 0.0171 - mae: 0.0910 - val_loss: 0.0013 - val_mae: 0.0331\n",
      "Epoch 53/60\n",
      "3/3 [==============================] - 0s 23ms/step - loss: 0.0163 - mae: 0.0881 - val_loss: 0.0012 - val_mae: 0.0328\n",
      "Epoch 54/60\n",
      "3/3 [==============================] - 0s 22ms/step - loss: 0.0150 - mae: 0.0841 - val_loss: 0.0010 - val_mae: 0.0297\n",
      "Epoch 55/60\n",
      "3/3 [==============================] - 0s 22ms/step - loss: 0.0146 - mae: 0.0826 - val_loss: 9.9826e-04 - val_mae: 0.0295\n",
      "Epoch 56/60\n"
     ]
    },
    {
     "name": "stdout",
     "output_type": "stream",
     "text": [
      "3/3 [==============================] - 0s 24ms/step - loss: 0.0136 - mae: 0.0805 - val_loss: 9.6434e-04 - val_mae: 0.0290\n",
      "Epoch 57/60\n",
      "3/3 [==============================] - 0s 22ms/step - loss: 0.0130 - mae: 0.0781 - val_loss: 9.5715e-04 - val_mae: 0.0285\n",
      "Epoch 58/60\n",
      "3/3 [==============================] - 0s 23ms/step - loss: 0.0121 - mae: 0.0748 - val_loss: 8.0682e-04 - val_mae: 0.0248\n",
      "Epoch 59/60\n",
      "3/3 [==============================] - 0s 25ms/step - loss: 0.0109 - mae: 0.0703 - val_loss: 8.0753e-04 - val_mae: 0.0245\n",
      "Epoch 60/60\n",
      "3/3 [==============================] - 0s 24ms/step - loss: 0.0106 - mae: 0.0695 - val_loss: 9.1878e-04 - val_mae: 0.0267\n"
     ]
    }
   ],
   "source": [
    "model = build_model ()\n",
    "history = model.fit ( x_train, y_train, epochs = 60, batch_size = 1032, validation_data = (x_val, y_val) )\n",
    "model.save(\"regr.h5\")"
   ]
  },
  {
   "cell_type": "code",
   "execution_count": 23,
   "metadata": {
    "scrolled": false
   },
   "outputs": [
    {
     "data": {
      "image/png": "[encoded data removed]",
      "text/plain": [
       "<Figure size 432x288 with 1 Axes>"
      ]
     },
     "metadata": {
      "needs_background": "light"
     },
     "output_type": "display_data"
    }
   ],
   "source": [
    "import matplotlib.pyplot as plt\n",
    "\n",
    "mae = history.history['mae']\n",
    "val_mae = history.history['val_mae']\n",
    "\n",
    "epochs = range(1, len(mae) + 1)\n",
    "\n",
    "plt.plot(epochs, mae, 'bo', label='Training mae')\n",
    "plt.plot(epochs, val_mae, 'b', label='Validation mae')\n",
    "plt.title('Training and validation accuracy')\n",
    "plt.xlabel('Epochs')\n",
    "plt.ylabel('mae')\n",
    "plt.legend()\n",
    "\n",
    "plt.show()"
   ]
  },
  {
   "cell_type": "code",
   "execution_count": 24,
   "metadata": {},
   "outputs": [
    {
     "data": {
      "image/png": "[encoded data removed]",
      "text/plain": [
       "<Figure size 432x288 with 1 Axes>"
      ]
     },
     "metadata": {
      "needs_background": "light"
     },
     "output_type": "display_data"
    }
   ],
   "source": [
    "plt.clf()   # clear figure\n",
    "\n",
    "loss = history.history['loss']\n",
    "val_loss = history.history['val_loss']\n",
    "\n",
    "\n",
    "\n",
    "plt.plot(epochs, loss, 'bo', label='Training loss')\n",
    "plt.plot(epochs, val_loss, 'b', label='Validation loss')\n",
    "plt.title('Training and validation loss')\n",
    "plt.xlabel('Epochs')\n",
    "plt.ylabel('Loss')\n",
    "plt.legend()\n",
    "\n",
    "plt.show()"
   ]
  },
  {
   "cell_type": "code",
   "execution_count": null,
   "metadata": {},
   "outputs": [],
   "source": []
  },
  {
   "cell_type": "code",
   "execution_count": null,
   "metadata": {},
   "outputs": [],
   "source": []
  }
 ],
 "metadata": {
  "kernelspec": {
   "display_name": "Python 3",
   "language": "python",
   "name": "python3"
  },
  "language_info": {
   "codemirror_mode": {
    "name": "ipython",
    "version": 3
   },
   "file_extension": ".py",
   "mimetype": "text/x-python",
   "name": "python",
   "nbconvert_exporter": "python",
   "pygments_lexer": "ipython3",
   "version": "3.7.7"
  }
 },
 "nbformat": 4,
 "nbformat_minor": 4
}
