{
 "cells": [
  {
   "cell_type": "code",
   "execution_count": 57,
   "metadata": {},
   "outputs": [
    {
     "name": "stdout",
     "output_type": "stream",
     "text": [
      "1.2.0\n"
     ]
    }
   ],
   "source": [
    "import pandas as pd \n",
    "import numpy as np\n",
    "import math\n",
    "import tensorflow as tf\n",
    "print(pd.__version__)"
   ]
  },
  {
   "cell_type": "markdown",
   "metadata": {},
   "source": [
    "## Print Dependencies\n",
    "\n",
    "\n",
    "\n",
    "Dependences are fundamental to record the computational environment."
   ]
  },
  {
   "cell_type": "code",
   "execution_count": 58,
   "metadata": {},
   "outputs": [
    {
     "name": "stdout",
     "output_type": "stream",
     "text": [
      "The watermark extension is already loaded. To reload it, use:\n",
      "  %reload_ext watermark\n",
      "Python implementation: CPython\n",
      "Python version       : 3.8.7\n",
      "IPython version      : 7.18.1\n",
      "\n",
      "pandas    : 1.2.0\n",
      "keras     : 2.4.3\n",
      "numpy     : 1.19.5\n",
      "math      : unknown\n",
      "tensorflow: 2.4.0\n",
      "matplotlib: 3.3.3\n",
      "h5py      : 2.10.0\n",
      "\n",
      "Compiler    : Clang 12.0.0 (clang-1200.0.32.28)\n",
      "OS          : Darwin\n",
      "Release     : 20.2.0\n",
      "Machine     : x86_64\n",
      "Processor   : i386\n",
      "CPU cores   : 8\n",
      "Architecture: 64bit\n",
      "\n",
      " \n",
      "Last updated: Tue Jan 26 2021 11:29:17CET\n",
      "\n"
     ]
    }
   ],
   "source": [
    "%load_ext watermark\n",
    "\n",
    "# python, ipython, packages, and machine characteristics\n",
    "%watermark -v -m -p pandas,keras,numpy,math,tensorflow,matplotlib,h5py\n",
    "\n",
    "# date\n",
    "print (\" \")\n",
    "%watermark -u -n -t -z"
   ]
  },
  {
   "cell_type": "markdown",
   "metadata": {},
   "source": [
    "## Load of the data"
   ]
  },
  {
   "cell_type": "code",
   "execution_count": 59,
   "metadata": {},
   "outputs": [],
   "source": [
    "regen_data = False\n",
    "# If we keep it as false, it's going to just load the data. If true it's going to regenerate the data again "
   ]
  },
  {
   "cell_type": "code",
   "execution_count": 60,
   "metadata": {},
   "outputs": [],
   "source": [
    "if regen_data:\n",
    "    from process import load_generate_data\n",
    "    from process import savedata\n",
    "    regr_data, class_data = load_generate_data(0.1, 5)\n",
    "    savedata(regr_data, \"regression_data-2.csv\")\n",
    "    savedata(class_data, \"classification_data-2.csv\")"
   ]
  },
  {
   "cell_type": "code",
   "execution_count": 61,
   "metadata": {},
   "outputs": [],
   "source": [
    "if not regen_data:\n",
    "    from process import loaddata\n",
    "    regr_data = loaddata(\"regression_data-2.csv\")\n",
    "    class_data = loaddata(\"classification_data-2.csv\")"
   ]
  },
  {
   "cell_type": "code",
   "execution_count": 62,
   "metadata": {},
   "outputs": [],
   "source": [
    "np.random.shuffle(regr_data)\n",
    "y = regr_data[:,-3:]\n",
    "x = regr_data[:,:6]"
   ]
  },
  {
   "cell_type": "code",
   "execution_count": 63,
   "metadata": {},
   "outputs": [],
   "source": [
    "def sigmoid(x):\n",
    "    return 1./(1 + np.exp(-x))"
   ]
  },
  {
   "cell_type": "code",
   "execution_count": 64,
   "metadata": {},
   "outputs": [],
   "source": [
    "def inv_sigmoid(y):\n",
    "    return np.ln(1/y -1)"
   ]
  },
  {
   "cell_type": "code",
   "execution_count": 65,
   "metadata": {},
   "outputs": [],
   "source": [
    "#x = sigmoid(x)\n",
    "#y = sigmoid(y)"
   ]
  },
  {
   "cell_type": "code",
   "execution_count": 66,
   "metadata": {},
   "outputs": [],
   "source": [
    "np.random.shuffle(class_data)\n",
    "yc = class_data[:,0]\n",
    "xc = class_data[:,1:]"
   ]
  },
  {
   "cell_type": "code",
   "execution_count": 67,
   "metadata": {},
   "outputs": [
    {
     "data": {
      "text/plain": [
       "(124064, 10)"
      ]
     },
     "execution_count": 67,
     "metadata": {},
     "output_type": "execute_result"
    }
   ],
   "source": [
    "xc.shape"
   ]
  },
  {
   "cell_type": "code",
   "execution_count": 68,
   "metadata": {},
   "outputs": [
    {
     "data": {
      "text/plain": [
       "array([-0.07047898,  0.1977108 ,  0.0149327 , -0.07014503, -0.01844846,\n",
       "        0.02172339])"
      ]
     },
     "execution_count": 68,
     "metadata": {},
     "output_type": "execute_result"
    }
   ],
   "source": [
    "x[0]"
   ]
  },
  {
   "cell_type": "code",
   "execution_count": 69,
   "metadata": {},
   "outputs": [
    {
     "name": "stdout",
     "output_type": "stream",
     "text": [
      "Training sample: 46524 \n",
      "Valuation sample: 15508\n"
     ]
    }
   ],
   "source": [
    "train_split = 0.75\n",
    "train_limit = int(len(y)*train_split)\n",
    "print(\"Training sample: {0} \\nValuation sample: {1}\".format(train_limit, len(y)-train_limit))"
   ]
  },
  {
   "cell_type": "code",
   "execution_count": 70,
   "metadata": {},
   "outputs": [
    {
     "data": {
      "text/plain": [
       "(62032, 6)"
      ]
     },
     "execution_count": 70,
     "metadata": {},
     "output_type": "execute_result"
    }
   ],
   "source": [
    "x.shape"
   ]
  },
  {
   "cell_type": "code",
   "execution_count": 71,
   "metadata": {},
   "outputs": [],
   "source": [
    "x_train = x[:train_limit]\n",
    "x_val = x[train_limit:]\n",
    "\n",
    "y_train = y[:train_limit]\n",
    "y_val = y[train_limit:]"
   ]
  },
  {
   "cell_type": "markdown",
   "metadata": {},
   "source": [
    "## Model Build"
   ]
  },
  {
   "cell_type": "code",
   "execution_count": 72,
   "metadata": {},
   "outputs": [],
   "source": [
    "from keras.models import Sequential\n",
    "from keras.layers.core import Dense\n",
    "import keras.backend as K\n",
    "from keras import optimizers\n",
    "from keras import models\n",
    "from keras import layers"
   ]
  },
  {
   "cell_type": "code",
   "execution_count": 73,
   "metadata": {},
   "outputs": [],
   "source": [
    "def build_model() :\n",
    "    model = models.Sequential()\n",
    "    model.add (layers.Dense (6, activation = \"sigmoid\" , input_shape = x.shape))\n",
    "    model.add(layers.Dropout(0.3))\n",
    "    model.add (layers.Dense (8, activation = \"relu\"))\n",
    "    model.add(layers.Dropout(0.3))\n",
    "    model.add (layers.Dense (3))\n",
    "    model.compile(optimizer = \"rmsprop\" , loss = \"mse\" , metrics =[\"mae\"])\n",
    "    return model"
   ]
  },
  {
   "cell_type": "code",
   "execution_count": 74,
   "metadata": {},
   "outputs": [
    {
     "name": "stdout",
     "output_type": "stream",
     "text": [
      "Epoch 1/100\n",
      "WARNING:tensorflow:Model was constructed with shape (None, 62032, 6) for input KerasTensor(type_spec=TensorSpec(shape=(None, 62032, 6), dtype=tf.float32, name='dense_33_input'), name='dense_33_input', description=\"created by layer 'dense_33_input'\"), but it was called on an input with incompatible shape (None, 6).\n",
      "WARNING:tensorflow:Model was constructed with shape (None, 62032, 6) for input KerasTensor(type_spec=TensorSpec(shape=(None, 62032, 6), dtype=tf.float32, name='dense_33_input'), name='dense_33_input', description=\"created by layer 'dense_33_input'\"), but it was called on an input with incompatible shape (None, 6).\n",
      "13/23 [===============>..............] - ETA: 0s - loss: 0.7298 - mae: 0.7243 WARNING:tensorflow:Model was constructed with shape (None, 62032, 6) for input KerasTensor(type_spec=TensorSpec(shape=(None, 62032, 6), dtype=tf.float32, name='dense_33_input'), name='dense_33_input', description=\"created by layer 'dense_33_input'\"), but it was called on an input with incompatible shape (None, 6).\n",
      "23/23 [==============================] - 1s 20ms/step - loss: 0.6784 - mae: 0.6954 - val_loss: 0.2581 - val_mae: 0.4718\n",
      "Epoch 2/100\n",
      "23/23 [==============================] - 0s 6ms/step - loss: 0.3977 - mae: 0.5240 - val_loss: 0.1455 - val_mae: 0.3528\n",
      "Epoch 3/100\n",
      "23/23 [==============================] - 0s 6ms/step - loss: 0.2436 - mae: 0.4042 - val_loss: 0.0729 - val_mae: 0.2497\n",
      "Epoch 4/100\n",
      "23/23 [==============================] - 0s 6ms/step - loss: 0.1439 - mae: 0.3074 - val_loss: 0.0323 - val_mae: 0.1641\n",
      "Epoch 5/100\n",
      "23/23 [==============================] - 0s 6ms/step - loss: 0.0810 - mae: 0.2302 - val_loss: 0.0115 - val_mae: 0.0943\n",
      "Epoch 6/100\n",
      "23/23 [==============================] - 0s 6ms/step - loss: 0.0449 - mae: 0.1739 - val_loss: 0.0028 - val_mae: 0.0431\n",
      "Epoch 7/100\n",
      "23/23 [==============================] - 0s 6ms/step - loss: 0.0248 - mae: 0.1325 - val_loss: 0.0017 - val_mae: 0.0333\n",
      "Epoch 8/100\n",
      "23/23 [==============================] - 0s 6ms/step - loss: 0.0161 - mae: 0.1088 - val_loss: 0.0024 - val_mae: 0.0399\n",
      "Epoch 9/100\n",
      "23/23 [==============================] - 0s 6ms/step - loss: 0.0114 - mae: 0.0915 - val_loss: 0.0027 - val_mae: 0.0425\n",
      "Epoch 10/100\n",
      "23/23 [==============================] - 0s 6ms/step - loss: 0.0080 - mae: 0.0755 - val_loss: 0.0030 - val_mae: 0.0449\n",
      "Epoch 11/100\n",
      "23/23 [==============================] - 0s 7ms/step - loss: 0.0054 - mae: 0.0604 - val_loss: 0.0033 - val_mae: 0.0473\n",
      "Epoch 12/100\n",
      "23/23 [==============================] - 0s 6ms/step - loss: 0.0037 - mae: 0.0488 - val_loss: 0.0030 - val_mae: 0.0448\n",
      "Epoch 13/100\n",
      "23/23 [==============================] - 0s 5ms/step - loss: 0.0026 - mae: 0.0412 - val_loss: 0.0021 - val_mae: 0.0370\n",
      "Epoch 14/100\n",
      "23/23 [==============================] - 0s 6ms/step - loss: 0.0020 - mae: 0.0365 - val_loss: 0.0016 - val_mae: 0.0332\n",
      "Epoch 15/100\n",
      "23/23 [==============================] - 0s 6ms/step - loss: 0.0017 - mae: 0.0337 - val_loss: 0.0015 - val_mae: 0.0322\n",
      "Epoch 16/100\n",
      "23/23 [==============================] - 0s 6ms/step - loss: 0.0015 - mae: 0.0325 - val_loss: 0.0015 - val_mae: 0.0321\n",
      "Epoch 17/100\n",
      "23/23 [==============================] - 0s 6ms/step - loss: 0.0015 - mae: 0.0321 - val_loss: 0.0015 - val_mae: 0.0321\n",
      "Epoch 18/100\n",
      "23/23 [==============================] - 0s 6ms/step - loss: 0.0015 - mae: 0.0320 - val_loss: 0.0015 - val_mae: 0.0321\n",
      "Epoch 19/100\n",
      "23/23 [==============================] - 0s 6ms/step - loss: 0.0015 - mae: 0.0319 - val_loss: 0.0015 - val_mae: 0.0321\n",
      "Epoch 20/100\n",
      "23/23 [==============================] - 0s 6ms/step - loss: 0.0015 - mae: 0.0319 - val_loss: 0.0015 - val_mae: 0.0321\n",
      "Epoch 21/100\n",
      "23/23 [==============================] - 0s 6ms/step - loss: 0.0015 - mae: 0.0320 - val_loss: 0.0015 - val_mae: 0.0321\n",
      "Epoch 22/100\n",
      "23/23 [==============================] - 0s 6ms/step - loss: 0.0015 - mae: 0.0319 - val_loss: 0.0015 - val_mae: 0.0321\n",
      "Epoch 23/100\n",
      "23/23 [==============================] - 0s 6ms/step - loss: 0.0015 - mae: 0.0319 - val_loss: 0.0015 - val_mae: 0.0321\n",
      "Epoch 24/100\n",
      "23/23 [==============================] - 0s 6ms/step - loss: 0.0015 - mae: 0.0319 - val_loss: 0.0015 - val_mae: 0.0321\n",
      "Epoch 25/100\n",
      "23/23 [==============================] - 0s 6ms/step - loss: 0.0015 - mae: 0.0320 - val_loss: 0.0015 - val_mae: 0.0321\n",
      "Epoch 26/100\n",
      "23/23 [==============================] - 0s 9ms/step - loss: 0.0015 - mae: 0.0320 - val_loss: 0.0015 - val_mae: 0.0321\n",
      "Epoch 27/100\n",
      "23/23 [==============================] - 0s 7ms/step - loss: 0.0015 - mae: 0.0318 - val_loss: 0.0015 - val_mae: 0.0321\n",
      "Epoch 28/100\n",
      "23/23 [==============================] - 0s 6ms/step - loss: 0.0015 - mae: 0.0318 - val_loss: 0.0015 - val_mae: 0.0321\n",
      "Epoch 29/100\n",
      "23/23 [==============================] - 0s 6ms/step - loss: 0.0015 - mae: 0.0319 - val_loss: 0.0015 - val_mae: 0.0321\n",
      "Epoch 30/100\n",
      "23/23 [==============================] - 0s 5ms/step - loss: 0.0015 - mae: 0.0318 - val_loss: 0.0015 - val_mae: 0.0321\n",
      "Epoch 31/100\n",
      "23/23 [==============================] - 0s 6ms/step - loss: 0.0015 - mae: 0.0319 - val_loss: 0.0015 - val_mae: 0.0321\n",
      "Epoch 32/100\n",
      "23/23 [==============================] - 0s 8ms/step - loss: 0.0015 - mae: 0.0319 - val_loss: 0.0015 - val_mae: 0.0321\n",
      "Epoch 33/100\n",
      "23/23 [==============================] - 0s 8ms/step - loss: 0.0015 - mae: 0.0318 - val_loss: 0.0015 - val_mae: 0.0321\n",
      "Epoch 34/100\n",
      "23/23 [==============================] - 0s 7ms/step - loss: 0.0015 - mae: 0.0318 - val_loss: 0.0015 - val_mae: 0.0321\n",
      "Epoch 35/100\n",
      "23/23 [==============================] - 0s 6ms/step - loss: 0.0015 - mae: 0.0317 - val_loss: 0.0015 - val_mae: 0.0321\n",
      "Epoch 36/100\n",
      "23/23 [==============================] - 0s 6ms/step - loss: 0.0015 - mae: 0.0318 - val_loss: 0.0015 - val_mae: 0.0321\n",
      "Epoch 37/100\n",
      "23/23 [==============================] - 0s 5ms/step - loss: 0.0015 - mae: 0.0318 - val_loss: 0.0015 - val_mae: 0.0321\n",
      "Epoch 38/100\n",
      "23/23 [==============================] - 0s 5ms/step - loss: 0.0015 - mae: 0.0317 - val_loss: 0.0015 - val_mae: 0.0321\n",
      "Epoch 39/100\n",
      "23/23 [==============================] - 0s 6ms/step - loss: 0.0015 - mae: 0.0317 - val_loss: 0.0015 - val_mae: 0.0321\n",
      "Epoch 40/100\n",
      "23/23 [==============================] - 0s 5ms/step - loss: 0.0015 - mae: 0.0318 - val_loss: 0.0015 - val_mae: 0.0321\n",
      "Epoch 41/100\n",
      "23/23 [==============================] - 0s 6ms/step - loss: 0.0015 - mae: 0.0317 - val_loss: 0.0015 - val_mae: 0.0321\n",
      "Epoch 42/100\n",
      "23/23 [==============================] - 0s 5ms/step - loss: 0.0015 - mae: 0.0317 - val_loss: 0.0015 - val_mae: 0.0321\n",
      "Epoch 43/100\n",
      "23/23 [==============================] - 0s 5ms/step - loss: 0.0015 - mae: 0.0317 - val_loss: 0.0015 - val_mae: 0.0321\n",
      "Epoch 44/100\n",
      "23/23 [==============================] - 0s 5ms/step - loss: 0.0015 - mae: 0.0317 - val_loss: 0.0015 - val_mae: 0.0321\n",
      "Epoch 45/100\n",
      "23/23 [==============================] - 0s 5ms/step - loss: 0.0015 - mae: 0.0318 - val_loss: 0.0015 - val_mae: 0.0321\n",
      "Epoch 46/100\n",
      "23/23 [==============================] - 0s 5ms/step - loss: 0.0015 - mae: 0.0317 - val_loss: 0.0015 - val_mae: 0.0321\n",
      "Epoch 47/100\n",
      "23/23 [==============================] - 0s 5ms/step - loss: 0.0015 - mae: 0.0316 - val_loss: 0.0015 - val_mae: 0.0321\n",
      "Epoch 48/100\n",
      "23/23 [==============================] - 0s 5ms/step - loss: 0.0015 - mae: 0.0316 - val_loss: 0.0015 - val_mae: 0.0321\n",
      "Epoch 49/100\n",
      "23/23 [==============================] - 0s 7ms/step - loss: 0.0015 - mae: 0.0316 - val_loss: 0.0015 - val_mae: 0.0321\n",
      "Epoch 50/100\n",
      "23/23 [==============================] - 0s 8ms/step - loss: 0.0015 - mae: 0.0316 - val_loss: 0.0015 - val_mae: 0.0321\n",
      "Epoch 51/100\n",
      "23/23 [==============================] - 0s 7ms/step - loss: 0.0015 - mae: 0.0316 - val_loss: 0.0015 - val_mae: 0.0321\n",
      "Epoch 52/100\n",
      "23/23 [==============================] - 0s 7ms/step - loss: 0.0015 - mae: 0.0316 - val_loss: 0.0015 - val_mae: 0.0321\n",
      "Epoch 53/100\n",
      "23/23 [==============================] - 0s 7ms/step - loss: 0.0015 - mae: 0.0316 - val_loss: 0.0015 - val_mae: 0.0321\n",
      "Epoch 54/100\n",
      "23/23 [==============================] - 0s 5ms/step - loss: 0.0015 - mae: 0.0316 - val_loss: 0.0015 - val_mae: 0.0321\n",
      "Epoch 55/100\n"
     ]
    },
    {
     "name": "stdout",
     "output_type": "stream",
     "text": [
      "23/23 [==============================] - 0s 7ms/step - loss: 0.0015 - mae: 0.0316 - val_loss: 0.0015 - val_mae: 0.0321\n",
      "Epoch 56/100\n",
      "23/23 [==============================] - 0s 7ms/step - loss: 0.0015 - mae: 0.0315 - val_loss: 0.0015 - val_mae: 0.0321\n",
      "Epoch 57/100\n",
      "23/23 [==============================] - 0s 7ms/step - loss: 0.0015 - mae: 0.0316 - val_loss: 0.0015 - val_mae: 0.0321\n",
      "Epoch 58/100\n",
      "23/23 [==============================] - 0s 7ms/step - loss: 0.0015 - mae: 0.0315 - val_loss: 0.0015 - val_mae: 0.0321\n",
      "Epoch 59/100\n",
      "23/23 [==============================] - 0s 7ms/step - loss: 0.0015 - mae: 0.0316 - val_loss: 0.0015 - val_mae: 0.0321\n",
      "Epoch 60/100\n",
      "23/23 [==============================] - 0s 5ms/step - loss: 0.0014 - mae: 0.0315 - val_loss: 0.0015 - val_mae: 0.0321\n",
      "Epoch 61/100\n",
      "23/23 [==============================] - 0s 7ms/step - loss: 0.0014 - mae: 0.0315 - val_loss: 0.0015 - val_mae: 0.0321\n",
      "Epoch 62/100\n",
      "23/23 [==============================] - 0s 8ms/step - loss: 0.0015 - mae: 0.0315 - val_loss: 0.0015 - val_mae: 0.0321\n",
      "Epoch 63/100\n",
      "23/23 [==============================] - 0s 9ms/step - loss: 0.0015 - mae: 0.0315 - val_loss: 0.0015 - val_mae: 0.0321\n",
      "Epoch 64/100\n",
      "23/23 [==============================] - 0s 7ms/step - loss: 0.0014 - mae: 0.0314 - val_loss: 0.0015 - val_mae: 0.0321\n",
      "Epoch 65/100\n",
      "23/23 [==============================] - 0s 7ms/step - loss: 0.0015 - mae: 0.0315 - val_loss: 0.0015 - val_mae: 0.0321\n",
      "Epoch 66/100\n",
      "23/23 [==============================] - 0s 6ms/step - loss: 0.0015 - mae: 0.0315 - val_loss: 0.0015 - val_mae: 0.0321\n",
      "Epoch 67/100\n",
      "23/23 [==============================] - 0s 7ms/step - loss: 0.0014 - mae: 0.0314 - val_loss: 0.0015 - val_mae: 0.0321\n",
      "Epoch 68/100\n",
      "23/23 [==============================] - 0s 6ms/step - loss: 0.0015 - mae: 0.0316 - val_loss: 0.0015 - val_mae: 0.0321\n",
      "Epoch 69/100\n",
      "23/23 [==============================] - 0s 8ms/step - loss: 0.0014 - mae: 0.0315 - val_loss: 0.0015 - val_mae: 0.0321\n",
      "Epoch 70/100\n",
      "23/23 [==============================] - 0s 7ms/step - loss: 0.0014 - mae: 0.0314 - val_loss: 0.0015 - val_mae: 0.0321\n",
      "Epoch 71/100\n",
      "23/23 [==============================] - 0s 7ms/step - loss: 0.0014 - mae: 0.0315 - val_loss: 0.0015 - val_mae: 0.0321\n",
      "Epoch 72/100\n",
      "23/23 [==============================] - 0s 8ms/step - loss: 0.0014 - mae: 0.0315 - val_loss: 0.0015 - val_mae: 0.0321\n",
      "Epoch 73/100\n",
      "23/23 [==============================] - 0s 8ms/step - loss: 0.0014 - mae: 0.0315 - val_loss: 0.0015 - val_mae: 0.0321\n",
      "Epoch 74/100\n",
      "23/23 [==============================] - 0s 8ms/step - loss: 0.0014 - mae: 0.0315 - val_loss: 0.0015 - val_mae: 0.0321\n",
      "Epoch 75/100\n",
      "23/23 [==============================] - 0s 8ms/step - loss: 0.0015 - mae: 0.0315 - val_loss: 0.0015 - val_mae: 0.0321\n",
      "Epoch 76/100\n",
      "23/23 [==============================] - 0s 8ms/step - loss: 0.0014 - mae: 0.0314 - val_loss: 0.0015 - val_mae: 0.0321\n",
      "Epoch 77/100\n",
      "23/23 [==============================] - 0s 8ms/step - loss: 0.0014 - mae: 0.0314 - val_loss: 0.0015 - val_mae: 0.0321\n",
      "Epoch 78/100\n",
      "23/23 [==============================] - 0s 7ms/step - loss: 0.0014 - mae: 0.0314 - val_loss: 0.0015 - val_mae: 0.0321\n",
      "Epoch 79/100\n",
      "23/23 [==============================] - 0s 7ms/step - loss: 0.0014 - mae: 0.0314 - val_loss: 0.0015 - val_mae: 0.0321\n",
      "Epoch 80/100\n",
      "23/23 [==============================] - 0s 8ms/step - loss: 0.0014 - mae: 0.0314 - val_loss: 0.0015 - val_mae: 0.0321\n",
      "Epoch 81/100\n",
      "23/23 [==============================] - 0s 6ms/step - loss: 0.0015 - mae: 0.0315 - val_loss: 0.0015 - val_mae: 0.0321\n",
      "Epoch 82/100\n",
      "23/23 [==============================] - 0s 6ms/step - loss: 0.0014 - mae: 0.0315 - val_loss: 0.0015 - val_mae: 0.0321\n",
      "Epoch 83/100\n",
      "23/23 [==============================] - 0s 6ms/step - loss: 0.0014 - mae: 0.0315 - val_loss: 0.0015 - val_mae: 0.0321\n",
      "Epoch 84/100\n",
      "23/23 [==============================] - 0s 6ms/step - loss: 0.0014 - mae: 0.0314 - val_loss: 0.0015 - val_mae: 0.0321\n",
      "Epoch 85/100\n",
      "23/23 [==============================] - 0s 6ms/step - loss: 0.0014 - mae: 0.0314 - val_loss: 0.0015 - val_mae: 0.0321\n",
      "Epoch 86/100\n",
      "23/23 [==============================] - 0s 6ms/step - loss: 0.0014 - mae: 0.0314 - val_loss: 0.0015 - val_mae: 0.0321\n",
      "Epoch 87/100\n",
      "23/23 [==============================] - 0s 7ms/step - loss: 0.0014 - mae: 0.0314 - val_loss: 0.0015 - val_mae: 0.0321\n",
      "Epoch 88/100\n",
      "23/23 [==============================] - 0s 5ms/step - loss: 0.0014 - mae: 0.0315 - val_loss: 0.0015 - val_mae: 0.0321\n",
      "Epoch 89/100\n",
      "23/23 [==============================] - 0s 6ms/step - loss: 0.0014 - mae: 0.0314 - val_loss: 0.0015 - val_mae: 0.0321\n",
      "Epoch 90/100\n",
      "23/23 [==============================] - 0s 13ms/step - loss: 0.0014 - mae: 0.0315 - val_loss: 0.0015 - val_mae: 0.0321\n",
      "Epoch 91/100\n",
      "23/23 [==============================] - 0s 6ms/step - loss: 0.0014 - mae: 0.0314 - val_loss: 0.0015 - val_mae: 0.0321\n",
      "Epoch 92/100\n",
      "23/23 [==============================] - 0s 6ms/step - loss: 0.0014 - mae: 0.0314 - val_loss: 0.0015 - val_mae: 0.0321\n",
      "Epoch 93/100\n",
      "23/23 [==============================] - 0s 6ms/step - loss: 0.0015 - mae: 0.0315 - val_loss: 0.0015 - val_mae: 0.0321\n",
      "Epoch 94/100\n",
      "23/23 [==============================] - 0s 6ms/step - loss: 0.0014 - mae: 0.0314 - val_loss: 0.0015 - val_mae: 0.0321\n",
      "Epoch 95/100\n",
      "23/23 [==============================] - 0s 6ms/step - loss: 0.0014 - mae: 0.0315 - val_loss: 0.0015 - val_mae: 0.0321\n",
      "Epoch 96/100\n",
      "23/23 [==============================] - 0s 6ms/step - loss: 0.0014 - mae: 0.0314 - val_loss: 0.0015 - val_mae: 0.0321\n",
      "Epoch 97/100\n",
      "23/23 [==============================] - 0s 5ms/step - loss: 0.0014 - mae: 0.0314 - val_loss: 0.0015 - val_mae: 0.0321\n",
      "Epoch 98/100\n",
      "23/23 [==============================] - 0s 6ms/step - loss: 0.0014 - mae: 0.0314 - val_loss: 0.0015 - val_mae: 0.0321\n",
      "Epoch 99/100\n",
      "23/23 [==============================] - 0s 9ms/step - loss: 0.0014 - mae: 0.0314 - val_loss: 0.0015 - val_mae: 0.0321\n",
      "Epoch 100/100\n",
      "23/23 [==============================] - 0s 8ms/step - loss: 0.0014 - mae: 0.0315 - val_loss: 0.0015 - val_mae: 0.0321\n"
     ]
    }
   ],
   "source": [
    "model = build_model()\n",
    "history = model.fit ( x_train, y_train, epochs = 100, batch_size = 2032, validation_data = (x_val, y_val) )\n",
    "model.save(\"regr.h5\")"
   ]
  },
  {
   "cell_type": "code",
   "execution_count": 75,
   "metadata": {
    "scrolled": false
   },
   "outputs": [
    {
     "data": {
      "image/png": "[encoded data removed]",
      "text/plain": [
       "<Figure size 432x288 with 1 Axes>"
      ]
     },
     "metadata": {
      "needs_background": "light"
     },
     "output_type": "display_data"
    }
   ],
   "source": [
    "import matplotlib.pyplot as plt\n",
    "\n",
    "mae = history.history['mae']\n",
    "val_mae = history.history['val_mae']\n",
    "\n",
    "epochs = range(1, len(mae) + 1)\n",
    "\n",
    "plt.plot(epochs, mae, 'bo', label='Training mae')\n",
    "plt.plot(epochs, val_mae, 'b', label='Validation mae')\n",
    "plt.title('Training and validation accuracy')\n",
    "plt.xlabel('Epochs')\n",
    "plt.ylabel('mae')\n",
    "plt.legend()\n",
    "\n",
    "plt.show()"
   ]
  },
  {
   "cell_type": "code",
   "execution_count": 76,
   "metadata": {},
   "outputs": [
    {
     "data": {
      "image/png": "[encoded data removed]",
      "text/plain": [
       "<Figure size 432x288 with 1 Axes>"
      ]
     },
     "metadata": {
      "needs_background": "light"
     },
     "output_type": "display_data"
    }
   ],
   "source": [
    "plt.clf()   # clear figure\n",
    "\n",
    "loss = history.history['loss']\n",
    "val_loss = history.history['val_loss']\n",
    "\n",
    "\n",
    "\n",
    "plt.plot(epochs, loss, 'bo', label='Training loss')\n",
    "plt.plot(epochs, val_loss, 'b', label='Validation loss')\n",
    "plt.title('Training and validation loss')\n",
    "plt.xlabel('Epochs')\n",
    "plt.ylabel('Loss')\n",
    "plt.legend()\n",
    "\n",
    "plt.show()"
   ]
  },
  {
   "cell_type": "markdown",
   "metadata": {},
   "source": [
    "## !! \n",
    "The dropout 0.2 seems to work better"
   ]
  },
  {
   "cell_type": "code",
   "execution_count": 130,
   "metadata": {},
   "outputs": [],
   "source": [
    "def build_model() :\n",
    "    model = models.Sequential()\n",
    "    model.add (layers.Dense (12, activation = \"relu\", kernel_initializer=\"normal\" , input_shape = x.shape))\n",
    "    model.add (layers.Dropout(0.2))\n",
    "    model.add (layers.Dense (24, activation = \"relu\"))\n",
    "    model.add (layers.Dropout(0.2))\n",
    "    model.add (layers.Dense (48, activation = \"relu\"))\n",
    "    model.add (layers.Dropout(0.2))\n",
    "    model.add (layers.Dense (24, activation = \"relu\"))\n",
    "    model.add (layers.Dropout(0.2))\n",
    "    model.add (layers.Dense (12, activation = \"relu\"))\n",
    "    model.add (layers.Dropout(0.2))\n",
    "    model.add (layers.Dense (12, activation = \"relu\"))\n",
    "    model.add (layers.Dropout(0.2))\n",
    "    model.add (layers.Dense (3))\n",
    "    model.compile(optimizer = \"rmsprop\" , loss = \"mse\" , metrics =[\"mae\"])\n",
    "    return model"
   ]
  },
  {
   "cell_type": "code",
   "execution_count": 131,
   "metadata": {},
   "outputs": [
    {
     "name": "stdout",
     "output_type": "stream",
     "text": [
      "Epoch 1/20\n",
      "WARNING:tensorflow:Model was constructed with shape (None, 62032, 6) for input KerasTensor(type_spec=TensorSpec(shape=(None, 62032, 6), dtype=tf.float32, name='dense_77_input'), name='dense_77_input', description=\"created by layer 'dense_77_input'\"), but it was called on an input with incompatible shape (None, 6).\n",
      "WARNING:tensorflow:Model was constructed with shape (None, 62032, 6) for input KerasTensor(type_spec=TensorSpec(shape=(None, 62032, 6), dtype=tf.float32, name='dense_77_input'), name='dense_77_input', description=\"created by layer 'dense_77_input'\"), but it was called on an input with incompatible shape (None, 6).\n",
      "170/182 [===========================>..] - ETA: 0s - loss: 0.0013 - mae: 0.0301WARNING:tensorflow:Model was constructed with shape (None, 62032, 6) for input KerasTensor(type_spec=TensorSpec(shape=(None, 62032, 6), dtype=tf.float32, name='dense_77_input'), name='dense_77_input', description=\"created by layer 'dense_77_input'\"), but it was called on an input with incompatible shape (None, 6).\n",
      "182/182 [==============================] - 3s 6ms/step - loss: 0.0013 - mae: 0.0299 - val_loss: 7.6125e-04 - val_mae: 0.0221\n",
      "Epoch 2/20\n",
      "182/182 [==============================] - 1s 5ms/step - loss: 0.0010 - mae: 0.0255 - val_loss: 6.8983e-04 - val_mae: 0.0208\n",
      "Epoch 3/20\n",
      "182/182 [==============================] - 1s 4ms/step - loss: 9.0737e-04 - mae: 0.0241 - val_loss: 6.8931e-04 - val_mae: 0.0207\n",
      "Epoch 4/20\n",
      "182/182 [==============================] - 1s 5ms/step - loss: 8.6471e-04 - mae: 0.0234 - val_loss: 6.9724e-04 - val_mae: 0.0208\n",
      "Epoch 5/20\n",
      "182/182 [==============================] - 1s 5ms/step - loss: 8.4011e-04 - mae: 0.0231 - val_loss: 6.3704e-04 - val_mae: 0.0201\n",
      "Epoch 6/20\n",
      "182/182 [==============================] - 1s 5ms/step - loss: 8.2141e-04 - mae: 0.0229 - val_loss: 6.3112e-04 - val_mae: 0.0199\n",
      "Epoch 7/20\n",
      "182/182 [==============================] - 1s 4ms/step - loss: 7.9031e-04 - mae: 0.0224 - val_loss: 6.1327e-04 - val_mae: 0.0196\n",
      "Epoch 8/20\n",
      "182/182 [==============================] - 1s 4ms/step - loss: 7.8154e-04 - mae: 0.0223 - val_loss: 5.8206e-04 - val_mae: 0.0192\n",
      "Epoch 9/20\n",
      "182/182 [==============================] - 1s 4ms/step - loss: 7.6794e-04 - mae: 0.0221 - val_loss: 5.4830e-04 - val_mae: 0.0188\n",
      "Epoch 10/20\n",
      "182/182 [==============================] - 1s 4ms/step - loss: 7.4584e-04 - mae: 0.0217 - val_loss: 6.3033e-04 - val_mae: 0.0206\n",
      "Epoch 11/20\n",
      "182/182 [==============================] - 1s 4ms/step - loss: 7.2876e-04 - mae: 0.0215 - val_loss: 4.9260e-04 - val_mae: 0.0179\n",
      "Epoch 12/20\n",
      "182/182 [==============================] - 1s 4ms/step - loss: 7.1373e-04 - mae: 0.0212 - val_loss: 4.9008e-04 - val_mae: 0.0179\n",
      "Epoch 13/20\n",
      "182/182 [==============================] - 1s 6ms/step - loss: 6.8941e-04 - mae: 0.0208 - val_loss: 5.0452e-04 - val_mae: 0.0183\n",
      "Epoch 14/20\n",
      "182/182 [==============================] - 1s 6ms/step - loss: 6.6375e-04 - mae: 0.0204 - val_loss: 4.0634e-04 - val_mae: 0.0163\n",
      "Epoch 15/20\n",
      "182/182 [==============================] - 1s 4ms/step - loss: 6.4778e-04 - mae: 0.0201 - val_loss: 3.8033e-04 - val_mae: 0.0155\n",
      "Epoch 16/20\n",
      "182/182 [==============================] - 1s 5ms/step - loss: 6.2307e-04 - mae: 0.0196 - val_loss: 3.7277e-04 - val_mae: 0.0154\n",
      "Epoch 17/20\n",
      "182/182 [==============================] - 1s 5ms/step - loss: 6.1201e-04 - mae: 0.0194 - val_loss: 3.6701e-04 - val_mae: 0.0153\n",
      "Epoch 18/20\n",
      "182/182 [==============================] - 1s 5ms/step - loss: 6.0097e-04 - mae: 0.0193 - val_loss: 3.5276e-04 - val_mae: 0.0149\n",
      "Epoch 19/20\n",
      "182/182 [==============================] - 1s 4ms/step - loss: 5.8316e-04 - mae: 0.0189 - val_loss: 3.1015e-04 - val_mae: 0.0139\n",
      "Epoch 20/20\n",
      "182/182 [==============================] - 1s 4ms/step - loss: 5.7109e-04 - mae: 0.0187 - val_loss: 3.4182e-04 - val_mae: 0.0148\n"
     ]
    }
   ],
   "source": [
    "model = build_model ()\n",
    "history = model.fit ( x_train, y_train, epochs = 20, batch_size = 256, validation_data = (x_val, y_val) )\n",
    "model.save(\"regr.h5\")"
   ]
  },
  {
   "cell_type": "code",
   "execution_count": 132,
   "metadata": {},
   "outputs": [
    {
     "data": {
      "image/png": "[encoded data removed]",
      "text/plain": [
       "<Figure size 432x288 with 1 Axes>"
      ]
     },
     "metadata": {
      "needs_background": "light"
     },
     "output_type": "display_data"
    }
   ],
   "source": [
    "import matplotlib.pyplot as plt\n",
    "\n",
    "loss = history.history['loss']\n",
    "val_loss = history.history['val_loss']\n",
    "\n",
    "epochs = range(1, len(loss) + 1)\n",
    "\n",
    "loss = history.history['loss']\n",
    "val_loss = history.history['val_loss']\n",
    "\n",
    "\n",
    "\n",
    "plt.plot(epochs, loss, 'bo', label='Training loss')\n",
    "plt.plot(epochs, val_loss, 'b', label='Validation loss')\n",
    "plt.title('Training and validation loss')\n",
    "plt.xlabel('Epochs')\n",
    "plt.ylabel('Loss')\n",
    "plt.legend()\n",
    "\n",
    "plt.show()"
   ]
  },
  {
   "cell_type": "markdown",
   "metadata": {},
   "source": [
    "## Test spectrum"
   ]
  },
  {
   "cell_type": "code",
   "execution_count": 111,
   "metadata": {},
   "outputs": [],
   "source": [
    "from tensorflow import keras\n",
    "model_regr = keras.models.load_model('regr.h5')\n",
    "model_class = keras.models.load_model('class.h5')"
   ]
  },
  {
   "cell_type": "code",
   "execution_count": 112,
   "metadata": {},
   "outputs": [],
   "source": [
    "def energy_spectrum(energy_array, bins):\n",
    "    energy_array = np.array(energy_array)\n",
    "    plt.hist(energy_array, bins, histtype=u'step')\n",
    "    plt.yscale(\"log\")\n",
    "    plt.show()"
   ]
  },
  {
   "cell_type": "code",
   "execution_count": 113,
   "metadata": {},
   "outputs": [],
   "source": [
    "final_p = []\n",
    "final_e = []\n",
    "\n",
    "for regr_pair in regr_data:\n",
    "    final_e.append(np.linalg.norm(regr_pair[10:13]))\n",
    "    final_p.append(np.linalg.norm(regr_pair[13:16]))"
   ]
  },
  {
   "cell_type": "code",
   "execution_count": 114,
   "metadata": {},
   "outputs": [
    {
     "data": {
      "image/png": "[encoded data removed]",
      "text/plain": [
       "<Figure size 432x288 with 1 Axes>"
      ]
     },
     "metadata": {
      "needs_background": "light"
     },
     "output_type": "display_data"
    }
   ],
   "source": [
    "energy_spectrum(final_e, 75)"
   ]
  },
  {
   "cell_type": "code",
   "execution_count": 115,
   "metadata": {},
   "outputs": [
    {
     "data": {
      "image/png": "[encoded data removed]",
      "text/plain": [
       "<Figure size 432x288 with 1 Axes>"
      ]
     },
     "metadata": {
      "needs_background": "light"
     },
     "output_type": "display_data"
    }
   ],
   "source": [
    "energy_spectrum(final_p, 75)"
   ]
  },
  {
   "cell_type": "code",
   "execution_count": 116,
   "metadata": {},
   "outputs": [
    {
     "data": {
      "text/plain": [
       "(62032, 6)"
      ]
     },
     "execution_count": 116,
     "metadata": {},
     "output_type": "execute_result"
    }
   ],
   "source": [
    "x.shape"
   ]
  },
  {
   "cell_type": "code",
   "execution_count": 117,
   "metadata": {},
   "outputs": [
    {
     "data": {
      "text/plain": [
       "array([-0.07047898,  0.1977108 ,  0.0149327 , -0.07014503, -0.01844846,\n",
       "        0.02172339])"
      ]
     },
     "execution_count": 117,
     "metadata": {},
     "output_type": "execute_result"
    }
   ],
   "source": [
    "x[0]"
   ]
  },
  {
   "cell_type": "code",
   "execution_count": 133,
   "metadata": {},
   "outputs": [
    {
     "name": "stdout",
     "output_type": "stream",
     "text": [
      "0.0%\n",
      "10.0%\n",
      "20.0%\n",
      "30.0%\n",
      "40.0%\n",
      "50.0%\n",
      "60.0%\n",
      "70.0%\n",
      "80.0%\n",
      "90.0%\n"
     ]
    }
   ],
   "source": [
    "from tensorflow import keras \n",
    "photon_final_nn = []\n",
    "threshold = 0.5\n",
    "num = 1000\n",
    "for i, x_ in enumerate(xc[:num]):\n",
    "    if i%100 == 0:\n",
    "        print(\"{}%\".format(i/len(xc[:num]) * 100))\n",
    "    x_ = np.array([x_])\n",
    "    classification = model_class.predict(np.stack(x_))\n",
    "    if classification >= threshold:\n",
    "        regr_x = np.array([x_[0,:6]])\n",
    "        regr_result = model_regr.predict(regr_x)\n",
    "        photon_final_nn.append(np.linalg.norm(regr_result[0]))"
   ]
  },
  {
   "cell_type": "code",
   "execution_count": 134,
   "metadata": {},
   "outputs": [
    {
     "data": {
      "image/png": "[encoded data removed]",
      "text/plain": [
       "<Figure size 432x288 with 1 Axes>"
      ]
     },
     "metadata": {
      "needs_background": "light"
     },
     "output_type": "display_data"
    }
   ],
   "source": [
    "energy_spectrum(photon_final_nn, 75)"
   ]
  },
  {
   "cell_type": "code",
   "execution_count": 135,
   "metadata": {},
   "outputs": [
    {
     "data": {
      "image/png": "[encoded data removed]",
      "text/plain": [
       "<Figure size 432x288 with 1 Axes>"
      ]
     },
     "metadata": {
      "needs_background": "light"
     },
     "output_type": "display_data"
    }
   ],
   "source": [
    "energy_spectrum(final_p, 75)"
   ]
  },
  {
   "cell_type": "code",
   "execution_count": 141,
   "metadata": {},
   "outputs": [
    {
     "data": {
      "image/png": "[encoded data removed]",
      "text/plain": [
       "<Figure size 432x288 with 1 Axes>"
      ]
     },
     "metadata": {
      "needs_background": "light"
     },
     "output_type": "display_data"
    }
   ],
   "source": [
    "# fixed bin size\n",
    "#bins = np.arange(0., 100, 100) \n",
    "\n",
    "plt.hist(photon_final_nn, 30, alpha=0.5, label='NN prediction', density = True)\n",
    "plt.hist(final_p, 100, alpha=0.5, label='Photon Momentum from simulations', density = True)\n",
    "plt.xlabel('Photon Momentum')\n",
    "plt.ylabel('count')\n",
    "plt.legend(loc='upper right')\n",
    "#plt.xlim((0, 0.25))\n",
    "#plt.ylim((0, 1000))\n",
    "plt.show()"
   ]
  },
  {
   "cell_type": "code",
   "execution_count": 142,
   "metadata": {},
   "outputs": [
    {
     "name": "stderr",
     "output_type": "stream",
     "text": [
      "<ipython-input-142-ab16d2c86326>:5: UserWarning: Matplotlib is currently using module://ipykernel.pylab.backend_inline, which is a non-GUI backend, so cannot show the figure.\n",
      "  fig.show()\n"
     ]
    },
    {
     "data": {
      "image/png": "[encoded data removed]",
      "text/plain": [
       "<Figure size 432x288 with 2 Axes>"
      ]
     },
     "metadata": {
      "needs_background": "light"
     },
     "output_type": "display_data"
    }
   ],
   "source": [
    "fig, axs = plt.subplots(2, sharex = True)\n",
    "fig.suptitle('Vertically stacked subplots')\n",
    "axs[0].hist(photon_final_nn, 100, alpha=0.5, label='NN prediction', density = True)\n",
    "axs[1].hist(final_p, 1000, alpha=0.5, label='Photon Momentum from simulations', density = True)\n",
    "fig.show()"
   ]
  },
  {
   "cell_type": "code",
   "execution_count": null,
   "metadata": {},
   "outputs": [],
   "source": []
  }
 ],
 "metadata": {
  "kernelspec": {
   "display_name": "Python 3",
   "language": "python",
   "name": "python3"
  },
  "language_info": {
   "codemirror_mode": {
    "name": "ipython",
    "version": 3
   },
   "file_extension": ".py",
   "mimetype": "text/x-python",
   "name": "python",
   "nbconvert_exporter": "python",
   "pygments_lexer": "ipython3",
   "version": "3.8.7"
  }
 },
 "nbformat": 4,
 "nbformat_minor": 4
}
