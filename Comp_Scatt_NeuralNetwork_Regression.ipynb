{
 "cells": [
  {
   "cell_type": "code",
   "execution_count": 1,
   "metadata": {},
   "outputs": [
    {
     "name": "stdout",
     "output_type": "stream",
     "text": [
      "1.2.0\n"
     ]
    }
   ],
   "source": [
    "import pandas as pd \n",
    "import numpy as np\n",
    "import math\n",
    "import tensorflow as tf\n",
    "print(pd.__version__)"
   ]
  },
  {
   "cell_type": "markdown",
   "metadata": {},
   "source": [
    "## Print Dependencies\n",
    "\n",
    "\n",
    "\n",
    "Dependences are fundamental to record the computational environment."
   ]
  },
  {
   "cell_type": "code",
   "execution_count": 2,
   "metadata": {},
   "outputs": [
    {
     "name": "stdout",
     "output_type": "stream",
     "text": [
      "Python implementation: CPython\n",
      "Python version       : 3.7.7\n",
      "IPython version      : 7.19.0\n",
      "\n",
      "pandas    : 1.2.0\n",
      "keras     : 2.4.3\n",
      "numpy     : 1.19.5\n",
      "math      : unknown\n",
      "tensorflow: 2.4.0\n",
      "matplotlib: 3.3.3\n",
      "h5py      : 2.10.0\n",
      "\n",
      "Compiler    : GCC 5.4.0 20160609\n",
      "OS          : Linux\n",
      "Release     : 5.8.0-40-generic\n",
      "Machine     : x86_64\n",
      "Processor   : x86_64\n",
      "CPU cores   : 8\n",
      "Architecture: 64bit\n",
      "\n",
      " \n",
      "Last updated: Mon Jan 25 2021 15:20:16CET\n",
      "\n"
     ]
    }
   ],
   "source": [
    "%load_ext watermark\n",
    "\n",
    "# python, ipython, packages, and machine characteristics\n",
    "%watermark -v -m -p pandas,keras,numpy,math,tensorflow,matplotlib,h5py\n",
    "\n",
    "# date\n",
    "print (\" \")\n",
    "%watermark -u -n -t -z"
   ]
  },
  {
   "cell_type": "markdown",
   "metadata": {},
   "source": [
    "## Load of the data"
   ]
  },
  {
   "cell_type": "code",
   "execution_count": 3,
   "metadata": {},
   "outputs": [],
   "source": [
    "regen_data = True \n",
    "# If we keep it as false, it's going to just load the data. If true it's going to regenerate the data again "
   ]
  },
  {
   "cell_type": "code",
   "execution_count": 4,
   "metadata": {},
   "outputs": [
    {
     "name": "stdout",
     "output_type": "stream",
     "text": [
      "Reading file 1, progress 20.0%\n",
      "Reading file 2, progress 40.0%\n",
      "Reading file 3, progress 60.0%\n",
      "Reading file 4, progress 80.0%\n"
     ]
    }
   ],
   "source": [
    "if regen_data:\n",
    "    from process import load_generate_data\n",
    "    from process import savedata\n",
    "    regr_data, class_data = load_generate_data(0.1, 5)\n",
    "    savedata(regr_data, \"regression_data-2.csv\")"
   ]
  },
  {
   "cell_type": "code",
   "execution_count": 5,
   "metadata": {},
   "outputs": [],
   "source": [
    "if not regen_data:\n",
    "    from process import loaddata\n",
    "    regr_data = loaddata(\"regression_data-2.csv\")"
   ]
  },
  {
   "cell_type": "code",
   "execution_count": 6,
   "metadata": {},
   "outputs": [],
   "source": [
    "np.random.shuffle(regr_data)\n",
    "y = regr_data[:,-3:]\n",
    "x = regr_data[:,:5]"
   ]
  },
  {
   "cell_type": "code",
   "execution_count": 7,
   "metadata": {},
   "outputs": [
    {
     "name": "stdout",
     "output_type": "stream",
     "text": [
      "Training sample: 2169 \n",
      "Valuation sample: 723\n"
     ]
    }
   ],
   "source": [
    "train_split = 0.75\n",
    "train_limit = int(len(y)*train_split)\n",
    "print(\"Training sample: {0} \\nValuation sample: {1}\".format(train_limit, len(y)-train_limit))"
   ]
  },
  {
   "cell_type": "code",
   "execution_count": 8,
   "metadata": {},
   "outputs": [
    {
     "data": {
      "text/plain": [
       "(2892, 5)"
      ]
     },
     "execution_count": 8,
     "metadata": {},
     "output_type": "execute_result"
    }
   ],
   "source": [
    "x.shape"
   ]
  },
  {
   "cell_type": "code",
   "execution_count": 9,
   "metadata": {},
   "outputs": [],
   "source": [
    "x_train = x[:train_limit]\n",
    "x_val = x[train_limit:]\n",
    "\n",
    "y_train = y[:train_limit]\n",
    "y_val = y[train_limit:]"
   ]
  },
  {
   "cell_type": "markdown",
   "metadata": {},
   "source": [
    "## Model Build"
   ]
  },
  {
   "cell_type": "code",
   "execution_count": 10,
   "metadata": {},
   "outputs": [],
   "source": [
    "from keras.models import Sequential\n",
    "from keras.layers.core import Dense\n",
    "import keras.backend as K\n",
    "from keras import optimizers\n",
    "from keras import models\n",
    "from keras import layers"
   ]
  },
  {
   "cell_type": "code",
   "execution_count": 11,
   "metadata": {},
   "outputs": [],
   "source": [
    "def build_model() :\n",
    "    model = models.Sequential()\n",
    "    model.add (layers.Dense (6, activation = \"sigmoid\" , input_shape = x.shape))\n",
    "    model.add(layers.Dropout(0.3))\n",
    "    model.add (layers.Dense (8, activation = \"relu\"))\n",
    "    model.add(layers.Dropout(0.3))\n",
    "    model.add (layers.Dense (3))\n",
    "    model.compile(optimizer = \"rmsprop\" , loss = \"mse\" , metrics =[\"mae\"])\n",
    "    return model"
   ]
  },
  {
   "cell_type": "code",
   "execution_count": 12,
   "metadata": {},
   "outputs": [
    {
     "name": "stdout",
     "output_type": "stream",
     "text": [
      "Epoch 1/100\n",
      "WARNING:tensorflow:Model was constructed with shape (None, 2892, 5) for input KerasTensor(type_spec=TensorSpec(shape=(None, 2892, 5), dtype=tf.float32, name='dense_input'), name='dense_input', description=\"created by layer 'dense_input'\"), but it was called on an input with incompatible shape (None, 5).\n",
      "WARNING:tensorflow:Model was constructed with shape (None, 2892, 5) for input KerasTensor(type_spec=TensorSpec(shape=(None, 2892, 5), dtype=tf.float32, name='dense_input'), name='dense_input', description=\"created by layer 'dense_input'\"), but it was called on an input with incompatible shape (None, 5).\n",
      "1/2 [==============>...............] - ETA: 0s - loss: 0.3015 - mae: 0.3676WARNING:tensorflow:Model was constructed with shape (None, 2892, 5) for input KerasTensor(type_spec=TensorSpec(shape=(None, 2892, 5), dtype=tf.float32, name='dense_input'), name='dense_input', description=\"created by layer 'dense_input'\"), but it was called on an input with incompatible shape (None, 5).\n",
      "2/2 [==============================] - 1s 555ms/step - loss: 0.2981 - mae: 0.3656 - val_loss: 0.1398 - val_mae: 0.2793\n",
      "Epoch 2/100\n",
      "2/2 [==============================] - 0s 29ms/step - loss: 0.2476 - mae: 0.3302 - val_loss: 0.1234 - val_mae: 0.2612\n",
      "Epoch 3/100\n",
      "2/2 [==============================] - 0s 29ms/step - loss: 0.2314 - mae: 0.3202 - val_loss: 0.1113 - val_mae: 0.2473\n",
      "Epoch 4/100\n",
      "2/2 [==============================] - 0s 29ms/step - loss: 0.2169 - mae: 0.3091 - val_loss: 0.1013 - val_mae: 0.2355\n",
      "Epoch 5/100\n",
      "2/2 [==============================] - 0s 30ms/step - loss: 0.1967 - mae: 0.2930 - val_loss: 0.0938 - val_mae: 0.2270\n",
      "Epoch 6/100\n",
      "2/2 [==============================] - 0s 31ms/step - loss: 0.1905 - mae: 0.2885 - val_loss: 0.0859 - val_mae: 0.2172\n",
      "Epoch 7/100\n",
      "2/2 [==============================] - 0s 32ms/step - loss: 0.1726 - mae: 0.2758 - val_loss: 0.0792 - val_mae: 0.2080\n",
      "Epoch 8/100\n",
      "2/2 [==============================] - 0s 31ms/step - loss: 0.1715 - mae: 0.2760 - val_loss: 0.0728 - val_mae: 0.1996\n",
      "Epoch 9/100\n",
      "2/2 [==============================] - 0s 33ms/step - loss: 0.1564 - mae: 0.2626 - val_loss: 0.0665 - val_mae: 0.1900\n",
      "Epoch 10/100\n",
      "2/2 [==============================] - 0s 36ms/step - loss: 0.1545 - mae: 0.2594 - val_loss: 0.0616 - val_mae: 0.1822\n",
      "Epoch 11/100\n",
      "2/2 [==============================] - 0s 37ms/step - loss: 0.1419 - mae: 0.2479 - val_loss: 0.0575 - val_mae: 0.1749\n",
      "Epoch 12/100\n",
      "2/2 [==============================] - 0s 33ms/step - loss: 0.1355 - mae: 0.2423 - val_loss: 0.0538 - val_mae: 0.1691\n",
      "Epoch 13/100\n",
      "2/2 [==============================] - 0s 33ms/step - loss: 0.1268 - mae: 0.2346 - val_loss: 0.0502 - val_mae: 0.1627\n",
      "Epoch 14/100\n",
      "2/2 [==============================] - 0s 34ms/step - loss: 0.1267 - mae: 0.2329 - val_loss: 0.0465 - val_mae: 0.1559\n",
      "Epoch 15/100\n",
      "2/2 [==============================] - 0s 35ms/step - loss: 0.1239 - mae: 0.2318 - val_loss: 0.0432 - val_mae: 0.1499\n",
      "Epoch 16/100\n",
      "2/2 [==============================] - 0s 32ms/step - loss: 0.1108 - mae: 0.2216 - val_loss: 0.0403 - val_mae: 0.1446\n",
      "Epoch 17/100\n",
      "2/2 [==============================] - 0s 31ms/step - loss: 0.1047 - mae: 0.2147 - val_loss: 0.0375 - val_mae: 0.1390\n",
      "Epoch 18/100\n",
      "2/2 [==============================] - 0s 30ms/step - loss: 0.1011 - mae: 0.2104 - val_loss: 0.0347 - val_mae: 0.1328\n",
      "Epoch 19/100\n",
      "2/2 [==============================] - 0s 31ms/step - loss: 0.0936 - mae: 0.2026 - val_loss: 0.0322 - val_mae: 0.1286\n",
      "Epoch 20/100\n",
      "2/2 [==============================] - 0s 39ms/step - loss: 0.0908 - mae: 0.1983 - val_loss: 0.0299 - val_mae: 0.1233\n",
      "Epoch 21/100\n",
      "2/2 [==============================] - 0s 39ms/step - loss: 0.0872 - mae: 0.1956 - val_loss: 0.0274 - val_mae: 0.1173\n",
      "Epoch 22/100\n",
      "2/2 [==============================] - 0s 41ms/step - loss: 0.0864 - mae: 0.1954 - val_loss: 0.0251 - val_mae: 0.1118\n",
      "Epoch 23/100\n",
      "2/2 [==============================] - 0s 43ms/step - loss: 0.0767 - mae: 0.1842 - val_loss: 0.0229 - val_mae: 0.1060\n",
      "Epoch 24/100\n",
      "2/2 [==============================] - 0s 41ms/step - loss: 0.0739 - mae: 0.1837 - val_loss: 0.0209 - val_mae: 0.1011\n",
      "Epoch 25/100\n",
      "2/2 [==============================] - 0s 33ms/step - loss: 0.0687 - mae: 0.1773 - val_loss: 0.0192 - val_mae: 0.0965\n",
      "Epoch 26/100\n",
      "2/2 [==============================] - 0s 31ms/step - loss: 0.0693 - mae: 0.1757 - val_loss: 0.0174 - val_mae: 0.0910\n",
      "Epoch 27/100\n",
      "2/2 [==============================] - 0s 30ms/step - loss: 0.0647 - mae: 0.1692 - val_loss: 0.0157 - val_mae: 0.0868\n",
      "Epoch 28/100\n",
      "2/2 [==============================] - 0s 32ms/step - loss: 0.0613 - mae: 0.1659 - val_loss: 0.0140 - val_mae: 0.0809\n",
      "Epoch 29/100\n",
      "2/2 [==============================] - 0s 41ms/step - loss: 0.0555 - mae: 0.1599 - val_loss: 0.0125 - val_mae: 0.0757\n",
      "Epoch 30/100\n",
      "2/2 [==============================] - 0s 42ms/step - loss: 0.0542 - mae: 0.1548 - val_loss: 0.0113 - val_mae: 0.0739\n",
      "Epoch 31/100\n",
      "2/2 [==============================] - 0s 42ms/step - loss: 0.0534 - mae: 0.1557 - val_loss: 0.0100 - val_mae: 0.0693\n",
      "Epoch 32/100\n",
      "2/2 [==============================] - 0s 41ms/step - loss: 0.0471 - mae: 0.1463 - val_loss: 0.0088 - val_mae: 0.0646\n",
      "Epoch 33/100\n",
      "2/2 [==============================] - 0s 41ms/step - loss: 0.0485 - mae: 0.1486 - val_loss: 0.0078 - val_mae: 0.0617\n",
      "Epoch 34/100\n",
      "2/2 [==============================] - 0s 38ms/step - loss: 0.0449 - mae: 0.1427 - val_loss: 0.0068 - val_mae: 0.0583\n",
      "Epoch 35/100\n",
      "2/2 [==============================] - 0s 33ms/step - loss: 0.0406 - mae: 0.1358 - val_loss: 0.0059 - val_mae: 0.0544\n",
      "Epoch 36/100\n",
      "2/2 [==============================] - 0s 34ms/step - loss: 0.0394 - mae: 0.1356 - val_loss: 0.0050 - val_mae: 0.0506\n",
      "Epoch 37/100\n",
      "2/2 [==============================] - 0s 33ms/step - loss: 0.0369 - mae: 0.1315 - val_loss: 0.0042 - val_mae: 0.0459\n",
      "Epoch 38/100\n",
      "2/2 [==============================] - 0s 30ms/step - loss: 0.0351 - mae: 0.1286 - val_loss: 0.0035 - val_mae: 0.0414\n",
      "Epoch 39/100\n",
      "2/2 [==============================] - 0s 30ms/step - loss: 0.0334 - mae: 0.1260 - val_loss: 0.0029 - val_mae: 0.0369\n",
      "Epoch 40/100\n",
      "2/2 [==============================] - 0s 29ms/step - loss: 0.0325 - mae: 0.1249 - val_loss: 0.0023 - val_mae: 0.0332\n",
      "Epoch 41/100\n",
      "2/2 [==============================] - 0s 30ms/step - loss: 0.0315 - mae: 0.1215 - val_loss: 0.0019 - val_mae: 0.0311\n",
      "Epoch 42/100\n",
      "2/2 [==============================] - 0s 31ms/step - loss: 0.0288 - mae: 0.1181 - val_loss: 0.0014 - val_mae: 0.0262\n",
      "Epoch 43/100\n",
      "2/2 [==============================] - 0s 31ms/step - loss: 0.0268 - mae: 0.1149 - val_loss: 0.0010 - val_mae: 0.0230\n",
      "Epoch 44/100\n",
      "2/2 [==============================] - 0s 31ms/step - loss: 0.0272 - mae: 0.1144 - val_loss: 7.1693e-04 - val_mae: 0.0196\n",
      "Epoch 45/100\n",
      "2/2 [==============================] - 0s 32ms/step - loss: 0.0249 - mae: 0.1103 - val_loss: 4.8303e-04 - val_mae: 0.0169\n",
      "Epoch 46/100\n",
      "2/2 [==============================] - 0s 31ms/step - loss: 0.0249 - mae: 0.1107 - val_loss: 3.0808e-04 - val_mae: 0.0149\n",
      "Epoch 47/100\n",
      "2/2 [==============================] - 0s 31ms/step - loss: 0.0237 - mae: 0.1077 - val_loss: 1.5903e-04 - val_mae: 0.0110\n",
      "Epoch 48/100\n",
      "2/2 [==============================] - 0s 31ms/step - loss: 0.0227 - mae: 0.1063 - val_loss: 8.8215e-05 - val_mae: 0.0088\n",
      "Epoch 49/100\n",
      "2/2 [==============================] - 0s 34ms/step - loss: 0.0196 - mae: 0.0996 - val_loss: 4.4410e-05 - val_mae: 0.0054\n",
      "Epoch 50/100\n",
      "2/2 [==============================] - 0s 30ms/step - loss: 0.0200 - mae: 0.1005 - val_loss: 3.9274e-05 - val_mae: 0.0042\n",
      "Epoch 51/100\n",
      "2/2 [==============================] - 0s 29ms/step - loss: 0.0186 - mae: 0.0976 - val_loss: 5.6310e-05 - val_mae: 0.0062\n",
      "Epoch 52/100\n",
      "2/2 [==============================] - 0s 30ms/step - loss: 0.0175 - mae: 0.0947 - val_loss: 7.1760e-05 - val_mae: 0.0069\n",
      "Epoch 53/100\n",
      "2/2 [==============================] - 0s 34ms/step - loss: 0.0179 - mae: 0.0958 - val_loss: 1.1923e-04 - val_mae: 0.0086\n",
      "Epoch 54/100\n",
      "2/2 [==============================] - 0s 35ms/step - loss: 0.0160 - mae: 0.0917 - val_loss: 1.7992e-04 - val_mae: 0.0098\n",
      "Epoch 55/100\n",
      "2/2 [==============================] - 0s 43ms/step - loss: 0.0162 - mae: 0.0915 - val_loss: 2.5096e-04 - val_mae: 0.0119\n"
     ]
    },
    {
     "name": "stdout",
     "output_type": "stream",
     "text": [
      "Epoch 56/100\n",
      "2/2 [==============================] - 0s 48ms/step - loss: 0.0160 - mae: 0.0898 - val_loss: 3.4756e-04 - val_mae: 0.0128\n",
      "Epoch 57/100\n",
      "2/2 [==============================] - 0s 48ms/step - loss: 0.0147 - mae: 0.0883 - val_loss: 4.5145e-04 - val_mae: 0.0141\n",
      "Epoch 58/100\n",
      "2/2 [==============================] - 0s 50ms/step - loss: 0.0145 - mae: 0.0861 - val_loss: 5.8611e-04 - val_mae: 0.0149\n",
      "Epoch 59/100\n",
      "2/2 [==============================] - 0s 42ms/step - loss: 0.0135 - mae: 0.0842 - val_loss: 6.7780e-04 - val_mae: 0.0170\n",
      "Epoch 60/100\n",
      "2/2 [==============================] - 0s 42ms/step - loss: 0.0130 - mae: 0.0821 - val_loss: 7.5894e-04 - val_mae: 0.0178\n",
      "Epoch 61/100\n",
      "2/2 [==============================] - 0s 37ms/step - loss: 0.0123 - mae: 0.0805 - val_loss: 7.7383e-04 - val_mae: 0.0179\n",
      "Epoch 62/100\n",
      "2/2 [==============================] - 0s 45ms/step - loss: 0.0128 - mae: 0.0802 - val_loss: 9.3421e-04 - val_mae: 0.0198\n",
      "Epoch 63/100\n",
      "2/2 [==============================] - 0s 39ms/step - loss: 0.0121 - mae: 0.0784 - val_loss: 0.0010 - val_mae: 0.0196\n",
      "Epoch 64/100\n",
      "2/2 [==============================] - 0s 41ms/step - loss: 0.0109 - mae: 0.0749 - val_loss: 0.0012 - val_mae: 0.0228\n",
      "Epoch 65/100\n",
      "2/2 [==============================] - 0s 44ms/step - loss: 0.0108 - mae: 0.0728 - val_loss: 0.0012 - val_mae: 0.0227\n",
      "Epoch 66/100\n",
      "2/2 [==============================] - 0s 39ms/step - loss: 0.0103 - mae: 0.0711 - val_loss: 0.0014 - val_mae: 0.0248\n",
      "Epoch 67/100\n",
      "2/2 [==============================] - 0s 37ms/step - loss: 0.0103 - mae: 0.0708 - val_loss: 0.0014 - val_mae: 0.0234\n",
      "Epoch 68/100\n",
      "2/2 [==============================] - 0s 34ms/step - loss: 0.0095 - mae: 0.0679 - val_loss: 0.0014 - val_mae: 0.0251\n",
      "Epoch 69/100\n",
      "2/2 [==============================] - 0s 33ms/step - loss: 0.0091 - mae: 0.0663 - val_loss: 0.0016 - val_mae: 0.0270\n",
      "Epoch 70/100\n",
      "2/2 [==============================] - 0s 33ms/step - loss: 0.0086 - mae: 0.0640 - val_loss: 0.0017 - val_mae: 0.0291\n",
      "Epoch 71/100\n",
      "2/2 [==============================] - 0s 33ms/step - loss: 0.0083 - mae: 0.0631 - val_loss: 0.0017 - val_mae: 0.0290\n",
      "Epoch 72/100\n",
      "2/2 [==============================] - 0s 31ms/step - loss: 0.0082 - mae: 0.0621 - val_loss: 0.0017 - val_mae: 0.0287\n",
      "Epoch 73/100\n",
      "2/2 [==============================] - 0s 31ms/step - loss: 0.0076 - mae: 0.0603 - val_loss: 0.0018 - val_mae: 0.0300\n",
      "Epoch 74/100\n",
      "2/2 [==============================] - 0s 32ms/step - loss: 0.0075 - mae: 0.0600 - val_loss: 0.0017 - val_mae: 0.0284\n",
      "Epoch 75/100\n",
      "2/2 [==============================] - 0s 32ms/step - loss: 0.0073 - mae: 0.0578 - val_loss: 0.0018 - val_mae: 0.0315\n",
      "Epoch 76/100\n",
      "2/2 [==============================] - 0s 37ms/step - loss: 0.0073 - mae: 0.0572 - val_loss: 0.0018 - val_mae: 0.0316\n",
      "Epoch 77/100\n",
      "2/2 [==============================] - 0s 35ms/step - loss: 0.0064 - mae: 0.0540 - val_loss: 0.0017 - val_mae: 0.0296\n",
      "Epoch 78/100\n",
      "2/2 [==============================] - 0s 34ms/step - loss: 0.0067 - mae: 0.0541 - val_loss: 0.0020 - val_mae: 0.0339\n",
      "Epoch 79/100\n",
      "2/2 [==============================] - 0s 33ms/step - loss: 0.0061 - mae: 0.0526 - val_loss: 0.0020 - val_mae: 0.0325\n",
      "Epoch 80/100\n",
      "2/2 [==============================] - 0s 33ms/step - loss: 0.0057 - mae: 0.0498 - val_loss: 0.0020 - val_mae: 0.0336\n",
      "Epoch 81/100\n",
      "2/2 [==============================] - 0s 31ms/step - loss: 0.0057 - mae: 0.0501 - val_loss: 0.0020 - val_mae: 0.0335\n",
      "Epoch 82/100\n",
      "2/2 [==============================] - 0s 38ms/step - loss: 0.0054 - mae: 0.0479 - val_loss: 0.0019 - val_mae: 0.0338\n",
      "Epoch 83/100\n",
      "2/2 [==============================] - 0s 37ms/step - loss: 0.0050 - mae: 0.0462 - val_loss: 0.0021 - val_mae: 0.0356\n",
      "Epoch 84/100\n",
      "2/2 [==============================] - 0s 37ms/step - loss: 0.0051 - mae: 0.0467 - val_loss: 0.0021 - val_mae: 0.0365\n",
      "Epoch 85/100\n",
      "2/2 [==============================] - 0s 33ms/step - loss: 0.0050 - mae: 0.0465 - val_loss: 0.0021 - val_mae: 0.0364\n",
      "Epoch 86/100\n",
      "2/2 [==============================] - 0s 32ms/step - loss: 0.0047 - mae: 0.0444 - val_loss: 0.0021 - val_mae: 0.0357\n",
      "Epoch 87/100\n",
      "2/2 [==============================] - 0s 33ms/step - loss: 0.0044 - mae: 0.0425 - val_loss: 0.0020 - val_mae: 0.0346\n",
      "Epoch 88/100\n",
      "2/2 [==============================] - 0s 33ms/step - loss: 0.0041 - mae: 0.0407 - val_loss: 0.0019 - val_mae: 0.0334\n",
      "Epoch 89/100\n",
      "2/2 [==============================] - 0s 32ms/step - loss: 0.0040 - mae: 0.0400 - val_loss: 0.0017 - val_mae: 0.0310\n",
      "Epoch 90/100\n",
      "2/2 [==============================] - 0s 33ms/step - loss: 0.0040 - mae: 0.0392 - val_loss: 0.0015 - val_mae: 0.0300\n",
      "Epoch 91/100\n",
      "2/2 [==============================] - 0s 35ms/step - loss: 0.0035 - mae: 0.0371 - val_loss: 0.0014 - val_mae: 0.0286\n",
      "Epoch 92/100\n",
      "2/2 [==============================] - 0s 31ms/step - loss: 0.0033 - mae: 0.0352 - val_loss: 0.0013 - val_mae: 0.0273\n",
      "Epoch 93/100\n",
      "2/2 [==============================] - 0s 31ms/step - loss: 0.0033 - mae: 0.0355 - val_loss: 0.0014 - val_mae: 0.0294\n",
      "Epoch 94/100\n",
      "2/2 [==============================] - 0s 32ms/step - loss: 0.0032 - mae: 0.0359 - val_loss: 0.0012 - val_mae: 0.0271\n",
      "Epoch 95/100\n",
      "2/2 [==============================] - 0s 35ms/step - loss: 0.0033 - mae: 0.0354 - val_loss: 0.0011 - val_mae: 0.0249\n",
      "Epoch 96/100\n",
      "2/2 [==============================] - 0s 33ms/step - loss: 0.0033 - mae: 0.0343 - val_loss: 9.9558e-04 - val_mae: 0.0235\n",
      "Epoch 97/100\n",
      "2/2 [==============================] - 0s 35ms/step - loss: 0.0030 - mae: 0.0329 - val_loss: 9.6031e-04 - val_mae: 0.0235\n",
      "Epoch 98/100\n",
      "2/2 [==============================] - 0s 32ms/step - loss: 0.0028 - mae: 0.0320 - val_loss: 8.5669e-04 - val_mae: 0.0213\n",
      "Epoch 99/100\n",
      "2/2 [==============================] - 0s 31ms/step - loss: 0.0027 - mae: 0.0309 - val_loss: 8.2389e-04 - val_mae: 0.0215\n",
      "Epoch 100/100\n",
      "2/2 [==============================] - 0s 32ms/step - loss: 0.0025 - mae: 0.0296 - val_loss: 7.1007e-04 - val_mae: 0.0190\n"
     ]
    }
   ],
   "source": [
    "model = build_model()\n",
    "history = model.fit ( x_train, y_train, epochs = 100, batch_size = 2032, validation_data = (x_val, y_val) )\n",
    "model.save(\"regr.h5\")"
   ]
  },
  {
   "cell_type": "code",
   "execution_count": 13,
   "metadata": {
    "scrolled": false
   },
   "outputs": [
    {
     "data": {
      "image/png": "[encoded data removed]",
      "text/plain": [
       "<Figure size 432x288 with 1 Axes>"
      ]
     },
     "metadata": {
      "needs_background": "light"
     },
     "output_type": "display_data"
    }
   ],
   "source": [
    "import matplotlib.pyplot as plt\n",
    "\n",
    "mae = history.history['mae']\n",
    "val_mae = history.history['val_mae']\n",
    "\n",
    "epochs = range(1, len(mae) + 1)\n",
    "\n",
    "plt.plot(epochs, mae, 'bo', label='Training mae')\n",
    "plt.plot(epochs, val_mae, 'b', label='Validation mae')\n",
    "plt.title('Training and validation accuracy')\n",
    "plt.xlabel('Epochs')\n",
    "plt.ylabel('mae')\n",
    "plt.legend()\n",
    "\n",
    "plt.show()"
   ]
  },
  {
   "cell_type": "code",
   "execution_count": 14,
   "metadata": {},
   "outputs": [
    {
     "data": {
      "image/png": "[encoded data removed]",
      "text/plain": [
       "<Figure size 432x288 with 1 Axes>"
      ]
     },
     "metadata": {
      "needs_background": "light"
     },
     "output_type": "display_data"
    }
   ],
   "source": [
    "plt.clf()   # clear figure\n",
    "\n",
    "loss = history.history['loss']\n",
    "val_loss = history.history['val_loss']\n",
    "\n",
    "\n",
    "\n",
    "plt.plot(epochs, loss, 'bo', label='Training loss')\n",
    "plt.plot(epochs, val_loss, 'b', label='Validation loss')\n",
    "plt.title('Training and validation loss')\n",
    "plt.xlabel('Epochs')\n",
    "plt.ylabel('Loss')\n",
    "plt.legend()\n",
    "\n",
    "plt.show()"
   ]
  },
  {
   "cell_type": "markdown",
   "metadata": {},
   "source": [
    "## !! \n",
    "The dropout 0.2 seems to work better"
   ]
  },
  {
   "cell_type": "code",
   "execution_count": 15,
   "metadata": {},
   "outputs": [],
   "source": [
    "def build_model() :\n",
    "    model = models.Sequential()\n",
    "    model.add (layers.Dense (6, activation = \"sigmoid\" , input_shape = x.shape))\n",
    "    model.add(layers.Dropout(0.2))\n",
    "    model.add (layers.Dense (6, activation = \"relu\"))\n",
    "    model.add(layers.Dropout(0.2))\n",
    "    model.add (layers.Dense (6, activation = \"relu\"))\n",
    "    model.add(layers.Dropout(0.2))\n",
    "    model.add (layers.Dense (3))\n",
    "    model.compile(optimizer = \"rmsprop\" , loss = \"mse\" , metrics =[\"mae\"])\n",
    "    return model"
   ]
  },
  {
   "cell_type": "code",
   "execution_count": 16,
   "metadata": {},
   "outputs": [
    {
     "name": "stdout",
     "output_type": "stream",
     "text": [
      "Epoch 1/100\n",
      "WARNING:tensorflow:Model was constructed with shape (None, 2892, 5) for input KerasTensor(type_spec=TensorSpec(shape=(None, 2892, 5), dtype=tf.float32, name='dense_3_input'), name='dense_3_input', description=\"created by layer 'dense_3_input'\"), but it was called on an input with incompatible shape (None, 5).\n",
      "WARNING:tensorflow:Model was constructed with shape (None, 2892, 5) for input KerasTensor(type_spec=TensorSpec(shape=(None, 2892, 5), dtype=tf.float32, name='dense_3_input'), name='dense_3_input', description=\"created by layer 'dense_3_input'\"), but it was called on an input with incompatible shape (None, 5).\n",
      "1/2 [==============>...............] - ETA: 0s - loss: 0.2140 - mae: 0.3586WARNING:tensorflow:Model was constructed with shape (None, 2892, 5) for input KerasTensor(type_spec=TensorSpec(shape=(None, 2892, 5), dtype=tf.float32, name='dense_3_input'), name='dense_3_input', description=\"created by layer 'dense_3_input'\"), but it was called on an input with incompatible shape (None, 5).\n",
      "2/2 [==============================] - 1s 150ms/step - loss: 0.2133 - mae: 0.3583 - val_loss: 0.0528 - val_mae: 0.2018\n",
      "Epoch 2/100\n",
      "2/2 [==============================] - 0s 30ms/step - loss: 0.1734 - mae: 0.3205 - val_loss: 0.0398 - val_mae: 0.1714\n",
      "Epoch 3/100\n",
      "2/2 [==============================] - 0s 33ms/step - loss: 0.1579 - mae: 0.3045 - val_loss: 0.0302 - val_mae: 0.1450\n",
      "Epoch 4/100\n",
      "2/2 [==============================] - 0s 38ms/step - loss: 0.1403 - mae: 0.2875 - val_loss: 0.0243 - val_mae: 0.1275\n",
      "Epoch 5/100\n",
      "2/2 [==============================] - 0s 38ms/step - loss: 0.1295 - mae: 0.2743 - val_loss: 0.0202 - val_mae: 0.1177\n",
      "Epoch 6/100\n",
      "2/2 [==============================] - 0s 37ms/step - loss: 0.1184 - mae: 0.2614 - val_loss: 0.0176 - val_mae: 0.1112\n",
      "Epoch 7/100\n",
      "2/2 [==============================] - 0s 37ms/step - loss: 0.1067 - mae: 0.2483 - val_loss: 0.0155 - val_mae: 0.1051\n",
      "Epoch 8/100\n",
      "2/2 [==============================] - 0s 41ms/step - loss: 0.0982 - mae: 0.2376 - val_loss: 0.0132 - val_mae: 0.0987\n",
      "Epoch 9/100\n",
      "2/2 [==============================] - 0s 35ms/step - loss: 0.0992 - mae: 0.2398 - val_loss: 0.0117 - val_mae: 0.0936\n",
      "Epoch 10/100\n",
      "2/2 [==============================] - 0s 36ms/step - loss: 0.0928 - mae: 0.2286 - val_loss: 0.0103 - val_mae: 0.0886\n",
      "Epoch 11/100\n",
      "2/2 [==============================] - 0s 38ms/step - loss: 0.0843 - mae: 0.2166 - val_loss: 0.0091 - val_mae: 0.0839\n",
      "Epoch 12/100\n",
      "2/2 [==============================] - 0s 37ms/step - loss: 0.0816 - mae: 0.2137 - val_loss: 0.0078 - val_mae: 0.0787\n",
      "Epoch 13/100\n",
      "2/2 [==============================] - 0s 36ms/step - loss: 0.0722 - mae: 0.2001 - val_loss: 0.0068 - val_mae: 0.0741\n",
      "Epoch 14/100\n",
      "2/2 [==============================] - 0s 38ms/step - loss: 0.0727 - mae: 0.1993 - val_loss: 0.0058 - val_mae: 0.0692\n",
      "Epoch 15/100\n",
      "2/2 [==============================] - 0s 39ms/step - loss: 0.0655 - mae: 0.1902 - val_loss: 0.0050 - val_mae: 0.0651\n",
      "Epoch 16/100\n",
      "2/2 [==============================] - 0s 47ms/step - loss: 0.0621 - mae: 0.1852 - val_loss: 0.0042 - val_mae: 0.0607\n",
      "Epoch 17/100\n",
      "2/2 [==============================] - 0s 44ms/step - loss: 0.0587 - mae: 0.1791 - val_loss: 0.0037 - val_mae: 0.0570\n",
      "Epoch 18/100\n",
      "2/2 [==============================] - 0s 37ms/step - loss: 0.0555 - mae: 0.1715 - val_loss: 0.0031 - val_mae: 0.0529\n",
      "Epoch 19/100\n",
      "2/2 [==============================] - 0s 34ms/step - loss: 0.0514 - mae: 0.1665 - val_loss: 0.0027 - val_mae: 0.0495\n",
      "Epoch 20/100\n",
      "2/2 [==============================] - 0s 37ms/step - loss: 0.0490 - mae: 0.1597 - val_loss: 0.0022 - val_mae: 0.0455\n",
      "Epoch 21/100\n",
      "2/2 [==============================] - 0s 36ms/step - loss: 0.0473 - mae: 0.1577 - val_loss: 0.0018 - val_mae: 0.0419\n",
      "Epoch 22/100\n",
      "2/2 [==============================] - 0s 37ms/step - loss: 0.0445 - mae: 0.1523 - val_loss: 0.0015 - val_mae: 0.0384\n",
      "Epoch 23/100\n",
      "2/2 [==============================] - 0s 33ms/step - loss: 0.0394 - mae: 0.1445 - val_loss: 0.0012 - val_mae: 0.0348\n",
      "Epoch 24/100\n",
      "2/2 [==============================] - 0s 38ms/step - loss: 0.0388 - mae: 0.1419 - val_loss: 0.0010 - val_mae: 0.0319\n",
      "Epoch 25/100\n",
      "2/2 [==============================] - 0s 41ms/step - loss: 0.0361 - mae: 0.1363 - val_loss: 8.9604e-04 - val_mae: 0.0293\n",
      "Epoch 26/100\n",
      "2/2 [==============================] - 0s 38ms/step - loss: 0.0343 - mae: 0.1311 - val_loss: 6.7756e-04 - val_mae: 0.0253\n",
      "Epoch 27/100\n",
      "2/2 [==============================] - 0s 39ms/step - loss: 0.0327 - mae: 0.1281 - val_loss: 5.1569e-04 - val_mae: 0.0211\n",
      "Epoch 28/100\n",
      "2/2 [==============================] - 0s 38ms/step - loss: 0.0294 - mae: 0.1229 - val_loss: 4.0258e-04 - val_mae: 0.0168\n",
      "Epoch 29/100\n",
      "2/2 [==============================] - 0s 37ms/step - loss: 0.0273 - mae: 0.1175 - val_loss: 3.4235e-04 - val_mae: 0.0140\n",
      "Epoch 30/100\n",
      "2/2 [==============================] - 0s 39ms/step - loss: 0.0244 - mae: 0.1109 - val_loss: 3.3921e-04 - val_mae: 0.0138\n",
      "Epoch 31/100\n",
      "2/2 [==============================] - 0s 36ms/step - loss: 0.0229 - mae: 0.1058 - val_loss: 3.7772e-04 - val_mae: 0.0162\n",
      "Epoch 32/100\n",
      "2/2 [==============================] - 0s 46ms/step - loss: 0.0231 - mae: 0.1047 - val_loss: 4.5543e-04 - val_mae: 0.0197\n",
      "Epoch 33/100\n",
      "2/2 [==============================] - 0s 40ms/step - loss: 0.0217 - mae: 0.1021 - val_loss: 6.1746e-04 - val_mae: 0.0242\n",
      "Epoch 34/100\n",
      "2/2 [==============================] - 0s 37ms/step - loss: 0.0187 - mae: 0.0937 - val_loss: 8.1487e-04 - val_mae: 0.0283\n",
      "Epoch 35/100\n",
      "2/2 [==============================] - 0s 36ms/step - loss: 0.0183 - mae: 0.0933 - val_loss: 0.0011 - val_mae: 0.0325\n",
      "Epoch 36/100\n",
      "2/2 [==============================] - 0s 44ms/step - loss: 0.0175 - mae: 0.0900 - val_loss: 0.0012 - val_mae: 0.0347\n",
      "Epoch 37/100\n",
      "2/2 [==============================] - 0s 36ms/step - loss: 0.0174 - mae: 0.0893 - val_loss: 0.0015 - val_mae: 0.0380\n",
      "Epoch 38/100\n",
      "2/2 [==============================] - 0s 36ms/step - loss: 0.0159 - mae: 0.0849 - val_loss: 0.0018 - val_mae: 0.0411\n",
      "Epoch 39/100\n",
      "2/2 [==============================] - 0s 35ms/step - loss: 0.0154 - mae: 0.0838 - val_loss: 0.0021 - val_mae: 0.0444\n",
      "Epoch 40/100\n",
      "2/2 [==============================] - 0s 35ms/step - loss: 0.0135 - mae: 0.0784 - val_loss: 0.0023 - val_mae: 0.0461\n",
      "Epoch 41/100\n",
      "2/2 [==============================] - 0s 35ms/step - loss: 0.0140 - mae: 0.0803 - val_loss: 0.0025 - val_mae: 0.0483\n",
      "Epoch 42/100\n",
      "2/2 [==============================] - 0s 35ms/step - loss: 0.0124 - mae: 0.0753 - val_loss: 0.0025 - val_mae: 0.0478\n",
      "Epoch 43/100\n",
      "2/2 [==============================] - 0s 32ms/step - loss: 0.0130 - mae: 0.0777 - val_loss: 0.0025 - val_mae: 0.0473\n",
      "Epoch 44/100\n",
      "2/2 [==============================] - 0s 36ms/step - loss: 0.0117 - mae: 0.0748 - val_loss: 0.0023 - val_mae: 0.0460\n",
      "Epoch 45/100\n",
      "2/2 [==============================] - 0s 32ms/step - loss: 0.0110 - mae: 0.0723 - val_loss: 0.0023 - val_mae: 0.0454\n",
      "Epoch 46/100\n",
      "2/2 [==============================] - 0s 35ms/step - loss: 0.0103 - mae: 0.0706 - val_loss: 0.0022 - val_mae: 0.0442\n",
      "Epoch 47/100\n",
      "2/2 [==============================] - 0s 30ms/step - loss: 0.0100 - mae: 0.0694 - val_loss: 0.0020 - val_mae: 0.0422\n",
      "Epoch 48/100\n",
      "2/2 [==============================] - 0s 33ms/step - loss: 0.0097 - mae: 0.0678 - val_loss: 0.0019 - val_mae: 0.0414\n",
      "Epoch 49/100\n",
      "2/2 [==============================] - 0s 32ms/step - loss: 0.0087 - mae: 0.0645 - val_loss: 0.0019 - val_mae: 0.0408\n",
      "Epoch 50/100\n",
      "2/2 [==============================] - 0s 34ms/step - loss: 0.0082 - mae: 0.0635 - val_loss: 0.0018 - val_mae: 0.0395\n",
      "Epoch 51/100\n",
      "2/2 [==============================] - 0s 34ms/step - loss: 0.0080 - mae: 0.0622 - val_loss: 0.0017 - val_mae: 0.0389\n",
      "Epoch 52/100\n",
      "2/2 [==============================] - 0s 35ms/step - loss: 0.0074 - mae: 0.0602 - val_loss: 0.0017 - val_mae: 0.0382\n",
      "Epoch 53/100\n",
      "2/2 [==============================] - 0s 34ms/step - loss: 0.0065 - mae: 0.0564 - val_loss: 0.0015 - val_mae: 0.0366\n",
      "Epoch 54/100\n",
      "2/2 [==============================] - 0s 33ms/step - loss: 0.0069 - mae: 0.0578 - val_loss: 0.0014 - val_mae: 0.0354\n",
      "Epoch 55/100\n"
     ]
    },
    {
     "name": "stdout",
     "output_type": "stream",
     "text": [
      "2/2 [==============================] - 0s 36ms/step - loss: 0.0060 - mae: 0.0539 - val_loss: 0.0013 - val_mae: 0.0340\n",
      "Epoch 56/100\n",
      "2/2 [==============================] - 0s 34ms/step - loss: 0.0057 - mae: 0.0521 - val_loss: 0.0011 - val_mae: 0.0312\n",
      "Epoch 57/100\n",
      "2/2 [==============================] - 0s 35ms/step - loss: 0.0051 - mae: 0.0489 - val_loss: 0.0011 - val_mae: 0.0303\n",
      "Epoch 58/100\n",
      "2/2 [==============================] - 0s 36ms/step - loss: 0.0048 - mae: 0.0471 - val_loss: 9.4636e-04 - val_mae: 0.0285\n",
      "Epoch 59/100\n",
      "2/2 [==============================] - 0s 37ms/step - loss: 0.0047 - mae: 0.0459 - val_loss: 8.6116e-04 - val_mae: 0.0271\n",
      "Epoch 60/100\n",
      "2/2 [==============================] - 0s 32ms/step - loss: 0.0041 - mae: 0.0430 - val_loss: 7.7474e-04 - val_mae: 0.0258\n",
      "Epoch 61/100\n",
      "2/2 [==============================] - 0s 37ms/step - loss: 0.0040 - mae: 0.0421 - val_loss: 7.4114e-04 - val_mae: 0.0255\n",
      "Epoch 62/100\n",
      "2/2 [==============================] - 0s 35ms/step - loss: 0.0036 - mae: 0.0398 - val_loss: 6.3864e-04 - val_mae: 0.0234\n",
      "Epoch 63/100\n",
      "2/2 [==============================] - 0s 37ms/step - loss: 0.0036 - mae: 0.0393 - val_loss: 5.8890e-04 - val_mae: 0.0224\n",
      "Epoch 64/100\n",
      "2/2 [==============================] - 0s 36ms/step - loss: 0.0033 - mae: 0.0375 - val_loss: 5.2412e-04 - val_mae: 0.0211\n",
      "Epoch 65/100\n",
      "2/2 [==============================] - 0s 34ms/step - loss: 0.0029 - mae: 0.0345 - val_loss: 4.5675e-04 - val_mae: 0.0195\n",
      "Epoch 66/100\n",
      "2/2 [==============================] - 0s 35ms/step - loss: 0.0032 - mae: 0.0353 - val_loss: 4.0882e-04 - val_mae: 0.0187\n",
      "Epoch 67/100\n",
      "2/2 [==============================] - 0s 35ms/step - loss: 0.0026 - mae: 0.0321 - val_loss: 3.7478e-04 - val_mae: 0.0181\n",
      "Epoch 68/100\n",
      "2/2 [==============================] - 0s 36ms/step - loss: 0.0024 - mae: 0.0314 - val_loss: 2.9532e-04 - val_mae: 0.0158\n",
      "Epoch 69/100\n",
      "2/2 [==============================] - 0s 36ms/step - loss: 0.0022 - mae: 0.0287 - val_loss: 2.7515e-04 - val_mae: 0.0154\n",
      "Epoch 70/100\n",
      "2/2 [==============================] - 0s 36ms/step - loss: 0.0021 - mae: 0.0278 - val_loss: 2.3978e-04 - val_mae: 0.0145\n",
      "Epoch 71/100\n",
      "2/2 [==============================] - 0s 35ms/step - loss: 0.0019 - mae: 0.0266 - val_loss: 2.1902e-04 - val_mae: 0.0139\n",
      "Epoch 72/100\n",
      "2/2 [==============================] - 0s 35ms/step - loss: 0.0020 - mae: 0.0265 - val_loss: 1.8914e-04 - val_mae: 0.0128\n",
      "Epoch 73/100\n",
      "2/2 [==============================] - 0s 35ms/step - loss: 0.0017 - mae: 0.0239 - val_loss: 1.6843e-04 - val_mae: 0.0121\n",
      "Epoch 74/100\n",
      "2/2 [==============================] - 0s 35ms/step - loss: 0.0015 - mae: 0.0226 - val_loss: 1.5104e-04 - val_mae: 0.0115\n",
      "Epoch 75/100\n",
      "2/2 [==============================] - 0s 34ms/step - loss: 0.0013 - mae: 0.0211 - val_loss: 1.3413e-04 - val_mae: 0.0108\n",
      "Epoch 76/100\n",
      "2/2 [==============================] - 0s 34ms/step - loss: 0.0011 - mae: 0.0197 - val_loss: 1.2117e-04 - val_mae: 0.0103\n",
      "Epoch 77/100\n",
      "2/2 [==============================] - 0s 34ms/step - loss: 0.0012 - mae: 0.0193 - val_loss: 1.1771e-04 - val_mae: 0.0104\n",
      "Epoch 78/100\n",
      "2/2 [==============================] - 0s 35ms/step - loss: 0.0010 - mae: 0.0187 - val_loss: 8.2295e-05 - val_mae: 0.0084\n",
      "Epoch 79/100\n",
      "2/2 [==============================] - 0s 31ms/step - loss: 0.0010 - mae: 0.0167 - val_loss: 7.5654e-05 - val_mae: 0.0080\n",
      "Epoch 80/100\n",
      "2/2 [==============================] - 0s 32ms/step - loss: 9.1279e-04 - mae: 0.0158 - val_loss: 4.8169e-05 - val_mae: 0.0062\n",
      "Epoch 81/100\n",
      "2/2 [==============================] - 0s 34ms/step - loss: 9.1287e-04 - mae: 0.0146 - val_loss: 4.2569e-05 - val_mae: 0.0060\n",
      "Epoch 82/100\n",
      "2/2 [==============================] - 0s 35ms/step - loss: 6.9678e-04 - mae: 0.0130 - val_loss: 4.5226e-05 - val_mae: 0.0064\n",
      "Epoch 83/100\n",
      "2/2 [==============================] - 0s 34ms/step - loss: 6.9501e-04 - mae: 0.0132 - val_loss: 3.5492e-05 - val_mae: 0.0055\n",
      "Epoch 84/100\n",
      "2/2 [==============================] - 0s 38ms/step - loss: 6.7603e-04 - mae: 0.0125 - val_loss: 4.2570e-05 - val_mae: 0.0063\n",
      "Epoch 85/100\n",
      "2/2 [==============================] - 0s 41ms/step - loss: 5.8240e-04 - mae: 0.0119 - val_loss: 2.9172e-05 - val_mae: 0.0051\n",
      "Epoch 86/100\n",
      "2/2 [==============================] - 0s 35ms/step - loss: 5.5008e-04 - mae: 0.0108 - val_loss: 3.2421e-05 - val_mae: 0.0054\n",
      "Epoch 87/100\n",
      "2/2 [==============================] - 0s 33ms/step - loss: 4.3403e-04 - mae: 0.0101 - val_loss: 2.4312e-05 - val_mae: 0.0046\n",
      "Epoch 88/100\n",
      "2/2 [==============================] - 0s 37ms/step - loss: 4.6477e-04 - mae: 0.0097 - val_loss: 2.6395e-05 - val_mae: 0.0050\n",
      "Epoch 89/100\n",
      "2/2 [==============================] - 0s 39ms/step - loss: 4.0564e-04 - mae: 0.0095 - val_loss: 1.1260e-05 - val_mae: 0.0030\n",
      "Epoch 90/100\n",
      "2/2 [==============================] - 0s 33ms/step - loss: 3.6646e-04 - mae: 0.0074 - val_loss: 1.0044e-05 - val_mae: 0.0030\n",
      "Epoch 91/100\n",
      "2/2 [==============================] - 0s 33ms/step - loss: 3.1646e-04 - mae: 0.0069 - val_loss: 4.4179e-06 - val_mae: 0.0017\n",
      "Epoch 92/100\n",
      "2/2 [==============================] - 0s 34ms/step - loss: 3.4740e-04 - mae: 0.0062 - val_loss: 1.5816e-05 - val_mae: 0.0038\n",
      "Epoch 93/100\n",
      "2/2 [==============================] - 0s 34ms/step - loss: 3.0050e-04 - mae: 0.0076 - val_loss: 1.3301e-05 - val_mae: 0.0034\n",
      "Epoch 94/100\n",
      "2/2 [==============================] - 0s 34ms/step - loss: 2.7460e-04 - mae: 0.0068 - val_loss: 1.4034e-05 - val_mae: 0.0036\n",
      "Epoch 95/100\n",
      "2/2 [==============================] - 0s 35ms/step - loss: 2.3241e-04 - mae: 0.0065 - val_loss: 1.8381e-05 - val_mae: 0.0041\n",
      "Epoch 96/100\n",
      "2/2 [==============================] - 0s 34ms/step - loss: 1.7800e-04 - mae: 0.0062 - val_loss: 1.6220e-05 - val_mae: 0.0039\n",
      "Epoch 97/100\n",
      "2/2 [==============================] - 0s 33ms/step - loss: 2.0523e-04 - mae: 0.0065 - val_loss: 1.3032e-05 - val_mae: 0.0035\n",
      "Epoch 98/100\n",
      "2/2 [==============================] - 0s 33ms/step - loss: 1.3059e-04 - mae: 0.0054 - val_loss: 1.0250e-05 - val_mae: 0.0031\n",
      "Epoch 99/100\n",
      "2/2 [==============================] - 0s 35ms/step - loss: 1.3961e-04 - mae: 0.0051 - val_loss: 3.2513e-06 - val_mae: 0.0017\n",
      "Epoch 100/100\n",
      "2/2 [==============================] - 0s 35ms/step - loss: 1.3414e-04 - mae: 0.0038 - val_loss: 3.4671e-06 - val_mae: 0.0017\n"
     ]
    }
   ],
   "source": [
    "model = build_model ()\n",
    "history = model.fit ( x_train, y_train, epochs = 100, batch_size = 2032, validation_data = (x_val, y_val) )\n",
    "model.save(\"regr.h5\")"
   ]
  },
  {
   "cell_type": "code",
   "execution_count": 17,
   "metadata": {
    "scrolled": false
   },
   "outputs": [
    {
     "data": {
      "image/png": "[encoded data removed]",
      "text/plain": [
       "<Figure size 432x288 with 1 Axes>"
      ]
     },
     "metadata": {
      "needs_background": "light"
     },
     "output_type": "display_data"
    }
   ],
   "source": [
    "import matplotlib.pyplot as plt\n",
    "\n",
    "mae = history.history['mae']\n",
    "val_mae = history.history['val_mae']\n",
    "\n",
    "epochs = range(1, len(mae) + 1)\n",
    "\n",
    "plt.plot(epochs, mae, 'bo', label='Training mae')\n",
    "plt.plot(epochs, val_mae, 'b', label='Validation mae')\n",
    "plt.title('Training and validation accuracy')\n",
    "plt.xlabel('Epochs')\n",
    "plt.ylabel('mae')\n",
    "plt.legend()\n",
    "\n",
    "plt.show()"
   ]
  },
  {
   "cell_type": "markdown",
   "metadata": {},
   "source": [
    "## Test spectrum"
   ]
  },
  {
   "cell_type": "code",
   "execution_count": 26,
   "metadata": {},
   "outputs": [],
   "source": [
    "model_regr = keras.models.load_model('regr.h5')\n",
    "model_class = keras.models.load_model('class.h5')"
   ]
  },
  {
   "cell_type": "code",
   "execution_count": 18,
   "metadata": {},
   "outputs": [],
   "source": [
    "def energy_spectrum(energy_array, bins):\n",
    "    energy_array = np.array(energy_array)\n",
    "    plt.hist(energy_array, bins, histtype=u'step')\n",
    "    plt.yscale(\"log\")\n",
    "    plt.show()"
   ]
  },
  {
   "cell_type": "code",
   "execution_count": 19,
   "metadata": {},
   "outputs": [],
   "source": [
    "final_p = []\n",
    "final_e = []\n",
    "\n",
    "for regr_pair in regr_data:\n",
    "    final_e.append(np.linalg.norm(regr_pair[10:13]))\n",
    "    final_p.append(np.linalg.norm(regr_pair[13:16]))"
   ]
  },
  {
   "cell_type": "code",
   "execution_count": 20,
   "metadata": {},
   "outputs": [
    {
     "data": {
      "image/png": "[encoded data removed]",
      "text/plain": [
       "<Figure size 432x288 with 1 Axes>"
      ]
     },
     "metadata": {
      "needs_background": "light"
     },
     "output_type": "display_data"
    }
   ],
   "source": [
    "energy_spectrum(final_e, 75)"
   ]
  },
  {
   "cell_type": "code",
   "execution_count": 21,
   "metadata": {},
   "outputs": [
    {
     "data": {
      "image/png": "[encoded data removed]",
      "text/plain": [
       "<Figure size 432x288 with 1 Axes>"
      ]
     },
     "metadata": {
      "needs_background": "light"
     },
     "output_type": "display_data"
    }
   ],
   "source": [
    "energy_spectrum(final_p, 75)"
   ]
  },
  {
   "cell_type": "code",
   "execution_count": 29,
   "metadata": {},
   "outputs": [
    {
     "name": "stdout",
     "output_type": "stream",
     "text": [
      "0.0%\n"
     ]
    },
    {
     "ename": "ValueError",
     "evalue": "in user code:\n\n    /home/linuxbrew/.linuxbrew/opt/python/lib/python3.7/site-packages/tensorflow/python/keras/engine/training.py:1478 predict_function  *\n        return step_function(self, iterator)\n    /home/linuxbrew/.linuxbrew/opt/python/lib/python3.7/site-packages/tensorflow/python/keras/engine/training.py:1468 step_function  **\n        outputs = model.distribute_strategy.run(run_step, args=(data,))\n    /home/linuxbrew/.linuxbrew/opt/python/lib/python3.7/site-packages/tensorflow/python/distribute/distribute_lib.py:1259 run\n        return self._extended.call_for_each_replica(fn, args=args, kwargs=kwargs)\n    /home/linuxbrew/.linuxbrew/opt/python/lib/python3.7/site-packages/tensorflow/python/distribute/distribute_lib.py:2730 call_for_each_replica\n        return self._call_for_each_replica(fn, args, kwargs)\n    /home/linuxbrew/.linuxbrew/opt/python/lib/python3.7/site-packages/tensorflow/python/distribute/distribute_lib.py:3417 _call_for_each_replica\n        return fn(*args, **kwargs)\n    /home/linuxbrew/.linuxbrew/opt/python/lib/python3.7/site-packages/tensorflow/python/keras/engine/training.py:1461 run_step  **\n        outputs = model.predict_step(data)\n    /home/linuxbrew/.linuxbrew/opt/python/lib/python3.7/site-packages/tensorflow/python/keras/engine/training.py:1434 predict_step\n        return self(x, training=False)\n    /home/linuxbrew/.linuxbrew/opt/python/lib/python3.7/site-packages/tensorflow/python/keras/engine/base_layer.py:998 __call__\n        input_spec.assert_input_compatibility(self.input_spec, inputs, self.name)\n    /home/linuxbrew/.linuxbrew/opt/python/lib/python3.7/site-packages/tensorflow/python/keras/engine/input_spec.py:259 assert_input_compatibility\n        ' but received input with shape ' + display_shape(x.shape))\n\n    ValueError: Input 0 of layer sequential_6 is incompatible with the layer: expected axis -1 of input shape to have value 10 but received input with shape (None, 5)\n",
     "output_type": "error",
     "traceback": [
      "\u001b[0;31m---------------------------------------------------------------------------\u001b[0m",
      "\u001b[0;31mValueError\u001b[0m                                Traceback (most recent call last)",
      "\u001b[0;32m<ipython-input-29-c790e69df2d2>\u001b[0m in \u001b[0;36m<module>\u001b[0;34m\u001b[0m\n\u001b[1;32m      6\u001b[0m         \u001b[0mprint\u001b[0m\u001b[0;34m(\u001b[0m\u001b[0;34m\"{}%\"\u001b[0m\u001b[0;34m.\u001b[0m\u001b[0mformat\u001b[0m\u001b[0;34m(\u001b[0m\u001b[0mi\u001b[0m\u001b[0;34m/\u001b[0m\u001b[0mlen\u001b[0m\u001b[0;34m(\u001b[0m\u001b[0mx\u001b[0m\u001b[0;34m)\u001b[0m \u001b[0;34m*\u001b[0m \u001b[0;36m100\u001b[0m\u001b[0;34m)\u001b[0m\u001b[0;34m)\u001b[0m\u001b[0;34m\u001b[0m\u001b[0;34m\u001b[0m\u001b[0m\n\u001b[1;32m      7\u001b[0m         \u001b[0mx_\u001b[0m \u001b[0;34m=\u001b[0m \u001b[0mnp\u001b[0m\u001b[0;34m.\u001b[0m\u001b[0marray\u001b[0m\u001b[0;34m(\u001b[0m\u001b[0;34m[\u001b[0m\u001b[0mx_\u001b[0m\u001b[0;34m]\u001b[0m\u001b[0;34m)\u001b[0m\u001b[0;34m\u001b[0m\u001b[0;34m\u001b[0m\u001b[0m\n\u001b[0;32m----> 8\u001b[0;31m         \u001b[0mclassification\u001b[0m \u001b[0;34m=\u001b[0m \u001b[0mmodel_class\u001b[0m\u001b[0;34m.\u001b[0m\u001b[0mpredict\u001b[0m\u001b[0;34m(\u001b[0m\u001b[0mnp\u001b[0m\u001b[0;34m.\u001b[0m\u001b[0mstack\u001b[0m\u001b[0;34m(\u001b[0m\u001b[0mx_\u001b[0m\u001b[0;34m)\u001b[0m\u001b[0;34m)\u001b[0m\u001b[0;34m\u001b[0m\u001b[0;34m\u001b[0m\u001b[0m\n\u001b[0m\u001b[1;32m      9\u001b[0m         \u001b[0;32mif\u001b[0m \u001b[0mclassification\u001b[0m \u001b[0;34m>=\u001b[0m \u001b[0mthreshold\u001b[0m\u001b[0;34m:\u001b[0m\u001b[0;34m\u001b[0m\u001b[0;34m\u001b[0m\u001b[0m\n\u001b[1;32m     10\u001b[0m             \u001b[0mregr_x\u001b[0m \u001b[0;34m=\u001b[0m \u001b[0mnp\u001b[0m\u001b[0;34m.\u001b[0m\u001b[0marray\u001b[0m\u001b[0;34m(\u001b[0m\u001b[0;34m[\u001b[0m\u001b[0mx_\u001b[0m\u001b[0;34m[\u001b[0m\u001b[0;36m0\u001b[0m\u001b[0;34m,\u001b[0m\u001b[0;34m:\u001b[0m\u001b[0;36m6\u001b[0m\u001b[0;34m]\u001b[0m\u001b[0;34m]\u001b[0m\u001b[0;34m)\u001b[0m\u001b[0;34m\u001b[0m\u001b[0;34m\u001b[0m\u001b[0m\n",
      "\u001b[0;32m/home/linuxbrew/.linuxbrew/opt/python/lib/python3.7/site-packages/tensorflow/python/keras/engine/training.py\u001b[0m in \u001b[0;36mpredict\u001b[0;34m(self, x, batch_size, verbose, steps, callbacks, max_queue_size, workers, use_multiprocessing)\u001b[0m\n\u001b[1;32m   1627\u001b[0m           \u001b[0;32mfor\u001b[0m \u001b[0mstep\u001b[0m \u001b[0;32min\u001b[0m \u001b[0mdata_handler\u001b[0m\u001b[0;34m.\u001b[0m\u001b[0msteps\u001b[0m\u001b[0;34m(\u001b[0m\u001b[0;34m)\u001b[0m\u001b[0;34m:\u001b[0m\u001b[0;34m\u001b[0m\u001b[0;34m\u001b[0m\u001b[0m\n\u001b[1;32m   1628\u001b[0m             \u001b[0mcallbacks\u001b[0m\u001b[0;34m.\u001b[0m\u001b[0mon_predict_batch_begin\u001b[0m\u001b[0;34m(\u001b[0m\u001b[0mstep\u001b[0m\u001b[0;34m)\u001b[0m\u001b[0;34m\u001b[0m\u001b[0;34m\u001b[0m\u001b[0m\n\u001b[0;32m-> 1629\u001b[0;31m             \u001b[0mtmp_batch_outputs\u001b[0m \u001b[0;34m=\u001b[0m \u001b[0mself\u001b[0m\u001b[0;34m.\u001b[0m\u001b[0mpredict_function\u001b[0m\u001b[0;34m(\u001b[0m\u001b[0miterator\u001b[0m\u001b[0;34m)\u001b[0m\u001b[0;34m\u001b[0m\u001b[0;34m\u001b[0m\u001b[0m\n\u001b[0m\u001b[1;32m   1630\u001b[0m             \u001b[0;32mif\u001b[0m \u001b[0mdata_handler\u001b[0m\u001b[0;34m.\u001b[0m\u001b[0mshould_sync\u001b[0m\u001b[0;34m:\u001b[0m\u001b[0;34m\u001b[0m\u001b[0;34m\u001b[0m\u001b[0m\n\u001b[1;32m   1631\u001b[0m               \u001b[0mcontext\u001b[0m\u001b[0;34m.\u001b[0m\u001b[0masync_wait\u001b[0m\u001b[0;34m(\u001b[0m\u001b[0;34m)\u001b[0m\u001b[0;34m\u001b[0m\u001b[0;34m\u001b[0m\u001b[0m\n",
      "\u001b[0;32m/home/linuxbrew/.linuxbrew/opt/python/lib/python3.7/site-packages/tensorflow/python/eager/def_function.py\u001b[0m in \u001b[0;36m__call__\u001b[0;34m(self, *args, **kwds)\u001b[0m\n\u001b[1;32m    826\u001b[0m     \u001b[0mtracing_count\u001b[0m \u001b[0;34m=\u001b[0m \u001b[0mself\u001b[0m\u001b[0;34m.\u001b[0m\u001b[0mexperimental_get_tracing_count\u001b[0m\u001b[0;34m(\u001b[0m\u001b[0;34m)\u001b[0m\u001b[0;34m\u001b[0m\u001b[0;34m\u001b[0m\u001b[0m\n\u001b[1;32m    827\u001b[0m     \u001b[0;32mwith\u001b[0m \u001b[0mtrace\u001b[0m\u001b[0;34m.\u001b[0m\u001b[0mTrace\u001b[0m\u001b[0;34m(\u001b[0m\u001b[0mself\u001b[0m\u001b[0;34m.\u001b[0m\u001b[0m_name\u001b[0m\u001b[0;34m)\u001b[0m \u001b[0;32mas\u001b[0m \u001b[0mtm\u001b[0m\u001b[0;34m:\u001b[0m\u001b[0;34m\u001b[0m\u001b[0;34m\u001b[0m\u001b[0m\n\u001b[0;32m--> 828\u001b[0;31m       \u001b[0mresult\u001b[0m \u001b[0;34m=\u001b[0m \u001b[0mself\u001b[0m\u001b[0;34m.\u001b[0m\u001b[0m_call\u001b[0m\u001b[0;34m(\u001b[0m\u001b[0;34m*\u001b[0m\u001b[0margs\u001b[0m\u001b[0;34m,\u001b[0m \u001b[0;34m**\u001b[0m\u001b[0mkwds\u001b[0m\u001b[0;34m)\u001b[0m\u001b[0;34m\u001b[0m\u001b[0;34m\u001b[0m\u001b[0m\n\u001b[0m\u001b[1;32m    829\u001b[0m       \u001b[0mcompiler\u001b[0m \u001b[0;34m=\u001b[0m \u001b[0;34m\"xla\"\u001b[0m \u001b[0;32mif\u001b[0m \u001b[0mself\u001b[0m\u001b[0;34m.\u001b[0m\u001b[0m_experimental_compile\u001b[0m \u001b[0;32melse\u001b[0m \u001b[0;34m\"nonXla\"\u001b[0m\u001b[0;34m\u001b[0m\u001b[0;34m\u001b[0m\u001b[0m\n\u001b[1;32m    830\u001b[0m       \u001b[0mnew_tracing_count\u001b[0m \u001b[0;34m=\u001b[0m \u001b[0mself\u001b[0m\u001b[0;34m.\u001b[0m\u001b[0mexperimental_get_tracing_count\u001b[0m\u001b[0;34m(\u001b[0m\u001b[0;34m)\u001b[0m\u001b[0;34m\u001b[0m\u001b[0;34m\u001b[0m\u001b[0m\n",
      "\u001b[0;32m/home/linuxbrew/.linuxbrew/opt/python/lib/python3.7/site-packages/tensorflow/python/eager/def_function.py\u001b[0m in \u001b[0;36m_call\u001b[0;34m(self, *args, **kwds)\u001b[0m\n\u001b[1;32m    860\u001b[0m       \u001b[0;31m# In this case we have not created variables on the first call. So we can\u001b[0m\u001b[0;34m\u001b[0m\u001b[0;34m\u001b[0m\u001b[0;34m\u001b[0m\u001b[0m\n\u001b[1;32m    861\u001b[0m       \u001b[0;31m# run the first trace but we should fail if variables are created.\u001b[0m\u001b[0;34m\u001b[0m\u001b[0;34m\u001b[0m\u001b[0;34m\u001b[0m\u001b[0m\n\u001b[0;32m--> 862\u001b[0;31m       \u001b[0mresults\u001b[0m \u001b[0;34m=\u001b[0m \u001b[0mself\u001b[0m\u001b[0;34m.\u001b[0m\u001b[0m_stateful_fn\u001b[0m\u001b[0;34m(\u001b[0m\u001b[0;34m*\u001b[0m\u001b[0margs\u001b[0m\u001b[0;34m,\u001b[0m \u001b[0;34m**\u001b[0m\u001b[0mkwds\u001b[0m\u001b[0;34m)\u001b[0m\u001b[0;34m\u001b[0m\u001b[0;34m\u001b[0m\u001b[0m\n\u001b[0m\u001b[1;32m    863\u001b[0m       \u001b[0;32mif\u001b[0m \u001b[0mself\u001b[0m\u001b[0;34m.\u001b[0m\u001b[0m_created_variables\u001b[0m\u001b[0;34m:\u001b[0m\u001b[0;34m\u001b[0m\u001b[0;34m\u001b[0m\u001b[0m\n\u001b[1;32m    864\u001b[0m         raise ValueError(\"Creating variables on a non-first call to a function\"\n",
      "\u001b[0;32m/home/linuxbrew/.linuxbrew/opt/python/lib/python3.7/site-packages/tensorflow/python/eager/function.py\u001b[0m in \u001b[0;36m__call__\u001b[0;34m(self, *args, **kwargs)\u001b[0m\n\u001b[1;32m   2939\u001b[0m     \u001b[0;32mwith\u001b[0m \u001b[0mself\u001b[0m\u001b[0;34m.\u001b[0m\u001b[0m_lock\u001b[0m\u001b[0;34m:\u001b[0m\u001b[0;34m\u001b[0m\u001b[0;34m\u001b[0m\u001b[0m\n\u001b[1;32m   2940\u001b[0m       (graph_function,\n\u001b[0;32m-> 2941\u001b[0;31m        filtered_flat_args) = self._maybe_define_function(args, kwargs)\n\u001b[0m\u001b[1;32m   2942\u001b[0m     return graph_function._call_flat(\n\u001b[1;32m   2943\u001b[0m         filtered_flat_args, captured_inputs=graph_function.captured_inputs)  # pylint: disable=protected-access\n",
      "\u001b[0;32m/home/linuxbrew/.linuxbrew/opt/python/lib/python3.7/site-packages/tensorflow/python/eager/function.py\u001b[0m in \u001b[0;36m_maybe_define_function\u001b[0;34m(self, args, kwargs)\u001b[0m\n\u001b[1;32m   3356\u001b[0m               call_context_key in self._function_cache.missed):\n\u001b[1;32m   3357\u001b[0m             return self._define_function_with_shape_relaxation(\n\u001b[0;32m-> 3358\u001b[0;31m                 args, kwargs, flat_args, filtered_flat_args, cache_key_context)\n\u001b[0m\u001b[1;32m   3359\u001b[0m \u001b[0;34m\u001b[0m\u001b[0m\n\u001b[1;32m   3360\u001b[0m           \u001b[0mself\u001b[0m\u001b[0;34m.\u001b[0m\u001b[0m_function_cache\u001b[0m\u001b[0;34m.\u001b[0m\u001b[0mmissed\u001b[0m\u001b[0;34m.\u001b[0m\u001b[0madd\u001b[0m\u001b[0;34m(\u001b[0m\u001b[0mcall_context_key\u001b[0m\u001b[0;34m)\u001b[0m\u001b[0;34m\u001b[0m\u001b[0;34m\u001b[0m\u001b[0m\n",
      "\u001b[0;32m/home/linuxbrew/.linuxbrew/opt/python/lib/python3.7/site-packages/tensorflow/python/eager/function.py\u001b[0m in \u001b[0;36m_define_function_with_shape_relaxation\u001b[0;34m(self, args, kwargs, flat_args, filtered_flat_args, cache_key_context)\u001b[0m\n\u001b[1;32m   3278\u001b[0m \u001b[0;34m\u001b[0m\u001b[0m\n\u001b[1;32m   3279\u001b[0m     graph_function = self._create_graph_function(\n\u001b[0;32m-> 3280\u001b[0;31m         args, kwargs, override_flat_arg_shapes=relaxed_arg_shapes)\n\u001b[0m\u001b[1;32m   3281\u001b[0m     \u001b[0mself\u001b[0m\u001b[0;34m.\u001b[0m\u001b[0m_function_cache\u001b[0m\u001b[0;34m.\u001b[0m\u001b[0marg_relaxed\u001b[0m\u001b[0;34m[\u001b[0m\u001b[0mrank_only_cache_key\u001b[0m\u001b[0;34m]\u001b[0m \u001b[0;34m=\u001b[0m \u001b[0mgraph_function\u001b[0m\u001b[0;34m\u001b[0m\u001b[0;34m\u001b[0m\u001b[0m\n\u001b[1;32m   3282\u001b[0m \u001b[0;34m\u001b[0m\u001b[0m\n",
      "\u001b[0;32m/home/linuxbrew/.linuxbrew/opt/python/lib/python3.7/site-packages/tensorflow/python/eager/function.py\u001b[0m in \u001b[0;36m_create_graph_function\u001b[0;34m(self, args, kwargs, override_flat_arg_shapes)\u001b[0m\n\u001b[1;32m   3204\u001b[0m             \u001b[0marg_names\u001b[0m\u001b[0;34m=\u001b[0m\u001b[0marg_names\u001b[0m\u001b[0;34m,\u001b[0m\u001b[0;34m\u001b[0m\u001b[0;34m\u001b[0m\u001b[0m\n\u001b[1;32m   3205\u001b[0m             \u001b[0moverride_flat_arg_shapes\u001b[0m\u001b[0;34m=\u001b[0m\u001b[0moverride_flat_arg_shapes\u001b[0m\u001b[0;34m,\u001b[0m\u001b[0;34m\u001b[0m\u001b[0;34m\u001b[0m\u001b[0m\n\u001b[0;32m-> 3206\u001b[0;31m             capture_by_value=self._capture_by_value),\n\u001b[0m\u001b[1;32m   3207\u001b[0m         \u001b[0mself\u001b[0m\u001b[0;34m.\u001b[0m\u001b[0m_function_attributes\u001b[0m\u001b[0;34m,\u001b[0m\u001b[0;34m\u001b[0m\u001b[0;34m\u001b[0m\u001b[0m\n\u001b[1;32m   3208\u001b[0m         \u001b[0mfunction_spec\u001b[0m\u001b[0;34m=\u001b[0m\u001b[0mself\u001b[0m\u001b[0;34m.\u001b[0m\u001b[0mfunction_spec\u001b[0m\u001b[0;34m,\u001b[0m\u001b[0;34m\u001b[0m\u001b[0;34m\u001b[0m\u001b[0m\n",
      "\u001b[0;32m/home/linuxbrew/.linuxbrew/opt/python/lib/python3.7/site-packages/tensorflow/python/framework/func_graph.py\u001b[0m in \u001b[0;36mfunc_graph_from_py_func\u001b[0;34m(name, python_func, args, kwargs, signature, func_graph, autograph, autograph_options, add_control_dependencies, arg_names, op_return_value, collections, capture_by_value, override_flat_arg_shapes)\u001b[0m\n\u001b[1;32m    988\u001b[0m         \u001b[0m_\u001b[0m\u001b[0;34m,\u001b[0m \u001b[0moriginal_func\u001b[0m \u001b[0;34m=\u001b[0m \u001b[0mtf_decorator\u001b[0m\u001b[0;34m.\u001b[0m\u001b[0munwrap\u001b[0m\u001b[0;34m(\u001b[0m\u001b[0mpython_func\u001b[0m\u001b[0;34m)\u001b[0m\u001b[0;34m\u001b[0m\u001b[0;34m\u001b[0m\u001b[0m\n\u001b[1;32m    989\u001b[0m \u001b[0;34m\u001b[0m\u001b[0m\n\u001b[0;32m--> 990\u001b[0;31m       \u001b[0mfunc_outputs\u001b[0m \u001b[0;34m=\u001b[0m \u001b[0mpython_func\u001b[0m\u001b[0;34m(\u001b[0m\u001b[0;34m*\u001b[0m\u001b[0mfunc_args\u001b[0m\u001b[0;34m,\u001b[0m \u001b[0;34m**\u001b[0m\u001b[0mfunc_kwargs\u001b[0m\u001b[0;34m)\u001b[0m\u001b[0;34m\u001b[0m\u001b[0;34m\u001b[0m\u001b[0m\n\u001b[0m\u001b[1;32m    991\u001b[0m \u001b[0;34m\u001b[0m\u001b[0m\n\u001b[1;32m    992\u001b[0m       \u001b[0;31m# invariant: `func_outputs` contains only Tensors, CompositeTensors,\u001b[0m\u001b[0;34m\u001b[0m\u001b[0;34m\u001b[0m\u001b[0;34m\u001b[0m\u001b[0m\n",
      "\u001b[0;32m/home/linuxbrew/.linuxbrew/opt/python/lib/python3.7/site-packages/tensorflow/python/eager/def_function.py\u001b[0m in \u001b[0;36mwrapped_fn\u001b[0;34m(*args, **kwds)\u001b[0m\n\u001b[1;32m    632\u001b[0m             \u001b[0mxla_context\u001b[0m\u001b[0;34m.\u001b[0m\u001b[0mExit\u001b[0m\u001b[0;34m(\u001b[0m\u001b[0;34m)\u001b[0m\u001b[0;34m\u001b[0m\u001b[0;34m\u001b[0m\u001b[0m\n\u001b[1;32m    633\u001b[0m         \u001b[0;32melse\u001b[0m\u001b[0;34m:\u001b[0m\u001b[0;34m\u001b[0m\u001b[0;34m\u001b[0m\u001b[0m\n\u001b[0;32m--> 634\u001b[0;31m           \u001b[0mout\u001b[0m \u001b[0;34m=\u001b[0m \u001b[0mweak_wrapped_fn\u001b[0m\u001b[0;34m(\u001b[0m\u001b[0;34m)\u001b[0m\u001b[0;34m.\u001b[0m\u001b[0m__wrapped__\u001b[0m\u001b[0;34m(\u001b[0m\u001b[0;34m*\u001b[0m\u001b[0margs\u001b[0m\u001b[0;34m,\u001b[0m \u001b[0;34m**\u001b[0m\u001b[0mkwds\u001b[0m\u001b[0;34m)\u001b[0m\u001b[0;34m\u001b[0m\u001b[0;34m\u001b[0m\u001b[0m\n\u001b[0m\u001b[1;32m    635\u001b[0m         \u001b[0;32mreturn\u001b[0m \u001b[0mout\u001b[0m\u001b[0;34m\u001b[0m\u001b[0;34m\u001b[0m\u001b[0m\n\u001b[1;32m    636\u001b[0m \u001b[0;34m\u001b[0m\u001b[0m\n",
      "\u001b[0;32m/home/linuxbrew/.linuxbrew/opt/python/lib/python3.7/site-packages/tensorflow/python/framework/func_graph.py\u001b[0m in \u001b[0;36mwrapper\u001b[0;34m(*args, **kwargs)\u001b[0m\n\u001b[1;32m    975\u001b[0m           \u001b[0;32mexcept\u001b[0m \u001b[0mException\u001b[0m \u001b[0;32mas\u001b[0m \u001b[0me\u001b[0m\u001b[0;34m:\u001b[0m  \u001b[0;31m# pylint:disable=broad-except\u001b[0m\u001b[0;34m\u001b[0m\u001b[0;34m\u001b[0m\u001b[0m\n\u001b[1;32m    976\u001b[0m             \u001b[0;32mif\u001b[0m \u001b[0mhasattr\u001b[0m\u001b[0;34m(\u001b[0m\u001b[0me\u001b[0m\u001b[0;34m,\u001b[0m \u001b[0;34m\"ag_error_metadata\"\u001b[0m\u001b[0;34m)\u001b[0m\u001b[0;34m:\u001b[0m\u001b[0;34m\u001b[0m\u001b[0;34m\u001b[0m\u001b[0m\n\u001b[0;32m--> 977\u001b[0;31m               \u001b[0;32mraise\u001b[0m \u001b[0me\u001b[0m\u001b[0;34m.\u001b[0m\u001b[0mag_error_metadata\u001b[0m\u001b[0;34m.\u001b[0m\u001b[0mto_exception\u001b[0m\u001b[0;34m(\u001b[0m\u001b[0me\u001b[0m\u001b[0;34m)\u001b[0m\u001b[0;34m\u001b[0m\u001b[0;34m\u001b[0m\u001b[0m\n\u001b[0m\u001b[1;32m    978\u001b[0m             \u001b[0;32melse\u001b[0m\u001b[0;34m:\u001b[0m\u001b[0;34m\u001b[0m\u001b[0;34m\u001b[0m\u001b[0m\n\u001b[1;32m    979\u001b[0m               \u001b[0;32mraise\u001b[0m\u001b[0;34m\u001b[0m\u001b[0;34m\u001b[0m\u001b[0m\n",
      "\u001b[0;31mValueError\u001b[0m: in user code:\n\n    /home/linuxbrew/.linuxbrew/opt/python/lib/python3.7/site-packages/tensorflow/python/keras/engine/training.py:1478 predict_function  *\n        return step_function(self, iterator)\n    /home/linuxbrew/.linuxbrew/opt/python/lib/python3.7/site-packages/tensorflow/python/keras/engine/training.py:1468 step_function  **\n        outputs = model.distribute_strategy.run(run_step, args=(data,))\n    /home/linuxbrew/.linuxbrew/opt/python/lib/python3.7/site-packages/tensorflow/python/distribute/distribute_lib.py:1259 run\n        return self._extended.call_for_each_replica(fn, args=args, kwargs=kwargs)\n    /home/linuxbrew/.linuxbrew/opt/python/lib/python3.7/site-packages/tensorflow/python/distribute/distribute_lib.py:2730 call_for_each_replica\n        return self._call_for_each_replica(fn, args, kwargs)\n    /home/linuxbrew/.linuxbrew/opt/python/lib/python3.7/site-packages/tensorflow/python/distribute/distribute_lib.py:3417 _call_for_each_replica\n        return fn(*args, **kwargs)\n    /home/linuxbrew/.linuxbrew/opt/python/lib/python3.7/site-packages/tensorflow/python/keras/engine/training.py:1461 run_step  **\n        outputs = model.predict_step(data)\n    /home/linuxbrew/.linuxbrew/opt/python/lib/python3.7/site-packages/tensorflow/python/keras/engine/training.py:1434 predict_step\n        return self(x, training=False)\n    /home/linuxbrew/.linuxbrew/opt/python/lib/python3.7/site-packages/tensorflow/python/keras/engine/base_layer.py:998 __call__\n        input_spec.assert_input_compatibility(self.input_spec, inputs, self.name)\n    /home/linuxbrew/.linuxbrew/opt/python/lib/python3.7/site-packages/tensorflow/python/keras/engine/input_spec.py:259 assert_input_compatibility\n        ' but received input with shape ' + display_shape(x.shape))\n\n    ValueError: Input 0 of layer sequential_6 is incompatible with the layer: expected axis -1 of input shape to have value 10 but received input with shape (None, 5)\n"
     ]
    }
   ],
   "source": [
    "from tensorflow import keras \n",
    "photon_final_nn = []\n",
    "threshold = 0.5\n",
    "for i, x_ in enumerate(x[:200]):\n",
    "    if i%100 == 0:\n",
    "        print(\"{}%\".format(i/len(x) * 100))\n",
    "        x_ = np.array([x_])\n",
    "        classification = model_class.predict(np.stack(x_))\n",
    "        if classification >= threshold:\n",
    "            regr_x = np.array([x_[0,:6]])\n",
    "            regr_result = model_regr.predict(regr_x)\n",
    "            photon_final_nn.append(np.linalg.norm(regr_result[0]))"
   ]
  },
  {
   "cell_type": "code",
   "execution_count": null,
   "metadata": {},
   "outputs": [],
   "source": [
    "energy_spectrum(photon_final_nn, 75)"
   ]
  },
  {
   "cell_type": "code",
   "execution_count": null,
   "metadata": {},
   "outputs": [],
   "source": [
    "photon_final_nn"
   ]
  }
 ],
 "metadata": {
  "kernelspec": {
   "display_name": "Python 3",
   "language": "python",
   "name": "python3"
  },
  "language_info": {
   "codemirror_mode": {
    "name": "ipython",
    "version": 3
   },
   "file_extension": ".py",
   "mimetype": "text/x-python",
   "name": "python",
   "nbconvert_exporter": "python",
   "pygments_lexer": "ipython3",
   "version": "3.7.7"
  }
 },
 "nbformat": 4,
 "nbformat_minor": 4
}
