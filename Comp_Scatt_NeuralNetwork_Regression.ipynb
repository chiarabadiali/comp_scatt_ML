{
 "cells": [
  {
   "cell_type": "code",
   "execution_count": 1,
   "metadata": {},
   "outputs": [
    {
     "name": "stdout",
     "output_type": "stream",
     "text": [
      "1.2.0\n"
     ]
    }
   ],
   "source": [
    "import pandas as pd \n",
    "import numpy as np\n",
    "import math\n",
    "import tensorflow as tf\n",
    "print(pd.__version__)"
   ]
  },
  {
   "cell_type": "markdown",
   "metadata": {},
   "source": [
    "## Print Dependencies\n",
    "\n",
    "\n",
    "\n",
    "Dependences are fundamental to record the computational environment."
   ]
  },
  {
   "cell_type": "code",
   "execution_count": 2,
   "metadata": {},
   "outputs": [
    {
     "name": "stdout",
     "output_type": "stream",
     "text": [
      "Python implementation: CPython\n",
      "Python version       : 3.7.7\n",
      "IPython version      : 7.19.0\n",
      "\n",
      "pandas    : 1.2.0\n",
      "keras     : 2.4.3\n",
      "numpy     : 1.19.5\n",
      "math      : unknown\n",
      "tensorflow: 2.4.0\n",
      "matplotlib: 3.3.3\n",
      "h5py      : 2.10.0\n",
      "\n",
      "Compiler    : GCC 5.4.0 20160609\n",
      "OS          : Linux\n",
      "Release     : 5.8.0-38-generic\n",
      "Machine     : x86_64\n",
      "Processor   : x86_64\n",
      "CPU cores   : 8\n",
      "Architecture: 64bit\n",
      "\n",
      " \n",
      "Last updated: Wed Jan 20 2021 19:51:17CET\n",
      "\n"
     ]
    }
   ],
   "source": [
    "%load_ext watermark\n",
    "\n",
    "# python, ipython, packages, and machine characteristics\n",
    "%watermark -v -m -p pandas,keras,numpy,math,tensorflow,matplotlib,h5py\n",
    "\n",
    "# date\n",
    "print (\" \")\n",
    "%watermark -u -n -t -z"
   ]
  },
  {
   "cell_type": "markdown",
   "metadata": {},
   "source": [
    "## Load of the data"
   ]
  },
  {
   "cell_type": "code",
   "execution_count": 3,
   "metadata": {},
   "outputs": [],
   "source": [
    "regen_data = False\n",
    "# If we keep it as false, it's going to just load the data. If true it's going to regenerate the data again "
   ]
  },
  {
   "cell_type": "code",
   "execution_count": 4,
   "metadata": {},
   "outputs": [],
   "source": [
    "if regen_data:\n",
    "    from process import load_generate_data\n",
    "    from process import savedata\n",
    "    regr_data, class_data = load_generate_data(0.1, 5)\n",
    "    savedata(regr_data, \"regression_data.csv\")"
   ]
  },
  {
   "cell_type": "code",
   "execution_count": 5,
   "metadata": {},
   "outputs": [],
   "source": [
    "if not regen_data:\n",
    "    from process import loaddata\n",
    "    regr_data = loaddata(\"regression_data.csv\")"
   ]
  },
  {
   "cell_type": "code",
   "execution_count": 6,
   "metadata": {},
   "outputs": [],
   "source": [
    "np.random.shuffle(regr_data)\n",
    "y = regr_data[:,-6:]\n",
    "x = regr_data[:,:5]"
   ]
  },
  {
   "cell_type": "code",
   "execution_count": 7,
   "metadata": {},
   "outputs": [
    {
     "name": "stdout",
     "output_type": "stream",
     "text": [
      "Training sample: 2169 \n",
      "Valuation sample: 723\n"
     ]
    }
   ],
   "source": [
    "train_split = 0.75\n",
    "train_limit = int(len(y)*train_split)\n",
    "print(\"Training sample: {0} \\nValuation sample: {1}\".format(train_limit, len(y)-train_limit))"
   ]
  },
  {
   "cell_type": "code",
   "execution_count": 8,
   "metadata": {},
   "outputs": [
    {
     "data": {
      "text/plain": [
       "(2892, 5)"
      ]
     },
     "execution_count": 8,
     "metadata": {},
     "output_type": "execute_result"
    }
   ],
   "source": [
    "x.shape"
   ]
  },
  {
   "cell_type": "code",
   "execution_count": 9,
   "metadata": {},
   "outputs": [],
   "source": [
    "x_train = x[:train_limit]\n",
    "x_val = x[train_limit:]\n",
    "\n",
    "y_train = y[:train_limit]\n",
    "y_val = y[train_limit:]"
   ]
  },
  {
   "cell_type": "markdown",
   "metadata": {},
   "source": [
    "## Model Build"
   ]
  },
  {
   "cell_type": "code",
   "execution_count": 10,
   "metadata": {},
   "outputs": [],
   "source": [
    "from keras.models import Sequential\n",
    "from keras.layers.core import Dense\n",
    "import keras.backend as K\n",
    "from keras import optimizers\n",
    "from keras import models\n",
    "from keras import layers"
   ]
  },
  {
   "cell_type": "code",
   "execution_count": 18,
   "metadata": {},
   "outputs": [],
   "source": [
    "def build_model() :\n",
    "    model = models.Sequential()\n",
    "    model.add (layers.Dense (6, activation = \"sigmoid\" , input_shape = x.shape))\n",
    "    model.add(layers.Dropout(0.3))\n",
    "    model.add (layers.Dense (8, activation = \"relu\"))\n",
    "    model.add(layers.Dropout(0.3))\n",
    "    model.add (layers.Dense (6))\n",
    "    model.compile(optimizer = \"rmsprop\" , loss = \"mse\" , metrics =[\"mae\"])\n",
    "    return model"
   ]
  },
  {
   "cell_type": "code",
   "execution_count": 19,
   "metadata": {},
   "outputs": [
    {
     "name": "stdout",
     "output_type": "stream",
     "text": [
      "Epoch 1/60\n",
      "WARNING:tensorflow:Model was constructed with shape (None, 2892, 5) for input KerasTensor(type_spec=TensorSpec(shape=(None, 2892, 5), dtype=tf.float32, name='dense_6_input'), name='dense_6_input', description=\"created by layer 'dense_6_input'\"), but it was called on an input with incompatible shape (None, 5).\n",
      "WARNING:tensorflow:Model was constructed with shape (None, 2892, 5) for input KerasTensor(type_spec=TensorSpec(shape=(None, 2892, 5), dtype=tf.float32, name='dense_6_input'), name='dense_6_input', description=\"created by layer 'dense_6_input'\"), but it was called on an input with incompatible shape (None, 5).\n",
      "1/3 [=========>....................] - ETA: 0s - loss: 0.4285 - mae: 0.5294WARNING:tensorflow:Model was constructed with shape (None, 2892, 5) for input KerasTensor(type_spec=TensorSpec(shape=(None, 2892, 5), dtype=tf.float32, name='dense_6_input'), name='dense_6_input', description=\"created by layer 'dense_6_input'\"), but it was called on an input with incompatible shape (None, 5).\n",
      "3/3 [==============================] - 1s 106ms/step - loss: 0.4170 - mae: 0.5220 - val_loss: 0.2039 - val_mae: 0.4070\n",
      "Epoch 2/60\n",
      "3/3 [==============================] - 0s 20ms/step - loss: 0.3594 - mae: 0.4848 - val_loss: 0.1803 - val_mae: 0.3823\n",
      "Epoch 3/60\n",
      "3/3 [==============================] - 0s 23ms/step - loss: 0.3227 - mae: 0.4555 - val_loss: 0.1628 - val_mae: 0.3622\n",
      "Epoch 4/60\n",
      "3/3 [==============================] - 0s 20ms/step - loss: 0.2929 - mae: 0.4323 - val_loss: 0.1476 - val_mae: 0.3455\n",
      "Epoch 5/60\n",
      "3/3 [==============================] - 0s 22ms/step - loss: 0.2816 - mae: 0.4287 - val_loss: 0.1345 - val_mae: 0.3300\n",
      "Epoch 6/60\n",
      "3/3 [==============================] - 0s 19ms/step - loss: 0.2510 - mae: 0.3987 - val_loss: 0.1231 - val_mae: 0.3159\n",
      "Epoch 7/60\n",
      "3/3 [==============================] - 0s 27ms/step - loss: 0.2296 - mae: 0.3811 - val_loss: 0.1133 - val_mae: 0.3028\n",
      "Epoch 8/60\n",
      "3/3 [==============================] - 0s 20ms/step - loss: 0.2269 - mae: 0.3782 - val_loss: 0.1040 - val_mae: 0.2910\n",
      "Epoch 9/60\n",
      "3/3 [==============================] - 0s 23ms/step - loss: 0.2083 - mae: 0.3621 - val_loss: 0.0956 - val_mae: 0.2785\n",
      "Epoch 10/60\n",
      "3/3 [==============================] - 0s 19ms/step - loss: 0.1935 - mae: 0.3500 - val_loss: 0.0879 - val_mae: 0.2674\n",
      "Epoch 11/60\n",
      "3/3 [==============================] - 0s 21ms/step - loss: 0.1889 - mae: 0.3455 - val_loss: 0.0802 - val_mae: 0.2551\n",
      "Epoch 12/60\n",
      "3/3 [==============================] - 0s 25ms/step - loss: 0.1742 - mae: 0.3306 - val_loss: 0.0735 - val_mae: 0.2445\n",
      "Epoch 13/60\n",
      "3/3 [==============================] - 0s 19ms/step - loss: 0.1619 - mae: 0.3175 - val_loss: 0.0673 - val_mae: 0.2338\n",
      "Epoch 14/60\n",
      "3/3 [==============================] - 0s 23ms/step - loss: 0.1435 - mae: 0.2973 - val_loss: 0.0619 - val_mae: 0.2238\n",
      "Epoch 15/60\n",
      "3/3 [==============================] - 0s 25ms/step - loss: 0.1431 - mae: 0.2986 - val_loss: 0.0566 - val_mae: 0.2139\n",
      "Epoch 16/60\n",
      "3/3 [==============================] - 0s 23ms/step - loss: 0.1305 - mae: 0.2843 - val_loss: 0.0516 - val_mae: 0.2044\n",
      "Epoch 17/60\n",
      "3/3 [==============================] - 0s 27ms/step - loss: 0.1215 - mae: 0.2720 - val_loss: 0.0469 - val_mae: 0.1946\n",
      "Epoch 18/60\n",
      "3/3 [==============================] - 0s 31ms/step - loss: 0.1143 - mae: 0.2656 - val_loss: 0.0425 - val_mae: 0.1843\n",
      "Epoch 19/60\n",
      "3/3 [==============================] - 0s 31ms/step - loss: 0.1097 - mae: 0.2601 - val_loss: 0.0384 - val_mae: 0.1740\n",
      "Epoch 20/60\n",
      "3/3 [==============================] - 0s 28ms/step - loss: 0.1014 - mae: 0.2488 - val_loss: 0.0348 - val_mae: 0.1646\n",
      "Epoch 21/60\n",
      "3/3 [==============================] - 0s 27ms/step - loss: 0.0954 - mae: 0.2417 - val_loss: 0.0313 - val_mae: 0.1553\n",
      "Epoch 22/60\n",
      "3/3 [==============================] - 0s 27ms/step - loss: 0.0911 - mae: 0.2357 - val_loss: 0.0280 - val_mae: 0.1454\n",
      "Epoch 23/60\n",
      "3/3 [==============================] - 0s 33ms/step - loss: 0.0817 - mae: 0.2229 - val_loss: 0.0251 - val_mae: 0.1368\n",
      "Epoch 24/60\n",
      "3/3 [==============================] - 0s 30ms/step - loss: 0.0766 - mae: 0.2154 - val_loss: 0.0225 - val_mae: 0.1280\n",
      "Epoch 25/60\n",
      "3/3 [==============================] - 0s 22ms/step - loss: 0.0727 - mae: 0.2101 - val_loss: 0.0200 - val_mae: 0.1191\n",
      "Epoch 26/60\n",
      "3/3 [==============================] - 0s 23ms/step - loss: 0.0679 - mae: 0.2032 - val_loss: 0.0177 - val_mae: 0.1101\n",
      "Epoch 27/60\n",
      "3/3 [==============================] - 0s 17ms/step - loss: 0.0625 - mae: 0.1946 - val_loss: 0.0157 - val_mae: 0.1028\n",
      "Epoch 28/60\n",
      "3/3 [==============================] - 0s 23ms/step - loss: 0.0576 - mae: 0.1871 - val_loss: 0.0138 - val_mae: 0.0955\n",
      "Epoch 29/60\n",
      "3/3 [==============================] - 0s 24ms/step - loss: 0.0551 - mae: 0.1834 - val_loss: 0.0122 - val_mae: 0.0883\n",
      "Epoch 30/60\n",
      "3/3 [==============================] - 0s 28ms/step - loss: 0.0510 - mae: 0.1763 - val_loss: 0.0107 - val_mae: 0.0815\n",
      "Epoch 31/60\n",
      "3/3 [==============================] - 0s 23ms/step - loss: 0.0450 - mae: 0.1650 - val_loss: 0.0095 - val_mae: 0.0787\n",
      "Epoch 32/60\n",
      "3/3 [==============================] - 0s 29ms/step - loss: 0.0432 - mae: 0.1627 - val_loss: 0.0083 - val_mae: 0.0755\n",
      "Epoch 33/60\n",
      "3/3 [==============================] - 0s 29ms/step - loss: 0.0396 - mae: 0.1555 - val_loss: 0.0073 - val_mae: 0.0729\n",
      "Epoch 34/60\n",
      "3/3 [==============================] - 0s 29ms/step - loss: 0.0383 - mae: 0.1536 - val_loss: 0.0065 - val_mae: 0.0702\n",
      "Epoch 35/60\n",
      "3/3 [==============================] - 0s 30ms/step - loss: 0.0352 - mae: 0.1472 - val_loss: 0.0057 - val_mae: 0.0667\n",
      "Epoch 36/60\n",
      "3/3 [==============================] - 0s 36ms/step - loss: 0.0322 - mae: 0.1412 - val_loss: 0.0051 - val_mae: 0.0636\n",
      "Epoch 37/60\n",
      "3/3 [==============================] - 0s 30ms/step - loss: 0.0305 - mae: 0.1378 - val_loss: 0.0047 - val_mae: 0.0610\n",
      "Epoch 38/60\n",
      "3/3 [==============================] - 0s 29ms/step - loss: 0.0277 - mae: 0.1314 - val_loss: 0.0040 - val_mae: 0.0552\n",
      "Epoch 39/60\n",
      "3/3 [==============================] - 0s 28ms/step - loss: 0.0260 - mae: 0.1278 - val_loss: 0.0035 - val_mae: 0.0510\n",
      "Epoch 40/60\n",
      "3/3 [==============================] - 0s 24ms/step - loss: 0.0243 - mae: 0.1235 - val_loss: 0.0030 - val_mae: 0.0464\n",
      "Epoch 41/60\n",
      "3/3 [==============================] - 0s 20ms/step - loss: 0.0220 - mae: 0.1187 - val_loss: 0.0026 - val_mae: 0.0427\n",
      "Epoch 42/60\n",
      "3/3 [==============================] - 0s 17ms/step - loss: 0.0210 - mae: 0.1158 - val_loss: 0.0023 - val_mae: 0.0395\n",
      "Epoch 43/60\n",
      "3/3 [==============================] - 0s 20ms/step - loss: 0.0201 - mae: 0.1134 - val_loss: 0.0019 - val_mae: 0.0354\n",
      "Epoch 44/60\n",
      "3/3 [==============================] - 0s 18ms/step - loss: 0.0180 - mae: 0.1075 - val_loss: 0.0016 - val_mae: 0.0323\n",
      "Epoch 45/60\n",
      "3/3 [==============================] - 0s 15ms/step - loss: 0.0174 - mae: 0.1056 - val_loss: 0.0013 - val_mae: 0.0307\n",
      "Epoch 46/60\n",
      "3/3 [==============================] - 0s 21ms/step - loss: 0.0162 - mae: 0.1023 - val_loss: 0.0011 - val_mae: 0.0284\n",
      "Epoch 47/60\n",
      "3/3 [==============================] - 0s 20ms/step - loss: 0.0152 - mae: 0.0992 - val_loss: 9.6643e-04 - val_mae: 0.0265\n",
      "Epoch 48/60\n",
      "3/3 [==============================] - 0s 21ms/step - loss: 0.0145 - mae: 0.0969 - val_loss: 7.9607e-04 - val_mae: 0.0237\n",
      "Epoch 49/60\n",
      "3/3 [==============================] - 0s 19ms/step - loss: 0.0128 - mae: 0.0910 - val_loss: 6.8865e-04 - val_mae: 0.0215\n",
      "Epoch 50/60\n",
      "3/3 [==============================] - 0s 18ms/step - loss: 0.0123 - mae: 0.0894 - val_loss: 6.4408e-04 - val_mae: 0.0201\n",
      "Epoch 51/60\n",
      "3/3 [==============================] - 0s 20ms/step - loss: 0.0115 - mae: 0.0860 - val_loss: 6.0871e-04 - val_mae: 0.0197\n",
      "Epoch 52/60\n",
      "3/3 [==============================] - 0s 20ms/step - loss: 0.0109 - mae: 0.0840 - val_loss: 5.7167e-04 - val_mae: 0.0198\n",
      "Epoch 53/60\n",
      "3/3 [==============================] - 0s 29ms/step - loss: 0.0103 - mae: 0.0812 - val_loss: 5.3031e-04 - val_mae: 0.0193\n",
      "Epoch 54/60\n",
      "3/3 [==============================] - 0s 27ms/step - loss: 0.0095 - mae: 0.0778 - val_loss: 5.0310e-04 - val_mae: 0.0190\n",
      "Epoch 55/60\n",
      "3/3 [==============================] - 0s 23ms/step - loss: 0.0089 - mae: 0.0751 - val_loss: 4.8205e-04 - val_mae: 0.0187\n",
      "Epoch 56/60\n"
     ]
    },
    {
     "name": "stdout",
     "output_type": "stream",
     "text": [
      "3/3 [==============================] - 0s 27ms/step - loss: 0.0084 - mae: 0.0723 - val_loss: 4.7278e-04 - val_mae: 0.0185\n",
      "Epoch 57/60\n",
      "3/3 [==============================] - 0s 20ms/step - loss: 0.0078 - mae: 0.0700 - val_loss: 4.7056e-04 - val_mae: 0.0188\n",
      "Epoch 58/60\n",
      "3/3 [==============================] - 0s 16ms/step - loss: 0.0076 - mae: 0.0687 - val_loss: 4.8543e-04 - val_mae: 0.0194\n",
      "Epoch 59/60\n",
      "3/3 [==============================] - 0s 16ms/step - loss: 0.0068 - mae: 0.0650 - val_loss: 5.0368e-04 - val_mae: 0.0200\n",
      "Epoch 60/60\n",
      "3/3 [==============================] - 0s 14ms/step - loss: 0.0064 - mae: 0.0629 - val_loss: 4.9611e-04 - val_mae: 0.0197\n"
     ]
    }
   ],
   "source": [
    "model = build_model()\n",
    "history = model.fit ( x_train, y_train, epochs = 60, batch_size = 1032, validation_data = (x_val, y_val) )\n",
    "model.save(\"regr.h5\")"
   ]
  },
  {
   "cell_type": "code",
   "execution_count": 20,
   "metadata": {
    "scrolled": false
   },
   "outputs": [
    {
     "data": {
      "image/png": "[encoded data removed]",
      "text/plain": [
       "<Figure size 432x288 with 1 Axes>"
      ]
     },
     "metadata": {
      "needs_background": "light"
     },
     "output_type": "display_data"
    }
   ],
   "source": [
    "import matplotlib.pyplot as plt\n",
    "\n",
    "mae = history.history['mae']\n",
    "val_mae = history.history['val_mae']\n",
    "\n",
    "epochs = range(1, len(mae) + 1)\n",
    "\n",
    "plt.plot(epochs, mae, 'bo', label='Training mae')\n",
    "plt.plot(epochs, val_mae, 'b', label='Validation mae')\n",
    "plt.title('Training and validation accuracy')\n",
    "plt.xlabel('Epochs')\n",
    "plt.ylabel('mae')\n",
    "plt.legend()\n",
    "\n",
    "plt.show()"
   ]
  },
  {
   "cell_type": "code",
   "execution_count": 14,
   "metadata": {},
   "outputs": [
    {
     "data": {
      "image/png": "[encoded data removed]",
      "text/plain": [
       "<Figure size 432x288 with 1 Axes>"
      ]
     },
     "metadata": {
      "needs_background": "light"
     },
     "output_type": "display_data"
    }
   ],
   "source": [
    "plt.clf()   # clear figure\n",
    "\n",
    "loss = history.history['loss']\n",
    "val_loss = history.history['val_loss']\n",
    "\n",
    "\n",
    "\n",
    "plt.plot(epochs, loss, 'bo', label='Training loss')\n",
    "plt.plot(epochs, val_loss, 'b', label='Validation loss')\n",
    "plt.title('Training and validation loss')\n",
    "plt.xlabel('Epochs')\n",
    "plt.ylabel('Loss')\n",
    "plt.legend()\n",
    "\n",
    "plt.show()"
   ]
  },
  {
   "cell_type": "markdown",
   "metadata": {},
   "source": [
    "## !! \n",
    "The dropout 0.2 seems to work better"
   ]
  },
  {
   "cell_type": "code",
   "execution_count": 52,
   "metadata": {},
   "outputs": [],
   "source": [
    "def build_model() :\n",
    "    model = models.Sequential()\n",
    "    model.add (layers.Dense (6, activation = \"sigmoid\" , input_shape = x.shape))\n",
    "    model.add(layers.Dropout(0.2))\n",
    "    model.add (layers.Dense (16, activation = \"relu\"))\n",
    "    model.add(layers.Dropout(0.2))\n",
    "    model.add (layers.Dense (6))\n",
    "    model.compile(optimizer = \"rmsprop\" , loss = \"mse\" , metrics =[\"mae\"])\n",
    "    return model"
   ]
  },
  {
   "cell_type": "code",
   "execution_count": 59,
   "metadata": {},
   "outputs": [
    {
     "name": "stdout",
     "output_type": "stream",
     "text": [
      "Epoch 1/100\n",
      "WARNING:tensorflow:Model was constructed with shape (None, 2892, 5) for input KerasTensor(type_spec=TensorSpec(shape=(None, 2892, 5), dtype=tf.float32, name='dense_52_input'), name='dense_52_input', description=\"created by layer 'dense_52_input'\"), but it was called on an input with incompatible shape (None, 5).\n",
      "WARNING:tensorflow:Model was constructed with shape (None, 2892, 5) for input KerasTensor(type_spec=TensorSpec(shape=(None, 2892, 5), dtype=tf.float32, name='dense_52_input'), name='dense_52_input', description=\"created by layer 'dense_52_input'\"), but it was called on an input with incompatible shape (None, 5).\n",
      "1/2 [==============>...............] - ETA: 0s - loss: 0.1143 - mae: 0.2680WARNING:tensorflow:Model was constructed with shape (None, 2892, 5) for input KerasTensor(type_spec=TensorSpec(shape=(None, 2892, 5), dtype=tf.float32, name='dense_52_input'), name='dense_52_input', description=\"created by layer 'dense_52_input'\"), but it was called on an input with incompatible shape (None, 5).\n",
      "2/2 [==============================] - 1s 160ms/step - loss: 0.1103 - mae: 0.2631 - val_loss: 0.0511 - val_mae: 0.1814\n",
      "Epoch 2/100\n",
      "2/2 [==============================] - 0s 32ms/step - loss: 0.0907 - mae: 0.2368 - val_loss: 0.0429 - val_mae: 0.1636\n",
      "Epoch 3/100\n",
      "2/2 [==============================] - 0s 57ms/step - loss: 0.0803 - mae: 0.2220 - val_loss: 0.0370 - val_mae: 0.1496\n",
      "Epoch 4/100\n",
      "2/2 [==============================] - 0s 38ms/step - loss: 0.0721 - mae: 0.2098 - val_loss: 0.0325 - val_mae: 0.1394\n",
      "Epoch 5/100\n",
      "2/2 [==============================] - 0s 54ms/step - loss: 0.0657 - mae: 0.2002 - val_loss: 0.0286 - val_mae: 0.1288\n",
      "Epoch 6/100\n",
      "2/2 [==============================] - 0s 37ms/step - loss: 0.0608 - mae: 0.1917 - val_loss: 0.0249 - val_mae: 0.1173\n",
      "Epoch 7/100\n",
      "2/2 [==============================] - 0s 52ms/step - loss: 0.0551 - mae: 0.1819 - val_loss: 0.0218 - val_mae: 0.1069\n",
      "Epoch 8/100\n",
      "2/2 [==============================] - 0s 63ms/step - loss: 0.0528 - mae: 0.1775 - val_loss: 0.0192 - val_mae: 0.0980\n",
      "Epoch 9/100\n",
      "2/2 [==============================] - 0s 59ms/step - loss: 0.0488 - mae: 0.1701 - val_loss: 0.0169 - val_mae: 0.0893\n",
      "Epoch 10/100\n",
      "2/2 [==============================] - 0s 62ms/step - loss: 0.0460 - mae: 0.1652 - val_loss: 0.0150 - val_mae: 0.0816\n",
      "Epoch 11/100\n",
      "2/2 [==============================] - 0s 58ms/step - loss: 0.0422 - mae: 0.1582 - val_loss: 0.0133 - val_mae: 0.0749\n",
      "Epoch 12/100\n",
      "2/2 [==============================] - 0s 56ms/step - loss: 0.0399 - mae: 0.1537 - val_loss: 0.0118 - val_mae: 0.0704\n",
      "Epoch 13/100\n",
      "2/2 [==============================] - 0s 57ms/step - loss: 0.0364 - mae: 0.1471 - val_loss: 0.0104 - val_mae: 0.0665\n",
      "Epoch 14/100\n",
      "2/2 [==============================] - 0s 59ms/step - loss: 0.0354 - mae: 0.1447 - val_loss: 0.0093 - val_mae: 0.0630\n",
      "Epoch 15/100\n",
      "2/2 [==============================] - 0s 59ms/step - loss: 0.0324 - mae: 0.1388 - val_loss: 0.0083 - val_mae: 0.0592\n",
      "Epoch 16/100\n",
      "2/2 [==============================] - 0s 73ms/step - loss: 0.0304 - mae: 0.1343 - val_loss: 0.0074 - val_mae: 0.0559\n",
      "Epoch 17/100\n",
      "2/2 [==============================] - 0s 64ms/step - loss: 0.0287 - mae: 0.1304 - val_loss: 0.0067 - val_mae: 0.0529\n",
      "Epoch 18/100\n",
      "2/2 [==============================] - 0s 59ms/step - loss: 0.0278 - mae: 0.1283 - val_loss: 0.0060 - val_mae: 0.0496\n",
      "Epoch 19/100\n",
      "2/2 [==============================] - 0s 63ms/step - loss: 0.0256 - mae: 0.1236 - val_loss: 0.0054 - val_mae: 0.0474\n",
      "Epoch 20/100\n",
      "2/2 [==============================] - 0s 67ms/step - loss: 0.0241 - mae: 0.1202 - val_loss: 0.0048 - val_mae: 0.0460\n",
      "Epoch 21/100\n",
      "2/2 [==============================] - 0s 65ms/step - loss: 0.0229 - mae: 0.1172 - val_loss: 0.0044 - val_mae: 0.0445\n",
      "Epoch 22/100\n",
      "2/2 [==============================] - 0s 60ms/step - loss: 0.0215 - mae: 0.1127 - val_loss: 0.0039 - val_mae: 0.0421\n",
      "Epoch 23/100\n",
      "2/2 [==============================] - 0s 63ms/step - loss: 0.0201 - mae: 0.1090 - val_loss: 0.0034 - val_mae: 0.0406\n",
      "Epoch 24/100\n",
      "2/2 [==============================] - 0s 59ms/step - loss: 0.0194 - mae: 0.1073 - val_loss: 0.0031 - val_mae: 0.0398\n",
      "Epoch 25/100\n",
      "2/2 [==============================] - 0s 58ms/step - loss: 0.0181 - mae: 0.1032 - val_loss: 0.0028 - val_mae: 0.0387\n",
      "Epoch 26/100\n",
      "2/2 [==============================] - 0s 55ms/step - loss: 0.0175 - mae: 0.1015 - val_loss: 0.0025 - val_mae: 0.0367\n",
      "Epoch 27/100\n",
      "2/2 [==============================] - 0s 63ms/step - loss: 0.0166 - mae: 0.0991 - val_loss: 0.0022 - val_mae: 0.0356\n",
      "Epoch 28/100\n",
      "2/2 [==============================] - 0s 63ms/step - loss: 0.0158 - mae: 0.0960 - val_loss: 0.0019 - val_mae: 0.0343\n",
      "Epoch 29/100\n",
      "2/2 [==============================] - 0s 63ms/step - loss: 0.0143 - mae: 0.0917 - val_loss: 0.0017 - val_mae: 0.0333\n",
      "Epoch 30/100\n",
      "2/2 [==============================] - 0s 59ms/step - loss: 0.0134 - mae: 0.0888 - val_loss: 0.0015 - val_mae: 0.0326\n",
      "Epoch 31/100\n",
      "2/2 [==============================] - 0s 70ms/step - loss: 0.0129 - mae: 0.0869 - val_loss: 0.0014 - val_mae: 0.0317\n",
      "Epoch 32/100\n",
      "2/2 [==============================] - 0s 65ms/step - loss: 0.0119 - mae: 0.0838 - val_loss: 0.0012 - val_mae: 0.0306\n",
      "Epoch 33/100\n",
      "2/2 [==============================] - 0s 65ms/step - loss: 0.0113 - mae: 0.0820 - val_loss: 0.0011 - val_mae: 0.0286\n",
      "Epoch 34/100\n",
      "2/2 [==============================] - 0s 54ms/step - loss: 0.0110 - mae: 0.0805 - val_loss: 0.0010 - val_mae: 0.0284\n",
      "Epoch 35/100\n",
      "2/2 [==============================] - 0s 60ms/step - loss: 0.0101 - mae: 0.0773 - val_loss: 8.8311e-04 - val_mae: 0.0267\n",
      "Epoch 36/100\n",
      "2/2 [==============================] - 0s 59ms/step - loss: 0.0095 - mae: 0.0749 - val_loss: 7.8553e-04 - val_mae: 0.0250\n",
      "Epoch 37/100\n",
      "2/2 [==============================] - 0s 62ms/step - loss: 0.0085 - mae: 0.0711 - val_loss: 7.3189e-04 - val_mae: 0.0242\n",
      "Epoch 38/100\n",
      "2/2 [==============================] - 0s 65ms/step - loss: 0.0086 - mae: 0.0713 - val_loss: 7.2630e-04 - val_mae: 0.0239\n",
      "Epoch 39/100\n",
      "2/2 [==============================] - 0s 57ms/step - loss: 0.0079 - mae: 0.0684 - val_loss: 6.9245e-04 - val_mae: 0.0228\n",
      "Epoch 40/100\n",
      "2/2 [==============================] - 0s 62ms/step - loss: 0.0075 - mae: 0.0669 - val_loss: 6.4790e-04 - val_mae: 0.0210\n",
      "Epoch 41/100\n",
      "2/2 [==============================] - 0s 59ms/step - loss: 0.0071 - mae: 0.0649 - val_loss: 6.7507e-04 - val_mae: 0.0208\n",
      "Epoch 42/100\n",
      "2/2 [==============================] - 0s 65ms/step - loss: 0.0067 - mae: 0.0630 - val_loss: 6.3353e-04 - val_mae: 0.0202\n",
      "Epoch 43/100\n",
      "2/2 [==============================] - 0s 73ms/step - loss: 0.0065 - mae: 0.0617 - val_loss: 5.8796e-04 - val_mae: 0.0198\n",
      "Epoch 44/100\n",
      "2/2 [==============================] - 0s 52ms/step - loss: 0.0060 - mae: 0.0590 - val_loss: 5.6902e-04 - val_mae: 0.0200\n",
      "Epoch 45/100\n",
      "2/2 [==============================] - 0s 44ms/step - loss: 0.0059 - mae: 0.0582 - val_loss: 5.5691e-04 - val_mae: 0.0199\n",
      "Epoch 46/100\n",
      "2/2 [==============================] - 0s 49ms/step - loss: 0.0055 - mae: 0.0563 - val_loss: 5.4936e-04 - val_mae: 0.0199\n",
      "Epoch 47/100\n",
      "2/2 [==============================] - 0s 48ms/step - loss: 0.0051 - mae: 0.0539 - val_loss: 5.6217e-04 - val_mae: 0.0205\n",
      "Epoch 48/100\n",
      "2/2 [==============================] - 0s 44ms/step - loss: 0.0048 - mae: 0.0522 - val_loss: 5.3700e-04 - val_mae: 0.0201\n",
      "Epoch 49/100\n",
      "2/2 [==============================] - 0s 44ms/step - loss: 0.0048 - mae: 0.0519 - val_loss: 5.6382e-04 - val_mae: 0.0208\n",
      "Epoch 50/100\n",
      "2/2 [==============================] - 0s 41ms/step - loss: 0.0044 - mae: 0.0501 - val_loss: 5.4047e-04 - val_mae: 0.0200\n",
      "Epoch 51/100\n",
      "2/2 [==============================] - 0s 41ms/step - loss: 0.0044 - mae: 0.0492 - val_loss: 5.8399e-04 - val_mae: 0.0207\n",
      "Epoch 52/100\n",
      "2/2 [==============================] - 0s 43ms/step - loss: 0.0039 - mae: 0.0472 - val_loss: 5.8485e-04 - val_mae: 0.0206\n",
      "Epoch 53/100\n",
      "2/2 [==============================] - 0s 40ms/step - loss: 0.0036 - mae: 0.0453 - val_loss: 5.8318e-04 - val_mae: 0.0204\n",
      "Epoch 54/100\n",
      "2/2 [==============================] - 0s 49ms/step - loss: 0.0035 - mae: 0.0441 - val_loss: 6.1248e-04 - val_mae: 0.0214\n",
      "Epoch 55/100\n"
     ]
    },
    {
     "name": "stdout",
     "output_type": "stream",
     "text": [
      "2/2 [==============================] - 0s 45ms/step - loss: 0.0033 - mae: 0.0432 - val_loss: 5.6195e-04 - val_mae: 0.0198\n",
      "Epoch 56/100\n",
      "2/2 [==============================] - 0s 49ms/step - loss: 0.0032 - mae: 0.0422 - val_loss: 5.8162e-04 - val_mae: 0.0204\n",
      "Epoch 57/100\n",
      "2/2 [==============================] - 0s 47ms/step - loss: 0.0030 - mae: 0.0405 - val_loss: 5.4500e-04 - val_mae: 0.0195\n",
      "Epoch 58/100\n",
      "2/2 [==============================] - 0s 54ms/step - loss: 0.0028 - mae: 0.0396 - val_loss: 4.9836e-04 - val_mae: 0.0177\n",
      "Epoch 59/100\n",
      "2/2 [==============================] - 0s 40ms/step - loss: 0.0026 - mae: 0.0383 - val_loss: 5.0170e-04 - val_mae: 0.0182\n",
      "Epoch 60/100\n",
      "2/2 [==============================] - 0s 46ms/step - loss: 0.0025 - mae: 0.0373 - val_loss: 4.6138e-04 - val_mae: 0.0168\n",
      "Epoch 61/100\n",
      "2/2 [==============================] - 0s 41ms/step - loss: 0.0024 - mae: 0.0363 - val_loss: 4.8381e-04 - val_mae: 0.0179\n",
      "Epoch 62/100\n",
      "2/2 [==============================] - 0s 45ms/step - loss: 0.0023 - mae: 0.0357 - val_loss: 4.6254e-04 - val_mae: 0.0170\n",
      "Epoch 63/100\n",
      "2/2 [==============================] - 0s 47ms/step - loss: 0.0022 - mae: 0.0345 - val_loss: 4.4224e-04 - val_mae: 0.0166\n",
      "Epoch 64/100\n",
      "2/2 [==============================] - 0s 43ms/step - loss: 0.0020 - mae: 0.0330 - val_loss: 4.2662e-04 - val_mae: 0.0161\n",
      "Epoch 65/100\n",
      "2/2 [==============================] - 0s 43ms/step - loss: 0.0018 - mae: 0.0316 - val_loss: 3.9270e-04 - val_mae: 0.0150\n",
      "Epoch 66/100\n",
      "2/2 [==============================] - 0s 42ms/step - loss: 0.0017 - mae: 0.0301 - val_loss: 3.8239e-04 - val_mae: 0.0151\n",
      "Epoch 67/100\n",
      "2/2 [==============================] - 0s 48ms/step - loss: 0.0015 - mae: 0.0290 - val_loss: 3.5445e-04 - val_mae: 0.0143\n",
      "Epoch 68/100\n",
      "2/2 [==============================] - 0s 38ms/step - loss: 0.0015 - mae: 0.0282 - val_loss: 3.5276e-04 - val_mae: 0.0146\n",
      "Epoch 69/100\n",
      "2/2 [==============================] - 0s 36ms/step - loss: 0.0014 - mae: 0.0272 - val_loss: 3.2616e-04 - val_mae: 0.0137\n",
      "Epoch 70/100\n",
      "2/2 [==============================] - 0s 35ms/step - loss: 0.0014 - mae: 0.0265 - val_loss: 3.2256e-04 - val_mae: 0.0137\n",
      "Epoch 71/100\n",
      "2/2 [==============================] - 0s 36ms/step - loss: 0.0013 - mae: 0.0259 - val_loss: 2.9402e-04 - val_mae: 0.0128\n",
      "Epoch 72/100\n",
      "2/2 [==============================] - 0s 34ms/step - loss: 0.0012 - mae: 0.0247 - val_loss: 2.6153e-04 - val_mae: 0.0119\n",
      "Epoch 73/100\n",
      "2/2 [==============================] - 0s 38ms/step - loss: 0.0011 - mae: 0.0234 - val_loss: 2.4724e-04 - val_mae: 0.0119\n",
      "Epoch 74/100\n",
      "2/2 [==============================] - 0s 40ms/step - loss: 0.0011 - mae: 0.0232 - val_loss: 2.1678e-04 - val_mae: 0.0105\n",
      "Epoch 75/100\n",
      "2/2 [==============================] - 0s 35ms/step - loss: 9.7900e-04 - mae: 0.0217 - val_loss: 2.0969e-04 - val_mae: 0.0104\n",
      "Epoch 76/100\n",
      "2/2 [==============================] - 0s 33ms/step - loss: 9.2959e-04 - mae: 0.0212 - val_loss: 1.8660e-04 - val_mae: 0.0096\n",
      "Epoch 77/100\n",
      "2/2 [==============================] - 0s 34ms/step - loss: 8.6194e-04 - mae: 0.0205 - val_loss: 1.7535e-04 - val_mae: 0.0091\n",
      "Epoch 78/100\n",
      "2/2 [==============================] - 0s 39ms/step - loss: 7.4641e-04 - mae: 0.0187 - val_loss: 1.5692e-04 - val_mae: 0.0082\n",
      "Epoch 79/100\n",
      "2/2 [==============================] - 0s 35ms/step - loss: 7.7528e-04 - mae: 0.0188 - val_loss: 1.5032e-04 - val_mae: 0.0082\n",
      "Epoch 80/100\n",
      "2/2 [==============================] - 0s 37ms/step - loss: 7.4678e-04 - mae: 0.0180 - val_loss: 1.4553e-04 - val_mae: 0.0083\n",
      "Epoch 81/100\n",
      "2/2 [==============================] - 0s 35ms/step - loss: 6.5098e-04 - mae: 0.0171 - val_loss: 1.3526e-04 - val_mae: 0.0081\n",
      "Epoch 82/100\n",
      "2/2 [==============================] - 0s 33ms/step - loss: 5.8072e-04 - mae: 0.0160 - val_loss: 1.2283e-04 - val_mae: 0.0074\n",
      "Epoch 83/100\n",
      "2/2 [==============================] - 0s 37ms/step - loss: 5.6923e-04 - mae: 0.0154 - val_loss: 1.2617e-04 - val_mae: 0.0080\n",
      "Epoch 84/100\n",
      "2/2 [==============================] - 0s 50ms/step - loss: 5.0855e-04 - mae: 0.0144 - val_loss: 1.1889e-04 - val_mae: 0.0075\n",
      "Epoch 85/100\n",
      "2/2 [==============================] - 0s 38ms/step - loss: 5.0233e-04 - mae: 0.0137 - val_loss: 1.1417e-04 - val_mae: 0.0079\n",
      "Epoch 86/100\n",
      "2/2 [==============================] - 0s 37ms/step - loss: 4.9702e-04 - mae: 0.0136 - val_loss: 9.0264e-05 - val_mae: 0.0066\n",
      "Epoch 87/100\n",
      "2/2 [==============================] - 0s 37ms/step - loss: 4.0500e-04 - mae: 0.0123 - val_loss: 7.7434e-05 - val_mae: 0.0062\n",
      "Epoch 88/100\n",
      "2/2 [==============================] - 0s 43ms/step - loss: 3.7762e-04 - mae: 0.0116 - val_loss: 7.0923e-05 - val_mae: 0.0063\n",
      "Epoch 89/100\n",
      "2/2 [==============================] - 0s 48ms/step - loss: 3.4184e-04 - mae: 0.0111 - val_loss: 5.9813e-05 - val_mae: 0.0057\n",
      "Epoch 90/100\n",
      "2/2 [==============================] - 0s 40ms/step - loss: 3.3928e-04 - mae: 0.0110 - val_loss: 4.9730e-05 - val_mae: 0.0054\n",
      "Epoch 91/100\n",
      "2/2 [==============================] - 0s 42ms/step - loss: 3.1638e-04 - mae: 0.0107 - val_loss: 4.0242e-05 - val_mae: 0.0047\n",
      "Epoch 92/100\n",
      "2/2 [==============================] - 0s 48ms/step - loss: 3.2742e-04 - mae: 0.0101 - val_loss: 3.9352e-05 - val_mae: 0.0050\n",
      "Epoch 93/100\n",
      "2/2 [==============================] - 0s 41ms/step - loss: 2.7480e-04 - mae: 0.0094 - val_loss: 2.8927e-05 - val_mae: 0.0041\n",
      "Epoch 94/100\n",
      "2/2 [==============================] - 0s 41ms/step - loss: 2.7251e-04 - mae: 0.0093 - val_loss: 2.3954e-05 - val_mae: 0.0038\n",
      "Epoch 95/100\n",
      "2/2 [==============================] - 0s 48ms/step - loss: 2.4460e-04 - mae: 0.0085 - val_loss: 1.9566e-05 - val_mae: 0.0034\n",
      "Epoch 96/100\n",
      "2/2 [==============================] - 0s 40ms/step - loss: 2.4106e-04 - mae: 0.0084 - val_loss: 1.6924e-05 - val_mae: 0.0033\n",
      "Epoch 97/100\n",
      "2/2 [==============================] - 0s 43ms/step - loss: 2.0752e-04 - mae: 0.0076 - val_loss: 1.3208e-05 - val_mae: 0.0029\n",
      "Epoch 98/100\n",
      "2/2 [==============================] - 0s 45ms/step - loss: 1.7055e-04 - mae: 0.0068 - val_loss: 1.0847e-05 - val_mae: 0.0026\n",
      "Epoch 99/100\n",
      "2/2 [==============================] - 0s 42ms/step - loss: 1.9803e-04 - mae: 0.0071 - val_loss: 1.0309e-05 - val_mae: 0.0027\n",
      "Epoch 100/100\n",
      "2/2 [==============================] - 0s 82ms/step - loss: 1.8482e-04 - mae: 0.0069 - val_loss: 9.6183e-06 - val_mae: 0.0026\n"
     ]
    }
   ],
   "source": [
    "model = build_model ()\n",
    "history = model.fit ( x_train, y_train, epochs = 100, batch_size = 1232, validation_data = (x_val, y_val) )\n",
    "model.save(\"regr.h5\")"
   ]
  },
  {
   "cell_type": "code",
   "execution_count": 60,
   "metadata": {
    "scrolled": false
   },
   "outputs": [
    {
     "data": {
      "image/png": "[encoded data removed]",
      "text/plain": [
       "<Figure size 432x288 with 1 Axes>"
      ]
     },
     "metadata": {
      "needs_background": "light"
     },
     "output_type": "display_data"
    }
   ],
   "source": [
    "import matplotlib.pyplot as plt\n",
    "\n",
    "mae = history.history['mae']\n",
    "val_mae = history.history['val_mae']\n",
    "\n",
    "epochs = range(1, len(mae) + 1)\n",
    "\n",
    "plt.plot(epochs, mae, 'bo', label='Training mae')\n",
    "plt.plot(epochs, val_mae, 'b', label='Validation mae')\n",
    "plt.title('Training and validation accuracy')\n",
    "plt.xlabel('Epochs')\n",
    "plt.ylabel('mae')\n",
    "plt.legend()\n",
    "\n",
    "plt.show()"
   ]
  },
  {
   "cell_type": "code",
   "execution_count": null,
   "metadata": {},
   "outputs": [],
   "source": []
  },
  {
   "cell_type": "code",
   "execution_count": null,
   "metadata": {},
   "outputs": [],
   "source": []
  },
  {
   "cell_type": "code",
   "execution_count": null,
   "metadata": {},
   "outputs": [],
   "source": []
  }
 ],
 "metadata": {
  "kernelspec": {
   "display_name": "Python 3",
   "language": "python",
   "name": "python3"
  },
  "language_info": {
   "codemirror_mode": {
    "name": "ipython",
    "version": 3
   },
   "file_extension": ".py",
   "mimetype": "text/x-python",
   "name": "python",
   "nbconvert_exporter": "python",
   "pygments_lexer": "ipython3",
   "version": "3.7.7"
  }
 },
 "nbformat": 4,
 "nbformat_minor": 4
}
